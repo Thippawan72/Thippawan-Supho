{
  "cells": [
    {
      "cell_type": "markdown",
      "metadata": {
        "id": "view-in-github",
        "colab_type": "text"
      },
      "source": [
        "<a href=\"https://colab.research.google.com/github/Thippawan72/Thippawan-Supho/blob/main/02_Python101.ipynb\" target=\"_parent\"><img src=\"https://colab.research.google.com/assets/colab-badge.svg\" alt=\"Open In Colab\"/></a>"
      ]
    },
    {
      "cell_type": "markdown",
      "id": "b34f60d4",
      "metadata": {
        "id": "b34f60d4"
      },
      "source": [
        "# Introduction to Python Coding 🐍"
      ]
    },
    {
      "cell_type": "code",
      "execution_count": 1,
      "id": "a65d6619",
      "metadata": {
        "id": "a65d6619",
        "outputId": "c4de159b-311f-44e6-cc25-8d7ae4455409",
        "colab": {
          "base_uri": "https://localhost:8080/"
        }
      },
      "outputs": [
        {
          "output_type": "stream",
          "name": "stdout",
          "text": [
            "My first Python code!\n",
            "Python is easier than I expected!!!\n"
          ]
        }
      ],
      "source": [
        "print (\"My first Python code!\")\n",
        "print (\"Python is easier than I expected!!!\")"
      ]
    },
    {
      "cell_type": "markdown",
      "id": "c23476ec",
      "metadata": {
        "id": "c23476ec"
      },
      "source": [
        "To check your Python version and other extensions' version"
      ]
    },
    {
      "cell_type": "code",
      "execution_count": 2,
      "id": "4570fc63",
      "metadata": {
        "scrolled": false,
        "id": "4570fc63",
        "outputId": "01494f3f-48f9-407b-f8ac-2eafcfa2336f",
        "colab": {
          "base_uri": "https://localhost:8080/"
        }
      },
      "outputs": [
        {
          "output_type": "stream",
          "name": "stdout",
          "text": [
            "Python 3.10.12\n"
          ]
        }
      ],
      "source": [
        "!python --version"
      ]
    },
    {
      "cell_type": "code",
      "execution_count": 3,
      "id": "c587b2ce",
      "metadata": {
        "scrolled": true,
        "id": "c587b2ce",
        "outputId": "50b9cd92-8b91-45a0-ecb0-75536d134bc7",
        "colab": {
          "base_uri": "https://localhost:8080/",
          "height": 420
        }
      },
      "outputs": [
        {
          "output_type": "stream",
          "name": "stdout",
          "text": [
            "Collecting version_information\n",
            "  Downloading version_information-1.0.4.tar.gz (3.8 kB)\n",
            "  Preparing metadata (setup.py) ... \u001b[?25l\u001b[?25hdone\n",
            "Building wheels for collected packages: version_information\n",
            "  Building wheel for version_information (setup.py) ... \u001b[?25l\u001b[?25hdone\n",
            "  Created wheel for version_information: filename=version_information-1.0.4-py3-none-any.whl size=3894 sha256=8c6090ffcbdd3a8a8841d8d12a95d281435bc07adb6d17605b4eea9d507422d1\n",
            "  Stored in directory: /root/.cache/pip/wheels/81/48/43/91109adffe66267dfa0c5c27c05269409bc131d850c0fd386b\n",
            "Successfully built version_information\n",
            "Installing collected packages: version_information\n",
            "Successfully installed version_information-1.0.4\n"
          ]
        },
        {
          "output_type": "execute_result",
          "data": {
            "text/plain": [
              "Software versions\n",
              "Python 3.10.12 64bit [GCC 11.4.0]\n",
              "IPython 7.34.0\n",
              "OS Linux 5.15.109+ x86_64 with glibc2.35\n",
              "numpy 1.23.5\n",
              "scipy 1.10.1\n",
              "matplotlib 3.7.1\n",
              "sympy 1.12\n",
              "version_information 1.0.4\n",
              "Thu Sep 07 03:12:57 2023 UTC"
            ],
            "text/html": [
              "<table><tr><th>Software</th><th>Version</th></tr><tr><td>Python</td><td>3.10.12 64bit [GCC 11.4.0]</td></tr><tr><td>IPython</td><td>7.34.0</td></tr><tr><td>OS</td><td>Linux 5.15.109+ x86\\_64 with glibc2.35</td></tr><tr><td>numpy</td><td>1.23.5</td></tr><tr><td>scipy</td><td>1.10.1</td></tr><tr><td>matplotlib</td><td>3.7.1</td></tr><tr><td>sympy</td><td>1.12</td></tr><tr><td>version_information</td><td>1.0.4</td></tr><tr><td colspan='2'>Thu Sep 07 03:12:57 2023 UTC</td></tr></table>"
            ],
            "text/latex": "\\begin{tabular}{|l|l|}\\hline\n{\\bf Software} & {\\bf Version} \\\\ \\hline\\hline\nPython & 3.10.12 64bit [GCC 11.4.0] \\\\ \\hline\nIPython & 7.34.0 \\\\ \\hline\nOS & Linux 5.15.109+ x86\\_64 with glibc2.35 \\\\ \\hline\nnumpy & 1.23.5 \\\\ \\hline\nscipy & 1.10.1 \\\\ \\hline\nmatplotlib & 3.7.1 \\\\ \\hline\nsympy & 1.12 \\\\ \\hline\nversion_information & 1.0.4 \\\\ \\hline\n\\hline \\multicolumn{2}{|l|}{Thu Sep 07 03:12:57 2023 UTC} \\\\ \\hline\n\\end{tabular}\n",
            "application/json": {
              "Software versions": [
                {
                  "module": "Python",
                  "version": "3.10.12 64bit [GCC 11.4.0]"
                },
                {
                  "module": "IPython",
                  "version": "7.34.0"
                },
                {
                  "module": "OS",
                  "version": "Linux 5.15.109+ x86_64 with glibc2.35"
                },
                {
                  "module": "numpy",
                  "version": "1.23.5"
                },
                {
                  "module": "scipy",
                  "version": "1.10.1"
                },
                {
                  "module": "matplotlib",
                  "version": "3.7.1"
                },
                {
                  "module": "sympy",
                  "version": "1.12"
                },
                {
                  "module": "version_information",
                  "version": "1.0.4"
                }
              ]
            }
          },
          "metadata": {},
          "execution_count": 3
        }
      ],
      "source": [
        "!pip install --upgrade version_information\n",
        "%load_ext version_information\n",
        "%version_information numpy, scipy, matplotlib, sympy, version_information"
      ]
    },
    {
      "cell_type": "markdown",
      "id": "91821147",
      "metadata": {
        "id": "91821147"
      },
      "source": [
        "To install this IPython extension"
      ]
    },
    {
      "cell_type": "code",
      "execution_count": 4,
      "id": "2623a94c",
      "metadata": {
        "id": "2623a94c",
        "outputId": "f28e019d-c68b-4f1c-f6f6-b3d01f074723",
        "colab": {
          "base_uri": "https://localhost:8080/"
        }
      },
      "outputs": [
        {
          "output_type": "stream",
          "name": "stdout",
          "text": [
            "Requirement already satisfied: version_information in /usr/local/lib/python3.10/dist-packages (1.0.4)\n"
          ]
        }
      ],
      "source": [
        "# you only need to do this once\n",
        "!pip install --upgrade version_information"
      ]
    },
    {
      "cell_type": "markdown",
      "id": "37ed3673",
      "metadata": {
        "id": "37ed3673"
      },
      "source": [
        "You may sometimes encounter this error. \\\n",
        "`ModuleNotFoundError: No module named 'pandas' in Python`"
      ]
    },
    {
      "cell_type": "markdown",
      "id": "28559d2e",
      "metadata": {
        "id": "28559d2e"
      },
      "source": [
        "If you cannot import due to your computer cannot find, try installing the library using `pip install <library-name>`.\n",
        "\n",
        "Begin the line with `!` to direct your code to command line"
      ]
    },
    {
      "cell_type": "code",
      "execution_count": 5,
      "id": "25a1a572",
      "metadata": {
        "scrolled": false,
        "id": "25a1a572",
        "outputId": "51f7868b-809d-4be6-98e4-361d5f36926a",
        "colab": {
          "base_uri": "https://localhost:8080/"
        }
      },
      "outputs": [
        {
          "output_type": "stream",
          "name": "stdout",
          "text": [
            "Requirement already satisfied: pandas in /usr/local/lib/python3.10/dist-packages (1.5.3)\n",
            "Requirement already satisfied: python-dateutil>=2.8.1 in /usr/local/lib/python3.10/dist-packages (from pandas) (2.8.2)\n",
            "Requirement already satisfied: pytz>=2020.1 in /usr/local/lib/python3.10/dist-packages (from pandas) (2023.3)\n",
            "Requirement already satisfied: numpy>=1.21.0 in /usr/local/lib/python3.10/dist-packages (from pandas) (1.23.5)\n",
            "Requirement already satisfied: six>=1.5 in /usr/local/lib/python3.10/dist-packages (from python-dateutil>=2.8.1->pandas) (1.16.0)\n"
          ]
        }
      ],
      "source": [
        "!pip install pandas"
      ]
    },
    {
      "cell_type": "markdown",
      "id": "0ff30d71",
      "metadata": {
        "id": "0ff30d71"
      },
      "source": [
        "Help with functions"
      ]
    },
    {
      "cell_type": "code",
      "execution_count": 6,
      "id": "645cf28d",
      "metadata": {
        "id": "645cf28d",
        "outputId": "db6b462f-c5f0-4af3-a1db-f64631760796",
        "colab": {
          "base_uri": "https://localhost:8080/"
        }
      },
      "outputs": [
        {
          "output_type": "stream",
          "name": "stdout",
          "text": [
            "Help on built-in function abs in module builtins:\n",
            "\n",
            "abs(x, /)\n",
            "    Return the absolute value of the argument.\n",
            "\n"
          ]
        }
      ],
      "source": [
        "help(abs)"
      ]
    },
    {
      "cell_type": "code",
      "execution_count": 7,
      "id": "2fc29811",
      "metadata": {
        "scrolled": true,
        "id": "2fc29811",
        "outputId": "1f5b227c-908a-4590-df6b-5be6480f9aa2",
        "colab": {
          "base_uri": "https://localhost:8080/"
        }
      },
      "outputs": [
        {
          "output_type": "stream",
          "name": "stdout",
          "text": [
            "Return the absolute value of the argument.\n"
          ]
        }
      ],
      "source": [
        "print(abs.__doc__)"
      ]
    },
    {
      "cell_type": "markdown",
      "id": "3ad5d97b",
      "metadata": {
        "id": "3ad5d97b"
      },
      "source": [
        "## Variables"
      ]
    },
    {
      "cell_type": "markdown",
      "id": "3d17d89b",
      "metadata": {
        "id": "3d17d89b"
      },
      "source": [
        "ข้อกำหนดในการตั้งชื่อตัวแปร\n",
        "\n",
        "* ชื่อห้ามมีเว้นวรรค\n",
        "* (พยายาม)ใช้ภาษาอังกฤษ\n",
        "* ตัวเล็กกับตัวใหญ่ แตกต่างกัน (case sensitive)\n",
        "* ห้ามใช้ตัวเลขเป็นตัวหน้า"
      ]
    },
    {
      "cell_type": "code",
      "execution_count": 8,
      "id": "1cbef2b9",
      "metadata": {
        "id": "1cbef2b9"
      },
      "outputs": [],
      "source": [
        "variable_a = 12\n",
        "variable_b = 3.14\n",
        "variable_c = \"1\" # ' (quote) หรือ \" (double quote)\n",
        "variable_d = 'Learning Pandas'\n",
        "variable_e = True\n",
        "variable_f = None"
      ]
    },
    {
      "cell_type": "code",
      "execution_count": 9,
      "id": "e3d01094",
      "metadata": {
        "id": "e3d01094",
        "outputId": "93c33055-bc37-42f4-bbae-2582417a8527",
        "colab": {
          "base_uri": "https://localhost:8080/"
        }
      },
      "outputs": [
        {
          "output_type": "stream",
          "name": "stdout",
          "text": [
            "15.14\n"
          ]
        }
      ],
      "source": [
        "variable_ab = variable_a + variable_b\n",
        "print(variable_ab)"
      ]
    },
    {
      "cell_type": "code",
      "execution_count": 10,
      "id": "8abfe56c",
      "metadata": {
        "id": "8abfe56c",
        "outputId": "d04cbcc4-1c04-4190-e223-742d773fcfa5",
        "colab": {
          "base_uri": "https://localhost:8080/"
        }
      },
      "outputs": [
        {
          "output_type": "stream",
          "name": "stdout",
          "text": [
            "<class 'int'>\n",
            "<class 'float'>\n",
            "<class 'str'>\n",
            "<class 'str'>\n",
            "<class 'bool'>\n",
            "<class 'NoneType'>\n"
          ]
        }
      ],
      "source": [
        "print(type(variable_a))\n",
        "print(type(variable_b))\n",
        "print(type(variable_c))\n",
        "print(type(variable_d))\n",
        "print(type(variable_e))\n",
        "print(type(variable_f))"
      ]
    },
    {
      "cell_type": "markdown",
      "id": "65599e83",
      "metadata": {
        "id": "65599e83"
      },
      "source": [
        "Use functions: `int()`, `float()`, `str()`, `list()`, `tuple()`, `set()`, `complex()`, `ord()`, `hex()`, `oct()`, `dict()`, etc. to change type of object (type casting) in Python"
      ]
    },
    {
      "cell_type": "code",
      "source": [
        "print( float(variable_c), type(float(variable_c)) )"
      ],
      "metadata": {
        "colab": {
          "base_uri": "https://localhost:8080/"
        },
        "id": "c-GEDozis-Td",
        "outputId": "645044f5-3748-47b7-c84f-1d898d078f86"
      },
      "id": "c-GEDozis-Td",
      "execution_count": 11,
      "outputs": [
        {
          "output_type": "stream",
          "name": "stdout",
          "text": [
            "1.0 <class 'float'>\n"
          ]
        }
      ]
    },
    {
      "cell_type": "code",
      "execution_count": 12,
      "id": "91104de1",
      "metadata": {
        "id": "91104de1",
        "outputId": "7ad8d1e5-175b-41e6-ca0d-c9bbccd72f72",
        "colab": {
          "base_uri": "https://localhost:8080/"
        }
      },
      "outputs": [
        {
          "output_type": "stream",
          "name": "stdout",
          "text": [
            "1 <class 'str'>\n",
            "1 <class 'int'>\n"
          ]
        }
      ],
      "source": [
        "print(variable_c, type(variable_c))\n",
        "new_c = int(variable_c)\n",
        "print(new_c, type(new_c))"
      ]
    },
    {
      "cell_type": "code",
      "execution_count": 13,
      "id": "997c9e27",
      "metadata": {
        "id": "997c9e27",
        "outputId": "6a5bf7f4-49c1-4a11-b68d-1113594efbea",
        "colab": {
          "base_uri": "https://localhost:8080/",
          "height": 142
        }
      },
      "outputs": [
        {
          "output_type": "error",
          "ename": "SyntaxError",
          "evalue": "ignored",
          "traceback": [
            "\u001b[0;36m  File \u001b[0;32m\"<ipython-input-13-ec5a2d0ae2f7>\"\u001b[0;36m, line \u001b[0;32m1\u001b[0m\n\u001b[0;31m    variable g = 1\u001b[0m\n\u001b[0m             ^\u001b[0m\n\u001b[0;31mSyntaxError\u001b[0m\u001b[0;31m:\u001b[0m invalid syntax\n"
          ]
        }
      ],
      "source": [
        "variable g = 1"
      ]
    },
    {
      "cell_type": "code",
      "execution_count": 14,
      "id": "fa62aca5",
      "metadata": {
        "id": "fa62aca5",
        "outputId": "6861ec70-5f45-467c-e88d-f0f8ecf44de2",
        "colab": {
          "base_uri": "https://localhost:8080/"
        }
      },
      "outputs": [
        {
          "output_type": "execute_result",
          "data": {
            "text/plain": [
              "False"
            ]
          },
          "metadata": {},
          "execution_count": 14
        }
      ],
      "source": [
        "x = 8\n",
        "X = 1e-02\n",
        "x == X"
      ]
    },
    {
      "cell_type": "code",
      "execution_count": 15,
      "id": "829e716a",
      "metadata": {
        "id": "829e716a",
        "outputId": "8297d1e9-14c5-4503-99a1-1ed2b9f7e23c",
        "colab": {
          "base_uri": "https://localhost:8080/",
          "height": 176
        }
      },
      "outputs": [
        {
          "output_type": "error",
          "ename": "NameError",
          "evalue": "ignored",
          "traceback": [
            "\u001b[0;31m---------------------------------------------------------------------------\u001b[0m",
            "\u001b[0;31mNameError\u001b[0m                                 Traceback (most recent call last)",
            "\u001b[0;32m<ipython-input-15-9063a9f0e032>\u001b[0m in \u001b[0;36m<cell line: 1>\u001b[0;34m()\u001b[0m\n\u001b[0;32m----> 1\u001b[0;31m \u001b[0my\u001b[0m\u001b[0;34m\u001b[0m\u001b[0;34m\u001b[0m\u001b[0m\n\u001b[0m",
            "\u001b[0;31mNameError\u001b[0m: name 'y' is not defined"
          ]
        }
      ],
      "source": [
        "y"
      ]
    },
    {
      "cell_type": "markdown",
      "id": "e1c36d58",
      "metadata": {
        "id": "e1c36d58"
      },
      "source": [
        "## Operations"
      ]
    },
    {
      "cell_type": "markdown",
      "id": "2ad68831",
      "metadata": {
        "id": "2ad68831"
      },
      "source": [
        "| Operator | Operation | Example |\n",
        "|---|---|---|\n",
        "| + | Addition | 5 + 2 = 7 |\n",
        "| - | Subtraction | 4 - 2 = 2 |\n",
        "| * | Multiplication | 2 * 3 = 6 |\n",
        "| / | Division | 4 / 2 = 2 |\n",
        "| // | Floor Division | 10 // 3 = 3 |\n",
        "| % | Modulo | 5 % 2 = 1 |\n",
        "| ** | Power | 4 ** 2 = 16 |"
      ]
    },
    {
      "cell_type": "code",
      "execution_count": 16,
      "id": "99d38648",
      "metadata": {
        "id": "99d38648",
        "outputId": "433e317e-41bc-471e-bcd7-bf764aeecb15",
        "colab": {
          "base_uri": "https://localhost:8080/"
        }
      },
      "outputs": [
        {
          "output_type": "stream",
          "name": "stdout",
          "text": [
            "-1 5 1 3.5 3 16\n"
          ]
        }
      ],
      "source": [
        "print(-1, 2+3, 7%3, 7/2, 7//2, 2**4)"
      ]
    },
    {
      "cell_type": "markdown",
      "id": "8477d0de",
      "metadata": {
        "id": "8477d0de"
      },
      "source": [
        "![order of operations](https://s3.amazonaws.com/cloudxlab/static/images/course/python-foundation-course/pemdas.png)"
      ]
    },
    {
      "cell_type": "code",
      "execution_count": 17,
      "id": "16517ac6",
      "metadata": {
        "scrolled": true,
        "id": "16517ac6",
        "outputId": "d745ae5a-eb17-4870-ab05-421ecaf1ae63",
        "colab": {
          "base_uri": "https://localhost:8080/"
        }
      },
      "outputs": [
        {
          "output_type": "execute_result",
          "data": {
            "text/plain": [
              "35.0"
            ]
          },
          "metadata": {},
          "execution_count": 17
        }
      ],
      "source": [
        "43 + 13 - 9 / 3 * 7"
      ]
    },
    {
      "cell_type": "markdown",
      "id": "6be7f124",
      "metadata": {
        "id": "6be7f124"
      },
      "source": [
        "| Operator | Name | Example |\n",
        "|---|---|---|\n",
        "| = | Assignment Operator | a = 7 |\n",
        "| += | Addition Assignment | a += 1 # a = a + 1 |\n",
        "| -= | Subtraction Assignment | a -= 3 # a = a - 3 |\n",
        "| *= | Multiplication Assignment | a *= 4 # a = a * 4 |\n",
        "| /= | Division Assignment | a /= 3 # a = a / 3 |\n",
        "| %= | Remainder Assignment | a %= 10 # a = a % 10 |\n",
        "| **= | Exponent Assignment | a **= 10 # a = a ** 10 |"
      ]
    },
    {
      "cell_type": "code",
      "execution_count": 18,
      "id": "8ed8defa",
      "metadata": {
        "id": "8ed8defa"
      },
      "outputs": [],
      "source": [
        "a = 10\n",
        "b = 5"
      ]
    },
    {
      "cell_type": "code",
      "execution_count": 19,
      "id": "ae1e081f",
      "metadata": {
        "id": "ae1e081f",
        "outputId": "920f4d11-5997-4263-def3-b5b15c2b4dc1",
        "colab": {
          "base_uri": "https://localhost:8080/"
        }
      },
      "outputs": [
        {
          "output_type": "stream",
          "name": "stdout",
          "text": [
            "15\n"
          ]
        }
      ],
      "source": [
        "a += b      # a = a + b\n",
        "print(a)"
      ]
    },
    {
      "cell_type": "code",
      "source": [
        "a *= b\n",
        "print(a)"
      ],
      "metadata": {
        "colab": {
          "base_uri": "https://localhost:8080/"
        },
        "id": "S2TPvrqIvaUF",
        "outputId": "90eaea91-0b01-4f36-deda-7a0529aab02d"
      },
      "id": "S2TPvrqIvaUF",
      "execution_count": 20,
      "outputs": [
        {
          "output_type": "stream",
          "name": "stdout",
          "text": [
            "75\n"
          ]
        }
      ]
    },
    {
      "cell_type": "markdown",
      "id": "523a0821",
      "metadata": {
        "id": "523a0821"
      },
      "source": [
        "| Operator | Meaning | Example |\n",
        "| --- | --- | --- |\n",
        "| == | Is Equal To | 3 == 5 results in False |\n",
        "| != | Not Equal To | 3 != 5 results in True |\n",
        "| > | Greater Than | 3 > 5 results in False |\n",
        "| < | Less Than | 3 < 5 results in True |\n",
        "| >= | Greater Than or Equal To | 3 >= 5 results in False |\n",
        "| <= | Less Than or Equal To | 3 <= 5 results in True |"
      ]
    },
    {
      "cell_type": "code",
      "execution_count": 21,
      "id": "a445caa4",
      "metadata": {
        "scrolled": true,
        "id": "a445caa4",
        "outputId": "faa2cf7c-7e25-4edc-ca25-9e67d436c491",
        "colab": {
          "base_uri": "https://localhost:8080/"
        }
      },
      "outputs": [
        {
          "output_type": "stream",
          "name": "stdout",
          "text": [
            "True False True False\n"
          ]
        }
      ],
      "source": [
        "print(3 <= 4, 3 == 4, 3 != 4, 3 > 4)"
      ]
    },
    {
      "cell_type": "code",
      "execution_count": 22,
      "id": "eedf9db8",
      "metadata": {
        "id": "eedf9db8",
        "outputId": "79f8cfb6-5d3f-4bdb-f7da-55f279c778e2",
        "colab": {
          "base_uri": "https://localhost:8080/"
        }
      },
      "outputs": [
        {
          "output_type": "execute_result",
          "data": {
            "text/plain": [
              "True"
            ]
          },
          "metadata": {},
          "execution_count": 22
        }
      ],
      "source": [
        "True == 1"
      ]
    },
    {
      "cell_type": "code",
      "execution_count": 23,
      "id": "19dc7e6c",
      "metadata": {
        "id": "19dc7e6c",
        "outputId": "46f7ceb6-8002-44e0-c403-3356a8fe28f9",
        "colab": {
          "base_uri": "https://localhost:8080/"
        }
      },
      "outputs": [
        {
          "output_type": "execute_result",
          "data": {
            "text/plain": [
              "True"
            ]
          },
          "metadata": {},
          "execution_count": 23
        }
      ],
      "source": [
        "False == 0"
      ]
    },
    {
      "cell_type": "code",
      "execution_count": 24,
      "id": "43d38646",
      "metadata": {
        "id": "43d38646",
        "outputId": "7a855813-1862-4fb3-f73c-304cbd7fd7aa",
        "colab": {
          "base_uri": "https://localhost:8080/"
        }
      },
      "outputs": [
        {
          "output_type": "execute_result",
          "data": {
            "text/plain": [
              "True"
            ]
          },
          "metadata": {},
          "execution_count": 24
        }
      ],
      "source": [
        "2 == 2.000000"
      ]
    },
    {
      "cell_type": "code",
      "execution_count": 25,
      "id": "3fff9d16",
      "metadata": {
        "scrolled": true,
        "id": "3fff9d16",
        "outputId": "6b093ab1-d79d-4907-9ee3-2cd119c733df",
        "colab": {
          "base_uri": "https://localhost:8080/"
        }
      },
      "outputs": [
        {
          "output_type": "execute_result",
          "data": {
            "text/plain": [
              "True"
            ]
          },
          "metadata": {},
          "execution_count": 25
        }
      ],
      "source": [
        "2 == 2.0000000000000000001"
      ]
    },
    {
      "cell_type": "code",
      "execution_count": 26,
      "id": "1f41ce1b",
      "metadata": {
        "id": "1f41ce1b",
        "outputId": "c412235c-b235-4acb-9005-e1ad089c6a10",
        "colab": {
          "base_uri": "https://localhost:8080/"
        }
      },
      "outputs": [
        {
          "output_type": "execute_result",
          "data": {
            "text/plain": [
              "False"
            ]
          },
          "metadata": {},
          "execution_count": 26
        }
      ],
      "source": [
        "2 == 2.001"
      ]
    },
    {
      "cell_type": "code",
      "execution_count": 27,
      "id": "a68ce781",
      "metadata": {
        "id": "a68ce781",
        "outputId": "751f78a1-bd9c-40ae-f6c7-6fdabe796539",
        "colab": {
          "base_uri": "https://localhost:8080/"
        }
      },
      "outputs": [
        {
          "output_type": "stream",
          "name": "stdout",
          "text": [
            "Help on built-in function isclose in module math:\n",
            "\n",
            "isclose(a, b, *, rel_tol=1e-09, abs_tol=0.0)\n",
            "    Determine whether two floating point numbers are close in value.\n",
            "    \n",
            "      rel_tol\n",
            "        maximum difference for being considered \"close\", relative to the\n",
            "        magnitude of the input values\n",
            "      abs_tol\n",
            "        maximum difference for being considered \"close\", regardless of the\n",
            "        magnitude of the input values\n",
            "    \n",
            "    Return True if a is close in value to b, and False otherwise.\n",
            "    \n",
            "    For the values to be considered close, the difference between them\n",
            "    must be smaller than at least one of the tolerances.\n",
            "    \n",
            "    -inf, inf and NaN behave similarly to the IEEE 754 Standard.  That\n",
            "    is, NaN is not close to anything, even itself.  inf and -inf are\n",
            "    only close to themselves.\n",
            "\n"
          ]
        }
      ],
      "source": [
        "import math\n",
        "help(math.isclose)"
      ]
    },
    {
      "cell_type": "code",
      "execution_count": 28,
      "id": "bd2d4aca",
      "metadata": {
        "id": "bd2d4aca",
        "outputId": "8173fb0c-f517-4ac2-835f-a2a7014c7926",
        "colab": {
          "base_uri": "https://localhost:8080/"
        }
      },
      "outputs": [
        {
          "output_type": "execute_result",
          "data": {
            "text/plain": [
              "True"
            ]
          },
          "metadata": {},
          "execution_count": 28
        }
      ],
      "source": [
        "math.isclose(2, 2.001, rel_tol=1e-03)"
      ]
    },
    {
      "cell_type": "markdown",
      "id": "b72999fc",
      "metadata": {
        "id": "b72999fc"
      },
      "source": [
        "| Operator | Example | Meaning |\n",
        "|---|---|---|\n",
        "| and | a and b | True only if both the operands are True |\n",
        "| or | a or b | True if at least one of the operands is True |\n",
        "| not | not a | True if the operand is False and vice-versa |\n",
        "| is | x is True | True if the operands are identical |\n",
        "| is not | x is not True | True if the operands are not identical |\n",
        "| in | 5 in x | True if value/variable is found in the sequence |\n",
        "| not in | 5 not in x | True if value/variable is not found in the sequence |"
      ]
    },
    {
      "cell_type": "code",
      "source": [
        "(3 < 8) is True"
      ],
      "metadata": {
        "colab": {
          "base_uri": "https://localhost:8080/"
        },
        "id": "YeJiZeYQfNiX",
        "outputId": "bf304ef2-5266-474e-b4f5-4438efa93f1d"
      },
      "id": "YeJiZeYQfNiX",
      "execution_count": 29,
      "outputs": [
        {
          "output_type": "execute_result",
          "data": {
            "text/plain": [
              "True"
            ]
          },
          "metadata": {},
          "execution_count": 29
        }
      ]
    },
    {
      "cell_type": "code",
      "execution_count": 30,
      "id": "ebc45479",
      "metadata": {
        "id": "ebc45479",
        "outputId": "1641eaf7-2461-42ab-81dd-3b3248d6ee9c",
        "colab": {
          "base_uri": "https://localhost:8080/"
        }
      },
      "outputs": [
        {
          "output_type": "stream",
          "name": "stdout",
          "text": [
            "True True\n"
          ]
        }
      ],
      "source": [
        "print(True and True, False or True)"
      ]
    },
    {
      "cell_type": "markdown",
      "id": "dd51580b",
      "metadata": {
        "id": "dd51580b"
      },
      "source": [
        "`x = 10` (0000 1010 in binary) and `y = 4` (0000 0100 in binary)\n",
        "\n",
        "| Operator | Meaning | Example |\n",
        "| --- | --- | --- |\n",
        "| & | Bitwise AND | x & y = 0 (0000 0000) |\n",
        "| \\| | Bitwise OR | x \\| y = 14 (0000 1110) |\n",
        "| ~ | Bitwise NOT | ~x = -11 (1111 0101) |\n",
        "| ^ | Bitwise XOR | x ^ y = 14 (0000 1110) |\n",
        "| >> | Bitwise right shift | x >> 2 = 2 (0000 0010) |\n",
        "| << | Bitwise left shift | x << 2 = 40 (0010 1000) |"
      ]
    },
    {
      "cell_type": "code",
      "execution_count": 31,
      "id": "fc753ae7",
      "metadata": {
        "id": "fc753ae7",
        "outputId": "baa541ee-a622-471d-efdc-6e1ce059924b",
        "colab": {
          "base_uri": "https://localhost:8080/"
        }
      },
      "outputs": [
        {
          "output_type": "stream",
          "name": "stdout",
          "text": [
            "False True\n"
          ]
        }
      ],
      "source": [
        "print(True & False, True | False)"
      ]
    },
    {
      "cell_type": "markdown",
      "id": "2c0f4a51",
      "metadata": {
        "id": "2c0f4a51"
      },
      "source": [
        "## Containers (Collections)"
      ]
    },
    {
      "cell_type": "code",
      "execution_count": 32,
      "id": "bc4d8759",
      "metadata": {
        "id": "bc4d8759"
      },
      "outputs": [],
      "source": [
        "a_tuple = (1, 2, 3, 4)\n",
        "a_list = ['a', 'b', 'c', 'd']\n",
        "a_set = {1, 2, 2, 3, 3, 3}\n",
        "a_dict = {'c': 1, 'b': 2, 'a': 3}"
      ]
    },
    {
      "cell_type": "markdown",
      "id": "fb494f7c",
      "metadata": {
        "id": "fb494f7c"
      },
      "source": [
        "### Tuple"
      ]
    },
    {
      "cell_type": "code",
      "execution_count": 33,
      "id": "b0f86dfc",
      "metadata": {
        "id": "b0f86dfc",
        "outputId": "2b933cf4-d05f-4def-cbfa-662dbb83432f",
        "colab": {
          "base_uri": "https://localhost:8080/"
        }
      },
      "outputs": [
        {
          "output_type": "stream",
          "name": "stdout",
          "text": [
            "The length of a_tuple: (1, 2, 3, 4) is 4\n"
          ]
        }
      ],
      "source": [
        "print(\"The length of a_tuple:\", a_tuple, \"is\", len(a_tuple))"
      ]
    },
    {
      "cell_type": "markdown",
      "id": "b0e3dc8a",
      "metadata": {
        "id": "b0e3dc8a"
      },
      "source": [
        "Access element in tuple or list using the name of tuple or list variable following by *square brackets* <p>\n",
        "<center>`tuple_or_list_var[index]`</center>\n",
        "\n",
        "* Index starts with zero\n",
        "* Final feasible index is (length - 1)\n",
        "* Negative index reverses the position from -1 to -(length)"
      ]
    },
    {
      "cell_type": "code",
      "execution_count": 34,
      "id": "3d5ee5e8",
      "metadata": {
        "scrolled": true,
        "id": "3d5ee5e8",
        "outputId": "9b5a7817-45e0-4094-b6f7-ebff90f25480",
        "colab": {
          "base_uri": "https://localhost:8080/",
          "height": 280
        }
      },
      "outputs": [
        {
          "output_type": "stream",
          "name": "stdout",
          "text": [
            "a_tuple: (1, 2, 3, 4)\n",
            "values in each index 1 2 3 4\n",
            "values in each reverse index 4 3 2 1\n",
            "length of a_tuple 4\n"
          ]
        },
        {
          "output_type": "error",
          "ename": "IndexError",
          "evalue": "ignored",
          "traceback": [
            "\u001b[0;31m---------------------------------------------------------------------------\u001b[0m",
            "\u001b[0;31mIndexError\u001b[0m                                Traceback (most recent call last)",
            "\u001b[0;32m<ipython-input-34-705b8f166667>\u001b[0m in \u001b[0;36m<cell line: 5>\u001b[0;34m()\u001b[0m\n\u001b[1;32m      3\u001b[0m \u001b[0mprint\u001b[0m\u001b[0;34m(\u001b[0m\u001b[0;34m\"values in each reverse index\"\u001b[0m\u001b[0;34m,\u001b[0m \u001b[0ma_tuple\u001b[0m\u001b[0;34m[\u001b[0m\u001b[0;34m-\u001b[0m\u001b[0;36m1\u001b[0m\u001b[0;34m]\u001b[0m\u001b[0;34m,\u001b[0m \u001b[0ma_tuple\u001b[0m\u001b[0;34m[\u001b[0m\u001b[0;34m-\u001b[0m\u001b[0;36m2\u001b[0m\u001b[0;34m]\u001b[0m\u001b[0;34m,\u001b[0m \u001b[0ma_tuple\u001b[0m\u001b[0;34m[\u001b[0m\u001b[0;34m-\u001b[0m\u001b[0;36m3\u001b[0m\u001b[0;34m]\u001b[0m\u001b[0;34m,\u001b[0m \u001b[0ma_tuple\u001b[0m\u001b[0;34m[\u001b[0m\u001b[0;34m-\u001b[0m\u001b[0;36m4\u001b[0m\u001b[0;34m]\u001b[0m\u001b[0;34m)\u001b[0m\u001b[0;34m\u001b[0m\u001b[0;34m\u001b[0m\u001b[0m\n\u001b[1;32m      4\u001b[0m \u001b[0mprint\u001b[0m\u001b[0;34m(\u001b[0m\u001b[0;34m\"length of a_tuple\"\u001b[0m\u001b[0;34m,\u001b[0m \u001b[0mlen\u001b[0m\u001b[0;34m(\u001b[0m\u001b[0ma_tuple\u001b[0m\u001b[0;34m)\u001b[0m\u001b[0;34m)\u001b[0m\u001b[0;34m\u001b[0m\u001b[0;34m\u001b[0m\u001b[0m\n\u001b[0;32m----> 5\u001b[0;31m \u001b[0mprint\u001b[0m\u001b[0;34m(\u001b[0m\u001b[0ma_tuple\u001b[0m\u001b[0;34m[\u001b[0m\u001b[0mlen\u001b[0m\u001b[0;34m(\u001b[0m\u001b[0ma_tuple\u001b[0m\u001b[0;34m)\u001b[0m\u001b[0;34m]\u001b[0m\u001b[0;34m)\u001b[0m\u001b[0;34m\u001b[0m\u001b[0;34m\u001b[0m\u001b[0m\n\u001b[0m",
            "\u001b[0;31mIndexError\u001b[0m: tuple index out of range"
          ]
        }
      ],
      "source": [
        "print(\"a_tuple:\", a_tuple)\n",
        "print(\"values in each index\", a_tuple[0], a_tuple[1], a_tuple[2], a_tuple[3])\n",
        "print(\"values in each reverse index\", a_tuple[-1], a_tuple[-2], a_tuple[-3], a_tuple[-4])\n",
        "print(\"length of a_tuple\", len(a_tuple))\n",
        "print(a_tuple[len(a_tuple)])"
      ]
    },
    {
      "cell_type": "markdown",
      "source": [
        "<font color='red'><h4>📝 Your turn</h4></font>\n",
        "```\n",
        "myTuple = (1,12,123,1234,12345)\n",
        "```\n",
        "Get the element `123` from `myTuple`\n"
      ],
      "metadata": {
        "id": "ZF-gYwPVywmV"
      },
      "id": "ZF-gYwPVywmV"
    },
    {
      "cell_type": "code",
      "source": [
        "myTuple = (1,12,123,1234,12345)\n",
        "myTuple"
      ],
      "metadata": {
        "colab": {
          "base_uri": "https://localhost:8080/"
        },
        "id": "L0Spt9YcyxJc",
        "outputId": "ae0e8ff9-ced3-4eaa-ef3b-2387a053a620"
      },
      "id": "L0Spt9YcyxJc",
      "execution_count": 35,
      "outputs": [
        {
          "output_type": "execute_result",
          "data": {
            "text/plain": [
              "(1, 12, 123, 1234, 12345)"
            ]
          },
          "metadata": {},
          "execution_count": 35
        }
      ]
    },
    {
      "cell_type": "code",
      "source": [
        "# Get the element 123 from myTuple\n",
        "myTuple[2]"
      ],
      "metadata": {
        "id": "QhIFBs2-zbWP",
        "colab": {
          "base_uri": "https://localhost:8080/"
        },
        "outputId": "821c4bd7-acf6-41b4-f6b4-edd25c487e71"
      },
      "id": "QhIFBs2-zbWP",
      "execution_count": 36,
      "outputs": [
        {
          "output_type": "execute_result",
          "data": {
            "text/plain": [
              "123"
            ]
          },
          "metadata": {},
          "execution_count": 36
        }
      ]
    },
    {
      "cell_type": "code",
      "source": [
        "# Last element\n",
        "myTuple[4]\n",
        "myTuple[-1]"
      ],
      "metadata": {
        "colab": {
          "base_uri": "https://localhost:8080/"
        },
        "id": "fc7RIpC5y07M",
        "outputId": "913fda01-a737-48db-9924-c97ee98a02fb"
      },
      "id": "fc7RIpC5y07M",
      "execution_count": 37,
      "outputs": [
        {
          "output_type": "execute_result",
          "data": {
            "text/plain": [
              "12345"
            ]
          },
          "metadata": {},
          "execution_count": 37
        }
      ]
    },
    {
      "cell_type": "markdown",
      "id": "e567d2d2",
      "metadata": {
        "id": "e567d2d2"
      },
      "source": [
        "### List"
      ]
    },
    {
      "cell_type": "markdown",
      "id": "4ab25c96",
      "metadata": {
        "id": "4ab25c96"
      },
      "source": [
        "Working with list is similar to tuple"
      ]
    },
    {
      "cell_type": "code",
      "execution_count": 38,
      "id": "ea5ffb0e",
      "metadata": {
        "scrolled": true,
        "id": "ea5ffb0e",
        "outputId": "02573c1f-ff83-4350-e859-18e38276ffd4",
        "colab": {
          "base_uri": "https://localhost:8080/"
        }
      },
      "outputs": [
        {
          "output_type": "stream",
          "name": "stdout",
          "text": [
            "a_list: ['a', 'b', 'c', 'd']\n"
          ]
        }
      ],
      "source": [
        "print(\"a_list:\", a_list)"
      ]
    },
    {
      "cell_type": "code",
      "execution_count": 39,
      "id": "913171ef",
      "metadata": {
        "id": "913171ef",
        "outputId": "0ad76a72-febd-42f9-822e-22d155593383",
        "colab": {
          "base_uri": "https://localhost:8080/"
        }
      },
      "outputs": [
        {
          "output_type": "execute_result",
          "data": {
            "text/plain": [
              "4"
            ]
          },
          "metadata": {},
          "execution_count": 39
        }
      ],
      "source": [
        "len(a_list)"
      ]
    },
    {
      "cell_type": "code",
      "execution_count": 40,
      "id": "52ad6742",
      "metadata": {
        "id": "52ad6742",
        "outputId": "93888736-30aa-46ad-f83a-84611fffa974",
        "colab": {
          "base_uri": "https://localhost:8080/",
          "height": 35
        }
      },
      "outputs": [
        {
          "output_type": "execute_result",
          "data": {
            "text/plain": [
              "'a'"
            ],
            "application/vnd.google.colaboratory.intrinsic+json": {
              "type": "string"
            }
          },
          "metadata": {},
          "execution_count": 40
        }
      ],
      "source": [
        "a_list[0]"
      ]
    },
    {
      "cell_type": "code",
      "execution_count": 41,
      "id": "be66b0ee",
      "metadata": {
        "id": "be66b0ee",
        "outputId": "6a5285de-a31d-47eb-a06a-dcba3fae7e8d",
        "colab": {
          "base_uri": "https://localhost:8080/",
          "height": 35
        }
      },
      "outputs": [
        {
          "output_type": "execute_result",
          "data": {
            "text/plain": [
              "'d'"
            ],
            "application/vnd.google.colaboratory.intrinsic+json": {
              "type": "string"
            }
          },
          "metadata": {},
          "execution_count": 41
        }
      ],
      "source": [
        "a_list[-1]"
      ]
    },
    {
      "cell_type": "code",
      "source": [
        "a_list.index('b')"
      ],
      "metadata": {
        "colab": {
          "base_uri": "https://localhost:8080/"
        },
        "id": "8LFLFK0ZlTlZ",
        "outputId": "49bdaf1f-013b-4344-e983-6255d749bbe5"
      },
      "id": "8LFLFK0ZlTlZ",
      "execution_count": 42,
      "outputs": [
        {
          "output_type": "execute_result",
          "data": {
            "text/plain": [
              "1"
            ]
          },
          "metadata": {},
          "execution_count": 42
        }
      ]
    },
    {
      "cell_type": "code",
      "source": [
        "[i for i in range(len(a_list)) if a_list[i]=='b' ]"
      ],
      "metadata": {
        "colab": {
          "base_uri": "https://localhost:8080/"
        },
        "id": "WzsvhgRXiYQQ",
        "outputId": "55d7ab37-204f-4a30-a42d-65106740c408"
      },
      "id": "WzsvhgRXiYQQ",
      "execution_count": 43,
      "outputs": [
        {
          "output_type": "execute_result",
          "data": {
            "text/plain": [
              "[1]"
            ]
          },
          "metadata": {},
          "execution_count": 43
        }
      ]
    },
    {
      "cell_type": "code",
      "source": [
        "[i if a_list[i]=='b' else a_list[i] for i in range(len(a_list))]"
      ],
      "metadata": {
        "colab": {
          "base_uri": "https://localhost:8080/"
        },
        "id": "C9RBS7c1is_-",
        "outputId": "8e92e848-8339-4a89-bb85-7d0c20d2f435"
      },
      "id": "C9RBS7c1is_-",
      "execution_count": 44,
      "outputs": [
        {
          "output_type": "execute_result",
          "data": {
            "text/plain": [
              "['a', 1, 'c', 'd']"
            ]
          },
          "metadata": {},
          "execution_count": 44
        }
      ]
    },
    {
      "cell_type": "markdown",
      "id": "4b81a564",
      "metadata": {
        "id": "4b81a564"
      },
      "source": [
        "To display multiple elements:\n",
        "* Using `list[i:j]` to display element i$^\\text{th}$ to (j-1)$^\\text{th}$"
      ]
    },
    {
      "cell_type": "code",
      "execution_count": 45,
      "id": "a27e88fd",
      "metadata": {
        "id": "a27e88fd",
        "outputId": "1a30a9af-d422-4b56-daa1-32e7cf9c38b9",
        "colab": {
          "base_uri": "https://localhost:8080/"
        }
      },
      "outputs": [
        {
          "output_type": "execute_result",
          "data": {
            "text/plain": [
              "['b', 'c']"
            ]
          },
          "metadata": {},
          "execution_count": 45
        }
      ],
      "source": [
        "a_list[1:3]"
      ]
    },
    {
      "cell_type": "markdown",
      "id": "cebb4bae",
      "metadata": {
        "id": "cebb4bae"
      },
      "source": [
        "* Iterating over a list"
      ]
    },
    {
      "cell_type": "code",
      "execution_count": 46,
      "id": "d87ebe88",
      "metadata": {
        "id": "d87ebe88",
        "outputId": "de032691-7636-4ae2-9dea-67036f1ee44d",
        "colab": {
          "base_uri": "https://localhost:8080/"
        }
      },
      "outputs": [
        {
          "output_type": "execute_result",
          "data": {
            "text/plain": [
              "['a', 'c']"
            ]
          },
          "metadata": {},
          "execution_count": 46
        }
      ],
      "source": [
        "[a_list[i] for i in [0,2]]"
      ]
    },
    {
      "cell_type": "markdown",
      "id": "4d0ff26b",
      "metadata": {
        "id": "4d0ff26b"
      },
      "source": [
        "Adding an element to a list"
      ]
    },
    {
      "cell_type": "code",
      "execution_count": 47,
      "id": "eb4bc0d8",
      "metadata": {
        "id": "eb4bc0d8",
        "outputId": "cb687a38-0411-484e-c2e4-2efbf19112bc",
        "colab": {
          "base_uri": "https://localhost:8080/"
        }
      },
      "outputs": [
        {
          "output_type": "execute_result",
          "data": {
            "text/plain": [
              "['a', 'b', 'c', 'd', 'e']"
            ]
          },
          "metadata": {},
          "execution_count": 47
        }
      ],
      "source": [
        "a_list.append('e')\n",
        "a_list"
      ]
    },
    {
      "cell_type": "markdown",
      "id": "8df824d3",
      "metadata": {
        "id": "8df824d3"
      },
      "source": [
        "Adding two lists concatenates them together"
      ]
    },
    {
      "cell_type": "code",
      "execution_count": 48,
      "id": "0ba26899",
      "metadata": {
        "id": "0ba26899",
        "outputId": "f0de3f85-568f-4e77-d99b-ab2857b781e7",
        "colab": {
          "base_uri": "https://localhost:8080/"
        }
      },
      "outputs": [
        {
          "output_type": "execute_result",
          "data": {
            "text/plain": [
              "['a', 'b', 'c', 'd', 'e', 'a', 'b', 'c', 'd', 'e']"
            ]
          },
          "metadata": {},
          "execution_count": 48
        }
      ],
      "source": [
        "a_list + a_list"
      ]
    },
    {
      "cell_type": "code",
      "source": [
        "a_list + ['u', 'i']"
      ],
      "metadata": {
        "colab": {
          "base_uri": "https://localhost:8080/"
        },
        "id": "KkAYKohJ0HM0",
        "outputId": "54df51be-b0a1-462c-a58d-d923b0955e72"
      },
      "id": "KkAYKohJ0HM0",
      "execution_count": 49,
      "outputs": [
        {
          "output_type": "execute_result",
          "data": {
            "text/plain": [
              "['a', 'b', 'c', 'd', 'e', 'u', 'i']"
            ]
          },
          "metadata": {},
          "execution_count": 49
        }
      ]
    },
    {
      "cell_type": "markdown",
      "id": "8792ebff",
      "metadata": {
        "id": "8792ebff"
      },
      "source": [
        "Multiplying a list with an integer `n` creates a repeatation of a list `n` times"
      ]
    },
    {
      "cell_type": "code",
      "execution_count": 50,
      "id": "e2b3c7ef",
      "metadata": {
        "scrolled": true,
        "id": "e2b3c7ef",
        "outputId": "26058218-8879-4203-b2b0-3e5b4334b1e0",
        "colab": {
          "base_uri": "https://localhost:8080/"
        }
      },
      "outputs": [
        {
          "output_type": "execute_result",
          "data": {
            "text/plain": [
              "[1, 3, 1, 3, 1, 3]"
            ]
          },
          "metadata": {},
          "execution_count": 50
        }
      ],
      "source": [
        "[1,3]*3"
      ]
    },
    {
      "cell_type": "markdown",
      "id": "3b3ddb23",
      "metadata": {
        "id": "3b3ddb23"
      },
      "source": [
        "String is a list of characters. Therefore, working with string is similar to list."
      ]
    },
    {
      "cell_type": "code",
      "execution_count": 51,
      "id": "da55af88",
      "metadata": {
        "id": "da55af88",
        "outputId": "814fe953-0efc-43b3-f5b5-13399a705e1e",
        "colab": {
          "base_uri": "https://localhost:8080/",
          "height": 35
        }
      },
      "outputs": [
        {
          "output_type": "execute_result",
          "data": {
            "text/plain": [
              "'Learning Pandas'"
            ],
            "application/vnd.google.colaboratory.intrinsic+json": {
              "type": "string"
            }
          },
          "metadata": {},
          "execution_count": 51
        }
      ],
      "source": [
        "variable_d"
      ]
    },
    {
      "cell_type": "code",
      "execution_count": 52,
      "id": "2c130af5",
      "metadata": {
        "id": "2c130af5",
        "outputId": "3a3240be-73d5-4bd6-e2b1-ca6ac23f9e54",
        "colab": {
          "base_uri": "https://localhost:8080/"
        }
      },
      "outputs": [
        {
          "output_type": "stream",
          "name": "stdout",
          "text": [
            "L\n",
            "earning\n",
            "earning\n",
            "s\n",
            "earning Pandas\n"
          ]
        }
      ],
      "source": [
        "print(variable_d[0])\n",
        "print(variable_d[1:8])\n",
        "print(variable_d[1:(variable_d.index('g')+1)])\n",
        "print(variable_d[-1])\n",
        "print(variable_d[1:])"
      ]
    },
    {
      "cell_type": "code",
      "source": [
        "print(variable_d[:8])"
      ],
      "metadata": {
        "colab": {
          "base_uri": "https://localhost:8080/"
        },
        "id": "tt6ulYDH1BT7",
        "outputId": "f5e27db2-befb-4735-dea7-272988b8b3c7"
      },
      "id": "tt6ulYDH1BT7",
      "execution_count": 53,
      "outputs": [
        {
          "output_type": "stream",
          "name": "stdout",
          "text": [
            "Learning\n"
          ]
        }
      ]
    },
    {
      "cell_type": "code",
      "execution_count": 54,
      "id": "cebadef3",
      "metadata": {
        "id": "cebadef3",
        "outputId": "a5e1d00f-7596-4769-a690-5caa853b865e",
        "colab": {
          "base_uri": "https://localhost:8080/",
          "height": 35
        }
      },
      "outputs": [
        {
          "output_type": "execute_result",
          "data": {
            "text/plain": [
              "'Le'"
            ],
            "application/vnd.google.colaboratory.intrinsic+json": {
              "type": "string"
            }
          },
          "metadata": {},
          "execution_count": 54
        }
      ],
      "source": [
        "variable_d[0:2]"
      ]
    },
    {
      "cell_type": "code",
      "execution_count": 55,
      "id": "a0b03268",
      "metadata": {
        "id": "a0b03268",
        "outputId": "b83bb1db-eeb8-4a36-b5f1-17e13f22d867",
        "colab": {
          "base_uri": "https://localhost:8080/",
          "height": 35
        }
      },
      "outputs": [
        {
          "output_type": "execute_result",
          "data": {
            "text/plain": [
              "'Keep Learning Pandas'"
            ],
            "application/vnd.google.colaboratory.intrinsic+json": {
              "type": "string"
            }
          },
          "metadata": {},
          "execution_count": 55
        }
      ],
      "source": [
        "'Keep ' + variable_d"
      ]
    },
    {
      "cell_type": "markdown",
      "source": [
        "<font color='red'><h4>📝 Your turn</h4></font>\n",
        "```\n",
        "variable_d = \"Learning Pandas\"\n",
        "```\n"
      ],
      "metadata": {
        "id": "yz_5vyuX1Gea"
      },
      "id": "yz_5vyuX1Gea"
    },
    {
      "cell_type": "code",
      "source": [
        "variable_f = \"Walking a corgi in the park\""
      ],
      "metadata": {
        "id": "xGyLJWGnpOI2"
      },
      "id": "xGyLJWGnpOI2",
      "execution_count": 71,
      "outputs": []
    },
    {
      "cell_type": "code",
      "source": [
        "variable_f [10:15]"
      ],
      "metadata": {
        "id": "_0f8XBHPpcc3",
        "outputId": "3e80a0e0-885f-45e0-d55e-626d204b1e07",
        "colab": {
          "base_uri": "https://localhost:8080/",
          "height": 35
        }
      },
      "id": "_0f8XBHPpcc3",
      "execution_count": 72,
      "outputs": [
        {
          "output_type": "execute_result",
          "data": {
            "text/plain": [
              "'corgi'"
            ],
            "application/vnd.google.colaboratory.intrinsic+json": {
              "type": "string"
            }
          },
          "metadata": {},
          "execution_count": 72
        }
      ]
    },
    {
      "cell_type": "code",
      "source": [
        "# get the character \"P\" from variable_d\n",
        "variable_d[9]\n",
        "Pindex = variable_d.index(\"P\")\n",
        "Pindex\n",
        "variable_d[Pindex]"
      ],
      "metadata": {
        "id": "-N9BalLZ2Pap",
        "colab": {
          "base_uri": "https://localhost:8080/",
          "height": 35
        },
        "outputId": "9bb4e7af-dd0b-45a9-f1d4-ec7cd69420da"
      },
      "id": "-N9BalLZ2Pap",
      "execution_count": 56,
      "outputs": [
        {
          "output_type": "execute_result",
          "data": {
            "text/plain": [
              "'P'"
            ],
            "application/vnd.google.colaboratory.intrinsic+json": {
              "type": "string"
            }
          },
          "metadata": {},
          "execution_count": 56
        }
      ]
    },
    {
      "cell_type": "code",
      "source": [
        "# get the word \"Pandas\" from variable_d\n",
        "variable_d[9:]\n",
        "variable_d[9:15]\n"
      ],
      "metadata": {
        "colab": {
          "base_uri": "https://localhost:8080/",
          "height": 35
        },
        "id": "4Aztk_a01UPm",
        "outputId": "014944b8-00fc-4aef-addc-223fd3ef94f4"
      },
      "id": "4Aztk_a01UPm",
      "execution_count": 57,
      "outputs": [
        {
          "output_type": "execute_result",
          "data": {
            "text/plain": [
              "'Pandas'"
            ],
            "application/vnd.google.colaboratory.intrinsic+json": {
              "type": "string"
            }
          },
          "metadata": {},
          "execution_count": 57
        }
      ]
    },
    {
      "cell_type": "markdown",
      "id": "81a5221e",
      "metadata": {
        "id": "81a5221e"
      },
      "source": [
        "#### Advance list slicing\n",
        "* Using [start_index:end_index:step]"
      ]
    },
    {
      "cell_type": "code",
      "execution_count": 58,
      "id": "a4598cb0",
      "metadata": {
        "id": "a4598cb0",
        "outputId": "5b4379dd-a3b2-461d-d102-2f60fbd5015f",
        "colab": {
          "base_uri": "https://localhost:8080/",
          "height": 35
        }
      },
      "outputs": [
        {
          "output_type": "execute_result",
          "data": {
            "text/plain": [
              "'Learning Pandas'"
            ],
            "application/vnd.google.colaboratory.intrinsic+json": {
              "type": "string"
            }
          },
          "metadata": {},
          "execution_count": 58
        }
      ],
      "source": [
        "variable_d"
      ]
    },
    {
      "cell_type": "code",
      "execution_count": 59,
      "id": "82d822a4",
      "metadata": {
        "id": "82d822a4",
        "outputId": "bac9abb7-4506-47f9-ad7e-4748347db408",
        "colab": {
          "base_uri": "https://localhost:8080/",
          "height": 35
        }
      },
      "outputs": [
        {
          "output_type": "execute_result",
          "data": {
            "text/plain": [
              "'Learning Pandas'"
            ],
            "application/vnd.google.colaboratory.intrinsic+json": {
              "type": "string"
            }
          },
          "metadata": {},
          "execution_count": 59
        }
      ],
      "source": [
        "variable_d[::]"
      ]
    },
    {
      "cell_type": "code",
      "execution_count": 60,
      "id": "450c16c3",
      "metadata": {
        "id": "450c16c3",
        "outputId": "45aa7534-b10e-4f18-ab2c-85901bf38697",
        "colab": {
          "base_uri": "https://localhost:8080/",
          "height": 35
        }
      },
      "outputs": [
        {
          "output_type": "execute_result",
          "data": {
            "text/plain": [
              "'Lann ads'"
            ],
            "application/vnd.google.colaboratory.intrinsic+json": {
              "type": "string"
            }
          },
          "metadata": {},
          "execution_count": 60
        }
      ],
      "source": [
        "variable_d[::2] # display using step of 2"
      ]
    },
    {
      "cell_type": "code",
      "execution_count": 61,
      "id": "7f697de1",
      "metadata": {
        "scrolled": false,
        "id": "7f697de1",
        "outputId": "72d252f2-56ae-4be3-f0ca-94e3355e259a",
        "colab": {
          "base_uri": "https://localhost:8080/",
          "height": 35
        }
      },
      "outputs": [
        {
          "output_type": "execute_result",
          "data": {
            "text/plain": [
              "'sadnaP gninraeL'"
            ],
            "application/vnd.google.colaboratory.intrinsic+json": {
              "type": "string"
            }
          },
          "metadata": {},
          "execution_count": 61
        }
      ],
      "source": [
        "variable_d[::-1] # reversing a list"
      ]
    },
    {
      "cell_type": "markdown",
      "id": "4d312677",
      "metadata": {
        "id": "4d312677"
      },
      "source": [
        "* `range(start_value, final_value, step)`"
      ]
    },
    {
      "cell_type": "code",
      "source": [
        "variable_d[::3]"
      ],
      "metadata": {
        "id": "idExnTEvq0NN",
        "outputId": "aaa9ae30-49b1-44a8-cbf0-b94d35314076",
        "colab": {
          "base_uri": "https://localhost:8080/",
          "height": 35
        }
      },
      "id": "idExnTEvq0NN",
      "execution_count": 73,
      "outputs": [
        {
          "output_type": "execute_result",
          "data": {
            "text/plain": [
              "'LrnPd'"
            ],
            "application/vnd.google.colaboratory.intrinsic+json": {
              "type": "string"
            }
          },
          "metadata": {},
          "execution_count": 73
        }
      ]
    },
    {
      "cell_type": "code",
      "source": [
        "list(range(0,12))[::2]"
      ],
      "metadata": {
        "id": "OMDxCSgPq-GE",
        "outputId": "643feb02-ccb7-4a84-b9d2-c122987663ed",
        "colab": {
          "base_uri": "https://localhost:8080/"
        }
      },
      "id": "OMDxCSgPq-GE",
      "execution_count": 74,
      "outputs": [
        {
          "output_type": "execute_result",
          "data": {
            "text/plain": [
              "[0, 2, 4, 6, 8, 10]"
            ]
          },
          "metadata": {},
          "execution_count": 74
        }
      ]
    },
    {
      "cell_type": "code",
      "source": [
        "range(0,4)"
      ],
      "metadata": {
        "colab": {
          "base_uri": "https://localhost:8080/"
        },
        "id": "dCDqGYOs3zAT",
        "outputId": "61253bc7-aefa-4943-ab61-d7279ad197b7"
      },
      "id": "dCDqGYOs3zAT",
      "execution_count": 62,
      "outputs": [
        {
          "output_type": "execute_result",
          "data": {
            "text/plain": [
              "range(0, 4)"
            ]
          },
          "metadata": {},
          "execution_count": 62
        }
      ]
    },
    {
      "cell_type": "code",
      "execution_count": 63,
      "id": "0f6c1f5f",
      "metadata": {
        "id": "0f6c1f5f",
        "outputId": "843718c8-6c63-44e2-e025-ee058ae9fbf9",
        "colab": {
          "base_uri": "https://localhost:8080/"
        }
      },
      "outputs": [
        {
          "output_type": "execute_result",
          "data": {
            "text/plain": [
              "[1, 2, 3, 4]"
            ]
          },
          "metadata": {},
          "execution_count": 63
        }
      ],
      "source": [
        "list(range(1,5,1))"
      ]
    },
    {
      "cell_type": "code",
      "execution_count": 64,
      "id": "8d24e48c",
      "metadata": {
        "id": "8d24e48c",
        "outputId": "d1d80c20-bd83-4fd1-d465-3025df847300",
        "colab": {
          "base_uri": "https://localhost:8080/"
        }
      },
      "outputs": [
        {
          "output_type": "execute_result",
          "data": {
            "text/plain": [
              "[0, 2, 4, 6, 8]"
            ]
          },
          "metadata": {},
          "execution_count": 64
        }
      ],
      "source": [
        "list(range(0,10,2))"
      ]
    },
    {
      "cell_type": "markdown",
      "id": "4a6a5364",
      "metadata": {
        "id": "4a6a5364"
      },
      "source": [
        "* `range(n)` = `range(0, n, 1)`"
      ]
    },
    {
      "cell_type": "code",
      "source": [
        "list(range(0,12))[::2]"
      ],
      "metadata": {
        "id": "RSSpaIZNrbAE",
        "outputId": "77cba33d-78b9-4ebd-aadd-83ff1b27b2c2",
        "colab": {
          "base_uri": "https://localhost:8080/"
        }
      },
      "id": "RSSpaIZNrbAE",
      "execution_count": 76,
      "outputs": [
        {
          "output_type": "execute_result",
          "data": {
            "text/plain": [
              "[0, 2, 4, 6, 8, 10]"
            ]
          },
          "metadata": {},
          "execution_count": 76
        }
      ]
    },
    {
      "cell_type": "code",
      "execution_count": 75,
      "id": "50f5ea89",
      "metadata": {
        "id": "50f5ea89",
        "outputId": "2708e166-617d-456a-a519-d558eefe2f51",
        "colab": {
          "base_uri": "https://localhost:8080/"
        }
      },
      "outputs": [
        {
          "output_type": "execute_result",
          "data": {
            "text/plain": [
              "[0, 1, 2, 3, 4]"
            ]
          },
          "metadata": {},
          "execution_count": 75
        }
      ],
      "source": [
        "list(range(5))"
      ]
    },
    {
      "cell_type": "markdown",
      "id": "c7c99b5c",
      "metadata": {
        "id": "c7c99b5c"
      },
      "source": [
        "`map(func, *iterables)` --> Make an iterator that computes the function using arguments from each of the iterables.  Stops when the shortest iterable is exhausted."
      ]
    },
    {
      "cell_type": "code",
      "execution_count": 66,
      "id": "d2650dea",
      "metadata": {
        "id": "d2650dea",
        "outputId": "bd6d5c6f-8f90-48e5-b53d-356865821fdc",
        "colab": {
          "base_uri": "https://localhost:8080/"
        }
      },
      "outputs": [
        {
          "output_type": "execute_result",
          "data": {
            "text/plain": [
              "[0, 1, 4, 9, 16]"
            ]
          },
          "metadata": {},
          "execution_count": 66
        }
      ],
      "source": [
        "list(map(lambda x: x**2, range(5)))"
      ]
    },
    {
      "cell_type": "markdown",
      "id": "16a472b0",
      "metadata": {
        "id": "16a472b0"
      },
      "source": [
        "### Set"
      ]
    },
    {
      "cell_type": "code",
      "execution_count": 67,
      "id": "ebfc0c5e",
      "metadata": {
        "id": "ebfc0c5e",
        "outputId": "39246614-fed3-4f99-a5cf-cb12ea0fc21f",
        "colab": {
          "base_uri": "https://localhost:8080/"
        }
      },
      "outputs": [
        {
          "output_type": "stream",
          "name": "stdout",
          "text": [
            "a_set = {1, 2, 2, 3, 3, 3}\n",
            "a_set: {1, 2, 3}\n"
          ]
        }
      ],
      "source": [
        "print(\"a_set = {1, 2, 2, 3, 3, 3}\")\n",
        "print(\"a_set:\", a_set)"
      ]
    },
    {
      "cell_type": "code",
      "execution_count": 68,
      "id": "9bc00285",
      "metadata": {
        "id": "9bc00285",
        "outputId": "9a3c482a-4f81-4649-dd0e-26b86c029c1d",
        "colab": {
          "base_uri": "https://localhost:8080/"
        }
      },
      "outputs": [
        {
          "output_type": "execute_result",
          "data": {
            "text/plain": [
              "3"
            ]
          },
          "metadata": {},
          "execution_count": 68
        }
      ],
      "source": [
        "len(a_set)"
      ]
    },
    {
      "cell_type": "markdown",
      "id": "fa290645",
      "metadata": {
        "id": "fa290645"
      },
      "source": [
        "Casting set ot list"
      ]
    },
    {
      "cell_type": "code",
      "execution_count": 69,
      "id": "ff7af21f",
      "metadata": {
        "id": "ff7af21f",
        "outputId": "a720e680-c726-4172-ad85-7c2089f3e78d",
        "colab": {
          "base_uri": "https://localhost:8080/"
        }
      },
      "outputs": [
        {
          "output_type": "execute_result",
          "data": {
            "text/plain": [
              "[1, 2, 3]"
            ]
          },
          "metadata": {},
          "execution_count": 69
        }
      ],
      "source": [
        "list(a_set)"
      ]
    },
    {
      "cell_type": "code",
      "execution_count": 70,
      "id": "1290cfa9",
      "metadata": {
        "id": "1290cfa9",
        "outputId": "95511718-5c64-4b4a-e5af-c8d3860efedc",
        "colab": {
          "base_uri": "https://localhost:8080/"
        }
      },
      "outputs": [
        {
          "output_type": "execute_result",
          "data": {
            "text/plain": [
              "1"
            ]
          },
          "metadata": {},
          "execution_count": 70
        }
      ],
      "source": [
        "list(a_set)[0]"
      ]
    },
    {
      "cell_type": "markdown",
      "id": "4f09edaa",
      "metadata": {
        "id": "4f09edaa"
      },
      "source": [
        "### Dict"
      ]
    },
    {
      "cell_type": "markdown",
      "id": "0e3c90a9",
      "metadata": {
        "id": "0e3c90a9"
      },
      "source": [
        "Python dictionary stores data in key-value format"
      ]
    },
    {
      "cell_type": "code",
      "execution_count": null,
      "id": "169cce80",
      "metadata": {
        "id": "169cce80",
        "outputId": "a96aadfc-3f6b-4dd2-d4b0-321c01751a1c",
        "colab": {
          "base_uri": "https://localhost:8080/",
          "height": 211
        }
      },
      "outputs": [
        {
          "output_type": "stream",
          "name": "stdout",
          "text": [
            "a_dict = {'c': 1, 'b': 2, 'a': 3}\n"
          ]
        },
        {
          "output_type": "error",
          "ename": "NameError",
          "evalue": "ignored",
          "traceback": [
            "\u001b[0;31m---------------------------------------------------------------------------\u001b[0m",
            "\u001b[0;31mNameError\u001b[0m                                 Traceback (most recent call last)",
            "\u001b[0;32m<ipython-input-1-a2e2a8c7f2f5>\u001b[0m in \u001b[0;36m<cell line: 2>\u001b[0;34m()\u001b[0m\n\u001b[1;32m      1\u001b[0m \u001b[0mprint\u001b[0m\u001b[0;34m(\u001b[0m\u001b[0;34m\"a_dict = {'c': 1, 'b': 2, 'a': 3}\"\u001b[0m\u001b[0;34m)\u001b[0m\u001b[0;34m\u001b[0m\u001b[0;34m\u001b[0m\u001b[0m\n\u001b[0;32m----> 2\u001b[0;31m \u001b[0mprint\u001b[0m\u001b[0;34m(\u001b[0m\u001b[0;34m\"a_dict:\"\u001b[0m\u001b[0;34m,\u001b[0m \u001b[0ma_dict\u001b[0m\u001b[0;34m)\u001b[0m\u001b[0;34m\u001b[0m\u001b[0;34m\u001b[0m\u001b[0m\n\u001b[0m",
            "\u001b[0;31mNameError\u001b[0m: name 'a_dict' is not defined"
          ]
        }
      ],
      "source": [
        "print(\"a_dict = {'c': 1, 'b': 2, 'a': 3}\")\n",
        "print(\"a_dict:\", a_dict)"
      ]
    },
    {
      "cell_type": "code",
      "execution_count": 77,
      "id": "0dcbcd65",
      "metadata": {
        "id": "0dcbcd65",
        "outputId": "f5cf74a8-adef-4eae-8ac6-0fc0c8cbf85a",
        "colab": {
          "base_uri": "https://localhost:8080/"
        }
      },
      "outputs": [
        {
          "output_type": "execute_result",
          "data": {
            "text/plain": [
              "dict_keys(['c', 'b', 'a'])"
            ]
          },
          "metadata": {},
          "execution_count": 77
        }
      ],
      "source": [
        "a_dict.keys()"
      ]
    },
    {
      "cell_type": "code",
      "execution_count": 78,
      "id": "ab538225",
      "metadata": {
        "id": "ab538225",
        "outputId": "e504a3f4-2910-4524-b535-fecf138fd5a5",
        "colab": {
          "base_uri": "https://localhost:8080/"
        }
      },
      "outputs": [
        {
          "output_type": "execute_result",
          "data": {
            "text/plain": [
              "dict_values([1, 2, 3])"
            ]
          },
          "metadata": {},
          "execution_count": 78
        }
      ],
      "source": [
        "a_dict.values()"
      ]
    },
    {
      "cell_type": "code",
      "execution_count": 79,
      "id": "fe16f81c",
      "metadata": {
        "id": "fe16f81c",
        "outputId": "59296bbf-4f75-420d-965d-90bd4e96eadb",
        "colab": {
          "base_uri": "https://localhost:8080/"
        }
      },
      "outputs": [
        {
          "output_type": "execute_result",
          "data": {
            "text/plain": [
              "3"
            ]
          },
          "metadata": {},
          "execution_count": 79
        }
      ],
      "source": [
        "len(a_dict)"
      ]
    },
    {
      "cell_type": "code",
      "execution_count": 80,
      "id": "ce5b9ce4",
      "metadata": {
        "id": "ce5b9ce4",
        "outputId": "2beb4a29-87fa-4784-9b38-e5f04cf07f10",
        "colab": {
          "base_uri": "https://localhost:8080/"
        }
      },
      "outputs": [
        {
          "output_type": "execute_result",
          "data": {
            "text/plain": [
              "dict_items([('c', 1), ('b', 2), ('a', 3)])"
            ]
          },
          "metadata": {},
          "execution_count": 80
        }
      ],
      "source": [
        "a_dict.items()"
      ]
    },
    {
      "cell_type": "code",
      "execution_count": 81,
      "id": "f3b5544a",
      "metadata": {
        "id": "f3b5544a",
        "outputId": "573a80d2-0e50-4909-85fc-477130ecf3b5",
        "colab": {
          "base_uri": "https://localhost:8080/"
        }
      },
      "outputs": [
        {
          "output_type": "stream",
          "name": "stdout",
          "text": [
            "key of c gives value of 1\n",
            "key of b gives value of 2\n",
            "key of a gives value of 3\n"
          ]
        }
      ],
      "source": [
        "for key,val in a_dict.items():\n",
        "    print(\"key of\", key, \"gives value of\", val)"
      ]
    },
    {
      "cell_type": "code",
      "execution_count": 82,
      "id": "757a863f",
      "metadata": {
        "id": "757a863f",
        "outputId": "dd3e097f-5fe0-4a7d-c4b5-5522bef099b9",
        "colab": {
          "base_uri": "https://localhost:8080/"
        }
      },
      "outputs": [
        {
          "output_type": "execute_result",
          "data": {
            "text/plain": [
              "1"
            ]
          },
          "metadata": {},
          "execution_count": 82
        }
      ],
      "source": [
        "a_dict['c']"
      ]
    },
    {
      "cell_type": "code",
      "execution_count": 83,
      "id": "f0f6b03b",
      "metadata": {
        "scrolled": true,
        "id": "f0f6b03b",
        "outputId": "3b5611eb-c45b-49e1-9a89-a8d7a40081e7",
        "colab": {
          "base_uri": "https://localhost:8080/"
        }
      },
      "outputs": [
        {
          "output_type": "execute_result",
          "data": {
            "text/plain": [
              "3"
            ]
          },
          "metadata": {},
          "execution_count": 83
        }
      ],
      "source": [
        "a_dict['a']"
      ]
    },
    {
      "cell_type": "code",
      "source": [
        "# add key \"d\" with value \"4\" to a_dict\n",
        "a_dict[\"d\"] = 4\n",
        "a_dict"
      ],
      "metadata": {
        "colab": {
          "base_uri": "https://localhost:8080/"
        },
        "id": "5b1uYAst3Cwj",
        "outputId": "8ca06988-8a74-4b63-fe46-2865fdc62db4"
      },
      "id": "5b1uYAst3Cwj",
      "execution_count": 84,
      "outputs": [
        {
          "output_type": "execute_result",
          "data": {
            "text/plain": [
              "{'c': 1, 'b': 2, 'a': 3, 'd': 4}"
            ]
          },
          "metadata": {},
          "execution_count": 84
        }
      ]
    },
    {
      "cell_type": "markdown",
      "source": [
        "<font color='red'><h4>📝 Your turn</h4></font>\n",
        "<p>Create a dictionary from the following lists\n",
        "\n",
        "```\n",
        "keys = ['Ten', 'Twenty', 'Thirty']\n",
        "values = [10, 20, 30]\n",
        "```"
      ],
      "metadata": {
        "id": "lUMA-RCA2oN3"
      },
      "id": "lUMA-RCA2oN3"
    },
    {
      "cell_type": "code",
      "source": [
        "# create my_dict\n",
        "my_dict = {'Ten': 10, 'Twenty': 20, 'Thirty': 30}\n",
        "my_dict['Twenty']"
      ],
      "metadata": {
        "id": "dhoplgHA2o6s",
        "colab": {
          "base_uri": "https://localhost:8080/"
        },
        "outputId": "8075dd82-6645-4ce0-8579-30f2e2a9474e"
      },
      "id": "dhoplgHA2o6s",
      "execution_count": 85,
      "outputs": [
        {
          "output_type": "execute_result",
          "data": {
            "text/plain": [
              "20"
            ]
          },
          "metadata": {},
          "execution_count": 85
        }
      ]
    },
    {
      "cell_type": "code",
      "source": [
        "keys = ['Ten', 'Twenty', 'Thirty']\n",
        "values = [10, 20, 30]\n",
        "print(\"zip(keys,values):\", zip(keys, values))\n",
        "print(\"convert zip(keys,values) to list:\", list(zip(keys, values)))\n",
        "my_dict1 = dict(zip(keys, values))\n",
        "my_dict1"
      ],
      "metadata": {
        "colab": {
          "base_uri": "https://localhost:8080/"
        },
        "id": "l7SLeflK30Ei",
        "outputId": "000c3a60-031c-4fe1-cd4e-c2891a75ee7e"
      },
      "id": "l7SLeflK30Ei",
      "execution_count": 86,
      "outputs": [
        {
          "output_type": "stream",
          "name": "stdout",
          "text": [
            "zip(keys,values): <zip object at 0x7b62998ed740>\n",
            "convert zip(keys,values) to list: [('Ten', 10), ('Twenty', 20), ('Thirty', 30)]\n"
          ]
        },
        {
          "output_type": "execute_result",
          "data": {
            "text/plain": [
              "{'Ten': 10, 'Twenty': 20, 'Thirty': 30}"
            ]
          },
          "metadata": {},
          "execution_count": 86
        }
      ]
    },
    {
      "cell_type": "code",
      "source": [
        "my_dict2 = {}\n",
        "for i in range(len(keys)):\n",
        "  my_dict2[keys[i]] = values[i]\n",
        "my_dict2"
      ],
      "metadata": {
        "colab": {
          "base_uri": "https://localhost:8080/"
        },
        "id": "2FcPFpED4nci",
        "outputId": "2bc27968-b33d-4018-9815-c04f9b24d4d8"
      },
      "id": "2FcPFpED4nci",
      "execution_count": 87,
      "outputs": [
        {
          "output_type": "execute_result",
          "data": {
            "text/plain": [
              "{'Ten': 10, 'Twenty': 20, 'Thirty': 30}"
            ]
          },
          "metadata": {},
          "execution_count": 87
        }
      ]
    },
    {
      "cell_type": "markdown",
      "id": "a42e3f9b",
      "metadata": {
        "id": "a42e3f9b"
      },
      "source": [
        "## Vectors and Arrays"
      ]
    },
    {
      "cell_type": "code",
      "execution_count": 88,
      "id": "9ba9d59c",
      "metadata": {
        "id": "9ba9d59c"
      },
      "outputs": [],
      "source": [
        "import numpy as np # package สำหรับทำงานกับข้อมูลที่เป็นตัวเลข (ในรูปแบบ matrix)"
      ]
    },
    {
      "cell_type": "markdown",
      "id": "21506ff5",
      "metadata": {
        "id": "21506ff5"
      },
      "source": [
        "Create numpy array"
      ]
    },
    {
      "cell_type": "code",
      "execution_count": 89,
      "id": "71ef8c4e",
      "metadata": {
        "scrolled": false,
        "id": "71ef8c4e",
        "outputId": "0ccf6aa5-968e-44c8-e80a-e82662f33370",
        "colab": {
          "base_uri": "https://localhost:8080/"
        }
      },
      "outputs": [
        {
          "output_type": "execute_result",
          "data": {
            "text/plain": [
              "array([[1, 2, 3],\n",
              "       [4, 5, 6]])"
            ]
          },
          "metadata": {},
          "execution_count": 89
        }
      ],
      "source": [
        "np_a = np.array([[1,2,3],[4,5,6]])\n",
        "np_a"
      ]
    },
    {
      "cell_type": "markdown",
      "id": "ad999f31",
      "metadata": {
        "id": "ad999f31"
      },
      "source": [
        "The size of a matrix can be accessed using `matrix.shape` resulting in (#rows,#columns)"
      ]
    },
    {
      "cell_type": "code",
      "execution_count": 90,
      "id": "3e7df464",
      "metadata": {
        "id": "3e7df464",
        "outputId": "2285333f-c4d4-46a7-fbe8-35d00dd9f306",
        "colab": {
          "base_uri": "https://localhost:8080/"
        }
      },
      "outputs": [
        {
          "output_type": "execute_result",
          "data": {
            "text/plain": [
              "(2, 3)"
            ]
          },
          "metadata": {},
          "execution_count": 90
        }
      ],
      "source": [
        "np_a.shape"
      ]
    },
    {
      "cell_type": "code",
      "source": [
        "np_a.shape[0]"
      ],
      "metadata": {
        "colab": {
          "base_uri": "https://localhost:8080/"
        },
        "id": "hdgguGQe-RUe",
        "outputId": "d33984a4-be9e-4d36-d782-97eba0164850"
      },
      "id": "hdgguGQe-RUe",
      "execution_count": 91,
      "outputs": [
        {
          "output_type": "execute_result",
          "data": {
            "text/plain": [
              "2"
            ]
          },
          "metadata": {},
          "execution_count": 91
        }
      ]
    },
    {
      "cell_type": "code",
      "execution_count": 92,
      "id": "525bb896",
      "metadata": {
        "id": "525bb896",
        "outputId": "4e85e9f0-be9c-49cc-af8e-6614039961d5",
        "colab": {
          "base_uri": "https://localhost:8080/"
        }
      },
      "outputs": [
        {
          "output_type": "stream",
          "name": "stdout",
          "text": [
            "2 3\n"
          ]
        }
      ],
      "source": [
        "n_rows,n_cols = np_a.shape\n",
        "print(n_rows, n_cols)"
      ]
    },
    {
      "cell_type": "code",
      "execution_count": 93,
      "id": "2e6f1de8",
      "metadata": {
        "id": "2e6f1de8",
        "outputId": "bb7e2964-8e04-4033-f904-f0bce5d70356",
        "colab": {
          "base_uri": "https://localhost:8080/"
        }
      },
      "outputs": [
        {
          "output_type": "stream",
          "name": "stdout",
          "text": [
            "(3, 2)\n"
          ]
        },
        {
          "output_type": "execute_result",
          "data": {
            "text/plain": [
              "array([[1, 4],\n",
              "       [2, 5],\n",
              "       [3, 6]])"
            ]
          },
          "metadata": {},
          "execution_count": 93
        }
      ],
      "source": [
        "np_b = np.array([[1,4],[2,5],[3,6]])\n",
        "print(np_b.shape)\n",
        "np_b"
      ]
    },
    {
      "cell_type": "code",
      "execution_count": 94,
      "id": "697c1bdc",
      "metadata": {
        "id": "697c1bdc",
        "outputId": "3444ebfd-f4e6-437a-a47b-ae325f00d758",
        "colab": {
          "base_uri": "https://localhost:8080/"
        }
      },
      "outputs": [
        {
          "output_type": "execute_result",
          "data": {
            "text/plain": [
              "array([[0., 0.],\n",
              "       [0., 0.],\n",
              "       [0., 0.]])"
            ]
          },
          "metadata": {},
          "execution_count": 94
        }
      ],
      "source": [
        "np.zeros((3,2))"
      ]
    },
    {
      "cell_type": "code",
      "execution_count": 95,
      "id": "89aa5db4",
      "metadata": {
        "id": "89aa5db4",
        "outputId": "ec1a557f-cc67-461a-d056-1141f91fd1d4",
        "colab": {
          "base_uri": "https://localhost:8080/"
        }
      },
      "outputs": [
        {
          "output_type": "execute_result",
          "data": {
            "text/plain": [
              "array([[ 0.18152273, -0.4729151 ],\n",
              "       [-0.05071415,  0.74923377],\n",
              "       [ 0.05599389,  0.50161133]])"
            ]
          },
          "metadata": {},
          "execution_count": 95
        }
      ],
      "source": [
        "np.random.randn(3,2)"
      ]
    },
    {
      "cell_type": "code",
      "execution_count": 96,
      "id": "958b7c9d",
      "metadata": {
        "id": "958b7c9d",
        "outputId": "ac72e3a9-a96e-4b63-b7d8-441cbf516358",
        "colab": {
          "base_uri": "https://localhost:8080/"
        }
      },
      "outputs": [
        {
          "output_type": "execute_result",
          "data": {
            "text/plain": [
              "array([[9, 3],\n",
              "       [7, 4],\n",
              "       [0, 8]])"
            ]
          },
          "metadata": {},
          "execution_count": 96
        }
      ],
      "source": [
        "np.random.randint(0, 10, (3,2)) # random integers from 0 to 9"
      ]
    },
    {
      "cell_type": "markdown",
      "id": "e71f59f3",
      "metadata": {
        "id": "e71f59f3"
      },
      "source": [
        "Indexing: [row,column] where using `:` as index means to select all elements in rows or columns"
      ]
    },
    {
      "cell_type": "code",
      "execution_count": 97,
      "id": "e2f3a22c",
      "metadata": {
        "id": "e2f3a22c",
        "outputId": "3eea53c8-a45d-4335-e1eb-3c80e80e943e",
        "colab": {
          "base_uri": "https://localhost:8080/"
        }
      },
      "outputs": [
        {
          "output_type": "stream",
          "name": "stdout",
          "text": [
            "[[1 4]\n",
            " [2 5]\n",
            " [3 6]]\n"
          ]
        },
        {
          "output_type": "execute_result",
          "data": {
            "text/plain": [
              "4"
            ]
          },
          "metadata": {},
          "execution_count": 97
        }
      ],
      "source": [
        "print(np_b)\n",
        "np_b[0,1]"
      ]
    },
    {
      "cell_type": "markdown",
      "source": [
        "<font color='red'><h4>📝 Your turn</h4></font>\n",
        "\n",
        "Retrieve the element `3` from `np_b`"
      ],
      "metadata": {
        "id": "6vC2DkX25jZv"
      },
      "id": "6vC2DkX25jZv"
    },
    {
      "cell_type": "code",
      "source": [
        "# Retrieve the element 3 from np_b\n",
        "np_b[2,0]\n"
      ],
      "metadata": {
        "id": "am_m9OW85iZd",
        "colab": {
          "base_uri": "https://localhost:8080/"
        },
        "outputId": "861cf903-14a3-41b1-bcd8-fe1e9c2dc8a0"
      },
      "id": "am_m9OW85iZd",
      "execution_count": 98,
      "outputs": [
        {
          "output_type": "execute_result",
          "data": {
            "text/plain": [
              "3"
            ]
          },
          "metadata": {},
          "execution_count": 98
        }
      ]
    },
    {
      "cell_type": "code",
      "execution_count": 99,
      "id": "10a1b5cd",
      "metadata": {
        "id": "10a1b5cd",
        "outputId": "27b36291-b950-46ae-df40-8322d1ce7c6e",
        "colab": {
          "base_uri": "https://localhost:8080/"
        }
      },
      "outputs": [
        {
          "output_type": "execute_result",
          "data": {
            "text/plain": [
              "array([2, 5])"
            ]
          },
          "metadata": {},
          "execution_count": 99
        }
      ],
      "source": [
        "np_b[1]"
      ]
    },
    {
      "cell_type": "code",
      "execution_count": 100,
      "id": "3c1ca013",
      "metadata": {
        "id": "3c1ca013",
        "outputId": "fa6bf920-99d2-4091-bd1d-05be8098d6ac",
        "colab": {
          "base_uri": "https://localhost:8080/"
        }
      },
      "outputs": [
        {
          "output_type": "execute_result",
          "data": {
            "text/plain": [
              "array([2, 5])"
            ]
          },
          "metadata": {},
          "execution_count": 100
        }
      ],
      "source": [
        "np_b[1, :]"
      ]
    },
    {
      "cell_type": "code",
      "execution_count": 101,
      "id": "775d124d",
      "metadata": {
        "id": "775d124d",
        "outputId": "44c56599-311b-43c1-c033-f55a5e155664",
        "colab": {
          "base_uri": "https://localhost:8080/"
        }
      },
      "outputs": [
        {
          "output_type": "execute_result",
          "data": {
            "text/plain": [
              "array([[5],\n",
              "       [6]])"
            ]
          },
          "metadata": {},
          "execution_count": 101
        }
      ],
      "source": [
        "np_b[1:3, 1:]"
      ]
    },
    {
      "cell_type": "markdown",
      "id": "95ecab0e",
      "metadata": {
        "id": "95ecab0e"
      },
      "source": [
        "Transpose matrix"
      ]
    },
    {
      "cell_type": "code",
      "execution_count": 102,
      "id": "36feb350",
      "metadata": {
        "id": "36feb350",
        "outputId": "30912def-d7c5-4b5f-a722-35f5eeb7f48a",
        "colab": {
          "base_uri": "https://localhost:8080/"
        }
      },
      "outputs": [
        {
          "output_type": "execute_result",
          "data": {
            "text/plain": [
              "array([[1, 2, 3],\n",
              "       [4, 5, 6]])"
            ]
          },
          "metadata": {},
          "execution_count": 102
        }
      ],
      "source": [
        "np_b.T"
      ]
    },
    {
      "cell_type": "markdown",
      "id": "25f5e80e",
      "metadata": {
        "id": "25f5e80e"
      },
      "source": [
        "matrix multiplication"
      ]
    },
    {
      "cell_type": "code",
      "source": [
        "np_a"
      ],
      "metadata": {
        "colab": {
          "base_uri": "https://localhost:8080/"
        },
        "id": "LT2eX3K__z2K",
        "outputId": "a8ebfdf1-834c-4129-d9ca-81919cf7980d"
      },
      "id": "LT2eX3K__z2K",
      "execution_count": 103,
      "outputs": [
        {
          "output_type": "execute_result",
          "data": {
            "text/plain": [
              "array([[1, 2, 3],\n",
              "       [4, 5, 6]])"
            ]
          },
          "metadata": {},
          "execution_count": 103
        }
      ]
    },
    {
      "cell_type": "code",
      "source": [
        "np_a * np_b ### Matrix คูณกันไม่ได้ ถ้า shape ไม่เท่ากัน"
      ],
      "metadata": {
        "id": "6Mj6Mdb_vNUc"
      },
      "id": "6Mj6Mdb_vNUc",
      "execution_count": null,
      "outputs": []
    },
    {
      "cell_type": "code",
      "source": [
        "np_b"
      ],
      "metadata": {
        "colab": {
          "base_uri": "https://localhost:8080/"
        },
        "id": "43YF20Ne_1Ux",
        "outputId": "9b8960b9-1c5d-40eb-9093-554a96c1b52a"
      },
      "id": "43YF20Ne_1Ux",
      "execution_count": 104,
      "outputs": [
        {
          "output_type": "execute_result",
          "data": {
            "text/plain": [
              "array([[1, 4],\n",
              "       [2, 5],\n",
              "       [3, 6]])"
            ]
          },
          "metadata": {},
          "execution_count": 104
        }
      ]
    },
    {
      "cell_type": "code",
      "execution_count": 108,
      "id": "1f89d90f",
      "metadata": {
        "id": "1f89d90f",
        "outputId": "d0a3e9d1-7cd4-4e6c-944f-3771e74ae0b0",
        "colab": {
          "base_uri": "https://localhost:8080/"
        }
      },
      "outputs": [
        {
          "output_type": "execute_result",
          "data": {
            "text/plain": [
              "array([[17, 22, 27],\n",
              "       [22, 29, 36],\n",
              "       [27, 36, 45]])"
            ]
          },
          "metadata": {},
          "execution_count": 108
        }
      ],
      "source": [
        "np.dot(np_b,np_a) #วิธีการคุณ Matrix ที่ให้เท่ากัน"
      ]
    },
    {
      "cell_type": "code",
      "execution_count": 106,
      "id": "c4ff4bae",
      "metadata": {
        "id": "c4ff4bae",
        "outputId": "c27029f9-e26c-4c26-8e3b-11b3ae4b029c",
        "colab": {
          "base_uri": "https://localhost:8080/"
        }
      },
      "outputs": [
        {
          "output_type": "execute_result",
          "data": {
            "text/plain": [
              "array([[14, 32],\n",
              "       [32, 77]])"
            ]
          },
          "metadata": {},
          "execution_count": 106
        }
      ],
      "source": [
        "np.dot(np_a,np_b)"
      ]
    },
    {
      "cell_type": "code",
      "execution_count": 109,
      "id": "acc5f579",
      "metadata": {
        "id": "acc5f579",
        "outputId": "3fa6457b-7143-4fde-df38-8952306a5e86",
        "colab": {
          "base_uri": "https://localhost:8080/",
          "height": 176
        }
      },
      "outputs": [
        {
          "output_type": "error",
          "ename": "ValueError",
          "evalue": "ignored",
          "traceback": [
            "\u001b[0;31m---------------------------------------------------------------------------\u001b[0m",
            "\u001b[0;31mValueError\u001b[0m                                Traceback (most recent call last)",
            "\u001b[0;32m<ipython-input-109-a13340b4ae4f>\u001b[0m in \u001b[0;36m<cell line: 1>\u001b[0;34m()\u001b[0m\n\u001b[0;32m----> 1\u001b[0;31m \u001b[0mnp_a\u001b[0m \u001b[0;34m*\u001b[0m \u001b[0mnp_b\u001b[0m \u001b[0;31m#ไม่ได้ ใช้ np.dot\u001b[0m\u001b[0;34m\u001b[0m\u001b[0;34m\u001b[0m\u001b[0m\n\u001b[0m",
            "\u001b[0;31mValueError\u001b[0m: operands could not be broadcast together with shapes (2,3) (3,2) "
          ]
        }
      ],
      "source": [
        "np_a * np_b #ไม่ได้ ใช้ np.dot"
      ]
    },
    {
      "cell_type": "code",
      "source": [
        "np_a"
      ],
      "metadata": {
        "colab": {
          "base_uri": "https://localhost:8080/"
        },
        "id": "1nHHClt_AD3C",
        "outputId": "1b829772-f9d8-447d-c196-1396f94e8b25"
      },
      "id": "1nHHClt_AD3C",
      "execution_count": 110,
      "outputs": [
        {
          "output_type": "execute_result",
          "data": {
            "text/plain": [
              "array([[1, 2, 3],\n",
              "       [4, 5, 6]])"
            ]
          },
          "metadata": {},
          "execution_count": 110
        }
      ]
    },
    {
      "cell_type": "code",
      "execution_count": 113,
      "id": "19fcace1",
      "metadata": {
        "id": "19fcace1",
        "outputId": "3a95eebd-4a2f-461a-bfd0-c2b1339a519c",
        "colab": {
          "base_uri": "https://localhost:8080/"
        }
      },
      "outputs": [
        {
          "output_type": "execute_result",
          "data": {
            "text/plain": [
              "array([[ 1,  4,  9],\n",
              "       [16, 25, 36]])"
            ]
          },
          "metadata": {},
          "execution_count": 113
        }
      ],
      "source": [
        "np_a * np_a #Matrix เดียวกันคูณกันได้ เพราะขนาดเท่ากัน"
      ]
    },
    {
      "cell_type": "code",
      "execution_count": 112,
      "id": "a27e921d",
      "metadata": {
        "id": "a27e921d",
        "outputId": "fed84581-938d-4f90-81e8-b4074ab0a8f4",
        "colab": {
          "base_uri": "https://localhost:8080/"
        }
      },
      "outputs": [
        {
          "output_type": "execute_result",
          "data": {
            "text/plain": [
              "array([[2, 3, 4],\n",
              "       [5, 6, 7]])"
            ]
          },
          "metadata": {},
          "execution_count": 112
        }
      ],
      "source": [
        "np_a + 1"
      ]
    },
    {
      "cell_type": "code",
      "execution_count": 114,
      "id": "3291723a",
      "metadata": {
        "id": "3291723a",
        "outputId": "4a029b22-d395-4fa6-8c1e-fb11a12bb250",
        "colab": {
          "base_uri": "https://localhost:8080/"
        }
      },
      "outputs": [
        {
          "output_type": "execute_result",
          "data": {
            "text/plain": [
              "array([[ 3,  6,  9],\n",
              "       [12, 15, 18]])"
            ]
          },
          "metadata": {},
          "execution_count": 114
        }
      ],
      "source": [
        "np_a * 3"
      ]
    },
    {
      "cell_type": "markdown",
      "id": "83d85bfe",
      "metadata": {
        "id": "83d85bfe"
      },
      "source": [
        "Useful numpy functions"
      ]
    },
    {
      "cell_type": "code",
      "execution_count": 115,
      "id": "21adee27",
      "metadata": {
        "id": "21adee27",
        "outputId": "b212e287-aed1-4bae-a0d9-a5bf794fba0f",
        "colab": {
          "base_uri": "https://localhost:8080/"
        }
      },
      "outputs": [
        {
          "output_type": "stream",
          "name": "stdout",
          "text": [
            "[[1 2 3]\n",
            " [4 5 6]]\n"
          ]
        },
        {
          "output_type": "execute_result",
          "data": {
            "text/plain": [
              "21"
            ]
          },
          "metadata": {},
          "execution_count": 115
        }
      ],
      "source": [
        "print(np_a)\n",
        "np.sum(np_a)"
      ]
    },
    {
      "cell_type": "code",
      "execution_count": 119,
      "id": "38095ace",
      "metadata": {
        "id": "38095ace",
        "outputId": "006c6db2-a4b3-4ef2-c1a9-0753e89d6814",
        "colab": {
          "base_uri": "https://localhost:8080/"
        }
      },
      "outputs": [
        {
          "output_type": "execute_result",
          "data": {
            "text/plain": [
              "array([5, 7, 9])"
            ]
          },
          "metadata": {},
          "execution_count": 119
        }
      ],
      "source": [
        "np.sum(np_a, axis=0) #ยุบเเถว บวกกันตามหลัก"
      ]
    },
    {
      "cell_type": "code",
      "execution_count": 118,
      "id": "9a35059a",
      "metadata": {
        "id": "9a35059a",
        "outputId": "d161c021-ac1e-499d-9f1c-61fad494078a",
        "colab": {
          "base_uri": "https://localhost:8080/"
        }
      },
      "outputs": [
        {
          "output_type": "execute_result",
          "data": {
            "text/plain": [
              "array([ 6, 15])"
            ]
          },
          "metadata": {},
          "execution_count": 118
        }
      ],
      "source": [
        "np.sum(np_a, axis=1) #ยุบหลัก บวกกันเเต่ละเเถว"
      ]
    },
    {
      "cell_type": "code",
      "execution_count": 120,
      "id": "89e6b4bc",
      "metadata": {
        "id": "89e6b4bc",
        "outputId": "8a1ecbb1-57ff-4532-c942-812c49320245",
        "colab": {
          "base_uri": "https://localhost:8080/"
        }
      },
      "outputs": [
        {
          "output_type": "execute_result",
          "data": {
            "text/plain": [
              "3.5"
            ]
          },
          "metadata": {},
          "execution_count": 120
        }
      ],
      "source": [
        "np.mean(np_a) #หาค่าเฉลี่ย"
      ]
    },
    {
      "cell_type": "code",
      "source": [
        "np_a.mean(axis=0)"
      ],
      "metadata": {
        "id": "jbFo-czJwh7M",
        "outputId": "dcd26957-9809-4146-e023-b2b90cbdd744",
        "colab": {
          "base_uri": "https://localhost:8080/"
        }
      },
      "id": "jbFo-czJwh7M",
      "execution_count": 126,
      "outputs": [
        {
          "output_type": "execute_result",
          "data": {
            "text/plain": [
              "array([2.5, 3.5, 4.5])"
            ]
          },
          "metadata": {},
          "execution_count": 126
        }
      ]
    },
    {
      "cell_type": "code",
      "execution_count": 123,
      "id": "52b4ac3f",
      "metadata": {
        "id": "52b4ac3f",
        "outputId": "de4702c8-f672-4110-f1eb-7c0e84bc46e5",
        "colab": {
          "base_uri": "https://localhost:8080/"
        }
      },
      "outputs": [
        {
          "output_type": "execute_result",
          "data": {
            "text/plain": [
              "array([2.5, 3.5, 4.5])"
            ]
          },
          "metadata": {},
          "execution_count": 123
        }
      ],
      "source": [
        "np.mean(np_a, axis=0) # compute mean along the row axes"
      ]
    },
    {
      "cell_type": "code",
      "execution_count": 122,
      "id": "316658eb",
      "metadata": {
        "id": "316658eb",
        "outputId": "c88e6cb1-95f4-4a05-820c-6e1126111914",
        "colab": {
          "base_uri": "https://localhost:8080/"
        }
      },
      "outputs": [
        {
          "output_type": "execute_result",
          "data": {
            "text/plain": [
              "array([2., 5.])"
            ]
          },
          "metadata": {},
          "execution_count": 122
        }
      ],
      "source": [
        "np.mean(np_a, axis=1) # compute mean along the column axes"
      ]
    },
    {
      "cell_type": "code",
      "execution_count": 121,
      "id": "2f6274b7",
      "metadata": {
        "id": "2f6274b7",
        "outputId": "500fdb4f-25ae-4c09-8152-310b53332fa4",
        "colab": {
          "base_uri": "https://localhost:8080/"
        }
      },
      "outputs": [
        {
          "output_type": "execute_result",
          "data": {
            "text/plain": [
              "array([4, 5, 6])"
            ]
          },
          "metadata": {},
          "execution_count": 121
        }
      ],
      "source": [
        "np_a.max(axis=0)"
      ]
    },
    {
      "cell_type": "markdown",
      "source": [
        "## Pandas Series\n",
        "One-dimensional ndarray with axis labels \\\n",
        "https://pandas.pydata.org/docs/reference/api/pandas.Series.html#pandas.Series"
      ],
      "metadata": {
        "id": "8LyZkQdte4jp"
      },
      "id": "8LyZkQdte4jp"
    },
    {
      "cell_type": "code",
      "source": [
        "import pandas as pd"
      ],
      "metadata": {
        "id": "Ay_LRhad7w6w"
      },
      "id": "Ay_LRhad7w6w",
      "execution_count": 127,
      "outputs": []
    },
    {
      "cell_type": "code",
      "source": [
        "calories = {\"day1\": 420, \"day2\": 380, \"day3\": 390}\n",
        "diet = pd.Series(calories)\n",
        "#myseries = pd.Series([420, 380, 390], index=[\"day1\",\"day2\",\"day3\"])\n",
        "diet"
      ],
      "metadata": {
        "colab": {
          "base_uri": "https://localhost:8080/"
        },
        "id": "6792Uc42gclI",
        "outputId": "d006edc0-1c7e-4bc1-f993-e1126d95967f"
      },
      "id": "6792Uc42gclI",
      "execution_count": 128,
      "outputs": [
        {
          "output_type": "execute_result",
          "data": {
            "text/plain": [
              "day1    420\n",
              "day2    380\n",
              "day3    390\n",
              "dtype: int64"
            ]
          },
          "metadata": {},
          "execution_count": 128
        }
      ]
    },
    {
      "cell_type": "code",
      "source": [
        "diet[\"day2\"]"
      ],
      "metadata": {
        "colab": {
          "base_uri": "https://localhost:8080/"
        },
        "id": "53qcaqfggciP",
        "outputId": "dc8b7139-b38c-4ea4-f7e1-b53902810ec8"
      },
      "id": "53qcaqfggciP",
      "execution_count": 129,
      "outputs": [
        {
          "output_type": "execute_result",
          "data": {
            "text/plain": [
              "380"
            ]
          },
          "metadata": {},
          "execution_count": 129
        }
      ]
    },
    {
      "cell_type": "code",
      "source": [
        "diet[0]"
      ],
      "metadata": {
        "colab": {
          "base_uri": "https://localhost:8080/"
        },
        "id": "rGM7kr7mgcfd",
        "outputId": "21feefc1-bf04-484d-f784-d3815e2f4406"
      },
      "id": "rGM7kr7mgcfd",
      "execution_count": 130,
      "outputs": [
        {
          "output_type": "execute_result",
          "data": {
            "text/plain": [
              "420"
            ]
          },
          "metadata": {},
          "execution_count": 130
        }
      ]
    },
    {
      "cell_type": "code",
      "source": [
        "diet.mean()"
      ],
      "metadata": {
        "colab": {
          "base_uri": "https://localhost:8080/"
        },
        "id": "1mt90NzQj5Hj",
        "outputId": "023c31eb-9b7a-47d8-84ba-890dab8e9129"
      },
      "id": "1mt90NzQj5Hj",
      "execution_count": 131,
      "outputs": [
        {
          "output_type": "execute_result",
          "data": {
            "text/plain": [
              "396.6666666666667"
            ]
          },
          "metadata": {},
          "execution_count": 131
        }
      ]
    },
    {
      "cell_type": "markdown",
      "source": [
        "## Pandas Dataframe\n",
        "Two-dimensional tabular data \\\n",
        "https://pandas.pydata.org/docs/reference/api/pandas.DataFrame.html#pandas.DataFrame"
      ],
      "metadata": {
        "id": "V-6OrQM5ziaE"
      },
      "id": "V-6OrQM5ziaE"
    },
    {
      "cell_type": "markdown",
      "source": [
        "### Creating a dataframe"
      ],
      "metadata": {
        "id": "wqF2seve03uL"
      },
      "id": "wqF2seve03uL"
    },
    {
      "cell_type": "markdown",
      "source": [
        "![createDF](https://pbpython.com/images/pandas-dataframe-shadow.png)"
      ],
      "metadata": {
        "id": "LIYcQIh20790"
      },
      "id": "LIYcQIh20790"
    },
    {
      "cell_type": "code",
      "source": [
        "import pandas as pd"
      ],
      "metadata": {
        "id": "5SbLMlP21LNn"
      },
      "id": "5SbLMlP21LNn",
      "execution_count": 132,
      "outputs": []
    },
    {
      "cell_type": "code",
      "source": [
        "d = {'No': [1, 2, 3, 4, 5],\n",
        "     'Name': [\"สมบูรณ์\", \"สมชาย\", \"สมหญิง\", \"สมหมาย\", \"สมบัติ\"],\n",
        "     'Age': [23, 45, 62, 30, 32]}\n",
        "df = pd.DataFrame(data = d)\n",
        "df\n"
      ],
      "metadata": {
        "colab": {
          "base_uri": "https://localhost:8080/",
          "height": 1000
        },
        "id": "EKmJieiWzhsR",
        "outputId": "786e073b-5b7e-4fb6-ba50-c0c8bbd588c3"
      },
      "id": "EKmJieiWzhsR",
      "execution_count": 150,
      "outputs": [
        {
          "output_type": "execute_result",
          "data": {
            "text/plain": [
              "   No     Name  Age\n",
              "0   1  สมบูรณ์   23\n",
              "1   2    สมชาย   45\n",
              "2   3   สมหญิง   62\n",
              "3   4   สมหมาย   30\n",
              "4   5   สมบัติ   32"
            ],
            "text/html": [
              "\n",
              "  <div id=\"df-b79560c4-280a-4eec-83ad-38e55bbd9eb1\" class=\"colab-df-container\">\n",
              "    <div>\n",
              "<style scoped>\n",
              "    .dataframe tbody tr th:only-of-type {\n",
              "        vertical-align: middle;\n",
              "    }\n",
              "\n",
              "    .dataframe tbody tr th {\n",
              "        vertical-align: top;\n",
              "    }\n",
              "\n",
              "    .dataframe thead th {\n",
              "        text-align: right;\n",
              "    }\n",
              "</style>\n",
              "<table border=\"1\" class=\"dataframe\">\n",
              "  <thead>\n",
              "    <tr style=\"text-align: right;\">\n",
              "      <th></th>\n",
              "      <th>No</th>\n",
              "      <th>Name</th>\n",
              "      <th>Age</th>\n",
              "    </tr>\n",
              "  </thead>\n",
              "  <tbody>\n",
              "    <tr>\n",
              "      <th>0</th>\n",
              "      <td>1</td>\n",
              "      <td>สมบูรณ์</td>\n",
              "      <td>23</td>\n",
              "    </tr>\n",
              "    <tr>\n",
              "      <th>1</th>\n",
              "      <td>2</td>\n",
              "      <td>สมชาย</td>\n",
              "      <td>45</td>\n",
              "    </tr>\n",
              "    <tr>\n",
              "      <th>2</th>\n",
              "      <td>3</td>\n",
              "      <td>สมหญิง</td>\n",
              "      <td>62</td>\n",
              "    </tr>\n",
              "    <tr>\n",
              "      <th>3</th>\n",
              "      <td>4</td>\n",
              "      <td>สมหมาย</td>\n",
              "      <td>30</td>\n",
              "    </tr>\n",
              "    <tr>\n",
              "      <th>4</th>\n",
              "      <td>5</td>\n",
              "      <td>สมบัติ</td>\n",
              "      <td>32</td>\n",
              "    </tr>\n",
              "  </tbody>\n",
              "</table>\n",
              "</div>\n",
              "    <div class=\"colab-df-buttons\">\n",
              "\n",
              "  <div class=\"colab-df-container\">\n",
              "    <button class=\"colab-df-convert\" onclick=\"convertToInteractive('df-b79560c4-280a-4eec-83ad-38e55bbd9eb1')\"\n",
              "            title=\"Convert this dataframe to an interactive table.\"\n",
              "            style=\"display:none;\">\n",
              "\n",
              "  <svg xmlns=\"http://www.w3.org/2000/svg\" height=\"24px\" viewBox=\"0 -960 960 960\">\n",
              "    <path d=\"M120-120v-720h720v720H120Zm60-500h600v-160H180v160Zm220 220h160v-160H400v160Zm0 220h160v-160H400v160ZM180-400h160v-160H180v160Zm440 0h160v-160H620v160ZM180-180h160v-160H180v160Zm440 0h160v-160H620v160Z\"/>\n",
              "  </svg>\n",
              "    </button>\n",
              "\n",
              "  <style>\n",
              "    .colab-df-container {\n",
              "      display:flex;\n",
              "      gap: 12px;\n",
              "    }\n",
              "\n",
              "    .colab-df-convert {\n",
              "      background-color: #E8F0FE;\n",
              "      border: none;\n",
              "      border-radius: 50%;\n",
              "      cursor: pointer;\n",
              "      display: none;\n",
              "      fill: #1967D2;\n",
              "      height: 32px;\n",
              "      padding: 0 0 0 0;\n",
              "      width: 32px;\n",
              "    }\n",
              "\n",
              "    .colab-df-convert:hover {\n",
              "      background-color: #E2EBFA;\n",
              "      box-shadow: 0px 1px 2px rgba(60, 64, 67, 0.3), 0px 1px 3px 1px rgba(60, 64, 67, 0.15);\n",
              "      fill: #174EA6;\n",
              "    }\n",
              "\n",
              "    .colab-df-buttons div {\n",
              "      margin-bottom: 4px;\n",
              "    }\n",
              "\n",
              "    [theme=dark] .colab-df-convert {\n",
              "      background-color: #3B4455;\n",
              "      fill: #D2E3FC;\n",
              "    }\n",
              "\n",
              "    [theme=dark] .colab-df-convert:hover {\n",
              "      background-color: #434B5C;\n",
              "      box-shadow: 0px 1px 3px 1px rgba(0, 0, 0, 0.15);\n",
              "      filter: drop-shadow(0px 1px 2px rgba(0, 0, 0, 0.3));\n",
              "      fill: #FFFFFF;\n",
              "    }\n",
              "  </style>\n",
              "\n",
              "    <script>\n",
              "      const buttonEl =\n",
              "        document.querySelector('#df-b79560c4-280a-4eec-83ad-38e55bbd9eb1 button.colab-df-convert');\n",
              "      buttonEl.style.display =\n",
              "        google.colab.kernel.accessAllowed ? 'block' : 'none';\n",
              "\n",
              "      async function convertToInteractive(key) {\n",
              "        const element = document.querySelector('#df-b79560c4-280a-4eec-83ad-38e55bbd9eb1');\n",
              "        const dataTable =\n",
              "          await google.colab.kernel.invokeFunction('convertToInteractive',\n",
              "                                                    [key], {});\n",
              "        if (!dataTable) return;\n",
              "\n",
              "        const docLinkHtml = 'Like what you see? Visit the ' +\n",
              "          '<a target=\"_blank\" href=https://colab.research.google.com/notebooks/data_table.ipynb>data table notebook</a>'\n",
              "          + ' to learn more about interactive tables.';\n",
              "        element.innerHTML = '';\n",
              "        dataTable['output_type'] = 'display_data';\n",
              "        await google.colab.output.renderOutput(dataTable, element);\n",
              "        const docLink = document.createElement('div');\n",
              "        docLink.innerHTML = docLinkHtml;\n",
              "        element.appendChild(docLink);\n",
              "      }\n",
              "    </script>\n",
              "  </div>\n",
              "\n",
              "\n",
              "<div id=\"df-78293104-c746-4709-959e-a75c3a15c307\">\n",
              "  <button class=\"colab-df-quickchart\" onclick=\"quickchart('df-78293104-c746-4709-959e-a75c3a15c307')\"\n",
              "            title=\"Suggest charts.\"\n",
              "            style=\"display:none;\">\n",
              "\n",
              "<svg xmlns=\"http://www.w3.org/2000/svg\" height=\"24px\"viewBox=\"0 0 24 24\"\n",
              "     width=\"24px\">\n",
              "    <g>\n",
              "        <path d=\"M19 3H5c-1.1 0-2 .9-2 2v14c0 1.1.9 2 2 2h14c1.1 0 2-.9 2-2V5c0-1.1-.9-2-2-2zM9 17H7v-7h2v7zm4 0h-2V7h2v10zm4 0h-2v-4h2v4z\"/>\n",
              "    </g>\n",
              "</svg>\n",
              "  </button>\n",
              "\n",
              "<style>\n",
              "  .colab-df-quickchart {\n",
              "      --bg-color: #E8F0FE;\n",
              "      --fill-color: #1967D2;\n",
              "      --hover-bg-color: #E2EBFA;\n",
              "      --hover-fill-color: #174EA6;\n",
              "      --disabled-fill-color: #AAA;\n",
              "      --disabled-bg-color: #DDD;\n",
              "  }\n",
              "\n",
              "  [theme=dark] .colab-df-quickchart {\n",
              "      --bg-color: #3B4455;\n",
              "      --fill-color: #D2E3FC;\n",
              "      --hover-bg-color: #434B5C;\n",
              "      --hover-fill-color: #FFFFFF;\n",
              "      --disabled-bg-color: #3B4455;\n",
              "      --disabled-fill-color: #666;\n",
              "  }\n",
              "\n",
              "  .colab-df-quickchart {\n",
              "    background-color: var(--bg-color);\n",
              "    border: none;\n",
              "    border-radius: 50%;\n",
              "    cursor: pointer;\n",
              "    display: none;\n",
              "    fill: var(--fill-color);\n",
              "    height: 32px;\n",
              "    padding: 0;\n",
              "    width: 32px;\n",
              "  }\n",
              "\n",
              "  .colab-df-quickchart:hover {\n",
              "    background-color: var(--hover-bg-color);\n",
              "    box-shadow: 0 1px 2px rgba(60, 64, 67, 0.3), 0 1px 3px 1px rgba(60, 64, 67, 0.15);\n",
              "    fill: var(--button-hover-fill-color);\n",
              "  }\n",
              "\n",
              "  .colab-df-quickchart-complete:disabled,\n",
              "  .colab-df-quickchart-complete:disabled:hover {\n",
              "    background-color: var(--disabled-bg-color);\n",
              "    fill: var(--disabled-fill-color);\n",
              "    box-shadow: none;\n",
              "  }\n",
              "\n",
              "  .colab-df-spinner {\n",
              "    border: 2px solid var(--fill-color);\n",
              "    border-color: transparent;\n",
              "    border-bottom-color: var(--fill-color);\n",
              "    animation:\n",
              "      spin 1s steps(1) infinite;\n",
              "  }\n",
              "\n",
              "  @keyframes spin {\n",
              "    0% {\n",
              "      border-color: transparent;\n",
              "      border-bottom-color: var(--fill-color);\n",
              "      border-left-color: var(--fill-color);\n",
              "    }\n",
              "    20% {\n",
              "      border-color: transparent;\n",
              "      border-left-color: var(--fill-color);\n",
              "      border-top-color: var(--fill-color);\n",
              "    }\n",
              "    30% {\n",
              "      border-color: transparent;\n",
              "      border-left-color: var(--fill-color);\n",
              "      border-top-color: var(--fill-color);\n",
              "      border-right-color: var(--fill-color);\n",
              "    }\n",
              "    40% {\n",
              "      border-color: transparent;\n",
              "      border-right-color: var(--fill-color);\n",
              "      border-top-color: var(--fill-color);\n",
              "    }\n",
              "    60% {\n",
              "      border-color: transparent;\n",
              "      border-right-color: var(--fill-color);\n",
              "    }\n",
              "    80% {\n",
              "      border-color: transparent;\n",
              "      border-right-color: var(--fill-color);\n",
              "      border-bottom-color: var(--fill-color);\n",
              "    }\n",
              "    90% {\n",
              "      border-color: transparent;\n",
              "      border-bottom-color: var(--fill-color);\n",
              "    }\n",
              "  }\n",
              "</style>\n",
              "\n",
              "  <script>\n",
              "    async function quickchart(key) {\n",
              "      const quickchartButtonEl =\n",
              "        document.querySelector('#' + key + ' button');\n",
              "      quickchartButtonEl.disabled = true;  // To prevent multiple clicks.\n",
              "      quickchartButtonEl.classList.add('colab-df-spinner');\n",
              "      try {\n",
              "        const charts = await google.colab.kernel.invokeFunction(\n",
              "            'suggestCharts', [key], {});\n",
              "      } catch (error) {\n",
              "        console.error('Error during call to suggestCharts:', error);\n",
              "      }\n",
              "      quickchartButtonEl.classList.remove('colab-df-spinner');\n",
              "      quickchartButtonEl.classList.add('colab-df-quickchart-complete');\n",
              "    }\n",
              "    (() => {\n",
              "      let quickchartButtonEl =\n",
              "        document.querySelector('#df-78293104-c746-4709-959e-a75c3a15c307 button');\n",
              "      quickchartButtonEl.style.display =\n",
              "        google.colab.kernel.accessAllowed ? 'block' : 'none';\n",
              "    })();\n",
              "  </script>\n",
              "</div>\n",
              "    </div>\n",
              "  </div>\n"
            ]
          },
          "metadata": {},
          "execution_count": 150
        },
        {
          "output_type": "stream",
          "name": "stderr",
          "text": [
            "/usr/local/lib/python3.10/dist-packages/google/colab/_quickchart_lib.py:26: UserWarning: Glyph 3626 (\\N{THAI CHARACTER SO SUA}) missing from current font.\n",
            "  plt.savefig(\n",
            "/usr/local/lib/python3.10/dist-packages/google/colab/_quickchart_lib.py:26: UserWarning: Glyph 3617 (\\N{THAI CHARACTER MO MA}) missing from current font.\n",
            "  plt.savefig(\n",
            "/usr/local/lib/python3.10/dist-packages/google/colab/_quickchart_lib.py:26: UserWarning: Glyph 3594 (\\N{THAI CHARACTER CHO CHANG}) missing from current font.\n",
            "  plt.savefig(\n",
            "/usr/local/lib/python3.10/dist-packages/google/colab/_quickchart_lib.py:26: UserWarning: Glyph 3634 (\\N{THAI CHARACTER SARA AA}) missing from current font.\n",
            "  plt.savefig(\n",
            "/usr/local/lib/python3.10/dist-packages/google/colab/_quickchart_lib.py:26: UserWarning: Glyph 3618 (\\N{THAI CHARACTER YO YAK}) missing from current font.\n",
            "  plt.savefig(\n",
            "/usr/local/lib/python3.10/dist-packages/google/colab/_quickchart_lib.py:26: UserWarning: Glyph 3610 (\\N{THAI CHARACTER BO BAIMAI}) missing from current font.\n",
            "  plt.savefig(\n",
            "/usr/local/lib/python3.10/dist-packages/google/colab/_quickchart_lib.py:26: UserWarning: Glyph 3633 (\\N{THAI CHARACTER MAI HAN-AKAT}) missing from current font.\n",
            "  plt.savefig(\n",
            "/usr/local/lib/python3.10/dist-packages/google/colab/_quickchart_lib.py:26: UserWarning: Glyph 3605 (\\N{THAI CHARACTER TO TAO}) missing from current font.\n",
            "  plt.savefig(\n",
            "/usr/local/lib/python3.10/dist-packages/google/colab/_quickchart_lib.py:26: UserWarning: Glyph 3636 (\\N{THAI CHARACTER SARA I}) missing from current font.\n",
            "  plt.savefig(\n",
            "/usr/local/lib/python3.10/dist-packages/google/colab/_quickchart_lib.py:26: UserWarning: Glyph 3641 (\\N{THAI CHARACTER SARA UU}) missing from current font.\n",
            "  plt.savefig(\n",
            "/usr/local/lib/python3.10/dist-packages/google/colab/_quickchart_lib.py:26: UserWarning: Glyph 3619 (\\N{THAI CHARACTER RO RUA}) missing from current font.\n",
            "  plt.savefig(\n",
            "/usr/local/lib/python3.10/dist-packages/google/colab/_quickchart_lib.py:26: UserWarning: Glyph 3603 (\\N{THAI CHARACTER NO NEN}) missing from current font.\n",
            "  plt.savefig(\n",
            "/usr/local/lib/python3.10/dist-packages/google/colab/_quickchart_lib.py:26: UserWarning: Glyph 3660 (\\N{THAI CHARACTER THANTHAKHAT}) missing from current font.\n",
            "  plt.savefig(\n",
            "/usr/local/lib/python3.10/dist-packages/google/colab/_quickchart_lib.py:26: UserWarning: Glyph 3627 (\\N{THAI CHARACTER HO HIP}) missing from current font.\n",
            "  plt.savefig(\n",
            "/usr/local/lib/python3.10/dist-packages/google/colab/_quickchart_lib.py:26: UserWarning: Glyph 3597 (\\N{THAI CHARACTER YO YING}) missing from current font.\n",
            "  plt.savefig(\n",
            "/usr/local/lib/python3.10/dist-packages/google/colab/_quickchart_lib.py:26: UserWarning: Glyph 3591 (\\N{THAI CHARACTER NGO NGU}) missing from current font.\n",
            "  plt.savefig(\n",
            "/usr/local/lib/python3.10/dist-packages/google/colab/_quickchart_lib.py:26: UserWarning: Glyph 3626 (\\N{THAI CHARACTER SO SUA}) missing from current font.\n",
            "  plt.savefig(\n",
            "/usr/local/lib/python3.10/dist-packages/google/colab/_quickchart_lib.py:26: UserWarning: Glyph 3617 (\\N{THAI CHARACTER MO MA}) missing from current font.\n",
            "  plt.savefig(\n",
            "/usr/local/lib/python3.10/dist-packages/google/colab/_quickchart_lib.py:26: UserWarning: Glyph 3610 (\\N{THAI CHARACTER BO BAIMAI}) missing from current font.\n",
            "  plt.savefig(\n",
            "/usr/local/lib/python3.10/dist-packages/google/colab/_quickchart_lib.py:26: UserWarning: Glyph 3641 (\\N{THAI CHARACTER SARA UU}) missing from current font.\n",
            "  plt.savefig(\n",
            "/usr/local/lib/python3.10/dist-packages/google/colab/_quickchart_lib.py:26: UserWarning: Glyph 3619 (\\N{THAI CHARACTER RO RUA}) missing from current font.\n",
            "  plt.savefig(\n",
            "/usr/local/lib/python3.10/dist-packages/google/colab/_quickchart_lib.py:26: UserWarning: Glyph 3603 (\\N{THAI CHARACTER NO NEN}) missing from current font.\n",
            "  plt.savefig(\n",
            "/usr/local/lib/python3.10/dist-packages/google/colab/_quickchart_lib.py:26: UserWarning: Glyph 3660 (\\N{THAI CHARACTER THANTHAKHAT}) missing from current font.\n",
            "  plt.savefig(\n",
            "/usr/local/lib/python3.10/dist-packages/google/colab/_quickchart_lib.py:26: UserWarning: Glyph 3594 (\\N{THAI CHARACTER CHO CHANG}) missing from current font.\n",
            "  plt.savefig(\n",
            "/usr/local/lib/python3.10/dist-packages/google/colab/_quickchart_lib.py:26: UserWarning: Glyph 3634 (\\N{THAI CHARACTER SARA AA}) missing from current font.\n",
            "  plt.savefig(\n",
            "/usr/local/lib/python3.10/dist-packages/google/colab/_quickchart_lib.py:26: UserWarning: Glyph 3618 (\\N{THAI CHARACTER YO YAK}) missing from current font.\n",
            "  plt.savefig(\n",
            "/usr/local/lib/python3.10/dist-packages/google/colab/_quickchart_lib.py:26: UserWarning: Glyph 3627 (\\N{THAI CHARACTER HO HIP}) missing from current font.\n",
            "  plt.savefig(\n",
            "/usr/local/lib/python3.10/dist-packages/google/colab/_quickchart_lib.py:26: UserWarning: Glyph 3597 (\\N{THAI CHARACTER YO YING}) missing from current font.\n",
            "  plt.savefig(\n",
            "/usr/local/lib/python3.10/dist-packages/google/colab/_quickchart_lib.py:26: UserWarning: Glyph 3636 (\\N{THAI CHARACTER SARA I}) missing from current font.\n",
            "  plt.savefig(\n",
            "/usr/local/lib/python3.10/dist-packages/google/colab/_quickchart_lib.py:26: UserWarning: Glyph 3591 (\\N{THAI CHARACTER NGO NGU}) missing from current font.\n",
            "  plt.savefig(\n",
            "/usr/local/lib/python3.10/dist-packages/google/colab/_quickchart_lib.py:26: UserWarning: Glyph 3633 (\\N{THAI CHARACTER MAI HAN-AKAT}) missing from current font.\n",
            "  plt.savefig(\n",
            "/usr/local/lib/python3.10/dist-packages/google/colab/_quickchart_lib.py:26: UserWarning: Glyph 3605 (\\N{THAI CHARACTER TO TAO}) missing from current font.\n",
            "  plt.savefig(\n",
            "/usr/local/lib/python3.10/dist-packages/google/colab/_quickchart_lib.py:26: UserWarning: Glyph 3626 (\\N{THAI CHARACTER SO SUA}) missing from current font.\n",
            "  plt.savefig(\n",
            "/usr/local/lib/python3.10/dist-packages/google/colab/_quickchart_lib.py:26: UserWarning: Glyph 3617 (\\N{THAI CHARACTER MO MA}) missing from current font.\n",
            "  plt.savefig(\n",
            "/usr/local/lib/python3.10/dist-packages/google/colab/_quickchart_lib.py:26: UserWarning: Glyph 3610 (\\N{THAI CHARACTER BO BAIMAI}) missing from current font.\n",
            "  plt.savefig(\n",
            "/usr/local/lib/python3.10/dist-packages/google/colab/_quickchart_lib.py:26: UserWarning: Glyph 3641 (\\N{THAI CHARACTER SARA UU}) missing from current font.\n",
            "  plt.savefig(\n",
            "/usr/local/lib/python3.10/dist-packages/google/colab/_quickchart_lib.py:26: UserWarning: Glyph 3619 (\\N{THAI CHARACTER RO RUA}) missing from current font.\n",
            "  plt.savefig(\n",
            "/usr/local/lib/python3.10/dist-packages/google/colab/_quickchart_lib.py:26: UserWarning: Glyph 3603 (\\N{THAI CHARACTER NO NEN}) missing from current font.\n",
            "  plt.savefig(\n",
            "/usr/local/lib/python3.10/dist-packages/google/colab/_quickchart_lib.py:26: UserWarning: Glyph 3660 (\\N{THAI CHARACTER THANTHAKHAT}) missing from current font.\n",
            "  plt.savefig(\n",
            "/usr/local/lib/python3.10/dist-packages/google/colab/_quickchart_lib.py:26: UserWarning: Glyph 3594 (\\N{THAI CHARACTER CHO CHANG}) missing from current font.\n",
            "  plt.savefig(\n",
            "/usr/local/lib/python3.10/dist-packages/google/colab/_quickchart_lib.py:26: UserWarning: Glyph 3634 (\\N{THAI CHARACTER SARA AA}) missing from current font.\n",
            "  plt.savefig(\n",
            "/usr/local/lib/python3.10/dist-packages/google/colab/_quickchart_lib.py:26: UserWarning: Glyph 3618 (\\N{THAI CHARACTER YO YAK}) missing from current font.\n",
            "  plt.savefig(\n",
            "/usr/local/lib/python3.10/dist-packages/google/colab/_quickchart_lib.py:26: UserWarning: Glyph 3627 (\\N{THAI CHARACTER HO HIP}) missing from current font.\n",
            "  plt.savefig(\n",
            "/usr/local/lib/python3.10/dist-packages/google/colab/_quickchart_lib.py:26: UserWarning: Glyph 3597 (\\N{THAI CHARACTER YO YING}) missing from current font.\n",
            "  plt.savefig(\n",
            "/usr/local/lib/python3.10/dist-packages/google/colab/_quickchart_lib.py:26: UserWarning: Glyph 3636 (\\N{THAI CHARACTER SARA I}) missing from current font.\n",
            "  plt.savefig(\n",
            "/usr/local/lib/python3.10/dist-packages/google/colab/_quickchart_lib.py:26: UserWarning: Glyph 3591 (\\N{THAI CHARACTER NGO NGU}) missing from current font.\n",
            "  plt.savefig(\n",
            "/usr/local/lib/python3.10/dist-packages/google/colab/_quickchart_lib.py:26: UserWarning: Glyph 3633 (\\N{THAI CHARACTER MAI HAN-AKAT}) missing from current font.\n",
            "  plt.savefig(\n",
            "/usr/local/lib/python3.10/dist-packages/google/colab/_quickchart_lib.py:26: UserWarning: Glyph 3605 (\\N{THAI CHARACTER TO TAO}) missing from current font.\n",
            "  plt.savefig(\n",
            "/usr/local/lib/python3.10/dist-packages/google/colab/_quickchart_lib.py:26: UserWarning: Glyph 3626 (\\N{THAI CHARACTER SO SUA}) missing from current font.\n",
            "  plt.savefig(\n",
            "/usr/local/lib/python3.10/dist-packages/google/colab/_quickchart_lib.py:26: UserWarning: Glyph 3617 (\\N{THAI CHARACTER MO MA}) missing from current font.\n",
            "  plt.savefig(\n",
            "/usr/local/lib/python3.10/dist-packages/google/colab/_quickchart_lib.py:26: UserWarning: Glyph 3594 (\\N{THAI CHARACTER CHO CHANG}) missing from current font.\n",
            "  plt.savefig(\n",
            "/usr/local/lib/python3.10/dist-packages/google/colab/_quickchart_lib.py:26: UserWarning: Glyph 3634 (\\N{THAI CHARACTER SARA AA}) missing from current font.\n",
            "  plt.savefig(\n",
            "/usr/local/lib/python3.10/dist-packages/google/colab/_quickchart_lib.py:26: UserWarning: Glyph 3618 (\\N{THAI CHARACTER YO YAK}) missing from current font.\n",
            "  plt.savefig(\n",
            "/usr/local/lib/python3.10/dist-packages/google/colab/_quickchart_lib.py:26: UserWarning: Glyph 3610 (\\N{THAI CHARACTER BO BAIMAI}) missing from current font.\n",
            "  plt.savefig(\n",
            "/usr/local/lib/python3.10/dist-packages/google/colab/_quickchart_lib.py:26: UserWarning: Glyph 3633 (\\N{THAI CHARACTER MAI HAN-AKAT}) missing from current font.\n",
            "  plt.savefig(\n",
            "/usr/local/lib/python3.10/dist-packages/google/colab/_quickchart_lib.py:26: UserWarning: Glyph 3605 (\\N{THAI CHARACTER TO TAO}) missing from current font.\n",
            "  plt.savefig(\n",
            "/usr/local/lib/python3.10/dist-packages/google/colab/_quickchart_lib.py:26: UserWarning: Glyph 3636 (\\N{THAI CHARACTER SARA I}) missing from current font.\n",
            "  plt.savefig(\n",
            "/usr/local/lib/python3.10/dist-packages/google/colab/_quickchart_lib.py:26: UserWarning: Glyph 3641 (\\N{THAI CHARACTER SARA UU}) missing from current font.\n",
            "  plt.savefig(\n",
            "/usr/local/lib/python3.10/dist-packages/google/colab/_quickchart_lib.py:26: UserWarning: Glyph 3619 (\\N{THAI CHARACTER RO RUA}) missing from current font.\n",
            "  plt.savefig(\n",
            "/usr/local/lib/python3.10/dist-packages/google/colab/_quickchart_lib.py:26: UserWarning: Glyph 3603 (\\N{THAI CHARACTER NO NEN}) missing from current font.\n",
            "  plt.savefig(\n",
            "/usr/local/lib/python3.10/dist-packages/google/colab/_quickchart_lib.py:26: UserWarning: Glyph 3660 (\\N{THAI CHARACTER THANTHAKHAT}) missing from current font.\n",
            "  plt.savefig(\n",
            "/usr/local/lib/python3.10/dist-packages/google/colab/_quickchart_lib.py:26: UserWarning: Glyph 3627 (\\N{THAI CHARACTER HO HIP}) missing from current font.\n",
            "  plt.savefig(\n",
            "/usr/local/lib/python3.10/dist-packages/google/colab/_quickchart_lib.py:26: UserWarning: Glyph 3597 (\\N{THAI CHARACTER YO YING}) missing from current font.\n",
            "  plt.savefig(\n",
            "/usr/local/lib/python3.10/dist-packages/google/colab/_quickchart_lib.py:26: UserWarning: Glyph 3591 (\\N{THAI CHARACTER NGO NGU}) missing from current font.\n",
            "  plt.savefig(\n",
            "/usr/local/lib/python3.10/dist-packages/google/colab/_quickchart_lib.py:26: UserWarning: Glyph 3626 (\\N{THAI CHARACTER SO SUA}) missing from current font.\n",
            "  plt.savefig(\n",
            "/usr/local/lib/python3.10/dist-packages/google/colab/_quickchart_lib.py:26: UserWarning: Glyph 3617 (\\N{THAI CHARACTER MO MA}) missing from current font.\n",
            "  plt.savefig(\n",
            "/usr/local/lib/python3.10/dist-packages/google/colab/_quickchart_lib.py:26: UserWarning: Glyph 3594 (\\N{THAI CHARACTER CHO CHANG}) missing from current font.\n",
            "  plt.savefig(\n",
            "/usr/local/lib/python3.10/dist-packages/google/colab/_quickchart_lib.py:26: UserWarning: Glyph 3634 (\\N{THAI CHARACTER SARA AA}) missing from current font.\n",
            "  plt.savefig(\n",
            "/usr/local/lib/python3.10/dist-packages/google/colab/_quickchart_lib.py:26: UserWarning: Glyph 3618 (\\N{THAI CHARACTER YO YAK}) missing from current font.\n",
            "  plt.savefig(\n",
            "/usr/local/lib/python3.10/dist-packages/google/colab/_quickchart_lib.py:26: UserWarning: Glyph 3610 (\\N{THAI CHARACTER BO BAIMAI}) missing from current font.\n",
            "  plt.savefig(\n",
            "/usr/local/lib/python3.10/dist-packages/google/colab/_quickchart_lib.py:26: UserWarning: Glyph 3633 (\\N{THAI CHARACTER MAI HAN-AKAT}) missing from current font.\n",
            "  plt.savefig(\n",
            "/usr/local/lib/python3.10/dist-packages/google/colab/_quickchart_lib.py:26: UserWarning: Glyph 3605 (\\N{THAI CHARACTER TO TAO}) missing from current font.\n",
            "  plt.savefig(\n",
            "/usr/local/lib/python3.10/dist-packages/google/colab/_quickchart_lib.py:26: UserWarning: Glyph 3636 (\\N{THAI CHARACTER SARA I}) missing from current font.\n",
            "  plt.savefig(\n",
            "/usr/local/lib/python3.10/dist-packages/google/colab/_quickchart_lib.py:26: UserWarning: Glyph 3641 (\\N{THAI CHARACTER SARA UU}) missing from current font.\n",
            "  plt.savefig(\n",
            "/usr/local/lib/python3.10/dist-packages/google/colab/_quickchart_lib.py:26: UserWarning: Glyph 3619 (\\N{THAI CHARACTER RO RUA}) missing from current font.\n",
            "  plt.savefig(\n",
            "/usr/local/lib/python3.10/dist-packages/google/colab/_quickchart_lib.py:26: UserWarning: Glyph 3603 (\\N{THAI CHARACTER NO NEN}) missing from current font.\n",
            "  plt.savefig(\n",
            "/usr/local/lib/python3.10/dist-packages/google/colab/_quickchart_lib.py:26: UserWarning: Glyph 3660 (\\N{THAI CHARACTER THANTHAKHAT}) missing from current font.\n",
            "  plt.savefig(\n",
            "/usr/local/lib/python3.10/dist-packages/google/colab/_quickchart_lib.py:26: UserWarning: Glyph 3627 (\\N{THAI CHARACTER HO HIP}) missing from current font.\n",
            "  plt.savefig(\n",
            "/usr/local/lib/python3.10/dist-packages/google/colab/_quickchart_lib.py:26: UserWarning: Glyph 3597 (\\N{THAI CHARACTER YO YING}) missing from current font.\n",
            "  plt.savefig(\n",
            "/usr/local/lib/python3.10/dist-packages/google/colab/_quickchart_lib.py:26: UserWarning: Glyph 3591 (\\N{THAI CHARACTER NGO NGU}) missing from current font.\n",
            "  plt.savefig(\n"
          ]
        },
        {
          "output_type": "display_data",
          "data": {
            "text/plain": [
              "<google.colab._quickchart_helpers.SectionTitle at 0x7b627e4e5390>"
            ],
            "text/html": [
              "<h4 class=\"colab-quickchart-section-title\">Values</h4>\n",
              "<style>\n",
              "  .colab-quickchart-section-title {\n",
              "      clear: both;\n",
              "  }\n",
              "</style>"
            ]
          },
          "metadata": {}
        },
        {
          "output_type": "display_data",
          "data": {
            "text/plain": [
              "import numpy as np\n",
              "from google.colab import autoviz\n",
              "\n",
              "def value_plot(df, y, figscale=1):\n",
              "  from matplotlib import pyplot as plt\n",
              "  df[y].plot(kind='line', figsize=(8 * figscale, 4 * figscale), title=y)\n",
              "  plt.gca().spines[['top', 'right']].set_visible(False)\n",
              "  plt.tight_layout()\n",
              "  return autoviz.MplChart.from_current_mpl_state()\n",
              "\n",
              "chart = value_plot(df, *['No'], **{})\n",
              "chart"
            ],
            "text/html": [
              "      <div class=\"colab-quickchart-chart-with-code\" id=\"chart-252486d7-1b9b-47cd-8212-b61761c2e8d2\">\n",
              "        <img src=\"data:image/png;base64,iVBORw0KGgoAAAANSUhEUgAAAYwAAADECAYAAACMRRb/AAAAOXRFWHRTb2Z0d2FyZQBNYXRwbG90\n",
              "bGliIHZlcnNpb24zLjcuMSwgaHR0cHM6Ly9tYXRwbG90bGliLm9yZy/bCgiHAAAACXBIWXMAAA9h\n",
              "AAAPYQGoP6dpAAAefElEQVR4nO3deVCU9/0H8PdyLYccch/7AKKI8eDctcSkHjl/aoxGZWln0iST\n",
              "Wtu0naRTO8m0M0xiOhP7m5pMiZlm2k4mk+SPlEU84pX8GqPRpk3kQbyIGkWRZ7lR7mOB3e/vj8UF\n",
              "IuqC7D4LvF8zzoTvPrAfnzzw9nnePLsaIYQAERHRXXipPQAREU0ODAwiInIKA4OIiJzCwCAiIqcw\n",
              "MIiIyCkMDCIicgoDg4iInMLAICIipzAwiIjIKQwMIiJyCgOD6DaWL18OjUaDffv2jVh/+umn8dxz\n",
              "z6kzFJGKGBhEdxAZGYktW7agr69P7VGIVMfAILqD5557DjabDW+//faoj7e2tmLz5s3Q6XSIjIzE\n",
              "ypUrcfHiRTdPSeQeDAyiO9Bqtdi+fTv++Mc/orGx8ZbHf/KTn+DSpUuQZRnV1dVIS0vDI488gs7O\n",
              "ThWmJXItBgbRXaxbtw56vR5/+MMfRqzX1dVh//79+Mtf/oLY2FgEBgbiz3/+M3p6erB//36VpiVy\n",
              "HQYGkRMKCwvx0Ucfoby83LGmKAoAYPbs2Y41X19fJCUlobq62u0zErkaA4PICQsXLsSmTZvw0ksv\n",
              "OdYkSQIAVFZWOtYGBgZQXV2NxMREt89I5GoMDCInvf766zh37hw+++wzAEBcXBxWrVqFLVu2oKGh\n",
              "AT09PXjllVfg5+eH1atXqzwt0cRjYBA5KSIiAq+99hqam5sdax999BGSk5ORnZ0NnU6HiooKfP75\n",
              "5wgODlZxUiLX0PA9vYmIyBk8wyAiIqcwMIiIyCkMDCIicgoDg4iInMLAICIipzAwiIjIKQwMIiJy\n",
              "ilsDo7Cw0J1PR0REE8itgXHt2jV3Ph0REU0gXpIiIiKnjDkwkpOTkZaWhszMTGRmZqKoqMgVcxER\n",
              "kYfxGc8nFRUVITMzc4JHISIiT8ZLUkREk1RzpwX/OHYFh883uOX5xnWG8cwzz0AIgcWLF+NPf/oT\n",
              "oqKibtnGYrHAYrGMWLNareObkoiIAAADVhu+/K4JJlnB4fONGLAJ/GBWOB6+L8blzz3mM4xjx47h\n",
              "zJkzOHnyJCIjI/Hss8+Out22bdsQGho64s+JEyfueWAiounoSlMn/vfTC1jypy/w0w9kfFbRgAGb\n",
              "QIYUhrWZCXDHO1Xc0/th1NXVYe7cuejo6LjlsdHOMAoKCngvBhGRk7osAzh4tg7Fshknqm441sOD\n",
              "/PBUVgKMeglpse57s64xXZLq6upCf38/wsLCAAAff/wxsrKyRt1Wq9VCq9WOWPP29h7flERE04QQ\n",
              "AierW2EqVbD/TC26+uyX8r00wPK0aBj1Ojw0LwZ+Pu6voMcUGA0NDdiwYQOsViuEEEhJScGHH37o\n",
              "qtmIiKaNpg4Ldp00wyQrqGzqcqwnRwQiTy9hQ7YOsaH+Kk44xsBISUlBeXm5q2YhIppW+q02HL1o\n",
              "L7C/uNAIq83eEAT4emPVojgY9TosnhUOjUaj8qR24/otKSIiGr/LjZ0oLlOw62QNmjqGut6sxDAY\n",
              "9RKeSI9DsL+vihOOjoFBROQGnZYBHDxTB5OsQL7W4liPCPLD+mx7gZ0a474CezwYGERELiKEQNm1\n",
              "FhSVKjhwtg7dgwW2t5cGK9KikKeX8NC8aPh6T457qBkYREQTrLG9F7vKa2CSFVwZVmCnRAYhTy9h\n",
              "fXYCYkLULbDHg4FBRDQB+q02HLnQCJOs4MjFJkeBHejnjdWL4mA0SNAnzfSYAns8GBhERPfgcmMH\n",
              "TLIZu06a0dzZ51jPSZoJo16H1enxmKGdGj9qp8bfgojIjTotA9h/uhYmWcHJ6lbHeuQMLTZkJyBP\n",
              "r8OcaM8usMeDgUFE5AQhBEqrWmCSFRw4U4ee/uEFtv0O7BWTqMAeDwYGEdEdNLT3ouSkGcWyGVeb\n",
              "hxXYUUHI10t4KjsB0cGTr8AeDwYGEdH39A3Y8MVggX30YiMG+2sE+nnjifQ45BskZCdO7gJ7PBgY\n",
              "RESDvmvogKlUwe7yGlzvGiqwDckzkaeXsHpRHIKmSIE9HtP3b05EBKCjtx/7TtvvwD6ltDrWo4K1\n",
              "2JCtQ55eh9lRM9Qb0IMwMIho2hFC4JurN2CSFRw8W4fefhsAwMdLg4fmRcOol7A8LQo+U7jAHg8G\n",
              "BhFNG/Vt9gLbJCu4dr3bsT4negaMeh2eytIhKlh7h68wvTEwiGhK6xuw4fD5BphkBV9+1+QosIP8\n",
              "vLEmIx5Gg4QsKWzaFdjjwcAgoinpYn0HikoV7DlVgxvDCuzFs8Jh1EtYtSgWgX78ETgW3FtENGW0\n",
              "9/Zj3+lamEoVnDa3Odajg7XYmKNDnl7CrMggFSec3BgYRDSp2WwCX1+9jmLZjINn62AZGCqwH7kv\n",
              "BkaDDktTWWBPBAYGEU1Kta09KCkzo7jMjOobQwV2avQM5BskrMtKQOQMFtgTiYFBRJOGZcCKz7+1\n",
              "34F97FITxGCBPUPrgzUZ8cg3SMjQhbLAdhEGBhF5vPN17TDJCvaU16Clu9+x/oNZ4cg3SFi5MA4B\n",
              "ft4qTjg9MDCIyCO19fTjk8EC+2zNUIEdG+KPjTk6bMzRIZkFtluNOzDef/99PP/889i9ezfWrVs3\n",
              "gSMR0XRlswl8feU6imQFn56rdxTYvt4aPDo/Bnl6CUtTo+DtxUtOahhXYFRVVeEf//gHcnNzJ3oe\n",
              "IpqGalp7sFM2o7hMgbmlx7GeFhMMo0HCusx4RLDAVt2YA8Nms2HTpk3YsWMHtmzZ4oqZiGgasAxY\n",
              "8X8V9juw/3252VFgB2t98GRmPIx6CekssD3KmAPjrbfewgMPPICcnJw7bmexWGCxWEasWa3WsT4d\n",
              "EU0xFbVtKJbN2F1eg7aeoQL7/pQIGA06/M8CFtieakyBce7cOZSUlODYsWN33Xbbtm3YunXriDVe\n",
              "wiKantq6+7H3dA2KShVU1LY71uNC7QV2Xo6ExIhAFSckZ4wpMI4fP46qqiqkpqYCAOrr67F582bU\n",
              "1dXhhRdeGLHt73//e/z2t78dsVZQUHCP4xLRZGGzCfyn0l5gf1ZRj75hBfZj82NhNEh4cE4kC+xJ\n",
              "ZEyB8cILL4wIhuXLl+M3v/nNqL8lpdVqodWOLKm8vXmaSTTVmVu6USybsbPMjJrWoQJ7Xmww8g0S\n",
              "1mYmIDzIT8UJabx4HwYR3bPefis+q6hHsWzGV5XDCmx/H6zLTIBRL2FhQggL7EnungLj6NGjEzQG\n",
              "EU1G52raHHdgt/cOONYfmBMBo17C4wti4e/LKwtTBc8wiGhMWrr6sPdUDUyyGd/WDRXY8aH+2KiX\n",
              "kJejgxTOAnsqYmAQ0V1ZbQJfXW6GSVbwfxUN6LPaC2w/by88tiAG+QYJS2azwJ7qGBhEdFvKjW4U\n",
              "l5mxU1ZQ29brWJ8fFzJYYMcjLJAF9nTBwCCiEW4W2EWlCv5Ted2xHhrgi3WZ8cjTS1iYEKrihKQW\n",
              "BgYRQQiBczXtKJKrsfdULToGC2yNBnhwTiTy9BIemx/DAnuaY2AQTWM3uvqwp7wGJlnBhfoOx3pC\n",
              "WADy9PaXENfNZIFNdgwMomnGahM4fqkJxbIZ//p2WIHt44X/WRALo17CktkR8GKBTd/DwCCaJqqv\n",
              "d6O4TMHOMjPqhhXYCxNCYNRLWJuRgNBAXxUnJE/HwCCawnr6rPi0og5FpQq+vnLDsR4W6It1mQnI\n",
              "0+uwIJ4FNjmHgUE0xQghcMZsvwP7k1O16LCMLLDzDRIeuY8FNo0dA4NoirjeacHu8hoUy2ZcbBgq\n",
              "sHUzA2DUS9iQo0NCWICKE9Jkx8AgmsSsNoFj3zXBJCv4/HwD+q32V/3T+nhh5UJ7gZ2bwgKbJgYD\n",
              "g2gSqmruQnGZgpKyGtS3DxXY6bpQ5OklPJkRj9AAFtg0sRgYRJNEd98ADp2th0lW8M3VoQJ7ZqAv\n",
              "1mXZX0L8vrgQFSekqY6BQeTBhBA4pbTCJJux73QtOocV2EtTo5BvkPDwfdHQ+rDAJtdjYBB5oOZO\n",
              "i+MO7O8aOh3rieGBMOp1WJ+tQzwLbHIzBgaRhxiw2nDsUhOKShUcPt+IAZu9wPb39cKqhXHI00v4\n",
              "waxwFtikGgYGkcquNnfBJCsoKTOjscPiWM/QhcJokLAmIx4h/iywSX0MDCIVdPcN4MCZOhTLZpyo\n",
              "Giqww4P88FSW/Q7sebEssMmzMDCI3EQIgZPVrSiWFew7XYuuPisAwEsDLJsbBaNewsP3xcDPx0vl\n",
              "SYlGx8AgcrGmDgt2l5thks243DhUYCdFBNrvwM7WITbUX8UJiZzDwCBygQGrDUcv2u/A/uLC9wrs\n",
              "RXHI10tYPCscGg0LbJo8xhwYjz32GOrr6+Hl5YXg4GC8/fbbyMrKcsVsRJNOZVMnimUzSk6a0TSs\n",
              "wM6UwpBvkPBEehyCWWDTJDXmwDCZTAgLCwMA7N69G8899xxOnz490XMRTRpdlgEcOFsHU6kC+VqL\n",
              "Yz0iyA/rsxOQp5cwNyZYxQmJJsaYA+NmWABAW1sbT6lpWrIX2C0oKlWw/0wduocV2CvSopGnl/DQ\n",
              "vGgW2DSljKvDeOaZZ3DkyBEAwMGDB0fdxmKxwGKxjFizWq3jeToij9HY0YtdJ2tQLCuobOpyrM+K\n",
              "DEKeXocN2TrEhLDApqlJI4QQ4/3kDz74AEVFRaOGxmuvvYatW7eOWMvNzcV///vf8T4dkSr6rTYc\n",
              "udAIk2zGkYuNsA4W2AG+3lidHgejXoIheSbPtmnKu6fAAICAgACYzWZERESMWB/tDKOgoACFhYX3\n",
              "8nREbnO5sRPFsoKSkzVo7hw6lrMTw2DUS3giIx4ztPxFQ5o+xnS0t7a2oru7G/Hx8QCAPXv2ICIi\n",
              "AuHh4bdsq9VqodVqR6x5e/MVNcmzdVoGcOBMLYpKFZysbnWsR87ww/psHYx6HeZEs8Cm6WlMgdHW\n",
              "1oa8vDz09PTAy8sLUVFR2L9/P0/FaVITQkC+1gJTqYIDZ4cKbG8vDVak2e/AXjEvGr7eLLBpehtT\n",
              "YCQlJeHEiROumoXIrRrbe1EyWGBfaR4qsFMig2A0SFiflYBoFthEDrwAS9NKv9WGLy40wlSq4Oh3\n",
              "TY4CO9DPG08MFtg5SSywiUbDwKBp4VJDB0yygt3lNWju7HOs65NmwqiXsCo9jgU20V3wO4SmrI7e\n",
              "fuw/UweTrKB8RIGtxYacBOTlSJgTPUO9AYkmGQYGTSlCCJy4egMm2YyDZ+vQ0z9UYD80LxpGvYTl\n",
              "aVEssInGgYFBU0J9Wy9KTppRLCuout7tWJ8dFQSjXsJT2QmIDmaBTXQvGBg0afUN2PDFhQYUlSr4\n",
              "8rsmDPbXCPLzxpqMeOTpJWQnhrHAJpogDAyadL5r6ICp1F5gX+8aKrANyYMF9qI4BLHAJppw/K6i\n",
              "SaG9tx/7TtfCJJtxWml1rEcHa7EhR4e8HB1SolhgE7kSA4M8lhACX1+5gWJZwcFzdejttwEAfLw0\n",
              "ePg+e4G9bG4UfFhgE7kFA4M8Tl1bD0rKzCguM+PasAJ7TvQM5OslrMtKQFSw9g5fgYhcgYFBHsEy\n",
              "YMXh840wyQqODSuwZ2h9sCbDfgd2psQCm0hNDAxS1YX6dphKzdhdbkZLd79jffGscOTrJaxcFItA\n",
              "Px6mRJ6A34nkdm09NwtsBWfMbY71mBAtNubosDFHwqzIIBUnJKLRMDDILWw2ga+vXoepVMGhc/Ww\n",
              "DNgLbF9vDR65LwZGvYQfpkaywCbyYAwMcqna1h7sLDOjuEyBcqPHsT43Zob9DuysBETMYIFNNBkw\n",
              "MGjCWQas+Ne3DTDJZhy/1ISbbwIcrPXBmsx4GPUSMnShLLCJJhkGBk2Yb2vbYZIV7DlVg9ZhBXZu\n",
              "SjiMegkrF8YhwI9v00s0WTEw6J60dffjk9M1MMlmnK0ZKrBjQ/yxMUeHPL0OSREssImmAgYGjZnN\n",
              "JvDfK9dhkhV8+r0C+9H5NwvsKHh78ZIT0VTCwCCn1bT2YKdsL7DNLUMF9rzYYBgH78AOD/JTcUIi\n",
              "ciUGBt1Rb//NAlvBvy83DxXY/j5YO1hgL0pggU00HTAwaFQVtW0wlSrYc6oWbT1DBfaS2REw6iU8\n",
              "viCWBTbRNMPAIIfW7j7sPWW/A7uitt2xHhfqj7zBO7ATIwJVnJCI1DSmwOjt7cWPfvQjfPvttwgI\n",
              "CEB0dDTeffddzJkzx1XzkYvZbAJfVTbDJJvxWUU9+gYLbD9vLzy6wF5gPzgnkgU2EY39DGPz5s1Y\n",
              "uXIlNBoN3nnnHWzatAlHjx51wWjkSsqNbuwsM2NnmRk1rSML7HyDhHWZCZjJApuIhhlTYPj7+2PV\n",
              "qlWOj3Nzc7F9+/YJH4pco7ffis8q6lEsm/FV5VCBHeLvg7WZCcg3SFgQH8ICm4hGdU8dRmFhIdau\n",
              "XTvqYxaLBRaLZcSa1Wq9l6ejcRBCoOLmHdjlNWjvHXA89sCcoQLb35cFNhHd2bgD44033sDly5dx\n",
              "+PDhUR/ftm0btm7dOmItNzd3vE9HY9TS1Ye9p2pQJJtxvm6owE4IC3C8B7YUzgKbiJynEeLmhQnn\n",
              "bd++Hf/85z/x+eefIywsbNRtRjvDKCgoQGFh4bgGpbuz2gS+utyMIlnBvyoa0GcdKrAfXxgLo16H\n",
              "B2ZHwosFNhGNw5jPMN566y18/PHHdwwLANBqtdBqR75stbc3L3u4gnKjG8Wygp1lZtS29TrWF8SH\n",
              "wKiXsDYzHmGBLLCJ6N6MKTDMZjO2bNmClJQUrFixAoA9GL755huXDEe319tvxafn6mGSFfyn8rpj\n",
              "PTTAF+sy45Gnl7AwIVTFCYloqhlTYOh0OozjChZNECEEzta0wSQr2HuqFh2DBbZGAzw4JxJGvYRH\n",
              "58ewwCYil+Cd3pPAja4+7CmvgUlWcKG+w7GumxmAvBwJG3ISoJvJApuIXIuB4aGsNoHjl5pgkhX8\n",
              "69sG9FvtZ3Z+Pl5YuTAWRr2E+1MiWGATkdswMDzMtetdKJbNKDlpRt2wAntRQiiMeh2ezEhAaKCv\n",
              "ihMS0XTFwPAAPX1WHDpXB5Os4OsrNxzrYYG+WJeZAKNewvz4EBUnJCJiYKhGCIHTZnuBve9ULTos\n",
              "QwX2D1OjYNTr8Oj8GGh9WGATkWdgYLjZ9U4LdpfXoFg242LDUIEthdsL7I05OsSHBag4IRHR6BgY\n",
              "bjBgteH4pWaYZAWfnx8qsLU3C2yDhNxZLLCJyLMxMFyoqrkLxWX2O7Ab2odeJiVDF4o8vYQ1GfEI\n",
              "DWCBTUSTAwNjgnX3DeDQ2XoUyQpOXB0qsGcG+uKpLB2MBh3mxbLAJqLJh4ExAYQQOKW02gvs03Xo\n",
              "HCywvTTA0rlRMOolPHxfNAtsIprUGBj3oLnTgj3lNSgqVXCpsdOxnhgeCKNehw05OsSFssAmoqmB\n",
              "gTFGA1Ybjl1qQlGpgsPnGzFgsxfY/r5eWLUwDkaDhMXJ4SywiWjKYWA46WpzF0yygpIyMxo7hhXY\n",
              "Uhjy9RKeyIhDiD8LbCKauhgYd9BlGcDBs3Uols04UTVUYIcH+WF9VgLy9BLSYoNVnJCIyH0YGN8j\n",
              "hMDJ6lYUywr2na5FV5/9fci9NMDytGgY9To8NC8Gfj5eKk9KROReDIxBTR0W7C43wySbcXlYgZ0c\n",
              "EYg8vYQN2TrEhvqrOCERkbqmdWAMWG04erEJRbKCIxeGCuwAX2+sWhSHfIMEQ/JMaDQssImIpmVg\n",
              "VDZ1Ol5CvGlYgZ2VaC+wV6fHIZgFNhHRCNMmMLosAzhwxv4S4vK1Fsd65Aw/rM/WIS9Hh9QYFthE\n",
              "RLczpQNDCIGyay0wyQr2n6lD92CB7e2lwYq0KOTpJTw0Lxq+3iywiYjuZkoGRmNHL3adtL8H9pWm\n",
              "Lsd6SmQQ8vQS1mcnICaEBTYR0VhMmcDot9pw5EIjTLIZRy42wjpYYAf6eWP1Ivsd2PokFthEROM1\n",
              "psB48cUX8cknn+DatWsoLy9HZmami8Zy3uXGThTLCkpO1qC5c6jAzkmaCaNeh9Xp8ZihnTK5SESk\n",
              "mjH9JN24cSNefvllPPjgg66axymdlgEcOFOLolIFJ6tbHeuRM7TYkG2/A3tO9Az1BiQimoLGFBhL\n",
              "ly511Rx3JYSAfK0FRaUKDpypQ0//8AI7GvkGCcvTolhgExG5iMuu1VgsFlgslhFrVqt1XF+ryzKA\n",
              "Ne/8e2SBHRWEfL2Ep7ITEB3MApuIyNVcFhjbtm3D1q1bR6zl5uaO62sFaX0QOUOLhrZePJEeD6NB\n",
              "h+xEFthERO6kEUKIsX5ScnIy9uzZc8fSe7QzjIKCAhQWFo55SMD+/thRwVoEscAmIlKFy376arVa\n",
              "aLXaEWve3uN/i9LkyKB7HYmIiO7BmBrin//859DpdDCbzXj88ccxZ84cV81FREQeZkxnGH/7299c\n",
              "NQcREXk4/g4qERE5ZVyl93itX78eycnJ4/pcq9WKEydOYPHixffUhbgSZ5wYnj6jp88HcMaJMl1m\n",
              "TEpKwksvvXTX7dwaGPeivb0doaGhaGtrQ0hIiNrjjIozTgxPn9HT5wM440ThjCPxkhQRETmFgUFE\n",
              "RE5hYBARkVMmTWBotVq8+uqrt9wM6Ek448Tw9Bk9fT6AM04UzjjSpCm9iYhIXZPmDIOIiNTFwCAi\n",
              "IqcwMIiIyCkeFxiXLl3CkiVLMHfuXBgMBlRUVIy63XvvvYfU1FTMnj0bP/vZz9Df3+9RMx49ehQB\n",
              "AQHIzMx0/Onp6XHLfC+++CKSk5Oh0Whw6tSp226n5j50ZkY192Fvby/WrVuHuXPnIiMjA48++igu\n",
              "X7486rb79+/HvHnzkJqaivXr16O9vd2jZqyqqoK3t/eI/VhZWemWGQHgscceQ3p6OjIzM/HDH/4Q\n",
              "5eXlo26n5vHozIxqHo83vf/++9BoNNizZ8+oj7v8WBQeZsWKFeL9998XQghRXFws9Hr9LdtcuXJF\n",
              "xMXFibq6OmGz2cSaNWvEO++841EzHjlyRGRkZLhtpuG+/PJLoSiKSEpKEuXl5aNuo/Y+dGZGNfdh\n",
              "T0+POHDggLDZbEIIIXbs2CGWLVt2y3YdHR0iOjpanD9/XgghxK9+9Svxu9/9zqNmvHr1qggNDXXL\n",
              "TKNpaWlx/PeuXbtEenr6LduofTw6M6Oax6MQ9v+P999/v8jNzRW7d+++5XF3HIsedYbR2NgIWZbx\n",
              "9NNPAwA2bNgARVFu+VfTzp078eSTTyI2NhYajQa/+MUv8PHHH3vUjGpaunQpdDrdHbdRcx8Czs2o\n",
              "Jn9/f6xatcrxro65ubmoqqq6ZbtDhw4hKysL8+bNAwD88pe/dNt+dHZGtYWFhTn+u62tbdR3ylT7\n",
              "eHRmRjXZbDZs2rQJO3bsuO2vz7rjWPSowFAUBXFxcfDxsb/qukajQWJiIqqrq0dsV11djaSkJMfH\n",
              "ycnJt2yj9owAUFlZiezsbBgMBvz1r391y3zOUnMfjoWn7MPCwkKsXbv2lvXR9mNdXR0GBgbcOR6A\n",
              "288IAF1dXTAYDMjOzsbrr78Oq9Xq1tmeeeYZSJKEgoICfPTRR7c87gnH491mBNQ7Ht966y088MAD\n",
              "yMnJue027jgW+X6nLpKdnQ2z2YzQ0FCYzWasWrUKkZGRMBqNao82aXjKPnzjjTdw+fJlHD582K3P\n",
              "OxZ3mjEuLg41NTWIjo7GjRs3kJ+fjzfffBMvv/yy2+b78MMPAQAffPABXnnlFRw8eNBtz+2su82o\n",
              "1vF47tw5lJSU4NixYy59Hmd41BmGJEkjElEIgerqaiQmJo7YLjExEdeuXXN8XFVVdcs2as8YEhKC\n",
              "0NBQAIBOp8OPf/xjHD9+3C0zOkPNfegsT9iH27dvx65du3Do0CEEBgbe8vho+3H4GagnzKjVahEd\n",
              "HQ0ACA8Px/PPP6/asfjss8/iyJEjuH79+oh1TzoebzejWsfj8ePHUVVVhdTUVCQnJ+Prr7/G5s2b\n",
              "8e67747Yzi3H4oQ2IhNg2bJlIwrlnJycW7aprKy8pSDbsWOHR81YW1srrFarEEKI9vZ2sWTJEvHe\n",
              "e++5bUYhxB0LZbX34U13mlHtffjmm2+K7OxscePGjdtu097eLqKiokYUjVu2bHHXiE7N2NDQIPr6\n",
              "+oQQQvT29oqNGzeKgoICt8zX0tIiampqHB/v3r1bJCQkOIr6m9Q8Hp2dUe3j8aZly5aNWnq741j0\n",
              "uMC4cOGCyM3NFampqSInJ0ecOXNGCCHET3/6U7F3717Hdn//+99FSkqKSElJEc8//7zjG8JTZtyx\n",
              "Y4eYP3++SE9PF/PnzxevvvrqLQegq2zevFkkJCQIb29vER0dLWbPnn3LfEKouw+dmVHNfagoigAg\n",
              "UlJSREZGhsjIyBCLFy8WQghRUFAg3n33Xce2e/fuFWlpaWL27Nli7dq1orW11aNmLCkpEQsWLHDs\n",
              "x1//+teit7fXLTNWVVUJg8EgFi5cKNLT08XDDz/s+AeCpxyPzs6o5vE43PDAcPexyNeSIiIip3hU\n",
              "h0FERJ6LgUFERE5hYBARkVMYGERE5BQGBhEROYWBQURETmFgEBGRUxgYRETkFAYGERE5hYFBRERO\n",
              "YWAQEZFT/h9o9sVZVFJgewAAAABJRU5ErkJggg==\n",
              "\">\n",
              "        \n",
              "      </div>\n",
              "      <script></script>\n",
              "      <script type=\"text/javascript\">\n",
              "        (() => {\n",
              "          const chartElement = document.getElementById(\"chart-252486d7-1b9b-47cd-8212-b61761c2e8d2\");\n",
              "          async function getCodeForChartHandler(event) {\n",
              "            const chartCodeResponse =  await google.colab.kernel.invokeFunction(\n",
              "                'getCodeForChart', [\"chart-252486d7-1b9b-47cd-8212-b61761c2e8d2\"], {});\n",
              "            const responseJson = chartCodeResponse.data['application/json'];\n",
              "            await google.colab.notebook.addCell(responseJson.code, 'code');\n",
              "          }\n",
              "          chartElement.onclick = getCodeForChartHandler;\n",
              "        })();\n",
              "      </script>\n",
              "      <style>\n",
              "        .colab-quickchart-chart-with-code  {\n",
              "            display: block;\n",
              "            float: left;\n",
              "            border: 1px solid transparent;\n",
              "        }\n",
              "\n",
              "        .colab-quickchart-chart-with-code:hover {\n",
              "            cursor: pointer;\n",
              "            border: 1px solid #aaa;\n",
              "        }\n",
              "      </style>"
            ]
          },
          "metadata": {}
        },
        {
          "output_type": "display_data",
          "data": {
            "text/plain": [
              "import numpy as np\n",
              "from google.colab import autoviz\n",
              "\n",
              "def value_plot(df, y, figscale=1):\n",
              "  from matplotlib import pyplot as plt\n",
              "  df[y].plot(kind='line', figsize=(8 * figscale, 4 * figscale), title=y)\n",
              "  plt.gca().spines[['top', 'right']].set_visible(False)\n",
              "  plt.tight_layout()\n",
              "  return autoviz.MplChart.from_current_mpl_state()\n",
              "\n",
              "chart = value_plot(df, *['Age'], **{})\n",
              "chart"
            ],
            "text/html": [
              "      <div class=\"colab-quickchart-chart-with-code\" id=\"chart-a0db9266-5f9a-4f7f-87fc-1db918c0e879\">\n",
              "        <img src=\"data:image/png;base64,iVBORw0KGgoAAAANSUhEUgAAAYwAAADECAYAAACMRRb/AAAAOXRFWHRTb2Z0d2FyZQBNYXRwbG90\n",
              "bGliIHZlcnNpb24zLjcuMSwgaHR0cHM6Ly9tYXRwbG90bGliLm9yZy/bCgiHAAAACXBIWXMAAA9h\n",
              "AAAPYQGoP6dpAAAkiUlEQVR4nO3deVhT994t8JUwBFABQREEkSJBxQlREHGqV2s9ttUqVVv1ahyK\n",
              "Q23Vzn1PbXt6evSettqiLVg9ilqtdcDpVG1tfZ21Ag6IM6LIIIrMypCE5Hf/sFIRrGEIOwnr8zx5\n",
              "ELJJVuImK8nOd2+ZEEKAiIjoCeRSByAiIvPAwiAiIoOwMIiIyCAsDCIiMggLg4iIDMLCICIig7Aw\n",
              "iIjIICwMIiIyCAuDiIgMwsIgIiKDsDCI/kJMTAxkMhnef/99qaMQSU7GfUkRPV5wcDCuX78OuVyO\n",
              "9PR0KBQKqSMRSYavMIgeIz4+HgkJCVi3bh0KCwuxefPmivPu3r0LlUoFV1dXeHl5ITIyEl5eXli9\n",
              "enXFMpcuXcLzzz+PVq1awdPTE7NmzUJxcbEEt4SofrAwiB4jKioKgYGBGDp0KEaOHImoqKiK8+bM\n",
              "mYMLFy4gKSkJV65cQVJSEm7fvl1xfk5ODvr164dBgwYhLS0NiYmJuHLlCubOnSvBLSGqJ4KIqsjL\n",
              "yxP29vYiKipKCCHEvn37BABx5swZUV5eLmxtbcWuXbsqli8sLBRyuVzExMQIIYRYtGiRCA0NrXSZ\n",
              "R44cEba2tqK8vLzBbgdRfeIrDKJqPNjYPX78eADAwIED4efnh6ioKOTk5ECj0aBt27YVyzs6OqJ5\n",
              "8+YV3ycnJ+PkyZNwdnauOA0bNgwymQy3bt1q8NtDVB9YGESPEEJg2bJl0Gg08Pf3h7u7Ozw8PJCR\n",
              "kYH169fDzs4Otra2uHHjRsXvFBUVIT8/v+J7d3d39O3bFwUFBRWnwsJClJWVwdPTU4qbRVRnLAyi\n",
              "R/z6669ITk7G3r17cebMmYrT2bNnAQBr167FuHHj8OmnnyIrKwslJSV45513IJf/+ec0efJknD59\n",
              "GlFRUSgpKYEQAunp6di+fbtEt4qo7lgYRI+Ijo7G4MGDMXDgQLi7u1eclEolpk2bhujoaERGRsLf\n",
              "3x+dOnWCUqlEQEAAXFxcYGdnBwDw9vbG8ePH8euvv6Jdu3ZwdnbGs88+i6SkJIlvHVHtcQ6DqB7k\n",
              "5+fD1dUVR48eRe/evaWOQ2QUfIVBVAtpaWk4ePAgdDodcnNzMWvWLCiVSgQHB0sdjchoWBhEtaDR\n",
              "aPD666/D2dkZSqUSBQUF2LlzJ6ytraWORmQ0fEuKiIgMwlcYRERkEBYGEREZhIVBREQGYWEQEZFB\n",
              "TKYwIiMjpY5ARER/wWQK4+H98hARkekxmcIgIiLTxsIgIiKDsDCIiMggLAyiOhBC4NCVOziXWSh1\n",
              "FCKj445viGrpzl01PtiahN8u3oattRyxM8LQxctJ6lhERsNXGES1sCcpC89+fQi/XbwNANCU6zFz\n",
              "/UkUlGgkTkZkPCwMohooLNFizo+nMXP9KeQVa9DBvRk2RoSirasDMvJLMXfjGej13J8nWaYaF4Za\n",
              "rcbs2bOhVCrRpUsXTJgwAcD9g96HhYXB398fwcHBOH/+fL2HJZLSwSt3MOTrg9hx5ibkMuC1ge2w\n",
              "c3Zf9PJ1RfT4HrCzkePA5TtY8r/JUkclMooab8N4//33IZPJcOXKFchkMty6dQsAMH36dERERECl\n",
              "UmHLli1QqVSIj4+v98BEDa1YXY5/7b6IH06kAQB8WzTBl2O6Ici7ecUyAa0d8a8Xu+CtzYmI3JeM\n",
              "wDbOeLq9m1SRiYyiRsfDKC4uhoeHBzIyMuDo6Fjx8+zsbPj5+SEvLw/W1tYQQsDDwwNHjhyBn5+f\n",
              "QZf95ptvYvHixTW/BURGFHc9D29vTkRaXgkAQBXmg/eGdoC9rVW1y/99WxLWn0iDk70Nfnq9L9q4\n",
              "ODRkXCKjqtFbUikpKXBxccGCBQvQs2dP9OvXD/v27UN6ejo8PDwqjjYmk8ng7e2NtLS0ai9HrVaj\n",
              "qKio0kmn09X91hDVkzKtDgt2X8TY5ceRllcCT2d7/DCtFz4Z3umxZQEAH70QgG5tnFFYqsWs9adQ\n",
              "puV6TZajRoVRXl6OGzduICAgAAkJCViyZAnGjh2L8vLyGl3pwoUL4eTkVOkUFxdXo8sgMpakjEK8\n",
              "sPQIlh+6BiGA0T28sGduP4T5tXji7yqsrRA1PgjNHWyQlFmIT3ZyWx5ZjhoVhre3N+RyOcaPHw8A\n",
              "6N69O5566incuHEDWVlZFcUhhEBaWhq8vb2rvZwPPvgAhYWFlU4hISF1vClEdaPV6fH1b1cwMuoo\n",
              "krPvoUVTBf4zsSe+GN0NjnY2Bl+Op7M9lrzSHTIZ8GN8OjbGV/9Km8jc1KgwWrRogUGDBuGXX34B\n",
              "AFy/fh3Xr19Hnz59EBQUhHXr1gEAYmNj4eXl9djtFwqFAo6OjpVOVlaPf5lPZGzJt+8iPPoYvv4t\n",
              "GeV6gWFd3LF3Xn8MDmhVq8vrp2yJt57xBwDM33EeSRmcBCfzV6ON3gBw7do1TJ06FTk5OZDL5fjo\n",
              "o48QHh6Oy5cvQ6VSITc3F46OjoiJiUGXLl0Mvlxu9CYp6PUCq45ex+e/XIamXA8next8OqIThndr\n",
              "DZlMVufLjvg+Ab9dzIZXc3v89HpfODvY1lNyooZX48IwFhYGNbS03BK8vSURcdfzAAAD/Fvi85e6\n",
              "opWjXb1dR2GpFsO/OYIbuSV4un1LrJoUDLm8bkVEJBVOelOjI4TADyfSMDTyEOKu58HB1goLRnbB\n",
              "6snB9VoWAOBkb8OhPrIYLAxqVG4XlWHy6nj8z7YklGh0CPFxwc9z+mNcL+86vwX1OA+G+gAgcl8y\n",
              "DlzONsr1EBkbC4MaBSEEdpzJxJCvDuHA5TuwtZbj78M6YkNEKLxdjT9cF97DC+N7eUMIYM6PZ5D+\n",
              "xyAgkTlhYZDFyyvWYPYPpzHnxzMoLNWii6cTdr3eF6/294VVA25P4FAfmTsWBlm03y7cxpCvDmFX\n",
              "Uhas5TLMHazE1llhULZq1uBZONRH5o6FQRbpbpkW72xOxLS1Cci5p4bSrSm2zeqDuYP9YWMl3WrP\n",
              "oT4yZywMsjjHruZg6NeHsflkBmQyIKK/L/77el+TORoeh/rIXLEwyGKUanT4ZOd5jPvPCWQWlKKN\n",
              "iz02RvTG/wzrCDsb09qTwKyn/TC4oxuP1EdmhYVBFuF0Wj6eW3IYq4+lAgDG9fLGz3P6I+QpF2mD\n",
              "PYZcLsOiMYE8Uh+ZFRYGmTVNuR5f/HIJ4dHHcC2nGK0cFVg9ORgLRnZBE0WNjw/WoDjUR+aGhUFm\n",
              "62JWEUZ8exTf7k+BXgAvBrbG3rkDzOpIdxzqI3PCwiCzU67TI+rAVQz/5gguZhWhuYMNosYH4euX\n",
              "u8PJwfDdkJsKDvWRuWBhkFm5nlOM0d8dx+c/X4ZWJzC4YyvsnTcAw7p4SB2tTh4e6pu5/iSH+sgk\n",
              "sTDILOj1AmuOpeJvkYdwOq0AzRTW+OKlrlgxsQdaNlNIHa/OHh7qO5dZhI93cKiPTA8Lg0zezYJS\n",
              "TFwVh493nkeZVo+wdq74eV5/jO7Zxmg7DJTCw0N9GxM41Eemh4VBJksIgS0nM/DsV4dw5GoO7Gzk\n",
              "+MfwTlg3tRc8ne2ljmcUHOojU8bCIJN0564aEd+fxNubE3FXXY7u3s7Y/UY/TArzsfgDEHGoj0wV\n",
              "C4NMzp6kLDz79SH8euE2bKxkeOfZ9tg8vTd8WzaVOlqD4FAfmSoWBpmMwhIt5v54GjPXn0JesQYd\n",
              "3Jthx2t98dpAP1hLuMNAKXCoj0xR4/orJJN18ModPPv1IWw/cxNyGTDr6XbYMbsPAlo7Sh1NMhzq\n",
              "I1PDwiBJFavL8fdtSZi0Kg63isrwVIsm2DIzDO8O7QCFtWntMFAKHOojU8LCIMnEp+bhb5GHsf7E\n",
              "/Y+PqsJ8sPuNfgjybi5xMtPCoT4yFSwManBlWh0W7L6IMd8dR1peCVo72WH9tF74ZHgn2NvyVcWj\n",
              "ONRHpqLGheHj44P27dsjMDAQgYGB2LhxIwAgOTkZYWFh8Pf3R3BwMM6f50pNVZ3LLMTwb45g+aFr\n",
              "EAJ4qYcXfp7XH338WkgdzaRxqI9MQa32/7xx40YEBgZW+tn06dMREREBlUqFLVu2QKVSIT4+vj4y\n",
              "kgXQ6vSI2p+Cpf+bjHK9QIumtlg4qiueCWgldTSz0U/ZEm8PaY8vfrmM+TvOI8DDyWSOIkiNQ728\n",
              "JZWdnY2EhARMmDABABAeHo709HRcvXq1Pi6ezNzV7LsIjz6Gr367gnK9wLAu7tg7bwDLohZmDmjH\n",
              "oT6STK0KY+LEiejSpQumTp2KO3fuID09HR4eHrC2vv+CRSaTwdvbG2lp1b9sVqvVKCoqqnTS6bgh\n",
              "z9Lo9QL/OXwNw5YcwdmMQjjaWSPy5UB8Oy4ILk1spY5nljjUR1KqcWEcOnQIZ8+exalTp9CiRQtM\n",
              "mjSpxle6cOFCODk5VTrFxcXV+HLIdKXnleDlFb/js10XoSnXY4B/S+ydNwAjAj0taoeBUuBQH0lF\n",
              "JoSo9dOTrKws+Pv7IyUlBX5+fsjLy4O1tTWEEPDw8MCRI0fg5+dX5ffUajXUanWln82fPx+RkZG1\n",
              "jUImQgiBH+PT8dlPF1Cs0cHB1gofPheAV0Isa8+ypiD2ZAbe2pwImQxYpQrGQDM60iCZpxq9wigu\n",
              "LkZBQUHF9xs2bED37t3h5uaGoKAgrFu3DgAQGxsLLy+vassCABQKBRwdHSudrKz4cUpzd7uoDJNX\n",
              "x+ODrUko1ugQ4uOCn+f0x7he3iwLI3h4qG8uh/qoAdToU1K3b99GeHg4dDodhBDw9fXF2rVrAQDf\n",
              "ffcdVCoVFixYAEdHR8TExBglMJmmnYk3MX/7ORSWamFrLcc7Q9pjSt+nYGXhe5aV2kcvBODczSIk\n",
              "phdg5vqT2DIjDHY2fPJFxlGnt6Tq05tvvonFixdLHYNqKK9Yg/k7zmHX2SwAQGdPRyweEwj/Vs0k\n",
              "TtZ4ZBaU4vklh5FfosXYnm3w75e6Sh2JLBQnvanW9l28jSFfHcKus1mwksswZ5AS22b1YVk0MA71\n",
              "UUNhYVCN3S3T4t0tiZi6JgE599RQujXF9ll9MO8Zf9g0st2Qm4oHQ30Aj9RHxsO/bqqRYyk5GPr1\n",
              "YWxKyIBMBrza7yn89/W+nDg2ARzqI2NjYZBBSjU6fLLzPMatOIHMglK0cbHHj6+G4u/PBXAjq4ng\n",
              "UB8ZGwuDnuh0Wj6eW3oYq4+lAgBeCfHGnjn90cvXVdpgVAWH+siYWBj0WJpyPb785TLCo4/h2p1i\n",
              "uDVTIGZyMBaO6oKmilrtt5IawKNH6tvPI/VRPWFhULUu3SrCi98exTf7r0IvgBGBrbF3Xn9OE5sJ\n",
              "DvWRMbAwqBKdXiDqwFW8sPQILmQVobmDDaLGByHy5e5wduAOA80Jj9RH9Y2FQRWu5xRj9LJj+Pzn\n",
              "y9DqBAZ3dMMv8/pjWBcPqaNRLfBIfVTfWBgEvV5g7fFUDIs8jFNpBWiqsMbnL3XFiok94dbMTup4\n",
              "VAeezvZY+koQ5Bzqo3rAwmjkCku0mBQTh492nEepVofevq74eW4/jOnJvctair7KFniLQ31UD1gY\n",
              "jVhmQSnClx3D4eQc2NnI8ckLAVg/rRe8mjtIHY3qGYf6qD6wMBqp8zcLMfLbo7iafQ/ujnbYNqsP\n",
              "VH2egpx7l7VIjw71zfmRQ31UcyyMRuhw8h2M/e53ZN9Vo32rZtj2Whg6ejhKHYuM7OGhvoNX7iBy\n",
              "H4f6qGZYGI1M7MkMTI6Jxz11OUJ9XbBpRm94ONlLHYsayMNDfUv+l0N9VDMsjEZCCIFv91/FW5sT\n",
              "Ua4XGN6tNdZMCYGTvY3U0aiBcaiPaouF0QiU6/T4+/Zz+OKXywCAGQPa4euxgVBYc6eBjRWH+qg2\n",
              "WBgWrkRTjunfn8QPJ9IgkwGfjuiE9//WgRu3G7kHQ30uTWw51EcGY2FYsJx7aryy4gT2XcqGwlqO\n",
              "6PE9MLG3j9SxyER4OttjycvdOdRHBmNhWKjUnGKERx9DYnoBmjvY4IdXQzG0s7vUscjEcKiPaoKF\n",
              "YYFOp+VjVPQx3MgtQRsXe8TODEOPts2ljkUmikN9ZCgWhoX59cJtvLLid+QVa9DF0wlbZ/aBb8um\n",
              "UsciE8ahPjIUC8OCfP/7DUz/PgFlWj0Gtm+JHyNC0bKZQupYZAY41EeGqHVhxMTEQCaTYfv27QCA\n",
              "7OxsDB06FEqlEp07d8ahQ4fqKyM9gRACn/98CfO3n4NeAC8Ht8GKiT3RhEfFoxrgUB89Sa0KIzU1\n",
              "FStWrEBoaGjFz95//32EhoYiOTkZMTExGDduHLRabb0FpeppyvV4c1Miog6kAADefMYfC0d1gbUV\n",
              "XzxSzXGoj/5KjR9V9Ho9pk2bhqVLl0Kh+PPtjk2bNmHGjBkAgODgYLRu3RoHDx6sv6RURVGZFpNX\n",
              "x2Hb6UxYy2X44qWueGOQkrslpzrhUB89To0LY/HixejTpw969OhR8bPc3FxotVq4u//5sU0fHx+k\n",
              "pVX/uW61Wo2ioqJKJ52OK2VN3Cosw5hlx3H0ai6a2FphpSoYo3u2kToWWQAO9dHj1Kgwzp07h9jY\n",
              "WHz44Yd1utKFCxfCycmp0ikuLq5Ol9mYXL51FyOjjuLSrbto2UyBjdN7Y4B/S6ljkQXhUB9Vp0aF\n",
              "cfjwYaSmpkKpVMLHxwe///47IiIisGnTJlhbW+PWrVsVy6ampsLb27vay/nggw9QWFhY6RQSElK3\n",
              "W9JIHE/JxUvLjiGrsAztWjbB1plh6OzpJHUsskAc6qNH1agwZs6ciaysLKSmpiI1NRWhoaFYvnw5\n",
              "Zs6cidGjR2PZsmUAgPj4eGRmZmLAgAHVXo5CoYCjo2Olk5UVd4T3JDsTb2LSqjjcLStHz7bNETsz\n",
              "DG1ceHQ8Mp5Hh/ryiznU15jV20dp/v3vf+PYsWNQKpVQqVRYt24dbGy46+z6IITA8kMpeGPDaWh0\n",
              "evytszvWTesFZwdbqaORhXt0qG/uxjPQcaiv0ZIJIUzif//NN9/E4sWLpY5hcnR6gX/+dAGrj6UC\n",
              "ACb38cH85wK4t1lqUBduFmFU9FGUafWYM0iJec/4Sx2JJMAP65uwMq0Or60/VVEWHz7XER+/0Ill\n",
              "QQ2OQ30EsDBMVn6xBuP/cwI/n78FWys5vhnXHdP6+UodixoxDvURC8MEpeeVIHzZMZy8kQ9HO2t8\n",
              "PzUEz3dtLXUsIg71NXIsDBOTlFGIkVHHcO1OMTyd7++avJevq9SxiADcH+qL5lBfo8XCMCH7L2dj\n",
              "7PLjyLmnRkcPR2ydFQZlq2ZSxyKqpDWH+hotFoaJ2BifhmlrElCi0aGfsgU2TQ9FK0c7qWMRVYtD\n",
              "fY0TC0NiQgh89esVvBebBJ1eYFSQJ1ZOCkYzO86wkGl7eKhvxjoO9TUGLAwJaXV6vBd7tuJgNa//\n",
              "Hz8sGt0Nttb8byHT9/BQX2YBh/oaAz4ySaRYXY5paxKwKSEDchnwr5Gd8daQ9tw1OZmVR4/Ut4RH\n",
              "6rNoLAwJZN8tw9jlx3Hwyh3Y21hhxcSeGN+rrdSxiGqFQ32NBwujgaXcuYdRUcdwLrMIrk1ssSEi\n",
              "FIM6tpI6FlGdcKivcWBhNKCE1DyERx9DRn4pfFwdsHVWGALbOEsdi6hecKjP8rEwGsiepCyM+88J\n",
              "FJRoEdjGGbEzw9DWtYnUsYjqDYf6LB8LowHEHL2OWT+cgqZcj8EdW2HDq6Fwbap48i8SmZlHh/p+\n",
              "jONQnyVhYRiRXi+wYPdF/OO/FyAEMCHUG8smBMHelgeLIsv18FDfRzs51GdJWBhGoi7XYc7GM1h+\n",
              "6BoA4N2h7fHPEZ1hbcW7nCwfh/osEx+9jKCwVIuJK+Pw38SbsLGS4aux3TDraT/OWFCjwaE+y8TC\n",
              "qGeZBaUYvewYTlzPQzOFNVZPDsHI7l5SxyJqcBzqszwsjHp04WYRRkUdxZXb9+DuaIdNM3qjj18L\n",
              "qWMRSYZDfZaFhVFPjl7NwZjvjuN2kRr+rZpi66wwdPRwlDoWkeTCe3hhQiiH+oxJq9M3yPVYN8i1\n",
              "WLitpzLw7pazKNcLhPq64Lv/2xNO9tzbLNED858PQFJmERLTCzBz/UlsmREGOxt+WrA6QgjcVZcj\n",
              "v1iD3GJNxde8h/5d8bVEg7x7GpRodUj+7G+Qy427nZSFUQdCCEQdSMEXv1wGALzQrTW+HN0VCmv+\n",
              "IRA97MFQ3/NLj1QM9f37pa5Sx2oQWp3+/gN78Z+n6sqg4rwSDbS6mn9AoKhMC2cHWyPcgj+xMGqp\n",
              "XKfHxzvPY/2J+4NJ0/v74r2hHYze8ETm6sFQ38RVJ7AxIR3dvZ3xcoi31LFqRAiBYo2u6jP9igd+\n",
              "NfKKtcgrViO/RIvce2oUlZXX6rrsbazg0sS24uTaxBbNH/r+0fMa4l2NGhfGkCFDcOvWLcjlcjRr\n",
              "1gxLlixB9+7dkZycjEmTJiEnJwdOTk5YvXo1OnXqZIzMkivRlOONDafx28VsyGTAx88HQNXnKalj\n",
              "EZm8B0N9X/xyGR/tPI9OrZ3QxctJsjw6vUB+yZOf8efe++NrsQaa8ppvL5DJAGd7mz8e3BVo3sQG\n",
              "Lk0UcHnka0UpONia5IBvjQtj06ZNcHZ2BgBs27YNKpUKiYmJmD59OiIiIqBSqbBlyxaoVCrEx8fX\n",
              "d17J5d5TY8qaBCSmF0BhLUfky90xtLO71LGIzMbMAe1wOi0fv13Mxox1J/HT633RvEn9vJVSqtEh\n",
              "t1hd6QH/cQ/8ecUaFJZqIWoxHqKwllf/jN/BFi5N/3g14GAL16b3vzo72MLKAt59qHFhPCgLACgs\n",
              "LIRMJkN2djYSEhKwd+9eAEB4eDhmz56Nq1evws/Pr97CSi01pxiqmDik5pbA2cEGKyf1RI+2LlLH\n",
              "IjIrD4b6hn9zBDdySzB34xmsUgVXeUDV6wUKSrWPfeDPK1Yjr+SPt3+KtcgtVqNMW7tPCznZ21Qu\n",
              "gEce+F2a/vGzP853sLVqlIO4tdqGMXHiROzfvx8AsHv3bqSnp8PDwwPW1vcvTiaTwdvbG2lpadUW\n",
              "hlqthlqtrvQznc60d4V8Oi0fU9ckIK9YA6/m9lgzJQTtWjaVOhaRWXow1Dcq+igOXrmDKavjYW9j\n",
              "hbySPzcK55doUJvhcBsr2R8P7A+95ePwx9dHHvhdmtjC2cEGNtxlj0FqVRhr164FAKxZswbvvfce\n",
              "/vnPf9bo9xcuXIh//OMflX4WGhpamygN4rcLtzF7wymUafXo4umElaqecGtmJ3UsIrP2YKjvrc2J\n",
              "OHjlzmOXa2ZnXfktnyZVn/E/fGqqsG6Uz/4bgkyI2ryD9yd7e3ukpqZCqVQiLy8P1tbWEELAw8MD\n",
              "R44cMfgVxvz58xEZGVmXKEax/sQNzN9+DnoBPN2+Jb4dF4QmCn64jKi+bD+diWs5xXCt5sG/uYMt\n",
              "bK357N9U1OiRr6CgACUlJWjdujUAYPv27XB1dYWbmxuCgoKwbt06qFQqxMbGwsvL67HbLxQKBRSK\n",
              "yseDsLIyrU8ECCHw5d7L+HZ/CgBgbM82+GxkZ750JapnL3b3lDoCGahGhVFYWIjRo0ejtLQUcrkc\n",
              "LVu2xE8//QSZTIbvvvsOKpUKCxYsgKOjI2JiYoyV2eg05Xq8v/Ustp7KBADMG+yPNwZxb7NE1LjV\n",
              "qDDatm2LuLi4as9r3749jh8/Xi+hpHS3TIuZ607hyNUcWMllWDiqC8b0bCN1LCIiyfHN+IfcLirD\n",
              "pFVxuHTrLhxsrRA1PghPt3eTOhYRkUlgYfzhyu27UK2Kw83CMrRoqsDqycHo7CndBCoRkalhYQD4\n",
              "/VouItYmoKisHL4tm2DN5BC0cXGQOhYRkUlp9IXx38SbeGtTIjQ6PXq2bY4VE3vW224KiIgsSaMt\n",
              "DCEEVh65js92XQQADO3kjq9fDuQ++omIHqNRFoZOL/DZrguIOZoKAFCF+WD+8wEWsXMwIiJjaXSF\n",
              "UabVYd7GM9hz7hYA4MPnOmJq36c4Y0FE9ASNqjDyizV4dW0CEm7kw9ZKjkVjuuGFbq2ljkVEZBYa\n",
              "TWGk55VgUkwcrt0phqOdNZZP7IlQX1epYxERmY1GURjnMgsxeXU87txVo7WTHVZPCYF/q2ZSxyIi\n",
              "MisWXxgHLmdj1vpTKNHo0MG9GdZMCUErR+6anIiopiy6MDYlpOODrUnQ6QX6+rVA9IQgNLMz/oHS\n",
              "iYgskUUWhhACS/ZdxVe/XQEAjOruif8X3pX71SciqgOLKwytTo8Pt53DxoR0AMBrA9vh7SHt+bFZ\n",
              "IqI6sqjCKFaX47UfTuHA5TuQy4BPR3TGhNC2UsciIrIIFlMYd+6qMWV1PJIyC2FnI8c3rwRhcEAr\n",
              "qWMREVkMiyiMlDv3oIqJQ3peKVya2GKVKhiBbZyljkVEZFHMvjBOpeVjyup4FJRo0dbVAWsmh8Cn\n",
              "RROpYxERWRyzL4ymCmvo9ALd2jhj1aSecG2qkDoSEZFFMvvC8G/VDBteDYVvyyZwsDX7m0NEZLIs\n",
              "4hGWh1IlIjI+TrIREZFBWBhERGQQFgYRERlEJoQQUocAgFGjRsHHx6dWv6vT6RAXF4eQkBBYWZne\n",
              "MbmZr26Yr26Yr24aQ762bdtizpw5T1zOZAqjLoqKiuDk5ITCwkI4OjpKHacK5qsb5qsb5qsb5vsT\n",
              "35IiIiKDsDCIiMggLAwiIjKIRRSGQqHAxx9/DIXCNHcLwnx1w3x1w3x1w3x/soiN3kREZHwW8QqD\n",
              "iIiMj4VBREQGYWEQEZFBzKowkpOTERYWBn9/fwQHB+P8+fPVLrdy5UoolUq0a9cOr776KrRarcnk\n",
              "O3DgAOzt7REYGFhxKi0tNXq2N954Az4+PpDJZDhz5sxjl5PqvjMkn1T3HQCUlZXhxRdfhL+/P7p1\n",
              "64ZnnnkGV69erXbZn376CR06dIBSqcSoUaNQVFRkMvlSU1NhZWVV6T5MSUkxej4AGDJkCLp27YrA\n",
              "wED069cPp0+frnY5qdZBQ/JJuQ4+EBMTA5lMhu3bt1d7vlHXP2FGBg4cKGJiYoQQQmzevFn07Nmz\n",
              "yjLXrl0THh4eIisrS+j1evHCCy+Ib775xmTy7d+/X3Tr1q1B8jzs4MGDIj09XbRt21acPn262mWk\n",
              "vO8MySfVfSeEEKWlpWLXrl1Cr9cLIYRYunSpGDBgQJXl7t69K9zc3MTFixeFEEK89tpr4u233zaZ\n",
              "fNevXxdOTk5Gz1Od/Pz8in9v3bpVdO3atcoyUq6DhuSTch0U4v7/X+/evUVoaKjYtm1blfONvf6Z\n",
              "zSuM7OxsJCQkYMKECQCA8PBwpKenV3kWtWXLFgwfPhzu7u6QyWSYMWMGNmzYYDL5pNK/f394eXn9\n",
              "5TJS3XeG5pOSnZ0dhg0bBplMBgAIDQ1FampqleX27NmD7t27o0OHDgCAWbNmNch9aGg+KTk7O1f8\n",
              "u7CwsCLrw6RcBw3JJyW9Xo9p06Zh6dKlj/0IrbHXP7MpjPT0dHh4eMDa+v4xn2QyGby9vZGWllZp\n",
              "ubS0NLRt27biex8fnyrLSJkPAFJSUhAUFITg4GBERUUZPZuhpLrvasJU7rvIyEiMGDGiys+ruw+z\n",
              "srJQXl7ekPEemw8AiouLERwcjKCgIHz66afQ6XQNlmvixIlo06YN5s+fj++//77K+VKvg0/KB0i3\n",
              "Di5evBh9+vRBjx49HruMsdc/izjinjkJCgpCRkYGnJyckJGRgWHDhqFFixYYM2aM1NFMnqncdwsW\n",
              "LMDVq1exb9++Br1eQ/1VPg8PD2RmZsLNzQ15eXkYO3YsFi1ahHfffbdBsq1duxYAsGbNGrz33nvY\n",
              "vXt3g1yvoZ6UT6p18Ny5c4iNjcWhQ4eMej1PYjavMNq0aVOpKYUQSEtLg7e3d6XlvL29cePGjYrv\n",
              "U1NTqywjZT5HR0c4Od0/pKyXlxdeeeUVHD582Oj5DCHVfWcoU7jvvvzyS2zduhV79uyBg4NDlfOr\n",
              "uw8ffuUpdT6FQgE3NzcAgIuLC6ZMmSLJ+jdp0iTs378fubm5lX5uKuvg4/JJtQ4ePnwYqampUCqV\n",
              "8PHxwe+//46IiAhER0dXWs7o61+9bQ1pAAMGDKi0UblHjx5VlklJSamy0Wzp0qUmk+/mzZtCp9MJ\n",
              "IYQoKioSYWFhYuXKlQ2STwjxlxuVpbzvDMkn9X23aNEiERQUJPLy8h67TFFRkWjZsmWljY5vvfWW\n",
              "yeS7ffu20Gg0QgghysrKxEsvvSTmz59v9Gz5+fkiMzOz4vtt27YJT0/Pio30D0i1DhqaT+p18IEB\n",
              "AwZUu9Hb2OufWRXGpUuXRGhoqFAqlaJHjx7i7NmzQgghpk6dKnbs2FGx3PLly4Wvr6/w9fUVU6ZM\n",
              "qfgDMYV8S5cuFQEBAaJr164iICBAfPzxx1VWSmOIiIgQnp6ewsrKSri5uYl27dpVySaEdPedIfmk\n",
              "uu+EECI9PV0AEL6+vqJbt26iW7duIiQkRAghxPz580V0dHTFsjt27BDt27cX7dq1EyNGjBAFBQUm\n",
              "ky82NlZ06tSp4j6cPXu2KCsrM3q+1NRUERwcLDp37iy6du0qBg0aVPHEwBTWQUPzSbkOPuzhwmjI\n",
              "9Y/7kiIiIoOYzTYMIiKSFguDiIgMwsIgIiKDsDCIiMggLAwiIjIIC4OIiAzCwiAiIoOwMIiIyCAs\n",
              "DCIiMggLg4iIDMLCICIig/x/xT/ClapiKdsAAAAASUVORK5CYII=\n",
              "\">\n",
              "        \n",
              "      </div>\n",
              "      <script></script>\n",
              "      <script type=\"text/javascript\">\n",
              "        (() => {\n",
              "          const chartElement = document.getElementById(\"chart-a0db9266-5f9a-4f7f-87fc-1db918c0e879\");\n",
              "          async function getCodeForChartHandler(event) {\n",
              "            const chartCodeResponse =  await google.colab.kernel.invokeFunction(\n",
              "                'getCodeForChart', [\"chart-a0db9266-5f9a-4f7f-87fc-1db918c0e879\"], {});\n",
              "            const responseJson = chartCodeResponse.data['application/json'];\n",
              "            await google.colab.notebook.addCell(responseJson.code, 'code');\n",
              "          }\n",
              "          chartElement.onclick = getCodeForChartHandler;\n",
              "        })();\n",
              "      </script>\n",
              "      <style>\n",
              "        .colab-quickchart-chart-with-code  {\n",
              "            display: block;\n",
              "            float: left;\n",
              "            border: 1px solid transparent;\n",
              "        }\n",
              "\n",
              "        .colab-quickchart-chart-with-code:hover {\n",
              "            cursor: pointer;\n",
              "            border: 1px solid #aaa;\n",
              "        }\n",
              "      </style>"
            ]
          },
          "metadata": {}
        },
        {
          "output_type": "display_data",
          "data": {
            "text/plain": [
              "<google.colab._quickchart_helpers.SectionTitle at 0x7b627e47a0e0>"
            ],
            "text/html": [
              "<h4 class=\"colab-quickchart-section-title\">Distributions</h4>\n",
              "<style>\n",
              "  .colab-quickchart-section-title {\n",
              "      clear: both;\n",
              "  }\n",
              "</style>"
            ]
          },
          "metadata": {}
        },
        {
          "output_type": "display_data",
          "data": {
            "text/plain": [
              "import numpy as np\n",
              "from google.colab import autoviz\n",
              "\n",
              "def histogram(df, colname, num_bins=20, figscale=1):\n",
              "  from matplotlib import pyplot as plt\n",
              "  df[colname].plot(kind='hist', bins=num_bins, title=colname, figsize=(8*figscale, 4*figscale))\n",
              "  plt.gca().spines[['top', 'right',]].set_visible(False)\n",
              "  plt.tight_layout()\n",
              "  return autoviz.MplChart.from_current_mpl_state()\n",
              "\n",
              "chart = histogram(df, *['No'], **{})\n",
              "chart"
            ],
            "text/html": [
              "      <div class=\"colab-quickchart-chart-with-code\" id=\"chart-9093e589-c15b-4b51-b0ed-aee070595137\">\n",
              "        <img src=\"data:image/png;base64,iVBORw0KGgoAAAANSUhEUgAAAYwAAADECAYAAACMRRb/AAAAOXRFWHRTb2Z0d2FyZQBNYXRwbG90\n",
              "bGliIHZlcnNpb24zLjcuMSwgaHR0cHM6Ly9tYXRwbG90bGliLm9yZy/bCgiHAAAACXBIWXMAAA9h\n",
              "AAAPYQGoP6dpAAAYkElEQVR4nO3df1CT9+EH8HdEm+pmQAWOHCFw/IpaBQThKNqfrpu6CQ68rt3h\n",
              "SJUfTjfb002K1Guxm7hr3aTuWqF4bJZb251gZVTXzZZZbbWItU6hKz8EEy3KViroClHC5/sHM1/T\n",
              "gH2emCeJ8H7dPXfk4cOTN/FT3k2e5POohBACRERE32CcpwMQEdGdgYVBRESSsDCIiEgSFgYREUnC\n",
              "wiAiIklYGEREJAkLg4iIJGFhEBGRJCwMIiKShIVBRESSsDCIXODBBx+ESqXCX/7yF7v9mZmZMBqN\n",
              "nglF5GIsDCIX8ff3x/r163Ht2jVPRyFSBAuDyEWMRiMGBwfx0ksvDfv9y5cvIzc3FzqdDv7+/li0\n",
              "aBE+++wzN6ckch4Lg8hF1Go1XnzxRTz//PPo6upy+P7y5cvR0tKChoYGmEwmGAwGfOc738HVq1c9\n",
              "kJZIPhYGkQstXboUc+fOxcaNG+32d3Z2ora2Ftu3b0dQUBAmTZqEF154AX19faitrfVQWiJ5WBhE\n",
              "LlZSUoLXXnsNJ0+etO0zm80AgIiICNu+CRMmIDQ0FCaTye0ZiZzBwiBysVmzZiE7OxtPPvmkbV9I\n",
              "SAgAoK2tzbZvYGAAJpMJer3e7RmJnMHCIFLA5s2bcebMGbzzzjsAAK1Wi8WLF2P9+vW4dOkS+vr6\n",
              "kJ+fj7vuugvf//73PZyWSBoWBpECpk2bhueeew7/+c9/bPtee+01hIWFIT4+HjqdDo2NjTh48CAm\n",
              "T57swaRE0ql4TW8iIpKCzzCIiEgSFgYREUnCwiAiIklYGEREJAkLg4iIJGFhEBGRJCwMIiKSZFQU\n",
              "RklJiacjEBGNeqOiMM6dO+fpCEREo96oKAwiIlKeooWxdu1ahIWFQaVS4ZNPPhlx3K5duxAVFYWI\n",
              "iAjk5OTg+vXrSsYiIiInKFoYy5Ytw5EjRxAaGjrimPb2dmzatAmHDx9Ga2srLl26hLKyMiVjERGR\n",
              "ExQtjPvvvx86ne6WY/bs2YPU1FQEBQVBpVJh1apVeP3115WMRUREThjv6QAmk8nuGUhYWNgtr0Bm\n",
              "sVhgsVjs9lmtVsXyERHREI8XhlzFxcUoKiqy25ecnOz08cKefvu28nRsHXsXv7mdx4yPl3x8zOS5\n",
              "Ux+vO2GeePxdUnq93u5tsR0dHbe8ZGVBQQF6enrstqSkJHdEJSIa0zxeGBkZGaipqcHFixchhMDO\n",
              "nTvx2GOPjTherVZDo9HYbT4+Pm5MTEQ0NilaGHl5edDpdDh//jy+973vITIyEgCQnZ2NmpoaAEB4\n",
              "eDiKioowb948REZGIiAgAHl5eUrGIiIiJyh6DqO0tHTY/eXl5Xa3c3JykJOTo2QUIiK6TR5/SYqI\n",
              "iO4MLAwiIpKEhUFERJKwMIiISBIWBhERScLCICIiSVgYREQkCQuDiIgkYWEQEZEkLAwiIpKEhUFE\n",
              "RJKwMIiISBIWBhERScLCICIiSVgYREQkCQuDiIgkYWEQEZEkihZGS0sLUlJSEB0djcTERDQ2NjqM\n",
              "GRwcxLp16zBz5kzExMTgoYceQmtrq5KxiIjICYpf0zs3NxfNzc3Iz8+H0Wh0GFNTU4MPPvgAp06d\n",
              "wj//+U8sWLAAGzduVDIWERE5QbHC6OrqQkNDAzIzMwEAGRkZMJvNDs8eVCoVLBYL+vv7IYRAb28v\n",
              "dDqdUrGIiMhJ45U6sNlshlarxfjxQ3ehUqmg1+thMpkQGRlpG7dkyRLU1dUhKCgIkydPRnBwMA4d\n",
              "OjTicS0WCywWi90+q9WqzC9BREQ2Hj/p3dDQgDNnzuDChQv4/PPPsWDBAqxatWrE8cXFxfD19bXb\n",
              "6uvr3ZiYiGhsUqwwQkJC0NnZiYGBAQCAEAImkwl6vd5u3O7du/Hwww/Dz88P48aNQ1ZWFurq6kY8\n",
              "bkFBAXp6euy2pKQkpX4NIiL6H8UKIzAwEPHx8aisrAQAVFVVQafT2b0cBQDh4eF47733cO3aNQBA\n",
              "bW0tZs2aNeJx1Wo1NBqN3ebj46PUr0FERP+j2DkMACgtLYXRaMSWLVug0WhQUVEBAMjOzkZqaipS\n",
              "U1OxZs0afPrpp4iNjcWECRMQFBSEnTt3KhmLiIicoGhhGAwGHD161GF/eXm57Wu1Wo1XX31VyRhE\n",
              "ROQCHj/pTUREdwYWBhERScLCICIiSVgYREQkCQuDiIgkkV0Y77zzjhI5iIjIy8kujM2bN8NgMKCk\n",
              "pAS9vb1KZCIiIi8kuzA++OADvPHGGzhz5gyio6OxevVqNDU1KZGNiIi8iFPnMObMmYNXX30Vf/3r\n",
              "X1FbW4uYmBg88sgjOH36tKvzERGRl3CqMA4ePIi0tDSkp6djzZo1uHjxIvLy8vDDH/7Q1fmIiMhL\n",
              "yF4aZMaMGfD398fatWuRnp5uW/hv2bJl2LVrl8sDEhGRd5BdGJWVlUhISBj2ewcOHLjtQERE5J1k\n",
              "vyR14sQJdHd3225/8cUXXDyQiGgMkF0YL7/8MqZOnWq7PW3aNLz88ssuDUVERN5HdmEIIRz28Zra\n",
              "RESjn+zC0Gq1+POf/2y7/eabb0Kr1bo0FBEReR/ZJ723b9+OtLQ0bNiwAQAwadIk7Nu3z+XBiIjI\n",
              "u8h+hjF9+nQ0NTVh//792L9/P06fPo2oqKhhx7a0tCAlJQXR0dFITExEY2PjsONOnz6NBx98EDNm\n",
              "zMCMGTNQXV0tNxYRESnMqUu0qlQq+Pn5YWBgABcuXAAA6PV6h3F5eXnIzc2F0WjEnj17YDQacfz4\n",
              "cbsxX331FdLS0rB7927Mnz8fVqvV7l1YRETkHWQ/w/jDH/4APz8/zJ49GwkJCUhISMDcuXMdxnV1\n",
              "daGhoQGZmZkAgIyMDJjNZrS2ttqN+9Of/oTk5GTMnz8fAODj44OAgABnfhciIlKQ7GcYzz//PI4f\n",
              "Pw6DwXDLcWazGVqtFuPHD92FSqWCXq+HyWRCZGSkbVxTUxPUajV+8IMf4Pz584iJicG2bdtGLA2L\n",
              "xQKLxWK3j+/SIiJSnuxnGP7+/t9YFnIMDAzg4MGDKC0txcmTJxEcHIyf/vSnI44vLi6Gr6+v3VZf\n",
              "X++yPERENDzZhbF06VJs374dXV1d6O3ttW1fFxISgs7OTgwMDAAY+vyGyWRyONeh1+vx0EMPITg4\n",
              "GCqVCpmZmTh27NiI919QUICenh67LSkpSe6vQUREMskujMLCQqxbtw5BQUGYMmUK/Pz8MGXKFIdx\n",
              "gYGBiI+PR2VlJQCgqqoKOp3O7uUoAHj00Udx/PhxW+ns378fsbGxI96/Wq2GRqOx224sgEhERMqR\n",
              "fQ5jcHBQ8tjS0lIYjUZs2bIFGo0GFRUVAIDs7GykpqYiNTUVer0eGzduREpKCsaNG4fg4GCUlZXJ\n",
              "jUVERApz6m21J06cQFNTE5YvX47Lly+jr69v2E97GwwGHD161GF/eXm53e3ly5dj+fLlzkQhIiI3\n",
              "cWrxwRUrVuC5554DMLRa7Y9//GNX5yIiIi8juzDKyspw7NgxaDQaAEBERAT+/e9/uzwYERF5F9mF\n",
              "oVarMXHiRLt9Nz5rQUREo5fswggICEBzczNUKhWAoU9+D7csCBERjS5OrVb7+OOP41//+hdCQkKg\n",
              "0WhQW1urRDYiIvIisgsjMjISH330ET777DMIIWAwGPg5CCKiMUB2YZhMJgDAt771LQC45Wq1REQ0\n",
              "esgujISEBKhUKggh0N/fj6+++grTpk1DV1eXEvmIiMhLyC6Mr7+Ftrq6GqdOnXJZICIi8k6y3yX1\n",
              "denp6Xj77bddkYWIiLyY7GcYN69Ma7Va8dFHHw27Wi0REY0usgvDz8/Pdg7Dx8cHUVFReOmll5TI\n",
              "RkREXkTR1WqJiGj0uO1zGERENDbIfoYxbtw427IgNxNCQKVS8fraRESjlOzC2Lx5M/r6+mzX3d65\n",
              "cycmTpyIp556ytXZiIjIi8gujL179+LEiRO227/61a+QkJCAwsJClwYjIiLvIvscxpUrV+w+1d3V\n",
              "1YUrV664NBQREXkf2YWxfv16xMbGYuXKlVi5ciXmzJmDX/7yl8OObWlpQUpKCqKjo5GYmIjGxsYR\n",
              "jyuEwMMPPww/Pz+5kYiIyA1kF0ZeXh7+/ve/Iy4uDnFxcfjb3/6GnJycEcfm5uaiubkZ+fn5MBqN\n",
              "Ix73d7/7HSIiIuTGISIiN3HqbbXTpk3D7Nmz8fOf/xwGgwHXrl1zGNPV1YWGhgZkZmYCADIyMmA2\n",
              "m9Ha2uowtrGxEW+99RaefvppZ+IQEZEbyC6MPXv2IDk5GU888QSAoT/2S5cudRhnNpuh1Wptl29V\n",
              "qVTQ6/W25dFvuH79OnJyclBaWirpuhoWiwW9vb12G9/KS0SkPNmFUVxcjI8//th2riE2Nhbnzp1z\n",
              "OkBRURHS09MxY8YMyffv6+trt9XX1zt9/0REJI3swvDx8cG0adPs9t11110O40JCQtDZ2YmBgQEA\n",
              "Qye1TSaTw4WWDh06hB07diAsLAzz589Hb28vwsLCHJZRv6GgoAA9PT12W1JSktxfg4iIZJL9OYzJ\n",
              "kyfj0qVLtk97v/vuu5g6darDuMDAQMTHx6OyshJGoxFVVVXQ6XSIjIy0G3f48GHb1x0dHYiLi0NH\n",
              "R8eI969Wq6FWq+328RKxRETKk10Yv/nNb7Bo0SKcPXsW8+fPR3t7+4jXwygtLYXRaMSWLVug0WhQ\n",
              "UVEBAMjOzkZqaipSU1NvLz0REbmNrMIYHByE1WpFXV0dPvzwQwghkJKSMuJnJwwGA44ePeqwv7y8\n",
              "fNjxYWFhuHz5spxIRETkJrIKY9y4ccjNzcWpU6ewaNEipTIREZEXkn3SOyoqatjPUhAR0egm+xxG\n",
              "d3c34uLikJKSgm9/+9u2/dXV1S4NRkRE3kVyYeTm5qKsrAxZWVlITU3FlClTlMxFREReRnJhNDQ0\n",
              "AACysrIQHx+Pjz/+WLFQRETkfZxaS0oI4eocRETk5SQ/w+jr68Pp06chhEB/f7/t6xtiYmIUCUhE\n",
              "RN5BVmHc/EG7m79WqVQ4e/asa5MREZFXkVwYt1qug4iIRj+nzmEQEdHYw8IgIiJJWBhERCQJC4OI\n",
              "iCRhYRARkSQsDCIikoSFQUREkrAwiIhIEkULo6WlBSkpKYiOjkZiYiIaGxsdxrz33ntISkrCzJkz\n",
              "cc8992DDhg0YHBxUMhYRETlB0cLIy8tDbm4umpubkZ+fD6PR6DBmypQpeOONN9DU1IQTJ07gww8/\n",
              "xO7du5WMRURETlCsMLq6utDQ0IDMzEwAQEZGBsxms8PV+ubMmYPw8HAAwN133424uDguQ0JE5IVk\n",
              "X3FPKrPZDK1Wi/Hjh+5CpVJBr9fDZDIhMjJy2J+5ePEi9uzZg9ra2hGPa7FYYLFY7PZZrVbXBSci\n",
              "omF5zUnv3t5eLFmyBBs2bMDcuXNHHFdcXAxfX1+7rb6+3o1JiYjGJsUKIyQkBJ2dnRgYGAAwdNEl\n",
              "k8kEvV7vMPbKlStYuHAh0tLSsG7dulset6CgAD09PXZbUlKSIr8DERH9P8UKIzAwEPHx8aisrAQA\n",
              "VFVVQafTObwcdfXqVSxcuBALFy7EM888843HVavV0Gg0dpuPj48ivwMREf0/RV+SKi0tRWlpKaKj\n",
              "o7F161ZUVFQAALKzs1FTUwMAKCkpQX19PaqrqxEXF4e4uDj8+te/VjIWERE5QbGT3gBgMBhw9OhR\n",
              "h/3l5eW2rwsLC1FYWKhkDCIicgGvOelNRETejYVBRESSsDCIiEgSFgYREUnCwiAiIklYGEREJAkL\n",
              "g4iIJGFhEBGRJCwMIiKShIVBRESSsDCIiEgSFgYREUnCwiAiIklYGEREJAkLg4iIJGFhEBGRJCwM\n",
              "IiKSRNHCaGlpQUpKCqKjo5GYmIjGxsZhx+3atQtRUVGIiIhATk4Orl+/rmQsIiJygqKFkZeXh9zc\n",
              "XDQ3NyM/Px9Go9FhTHt7OzZt2oTDhw+jtbUVly5dQllZmZKxiIjICYoVRldXFxoaGpCZmQkAyMjI\n",
              "gNlsRmtrq924PXv2IDU1FUFBQVCpVFi1ahVef/11pWIREZGTxit1YLPZDK1Wi/Hjh+5CpVJBr9fD\n",
              "ZDIhMjLSNs5kMiE0NNR2OywsDCaTacTjWiwWWCwWu31Wq9XF6YmI6OsUKwylFBcXo6ioyG7f9OnT\n",
              "sW7dOtnHslqt0NbXIykpCT4+Pk7lWbfuXad+7lasVivqbzOXUm73MVPi8QK89zHz1jkGjN7H7E59\n",
              "vNJv42etVivuvfdXTmcLDQ3Fk08++Y3jVEII4UzAb9LV1YXIyEh0d3dj/PjxEEJAq9XiyJEjds8w\n",
              "XnjhBbS1tWHnzp0AgP3792PLli04cuTIsMcd7hmGWq2GWq2WnbG3txe+vr7o6emBRqOR/fNK8dZc\n",
              "gPdmYy75vDUbc8nnrmyKncMIDAxEfHw8KisrAQBVVVXQ6XR2ZQEMnduoqanBxYsXIYTAzp078dhj\n",
              "j414XLVaDY1GY7c5UxZERCSPou+SKi0tRWlpKaKjo7F161ZUVFQAALKzs1FTUwMACA8PR1FREebN\n",
              "m4fIyEgEBAQgLy9PyVhEROQERc9hGAwGHD161GF/eXm53e2cnBzk5OQoGYWIiG7TmP6kt1qtxrPP\n",
              "Put1L2l5ay7Ae7Mxl3zemo255HNXNsVOehMR0egypp9hEBGRdCwMIiKShIVBRESSjInCWLt2LcLC\n",
              "wqBSqfDJJ5+MOM7dq+ZKyfWPf/wDEydORFxcnG3r6+tTNFd/fz+WLl2K6OhoxMbG4pFHHnFYA+yG\n",
              "2tpaTJ8+HVFRUUhPT0dvb6/Hc3V0dMDHx8fuMWtra1MsFwB897vfRUxMDOLi4nDffffh5MmTw47z\n",
              "xMrMUrJ5Yp7dUFFRAZVKhbfeemvY77tzjknN5Yk5BgwtnWQwGGz3+eabbw47TrF5JsaAQ4cOCbPZ\n",
              "LEJDQ8XJkyeHHXP27Fmh1WpFZ2enGBwcFEuWLBG///3vPZ6rrq5OxMbGKprj6/r6+sTbb78tBgcH\n",
              "hRBC7NixQzzwwAMO465cuSICAwPFp59+KoQQYs2aNeIXv/iFx3O1t7cLX19fxXIM58svv7R9XV1d\n",
              "LWJiYhzGeGKOSc3miXkmxNC/1b333iuSk5PF3r17Hb7v7jkmNZcn5pgQ4pZ/K25Qcp6NiWcY999/\n",
              "P3Q63S3HeGLVXCm5POHuu+/G4sWLoVKpAADJycno6OhwGHfgwAHMmTMH06dPBwCsXr1a0cdMai5P\n",
              "8PPzs33d09Njy3gzT63MLCWbJwwODiI7Oxs7duwY8e2g7p5jUnN5MyXn2R23+KBS5K6a605tbW2I\n",
              "j4+Hj48PnnjiCaxevdqt919SUoK0tDSH/cM9Zp2dnRgYGLCtUuyJXADw3//+F4mJibBarVi6dCkK\n",
              "CwsVX2DvJz/5Cerq6gAMrYn2dZ6cY9+UDXD/PPvtb3+LefPmISEhYcQxnphjUnIBnpljwNC/pRAC\n",
              "SUlJ2Lp1KwICAuy+r+Q8Y2F4ufj4eJw/fx6+vr44f/48Fi9eDH9/fzz66KNuuf8tW7agtbUV776r\n",
              "zAqgzrpVLq1WiwsXLiAwMBDd3d340Y9+hG3btmHDhg2KZtq9ezcA4I9//CPy8/NH/MPsCd+Uzd3z\n",
              "7MyZM6iqqsL777+vyPGdJTWXp+bY+++/D71ej+vXr+OZZ55BVlaWW+fZmHhJSgq9Xo9z587Zbnd0\n",
              "dECv13sw0RCNRgNfX18AgE6nw+OPP47Dhw+75b5ffPFFVFdX48CBA5g0aZLD94d7zG6+BoqncqnV\n",
              "agQGBgIApk6dihUrVrjtMQOArKws1NXV4YsvvrDb7w1zbKRs7p5nhw8fRkdHB6KiohAWFoZjx44h\n",
              "NzcXr7zyit04d88xqbk8NcduzJcJEybgqaeeGvY+FZ1nLjkTcoe41QmjtrY2hxNFO3bs8Hiuzz//\n",
              "XFitViGEEL29vSIlJUXs2rVL8Uzbtm0T8fHxoru7e8Qxvb29IiAgwO6E5Pr16z2e69KlS+LatWtC\n",
              "CCH6+/vFsmXLxKZNmxTL9OWXX4oLFy7Ybu/du1cEBwfbTs7f4Ik5JjWbp+bZDQ888MCwJ5c9Mcek\n",
              "5HL3HBNCiKtXr9q9gWHbtm3ivvvucxin5DwbE4WRm5srgoODhY+PjwgMDBQRERFCCCFWrlwp9u3b\n",
              "ZxtXVlYmwsPDRXh4uFixYoVtQngy144dO8TMmTNFTEyMmDlzpnj22Wcd/mN3NbPZLACI8PBwERsb\n",
              "K2JjY0VSUpIQQohNmzaJV155xTZ23759wmAwiIiICJGWliYuX77s8VxVVVXinnvusT1mP/vZz0R/\n",
              "f79iuTo6OkRiYqKYNWuWiImJEQsWLLD9D4Cn55jUbJ6YZze7+Q+zJ+eY1FzunmNCDBVBXFycmD17\n",
              "tpg1a5ZITU0V7e3tQgj3zTOuJUVERJLwHAYREUnCwiAiIklYGEREJAkLg4iIJGFhEBGRJCwMIiKS\n",
              "hIVBRESSsDCIiEgSFgYREUnCwiAiIklYGEREJMn/AS69zt+IOTNIAAAAAElFTkSuQmCC\n",
              "\">\n",
              "        \n",
              "      </div>\n",
              "      <script></script>\n",
              "      <script type=\"text/javascript\">\n",
              "        (() => {\n",
              "          const chartElement = document.getElementById(\"chart-9093e589-c15b-4b51-b0ed-aee070595137\");\n",
              "          async function getCodeForChartHandler(event) {\n",
              "            const chartCodeResponse =  await google.colab.kernel.invokeFunction(\n",
              "                'getCodeForChart', [\"chart-9093e589-c15b-4b51-b0ed-aee070595137\"], {});\n",
              "            const responseJson = chartCodeResponse.data['application/json'];\n",
              "            await google.colab.notebook.addCell(responseJson.code, 'code');\n",
              "          }\n",
              "          chartElement.onclick = getCodeForChartHandler;\n",
              "        })();\n",
              "      </script>\n",
              "      <style>\n",
              "        .colab-quickchart-chart-with-code  {\n",
              "            display: block;\n",
              "            float: left;\n",
              "            border: 1px solid transparent;\n",
              "        }\n",
              "\n",
              "        .colab-quickchart-chart-with-code:hover {\n",
              "            cursor: pointer;\n",
              "            border: 1px solid #aaa;\n",
              "        }\n",
              "      </style>"
            ]
          },
          "metadata": {}
        },
        {
          "output_type": "display_data",
          "data": {
            "text/plain": [
              "import numpy as np\n",
              "from google.colab import autoviz\n",
              "\n",
              "def histogram(df, colname, num_bins=20, figscale=1):\n",
              "  from matplotlib import pyplot as plt\n",
              "  df[colname].plot(kind='hist', bins=num_bins, title=colname, figsize=(8*figscale, 4*figscale))\n",
              "  plt.gca().spines[['top', 'right',]].set_visible(False)\n",
              "  plt.tight_layout()\n",
              "  return autoviz.MplChart.from_current_mpl_state()\n",
              "\n",
              "chart = histogram(df, *['Age'], **{})\n",
              "chart"
            ],
            "text/html": [
              "      <div class=\"colab-quickchart-chart-with-code\" id=\"chart-895f4acd-4c93-4922-ab6c-b69ce3f519a7\">\n",
              "        <img src=\"data:image/png;base64,iVBORw0KGgoAAAANSUhEUgAAAYwAAADECAYAAACMRRb/AAAAOXRFWHRTb2Z0d2FyZQBNYXRwbG90\n",
              "bGliIHZlcnNpb24zLjcuMSwgaHR0cHM6Ly9tYXRwbG90bGliLm9yZy/bCgiHAAAACXBIWXMAAA9h\n",
              "AAAPYQGoP6dpAAAZcklEQVR4nO3de1BTZ8IG8CfBGu3WiCIWCgQWCVRbMYIwFHUtdd3arkUr3W23\n",
              "i2tcubj25tipaK3T1W2hnY7bUmcosTh0KLutLajLqLtbq45VS4t4RVgXqJdEy8VrsFUDCe/3h59Z\n",
              "I0RPAoec6vObOTPk8HLynOToMycneaMSQggQERHdgtrXAYiI6KeBhUFERJKwMIiISBIWBhERScLC\n",
              "ICIiSVgYREQkCQuDiIgkYWEQEZEkLAwiIpKEhUFERJKwMIh6oLi4GCqVCosXL/Z1FCLZqTiXFJH3\n",
              "EhIScOzYMajValgsFmg0Gl9HIpINzzCIvLRnzx5UV1ejtLQUVqsVn3/+ufN3Fy9ehNFoREBAAEJD\n",
              "Q5Gfn4/Q0FB89NFHzjFHjhzBtGnTcO+99yIkJATz58/Hjz/+6IM9IZKGhUHkpYKCAhgMBkydOhVP\n",
              "PvkkCgoKnL976aWXUFdXh5qaGtTX16OmpgYtLS3O3585cwYTJ07E5MmTYTabcfDgQdTX12PBggU+\n",
              "2BMiiQQReezcuXNi4MCBoqCgQAghxNatWwUAceDAAWG320X//v3Fpk2bnOOtVqtQq9WiuLhYCCHE\n",
              "ypUrRVJSkss2d+3aJfr37y/sdnuf7QeRJ3iGQeSFaxe7f//73wMAUlJSEBUVhYKCApw5cwbt7e0I\n",
              "Dw93jtdqtRgyZIjzdkNDA/bu3Qt/f3/n8vjjj0OlUqG5ubnP94dIChYGkYeEECgsLER7ezuio6MR\n",
              "FBSE4OBgnDx5En/7298wYMAA9O/fHydOnHD+TVtbG86fP++8HRQUhAkTJuDChQvOxWq14sqVKwgJ\n",
              "CfHFbhHdEguDyENbtmxBQ0MDvvjiCxw4cMC5HDp0CABQUlKCZ599FitWrEBTUxMuXbqEV155BWr1\n",
              "//65zZkzB/v370dBQQEuXboEIQQsFgs2bNjgo70iujUWBpGHPvjgA/zyl79ESkoKgoKCnIter0dG\n",
              "RgY++OAD5OfnIzo6Gg888AD0ej1GjRqFoUOHYsCAAQAAnU6HyspKbNmyBSNGjIC/vz8effRR1NTU\n",
              "+HjviNzj5zCI+sD58+cREBCA3bt346GHHvJ1HCKv8AyDSAZmsxk7duyAw+HA2bNnMX/+fOj1eiQk\n",
              "JPg6GpHXWBhEMmhvb8cLL7wAf39/6PV6XLhwARUVFejXr5+voxF5jS9JERGRJDzDICIiSVgYREQk\n",
              "CQuDiIgkYWEQEZEkt0Vh5Ofn+zoCEdFt77YojOvn7CEiInncFoVBRETyk7UwXnzxRUREREClUuHA\n",
              "gQNux61ZswZ6vR4jRoxAZmYmOjo65IxFRERekLUwnnrqKezatcvlewFudOzYMSxbtgw7d+5EY2Mj\n",
              "WlpasHr1ajljERGRF2QtjF/84hcIDQ296ZiysjKkpqYiKCgIKpUK8+bNwyeffCJnLCIi8oLPJ7Yx\n",
              "m80uZyAREREwm81ux9tsNthsNpd1DodDtnxERHSVzwvDU3l5eVi+fLnLuqSkJK+3F7F4U4/yHH/r\n",
              "1z36e2/1NHdP+Gqf71Q9ea75XP10/BT+L/L5u6R0Op3L22KPHz8OnU7ndvySJUtgtVpdlsTExL6I\n",
              "SkR0R/N5YaSlpaGiogLNzc3O70p+5pln3I7XaDTQarUui5+fXx8mJiK6M8laGNnZ2QgNDcXJkyfx\n",
              "6KOPIioqCgCQkZGBiooKAEBkZCSWL1+O8ePHIyoqCoGBgcjOzpYzFhEReUHWaxgmk6nb9UVFRS63\n",
              "MzMzkZmZKWcUIiLqIZ+/JEVERD8NLAwiIpKEhUFERJKwMIiISBIWBhERScLCICIiSVgYREQkCQuD\n",
              "iIgkYWEQEZEkLAwiIpKEhUFERJKwMIiISBIWBhERScLCICIiSVgYREQkCQuDiIgkYWEQEZEkshZG\n",
              "Q0MDkpOTER0djYSEBNTW1nYZ09nZiYULF2LUqFGIjY1FSkoKGhsb5YxFRERekP07vbOyslBfX4+c\n",
              "nBwYjcYuYyoqKrB7924cPHgQhw4dwuTJk/Hqq6/KGYuIiLwgW2G0traiuroa6enpAIC0tDRYLJYu\n",
              "Zw8qlQo2mw1XrlyBEAJtbW0IDQ2VKxYREXmpn1wbtlgsCA4ORr9+V+9CpVJBp9PBbDYjKirKOe6J\n",
              "J57A9u3bERQUhEGDBiEkJAQ7duxwu12bzQabzeayzuFwyLMTRETk5POL3tXV1Th8+DBOnTqF77//\n",
              "HpMnT8a8efPcjs/Ly8PgwYNdlqqqqj5MTER0Z5KtMMLCwtDU1AS73Q4AEELAbDZDp9O5jCspKcEj\n",
              "jzwCf39/qNVqzJ49G9u3b3e73SVLlsBqtbosiYmJcu0GERH9P9kKY/jw4YiLi0NpaSkAoLy8HKGh\n",
              "oS4vRwFAZGQktm3bhvb2dgDAxo0b8eCDD7rdrkajgVardVn8/Pzk2g0iIvp/sl3DAACTyQSj0Yjc\n",
              "3FxotVoUFxcDADIyMpCamorU1FQ899xz+M9//oMxY8bgrrvuQlBQEAoLC+WMRUREXpC1MGJiYlBZ\n",
              "WdllfVFRkfNnjUaDDz/8UM4YRETUC3x+0ZuIiH4aWBhERCQJC4OIiCRhYRARkSQsDCIiksTjwvj3\n",
              "v/8tRw4iIlI4jwtjxYoViImJQX5+Ptra2uTIRERECuRxYezevRuffvopDh8+jOjoaMyfPx91dXVy\n",
              "ZCMiIgXx6hrG2LFj8eGHH+Jf//oXNm7ciNjYWEyZMgU1NTW9nY+IiBTCq8L48ssvMX36dMycORPP\n",
              "PfccmpubkZ2djSeffLK38xERkUJ4PDXIyJEjMWzYMLz44ouYOXOmc+K/p556CmvWrOn1gEREpAwe\n",
              "F0ZpaSni4+O7/d0///nPHgciIiJl8vglqb179+LcuXPO22fPnuXkgUREdwCPC6OgoABDhw513g4I\n",
              "CEBBQUGvhiIiIuXxuDCEEF3W8Tu1iYhufx4XRnBwMD777DPn7bVr1yI4OLhXQxERkfJ4fNH7vffe\n",
              "w/Tp07Fo0SIAwN13341//OMfvR6MiIiUxeMzjPvvvx91dXXYvHkzNm/ejJqaGuj1+m7HNjQ0IDk5\n",
              "GdHR0UhISEBtbW2342pqavDwww9j5MiRGDlyJNatW+dpLCIikplXX9GqUqng7+8Pu92OU6dOAQB0\n",
              "Ol2XcdnZ2cjKyoLRaERZWRmMRiP27NnjMubSpUuYPn06SkpKMGHCBDgcDpd3YRERkTJ4fIbx0Ucf\n",
              "wd/fH6NHj0Z8fDzi4+Mxbty4LuNaW1tRXV2N9PR0AEBaWhosFgsaGxtdxv39739HUlISJkyYAADw\n",
              "8/NDYGCgN/tCREQy8vgM4y9/+Qv27NmDmJiYm46zWCwIDg5Gv35X70KlUkGn08FsNiMqKso5rq6u\n",
              "DhqNBtOmTcPJkycRGxuLlStXui0Nm80Gm83mso7v0iIikp/HZxjDhg27ZVl4wm6348svv4TJZML+\n",
              "/fsREhKCP/3pT27H5+XlYfDgwS5LVVVVr+UhIqLueVwYM2bMwHvvvYfW1la0tbU5lxuFhYWhqakJ\n",
              "drsdwNXPb5jN5i7XOnQ6HVJSUhASEgKVSoX09HR88803bu9/yZIlsFqtLktiYqKnu0FERB7yuDCW\n",
              "Ll2KhQsXIigoCEOGDIG/vz+GDBnSZdzw4cMRFxeH0tJSAEB5eTlCQ0NdXo4CgN/+9rfYs2ePs3Q2\n",
              "b96MMWPGuL1/jUYDrVbrslybAJGIiOTj8TWMzs5OyWNNJhOMRiNyc3Oh1WpRXFwMAMjIyEBqaipS\n",
              "U1Oh0+nw6quvIjk5GWq1GiEhIVi9erWnsYiISGZeva127969qKurw6xZs3DhwgVcvny52097x8TE\n",
              "oLKyssv6oqIil9uzZs3CrFmzvIlCRER9xKvJB//4xz/iz3/+M4Crs9U+++yzvZ2LiIgUxuPCWL16\n",
              "Nb755htotVoAwIgRI3D69OleD0ZERMricWFoNBoMHDjQZd21z1oQEdHty+PCCAwMRH19PVQqFYCr\n",
              "n/zubloQIiK6vXg1W+3vfvc7HDlyBGFhYdBqtdi4caMc2YiISEE8LoyoqCh8++23+O9//wshBGJi\n",
              "Yvg5CCKiO4DHhWE2mwEAP/vZzwDgprPVEhHR7cPjwoiPj4dKpYIQAleuXMGlS5cQEBCA1tZWOfIR\n",
              "EZFCeFwYN76Fdt26dTh48GCvBSIiImXy+F1SN5o5cyY2bdrUG1mIiEjBPD7DuH5mWofDgW+//bbb\n",
              "2WqJiOj24nFh+Pv7O69h+Pn5Qa/X4/3335cjGxERKYiss9USEdHto8fXMIiI6M7g8RmGWq12Tgty\n",
              "PSEEVCoVv1+biOg25XFhrFixApcvX3Z+73ZhYSEGDhyIBQsW9HY2IiJSEI8LY/369di7d6/z9htv\n",
              "vIH4+HgsXbq0V4MREZGyeHwN4+LFiy6f6m5tbcXFixd7NRQRESmPx4Xx8ssvY8yYMZg7dy7mzp2L\n",
              "sWPH4pVXXul2bENDA5KTkxEdHY2EhATU1ta63a4QAo888gj8/f09jURERH3A48LIzs7Gli1bYDAY\n",
              "YDAY8MUXXyAzM9Pt2KysLNTX1yMnJwdGo9Htdt99912MGDHC0zhERNRHvHpbbUBAAEaPHo0XXngB\n",
              "MTExaG9v7zKmtbUV1dXVSE9PBwCkpaXBYrGgsbGxy9ja2lps2LABixcv9iYOERH1AY8Lo6ysDElJ\n",
              "SZgzZw6Aq//Zz5gxo8s4i8WC4OBg59e3qlQq6HQ65/To13R0dCAzMxMmk0nS92rYbDa0tbW5LHwr\n",
              "LxGR/DwujLy8POzbt895rWHMmDE4ceKE1wGWL1+OmTNnYuTIkZLvf/DgwS5LVVWV1/dPRETSeFwY\n",
              "fn5+CAgIcFnXv3//LuPCwsLQ1NQEu90O4OpFbbPZ3OWLlnbs2IFVq1YhIiICEyZMQFtbGyIiIrpM\n",
              "o37NkiVLYLVaXZbExERPd4OIiDzk8ecwBg0ahJaWFuenvbdu3YqhQ4d2GTd8+HDExcWhtLQURqMR\n",
              "5eXlCA0NRVRUlMu4nTt3On8+fvw4DAYDjh8/7vb+NRoNNBqNyzp+RSwRkfw8Loy3334bjz32GI4e\n",
              "PYoJEybg2LFjbr8Pw2QywWg0Ijc3F1qtFsXFxQCAjIwMpKamIjU1tWfpiYioz3hUGJ2dnXA4HNi+\n",
              "fTu+/vprCCGQnJzs9rMTMTExqKys7LK+qKio2/ERERG4cOGCJ5GIiKiPeFQYarUaWVlZOHjwIB57\n",
              "7DG5MhERkQJ5fNFbr9d3+1kKIiK6vXl8DePcuXMwGAxITk7GPffc41y/bt26Xg1GRETKIrkwsrKy\n",
              "sHr1asyePRupqakYMmSInLmIiEhhJBdGdXU1AGD27NmIi4vDvn37ZAtFRETK49VcUkKI3s5BREQK\n",
              "J/kM4/Lly6ipqYEQAleuXHH+fE1sbKwsAYmISBk8KozrP2h3/c8qlQpHjx7t3WRERKQokgvjZtN1\n",
              "EBHR7c+raxhERHTnYWEQEZEkLAwiIpKEhUFERJKwMIiISBIWBhERScLCICIiSVgYREQkiayF0dDQ\n",
              "gOTkZERHRyMhIQG1tbVdxmzbtg2JiYkYNWoUHnjgASxatAidnZ1yxiIiIi/IWhjZ2dnIyspCfX09\n",
              "cnJyYDQau4wZMmQIPv30U9TV1WHv3r34+uuvUVJSImcsIiLygmyF0draiurqaqSnpwMA0tLSYLFY\n",
              "unxb39ixYxEZGQkAGDBgAAwGA6chISJSII+/cU8qi8WC4OBg9Ot39S5UKhV0Oh3MZjOioqK6/Zvm\n",
              "5maUlZVh48aNbrdrs9lgs9lc1jkcjt4LTkRE3VLMRe+2tjY88cQTWLRoEcaNG+d2XF5eHgYPHuyy\n",
              "VFVV9WFSIqI7k2yFERYWhqamJtjtdgBXv3TJbDZDp9N1GXvx4kVMnToV06dPx8KFC2+63SVLlsBq\n",
              "tbosiYmJsuwDERH9j2yFMXz4cMTFxaG0tBQAUF5ejtDQ0C4vR/3www+YOnUqpk6ditdee+2W29Vo\n",
              "NNBqtS6Ln5+fLPtARET/I+tLUiaTCSaTCdHR0XjrrbdQXFwMAMjIyEBFRQUAID8/H1VVVVi3bh0M\n",
              "BgMMBgPefPNNOWMREZEXZLvoDQAxMTGorKzssr6oqMj589KlS7F06VI5YxARUS9QzEVvIiJSNhYG\n",
              "ERFJwsIgIiJJWBhERCQJC4OIiCRhYRARkSQsDCIikoSFQUREkrAwiIhIEhYGERFJwsIgIiJJWBhE\n",
              "RCQJC4OIiCRhYRARkSQsDCIikoSFQUREkrAwiIhIElkLo6GhAcnJyYiOjkZCQgJqa2u7HbdmzRro\n",
              "9XqMGDECmZmZ6OjokDMWERF5QdbCyM7ORlZWFurr65GTkwOj0dhlzLFjx7Bs2TLs3LkTjY2NaGlp\n",
              "werVq+WMRUREXpCtMFpbW1FdXY309HQAQFpaGiwWCxobG13GlZWVITU1FUFBQVCpVJg3bx4++eQT\n",
              "uWIREZGX+sm1YYvFguDgYPTrd/UuVCoVdDodzGYzoqKinOPMZjPCw8OdtyMiImA2m91u12azwWaz\n",
              "uaxzOBy9nJ6IiG4kW2HIJS8vD8uXL3dZd//992PhwoVebW9mD7I4HA489NAbSExMhJ+fXw+25Llb\n",
              "5XY4HKiqqpIl28KFW3v093Jm6w1Ky3f9c+1ptp4+V55Q2uN2IyXnczgcCO5htp481+Hh4XjppZdu\n",
              "OU4lhBBe38tNtLa2IioqCufOnUO/fv0ghEBwcDB27drlcobxzjvv4LvvvkNhYSEAYPPmzcjNzcWu\n",
              "Xbu63W53ZxgajQYajUaO3biptrY2DB48GFarFVqtts/v/2aYzXtKzsds3lNyPiVnu55s1zCGDx+O\n",
              "uLg4lJaWAgDKy8sRGhrqUhbA1WsbFRUVaG5uhhAChYWFeOaZZ9xuV6PRQKvVuiy+KAsiojuNrO+S\n",
              "MplMMJlMiI6OxltvvYXi4mIAQEZGBioqKgAAkZGRWL58OcaPH4+oqCgEBgYiOztbzlhEROQFWa9h\n",
              "xMTEoLKyssv6oqIil9uZmZnIzMyUMwoREfUQP+ndAxqNBq+//roiXxJjNu8pOR+zeU/J+ZSc7Xqy\n",
              "XfQmIqLbC88wiIhIEhYGERFJwsIgIiJJWBgSXblyBTNmzEB0dDTGjBmDKVOmOOfFevjhh/Hzn/8c\n",
              "BoMBBoMB7777bp/n+9WvfoXY2FgYDAZMnDgR+/fvByB9xmBfZIuIiEBMTIzzcVu7dm2fZ7umuLgY\n",
              "KpUKGzZsAHD1g6dTp06FXq/Hgw8+iK+++spn2brLp4Rjzt3zp4Rjzl02pRxzNpsNzz//PPR6PUaP\n",
              "Hu2cc08Jj91NCZLk8uXLYtOmTaKzs1MIIcSqVavEpEmThBBCTJo0Saxfv9534YQQ58+fd/68bt06\n",
              "ERsbK4QQIiUlRRQXFwshhPj888/FuHHjFJMtPDxc7N+/v8/z3OjYsWPioYceEklJSc7ncc6cOeL1\n",
              "118XQghRVVUlQkJCRHt7u2LyKeGYc/f8KeGYc5dNKcfcggULxPPPP+/8/6SpqUkIoYzH7mZ4hiHR\n",
              "gAED8Pjjj0OlUgEAkpKScPz4cd+Guo6/v7/zZ6vVCpVKJXnGYF9kU4rOzk5kZGRg1apVLm9p/Oyz\n",
              "zzBv3jwAQEJCAu677z7s2LFDMfmUSinHnJL9+OOPWLNmDd58803nv4WgoKCfxGPHwvBSfn4+pk+f\n",
              "7ry9ePFijB49Gk8//TSOHj3qk0x/+MMfEBYWhmXLluHjjz++6YzBvs52/frRo0dj7ty5OH36dJ/n\n",
              "+utf/4rx48cjPj7eue7s2bPo6OhAUFCQc92tZlHuy3zXKOWYu/75U9ox192x5etj7rvvvsPQoUOR\n",
              "m5uLcePGYeLEidi6dauiHjt3WBheyM3NRWNjI/Ly8gAAH3/8MY4cOYJDhw5h4sSJmDZtmk9ylZSU\n",
              "wGKx4I033kBOTo5PMrjTXbavvvoKhw4dwr59+zBs2DDMnj27TzMdPnwY5eXleO211/r0fqW6WT4l\n",
              "HHO+fv5uxl02JWS22+04ceIERo0aherqarz//vt4+umnYbfb+zyLx3z9mthPzTvvvCPi4+NdXpe/\n",
              "kUajEWfOnOm7UN0YMGCAaG5uFoMGDRIdHR1CCCE6OzvFvffeKxoaGnye7cbH5/vvvxf33HNPn+Yo\n",
              "KCgQQUFBIjw8XISHhwuNRiMCAwNFQUGBuPvuu52vKwshREJCgtiyZYti8t3I18fcteevpaVFccec\n",
              "u2PLF8ecEEKcPn1aqNVqYbfbnevGjRsn1q5dq7jH7kYsDA+sXLlSxMXFiXPnzjnXdXR0iObmZuft\n",
              "srIyodPp+jTX+fPnxalTp5y3169fL0JCQkRnZ6eYNGmSy0W0+Ph4RWT74YcfXEp35cqVYuLEiX2a\n",
              "7UbXX0iePXu2y0Xv++67z2cXva+5lk8Jx9zNnj9fH3PusinpmJsyZYrYtGmTEEKIo0ePioCAAHHy\n",
              "5EmfP3a38pP7AiVfOXnyJF5++WVERkYiJSUFwNX5X7Zt24Zf//rXsNlsUKvVGDZsmHMm3r5itVrx\n",
              "m9/8BpcvX4ZarUZgYCA2btwIlUoFk8kEo9GI3NxcaLVa54zBvs7W0tKCtLQ0OBwOCCEQGRmJkpKS\n",
              "Ps12M2+//TZmzZoFvV6P/v37o7S0FHfddZevYwG4+pZMXx9zN3v+fH3MucumpGOusLAQc+fORU5O\n",
              "DtRqNUwmE0JCQnz+2N0K55IiIiJJeNGbiIgkYWEQEZEkLAwiIpKEhUFERJKwMIiISBIWBhERScLC\n",
              "ICIiSVgYREQkCQuDiIgkYWEQEZEkLAwiIpLk/wAjQ8/iadKKswAAAABJRU5ErkJggg==\n",
              "\">\n",
              "        \n",
              "      </div>\n",
              "      <script></script>\n",
              "      <script type=\"text/javascript\">\n",
              "        (() => {\n",
              "          const chartElement = document.getElementById(\"chart-895f4acd-4c93-4922-ab6c-b69ce3f519a7\");\n",
              "          async function getCodeForChartHandler(event) {\n",
              "            const chartCodeResponse =  await google.colab.kernel.invokeFunction(\n",
              "                'getCodeForChart', [\"chart-895f4acd-4c93-4922-ab6c-b69ce3f519a7\"], {});\n",
              "            const responseJson = chartCodeResponse.data['application/json'];\n",
              "            await google.colab.notebook.addCell(responseJson.code, 'code');\n",
              "          }\n",
              "          chartElement.onclick = getCodeForChartHandler;\n",
              "        })();\n",
              "      </script>\n",
              "      <style>\n",
              "        .colab-quickchart-chart-with-code  {\n",
              "            display: block;\n",
              "            float: left;\n",
              "            border: 1px solid transparent;\n",
              "        }\n",
              "\n",
              "        .colab-quickchart-chart-with-code:hover {\n",
              "            cursor: pointer;\n",
              "            border: 1px solid #aaa;\n",
              "        }\n",
              "      </style>"
            ]
          },
          "metadata": {}
        },
        {
          "output_type": "display_data",
          "data": {
            "text/plain": [
              "<google.colab._quickchart_helpers.SectionTitle at 0x7b627e39d600>"
            ],
            "text/html": [
              "<h4 class=\"colab-quickchart-section-title\">Categorical distributions</h4>\n",
              "<style>\n",
              "  .colab-quickchart-section-title {\n",
              "      clear: both;\n",
              "  }\n",
              "</style>"
            ]
          },
          "metadata": {}
        },
        {
          "output_type": "display_data",
          "data": {
            "text/plain": [
              "import numpy as np\n",
              "from google.colab import autoviz\n",
              "\n",
              "def categorical_histogram(df, colname, figscale=1, mpl_palette_name='Dark2'):\n",
              "  from matplotlib import pyplot as plt\n",
              "  import seaborn as sns\n",
              "  df.groupby(colname).size().plot(kind='barh', color=sns.palettes.mpl_palette(mpl_palette_name), figsize=(8*figscale, 4.8*figscale))\n",
              "  plt.gca().spines[['top', 'right',]].set_visible(False)\n",
              "  return autoviz.MplChart.from_current_mpl_state()\n",
              "\n",
              "chart = categorical_histogram(df, *['Name'], **{})\n",
              "chart"
            ],
            "text/html": [
              "      <div class=\"colab-quickchart-chart-with-code\" id=\"chart-5609ee01-ba5a-4d80-a372-f9ca660b687f\">\n",
              "        <img src=\"data:image/png;base64,iVBORw0KGgoAAAANSUhEUgAAAY0AAADgCAYAAAD/ujrhAAAAOXRFWHRTb2Z0d2FyZQBNYXRwbG90\n",
              "bGliIHZlcnNpb24zLjcuMSwgaHR0cHM6Ly9tYXRwbG90bGliLm9yZy/bCgiHAAAACXBIWXMAAA9h\n",
              "AAAPYQGoP6dpAAATOUlEQVR4nO3df3BcZb3H8c9usm6YxqYdboEa2l3SFGgLLdO0HSOBm4KOmTut\n",
              "3lFkWodrVtKCTmZggqGdOISm2jF3uLUrxVG7yrg38kdmDKJO1fyhIUBmUn5EsGAsv5Jte02qBWKy\n",
              "IXS7aZ77B+PicYt5Nt3N2aTv18z+kec8Z/f7bTvn0+eck7MeY4wRAAAWvG4XAACYOwgNAIA1QgMA\n",
              "YI3QAABYIzQAANYIDQCANUIDAGCN0AAAWCM0ZuDhhx92uwQAcAWhMQPHjx93uwQAcAWhAQCwRmgA\n",
              "AKwRGgAAa4QGAMAaoQEAsEZoAACsERoAAGuEBgDAmoeve83c2v9YqMr/Wux2GQCQ5tD23P7yMSsN\n",
              "AIA1QgMAYI3QAABYIzQAANYK3fjQSCSijo4Oeb0fZNbExIR8Pp98Pp9jbllZmerq6tTY2Ci/358a\n",
              "TyaTamhoUF9fn3p7ex37jI+Pq6enR1VVVSouLnZsq6ysVEVFhcLhsOOzEomE9u/fr4qKimy2CgDz\n",
              "iiuhMTQ0pEgkomAwmBpraWlRLBZTNBp1zA2FQorH46qtrVUoFEqNd3d3KxaLaXBwUJ2dnWn7SFJ5\n",
              "efl53y8QCKi5uVnV1dWp8Wg0qng8noXuAGD+4vQUAMCaKyuNuSSRSCiRSDjGpqb41RYAFydWGtNo\n",
              "bW1VSUmJ43X6zbNulwUAriA0ptHU1KTR0VHHa8mKj7hdFgC4gtNT0/D7/Y67tiTJ6/W4VA0AuIuV\n",
              "BgDAGqEBALDmyukpr9erUCikoqKi1NjAwICSyaRqamoccwsLC+XxeBQOh9Xe3p4aHxkZUX19vQoK\n",
              "CtL26e/vlyR1dXWlbSstLZXX69Xu3bu1ePEHT6odHh7WwYMHs9YjAMxHPBp9Bng0OoB8xaPRAQB5\n",
              "g9AAAFjjltsZ+OS1O3Rg+wG3ywCAWcdKAwBgjdAAAFgjNAAA1ggNAIA1QgMAYI3QAABYIzQAANYI\n",
              "DQCANUIDAGCN0AAAWCM0AADWCA0AgDVCAwBgjdAAAFgjNAAA1ggNAIA1QgMAYI3QAABY4+teZ+Dd\n",
              "/31Bpzr/x+0yACDNFf335/T9WWkAAKwRGgAAa4QGAMAaoQEAsObKhfBIJKKOjg55vR9k1sTEhHw+\n",
              "n3w+n2NuWVmZ6urq1NjYKL/fnxpPJpNqaGhQX1+fent7HfuMj4+rp6dHVVVVKi4udmyrrKxURUWF\n",
              "wuGw47MSiYT279+vioqKbLYKAPOKK6ExNDSkSCSiYDCYGmtpaVEsFlM0GnXMDYVCisfjqq2tVSgU\n",
              "So13d3crFotpcHBQnZ2daftIUnl5+XnfLxAIqLm5WdXV1anxaDSqeDyehe4AYP7i9BQAwBq/pzGN\n",
              "RCKhRCLhGDtnplyqBgDcxUpjGq2trSopKXG8XnrvpNtlAYArCI1pNDU1aXR01PG64ZJlbpcFAK7g\n",
              "9NQ0/H6/464tSSrwkLUALk4c/QAA1ggNAIA1V05Peb1ehUIhFRUVpcYGBgaUTCZVU1PjmFtYWCiP\n",
              "x6NwOKz29vbU+MjIiOrr61VQUJC2T39/vySpq6srbVtpaam8Xq92796txYsXp8aHh4d18ODBrPUI\n",
              "APORxxhj3C5irrn70pu19/KtbpcBAGl4NDoAIG8QGgAAa9xyOwMLajfoigO5XQICQD5ipQEAsEZo\n",
              "AACsERoAAGuEBgDAGqEBALBGaAAArBEaAABrhAYAwBqhAQCwRmgAAKwRGgAAa4QGAMAaoQEAsEZo\n",
              "AACszSg0+vr69JOf/ETS+1+7Ojw8nNWiAAD5KePQ+N73vqc777xTLS0tkqR33nlHX/ziF7NdFwAg\n",
              "D2UcGpFIREeOHNHChQslSStWrNDp06ezXhgAIP9kHBp+v1+XXHKJY6ywkC8ABICLQcZH+yVLlui1\n",
              "116Tx+ORJEWjUS1fvjzrheWzp7sHtKvhsNtlAECah8Jbcvr+GYfGd77zHW3fvl3Hjh3TsmXLtHDh\n",
              "Qh0+zAEUAC4GGYdGeXm5nn32Wb366qsyxuiaa65RQUFBLmoDAOSZGV2MGB8fVzKZ1OTkpP7whz9I\n",
              "ktavX5/VwgAA+Sfj0AiHw3rwwQe1ZMmS1ArD4/Hotddey3pxAID8knFoPPLII3r11Vf1sY997F/O\n",
              "i0Qi6ujokNf7wQ1aExMT8vl88vl8jrllZWWqq6tTY2Oj/H5/ajyZTKqhoUF9fX3q7e117DM+Pq6e\n",
              "nh5VVVWpuLjYsa2yslIVFRUKh8OOz0okEtq/f78effRRDQwMOPZZsGCBHn/8cbs/BAC4SGUcGqWl\n",
              "pdMGhiQNDQ0pEokoGAymxlpaWhSLxRSNRh1zQ6GQ4vG4amtrFQqFUuPd3d2KxWIaHBxUZ2dn2j7S\n",
              "+9dYzvd+gUBAzc3Nqq6uTo1Ho1HF43FNTEx86PsBAD5cxqHx9a9/Xffcc4+2bNmioqKi1PjNN9+c\n",
              "1cIAAPkn49Do7e1VW1ubenp6HNc0nnvuuawXlw8SiYQSiYRjzExNuVQNALgr49Boa2tTLBbTokWL\n",
              "clBO/mltbdXevXsdY0uvuMalagDAXRk/RiQQCFw0gSFJTU1NGh0ddbyWXn6122UBgCsyXmls3LhR\n",
              "t99+u2677TbHNY3PfOYzWS0sX/j9fscdXZLk8fI1JAAuThmHRl9fnyTp+9//fmrM4/HM29AAAHwg\n",
              "49B48sknc1EHAGAOmNFjRJLJpAYHB3XmzJnU2Nq1ax1zvF6vQqGQ4xTWwMCAksmkampqnEUUFsrj\n",
              "8SgcDqu9vT01PjIyovr6ehUUFKTt09/fL0nq6upK21ZaWiqv16vdu3dr8eLFqfHh4WEdPHhQb731\n",
              "Vto+b7/9diZ/BABwUfIYY0wmOxw+fFg7d+7UyMiIFixYoJGREQUCAQ0ODuaqxryzYf1/6pZ/3+F2\n",
              "GQCQJtePRs/4im5zc7OOHDmiVatW6e2331ZbW5tuu+22XNQGAMgzGYeG1+tVIBDQ5OSkJOmOO+5Q\n",
              "V1dX1gsDAOSfjK9p/P0BgFdeeaWeeOIJBYNBjYyMZL2wfHZzdZkeOpDbJSAA5KOMQ+Pee+/VyMiI\n",
              "9u3bp23btulvf/ubHn744VzUBgDIM9ah8fTTT0t6/86kl19+WZL0ox/9SJJS3xcOAJjfrEPja1/7\n",
              "WtqYx+PR0NCQhoeHde7cuawWBgDIP9ah8fzzzzt+fuedd7Rv3z499thjaQ/0AwDMTxnfPXXmzBm1\n",
              "trZq9erVkqQ//elPeuCBB7JeGAAg/1iHxtTUlCKRiFauXKljx47p2Wef1YEDB3TppZfmsj4AQB6x\n",
              "Pj113XXXKZFI6Fvf+pbWrVun0dFRHT16NLX9nx8jAgCYf6xDY2JiQh6PRw8++GDaNo/Ho4GBgawW\n",
              "BgDIP9ahEYvFclgGAGAu4NuEAADWCA0AgDVCAwBgjdAAAFgjNAAA1ggNAIA1QgMAYI3QAABYIzQA\n",
              "ANY8xhjjdhFzzZfXeNS0kbwFkH+ujub2u4048gEArBEaAABrhAYAwBqhAQCwZv1o9GyKRCLq6OiQ\n",
              "1/tBZk1MTMjn88nn8znmlpWVqa6uTo2NjfL7/anxZDKphoYG9fX1qbe317HP+Pi4enp6VFVVpeLi\n",
              "Yse2yspKVVRUKBwOOz4rkUho//79qqioyGarADCvuBIaQ0NDikQiCgaDqbGWlhbFYjFFo1HH3FAo\n",
              "pHg8rtraWoVCodR4d3e3YrGYBgcH1dnZmbaPJJWXl5/3/QKBgJqbm1VdXZ0aj0ajisfjWegOAOYv\n",
              "Tk8BAKy5stKYSxKJhBKJhGPs3JRLxQCAy1hpTKO1tVUlJSWO19G33K4KANxBaEyjqalJo6Ojjtfa\n",
              "f3O7KgBwB6enpuH3+x13bUlSAVEL4CLF4Q8AYI3QAABYc+X0lNfrVSgUUlFRUWpsYGBAyWRSNTU1\n",
              "jrmFhYXyeDwKh8Nqb29PjY+MjKi+vl4FBQVp+/T390uSurq60raVlpbK6/Vq9+7dWrx4cWp8eHhY\n",
              "Bw8ezFqPADAf8Wj0GeDR6ADyFY9GBwDkDUIDAGCNW25nYPGnG3T1gQNulwEAs46VBgDAGqEBALBG\n",
              "aAAArBEaAABrhAYAwBqhAQCwRmgAAKwRGgAAa4QGAMAaoQEAsEZoAACsERoAAGuEBgDAGqEBALBG\n",
              "aAAArBEaAABrhAYAwBqhAQCw5jHGGLeLmGuKP71Ri7bd6nYZAJDm/7783zl9f1YaAABrhAYAwBqh\n",
              "AQCwRmgAAKwVul3AP4pEIuro6JDX+0GWTUxMyOfzyefzOeaWlZWprq5OjY2N8vv9qfFkMqmGhgb1\n",
              "9fWpt7fXsc/4+Lh6enpUVVWl4uJix7bKykrt2bMnB10BwPyRV6ExNDSkSCSiYDCYGmtpaVEsFlM0\n",
              "GnXMDYVCisfjqq2tVSgUSo13d3crFotpcHBQnZ2daftIUnl5+XnfDwDwr3F6CgBgLa9WGvkokUgo\n",
              "kUg4B8/xqy0ALk6sNKbR2tqqkpISx+vs4LDbZQGAKwiNaTQ1NWl0dNTx+shVS90uCwBcwempafj9\n",
              "fsfdWZKkAo87xQCAy1hpAACsERoAAGt5dXrK6/UqFAqpqKgoNTYwMKBkMqmamhrH3MLCQnk8HoXD\n",
              "YbW3t6fGR0ZGVF9fr4KCgrR9+vv7JUldXV1p20pLS7PdDgDMOzwafQZ4NDqAfMWj0QEAeYPQAABY\n",
              "y6trGnPFXWtu0oEcLwEBIB+x0gAAWCM0AADWCA0AgDVCAwBgjdAAAFgjNAAA1ggNAIA1QgMAYI1f\n",
              "7stQIpHQb37zG507d04FBQVul5Nz586d03PPPadNmzbN+37pdX6iVzuBQED33nvvtPN4YGGGxsbG\n",
              "VFJSotHRUS1cuNDtcnLuYuqXXucnes0uTk8BAKwRGgAAa4QGAMAaoZEhv9+vPXv2yO/3u13KrLiY\n",
              "+qXX+Yles4sL4QAAa6w0AADWCA0AgDVCAwBgjdAAAFgjND7E66+/rk984hO6+uqrtXHjRv3xj388\n",
              "77xHH31UK1eu1IoVK7Rz504lk8lZrvTC2fTa1dWlTZs2afXq1VqzZo127dqlqakpF6q9MLZ/r5Jk\n",
              "jNEtt9yiRYsWzV6BWWbb78svv6zq6mqtWrVKq1at0s9+9rNZrvTC2fQ6NTWl++67T6tXr9batWu1\n",
              "efNmvfHGGy5UO3P33HOPgsGgPB6PXnrppQ+dl7Njk8F5bd682fz4xz82xhjz05/+1GzYsCFtzsDA\n",
              "gFm6dKkZHh42U1NTZuvWrea73/3uLFd64Wx6/f3vf2/efPNNY4wx7733nrnxxhtT+8wlNr3+3be/\n",
              "/W2zY8cOU1JSMjvF5YBNv++++6656qqrzDPPPGOMMWZyctL89a9/nc0ys8Km1yeeeMJs2rTJnD17\n",
              "1hhjzDe/+U3zhS98YTbLvGBPPfWUOXnypAkEAubFF18875xcHpsIjfP4y1/+Yj760Y+aZDJpjDFm\n",
              "amrKXH755eb11193zHvooYfM3Xffnfr5V7/6lbnxxhtntdYLZdvrP6uvrzd79uyZhQqzJ5NeX3nl\n",
              "FXPTTTeZN954Y86Ghm2/P/zhD8327dvdKDFrbHv9+c9/btatW2fGxsbM1NSUuf/++01DQ4MbJV+w\n",
              "fxUauTw2cXrqPE6ePKmlS5eqsPD9hwB7PB4tX75cJ06ccMw7ceKEAoFA6udgMJg2J9/Z9vqPTp06\n",
              "pY6ODm3ZsmW2yswK216TyaR27typQ4cOzemnotr229/fL7/fry1btuiGG27Ql770JZ0+fdqNkmfM\n",
              "ttetW7equrpaV1xxhZYuXarf/e53+sY3vuFGyTmVy2MToYGMjI2NaevWrdq1a5c2bNjgdjk5sXfv\n",
              "Xn3uc5/TqlWr3C5lVkxOTuq3v/2tDh06pBdffFGlpaX66le/6nZZOfHCCy/olVde0Z///GcNDQ3p\n",
              "1ltv1Ve+8hW3y5pTCI3zWLZsmYaHhzU5OSnp/QuiJ06c0PLlyx3zli9fruPHj6d+jsViaXPynW2v\n",
              "khSPx1VTU6PPfvazuu+++2a71Atm2+tTTz2lRx55RMFgUFVVVRobG1MwGJxz//vO5N/x5s2bVVpa\n",
              "Ko/HozvuuENHjhxxo+QZs+21ra0tdXOD1+tVbW2tnnzySTdKzqlcHpsIjfO47LLLtH79ej322GOS\n",
              "pMcff1xXXnmlysvLHfM+//nP65e//KVOnTolY4x+8IMfaNu2bW6UPGO2vY6Pj6umpkY1NTV64IEH\n",
              "3Cj1gtn2+swzz+j48eOKxWLq6enRwoULFYvFtGTJEjfKnjHbfm+//XY9//zzGhsbkyT9+te/1rp1\n",
              "62a93gth22tZWZm6urp09uxZSdLhw4d13XXXzXq9uZbTY1NWrozMQ8eOHTMf//jHzcqVK01FRYU5\n",
              "evSoMcaYuro684tf/CI1LxKJmLKyMlNWVmbuvPPO1F0Zc4lNr/v27TOFhYVm3bp1qde+ffvcLHtG\n",
              "bP9e/25wcHDOXgg3xr7ftrY2s2bNGnP99debmpoac+LECbdKnjGbXs+cOWN27Nhhrr32WnP99deb\n",
              "T33qU6m7AueKu+66y5SWlpqCggJz2WWXmRUrVhhjZu/YxAMLAQDWOD0FALBGaAAArBEaAABrhAYA\n",
              "wBqhAQCwRmgAAKwRGgAAa4QGAMAaoQEAsEZoAACs/T/V0gERCUfpRgAAAABJRU5ErkJggg==\n",
              "\">\n",
              "        \n",
              "      </div>\n",
              "      <script></script>\n",
              "      <script type=\"text/javascript\">\n",
              "        (() => {\n",
              "          const chartElement = document.getElementById(\"chart-5609ee01-ba5a-4d80-a372-f9ca660b687f\");\n",
              "          async function getCodeForChartHandler(event) {\n",
              "            const chartCodeResponse =  await google.colab.kernel.invokeFunction(\n",
              "                'getCodeForChart', [\"chart-5609ee01-ba5a-4d80-a372-f9ca660b687f\"], {});\n",
              "            const responseJson = chartCodeResponse.data['application/json'];\n",
              "            await google.colab.notebook.addCell(responseJson.code, 'code');\n",
              "          }\n",
              "          chartElement.onclick = getCodeForChartHandler;\n",
              "        })();\n",
              "      </script>\n",
              "      <style>\n",
              "        .colab-quickchart-chart-with-code  {\n",
              "            display: block;\n",
              "            float: left;\n",
              "            border: 1px solid transparent;\n",
              "        }\n",
              "\n",
              "        .colab-quickchart-chart-with-code:hover {\n",
              "            cursor: pointer;\n",
              "            border: 1px solid #aaa;\n",
              "        }\n",
              "      </style>"
            ]
          },
          "metadata": {}
        },
        {
          "output_type": "display_data",
          "data": {
            "text/plain": [
              "<google.colab._quickchart_helpers.SectionTitle at 0x7b627e22dab0>"
            ],
            "text/html": [
              "<h4 class=\"colab-quickchart-section-title\">2-d distributions</h4>\n",
              "<style>\n",
              "  .colab-quickchart-section-title {\n",
              "      clear: both;\n",
              "  }\n",
              "</style>"
            ]
          },
          "metadata": {}
        },
        {
          "output_type": "display_data",
          "data": {
            "text/plain": [
              "import numpy as np\n",
              "from google.colab import autoviz\n",
              "\n",
              "def scatter_plots(df, colname_pairs, figscale=1, alpha=.8):\n",
              "  from matplotlib import pyplot as plt\n",
              "  plt.figure(figsize=(len(colname_pairs) * 6 * figscale, 6 * figscale))\n",
              "  for plot_i, (x_colname, y_colname) in enumerate(colname_pairs, start=1):\n",
              "    ax = plt.subplot(1, len(colname_pairs), plot_i)\n",
              "    df.plot(kind='scatter', x=x_colname, y=y_colname, s=(32 * figscale), alpha=alpha, ax=ax)\n",
              "    ax.spines[['top', 'right',]].set_visible(False)\n",
              "  plt.tight_layout()\n",
              "  return autoviz.MplChart.from_current_mpl_state()\n",
              "\n",
              "chart = scatter_plots(df, *[[['No', 'Age']]], **{})\n",
              "chart"
            ],
            "text/html": [
              "      <div class=\"colab-quickchart-chart-with-code\" id=\"chart-d912ef71-f1a9-4820-88d1-5efe0dc16444\">\n",
              "        <img src=\"data:image/png;base64,iVBORw0KGgoAAAANSUhEUgAAASgAAAEoCAYAAADrB2wZAAAAOXRFWHRTb2Z0d2FyZQBNYXRwbG90\n",
              "bGliIHZlcnNpb24zLjcuMSwgaHR0cHM6Ly9tYXRwbG90bGliLm9yZy/bCgiHAAAACXBIWXMAAA9h\n",
              "AAAPYQGoP6dpAAAZDklEQVR4nO3df0yU9+EH8PfDndxp8KDlUHH0OK4ITSN6aAV6jlXXadfWpUZi\n",
              "TCrDS3QwMuuWmkzMMGumA5o1GHRxUtOQUAzFiDKjZj9MtWpUkOmKmjWTwnmooELlEJEDzuf7h/HS\n",
              "m/Ct2PvwfDjer+RJ5AP3PO/7w3c+z+ee5x5FVVUVREQSCtM6ABHRSFhQRCQtFhQRSYsFRUTSYkER\n",
              "kbRYUEQkLRYUEUmLBUVE0mJBEZG0xmVBlZWVaR2BiMbAuCyoa9euaR2BiMbAuCwoIpoYWFBEJC0W\n",
              "FBFJiwVFRNJiQRGRtFhQRCQtvdYBiL7tTHMnqurdaO3sRYI5AtnpFjgSzVrHIo2woEgaZ5o7UXDg\n",
              "EvoGhmCcpENDaxcu3/CgZEUKS2qC4ikeSaOq3o2+gSHMMBnx3JRwzDAZ0TcwhL31bq2jkUZYUCSN\n",
              "1s5eGCfpoCgKAEBRFBgn6dDS2atxMtIKC4qkkWCOQP+gD48fNKSqKvoHfbDFRGicjLTCgiJpZKdb\n",
              "MCVcj46eftztG0BHTz+mhOuxOt2idTTSCAuKpOFINKNkRQrSE6Ix1ahHekI0SrJS4HiRC+QTFT/F\n",
              "I6k4Es38xI78OIMiImmxoIhIWiwoIpKW0ILyer1Yv349Zs2ahZSUFGRnZwMArl69CofDgaSkJCxY\n",
              "sABXrlwRGYOIximhi+QFBQVQFAX//e9/oSgKOjo6AAB5eXnIzc2F0+nE/v374XQ6cf78eZFRiGgc\n",
              "UtTHV8UF2f379xEbG4vr16/DZDL5x2/fvo3ExER888030Ov1UFUVsbGxOH36NBITE59q3++//z5K\n",
              "S0tFxCYiiQibQX399dd4/vnnUVRUhGPHjmHy5Mn44IMPEBUVhdjYWOj1jw6tKAosFgvcbvewBeX1\n",
              "euH1egPGfD6fqNhEJBFha1BDQ0O4du0aXn75ZTQ2NmLHjh1YtWoVhoaGRrWf4uJiREZGBmwNDQ2C\n",
              "UhORTIQVlMViQVhYGFavXg0ASE1NRUJCAq5du4b29nZ/UamqCrfbDYtl+NsZNm/eDI/HE7ClpaWJ\n",
              "ik1EEhFWUGazGa+//jr+/ve/AwBaW1vR2tqKhQsXYt68eaiqqgIA1NbWIi4ubsT1J4PBAJPJFLDp\n",
              "dDpRsYlIIkI/xdu9ezfWrl2LTZs2ISwsDOXl5fjBD36A8vJyOJ1OFBUVwWQyoaKiQmQMIhqnhBaU\n",
              "zWbD8ePHnxhPTk7G2bNnRR6aiEIAryQnImmxoIhIWiwoIpIWC4qIpMWCIiJpsaCISFosKCKSFguK\n",
              "iKTFgiIiabGgiEhaLCgikhYLioikxYIiImmxoIhIWiwoIpIWC4qIpMWCIiJpsaCISFosKCKSltCC\n",
              "slqtSE5Oht1uh91uR01Nzf87TkT0bUIfmgAANTU1sNvtTz1ORPQYT/GISFrCCyonJwcpKSlYu3Yt\n",
              "7ty5853j/8vr9aKnpydg8/l8omMTkQSEFtTJkyfR1NSECxcuwGw2Y82aNf/v+HCKi4sRGRkZsDU0\n",
              "NIiMTUSSUFRVVcfiQO3t7UhKSsK9e/eeavwxr9cLr9cbMLZlyxaUlZUJy0pEchC2SH7//n0MDg4i\n",
              "KioKAFBdXY3U1NQRx0diMBhgMBgCxnQ6najYRCQRYQV169YtZGVlwefzQVVV2Gw2VFZWjjhORPS/\n",
              "hBWUzWbDxYsXh/3dSONERN/GywyISFosKCKSFguKiKTFgiIiabGgiEhaLCgikhYLioikxYIiImmx\n",
              "oIhIWiwoIpIWC4qIpMWCIiJpsaCISFosKCKSFguKiKTFgiIiabGgiEhaLCgikhYLioikxYIiImkJ\n",
              "LSir1Yrk5GTY7XbY7XbU1NQAAK5evQqHw4GkpCQsWLAAV65cERmDiMYpYU91eaympgZ2uz1gLC8v\n",
              "D7m5uXA6ndi/fz+cTifOnz8vOgoRjTNjfop3+/ZtNDY2Ijs7GwCQlZWFtrY2NDc3j3UUIpKc8BlU\n",
              "Tk4OVFVFWloaSkpK0NbWhtjYWOj1jw6tKAosFgvcbjcSExOfeP1wjz73+XyiYxORBITOoE6ePImm\n",
              "piZcuHABZrMZa9asGfU+iouLERkZGbA1NDQISEtEslFUVVXH4kDt7e1ISkrC119/jcTERHzzzTfQ\n",
              "6/VQVRWxsbE4ffr0U8+gtmzZgrKysrGITUQaEjaDun//Prq7u/0/V1dXIzU1FdOmTcO8efNQVVUF\n",
              "AKitrUVcXNyw5QQABoMBJpMpYNPpdKJiE5FEhK1B3bp1C1lZWfD5fFBVFTabDZWVlQCA8vJyOJ1O\n",
              "FBUVwWQyoaKiQlQMIhrHhBWUzWbDxYsXh/1dcnIyzp49K+rQRBQieCU5EUmLBUVE0mJBEZG0WFBE\n",
              "JC0WFBFJiwVFRNJiQRGRtFhQRCQtFhQRSYsFRUTSYkERkbRYUEQkLRYUEUmLBUVE0mJBEZG0WFBE\n",
              "JC0WFBFJiwVFRNJiQRGRtMakoCoqKqAoCurq6gAAixYtQkJCAux2O+x2O7Zv3z4WMYhonBH+ZGGX\n",
              "y4U9e/YgIyMjYHz79u1Yvny56MOHpDPNnaiqd6O1sxcJ5ghkp1vgSDRrHYso6ITOoB4+fIh169Zh\n",
              "586dMBgMIg81YZxp7kTBgUtoaO3Cvf4hNLR2oeDAJZxp7tQ6GlHQCS2o0tJSLFy4EPPnz3/idwUF\n",
              "BUhJScGqVavQ0tIy4j68Xi96enoCNp/PJzK21Krq3egbGMIMkxHPTQnHDJMRfQND2Fvv1joaUdAJ\n",
              "K6jLly+jtrYWhYWFT/zu008/xVdffYWmpiZkZmZi2bJlI+6nuLgYkZGRAVtDQ4Oo2NJr7eyFcZIO\n",
              "iqIAABRFgXGSDi2dvRonIwo+YQV16tQpuFwuzJo1C1arFefOnUNubi7+8pe/4IUXXgDw6D/X+vXr\n",
              "0dLSgq6urmH3s3nzZng8noAtLS1NVGzpJZgj0D/46GnNAKCqKvoHfbDFRGicjCj4hC2S5+fnIz8/\n",
              "3//zokWL8Jvf/AbLli3DrVu3MH36dABAbW0tpk+fjujo6GH3YzAYnli/0ul0omJLLzvdgss3POjo\n",
              "6Ydxkg79gz5MCddjdbpF62hEQSf8U7z/5fV68fbbb8Pr9SIsLAxmsxmHDh0a6xjjliPRjJIVKdhb\n",
              "70ZLZy/mxkVhdYYFjhf5KR6FnjErqBMnTvj/3djYOFaHDUmORDMvK6AJ4ZnWoLxeb7BzEBE9YVQF\n",
              "1dTUhNmzZ+PFF18EAPzrX//Cb3/7WyHBiIhGVVAbNmzA7t27ERMTAwCYN28ejhw5IiQYEdGoCqq3\n",
              "txc//OEP/T8rioLw8PCghyIiAkZZUHq9HoODg/6LBNva2ib0R/5EJNaoCmr9+vVYvnw57ty5g8LC\n",
              "QmRmZnINioiEGdVlBtnZ2bDZbPjrX/+KgYEBVFVVBZzyEREF06ivg3I4HHA4HCKyEBEFGFVBLV68\n",
              "2L/+9FhUVBReffVVbNiwgV+pQkRBNao1qPnz50Ov12Pt2rVYt24dwsPDMXPmTDQ2NuK9994TlZGI\n",
              "JqhRzaDOnDmDU6dO+T+5W7lyJTIzM3H69GmkpKQICUhEE9eoZlBdXV0Bp3iKouDu3bvQ6/UwGo1B\n",
              "D0dEE9uoZlCvv/463nzzTWRnZwMA9u7dix//+Mfo7e3l+hMRBd2oCmrHjh0oLy9HXV0dFEXBz372\n",
              "M0ybNg0RERE4d+6cqIxENEGN+kryX/3qV/jjH/+IhIQEbN26FR9++KGobEQ0wT31DKqvrw81NTX4\n",
              "5JNP0NLSggcPHuDs2bN46aWXROYjognsqWZQv/jFL/DCCy/g0KFD2LRpE9xuN6KiolhORCTUU82g\n",
              "PvvsM7zyyivIy8vDG2+8AUVRnrhgk4go2J5qBtXe3o7s7Gz84Q9/QHx8PAoLCzE4OCg6GxFNcE9V\n",
              "UBEREVi7di3OnDmDv/3tb+jv78fAwAAcDgd27dolOiMRTVCj/k7yl19+GR999BFu3LiBjRs3PtU3\n",
              "alZUVEBRFNTV1QEAbt++jZ/+9KeYNWsWZs+ejZMnT446OBGFvmd+cKder0dWVtZ3FpTL5cKePXuQ\n",
              "kZHhHysoKEBGRgauXr2KiooKvPvuuzxlJKInCHuyMAA8fPgQ69atw86dOwOuNN+3bx9++ctfAgAW\n",
              "LFiAmTNn4osvvhAZhYjGIaHPxSstLcXChQsxf/58/1hXVxcGBwcxY8YM/5jVaoXb7R52H16v94nH\n",
              "XPl8PjGBiUgqwmZQly9fRm1tLQoLC7/XfoqLixEZGRmwNTQ0BCklEclMWEGdOnUKLpcLs2bNgtVq\n",
              "xblz55Cbm4t9+/ZBr9ejo6PD/7culwsWi2XY/WzevBkejydgS0tLExWbiCQirKDy8/PR3t4Ol8sF\n",
              "l8uFjIwMfPzxx8jPz8fKlSuxe/duAMD58+dx48YNvPbaa8Pux2AwwGQyBWx8kgzRxCB0DWokH374\n",
              "IX7+859j1qxZCA8PR1VVFSZNmqRFFCKS2JgV1IkTJ/z/nj59Ov7xj3+M1aGJaJwSepkBEdH3wYIi\n",
              "ImmxoIhIWiwoIpIWC4qIpMWCIiJpsaCISFosKCKSFguKiKTFgiIiabGgiEhaLCgikhYLioikxYIi\n",
              "ImmxoIhIWiwoIpIWC4qIpMWCIiJpsaCISFpCv5N86dKl6OjoQFhYGKZOnYodO3YgNTUVVqsVBoMB\n",
              "kydPBvDo0VKrVq0SGYWIxiGhBbVv3z5ERUUBAA4ePAin04kvv/wSAFBTUwO73S7y8EQ0zgk9xXtc\n",
              "TgDg8XigKIrIwxFRiBH+2KmcnBwcP34cAHD06NGAcVVVkZaWhpKSEsTExAz7eq/XC6/XGzDm8/nE\n",
              "BSYiaQhfJK+srERbWxu2bduGTZs2AQBOnjyJpqYmXLhwAWazGWvWrBnx9cXFxYiMjAzYGhoaRMcm\n",
              "IgkoqqqqY3WwyZMn4/r164iOjvaPtbe3IykpCffu3Rv2NcPNoLZs2YKysjKhWYlIe8JO8bq7u9HX\n",
              "14eZM2cCAOrq6hAdHQ2j0Yju7m7/+lR1dTVSU1NH3I/BYIDBYAgY0+l0omITkUSEFZTH48HKlSvx\n",
              "4MEDhIWFISYmBocPH8atW7eQlZUFn88HVVVhs9lQWVkpKgYRjWPCCio+Pn7EtaKLFy+KOiwRhRBe\n",
              "SU5E0mJBEZG0WFBEJC0WFBFJiwVFRNJiQRGRtFhQRCQtFhQRSYsFRUTSEv51K0QU2s40d6Kq3o3W\n",
              "zl4kmCOQnW6BI9EclH2zoIjomZ1p7kTBgUvoGxiCcZIODa1duHzDg5IVKUEpKZ7iEdEzq6p3o29g\n",
              "CDNMRjw3JRwzTEb0DQxhb707KPtnQRHRM2vt7IVxks7/dd6KosA4SYeWzt6g7J8FRUTPLMEcgf7B\n",
              "R1+dBACqqqJ/0AdbTERQ9s+CIqJnlp1uwZRwPTp6+nG3bwAdPf2YEq7H6nRLUPbPgiKiZ+ZINKNk\n",
              "RQrSE6Ix1ahHekI0SrJS4HiRn+IRkQQcieagXVbwvziDIiJpsaCISFosKCKSltCCWrp0KebMmQO7\n",
              "3Y7MzEz/wxKuXr0Kh8OBpKQkLFiwAFeuXBEZg4jGKaGL5Pv27fM//+7gwYNwOp348ssvkZeXh9zc\n",
              "XDidTuzfvx9OpxPnz58XGYVIUyLvVwtlQmdQj8sJePScPEVRcPv2bTQ2NiI7OxsAkJWVhba2NjQ3\n",
              "N4uMQqSZx/erNbR24V7/EBpau1Bw4BLONHdqHU16wi8zyMnJwfHjxwEAR48eRVtbG2JjY6HXPzq0\n",
              "oiiwWCxwu91ITEx84vXDPfrc5/OJjk0UNN++X01RFKiqio6efuytd3MW9R2EL5JXVlaira0N27Zt\n",
              "w6ZNm0b9+uLiYkRGRgZsIz0QlEhGou9XC2Vj9inemjVrcPz4ccTFxaG9vR1DQ0MAHt2743a7YbEM\n",
              "f2n85s2b4fF4Ara0tLSxik30vYm+Xy2UCSuo7u5u3Lx50/9zXV0doqOjMW3aNMybNw9VVVUAgNra\n",
              "WsTFxQ17egcABoMBJpMpYNPpdKJiEwWd6PvVQpmwNSiPx4OVK1fiwYMHCAsLQ0xMDA4fPgxFUVBe\n",
              "Xg6n04mioiKYTCZUVFSIikGkucf3q+2td6Olsxdz46KwOsMStPvVQpmiPp53jiPvv/8+SktLtY5B\n",
              "RILxSnIikhYLioikxYIiImmxoIhIWiwoIpIWC4qIpMWCIiJpsaCISFosKCKSFguKiKTFgiIiabGg\n",
              "iEhaLCgikhYLioikxYIiImmxoIhIWiwoIpIWC4qIpMWCIiJpCSuo/v5+LF++HElJSZg7dy6WLFni\n",
              "f3rwokWLkJCQALvdDrvdju3bt4uKQUTjmNAnC+fm5uLNN9+Eoij485//jHXr1uHEiRMAgO3bt2P5\n",
              "8uUiD09E45ywGZTRaMRbb73lf5pqRkYGXC6XqMMRUQgaszWosrIyvPPOO/6fCwoKkJKSglWrVqGl\n",
              "pWXE13m9XvT09ARsPp9vLCITkcbGpKCKiorQ3NyM4uJiAMCnn36Kr776Ck1NTcjMzMSyZctGfG1x\n",
              "cTEiIyMDtoaGhrGITUQaE/7gzo8++gifffYZjh07hqioqGH/xmg04saNG4iOjn7id16vF16vN2Bs\n",
              "y5YtKCsrExGXiCQidJG8tLQU1dXVAeU0NDSErq4uTJ8+HQBQW1uL6dOnD1tOAGAwGGAwGALGdDqd\n",
              "yNhEJAlhBXX9+nVs3LgRNpsNixcvBvCobD7//HO8/fbb8Hq9CAsLg9lsxqFDh0TFIKJxTFhBxcXF\n",
              "YaSzx8bGRlGHJaIQwivJiUhaLCgikhYLioikxYIiImkJvcxAS2eaO1FV70ZrZy8SzBHITrfAkWjW\n",
              "OhYRjUJIFtSZ5k4UHLiEvoEhGCfp0NDahcs3PChZkcKSIhpHQvIUr6rejb6BIcwwGfHclHDMMBnR\n",
              "NzCEvfVuraMR0SiEZEG1dvbCOEnn/yYFRVFgnKRDS2evxsmIaDRCsqASzBHoH/T5LxRVVRX9gz7Y\n",
              "YiI0TkZEoxGSBZWdbsGUcD06evpxt28AHT39mBKux+p0i9bRiGgUQrKgHIlmlKxIQXpCNKYa9UhP\n",
              "iEZJVgocL3KBnGg8CclP8YBHJcVP7IjGt5CcQRFRaGBBEZG0WFBEJC0WFBFJiwVFRNJiQRGRtIQ/\n",
              "1UWEFStWwGq1fuff+Xw+NDQ0IC0tLeQetMD3Nv6E6vsCRv/e4uPj8etf//o7/25cFtTT6unpQWRk\n",
              "JDweD0wmk9ZxgorvbfwJ1fcFiHtvPMUjImmxoIhIWiwoIpJWSBeUwWDA73//+yeeTBwK+N7Gn1B9\n",
              "X4C49xbSi+RENL6F9AyKiMY3FhQRSYsFRUTSCtmC2rBhA6xWKxRFwb///W+t4wRNf38/li9fjqSk\n",
              "JMydOxdLlixBc3Oz1rGCZunSpZgzZw7sdjsyMzNx8eJFrSMFVUVFBRRFQV1dndZRgsZqtSI5ORl2\n",
              "ux12ux01NTXB27kaor744gu1ra1NjY+PVy9evKh1nKB58OCBeuTIEfXhw4eqqqrqzp071ddee03b\n",
              "UEF09+5d/78PHDigzpkzR7swQdba2qq++uqrakZGhnrw4EGt4wSNyP9jITuD+tGPfoS4uDitYwSd\n",
              "0WjEW2+95X+kVkZGBlwul7ahgigqKsr/b4/H43+f493Dhw+xbt067Ny5MyQvMxAlZL+TfKIoKyvD\n",
              "O++8o3WMoMrJycHx48cBAEePHtU4TXCUlpZi4cKFmD9/vtZRhMjJyYGqqkhLS0NJSQliYmKCst+Q\n",
              "nUFNBEVFRWhubkZxcbHWUYKqsrISbW1t2LZtGzZt2qR1nO/t8uXLqK2tRWFhodZRhDh58iSamppw\n",
              "4cIFmM1mrFmzJng7F3LiKJFQW4N67E9/+pM6f/78gDWbUGQ0GtXOzk6tY3wvu3btUmfMmKHGx8er\n",
              "8fHxqsFgUGNiYtRdu3ZpHS3obt68qUZERARtf5xBjUOlpaWorq7GP//5z4A1m/Guu7sbN2/e9P9c\n",
              "V1eH6OhoPP/88xqm+v7y8/PR3t4Ol8sFl8uFjIwMfPzxx8jPz9c62vd2//59dHd3+3+urq5Gampq\n",
              "0PYfsmtQeXl5OHLkCDo6OvDGG29g6tSpIfFx/PXr17Fx40bYbDYsXrwYwKP7oOrr6zVO9v15PB6s\n",
              "XLkSDx48QFhYGGJiYnD48OGQWSgPRbdu3UJWVhZ8Ph9UVYXNZkNlZWXQ9s978YhIWjzFIyJpsaCI\n",
              "SFosKNKM1WrFSy+9hKGhIf/YK6+8ghMnTmgXiqTCgiJNeb1efPLJJ1rHIEmxoEhTH3zwAbZu3Yq+\n",
              "vr6A8du3b2PFihVISUnB7NmzUV5erlFC0hILijQ1d+5cLF68GNu3bw8Yf++995CcnIxLly7h888/\n",
              "x7Zt23Du3DmNUpJWWFCkua1bt6KsrAxdXV3+sWPHjiEvLw8AMG3aNKxYsQLHjh3TKiJphAVFmrNa\n",
              "rXj33Xexbdu2Ef+GF2tOTCwokkJhYSGqqqr8t7r85Cc/wZ49ewAAd+7cwYEDB7BkyRItI5IGWFAk\n",
              "BbPZjA0bNqC9vR0AsGPHDvznP/9BSkoKFi9ejN/97ndIT0/XOCWNNd7qQkTS4gyKiKTFgiIiabGg\n",
              "iEhaLCgikhYLioikxYIiImmxoIhIWiwoIpIWC4qIpMWCIiJpsaCISFr/BxE8ihVLuoViAAAAAElF\n",
              "TkSuQmCC\n",
              "\">\n",
              "        \n",
              "      </div>\n",
              "      <script></script>\n",
              "      <script type=\"text/javascript\">\n",
              "        (() => {\n",
              "          const chartElement = document.getElementById(\"chart-d912ef71-f1a9-4820-88d1-5efe0dc16444\");\n",
              "          async function getCodeForChartHandler(event) {\n",
              "            const chartCodeResponse =  await google.colab.kernel.invokeFunction(\n",
              "                'getCodeForChart', [\"chart-d912ef71-f1a9-4820-88d1-5efe0dc16444\"], {});\n",
              "            const responseJson = chartCodeResponse.data['application/json'];\n",
              "            await google.colab.notebook.addCell(responseJson.code, 'code');\n",
              "          }\n",
              "          chartElement.onclick = getCodeForChartHandler;\n",
              "        })();\n",
              "      </script>\n",
              "      <style>\n",
              "        .colab-quickchart-chart-with-code  {\n",
              "            display: block;\n",
              "            float: left;\n",
              "            border: 1px solid transparent;\n",
              "        }\n",
              "\n",
              "        .colab-quickchart-chart-with-code:hover {\n",
              "            cursor: pointer;\n",
              "            border: 1px solid #aaa;\n",
              "        }\n",
              "      </style>"
            ]
          },
          "metadata": {}
        },
        {
          "output_type": "display_data",
          "data": {
            "text/plain": [
              "<google.colab._quickchart_helpers.SectionTitle at 0x7b627e2bb190>"
            ],
            "text/html": [
              "<h4 class=\"colab-quickchart-section-title\">Faceted distributions</h4>\n",
              "<style>\n",
              "  .colab-quickchart-section-title {\n",
              "      clear: both;\n",
              "  }\n",
              "</style>"
            ]
          },
          "metadata": {}
        },
        {
          "output_type": "display_data",
          "data": {
            "text/plain": [
              "import numpy as np\n",
              "from google.colab import autoviz\n",
              "\n",
              "def violin_plot(df, value_colname, facet_colname, figscale=1, mpl_palette_name='Dark2', **kwargs):\n",
              "  from matplotlib import pyplot as plt\n",
              "  import seaborn as sns\n",
              "  figsize = (12 * figscale, 1.2 * figscale * len(df[facet_colname].unique()))\n",
              "  plt.figure(figsize=figsize)\n",
              "  sns.violinplot(df, x=value_colname, y=facet_colname, palette=mpl_palette_name, **kwargs)\n",
              "  sns.despine(top=True, right=True, bottom=True, left=True)\n",
              "  return autoviz.MplChart.from_current_mpl_state()\n",
              "\n",
              "chart = violin_plot(df, *['No', 'Name'], **{'inner': 'stick'})\n",
              "chart"
            ],
            "text/html": [
              "      <div class=\"colab-quickchart-chart-with-code\" id=\"chart-76e5e7ad-e4e3-4fff-b66a-38ee10d0557d\">\n",
              "        <img src=\"data:image/png;base64,iVBORw0KGgoAAAANSUhEUgAAAigAAAEaCAYAAAA7V6y+AAAAOXRFWHRTb2Z0d2FyZQBNYXRwbG90\n",
              "bGliIHZlcnNpb24zLjcuMSwgaHR0cHM6Ly9tYXRwbG90bGliLm9yZy/bCgiHAAAACXBIWXMAAA9h\n",
              "AAAPYQGoP6dpAAAXeUlEQVR4nO3df2zUdx3H8df32stdHaFDBxGL9FJAEIEilbkq27joTLMoWwiZ\n",
              "bjH2pG6aVVFYI8HRUTOy8w/YCSwST4kVl4hJAZeg44/ZVtakTFKnzsC2jPbcjzY64Qat7Z0HfPxj\n",
              "4bavBXoH134/1z4fSZP18/1+797vHB947fP53p1jjDECAACwiM/rAgAAAP4fAQUAAFiHgAIAAKxD\n",
              "QAEAANYhoAAAAOsQUAAAgHUIKAAAwDoEFAAAYB0CCgAAsA4BBQAAWIeAAgAArENAAQAA1in1ugBI\n",
              "xhilUilJUjAYlOM4HlcEAIC3WEGxQCqVUjgcVjgczgYVAACmMgIKAACwDgEFAABYh4ACAACsQ0AB\n",
              "AADWIaAAAADrEFAAAIB1CCgAAMA6BBQAAGAdAgoAALAOAQUAAFiHgAIAAKxDQAEAANYhoAAAAOsQ\n",
              "UAAAgHVKx+uB4/G42tra5PO9l4GGh4fl9/vl9/td51ZVVamhoUFNTU0KBALZ8Uwmo40bN6qnp0fd\n",
              "3d2ua4aGhtTV1aVVq1Zp2rRprmO1tbWqqalRLBZzPVc6ndaOHTu0b98+9fb2uq656aabdPDgwRvu\n",
              "GwAA3LhxCyj9/f2Kx+MKhULZsZaWFiUSCbW2trrOjUQiGhwcVH19vSKRSHa8s7NTiURCfX19Onr0\n",
              "6KhrJGn+/PlXfLzKyko1Nzdr9erV2fHW1lYNDg5qeHj4qo8HAAC8xxYPAACwzritoEwW6XRa6XTa\n",
              "NRYIBFxbUQAAoLBYQRlDNBpVeXm56ycajXpdFgAAkxorKGPYsmWLNm3a5Bpj9QQAgPFFQBkD2zkA\n",
              "AEw8tngAAIB1CCgAAMA647bF4/P5FIlEFAwGs2O9vb3KZDKqq6tzF1FaKsdxFIvFdODAgex4MplU\n",
              "Y2OjSkpKRl1z8uRJSVJ7e/uoYxUVFfL5fNq8ebNmzJiRHR8YGNDu3bv173//e9Q1Z86cubGGAQBA\n",
              "wTjGGON1EVPdyMiIwuGwJKmjo0NlZWUeVwQAgLfY4gEAANYhoAAAAOsQUAAAgHUIKAAAwDoEFAAA\n",
              "YB0CCgAAsA4BBQAAWIeAAgAArENAAQAA1iGgAAAA6xBQAACAdQgoAADAOnxZoAWMMUqlUpKkYDAo\n",
              "x3E8rggAAG8RUAAAgHXY4gEAANYhoAAAAOsQUAAAgHUIKAAAwDoEFAAAYJ1SrwsAigFvBQeAicUK\n",
              "CpCDVCqlcDiscDicDSoAgPFDQAEAANYhoAAAAOsQUAAAgHUIKAAAwDoEFAAAYB0CCgAAsA4BBQAA\n",
              "WIeAAgAArENAAQAA1iGgAAAA6xBQAACAdQgoAADAOgQUAABgHQIKAACwTqnXBbxfPB5XW1ubfL73\n",
              "ctPw8LD8fr/8fr/r3KqqKjU0NKipqUmBQCA7nslktHHjRvX09Ki7u9t1zdDQkLq6urRq1SpNmzbN\n",
              "day2tlbbtm0bh64AAEC+rAoo/f39isfjCoVC2bGWlhYlEgm1tra6zo1EIhocHFR9fb0ikUh2vLOz\n",
              "U4lEQn19fTp69OioayRp/vz5V3w8AABgB7Z4AACAdaxaQbFROp1WOp12jQUCAde2EgAAKCxWUMYQ\n",
              "jUZVXl7u+olGo16XBQDApMYKyhi2bNmiTZs2ucZYPQEAYHwRUMbAdg4AABOPLR4AAGAdAgoAALCO\n",
              "VVs8Pp9PkUhEwWAwO9bb26tMJqO6ujrXuaWlpXIcR7FYTAcOHMiOJ5NJNTY2qqSkZNQ1J0+elCS1\n",
              "t7ePOlZRUVHodgAAwHVyjDHG6yIA242MjCgcDkuSOjo6VFZW5nFFADC5scUDAACsQ0ABAADWIaAA\n",
              "AADrEFAAAIB1CCgAAMA6BBQAAGAdAgoAALAOAQUAAFiHgAIAAKxDQAEAANYhoAAAAOsQUAAAgHUI\n",
              "KAAAwDp8mzGQA2OMUqmUJCkYDMpxHI8rAoDJjYACAACswxYPAACwDgEFAABYh4ACAACsQ0ABAADW\n",
              "KfW6AAAoFN5tBUwerKAAmDRSqZTC4bDC4XA2qAAoTgQUAABgHQIKAACwDgEFAABYh4ACAACsQ0AB\n",
              "AADWua6A0tPTo1/96leSpGQyqYGBgYIWBQAApra8A8pPfvITrV+/Xi0tLZKks2fP6oEHHih0XQAA\n",
              "YArLO6DE43EdP35c06dPlyTNmzdPb7/9dsELAwAAU1feASUQCKisrMw1VlrKB9ICAIDCyTugzJw5\n",
              "U6+++mr2I6RbW1s1d+7cghcGAACmrryXPn784x/r/vvv18svv6yPfvSjmj59uo4cOTIetQEAgCkq\n",
              "74Ayf/58vfDCC3rllVdkjNHChQtVUlIyHrUBAIAp6rpuHhkaGlImk9GFCxf017/+VZK0YsWKghYG\n",
              "AACmrrwDSiwW02OPPaaZM2dmV04cx9Grr75a8OIAAMDUlHdA2bNnj1555RV95CMfue4njcfjamtr\n",
              "k8/33j26w8PD8vv98vv9rnOrqqrU0NCgpqYmBQKB7Hgmk9HGjRvV09Oj7u5u1zVDQ0Pq6urSqlWr\n",
              "NG3aNNex2tpa1dTUKBaLuZ4rnU5rx44dqqmpue6+AABAYeQdUCoqKm4onEhSf3+/4vG4QqFQdqyl\n",
              "pUWJREKtra2ucyORiAYHB1VfX69IJJId7+zsVCKRUF9fn44ePTrqGund+2Wu9HiVlZVqbm7W6tWr\n",
              "s+Otra0aHBy8ob4AAEBh5B1QfvCDH2jDhg364he/qGAwmB2/4447CloYAACYuvIOKN3d3dq/f7+6\n",
              "urpc96D86U9/KnhxNkin00qn066xQCDg2m4CAACFlfcHte3fv1+JREJ//vOfdeLECZ04cWLShhNJ\n",
              "ikajKi8vd/1Eo1GvywIAYFLLewWlsrJSN9988ziUYqctW7Zo06ZNrjFWTwAAGF95B5SVK1fqvvvu\n",
              "07p161z3oKxZs6aghdmC7RwAACZe3gGlp6dHkrR3797smOM4kzagAACAiZd3QOno6BiPOgAAALKu\n",
              "66PuM5mM+vr6lEqlsmPLli3L+Xqfz6dIJOLaIurt7VUmk1FdXZ27wNJSOY6jWCymAwcOZMeTyaQa\n",
              "GxtVUlIy6pqTJ09Kktrb20cdq6iokM/n0+bNmzVjxozs+MDAgHbv3p1zDwAAYPw4xhiTzwVHjhzR\n",
              "gw8+qGQyqZtuuknJZFKVlZXq6+sbrxoBICcjIyMKh8OS3l3tLSsr87giANcr77cZNzc36/jx4/r4\n",
              "xz+uM2fOaP/+/Vq3bt141AYAAKaovAOKz+dTZWWlLly4IEn66le/qvb29oIXBgAApq6870G5/AV7\n",
              "c+bM0eHDhxUKhZRMJgteGAAAmLryDijf/e53lUwmtX37dn3lK1/RO++8o127do1HbQAAYIrKOaAc\n",
              "O3ZM0rvvgnnppZckST//+c8lvfs5KAAAAIWSc0B55JFHRo05jqP+/n4NDAzo4sWLBS0MAABMXTkH\n",
              "lBMnTrh+P3v2rLZv366nn35aP/zhDwteGAAAmLryfhdPKpVSNBrV4sWLJUmnTp3S1q1bC14YAACY\n",
              "unIOKJcuXVI8HteCBQv08ssv64UXXtCTTz6pD33oQ+NZHwAAmIJy3uJZsmSJ0um0nnjiCVVXV+vc\n",
              "uXP629/+lj2ez0fdAwAAXEvOAWV4eFiO4+ixxx4bdcxxHPX29ha0MAAAMHXlHFASicQ4lgEAAPCe\n",
              "vG+SBQAAGG95f5sxANjKGKNUKiVJCgaDfIgkUMQIKAAAwDps8QAAAOsQUAAAgHUIKAAAwDoEFAAA\n",
              "YJ2cPwcFAIBC4N1WyAUrKACACZVKpRQOhxUOh7NBBfh/BBQAAGAdAgoAALAOAQUAAFiHgAIAAKxD\n",
              "QAEAANYhoAAAAOsQUAAAgHUIKAAAwDoEFAAAYB0CCgAAsA4BBQAAWIeAAgAArENAAQAA1iGgAAAA\n",
              "6xBQAACAdUq9eNJ4PK62tjb5fO/lo+HhYfn9fvn9fte5VVVVamhoUFNTkwKBQHY8k8lo48aN6unp\n",
              "UXd3t+uaoaEhdXV1adWqVZo2bZrrWG1trWpqahSLxVzPlU6ntWPHDtXU1BSyVQAAcB08CSj9/f2K\n",
              "x+MKhULZsZaWFiUSCbW2trrOjUQiGhwcVH19vSKRSHa8s7NTiURCfX19Onr06KhrJGn+/PlXfLzK\n",
              "yko1Nzdr9erV2fHW1lYNDg4WoDsAAHCj2OIBAADW8WQFpZik02ml02nXWCAQcG03AQCAwmIFZQzR\n",
              "aFTl5eWun2g06nVZAABMaqygjGHLli3atGmTa4zVEwAAxhcBZQxs5wAAMPHY4gEAANYhoAAAAOt4\n",
              "ssXj8/kUiUQUDAazY729vcpkMqqrq3OdW1paKsdxFIvFdODAgex4MplUY2OjSkpKRl1z8uRJSVJ7\n",
              "e/uoYxUVFfL5fNq8ebNmzJiRHR8YGNDu3bsL1iMAALh+jjHGeF0EAGDqGBkZUTgcliR1dHSorKzM\n",
              "44pgI7Z4AACAdQgoAADAOgQUAABgHQIKAACwDgEFAABYh4ACAACsQ0ABAADWIaAAAADrEFAAAIB1\n",
              "CCgAAMA6BBQAAGAdAgoAALAOXxYIAJhQxhilUilJUjAYlOM4HlcEGxFQAACAddjiAQAA1iGgAAAA\n",
              "6xBQAACAdQgoAADAOqVeFwAAAOxiwzutWEEBAAAuqVRK4XBY4XA4G1QmGgEFAABYh4ACAACsQ0AB\n",
              "AADWIaAAAADrEFAAAIB1CCgAAMA6BBQAAGAdAgoAALAOAQUAAFiHgAIAAKxDQAEAANYhoAAAAOsQ\n",
              "UAAAgHUIKAAAwDoEFAAAYJ1SL540Ho+rra1NPt97+Wh4eFh+v19+v991blVVlRoaGtTU1KRAIJAd\n",
              "z2Qy2rhxo3p6etTd3e26ZmhoSF1dXVq1apWmTZvmOlZbW6uamhrFYjHXc6XTae3YsUM1NTWFbBUA\n",
              "AFwHTwJKf3+/4vG4QqFQdqylpUWJREKtra2ucyORiAYHB1VfX69IJJId7+zsVCKRUF9fn44ePTrq\n",
              "GkmaP3/+FR+vsrJSzc3NWr16dXa8tbVVg4ODBegOAADcKLZ4AACAdTxZQSkm6XRa6XTaNRYIBFzb\n",
              "TQAAoLBYQRlDNBpVeXm56ycajXpdFgAAkxorKGPYsmWLNm3a5Bpj9QQAgPFFQBkD2zkAAEw8tngA\n",
              "AIB1CCgAAMA6nmzx+Hw+RSIRBYPB7Fhvb68ymYzq6upc55aWlspxHMViMR04cCA7nkwm1djYqJKS\n",
              "klHXnDx5UpLU3t4+6lhFRYV8Pp82b96sGTNmZMcHBga0e/fugvUIAACun2OMMV4XAQAA7DEyMqJw\n",
              "OCxJ6ujoUFlZ2YTXwBYPAACwDgEFAABYh4ACAACsQ0ABAADWIaAAAADrEFAAAIB1CCgAAMA6BBQA\n",
              "AGAdAgoAALAOAQUAAFiHgAIAAKxDQAEAANbhywIBAICLMUapVEqSFAwG5TjOhNdAQAEAANZhiwcA\n",
              "AFiHgAIAAKxDQLFEOp1WS0uL0um016UUxGTrR6KnYkFPxYGe7Od1P9yDYonz58+rvLxc586d0/Tp\n",
              "070u54ZNtn4keioW9FQc6Ml+XvfDCgoAALAOAQUAAFiHgAIAAKxDQLFEIBDQtm3bFAgEvC6lICZb\n",
              "PxI9FQt6Kg70ZD+v++EmWQAAYB1WUAAAgHUIKAAAwDoEFAAAYB0CygTasGGDQqGQHMfRX/7yl6ue\n",
              "t2/fPi1YsEDz5s3Tgw8+qEwmM3FF5imXnjo7O1VWVqbly5dnf0ZGRia20BylUinde++9+tjHPqbq\n",
              "6mrdddddeu2116547pEjR7Ro0SItWLBAa9eu1fnz5ye42tzk2lMikVBJSYnrdTp9+rQHFefmC1/4\n",
              "gpYtW6bly5fr9ttv14svvnjF84ppPuXSUzHNp8t+8YtfyHEc/fa3v73i8WKZS+93rZ6KbS6FQiEt\n",
              "XLgwW+tvfvObK5434XPJYML88Y9/NG+88YaprKw0L7744hXP6e3tNbNnzzYDAwPm0qVL5ktf+pJ5\n",
              "6qmnJrbQPOTSU0dHh6murp7Quq7XyMiI+d3vfmcuXbpkjDFmz5495s477xx13uDgoJk1a5Y5deqU\n",
              "McaYxsZG09TUNJGl5izXnvr6+kx5efnEFncDkslk9r8PHTpkli1bNuqcYptPufRUTPPJmHf/XNXW\n",
              "1prbbrvNHD58eNTxYppLl43VU7HNpWv9/X2ZF3OJFZQJdMcdd2jOnDnXPKetrU1r1qzRhz/8YTmO\n",
              "o29961v69a9/PUEV5i+XnopJMBjU3XffLcdxJEm33XabEonEqPOeffZZffKTn9SiRYskSQ8//LC1\n",
              "r1OuPRWbm2++Ofvf586dy/b3fsU2n3LpqZhcunRJ3/jGN7Rnz56rvlW1mOaSlFtPk5EXc6l0XB8d\n",
              "eXv99ddVWVmZ/T0UCun111/3sKLCOH36tFasWKGSkhJ9/etf18MPP+x1STnZtWuX7rnnnlHjV3qd\n",
              "BgYGdOHCBZWW2j2trtaTJP3nP//RypUrdfHiRd1777169NFHVVJSMsEV5u5rX/uaOjo6JEm///3v\n",
              "Rx0vxvk0Vk9S8cynJ598Up/97GdVU1Nz1XOKbS7l0pNUnHPJGKNbb71VP/rRjzRz5kzXcS/mkn2v\n",
              "PiadFStW6M0331R5ebnefPNN3X333brlllt03333eV3aNT3xxBN67bXX9Ic//MHrUgrmWj3Nnj1b\n",
              "b731lmbNmqWzZ8/qy1/+snbu3Knvf//7HlSam/3790uSfvnLX2rz5s1X/Qe9mIzVU7HMp7///e86\n",
              "ePCgjh075nUpBZNrT8U2l44dO6a5c+cqk8lo69atqq+vt2IuscVjmblz5+of//hH9vdEIqG5c+d6\n",
              "WNGNmz59usrLyyVJc+bM0f3336/nn3/e46qubceOHTp06JCeffZZfeADHxh1/Eqv0+zZs638P77L\n",
              "xuopEAho1qxZkqQPfvCDWr9+vfWv02X19fXq6OjQmTNnXOPFPJ+u1lOxzKfnn39eiURCCxYsUCgU\n",
              "0vHjx/XQQw9p7969rvOKaS7l2lOxzaXLc8Lv9+t73/veFWv1ZC6N6x0uuKJr3ZB0+vTpUTci7dmz\n",
              "Z2ILvA7X6qm/v99cvHjRGGPM+fPnzWc+8xmzb9++CawuPzt37jQrVqwwZ8+eveo558+fNzNnznTd\n",
              "2PfII49MVIl5y6Wnf/7zn+a///2vMcaYVCpl1q1bZ5qbmyeqxLwkk0nz1ltvZX8/fPiwqaioyN4I\n",
              "fFkxzadceyq2+XTZnXfeecUbSottLr3f1Xoqprk0NDTkujl7586d5vbbbx91nhdziYAygR566CFT\n",
              "UVFhSkpKzKxZs8y8efOMMcY0NDSYZ555JntePB43VVVVpqqqyqxfvz77B91GufS0Z88es3jxYrNs\n",
              "2TKzePFis23btlF/6drijTfeMJJMVVWVqa6uNtXV1ebWW281xhjT3Nxs9u7dmz33mWeeMQsXLjTz\n",
              "5s0z99xzj3nnnXe8Kvuacu3p4MGD5hOf+ET2dfr2t79tUqmUl6VfVSKRMCtXrjRLliwxy5YtM5/7\n",
              "3OeyAblY51OuPRXTfHq/9/9jXqxz6f9dradimkunT582y5cvN0uXLjVLliwxa9asMX19fcYY7+cS\n",
              "38UDAACswz0oAADAOgQUAABgHQIKgKIVCoW0aNEiXbhwITv2qU99Sp2dnd4VBaAgCCgAilo6nda+\n",
              "ffu8LgNAgRFQABS1lpYWPf744xoeHnaN/+tf/9LatWu1dOlSLVmyRD/96U89qhDA9SCgAChq1dXV\n",
              "CofDisVirvHvfOc7WrhwoV566SW1t7dr+/btOn78uEdVAsgXAQVA0Xv88ce1a9cu16euPvfcc/rm\n",
              "N78pSZo1a5bWrl2r5557zqsSAeSJgAKg6IVCIT3wwAPavn37Vc8p9m8GBqYaAgqASWHr1q16+umn\n",
              "1d/fL0n6/Oc/r5/97GeSpLfffluHDh3SXXfd5WWJAPJAQAEwKdxyyy3asGGDBgYGJEm7d+/WqVOn\n",
              "tHTpUoXDYT366KP69Kc/7XGVAHLFR90DAADrsIICAACsQ0ABAADWIaAAAADrEFAAAIB1CCgAAMA6\n",
              "BBQAAGAdAgoAALAOAQUAAFiHgAIAAKxDQAEAANYhoAAAAOv8DyTr3B492CFtAAAAAElFTkSuQmCC\n",
              "\">\n",
              "        \n",
              "      </div>\n",
              "      <script></script>\n",
              "      <script type=\"text/javascript\">\n",
              "        (() => {\n",
              "          const chartElement = document.getElementById(\"chart-76e5e7ad-e4e3-4fff-b66a-38ee10d0557d\");\n",
              "          async function getCodeForChartHandler(event) {\n",
              "            const chartCodeResponse =  await google.colab.kernel.invokeFunction(\n",
              "                'getCodeForChart', [\"chart-76e5e7ad-e4e3-4fff-b66a-38ee10d0557d\"], {});\n",
              "            const responseJson = chartCodeResponse.data['application/json'];\n",
              "            await google.colab.notebook.addCell(responseJson.code, 'code');\n",
              "          }\n",
              "          chartElement.onclick = getCodeForChartHandler;\n",
              "        })();\n",
              "      </script>\n",
              "      <style>\n",
              "        .colab-quickchart-chart-with-code  {\n",
              "            display: block;\n",
              "            float: left;\n",
              "            border: 1px solid transparent;\n",
              "        }\n",
              "\n",
              "        .colab-quickchart-chart-with-code:hover {\n",
              "            cursor: pointer;\n",
              "            border: 1px solid #aaa;\n",
              "        }\n",
              "      </style>"
            ]
          },
          "metadata": {}
        },
        {
          "output_type": "display_data",
          "data": {
            "text/plain": [
              "import numpy as np\n",
              "from google.colab import autoviz\n",
              "\n",
              "def violin_plot(df, value_colname, facet_colname, figscale=1, mpl_palette_name='Dark2', **kwargs):\n",
              "  from matplotlib import pyplot as plt\n",
              "  import seaborn as sns\n",
              "  figsize = (12 * figscale, 1.2 * figscale * len(df[facet_colname].unique()))\n",
              "  plt.figure(figsize=figsize)\n",
              "  sns.violinplot(df, x=value_colname, y=facet_colname, palette=mpl_palette_name, **kwargs)\n",
              "  sns.despine(top=True, right=True, bottom=True, left=True)\n",
              "  return autoviz.MplChart.from_current_mpl_state()\n",
              "\n",
              "chart = violin_plot(df, *['Age', 'Name'], **{'inner': 'stick'})\n",
              "chart"
            ],
            "text/html": [
              "      <div class=\"colab-quickchart-chart-with-code\" id=\"chart-cb7ac547-695f-4346-ba01-dc0c192c9727\">\n",
              "        <img src=\"data:image/png;base64,iVBORw0KGgoAAAANSUhEUgAAAigAAAEaCAYAAAA7V6y+AAAAOXRFWHRTb2Z0d2FyZQBNYXRwbG90\n",
              "bGliIHZlcnNpb24zLjcuMSwgaHR0cHM6Ly9tYXRwbG90bGliLm9yZy/bCgiHAAAACXBIWXMAAA9h\n",
              "AAAPYQGoP6dpAAAYOElEQVR4nO3df2xV9f3H8de97d29nZXKAGVWbdcVjESQcSHQWaA3y7YGjdui\n",
              "zk2ZvVtnMof7wY+kY7HSJYy77Uu4ExKmN2toKBHYQJ1hCYuxMNalKFQD2yqK670bsx0iXFhre6+3\n",
              "cr5/mB29lo5euOV87u3zkTSh73vOve9P7j3Ni8/n3HNclmVZAgAAMIjb6QYAAAA+ioACAACMQ0AB\n",
              "AADGIaAAAADjEFAAAIBxCCgAAMA4BBQAAGAcAgoAADAOAQUAABiHgAIAAIxDQAEAAMYhoAAAAOMU\n",
              "Ot0AJMuylEgkJEk+n08ul8vhjgAAcBYzKAZIJBIKBAIKBAJ2UAEAYDwjoAAAAOMQUAAAgHEIKAAA\n",
              "wDgEFAAAYBwCCgAAMA4BBQAAGIeAAgAAjENAAQAAxiGgAAAA4xBQAACAcQgoAADAOAQUAABgHAIK\n",
              "AAAwDgEFAAAYp3CsnjgSiWjXrl1yuz/IQAMDA/J4PPJ4PGnbVlRUqL6+XqtWrZLX67XrqVRKy5cv\n",
              "V2dnpzo6OtL26e/vV3t7u6qrq1VcXJz2WFVVlfx+v8LhcNprJZNJrV+/Xs3Nzeru7k7b56qrrtLu\n",
              "3bsve9wAAODyjVlA6enpUSQSUXl5uV1rampSLBZTS0tL2rbBYFB9fX2qq6tTMBi06/v371csFlM0\n",
              "GtXevXuH7SNJlZWVF3y+srIyNTY2qqamxq63tLSor69PAwMDIz4fAABwHks8AADAOGM2g5Ivksmk\n",
              "kslkWs3r9aYtRQEAgOxiBuUiQqGQSkpK0n5CoZDTbQEAkNeYQbmI1atXa8WKFWk1Zk8AABhbBJSL\n",
              "YDkHAIArjyUeAABgHAIKAAAwzpgt8bjdbgWDQfl8PrvW3d2tVCql2tra9CYKC+VyuRQOh7Vjxw67\n",
              "Ho/HtWzZMhUUFAzbp6urS5LU1tY27LHS0lK53W41NDRo4sSJdr23t1cbN27U22+/PWyf06dPX96A\n",
              "AQBA1rgsy7KcbmK8GxwcVCAQkCTt27dPRUVFDncEAICzWOIBAADGIaAAAADjEFAAAIBxCCgAAMA4\n",
              "BBQAAGAcAgoAADAOAQUAABiHgAIAAIxDQAEAAMYhoAAAAOMQUAAAgHEIKAAAwDjcLNAAlmUpkUhI\n",
              "knw+n1wul8MdAQDgLAIKAAAwDks8AADAOAQUAABgHAIKAAAwDgEFAAAYh4ACAACMU+h0AwCQi7g8\n",
              "ADC2mEEBgEuQSCQUCAQUCATsoAIgewgoAADAOAQUAABgHAIKAAAwDgEFAAAYh4ACAACMQ0ABAADG\n",
              "IaAAAADjEFAAAIBxCCgAAMA4BBQAAGAcAgoAADAOAQUAABiHgAIAAIxDQAEAAMYpdLqBD4tEItq1\n",
              "a5fc7g9y08DAgDwejzweT9q2FRUVqq+v16pVq+T1eu16KpXS8uXL1dnZqY6OjrR9+vv71d7erurq\n",
              "ahUXF6c9VlVVpTVr1ozBqAAAQKaMCig9PT2KRCIqLy+3a01NTYrFYmppaUnbNhgMqq+vT3V1dQoG\n",
              "g3Z9//79isViikaj2rt377B9JKmysvKCzwcAAMzAEg8AADCOUTMoJkomk0omk2k1r9ebtqwEAACy\n",
              "ixmUiwiFQiopKUn7CYVCTrcFAEBeYwblIlavXq0VK1ak1Zg9AQBgbBFQLoLlHAAArjyWeAAAgHEI\n",
              "KAAAwDhGLfG43W4Fg0H5fD671t3drVQqpdra2rRtCwsL5XK5FA6HtWPHDrsej8e1bNkyFRQUDNun\n",
              "q6tLktTW1jbssdLS0mwPBwAAXCKXZVmW000AQK4ZHBxUIBCQJO3bt09FRUUOdwTkF5Z4AACAcQgo\n",
              "AADAOAQUAABgHAIKAAAwDgEFAAAYh4ACAACMQ0ABAADGIaAAAADjEFAAAIBxCCgAAMA4BBQAAGAc\n",
              "AgoAADAOAQUAABiHuxkDwCWwLEuJREKS5PP55HK5HO4IyC8EFAAAYByWeAAAgHEIKAAAwDgEFAAA\n",
              "YBwCCgAAME6h0w0AAACzmPAtNWZQAABAmkQioUAgoEAgYAeVK42AAgAAjENAAQAAxiGgAAAA4xBQ\n",
              "AACAcQgoAADAOJcUUDo7O9Xa2ipJisfj6u3tzWpTAABgfMs4oGzevFnf+ta31NTUJEk6c+aM7r//\n",
              "/mz3BQAAxrGMA0okEtHBgwc1YcIESdKnP/1pnTp1KuuNAQCA8SvjgOL1elVUVJRWKyzkgrQAACB7\n",
              "Mg4oU6ZM0euvv25f9ralpUU33XRT1hsDAADjV8ZTH7/85S/19a9/XceOHdONN96oCRMmaM+ePWPR\n",
              "GwAAGKcyDiiVlZV68cUX9dprr8myLN18880qKCgYi94AAMA4dUknj/T39yuVSmloaEhHjhyRJM2Z\n",
              "MyerjQEAgPEr44ASDof12GOPacqUKfbMicvl0uuvv5715gAAwPiUcUDZtGmTXnvtNV1//fWX/KKR\n",
              "SES7du2S2/3BOboDAwPyeDzyeDxp21ZUVKi+vl6rVq2S1+u166lUSsuXL1dnZ6c6OjrS9unv71d7\n",
              "e7uqq6tVXFyc9lhVVZX8fr/C4XDaayWTSa1fv15+v/+SxwUAALIj44BSWlp6WeFEknp6ehSJRFRe\n",
              "Xm7XmpqaFIvF1NLSkrZtMBhUX1+f6urqFAwG7fr+/fsVi8UUjUa1d+/eYftI758vc6HnKysrU2Nj\n",
              "o2pqaux6S0uL+vr6LmtcAAAgOzIOKD/+8Y/1/e9/X3feead8Pp9dX7RoUVYbAwAA41fGAaWjo0Nb\n",
              "t25Ve3t72jkoL730UtabM0EymVQymUyreb3etOUmAACQXRlfqG3r1q2KxWJ6+eWXdejQIR06dChv\n",
              "w4kkhUIhlZSUpP2EQiGn2wIAIK9lPINSVlama665ZgxaMdPq1au1YsWKtBqzJwAAjK2MA8q8efP0\n",
              "1a9+Vffcc0/aOSh33XVXVhszBcs5AABceRkHlM7OTknSr371K7vmcrnyNqAAAIArL+OAsm/fvrHo\n",
              "AwAAwHZJl7pPpVKKRqNKJBJ2bdasWaPe3+12KxgMpi0RdXd3K5VKqba2Nr3BwkK5XC6Fw2Ht2LHD\n",
              "rsfjcS1btkwFBQXD9unq6pIktbW1DXustLRUbrdbDQ0Nmjhxol3v7e3Vxo0bRz0GAAAwdlyWZVmZ\n",
              "7LBnzx499NBDisfjuuqqqxSPx1VWVqZoNDpWPQIAgCtocHBQgUBA0vsrJ0VFRVe8h4y/ZtzY2KiD\n",
              "Bw/qlltu0enTp7V161bdc889Y9EbAAAYpzIOKG63W2VlZRoaGpIkLV26VG1tbVlvDAAAjF8Zn4Py\n",
              "3xvs3XDDDXrmmWdUXl6ueDye9cYAAMD4lXFA+cEPfqB4PK61a9fqa1/7ms6ePavHH398LHoDAADj\n",
              "1KgDyoEDByS9/y2Yv/zlL5KkX//615Levw4KAABAtow6oKxcuXJYzeVyqaenR729vXrvvfey2hgA\n",
              "ABi/Rh1QDh06lPb7mTNntHbtWm3btk0/+clPst4YAAAYvzL+Fk8ikVAoFNKMGTMkSa+++qoeffTR\n",
              "rDcGAADGr1EHlPPnzysSiWjatGk6duyYXnzxRW3YsEGTJk0ay/4AAMA4NOolnltvvVXJZFLr1q3T\n",
              "bbfdpnPnzuno0aP245lc6h4AAOB/GXVAGRgYkMvl0mOPPTbsMZfLpe7u7qw2BgAAxq9RB5RYLDaG\n",
              "bQAAAHwg45NkAQAAxlrGdzMGAAD5zbIsJRIJSZLP53PkgqwEFAAAYByWeAAAgHEIKAAAwDgEFAAA\n",
              "YBwCCgAAMM6or4MCmMCEM8sBAGOPGRTklEQioUAgoEAgYAcVAED+IaAAAADjEFAAAIBxCCgAAMA4\n",
              "BBQAAGAcAgoAADAOAQUAABiHgAIAAIxDQAEAAMYhoAAAAOMQUAAAgHEIKAAAwDgEFAAAYBwCCgAA\n",
              "MA4BBQAAGIeAAgAAjFPoxItGIhHt2rVLbvcH+WhgYEAej0cejydt24qKCtXX12vVqlXyer12PZVK\n",
              "afny5ers7FRHR0faPv39/Wpvb1d1dbWKi4vTHquqqpLf71c4HE57rWQyqfXr18vv92dzqAAA4BI4\n",
              "ElB6enoUiURUXl5u15qamhSLxdTS0pK2bTAYVF9fn+rq6hQMBu36/v37FYvFFI1GtXfv3mH7SFJl\n",
              "ZeUFn6+srEyNjY2qqamx6y0tLerr68vC6AAAwOViiQcAABjHkRmUXJJMJpVMJtNqXq83bbkJAABk\n",
              "FzMoFxEKhVRSUpL2EwqFnG4LAIC8xgzKRaxevVorVqxIqzF7AgDA2CKgXATLOQAAXHks8QAAAOMQ\n",
              "UAAAgHEcWeJxu90KBoPy+Xx2rbu7W6lUSrW1tWnbFhYWyuVyKRwOa8eOHXY9Ho9r2bJlKigoGLZP\n",
              "V1eXJKmtrW3YY6WlpXK73WpoaNDEiRPtem9vrzZu3Ji1MQIAgEvnsizLcroJYLQGBwcVCAQkSfv2\n",
              "7VNRUZHDHQEAxgJLPAAAwDgEFAAAYBwCCgAAMA4BBQAAGIeAAgAAjENAAQAAxiGgAAAA4xBQAACA\n",
              "cQgoAADAOAQUAABgHAIKAAAwDgEFAAAYh5sFIqdYlqVEIiFJ8vl8crlcDncEABgLBBQAAGAclngA\n",
              "AIBxCCgAAMA4BBQAAGAcAgoAADBOodMNACbg20EAYBZmUABJiURCgUBAgUDADioAAOcQUAAAgHEI\n",
              "KAAAwDgEFAAAYBwCCgAAMA4BBQAAGIeAAgAAjENAAQAAxiGgAAAA4xBQAACAcQgoAADAOAQUAABg\n",
              "HAIKAAAwDgEFAAAYh4ACAACMQ0ABAADGKXTiRSORiHbt2iW3+4N8NDAwII/HI4/Hk7ZtRUWF6uvr\n",
              "tWrVKnm9XrueSqW0fPlydXZ2qqOjI22f/v5+tbe3q7q6WsXFxWmPVVVVye/3KxwOp71WMpnU+vXr\n",
              "5ff7szlUAABwCRwJKD09PYpEIiovL7drTU1NisViamlpSds2GAyqr69PdXV1CgaDdn3//v2KxWKK\n",
              "RqPau3fvsH0kqbKy8oLPV1ZWpsbGRtXU1Nj1lpYW9fX1ZWF0AADgcrHEAwAAjOPIDEouSSaTSiaT\n",
              "aTWv15u23AQAALKLGZSLCIVCKikpSfsJhUJOtwUAQF5jBuUiVq9erRUrVqTVmD0BAGBsEVAuguUc\n",
              "AACuPJZ4AACAcQgoAADAOI4s8bjdbgWDQfl8PrvW3d2tVCql2tratG0LCwvlcrkUDoe1Y8cOux6P\n",
              "x7Vs2TIVFBQM26erq0uS1NbWNuyx0tJSud1uNTQ0aOLEiXa9t7dXGzduzNoYAQDApXNZlmU53QTg\n",
              "tMHBQQUCAUnSvn37VFRU5HBHADC+scQDAACMQ0ABAADGIaAAAADjEFAAAIBxCCgAAMA4BBQAAGAc\n",
              "AgoAADAOAQUAABiHgAIAAIxDQAEAAMYhoAAAAOMQUAAAgHG4WSAgybIsJRIJSZLP55PL5XK4IwAY\n",
              "3wgoAADAOCzxAAAA4xBQAACAcQgoeSyZTKqpqUnJZNLpVrIqX8cl5e/YGFduYVy5Jx/Hxjkoeew/\n",
              "//mPSkpKdO7cOU2YMMHpdrImX8cl5e/YGFduYVy5Jx/HxgwKAAAwDgEFAAAYh4ACAACMQ0DJY16v\n",
              "V2vWrJHX63W6lazK13FJ+Ts2xpVbGFfuycexcZIsAAAwDjMoAADAOAQUAABgHAIKAAAwDgElTyQS\n",
              "CX35y1/W9OnTddttt+nzn/+83njjDUlSTU2NPvWpT2n27NmaPXu2wuGww91m5gtf+IJmzZql2bNn\n",
              "a+HChXrllVckScePH9dnP/tZTZ8+XfPmzdPf/vY3hzvN3EhjKy8v180332y/Zzt37nS408xt2bJF\n",
              "LpdLzz77rCTprbfeUm1traZNm6Zbb71VBw4ccLbBy/DRseX6MTbS5y3Xj7GRxpXrx1cymdQjjzyi\n",
              "adOmaebMmVq6dKmk3H+/hrGQFwYHB63f//731vnz5y3LsqxNmzZZixcvtizLshYvXmw988wzzjV3\n",
              "meLxuP3vp59+2po1a5ZlWZYVCASsLVu2WJZlWb/97W+tuXPnOtDd5RlpbGVlZdYrr7ziTFNZEI1G\n",
              "raqqKmvBggX2Z++b3/ymtWbNGsuyLOull16ySktLrXfffde5Ji/RhcaW68fYSJ+3XD/GRhpXrh9f\n",
              "P/zhD61HHnnE/nvf29trWVbuv18fxQxKnvD5fFqyZIlcLpckacGCBYrFYs42lSXXXHON/e9z587J\n",
              "5XLprbfe0uHDh+3/Odx99906ceKEPWuUKy40tlx3/vx5ffvb39amTZvSvvL4m9/8Rt/5znckSfPm\n",
              "zdP111+vP/7xj061eUlGGls+ypdjLN+88847am5u1k9/+lP778XUqVPz8v0ioOSpxx9/XF/60pfs\n",
              "33/0ox9p5syZuu+++9Td3e1gZ5fmwQcf1I033qjGxka1trbqxIkT+uQnP6nCwkJJksvl0k033aR/\n",
              "/vOfDneauY+O7cP1mTNnqr6+XqdOnXKww8xs2LBBt99+u/x+v107ffq0UqmUpk6datfKy8tz7v26\n",
              "0Nj+Kx+OsQ9/3vLlGBvpOMrV4+vvf/+7PvGJT2jdunWaO3euFi5cqBdeeCFv3q8PI6DkoXXr1umN\n",
              "N95QKBSSJLW2turYsWM6evSoFi5cqDvvvNPhDjO3detWnThxQmvXrlVDQ4PT7WTVhcZ24MABHT16\n",
              "VC+//LImT56suro6h7scnb/+9a/avXu3Hn30Uadbybr/NbZcP8Zy9fN2MSONK5fHOzQ0pH/84x+a\n",
              "MWOGDh8+rI0bN+q+++7T0NCQ061ln9NrTMiu//u//7P8fn/auQ0f5fV6rbfffvvKNZVlPp/P+ve/\n",
              "/21dffXVViqVsizLss6fP29dd9111vHjxx3u7vL4fL5h701PT49VXFzsUEeZ2bx5szV16lSrrKzM\n",
              "Kisrs7xerzVlyhRr8+bN1sc//nF7rdyyLGvevHnW888/72C3mflfY/uoXD7G/vt5O3nyZF4dYyMd\n",
              "R7l0fFmWZZ06dcpyu93W0NCQXZs7d661c+fOvHq/LItzUPLKhg0btH37dj3//PP2uQ1DQ0M6efKk\n",
              "vc3u3bt13XXXadKkSQ51mZmzZ8+qp6fH/v3ZZ5/VpEmTdO2112rOnDnatm2bpPfHdcMNN6iystKp\n",
              "VjM20th8Pp/Onj1r17dv367PfOYzDnSYuYcffli9vb2KxWKKxWJasGCBIpGIHn74Yd1777164okn\n",
              "JEmHDh3Sm2++qcWLFzvc8eiNNLaHHnoop4+xd95554Kft1w/xkYa10j1XDF58mR97nOf0x/+8AdJ\n",
              "UjQaVTQa1e23357T79eFFDrdALLjX//6l1auXKmKigoFAgFJ79+boa2tTXfccYeSyaTcbrcmT56s\n",
              "5557zuFuR+/cuXO69957NTg4KLfbrSlTpmjPnj1yuVx68sknFQwGtW7dOk2YMEFbtmxxut2MjDS2\n",
              "kydP6u6779Z7770ny7JUUVGhrVu3Ot3uZfv5z3+ub3zjG5o2bZo+9rGPadu2bfJ4PE63ddmSyWRO\n",
              "H2P/6/OWy8fYSOPKh+PriSeeUH19vRoaGuR2u/Xkk0+qtLQ0p9+vC+FePAAAwDgs8QAAAOMQUAAA\n",
              "gHEIKABySl9fn4qLi1VfX+90KwDGEAEFQE7ZuXOn/H6/nn76afX39zvdDoAxQkABkFOam5vV0NCg\n",
              "RYsW2Td5S6VS+u53v6vp06drwYIFWrlypWpqaux9WltbNX/+fM2ZM0eLFi3SkSNHHOoewGjxNWMA\n",
              "OaOrq0snTpzQF7/4RQ0NDelnP/uZ6uvrFYlEdPz4cfvurUuWLLH3+fOf/6zt27frwIED8nq9+tOf\n",
              "/qT7778/9+/0CuQ5ZlAA5Izm5mY9+OCDKigo0JIlSxSNRvXqq6/qhRde0NKlS+XxeOTxeNIuXf67\n",
              "3/1OR44c0fz58zV79mx973vf05kzZzQ4OOjgSABcDDMoAHJCKpVSa2urPB6PnnrqKUnSwMCAmpub\n",
              "h2374btCW5aluro6rVu37or1CuDyMYMCICc899xzqqio0Jtvvmlfbv7gwYNqbW1VIBDQU089pVQq\n",
              "pVQqlXZl0Lvuukvbtm2z7+p6/vx5HT582KlhABglZlAA5ITm5mY98MADabVbbrlFpaWluvbaa1Ve\n",
              "Xq4ZM2Zo4sSJmjt3rn2fo4ULF+oXv/iFvvKVr2hoaEjvvvuu7rjjDs2dO9eJYQAYJS51DyAv9PX1\n",
              "6eqrr1YqldIDDzwgv9+vhoYGp9sCcIkIKADywvz585VMJpVIJFRdXa1NmzapqKjI6bYAXCICCgAA\n",
              "MA4nyQIAAOMQUAAAgHEIKAAAwDgEFAAAYBwCCgAAMA4BBQAAGIeAAgAAjENAAQAAxiGgAAAA4/w/\n",
              "gtbyc0VyupIAAAAASUVORK5CYII=\n",
              "\">\n",
              "        \n",
              "      </div>\n",
              "      <script></script>\n",
              "      <script type=\"text/javascript\">\n",
              "        (() => {\n",
              "          const chartElement = document.getElementById(\"chart-cb7ac547-695f-4346-ba01-dc0c192c9727\");\n",
              "          async function getCodeForChartHandler(event) {\n",
              "            const chartCodeResponse =  await google.colab.kernel.invokeFunction(\n",
              "                'getCodeForChart', [\"chart-cb7ac547-695f-4346-ba01-dc0c192c9727\"], {});\n",
              "            const responseJson = chartCodeResponse.data['application/json'];\n",
              "            await google.colab.notebook.addCell(responseJson.code, 'code');\n",
              "          }\n",
              "          chartElement.onclick = getCodeForChartHandler;\n",
              "        })();\n",
              "      </script>\n",
              "      <style>\n",
              "        .colab-quickchart-chart-with-code  {\n",
              "            display: block;\n",
              "            float: left;\n",
              "            border: 1px solid transparent;\n",
              "        }\n",
              "\n",
              "        .colab-quickchart-chart-with-code:hover {\n",
              "            cursor: pointer;\n",
              "            border: 1px solid #aaa;\n",
              "        }\n",
              "      </style>"
            ]
          },
          "metadata": {}
        },
        {
          "output_type": "display_data",
          "data": {
            "text/plain": [
              "<google.colab._quickchart_helpers.SectionTitle at 0x7b627e1a31c0>"
            ],
            "text/html": [
              "<h4 class=\"colab-quickchart-section-title\">Time series</h4>\n",
              "<style>\n",
              "  .colab-quickchart-section-title {\n",
              "      clear: both;\n",
              "  }\n",
              "</style>"
            ]
          },
          "metadata": {}
        },
        {
          "output_type": "display_data",
          "data": {
            "text/plain": [
              "import numpy as np\n",
              "from google.colab import autoviz\n",
              "\n",
              "def time_series_multiline(df, timelike_colname, value_colname, series_colname, figscale=1, mpl_palette_name='Dark2'):\n",
              "  from matplotlib import pyplot as plt\n",
              "  import seaborn as sns\n",
              "  figsize = (10 * figscale, 5.2 * figscale)\n",
              "  palette = list(sns.palettes.mpl_palette(mpl_palette_name))\n",
              "  def _plot_series(series, series_name, series_index=0):\n",
              "    if value_colname == 'count()':\n",
              "      counted = (series[timelike_colname]\n",
              "                 .value_counts()\n",
              "                 .reset_index(name='counts')\n",
              "                 .rename({'index': timelike_colname}, axis=1)\n",
              "                 .sort_values(timelike_colname, ascending=True))\n",
              "      xs = counted[timelike_colname]\n",
              "      ys = counted['counts']\n",
              "    else:\n",
              "      xs = series[timelike_colname]\n",
              "      ys = series[value_colname]\n",
              "    plt.plot(xs, ys, label=series_name, color=palette[series_index % len(palette)])\n",
              "\n",
              "  fig, ax = plt.subplots(figsize=figsize, layout='constrained')\n",
              "  df = df.sort_values(timelike_colname, ascending=True)\n",
              "  if series_colname:\n",
              "    for i, (series_name, series) in enumerate(df.groupby(series_colname)):\n",
              "      _plot_series(series, series_name, i)\n",
              "    fig.legend(title=series_colname, bbox_to_anchor=(1, 1), loc='upper left')\n",
              "  else:\n",
              "    _plot_series(df, '')\n",
              "  sns.despine(fig=fig, ax=ax)\n",
              "  plt.xlabel(timelike_colname)\n",
              "  plt.ylabel(value_colname)\n",
              "  return autoviz.MplChart.from_current_mpl_state()\n",
              "\n",
              "chart = time_series_multiline(df, *['No', 'Age', 'Name'], **{})\n",
              "chart"
            ],
            "text/html": [
              "      <div class=\"colab-quickchart-chart-with-code\" id=\"chart-15bdc385-a14c-421a-9e43-7d6ad09cf238\">\n",
              "        <img src=\"data:image/png;base64,iVBORw0KGgoAAAANSUhEUgAAAl8AAAEPCAYAAAB82aF3AAAAOXRFWHRTb2Z0d2FyZQBNYXRwbG90\n",
              "bGliIHZlcnNpb24zLjcuMSwgaHR0cHM6Ly9tYXRwbG90bGliLm9yZy/bCgiHAAAACXBIWXMAAA9h\n",
              "AAAPYQGoP6dpAAAkp0lEQVR4nO3df3AUdZ7/8VfPTDLBZQnILzExmYz8+iI/ApEYEFY4T5dVd6VE\n",
              "jtXlyJxhQReWlUhtpCQKwhK2CpMCvFNiUWTZ3AEeUfSU5SwPskAtFsLhuopXiskQIOHHYgjBkGES\n",
              "+vuH5eiYBBJJ92SS56MqVcmnP92f9yfh4762u6fbME3TFAAAAGzhiHQBAAAAXQnhCwAAwEaELwAA\n",
              "ABsRvgAAAGxE+AIAALAR4QsAAMBGhC8AAAAbEb4AAABsFJXha82aNZEuAQAA4HtxRbqA7+PYsWOR\n",
              "LgEAgKhmmqYaGhrU2NgY6VI6jZiYGDmdzmv2i8rwBQAAvr/Lly+rqqpKdXV1kS6lUzEMQ4mJiere\n",
              "vftV+xG+AADoQq5cuaLy8nI5nU7dfPPNio2NlWEYkS4r6pmmqbNnz+rEiRMaNGjQVc+AEb4AAOhC\n",
              "Ll++rCtXruiWW27RDTfcEOlyOpW+ffvK7/crGAxeNXxF5Q33AADg+jgcRID21toziPzmAQAAbET4\n",
              "AgAAlvJ4PBo6dKgaGhpCbbfffrtKS0sjV1QEEb4AAIDlAoGANmzYEOkyOgTCFwAAsNzSpUu1fPny\n",
              "Jo+3+I//+A/dcccdGj16tEaNGqX/+q//Cm2bNGmSnnrqKf3oRz9SUlKScnNztWPHDk2YMEEej0f5\n",
              "+fmhvp999pnuv/9+jR07ViNHjtSLL75o29zaik87AgAAy40aNUqTJ09WQUGBnnnmmVD7j3/8Yz3y\n",
              "yCMyDEN+v18ZGRk6duyY3G63pK8erL57925duHBBHo9H1dXV2rt3ryorKzVkyBA99thj+uEPf6hH\n",
              "HnlExcXFGjp0qOrq6pSRkaE77rhDY8eOjdSUW0T4AgAAtli+fLnS09P1+OOPh9rKy8v1i1/8QidO\n",
              "nJDL5dIXX3yh8vJyDR06VJL08MMPy+l0qlevXvJ6vXrggQdkGIYSEhJCj3aIjY3Vxx9/rJ///Oeh\n",
              "49bW1urIkSOELwAA0HV5PB49+uijWrFiRajt5z//uVatWqWHH35YknTjjTeqvr4+tD0uLi70vdPp\n",
              "bPJzQ0ODYmJidOONN+qDDz6wfhLtgHu+AACAbZYsWaLi4mJVVlZKkqqrq5WSkiJJKi4uVnV1dZuP\n",
              "OWTIEPXo0UMbN24MtR09elRffPFF+xTdzghfAADANn369NGCBQtUVVUlSVqzZo0efvhhjR49WocP\n",
              "H1ZSUlKbj+lyufTWW2/ptdde08iRI3XbbbcpKytLly5dau/y24VhmqYZ6SLaKjs7O+wTDgAAoHXq\n",
              "6+tVXl6ulJSUsEt4uH6t/d1y5gsAAMBGloavQCCg+fPna9CgQRoxYoRmzpwp6atncYwfP16DBw/W\n",
              "2LFj9fHHH1tZBgAAQIdh6acdn376aRmGoU8//VSGYejUqVOSpLlz52rOnDny+Xzatm2bfD6f3n//\n",
              "fStLAQAA6BAsC19ffvmlNmzYoBMnToTe8n3TTTfpzJkzOnjwoN555x1J0rRp0zR//nwdPXpUAwcO\n",
              "tKocAACADsGy8PX555/rxhtv1MqVK/Xuu++qW7duWrp0qXr27KkBAwbI5fpqaMMwlJSUpIqKimbD\n",
              "VyAQUCAQCGtrbGy0qmwAAABLWXbPV0NDg44dO6Zhw4bp4MGDWrt2rWbMmBH2RvPWyMvLU3x8fNjX\n",
              "gQMHLKoaAADAWpad+UpKSpLD4dAvfvELSdLo0aOVkpKiY8eOqaqqSg0NDXK5XDJNUxUVFS0+12Px\n",
              "4sXKzs4Oa8vNzbWqbAAAYLPCwkJt27ZNDsc354Tq6uoUExOjmJiYsL5er1dZWVlatGhR6P2PkhQM\n",
              "BrVw4UIdOnRI+/fvD9vn4sWL2rdvnyZMmKDu3buHbRs3bpyee+45C2bVMsvCV58+fXT33Xfrv//7\n",
              "v3XfffepvLxc5eXluvPOOzVmzBgVFxfL5/OppKREiYmJLd7v5Xa7w3650levEwAAAJ1DZWWlCgsL\n",
              "5fF4Qm1Lly6V3+9XUVFRWF+fz6fa2lplZmbK5/OF2ktLS+X3+1VeXq6dO3c22UeSBg4c2Ozx7Gbp\n",
              "px1ffvllZWVlKScnRw6HQ+vXr1dCQoLWr18vn8+nlStXNnkdAAAAsI9pmrrUELR0jG6umNCH72Bx\n",
              "+PJ6vdq9e3eT9iFDhjQ5JQgAAOx3qSGowcXPWjrGpzOf1w0xsZaOEU14wj0AAICNLD3zBQAAOrZu\n",
              "rhh9OvN5y8fANwhfAAB0YYZhcEnQZlx2BAAAsBHhCwAAwEZcdgQAABHlcDjk8/kUFxcXaisrK1Mw\n",
              "GNSUKVPC+rpcLhmGoYKCAm3ZsiXUXl1drXnz5snpdDbZ58iRI5KkXbt2NdmWkJDQ3tO5JsM0TdP2\n",
              "Ua9Tdna28vPzI10GAABRp76+XuXl5UpJSQkLO7h+rf3dctkRAADARoQvAAAAGxG+AAAAbET4AgAA\n",
              "sBHhCwAAwEY8agIAAERUYWGhtm3bJofjm3NCdXV1iomJUUxM+KuJvF6vsrKytGjRIrnd7lB7MBjU\n",
              "woULdejQIe3fvz9sn4sXL2rfvn2aMGGCunfvHrZt3LhxSktLU0FBQdhYgUBAq1evVlpaWntOVRLh\n",
              "CwCALs00TZmX6ywdw4i9QYZhtLi9srJShYWF8ng8obalS5fK7/erqKgorK/P51Ntba0yMzPl8/lC\n",
              "7aWlpfL7/SovL9fOnTub7CNJAwcObPZ4ycnJys3N1aRJk0LtRUVFqq2tbcs0W43wBQBAF2ZertPR\n",
              "uT0sHWPg+gsy3D+wdIxowj1fAAAANuLMFwAAXZgRe4MGrr9g+Rj4hqXhy+PxyO12q1u3bpKkxYsX\n",
              "a8aMGS22AwAAexmGwSVBm1l+5mvr1q1KTU1tdTsAAEBn1uEvOwYCAQUCgbC2xsbGCFUDAABwfSy/\n",
              "4X7WrFkaMWKEsrKydPbs2Wu2f1deXp7i4+PDvg4cOGB12QAAAJaw9MzXnj17lJSUpGAwqCVLligz\n",
              "M1M7duxosb05ixcvVnZ2dlhbbm6ulWUDAAAbORwO+Xw+xcXFhdrKysoUDAY1ZcqUsL4ul0uGYaig\n",
              "oEBbtmwJtVdXV2vevHlyOp1N9jly5IgkadeuXU22JSQkyOFwKCcnR7169Qq1V1VVae3ate02x28z\n",
              "TNM0LTnyd1RVVWnw4MFNHljWUvvVZGdnKz8/v71LBACg06uvr1d5eblSUlLCwg6uX2t/t5Zddvzy\n",
              "yy91/vz50M+bN2/W6NGjW2wHAADoCiy77Hj69GlNmzZNjY2NMk1TXq9XmzZtarEdAACgK7AsfHm9\n",
              "Xh0+fLjZbS21AwAAdHa8XggAAMBGHf45XwAAoHMrLCzUtm3b5HB8c06orq5OMTExiomJCevr9XqV\n",
              "lZWlRYsWye12h9qDwaAWLlyoQ4cOaf/+/WH7XLx4Ufv27dOECRPUvXv3sG3jxo1TWlqaCgoKwsYK\n",
              "BAJavXq1NmzYoLKysrB9fvCDH6ikpOR7z5fwBQAAIqqyslKFhYXyeDyhtqVLl8rv96uoqCisr8/n\n",
              "U21trTIzM+Xz+ULtpaWl8vv9Ki8v186dO5vsI0kDBw5s9njJycnKzc3VpEmTQu1FRUWqra1VXV1d\n",
              "i8f7vghfAAB0YaZpKnjZ2jfHxMQ6ZRiGpWNEE8IXAABdWPByo5Y8vfPaHa/DilVTFOsmcnyNG+4B\n",
              "AABsRAwFAKALi4l1asWqKdfueJ1j4BuELwAAujDDMLgkaDMuOwIAANiI8AUAAGAjzjMCAICIcjgc\n",
              "8vl8iouLC7WVlZUpGAxqypTw+9FcLpcMw1BBQYG2bNkSaq+urta8efPkdDqb7HPkyBFJ0q5du5ps\n",
              "S0hIkMPhUE5Ojnr16hVqr6qq0tq1a/X3v/+9yT7nzp27rvkapmma13WECMjOzlZ+fn6kywAAIOrU\n",
              "19ervLxcKSkpYWEH16+1v1suOwIAANiI8AUAAGAjwhcAAICNCF8AAAA2InwBAADYyNJHTXg8Hrnd\n",
              "bnXr1k2StHjxYs2YMUOfffaZMjMz9fe//13x8fEqKirSbbfdZmUpAACggyosLNS2bdvkcHxzTqiu\n",
              "rk4xMTGKiYkJ6+v1epWVlaVFixbJ7XaH2oPBoBYuXKhDhw5p//79YftcvHhR+/bt04QJE9S9e/ew\n",
              "bePGjVNaWpoKCgrCxgoEAlq9erXS0tLac6qSbHjO19atW5WamhrWNnfuXM2ZM0c+n0/btm2Tz+fT\n",
              "+++/b3UpAACgA6qsrFRhYaE8Hk+obenSpfL7/SoqKgrr6/P5VFtbq8zMTPl8vlB7aWmp/H6/ysvL\n",
              "tXPnzib7SNLAgQObPV5ycrJyc3M1adKkUHtRUZFqa2vbYXZN2f6Q1TNnzujgwYN65513JEnTpk3T\n",
              "/PnzdfToUQ0cOLBJ/0AgoEAgENbW2NhoS60AAHR2pmnKvBS0dAyjW4wMw7B0jGhiefiaNWuWTNNU\n",
              "enq6Vq1apePHj2vAgAFyub4a2jAMJSUlqaKiotnwlZeXp2XLloW1ZWRkWF02AABdgnkpqDO3r7F0\n",
              "jH4HfyPjhlhLx4gmlt5wv2fPHn344Yf63//9X/Xp00eZmZltPsbixYtVU1MT9pWenm5BtQAAANaz\n",
              "9MxXUlKSJCkmJkZPPvmkBg8erFtuuUVVVVVqaGiQy+WSaZqqqKgI9f0ut9sddkOdJDmdTivLBgCg\n",
              "yzC6xajfwd9YPga+YVn4+vLLLxUMBtWzZ09J0ubNmzV69Gj169dPY8aMUXFxsXw+n0pKSpSYmNjs\n",
              "JUcAAGAtwzC4JGgzy8LX6dOnNW3aNDU2Nso0TXm9Xm3atEmStH79evl8Pq1cuVI9evTQxo0brSoD\n",
              "AACgQ7EsfHm9Xh0+fLjZbUOGDGnyDA4AAICuwPZHTQAAAHybw+GQz+dTXFxcqK2srEzBYFBTpkwJ\n",
              "6+tyuWQYhgoKCrRly5ZQe3V1tebNmyen09lknyNHjkiSdu3a1WRbQkKCHA6HcnJy1KtXr1B7VVWV\n",
              "1q5d225z/DbDNE3TkiNbKDs7W/n5+ZEuAwCAqFNfX6/y8nKlpKSEhR1cv9b+bnm3IwAAgI0IXwAA\n",
              "ADYifAEAANiI8AUAAGAjwhcAAICNeNQEAACIqMLCQm3btk0OxzfnhOrq6hQTE6OYmPBXE3m9XmVl\n",
              "ZWnRokVhrx8MBoNauHChDh061ORZohcvXtS+ffs0YcIEde/ePWzbuHHjlJaWpoKCgrCxAoGAVq9e\n",
              "rbS0tPacqiTCFwAAXZppmrrceMnSMWKd3WQYRovbKysrVVhYKI/HE2pbunSp/H6/ioqKwvr6fD7V\n",
              "1tYqMzNTPp8v1F5aWiq/36/y8nLt3LmzyT6SNHDgwGaPl5ycrNzcXE2aNCnUXlRUpNra2rZMs9UI\n",
              "XwAAdGGXGy9pwX/+P0vHWDv9E7ldN1g6RjThni8AAAAbceYLAIAuLNbZTWunf2L5GPgG4QsAgC7M\n",
              "MAwuCdqMy44AAAA2InwBAADYiPAFAABgI1vu+dq4caMee+wxvf7665o6daomTZqkY8eOKT4+XpKU\n",
              "mZmphQsX2lEKAADoYBwOh3w+n+Li4kJtZWVlCgaDmjJlSlhfl8slwzBUUFCgLVu2hNqrq6s1b948\n",
              "OZ3OJvscOXJEkrRr164m2xISEuRwOJSTk6NevXqF2quqqrR27dp2m2PYHCw56rf4/X698sorysjI\n",
              "CGsvKCjQ1KlTrR4eAAB0cM8++6yeffbZNu3z17/+tdn2WbNmtbhPRUVFi9uutl97s/Sy45UrVzR7\n",
              "9mytW7cu7BUAAAAgsq5cuRLpEjod0zRb1c/SM1/5+fm68847m30v0tNPP63c3FwNGzZMeXl58nq9\n",
              "zR4jEAgoEAiEtTU2NlpSLwAAnV1sbKwcDocqKyvVt29fxcbGXvXVP2gd0zR19uxZGYbR5H2U32VZ\n",
              "+Proo49UUlKiPXv2NNn2xz/+UbfccotM09S//uu/6oEHHghdj/2uvLw8LVu2LKztu5cwAQBA6zgc\n",
              "DqWkpKiqqkqVlZWRLqdTMQxDiYmJcjqdV+9ntvYcWRu99NJLev7550OXG0+dOqUePXpo2bJleuKJ\n",
              "J8L6xsXF6eTJk+rdu3eT4zR35is3N1dr1qyxomwAALoE0zTV0NDA1aR2FBMTc83gJVl45uuJJ54I\n",
              "C1mTJk3Sk08+qQceeECnT59W//79JUklJSXq379/s8FLktxud5P7xVozMQAA0LKvL49d6xIZ2p/t\n",
              "rxcKBAK6//77FQgE5HA41KdPH7355pt2lwEAABAR3yt8BQKBNn96sbS0NPT9wYMHv8+wAAAAUa9N\n",
              "j5r48MMPNXz4cN16662SpEOHDum3v/2tJYUBAAB0Rm0KXwsWLNDLL7+svn37SpLGjBmjt99+25LC\n",
              "AAAAOqM2ha+LFy9qwoQJoZ8Nw1BsbGy7FwUAANBZtSl8uVwuBYPB0MPYjh8/zicPAQAA2qBN4Wv+\n",
              "/PmaOnWqzp49qyVLlmjixInc8wUAANAGbfq048yZM+X1evXGG2/o8uXLKi4uDrsMCQAAgKtr86Mm\n",
              "xo8fr/Hjx1tRCwAAQKfXpvA1efLkJi/f7Nmzp8aNG6cFCxa0+dlfAAAAXU2b7vlKS0uTy+VSVlaW\n",
              "Zs+erdjYWN188806ePCgfv3rX1tVIwAAQKfRpjNff/nLX7R3797QJxynT5+uiRMnat++fRoxYoQl\n",
              "BQIAAHQmbTrzde7cubDLjoZhqLq6Wi6XS3Fxce1eHAAAQGfTpjNfd999t37yk59o5syZkqR///d/\n",
              "1z/8wz/o4sWL3O8FAADQCm0KX2vXrtX69eu1fft2GYahn/70p+rXr5+6d++u9957z6oaAQAAOo02\n",
              "P+F+3rx5+t3vfqeUlBQtX75cv//9762qDQAAoNNp9Zmvuro6bd26VRs2bFBZWZkuXbqk/fv3a+jQ\n",
              "oVbWBwAA0Km06szXL3/5S91yyy168803lZOTo4qKCvXs2ZPgBQAA0EatOvO1ZcsW3X777Zo7d65+\n",
              "/OMfyzCMJg9bBQAAwLW16sxXVVWVZs6cqeeff17JyclasmSJgsFgqwfZuHGjDMPQ9u3bJUlnzpzR\n",
              "lClTNGjQIA0fPlx79uz5XsUDAABEm1aFr+7duysrK0t/+ctftHPnTtXX1+vy5csaP368/u3f/u2q\n",
              "+/r9fr3yyivKyMgItT399NPKyMjQZ599po0bN+rRRx9tU5gDAACIVm36tKMkDRs2TKtXr9bJkyf1\n",
              "1FNP6e23326x75UrVzR79mytW7cu7Dlgr776qh5//HFJ0tixY3XzzTfrz3/+c7PHCAQCunDhQthX\n",
              "Y2NjW8sGAADoENocvr7mcrk0bdq0q4av/Px83XnnnUpLSwu1nTt3TsFgUDfddFOozePxqKKiotlj\n",
              "5OXlKT4+PuzrwIED37dsAACAiPre4etaPvroI5WUlGjJkiXXdZzFixerpqYm7Cs9Pb2dqgQAALBX\n",
              "m55w3xZ79+6V3+/XoEGDJEmnTp3SnDlztGzZMrlcLp06dSp09svv9yspKanZ47jd7iavLvr6xd4A\n",
              "AADRxrIzX0888YSqqqrk9/vl9/uVkZGhwsJCPfHEE5o+fbpefvllSdL777+vkydP6q677rKqFAAA\n",
              "gA7DsjNfV/P73/9e//zP/6xBgwYpNjZWxcXFiomJiUQpAAAAtrItfJWWloa+79+/v9555x27hgYA\n",
              "AOgwLLvsCAAAgKYIXwAAADYifAEAANiI8AUAAGAjwhcAAICNCF8AAAA2InwBAADYiPAFAABgI8IX\n",
              "AACAjQhfAAAANiJ8AQAA2IjwBQAAYCPCFwAAgI0IXwAAADYifAEAANiI8AUAAGAjwhcAAICNXFYe\n",
              "/N5779WpU6fkcDj0wx/+UGvXrtXo0aPl8XjkdrvVrVs3SdLixYs1Y8YMK0sBAADoECwNX6+++qp6\n",
              "9uwpSXr99dfl8/n017/+VZK0detWpaamWjk8AABAh2Np+Po6eElSTU2NDMNo8zECgYACgUBYW2Nj\n",
              "4/WWBgAAEBGWhi9JmjVrlnbv3i1J2rFjR1i7aZpKT0/XqlWr1Ldv32b3z8vL07Jly8LaMjIyrCsY\n",
              "AADAQoZpmqYdA/3hD3/Q1q1btWPHDlVUVCgpKUnBYFBLlizR3/72t7Bg9m3NnfnKzc3VmjVr7Cgb\n",
              "AACgXdkWviSpW7duOnHihHr37h1qq6qq0uDBg1VbW9vq42RnZys/P9+KEgEAACxl2aMmzp8/r8rK\n",
              "ytDP27dvV+/evRUXF6fz58+H2jdv3qzRo0dbVQYAAECHYtk9XzU1NZo+fbouXbokh8Ohvn376q23\n",
              "3tLp06c1bdo0NTY2yjRNeb1ebdq0yaoyAAAAOhTLwldycrIOHDjQ7LbDhw9bNSwAAECHxhPuAQAA\n",
              "bET4AgAAsBHhCwAAwEaELwAAABsRvgAAAGxE+AIAALAR4QsAAMBGhC8AAAAbEb4AAABsRPgCAACw\n",
              "EeELAADARoQvAAAAGxG+AAAAbET4AgAAsBHhCwAAwEaELwAAABsRvgAAAGxkafi69957NXLkSKWm\n",
              "pmrixIk6fPiwJOmzzz7T+PHjNXjwYI0dO1Yff/yxlWUAAAB0GJaGr1dffVUffvihPvjgA2VnZ8vn\n",
              "80mS5s6dqzlz5ujTTz9VTk5OqB0AAKCzszR89ezZM/R9TU2NDMPQmTNndPDgQc2cOVOSNG3aNB0/\n",
              "flxHjx5t9hiBQEAXLlwI+2psbLSybAAAAMu4rB5g1qxZ2r17tyRpx44dOn78uAYMGCCX66uhDcNQ\n",
              "UlKSKioqNHDgwCb75+XladmyZWFtGRkZVpcNAABgCctvuN+0aZOOHz+uFStWKCcnp837L168WDU1\n",
              "NWFf6enpFlQKAABgPcvPfH0tMzNTjz/+uBITE1VVVaWGhga5XC6ZpqmKigolJSU1u5/b7Zbb7Q5r\n",
              "czqddpQMAADQ7iw783X+/HlVVlaGft6+fbt69+6tfv36acyYMSouLpYklZSUKDExsdlLjgAAAJ2N\n",
              "ZWe+ampqNH36dF26dEkOh0N9+/bVW2+9JcMwtH79evl8Pq1cuVI9evTQxo0brSoDAACgQ7EsfCUn\n",
              "J+vAgQPNbhsyZIj2799v1dAAAAAdFk+4BwAAsBHhCwAAwEaELwAAABsRvgAAAGxE+AIAALAR4QsA\n",
              "AMBGhC8AAAAbEb4AAABsRPgCAACwEeELAADARoQvAAAAGxG+AAAAbET4AgAAsBHhCwAAwEaELwAA\n",
              "ABsRvgAAAGxkWfiqr6/X1KlTNXjwYI0aNUr33HOPjh49KkmaNGmSUlJSlJqaqtTUVBUUFFhVBgAA\n",
              "QIfisvLgc+bM0U9+8hMZhqEXX3xRs2fPVmlpqSSpoKBAU6dOtXJ4AACADseyM19xcXG67777ZBiG\n",
              "JCkjI0N+v9+q4QAAAKKCbfd8rVmzRg8++GDo56efflojRozQjBkzVFZW1uJ+gUBAFy5cCPtqbGy0\n",
              "o2QAAIB2Z0v4WrlypY4ePaq8vDxJ0h//+Ef93//9nz788ENNnDhRDzzwQIv75uXlKT4+PuzrwIED\n",
              "dpQNAADQ7gzTNE0rB1i9erW2bNmid999Vz179my2T1xcnE6ePKnevXs32RYIBBQIBMLacnNztWbN\n",
              "GivKBQAAsJSlN9zn5+dr8+bNYcGroaFB586dU//+/SVJJSUl6t+/f7PBS5LcbrfcbndYm9PptLJs\n",
              "AAAAy1gWvk6cOKGnnnpKXq9XkydPlvRVkNq1a5fuv/9+BQIBORwO9enTR2+++aZVZQAAAHQoloWv\n",
              "xMREtXRF8+DBg1YNCwAA0KHxhHsAAAAbEb4AAABsRPgCAACwEeELAADARoQvAAAAGxG+AAAAbET4\n",
              "AgAAsBHhCwAAwEaELwAAABsRvgAAAGxE+AIAALAR4QsAAMBGhC8AAAAbEb4AAABsRPgCAACwkWGa\n",
              "phnpItrqoYceksfjabfjNTY26sCBA0pPT5fT6Wy340YK8+nYOtN8OtNcJObT0TGf1klOTtZvfvOb\n",
              "djse2l9Uhq/2duHCBcXHx6umpkY9evSIdDnXjfl0bJ1pPp1pLhLz6eiYDzoLLjsCAADYiPAFAABg\n",
              "I8IXAACAjQhfktxut5577jm53e5Il9IumE/H1pnm05nmIjGfjo75oLPghnsAAAAbceYLAADARoQv\n",
              "AAAAGxG+AAAAbNRlwteCBQvk8XhkGIY++OCDFvtt2LBBgwYN0q233qpf/vKXCgaD9hXZBq2ZT2lp\n",
              "qbp166bU1NTQ16VLl+wttJXq6+s1depUDR48WKNGjdI999yjo0ePNtv3rbfe0tChQzVo0CA99NBD\n",
              "unDhgs3VXltr5+P3++V0OsP+Rp9//nkEKr66e++9VyNHjlRqaqomTpyow4cPN9svWtZPa+YTTevn\n",
              "axs3bpRhGNq+fXuz26Nh7Xzb1eYTLWtHkjwej4YMGRKqc+vWrc32i5b1g3ZgdhF//vOfzePHj5vJ\n",
              "ycnm4cOHm+1TVlZmDhgwwKyqqjKvXLli/vSnPzVffPFFewttpdbMZ/fu3eaoUaNsrev7unTpkvn2\n",
              "22+bV65cMU3TNNetW2feddddTfrV1taa/fr1Mz/55BPTNE1z3rx55qJFi+wstVVaO5/y8nIzPj7e\n",
              "3uK+h+rq6tD3r732mjly5MgmfaJp/bRmPtG0fkzzq39L48aNMzMyMszXX3+9yfZoWTtfu9Z8omXt\n",
              "mKZ51f9Ofy2a1g+uX5c58/WjH/1IiYmJV+2zbds2/exnP9NNN90kwzD0+OOPa/PmzTZV2DatmU80\n",
              "iYuL03333SfDMCRJGRkZ8vv9Tfr96U9/0ujRozV06FBJ0q9+9asO+Tdq7XyiRc+ePUPf19TUhOb1\n",
              "bdG0flozn2hy5coVzZ49W+vWrWvxsQXRsnak1s2ns4mm9YPr54p0AR1JRUWFkpOTQz97PB5VVFRE\n",
              "sKLr9/nnn2vMmDFyOp36l3/5F/3qV7+KdEmtsmbNGj344INN2pv7G1VVVamhoUEuV8f959zSfCTp\n",
              "yy+/1NixY9XY2KipU6fqmWee6ZAvDZ41a5Z2794tSdqxY0eT7dG2fq41Hyl61k9+fr7uvPNOpaWl\n",
              "tdgnmtZOa+YjRc/akb7692aaptLT07Vq1Sr17ds3bHu0rR9cn4614tCuxowZoxMnTig+Pl4nTpzQ\n",
              "fffdpz59+uif/umfIl3aVa1cuVJHjx7V//zP/0S6lHZxtfkMGDBAJ0+eVL9+/fTFF19oxowZeuGF\n",
              "F/Tb3/42ApVe3aZNmyRJf/jDH5STk9NiYIkW15pPtKyfjz76SCUlJdqzZ0+kS2kXrZ1PNK2dPXv2\n",
              "KCkpScFgUEuWLFFmZmbUrx9cny5z2bE1kpKSdOzYsdDPfr9fSUlJEazo+vTo0UPx8fGSpMTERD3y\n",
              "yCPau3dvhKu6utWrV+u1117Tn/70J91www1Ntjf3NxowYECH+3/uX7vWfNxut/r16ydJuvHGG/XY\n",
              "Y491+L9RZmamdu/erXPnzoW1R+v6aWk+0bJ+9u7dK7/fr0GDBsnj8ei9997TnDlz9NJLL4X1i5a1\n",
              "09r5RNPa+XodxMTE6Mknn2y2zmhdP/ieIn3Tmd2uduPj559/3uSGx3Xr1tlbYBtdbT6VlZVmY2Oj\n",
              "aZqmeeHCBXP8+PHmhg0bbKyubV544QVzzJgx5hdffNFinwsXLph9+/YNu2n4qaeesqvENmnNfE6f\n",
              "Pm1evnzZNE3TrK+vNx9++GEzNzfXrhJbpbq62jx58mTo59dff91MSEgIfZjga9Gyflo7n2hbP1+7\n",
              "6667mr1BPZrWzre1NJ9oWDumaZoXL14M+4DHCy+8YE6cOLFJv2hZP2gfXSZ8zZkzx0xISDCdTqfZ\n",
              "r18/89ZbbzVN0zSzsrLMN954I9SvsLDQ9Hq9ptfrNR977LHQ4u5oWjOfdevWmcOGDTNHjhxpDhs2\n",
              "zHzuueea/A9MR3H8+HFTkun1es1Ro0aZo0aNMtPT003TNM3c3FzzpZdeCvV94403zCFDhpi33nqr\n",
              "+eCDD5rnz5+PVNktau18SkpKzNtuuy30N5o/f75ZX18fydKb8Pv95tixY83hw4ebI0eONO++++5Q\n",
              "4I/G9dPa+UTT+vm2b4eVaFw739XSfKJh7ZjmV6EqNTXVHDFihDl8+HDzZz/7mVleXm6aZnSuH7QP\n",
              "3u0IAABgI+75AgAAsBHhCwAAwEaELwAAABsRvgC0isfj0dChQ9XQ0BBqu/3221VaWhq5ogAgChG+\n",
              "ALRaIBDQhg0bIl0GAEQ1wheAVlu6dKmWL1+uurq6sPYzZ87ooYce0ogRIzR8+HCtX78+QhUCQMdH\n",
              "+ALQaqNGjdLkyZNVUFAQ1v7rX/9aQ4YM0d/+9jft2rVLK1as0HvvvRehKgGgYyN8AWiT5cuXa82a\n",
              "NWGv43n33Xc1d+5cSVK/fv300EMP6d13341UiQDQoRG+ALSJx+PRo48+qhUrVrTYxzAMGysCgOhC\n",
              "+ALQZkuWLFFxcbEqKyslSf/4j/+oV155RZJ09uxZvfbaa7rnnnsiWSIAdFiELwBt1qdPHy1YsEBV\n",
              "VVWSpLVr1+qTTz7RiBEjNHnyZD3zzDO64447IlwlAHRMvNsRAADARpz5AgAAsBHhCwAAwEaELwAA\n",
              "ABsRvgAAAGxE+AIAALAR4QsAAMBGhC8AAAAbEb4AAABsRPgCAACwEeELAADARv8fgP/pwyxHwfUA\n",
              "AAAASUVORK5CYII=\n",
              "\">\n",
              "        \n",
              "      </div>\n",
              "      <script></script>\n",
              "      <script type=\"text/javascript\">\n",
              "        (() => {\n",
              "          const chartElement = document.getElementById(\"chart-15bdc385-a14c-421a-9e43-7d6ad09cf238\");\n",
              "          async function getCodeForChartHandler(event) {\n",
              "            const chartCodeResponse =  await google.colab.kernel.invokeFunction(\n",
              "                'getCodeForChart', [\"chart-15bdc385-a14c-421a-9e43-7d6ad09cf238\"], {});\n",
              "            const responseJson = chartCodeResponse.data['application/json'];\n",
              "            await google.colab.notebook.addCell(responseJson.code, 'code');\n",
              "          }\n",
              "          chartElement.onclick = getCodeForChartHandler;\n",
              "        })();\n",
              "      </script>\n",
              "      <style>\n",
              "        .colab-quickchart-chart-with-code  {\n",
              "            display: block;\n",
              "            float: left;\n",
              "            border: 1px solid transparent;\n",
              "        }\n",
              "\n",
              "        .colab-quickchart-chart-with-code:hover {\n",
              "            cursor: pointer;\n",
              "            border: 1px solid #aaa;\n",
              "        }\n",
              "      </style>"
            ]
          },
          "metadata": {}
        },
        {
          "output_type": "display_data",
          "data": {
            "text/plain": [
              "import numpy as np\n",
              "from google.colab import autoviz\n",
              "\n",
              "def time_series_multiline(df, timelike_colname, value_colname, series_colname, figscale=1, mpl_palette_name='Dark2'):\n",
              "  from matplotlib import pyplot as plt\n",
              "  import seaborn as sns\n",
              "  figsize = (10 * figscale, 5.2 * figscale)\n",
              "  palette = list(sns.palettes.mpl_palette(mpl_palette_name))\n",
              "  def _plot_series(series, series_name, series_index=0):\n",
              "    if value_colname == 'count()':\n",
              "      counted = (series[timelike_colname]\n",
              "                 .value_counts()\n",
              "                 .reset_index(name='counts')\n",
              "                 .rename({'index': timelike_colname}, axis=1)\n",
              "                 .sort_values(timelike_colname, ascending=True))\n",
              "      xs = counted[timelike_colname]\n",
              "      ys = counted['counts']\n",
              "    else:\n",
              "      xs = series[timelike_colname]\n",
              "      ys = series[value_colname]\n",
              "    plt.plot(xs, ys, label=series_name, color=palette[series_index % len(palette)])\n",
              "\n",
              "  fig, ax = plt.subplots(figsize=figsize, layout='constrained')\n",
              "  df = df.sort_values(timelike_colname, ascending=True)\n",
              "  if series_colname:\n",
              "    for i, (series_name, series) in enumerate(df.groupby(series_colname)):\n",
              "      _plot_series(series, series_name, i)\n",
              "    fig.legend(title=series_colname, bbox_to_anchor=(1, 1), loc='upper left')\n",
              "  else:\n",
              "    _plot_series(df, '')\n",
              "  sns.despine(fig=fig, ax=ax)\n",
              "  plt.xlabel(timelike_colname)\n",
              "  plt.ylabel(value_colname)\n",
              "  return autoviz.MplChart.from_current_mpl_state()\n",
              "\n",
              "chart = time_series_multiline(df, *['No', 'count()', 'Name'], **{})\n",
              "chart"
            ],
            "text/html": [
              "      <div class=\"colab-quickchart-chart-with-code\" id=\"chart-8f27e9b5-405a-4b6f-9d4f-adef1080c652\">\n",
              "        <img src=\"data:image/png;base64,iVBORw0KGgoAAAANSUhEUgAAAl8AAAEPCAYAAAB82aF3AAAAOXRFWHRTb2Z0d2FyZQBNYXRwbG90\n",
              "bGliIHZlcnNpb24zLjcuMSwgaHR0cHM6Ly9tYXRwbG90bGliLm9yZy/bCgiHAAAACXBIWXMAAA9h\n",
              "AAAPYQGoP6dpAAAk0ElEQVR4nO3df3QU9b3/8dfs5ge/TIiHIJSYLCFA5DcEIr8KsdpLtCUqYEXr\n",
              "la0BwyleuKRcKBdSQ/EA9x5MCnhaSG+OqeVU2m/AlqrlD0WUCB6UH95eQ68Gdgkx4YcaSTAkbJL5\n",
              "/sFxdW8S2MDubH48H+fMkf3MZ2ben4SPvpyZnTFM0zQFAAAAS9hCXQAAAEB3QvgCAACwEOELAADA\n",
              "QoQvAAAACxG+AAAALET4AgAAsBDhCwAAwEKELwAAAAt1+fC1ZcuWUJcAAADgFRbqAoLtzJkzoS4B\n",
              "AIAOxzRNNTY2qqmpKdSldBnh4eGy2+037NflwxcAAPB19epVVVVVqa6uLtSldCmGYSguLk59+vS5\n",
              "bj/CFwAA3Uhzc7NcLpfsdru+853vKCIiQoZhhLqsTs80TV28eFEVFRUaOnTodc+AEb4AAOhGrl69\n",
              "qubmZt15553q1atXqMvpUmJjY+V2u+XxeK4bvrr8DfcAAKAlm40IEGj+nkHkJw8AAGAhwhcAAAgq\n",
              "h8Oh5ORkNTY2etsmTpyoAwcOhK6oECJ8AQCAoGtoaFBhYWGoy+gQCF8AACDocnNztX79+haPt/jD\n",
              "H/6gu+++W+PHj9fYsWP117/+1bsuLS1NP/vZzzRjxgzFx8crJydHr7/+uqZPny6Hw6G8vDxv308+\n",
              "+UQ/+MEPNGnSJI0ZM0YvvPCCZWNrL77tCAAAgm7s2LG65557lJ+frzVr1njbZ82apccee0yGYcjt\n",
              "dmvy5Mk6c+aMIiMjJV17WPpbb72lmpoaORwOVVdX6+DBg6qsrNTw4cP11FNP6bbbbtNjjz2mnTt3\n",
              "Kjk5WXV1dZo8ebLuvvtuTZo0KVRDbhPhCwAAWGL9+vVKTU3V4sWLvW0ul0s//vGPVVFRobCwMH3x\n",
              "xRdyuVxKTk6WJM2bN092u10xMTFKTEzUD3/4QxmGoUGDBnkf7RAREaGPPvpI8+fP9+63trZWpaWl\n",
              "hC8AANB9ORwOPf7443ruuee8bfPnz9emTZs0b948SdLtt9+u+vp67/oePXp4/2y321t8bmxsVHh4\n",
              "uG6//XadOHEi+IMIAO75AgAAllm7dq127typyspKSVJ1dbUGDx4sSdq5c6eqq6vbvc/hw4crKipK\n",
              "L774oretrKxMX3zxRWCKDjDCFwAAsEy/fv20dOlSVVVVSZK2bNmiefPmafz48Tp+/Lji4+Pbvc+w\n",
              "sDC9+uqr2rNnj8aMGaORI0cqMzNTV65cCXT5AWGYpmmGuohgys7O9vk2BAAA3Vl9fb1cLpcGDx7s\n",
              "cwkPt87fny1nvgAAACxE+AIAALAQ4QsAAMBChC8AAAALEb4AAAAsRPgCAACwEE+4BwAAIVVQUKDi\n",
              "4mLZbN+cE6qrq1N4eLjCw8N9+iYmJiozM1MrVqzwvv9Rkjwej5YvX66jR4/q8OHDPttcvnxZJSUl\n",
              "mj59uvr06eOzbsqUKXr22WeDMKq2Eb4AAEBIVVZWqqCgQA6Hw9uWm5srt9utoqIin75Op1O1tbVa\n",
              "sGCBnE6nt/3AgQNyu91yuVzat29fi20kKSkpqdX9WY3wBQBAN2aapq40eoJ6jJ5h4TIMI6jH6EwI\n",
              "XwAAdGNXGj0atvMXQT3Gx0/8Ur3CI4J6jM6EG+4BAAAsFNQzX0uXLtXevXt15swZHT9+XOPGjWu1\n",
              "X2FhoTZt2qTm5mZ973vf069//WufG+xM09S9996rY8eO6csvvwxmyQAAdCs9w8L18RO/DPox8I2g\n",
              "nvmaN2+eSkpKlJCQ0GYfl8ulnJwcHTx4UGVlZTp//rwKCgp8+uTn52vIkCHBLBUAgG7JMAz1Co8I\n",
              "6sL9Xr6CGr5mzJihuLi46/YpLi5WRkaGBgwYIMMwtHjxYr388sve9R999JH+/Oc/6+c///kNj9fQ\n",
              "0KCamhqfpamp6ZbHAQAAECghv+ervLzc58yYw+FQeXm5pGvP7Fi0aJF27Nghu91+w31t3LhR0dHR\n",
              "PsuRI0eCVjsAAEB7dehvO65bt05z5szRXXfdJbfbfcP+q1evVnZ2tk9bTk5OkKoDAACBYLPZ5HQ6\n",
              "1aNHD2/b6dOn5fF4lJ6e7tM3LCxMhmEoPz9fu3bt8rZXV1dryZIlstvtLbYpLS2VJO3fv7/FukGD\n",
              "BgV6ODcU8vAVHx+vU6dOeT+73W7Fx8dLkt5++22Vl5frhRdeUGNjo2pqauRwOPT+++8rNja2xb4i\n",
              "IyN9nnYrya8zZgAAIHR+8Ytf6Be/aN/jLj788MNW25988sk2t/n6ylqohfyy49y5c7V3716dO3dO\n",
              "pmlq+/btmj9/viTp4MGDOnPmjNxut0pKShQVFSW3291q8AIAAOgMghq+srKyFBcXp4qKCs2aNUtJ\n",
              "SUmSpIULF2rv3r2Srr2jad26dZo2bZqSkpIUGxurrKysYJYFAAAQMoZpmmaoiwim7Oxs5eXlhboM\n",
              "AAA6hPr6erlcLg0ePNjnHivcOn9/tiG/7AgAANCdEL4AAAAsFPJvOwIAgO6toKBAxcXFstm+OSdU\n",
              "V1en8PBwn9cNStfuFc/MzNSKFSt8nnDg8Xi0fPlyHT16VIcPH/bZ5vLlyyopKdH06dPVp08fn3VT\n",
              "pkxRSkqK8vPzfY7V0NCgzZs3KyUlJZBDlUT4AgCgWzNNU+bVuqAew4jodd1XDFVWVqqgoEAOh8Pb\n",
              "lpubK7fbraKiIp++TqdTtbW1WrBggZxOp7f9wIEDcrvdcrlc2rdvX4ttJCkpKanV/SUkJCgnJ0dp\n",
              "aWne9qKiItXW1rZnmH4jfAEA0I2ZV+tUlhUV1GMk7aiREdk7qMfoTLjnCwAAwEKc+QIAoBszInop\n",
              "aUdN0I+BbxC+AADoxgzD4JKgxbjsCAAAYCHCFwAAgIUIXwAAABbini8AABBSNptNTqfT532Ip0+f\n",
              "lsfjUXp6uk/fsLAwGYah/Px87dq1y9teXV2tJUuWyG63t9imtLRUkrR///4W6wYNGiSbzaZVq1Yp\n",
              "JibG215VVaWtW7cGbIzfxou1AQDoRnixdvDwYm0AAIAOiPAFAABgIcIXAACAhQhfAAAAFuLbjgAA\n",
              "IKQKCgpUXFwsm+2bc0J1dXUKDw9XeHi4T9/ExERlZmZqxYoVioyM9LZ7PB4tX75cR48e1eHDh322\n",
              "uXz5skpKSjR9+nT16dPHZ92UKVOUkpKi/Px8n2M1NDRo8+bNKiws1OnTp3226d27t3bv3n3T4yV8\n",
              "AQCAkKqsrFRBQYEcDoe3LTc3V263W0VFRT59nU6namtrtWDBAjmdTm/7gQMH5Ha75XK5tG/fvhbb\n",
              "SFJSUlKr+0tISFBOTo7S0tK87UVFRaqtrVVdXV2b+7tZhC8AALox0zTludoU1GOER9hlGEZQj9GZ\n",
              "EL4AAOjGPFebtPbn+27c8RY8tyldEZFEjq9xwz0AAICFiKEAAHRj4RF2Pbcp/cYdb/EY+AbhCwCA\n",
              "bswwDC4JWozLjgAAABYifAEAAFiI84wAACCkbDabnE6nevTo4W07ffq0PB6P0tN970cLCwuTYRjK\n",
              "z8/Xrl27vO3V1dVasmSJ7HZ7i21KS0slSfv372+xbtCgQbLZbFq1apViYmK87VVVVdq6das+++yz\n",
              "Ftt8/vnntzRewzRN85b20MFlZ2crLy8v1GUAANAh1NfXy+VyafDgwT5hB7fO358tlx0BAAAsRPgC\n",
              "AACwEOELAADAQkENX0uXLpXD4ZBhGDpx4kSb/QoLCzV06FANGTJEixYtksfjkXTtxrjU1FSNGDFC\n",
              "I0eO1MqVK9Xc3BzMkgEAAIIqqOFr3rx5KikpUUJCQpt9XC6XcnJydPDgQZWVlen8+fMqKCiQJMXE\n",
              "xGjXrl0qLS3V0aNHdejQIb300kvBLBkAACCogvqoiRkzZtywT3FxsTIyMjRgwABJ0uLFi7VhwwYt\n",
              "WbJE48eP9/br0aOHxo0bJ7fbHaxyAQBACBQUFKi4uFg22zfnhOrq6hQeHq7w8HCfvomJicrMzNSK\n",
              "FSsUGRnpbfd4PFq+fLmOHj2qw4cP+2xz+fJllZSUaPr06erTp4/PuilTpiglJUX5+fk+x2poaNDm\n",
              "zZuVkpISyKFK6gDP+SovL/c5M+ZwOFReXt6i37lz51RcXKxXX321zX01NDSooaHBp62pqSlwxQIA\n",
              "gICrrKxUQUGBHA6Hty03N1dut1tFRUU+fZ1Op2pra7VgwQI5nU5v+4EDB+R2u+VyubRv374W20hS\n",
              "UlJSq/tLSEhQTk6O0tLSvO1FRUWqra0NwOhaCnn48kdNTY1mz56tlStXauLEiW3227hxo9atW+fT\n",
              "Nnny5GCXBwBAp2WapswrnqAew+gZLsMwgnqMziTk4Ss+Pl6nTp3yfna73YqPj/d+rq2tVXp6uh58\n",
              "8EFlZ2dfd1+rV69u0ScnJyewBQMA0IWYVzy6MHFLUI/R/4NlMnpFBPUYnUnIHzUxd+5c7d27V+fO\n",
              "nZNpmtq+fbvmz58v6do12vT0dKWnp2vt2rU33FdkZKSioqJ8FrvdHuwhAAAA+C2oZ76ysrL02muv\n",
              "6dy5c5o1a5Zuu+02lZWVaeHChcrIyFBGRoYSExO1bt06TZs2TZKUlpamrKwsSdKWLVt05MgRffXV\n",
              "V9qzZ48k6ZFHHtGaNWuCWTYAAN2G0TNc/T9YFvRj4BtBDV87duxotf2//uu/fD4vWrRIixYtatFv\n",
              "zZo1BC0AAILIMAwuCVos5JcdAQAAuhPCFwAAgIVC/m1HAADQvdlsNjmdTvXo0cPbdvr0aXk8HqWn\n",
              "p/v0DQsLk2EYys/P165du7zt1dXVWrJkiex2e4ttSktLJV17beH/XTdo0CDZbDatWrVKMTEx3vaq\n",
              "qipt3bo1YGP8NsM0TTMoe+4gsrOzlZeXF+oyAADoEOrr6+VyuTR48GCfsINb5+/PlsuOAAAAFiJ8\n",
              "AQAAWIjwBQAAYCHCFwAAgIUIXwAAABbiURMAACCkCgoKVFxcLJvtm3NCdXV1Cg8PV3i476uJEhMT\n",
              "lZmZqRUrVigyMtLb7vF4tHz5ch09elSHDx/22eby5csqKSnR9OnT1adPH591U6ZMUUpKivLz832O\n",
              "1dDQoM2bNyslJSWQQ5VE+AIAoFszTVNXm64E9RgR9p4yDKPN9ZWVlSooKJDD4fC25ebmyu12q6io\n",
              "yKev0+lUbW2tFixYIKfT6W0/cOCA3G63XC6X9u3b12IbSUpKSmp1fwkJCcrJyVFaWpq3vaioSLW1\n",
              "te0Zpt8IXwAAdGNXm65o6f+7K6jH2PrISUWG9QrqMToT7vkCAACwEGe+AADoxiLsPbX1kZNBPwa+\n",
              "QfgCAKAbMwyDS4IW47IjAACAhQhfAAAAFrqpy46lpaWqqKhQz549NXr0aPXt2zfAZQEAAHRNfoev\n",
              "2tpabd68Wb/97W/Vq1cv3XHHHaqvr9epU6eUmpqqVatW6d577w1mrQAAoAuy2WxyOp3q0aOHt+30\n",
              "6dPyeDxKT0/36RsWFibDMJSfn69du3Z526urq7VkyRLZ7fYW25SWlkqS9u/f32LdoEGDZLPZtGrV\n",
              "KsXExHjbq6qqtHXr1oCN8dsM0zRNfzpOnDhRTz75pB599FHdcccd3vbm5mYdPHhQ27dvV1pamrKy\n",
              "soJS6M3Kzs5WXl5eqMsAAKBDqK+vl8vl0uDBg33CDm6dvz9bv898vfvuuz6P8f+azWbTzJkzNXPm\n",
              "TDU0NNxctQAAwFLNzc2hLqHL8fN8lv/hq7XgdTN9AABA6ERERMhms6myslKxsbGKiIi47qt/4B/T\n",
              "NHXx4kUZhtHifZT/l9/h64c//KH+/d//XVOnTm2x7ssvv1RhYaH69OnT4S47AgCAb9hsNg0ePFhV\n",
              "VVWqrKwMdTldimEYiouLk91uv24/v8PXhg0btHr1apWWlmrSpEneG+7/8Y9/6NNPP9WSJUv01FNP\n",
              "3XLhAAAguCIiIhQfH6/GxkY1NTWFupwuIzw8/IbBS2pH+BozZoxee+01nT17Vm+//bYqKirUq1cv\n",
              "/fjHP9b06dMVFsbD8gEA6Cy+vjx2o0tkCLx2J6bq6mo98cQTPm3//d//rTFjxgSsKAAAgK6q3U+4\n",
              "dzqdfrUBAACgJb/PfF24cEHnzp3TlStX9Pe//937dcpLly7pq6++ClqBAAAAXYnf4evll1/Wr371\n",
              "K1VWViojI8PbHh0drZUrVwalOAAAgK7G7/C1bNkyLVu2TOvXr1dOTk4wawIAAOiy2n3DfU5Ojpqb\n",
              "m3Xu3Dk1NjZ62+Pj4wNaGAAAQFfU7hvuf/e736lv374aPXq0UlJSlJKSookTJ7bad+nSpXI4HDIM\n",
              "QydOnGhzn4WFhRo6dKiGDBmiRYsWyePx+LUOAACgs2l3+PrlL3+p999/X59//rkuXryoixcv6sKF\n",
              "C632nTdvnkpKSpSQkNDm/lwul3JycnTw4EGVlZXp/PnzKigouOE6AACAzqjd4atfv34aPny4X31n\n",
              "zJihuLi46/YpLi5WRkaGBgwYIMMwtHjxYr388ss3XAcAANAZtfuer4ceeki/+tWv9Pjjj6tHjx7e\n",
              "9qioqJsqoLy83OfMmMPhUHl5+Q3XtaahoUENDQ0+bbw2AQAAdCTtPvO1Zs0aZWdna8CAAYqJiVHf\n",
              "vn0VExMTjNrabePGjYqOjvZZjhw5EuqyAAAAvNodvpqbm71LU1OT9583Kz4+XmfOnPF+drvd3m9O\n",
              "Xm9da1avXq1Lly75LKmpqTddGwAAQKC1O3wF2ty5c7V3716dO3dOpmlq+/btmj9//g3XtSYyMlJR\n",
              "UVE+iz9vFwcAALBKu8OXzWaT3W5vsbQmKytLcXFxqqio0KxZs5SUlCRJWrhwofbu3StJSkxM1Lp1\n",
              "6zRt2jQlJSUpNjZWWVlZN1wHAADQGRnm1y9p9NO33+N45coVvfTSS2pqatK//du/Bby4QMjOzlZe\n",
              "Xl6oywAAAJB0E2e+evfu7V369eun7OxsFRcXB6M2AACALueW7/n6xz/+oc8++ywQtQAAAHR57X7O\n",
              "V0xMjAzDkCTvux23bdsW2KoAAAC6qHaHr2+/ozEsLEwDBgzgG4UAAAB+anf4SkhIUF1dnTeExcTE\n",
              "qFevXoGuCwAAoEtqd/g6dOiQ5s6dqwEDBkiSzp8/r927d2vKlCkBLw4AAKCraXf4+vrbjdOmTZN0\n",
              "LYwtX75c7733XsCLAwAA6Gra/W3HK1eueIOXJE2dOlX19fUBLQoAAKCranf46tOnj9544w3v5zff\n",
              "fFO9e/cOaFEAAABdVbsvO27dulVz5szxfsOxublZe/bsCXhhAAAAXVG7w1dlZaU++OADnT9/XpJ0\n",
              "xx136MiRIwEvDAAAoCtq92XHnJwcxcbGatSoURo1apT69eunnJycYNQGAADQ5dzy64UMw1BTU1Mg\n",
              "agEAAOjy2h2+brvtNh06dMj7+d1339Vtt90W0KIAAAC6qnbf8/Wf//mfevjhh5WcnCxJ+uSTT/TK\n",
              "K68EvDAAAICuqN3ha8qUKTp58qQOHz4s6dpzvvr27RvougAAALqkdocv6dr7HB944IFA1wIAANDl\n",
              "3fIN9wAAAPAf4QsAAMBChC8AAAALEb4AAAAsRPgCAACwEOELAADAQoQvAAAACxG+AAAALET4AgAA\n",
              "sBDhCwAAwEKELwAAAAsRvgAAACxE+AIAALAQ4QsAAMBCQQ1fn3zyiaZOnaphw4Zp0qRJ+uijj1r0\n",
              "aW5u1ooVKzRq1CglJycrMzNTV69e9a7/j//4D40YMULjxo3T5MmTdeTIkWCWDAAAEFRBDV9ZWVl6\n",
              "+umn9fHHH2vVqlVyOp0t+hQWFurYsWM6duyYTp48KZvNpi1btkiSTpw4oV//+tc6cuSITpw4oWee\n",
              "eUbPPPNMMEsGAAAIqqCFrwsXLuiDDz7QE088IUmaO3euzp49q7KyMp9+H374oe677z5FRETIMAzd\n",
              "f//9+v3vfy9JMgxDHo9HX331lSTpyy+/VFxcXLBKBgAACLqwYO347NmzGjhwoMLCrh3CMAzFx8er\n",
              "vLxcSUlJ3n4pKSnasWOHnnnmGfXs2VN/+tOf5Ha7JUljx47V8uXLNXjwYN1+++2KjIzUO++80+Yx\n",
              "Gxoa1NDQ4NPW1NQU+MEBAADcpJDfcO90OpWenq6ZM2dq5syZGjZsmDewuVwu7dmzR2VlZaqoqNDy\n",
              "5cv16KOPtrmvjRs3Kjo62mfhHjEAANCRBC183XnnnaqqqlJjY6MkyTRNlZeXKz4+3qefYRjKzc3V\n",
              "8ePHdejQIY0YMUIjR46UJO3evVujR4/Wd77zHUnST37yE7377rs+N+R/2+rVq3Xp0iWfJTU1NVhD\n",
              "BAAAaLegha/+/ftrwoQJ2rlzp6RrQSouLs7nkqMk1dfXq7q6WpL02WefadOmTVq5cqUkKTExUe++\n",
              "+64uX74sSXr11Vc1bNgwRUREtHrMyMhIRUVF+Sx2uz1YQwQAAGi3oN3zJUk7duyQ0+nUhg0bFBUV\n",
              "pRdffFGStHDhQmVkZCgjI0OXLl1SWlqabDabmpubtWzZMs2ePVuS9PDDD+v999/XxIkTFRkZqd69\n",
              "e+sPf/hDMEsGAAAIKsM0TTPURQRTdna28vLyQl0GAACApA5wwz0AAEB3QvgCAACwEOELAADAQoQv\n",
              "AAAACxG+AAAALET4AgAAsBDhCwAAwEKELwAAAAsRvgAAACxE+AIAALAQ4QsAAMBChC8AAAALEb4A\n",
              "AAAsRPgCAACwEOELAADAQoQvAAAACxG+AAAALET4AgAAsBDhCwAAwEKELwAAAAsRvgAAACxE+AIA\n",
              "ALAQ4QsAAMBChC8AAAALEb4AAAAsRPgCAACwEOELAADAQoQvAAAACxG+AAAALET4AgAAsBDhCwAA\n",
              "wEJBDV+ffPKJpk6dqmHDhmnSpEn66KOPWvRpbm7WihUrNGrUKCUnJyszM1NXr171ri8vL9fs2bM1\n",
              "fPhwjRgxQtu2bQtmyQAAAEEV1PCVlZWlp59+Wh9//LFWrVolp9PZok9hYaGOHTumY8eO6eTJk7LZ\n",
              "bNqyZYskyTRNPfzww3ryySf1v//7vyotLdWPfvSjYJYMAAAQVEELXxcuXNAHH3ygJ554QpI0d+5c\n",
              "nT17VmVlZT79PvzwQ913332KiIiQYRi6//779fvf/16S9OabbyoyMlKPPPKIt/8dd9wRrJIBAACC\n",
              "Lmjh6+zZsxo4cKDCwsIkSYZhKD4+XuXl5T79UlJStHfvXtXU1Mjj8ehPf/qT3G63JKm0tFSxsbGa\n",
              "P3++xo8fr4cfflinT59u85gNDQ2qqanxWZqamoI1RAAAgHYL+Q33TqdT6enpmjlzpmbOnKlhw4Z5\n",
              "A1tjY6P279+vnJwcHT9+XLNmzbruZceNGzcqOjraZzly5IhVQwEAALihoIWvO++8U1VVVWpsbJR0\n",
              "7f6t8vJyxcfH+/QzDEO5ubk6fvy4Dh06pBEjRmjkyJGSpPj4eI0fP977+Z//+Z917NgxeTyeVo+5\n",
              "evVqXbp0yWdJTU0N1hABAADaLWjhq3///powYYJ27twpSdq9e7fi4uKUlJTk06++vl7V1dWSpM8+\n",
              "+0ybNm3SypUrJUn333+/Kioq9Omnn0qSXn/9dd11110KDw9v9ZiRkZGKioryWex2e7CGCAAA0G5h\n",
              "wdz5jh075HQ6tWHDBkVFRenFF1+UJC1cuFAZGRnKyMjQpUuXlJaWJpvNpubmZi1btkyzZ8+WJPXu\n",
              "3Vvbt2/XD37wA5mmqejoaO3atSuYJQMAAASVYZqmGeoigik7O1t5eXmhLgMAAEBSB7jhHgAAoDsh\n",
              "fAEAAFiI8AUAAGAhwhcAAICFCF8AAAAWInwBAABYiPAFAABgIcIXAACAhQhfAAAAFiJ8AQAAWIjw\n",
              "BQAAYCHCFwAAgIUIXwAAABYifAEAAFiI8AUAAGAhwhcAAICFCF8AAAAWInwBAABYiPAFAABgIcIX\n",
              "AACAhQhfAAAAFiJ8AQAAWIjwBQAAYCHCFwAAgIUIXwAAABYyTNM0Q11EMM2ZM0cOhyMg+2pqatKR\n",
              "I0eUmpoqu90ekH2GCmPpeLrKOKSuM5auMg6JsXREwRpHQkKCli1bFrD9IfC6fPgKpJqaGkVHR+vS\n",
              "pUuKiooKdTm3hLF0PF1lHFLXGUtXGYfEWDqirjIOtB+XHQEAACxE+AIAALAQ4QsAAMBChK92iIyM\n",
              "1LPPPqvIyMhQl3LLGEvH01XGIXWdsXSVcUiMpSPqKuNA+3HDPQAAgIU48wUAAGAhwhcAAICFCF8A\n",
              "AAAWIny1YunSpXI4HDIMQydOnGizX2FhoYYOHaohQ4Zo0aJF8ng81hXpB3/GceDAAfXs2VPjxo3z\n",
              "LleuXLG2UD/U19froYce0rBhwzR27Fh9//vfV1lZWat9X331VSUnJ2vo0KGaM2eOampqLK62bf6O\n",
              "w+12y263+/xeTp06FYKKr++f/umfNGbMGI0bN07f/e53dfz48Vb7dfS54s84Ostc+dqLL74owzD0\n",
              "5z//udX1HXmefNv1xtFZ5onD4dDw4cO9Nf7xj39stV9HnycIIBMtvP322+bZs2fNhIQE8/jx4632\n",
              "OX36tDlw4ECzqqrKbG5uNmfPnm2+8MIL1hZ6A/6M46233jLHjh1raV0348qVK+Zrr71mNjc3m6Zp\n",
              "mtu2bTNnzpzZol9tba3Zv39/8+TJk6ZpmuaSJUvMFStWWFnqdfk7DpfLZUZHR1tb3E2orq72/nnP\n",
              "nj3mmDFjWvTpDHPFn3F0lrlimtf+/kyZMsWcPHmy+corr7RY39HnydduNI7OMk+u9+/gr3WGeYLA\n",
              "4cxXK2bMmKG4uLjr9ikuLlZGRoYGDBggwzC0ePFivfzyyxZV6B9/xtFZ9OjRQw888IAMw5AkTZ48\n",
              "WW63u0W/v/3tbxo/frySk5MlST/96U871O/F33F0Fn379vX++dKlS95xfVtnmCv+jKOzaG5u1sKF\n",
              "C7Vt27Y2H2HQ0eeJ5N84upLOME8QOGGhLqCzKi8vV0JCgvezw+FQeXl5CCu6eadOndKECRNkt9v1\n",
              "k5/8RD/96U9DXdINbdmyRQ8++GCL9tZ+L1VVVWpsbFRYWMf7697WOCTpq6++0qRJk9TU1KSHHnpI\n",
              "a9as6ZAvEX7yySf11ltvSZJef/31Fus7y1y50TikzjFX8vLyNG3aNKWkpLTZpzPME3/GIXWueWKa\n",
              "plJTU7Vp0ybFxsb6rO8s8wSB0TFmGUJmwoQJqqioUHR0tCoqKvTAAw+oX79++tGPfhTq0tq0YcMG\n",
              "lZWV6c033wx1KbfkeuMYOHCgPv30U/Xv319ffPGFHn30UT3//PNauXJlCCq9vpdeekmS9Lvf/U6r\n",
              "Vq1qM7h0dDcaR2eYK//zP/+j3bt365133gl1KbfE33F0lnnyzjvvKD4+Xh6PR2vXrtWCBQs67TxB\n",
              "YHDZ8SbFx8frzJkz3s9ut1vx8fEhrOjmREVFKTo6WpIUFxenxx57TAcPHgxxVW3bvHmz9uzZo7/9\n",
              "7W/q1atXi/Wt/V4GDhzYYf5v/ms3GkdkZKT69+8vSbr99tv11FNPdejfiyQtWLBAb731lj7//HOf\n",
              "9s42V9oaR2eYKwcPHpTb7dbQoUPlcDj03nvv6emnn9ZvfvMbn34dfZ74O47OMk++/vseHh6uf/3X\n",
              "f221xs42T3CLQn3TWUd2vZskT5061eLmyG3btllboJ+uN47KykqzqanJNE3TrKmpMadOnWoWFhZa\n",
              "WJ3/nn/+eXPChAnmF1980WafmpoaMzY21udG4p/97GdWlegXf8Zx/vx58+rVq6ZpmmZ9fb05b948\n",
              "Mycnx6oS/VJdXW1++umn3s+vvPKKOWjQIO+XCb7W0eeKv+PoTHPlazNnzmz1RvXOME++ra1xdIZ5\n",
              "cvnyZZ8vdDz//PPmd7/73Rb9Ovo8QWARvlrx9NNPm4MGDTLtdrvZv39/c8iQIaZpmmZmZqb5l7/8\n",
              "xduvoKDATExMNBMTE82nnnrK+y+BjsKfcWzbts0cMWKEOWbMGHPEiBHms88+2+I/Oh3B2bNnTUlm\n",
              "YmKiOXbsWHPs2LFmamqqaZqmmZOTY/7mN7/x9v3LX/5iDh8+3BwyZIj54IMPml9++WWoym7B33Hs\n",
              "3r3bHDlypPf38swzz5j19fWhLL0Ft9ttTpo0yRw1apQ5ZswY89577/WG/M40V/wdR2eZK9/27dDS\n",
              "mebJ/9XWODrDPDl16pQ5btw4c/To0eaoUaPMjIwM0+VymabZueYJAot3OwIAAFiIe74AAAAsRPgC\n",
              "AACwEOELAADAQoQvADfN4XAoOTlZjY2N3raJEyfqwIEDoSsKADo4wheAW9LQ0KDCwsJQlwEAnQbh\n",
              "C8Atyc3N1fr161VXV+fTfuHCBc2ZM0ejR4/WqFGjtGPHjhBVCAAdC+ELwC0ZO3as7rnnHuXn5/u0\n",
              "/8u//IuGDx+uv//979q/f7+ee+45vffeeyGqEgA6DsIXgFu2fv16bdmyxeeVPG+88YaysrIkSf37\n",
              "99ecOXP0xhtvhKpEAOgwCF8AbpnD4dDjjz+u5557rs0+hmFYWBEAdFyELwABsXbtWu3cuVOVlZWS\n",
              "pPvuu0+//e1vJUkXL17Unj179P3vfz+UJQJAh0D4AhAQ/fr109KlS1VVVSVJ2rp1q06ePKnRo0fr\n",
              "nnvu0Zo1a3T33XeHuEoACD3e7QgAAGAhznwBAABYiPAFAABgIcIXAACAhQhfAAAAFiJ8AQAAWIjw\n",
              "BQAAYCHCFwAAgIUIXwAAABYifAEAAFiI8AUAAGCh/w/14xLTA9ge1AAAAABJRU5ErkJggg==\n",
              "\">\n",
              "        \n",
              "      </div>\n",
              "      <script></script>\n",
              "      <script type=\"text/javascript\">\n",
              "        (() => {\n",
              "          const chartElement = document.getElementById(\"chart-8f27e9b5-405a-4b6f-9d4f-adef1080c652\");\n",
              "          async function getCodeForChartHandler(event) {\n",
              "            const chartCodeResponse =  await google.colab.kernel.invokeFunction(\n",
              "                'getCodeForChart', [\"chart-8f27e9b5-405a-4b6f-9d4f-adef1080c652\"], {});\n",
              "            const responseJson = chartCodeResponse.data['application/json'];\n",
              "            await google.colab.notebook.addCell(responseJson.code, 'code');\n",
              "          }\n",
              "          chartElement.onclick = getCodeForChartHandler;\n",
              "        })();\n",
              "      </script>\n",
              "      <style>\n",
              "        .colab-quickchart-chart-with-code  {\n",
              "            display: block;\n",
              "            float: left;\n",
              "            border: 1px solid transparent;\n",
              "        }\n",
              "\n",
              "        .colab-quickchart-chart-with-code:hover {\n",
              "            cursor: pointer;\n",
              "            border: 1px solid #aaa;\n",
              "        }\n",
              "      </style>"
            ]
          },
          "metadata": {}
        }
      ]
    },
    {
      "cell_type": "code",
      "source": [
        "type(df)"
      ],
      "metadata": {
        "id": "7b8jdg09znqj",
        "colab": {
          "base_uri": "https://localhost:8080/"
        },
        "outputId": "41a684e9-02cd-4b4f-b847-0b4545c5ec93"
      },
      "id": "7b8jdg09znqj",
      "execution_count": 134,
      "outputs": [
        {
          "output_type": "execute_result",
          "data": {
            "text/plain": [
              "pandas.core.frame.DataFrame"
            ]
          },
          "metadata": {},
          "execution_count": 134
        }
      ]
    },
    {
      "cell_type": "code",
      "source": [
        "df.columns\n",
        "#list(df.columns)"
      ],
      "metadata": {
        "colab": {
          "base_uri": "https://localhost:8080/"
        },
        "id": "bbXGfkHcgoCO",
        "outputId": "c0932d82-1439-4a17-963a-1e78dc99fc7a"
      },
      "id": "bbXGfkHcgoCO",
      "execution_count": 135,
      "outputs": [
        {
          "output_type": "execute_result",
          "data": {
            "text/plain": [
              "Index(['No', 'Name', 'Age'], dtype='object')"
            ]
          },
          "metadata": {},
          "execution_count": 135
        }
      ]
    },
    {
      "cell_type": "code",
      "source": [
        "df.index\n",
        "#list(df.index)"
      ],
      "metadata": {
        "colab": {
          "base_uri": "https://localhost:8080/"
        },
        "id": "RXJ5DaFOgqW6",
        "outputId": "63d0c2a7-0c6e-4710-880d-63bb1744746a"
      },
      "id": "RXJ5DaFOgqW6",
      "execution_count": 136,
      "outputs": [
        {
          "output_type": "execute_result",
          "data": {
            "text/plain": [
              "RangeIndex(start=0, stop=5, step=1)"
            ]
          },
          "metadata": {},
          "execution_count": 136
        }
      ]
    },
    {
      "cell_type": "code",
      "source": [
        "df.info()"
      ],
      "metadata": {
        "colab": {
          "base_uri": "https://localhost:8080/"
        },
        "id": "P8oqMTL0ZmNU",
        "outputId": "8c07a542-9822-4839-b880-cd303973e334"
      },
      "id": "P8oqMTL0ZmNU",
      "execution_count": 137,
      "outputs": [
        {
          "output_type": "stream",
          "name": "stdout",
          "text": [
            "<class 'pandas.core.frame.DataFrame'>\n",
            "RangeIndex: 5 entries, 0 to 4\n",
            "Data columns (total 3 columns):\n",
            " #   Column  Non-Null Count  Dtype \n",
            "---  ------  --------------  ----- \n",
            " 0   No      5 non-null      int64 \n",
            " 1   Name    5 non-null      object\n",
            " 2   Age     5 non-null      int64 \n",
            "dtypes: int64(2), object(1)\n",
            "memory usage: 248.0+ bytes\n"
          ]
        }
      ]
    },
    {
      "cell_type": "code",
      "source": [
        "df.head()\n",
        "#df.tail()"
      ],
      "metadata": {
        "colab": {
          "base_uri": "https://localhost:8080/",
          "height": 4666
        },
        "id": "1mSqW69bZwem",
        "outputId": "6670d78e-3c84-4728-c310-3ad86fe66579"
      },
      "id": "1mSqW69bZwem",
      "execution_count": 138,
      "outputs": [
        {
          "output_type": "execute_result",
          "data": {
            "text/plain": [
              "   No     Name  Age\n",
              "0   1  สมบูรณ์   23\n",
              "1   2    สมชาย   45\n",
              "2   3   สมหญิง   62\n",
              "3   4   สมหมาย   30\n",
              "4   5   สมบัติ   32"
            ],
            "text/html": [
              "\n",
              "  <div id=\"df-155e4169-66e3-4b01-b04b-decf17e640ef\" class=\"colab-df-container\">\n",
              "    <div>\n",
              "<style scoped>\n",
              "    .dataframe tbody tr th:only-of-type {\n",
              "        vertical-align: middle;\n",
              "    }\n",
              "\n",
              "    .dataframe tbody tr th {\n",
              "        vertical-align: top;\n",
              "    }\n",
              "\n",
              "    .dataframe thead th {\n",
              "        text-align: right;\n",
              "    }\n",
              "</style>\n",
              "<table border=\"1\" class=\"dataframe\">\n",
              "  <thead>\n",
              "    <tr style=\"text-align: right;\">\n",
              "      <th></th>\n",
              "      <th>No</th>\n",
              "      <th>Name</th>\n",
              "      <th>Age</th>\n",
              "    </tr>\n",
              "  </thead>\n",
              "  <tbody>\n",
              "    <tr>\n",
              "      <th>0</th>\n",
              "      <td>1</td>\n",
              "      <td>สมบูรณ์</td>\n",
              "      <td>23</td>\n",
              "    </tr>\n",
              "    <tr>\n",
              "      <th>1</th>\n",
              "      <td>2</td>\n",
              "      <td>สมชาย</td>\n",
              "      <td>45</td>\n",
              "    </tr>\n",
              "    <tr>\n",
              "      <th>2</th>\n",
              "      <td>3</td>\n",
              "      <td>สมหญิง</td>\n",
              "      <td>62</td>\n",
              "    </tr>\n",
              "    <tr>\n",
              "      <th>3</th>\n",
              "      <td>4</td>\n",
              "      <td>สมหมาย</td>\n",
              "      <td>30</td>\n",
              "    </tr>\n",
              "    <tr>\n",
              "      <th>4</th>\n",
              "      <td>5</td>\n",
              "      <td>สมบัติ</td>\n",
              "      <td>32</td>\n",
              "    </tr>\n",
              "  </tbody>\n",
              "</table>\n",
              "</div>\n",
              "    <div class=\"colab-df-buttons\">\n",
              "\n",
              "  <div class=\"colab-df-container\">\n",
              "    <button class=\"colab-df-convert\" onclick=\"convertToInteractive('df-155e4169-66e3-4b01-b04b-decf17e640ef')\"\n",
              "            title=\"Convert this dataframe to an interactive table.\"\n",
              "            style=\"display:none;\">\n",
              "\n",
              "  <svg xmlns=\"http://www.w3.org/2000/svg\" height=\"24px\" viewBox=\"0 -960 960 960\">\n",
              "    <path d=\"M120-120v-720h720v720H120Zm60-500h600v-160H180v160Zm220 220h160v-160H400v160Zm0 220h160v-160H400v160ZM180-400h160v-160H180v160Zm440 0h160v-160H620v160ZM180-180h160v-160H180v160Zm440 0h160v-160H620v160Z\"/>\n",
              "  </svg>\n",
              "    </button>\n",
              "\n",
              "  <style>\n",
              "    .colab-df-container {\n",
              "      display:flex;\n",
              "      gap: 12px;\n",
              "    }\n",
              "\n",
              "    .colab-df-convert {\n",
              "      background-color: #E8F0FE;\n",
              "      border: none;\n",
              "      border-radius: 50%;\n",
              "      cursor: pointer;\n",
              "      display: none;\n",
              "      fill: #1967D2;\n",
              "      height: 32px;\n",
              "      padding: 0 0 0 0;\n",
              "      width: 32px;\n",
              "    }\n",
              "\n",
              "    .colab-df-convert:hover {\n",
              "      background-color: #E2EBFA;\n",
              "      box-shadow: 0px 1px 2px rgba(60, 64, 67, 0.3), 0px 1px 3px 1px rgba(60, 64, 67, 0.15);\n",
              "      fill: #174EA6;\n",
              "    }\n",
              "\n",
              "    .colab-df-buttons div {\n",
              "      margin-bottom: 4px;\n",
              "    }\n",
              "\n",
              "    [theme=dark] .colab-df-convert {\n",
              "      background-color: #3B4455;\n",
              "      fill: #D2E3FC;\n",
              "    }\n",
              "\n",
              "    [theme=dark] .colab-df-convert:hover {\n",
              "      background-color: #434B5C;\n",
              "      box-shadow: 0px 1px 3px 1px rgba(0, 0, 0, 0.15);\n",
              "      filter: drop-shadow(0px 1px 2px rgba(0, 0, 0, 0.3));\n",
              "      fill: #FFFFFF;\n",
              "    }\n",
              "  </style>\n",
              "\n",
              "    <script>\n",
              "      const buttonEl =\n",
              "        document.querySelector('#df-155e4169-66e3-4b01-b04b-decf17e640ef button.colab-df-convert');\n",
              "      buttonEl.style.display =\n",
              "        google.colab.kernel.accessAllowed ? 'block' : 'none';\n",
              "\n",
              "      async function convertToInteractive(key) {\n",
              "        const element = document.querySelector('#df-155e4169-66e3-4b01-b04b-decf17e640ef');\n",
              "        const dataTable =\n",
              "          await google.colab.kernel.invokeFunction('convertToInteractive',\n",
              "                                                    [key], {});\n",
              "        if (!dataTable) return;\n",
              "\n",
              "        const docLinkHtml = 'Like what you see? Visit the ' +\n",
              "          '<a target=\"_blank\" href=https://colab.research.google.com/notebooks/data_table.ipynb>data table notebook</a>'\n",
              "          + ' to learn more about interactive tables.';\n",
              "        element.innerHTML = '';\n",
              "        dataTable['output_type'] = 'display_data';\n",
              "        await google.colab.output.renderOutput(dataTable, element);\n",
              "        const docLink = document.createElement('div');\n",
              "        docLink.innerHTML = docLinkHtml;\n",
              "        element.appendChild(docLink);\n",
              "      }\n",
              "    </script>\n",
              "  </div>\n",
              "\n",
              "\n",
              "<div id=\"df-d2774982-3375-4829-937c-ce28707babb1\">\n",
              "  <button class=\"colab-df-quickchart\" onclick=\"quickchart('df-d2774982-3375-4829-937c-ce28707babb1')\"\n",
              "            title=\"Suggest charts.\"\n",
              "            style=\"display:none;\">\n",
              "\n",
              "<svg xmlns=\"http://www.w3.org/2000/svg\" height=\"24px\"viewBox=\"0 0 24 24\"\n",
              "     width=\"24px\">\n",
              "    <g>\n",
              "        <path d=\"M19 3H5c-1.1 0-2 .9-2 2v14c0 1.1.9 2 2 2h14c1.1 0 2-.9 2-2V5c0-1.1-.9-2-2-2zM9 17H7v-7h2v7zm4 0h-2V7h2v10zm4 0h-2v-4h2v4z\"/>\n",
              "    </g>\n",
              "</svg>\n",
              "  </button>\n",
              "\n",
              "<style>\n",
              "  .colab-df-quickchart {\n",
              "      --bg-color: #E8F0FE;\n",
              "      --fill-color: #1967D2;\n",
              "      --hover-bg-color: #E2EBFA;\n",
              "      --hover-fill-color: #174EA6;\n",
              "      --disabled-fill-color: #AAA;\n",
              "      --disabled-bg-color: #DDD;\n",
              "  }\n",
              "\n",
              "  [theme=dark] .colab-df-quickchart {\n",
              "      --bg-color: #3B4455;\n",
              "      --fill-color: #D2E3FC;\n",
              "      --hover-bg-color: #434B5C;\n",
              "      --hover-fill-color: #FFFFFF;\n",
              "      --disabled-bg-color: #3B4455;\n",
              "      --disabled-fill-color: #666;\n",
              "  }\n",
              "\n",
              "  .colab-df-quickchart {\n",
              "    background-color: var(--bg-color);\n",
              "    border: none;\n",
              "    border-radius: 50%;\n",
              "    cursor: pointer;\n",
              "    display: none;\n",
              "    fill: var(--fill-color);\n",
              "    height: 32px;\n",
              "    padding: 0;\n",
              "    width: 32px;\n",
              "  }\n",
              "\n",
              "  .colab-df-quickchart:hover {\n",
              "    background-color: var(--hover-bg-color);\n",
              "    box-shadow: 0 1px 2px rgba(60, 64, 67, 0.3), 0 1px 3px 1px rgba(60, 64, 67, 0.15);\n",
              "    fill: var(--button-hover-fill-color);\n",
              "  }\n",
              "\n",
              "  .colab-df-quickchart-complete:disabled,\n",
              "  .colab-df-quickchart-complete:disabled:hover {\n",
              "    background-color: var(--disabled-bg-color);\n",
              "    fill: var(--disabled-fill-color);\n",
              "    box-shadow: none;\n",
              "  }\n",
              "\n",
              "  .colab-df-spinner {\n",
              "    border: 2px solid var(--fill-color);\n",
              "    border-color: transparent;\n",
              "    border-bottom-color: var(--fill-color);\n",
              "    animation:\n",
              "      spin 1s steps(1) infinite;\n",
              "  }\n",
              "\n",
              "  @keyframes spin {\n",
              "    0% {\n",
              "      border-color: transparent;\n",
              "      border-bottom-color: var(--fill-color);\n",
              "      border-left-color: var(--fill-color);\n",
              "    }\n",
              "    20% {\n",
              "      border-color: transparent;\n",
              "      border-left-color: var(--fill-color);\n",
              "      border-top-color: var(--fill-color);\n",
              "    }\n",
              "    30% {\n",
              "      border-color: transparent;\n",
              "      border-left-color: var(--fill-color);\n",
              "      border-top-color: var(--fill-color);\n",
              "      border-right-color: var(--fill-color);\n",
              "    }\n",
              "    40% {\n",
              "      border-color: transparent;\n",
              "      border-right-color: var(--fill-color);\n",
              "      border-top-color: var(--fill-color);\n",
              "    }\n",
              "    60% {\n",
              "      border-color: transparent;\n",
              "      border-right-color: var(--fill-color);\n",
              "    }\n",
              "    80% {\n",
              "      border-color: transparent;\n",
              "      border-right-color: var(--fill-color);\n",
              "      border-bottom-color: var(--fill-color);\n",
              "    }\n",
              "    90% {\n",
              "      border-color: transparent;\n",
              "      border-bottom-color: var(--fill-color);\n",
              "    }\n",
              "  }\n",
              "</style>\n",
              "\n",
              "  <script>\n",
              "    async function quickchart(key) {\n",
              "      const quickchartButtonEl =\n",
              "        document.querySelector('#' + key + ' button');\n",
              "      quickchartButtonEl.disabled = true;  // To prevent multiple clicks.\n",
              "      quickchartButtonEl.classList.add('colab-df-spinner');\n",
              "      try {\n",
              "        const charts = await google.colab.kernel.invokeFunction(\n",
              "            'suggestCharts', [key], {});\n",
              "      } catch (error) {\n",
              "        console.error('Error during call to suggestCharts:', error);\n",
              "      }\n",
              "      quickchartButtonEl.classList.remove('colab-df-spinner');\n",
              "      quickchartButtonEl.classList.add('colab-df-quickchart-complete');\n",
              "    }\n",
              "    (() => {\n",
              "      let quickchartButtonEl =\n",
              "        document.querySelector('#df-d2774982-3375-4829-937c-ce28707babb1 button');\n",
              "      quickchartButtonEl.style.display =\n",
              "        google.colab.kernel.accessAllowed ? 'block' : 'none';\n",
              "    })();\n",
              "  </script>\n",
              "</div>\n",
              "    </div>\n",
              "  </div>\n"
            ]
          },
          "metadata": {},
          "execution_count": 138
        },
        {
          "output_type": "stream",
          "name": "stderr",
          "text": [
            "/usr/local/lib/python3.10/dist-packages/google/colab/_quickchart_lib.py:26: UserWarning: Glyph 3626 (\\N{THAI CHARACTER SO SUA}) missing from current font.\n",
            "  plt.savefig(\n",
            "/usr/local/lib/python3.10/dist-packages/google/colab/_quickchart_lib.py:26: UserWarning: Glyph 3617 (\\N{THAI CHARACTER MO MA}) missing from current font.\n",
            "  plt.savefig(\n",
            "/usr/local/lib/python3.10/dist-packages/google/colab/_quickchart_lib.py:26: UserWarning: Glyph 3594 (\\N{THAI CHARACTER CHO CHANG}) missing from current font.\n",
            "  plt.savefig(\n",
            "/usr/local/lib/python3.10/dist-packages/google/colab/_quickchart_lib.py:26: UserWarning: Glyph 3634 (\\N{THAI CHARACTER SARA AA}) missing from current font.\n",
            "  plt.savefig(\n",
            "/usr/local/lib/python3.10/dist-packages/google/colab/_quickchart_lib.py:26: UserWarning: Glyph 3618 (\\N{THAI CHARACTER YO YAK}) missing from current font.\n",
            "  plt.savefig(\n",
            "/usr/local/lib/python3.10/dist-packages/google/colab/_quickchart_lib.py:26: UserWarning: Glyph 3610 (\\N{THAI CHARACTER BO BAIMAI}) missing from current font.\n",
            "  plt.savefig(\n",
            "/usr/local/lib/python3.10/dist-packages/google/colab/_quickchart_lib.py:26: UserWarning: Glyph 3633 (\\N{THAI CHARACTER MAI HAN-AKAT}) missing from current font.\n",
            "  plt.savefig(\n",
            "/usr/local/lib/python3.10/dist-packages/google/colab/_quickchart_lib.py:26: UserWarning: Glyph 3605 (\\N{THAI CHARACTER TO TAO}) missing from current font.\n",
            "  plt.savefig(\n",
            "/usr/local/lib/python3.10/dist-packages/google/colab/_quickchart_lib.py:26: UserWarning: Glyph 3636 (\\N{THAI CHARACTER SARA I}) missing from current font.\n",
            "  plt.savefig(\n",
            "/usr/local/lib/python3.10/dist-packages/google/colab/_quickchart_lib.py:26: UserWarning: Glyph 3641 (\\N{THAI CHARACTER SARA UU}) missing from current font.\n",
            "  plt.savefig(\n",
            "/usr/local/lib/python3.10/dist-packages/google/colab/_quickchart_lib.py:26: UserWarning: Glyph 3619 (\\N{THAI CHARACTER RO RUA}) missing from current font.\n",
            "  plt.savefig(\n",
            "/usr/local/lib/python3.10/dist-packages/google/colab/_quickchart_lib.py:26: UserWarning: Glyph 3603 (\\N{THAI CHARACTER NO NEN}) missing from current font.\n",
            "  plt.savefig(\n",
            "/usr/local/lib/python3.10/dist-packages/google/colab/_quickchart_lib.py:26: UserWarning: Glyph 3660 (\\N{THAI CHARACTER THANTHAKHAT}) missing from current font.\n",
            "  plt.savefig(\n",
            "/usr/local/lib/python3.10/dist-packages/google/colab/_quickchart_lib.py:26: UserWarning: Glyph 3627 (\\N{THAI CHARACTER HO HIP}) missing from current font.\n",
            "  plt.savefig(\n",
            "/usr/local/lib/python3.10/dist-packages/google/colab/_quickchart_lib.py:26: UserWarning: Glyph 3597 (\\N{THAI CHARACTER YO YING}) missing from current font.\n",
            "  plt.savefig(\n",
            "/usr/local/lib/python3.10/dist-packages/google/colab/_quickchart_lib.py:26: UserWarning: Glyph 3591 (\\N{THAI CHARACTER NGO NGU}) missing from current font.\n",
            "  plt.savefig(\n",
            "/usr/local/lib/python3.10/dist-packages/google/colab/_quickchart_lib.py:26: UserWarning: Glyph 3626 (\\N{THAI CHARACTER SO SUA}) missing from current font.\n",
            "  plt.savefig(\n",
            "/usr/local/lib/python3.10/dist-packages/google/colab/_quickchart_lib.py:26: UserWarning: Glyph 3617 (\\N{THAI CHARACTER MO MA}) missing from current font.\n",
            "  plt.savefig(\n",
            "/usr/local/lib/python3.10/dist-packages/google/colab/_quickchart_lib.py:26: UserWarning: Glyph 3610 (\\N{THAI CHARACTER BO BAIMAI}) missing from current font.\n",
            "  plt.savefig(\n",
            "/usr/local/lib/python3.10/dist-packages/google/colab/_quickchart_lib.py:26: UserWarning: Glyph 3641 (\\N{THAI CHARACTER SARA UU}) missing from current font.\n",
            "  plt.savefig(\n",
            "/usr/local/lib/python3.10/dist-packages/google/colab/_quickchart_lib.py:26: UserWarning: Glyph 3619 (\\N{THAI CHARACTER RO RUA}) missing from current font.\n",
            "  plt.savefig(\n",
            "/usr/local/lib/python3.10/dist-packages/google/colab/_quickchart_lib.py:26: UserWarning: Glyph 3603 (\\N{THAI CHARACTER NO NEN}) missing from current font.\n",
            "  plt.savefig(\n",
            "/usr/local/lib/python3.10/dist-packages/google/colab/_quickchart_lib.py:26: UserWarning: Glyph 3660 (\\N{THAI CHARACTER THANTHAKHAT}) missing from current font.\n",
            "  plt.savefig(\n",
            "/usr/local/lib/python3.10/dist-packages/google/colab/_quickchart_lib.py:26: UserWarning: Glyph 3594 (\\N{THAI CHARACTER CHO CHANG}) missing from current font.\n",
            "  plt.savefig(\n",
            "/usr/local/lib/python3.10/dist-packages/google/colab/_quickchart_lib.py:26: UserWarning: Glyph 3634 (\\N{THAI CHARACTER SARA AA}) missing from current font.\n",
            "  plt.savefig(\n",
            "/usr/local/lib/python3.10/dist-packages/google/colab/_quickchart_lib.py:26: UserWarning: Glyph 3618 (\\N{THAI CHARACTER YO YAK}) missing from current font.\n",
            "  plt.savefig(\n",
            "/usr/local/lib/python3.10/dist-packages/google/colab/_quickchart_lib.py:26: UserWarning: Glyph 3627 (\\N{THAI CHARACTER HO HIP}) missing from current font.\n",
            "  plt.savefig(\n",
            "/usr/local/lib/python3.10/dist-packages/google/colab/_quickchart_lib.py:26: UserWarning: Glyph 3597 (\\N{THAI CHARACTER YO YING}) missing from current font.\n",
            "  plt.savefig(\n",
            "/usr/local/lib/python3.10/dist-packages/google/colab/_quickchart_lib.py:26: UserWarning: Glyph 3636 (\\N{THAI CHARACTER SARA I}) missing from current font.\n",
            "  plt.savefig(\n",
            "/usr/local/lib/python3.10/dist-packages/google/colab/_quickchart_lib.py:26: UserWarning: Glyph 3591 (\\N{THAI CHARACTER NGO NGU}) missing from current font.\n",
            "  plt.savefig(\n",
            "/usr/local/lib/python3.10/dist-packages/google/colab/_quickchart_lib.py:26: UserWarning: Glyph 3633 (\\N{THAI CHARACTER MAI HAN-AKAT}) missing from current font.\n",
            "  plt.savefig(\n",
            "/usr/local/lib/python3.10/dist-packages/google/colab/_quickchart_lib.py:26: UserWarning: Glyph 3605 (\\N{THAI CHARACTER TO TAO}) missing from current font.\n",
            "  plt.savefig(\n",
            "/usr/local/lib/python3.10/dist-packages/google/colab/_quickchart_lib.py:26: UserWarning: Glyph 3626 (\\N{THAI CHARACTER SO SUA}) missing from current font.\n",
            "  plt.savefig(\n",
            "/usr/local/lib/python3.10/dist-packages/google/colab/_quickchart_lib.py:26: UserWarning: Glyph 3617 (\\N{THAI CHARACTER MO MA}) missing from current font.\n",
            "  plt.savefig(\n",
            "/usr/local/lib/python3.10/dist-packages/google/colab/_quickchart_lib.py:26: UserWarning: Glyph 3610 (\\N{THAI CHARACTER BO BAIMAI}) missing from current font.\n",
            "  plt.savefig(\n",
            "/usr/local/lib/python3.10/dist-packages/google/colab/_quickchart_lib.py:26: UserWarning: Glyph 3641 (\\N{THAI CHARACTER SARA UU}) missing from current font.\n",
            "  plt.savefig(\n",
            "/usr/local/lib/python3.10/dist-packages/google/colab/_quickchart_lib.py:26: UserWarning: Glyph 3619 (\\N{THAI CHARACTER RO RUA}) missing from current font.\n",
            "  plt.savefig(\n",
            "/usr/local/lib/python3.10/dist-packages/google/colab/_quickchart_lib.py:26: UserWarning: Glyph 3603 (\\N{THAI CHARACTER NO NEN}) missing from current font.\n",
            "  plt.savefig(\n",
            "/usr/local/lib/python3.10/dist-packages/google/colab/_quickchart_lib.py:26: UserWarning: Glyph 3660 (\\N{THAI CHARACTER THANTHAKHAT}) missing from current font.\n",
            "  plt.savefig(\n",
            "/usr/local/lib/python3.10/dist-packages/google/colab/_quickchart_lib.py:26: UserWarning: Glyph 3594 (\\N{THAI CHARACTER CHO CHANG}) missing from current font.\n",
            "  plt.savefig(\n",
            "/usr/local/lib/python3.10/dist-packages/google/colab/_quickchart_lib.py:26: UserWarning: Glyph 3634 (\\N{THAI CHARACTER SARA AA}) missing from current font.\n",
            "  plt.savefig(\n",
            "/usr/local/lib/python3.10/dist-packages/google/colab/_quickchart_lib.py:26: UserWarning: Glyph 3618 (\\N{THAI CHARACTER YO YAK}) missing from current font.\n",
            "  plt.savefig(\n",
            "/usr/local/lib/python3.10/dist-packages/google/colab/_quickchart_lib.py:26: UserWarning: Glyph 3627 (\\N{THAI CHARACTER HO HIP}) missing from current font.\n",
            "  plt.savefig(\n",
            "/usr/local/lib/python3.10/dist-packages/google/colab/_quickchart_lib.py:26: UserWarning: Glyph 3597 (\\N{THAI CHARACTER YO YING}) missing from current font.\n",
            "  plt.savefig(\n",
            "/usr/local/lib/python3.10/dist-packages/google/colab/_quickchart_lib.py:26: UserWarning: Glyph 3636 (\\N{THAI CHARACTER SARA I}) missing from current font.\n",
            "  plt.savefig(\n",
            "/usr/local/lib/python3.10/dist-packages/google/colab/_quickchart_lib.py:26: UserWarning: Glyph 3591 (\\N{THAI CHARACTER NGO NGU}) missing from current font.\n",
            "  plt.savefig(\n",
            "/usr/local/lib/python3.10/dist-packages/google/colab/_quickchart_lib.py:26: UserWarning: Glyph 3633 (\\N{THAI CHARACTER MAI HAN-AKAT}) missing from current font.\n",
            "  plt.savefig(\n",
            "/usr/local/lib/python3.10/dist-packages/google/colab/_quickchart_lib.py:26: UserWarning: Glyph 3605 (\\N{THAI CHARACTER TO TAO}) missing from current font.\n",
            "  plt.savefig(\n",
            "/usr/local/lib/python3.10/dist-packages/google/colab/_quickchart_lib.py:26: UserWarning: Glyph 3626 (\\N{THAI CHARACTER SO SUA}) missing from current font.\n",
            "  plt.savefig(\n",
            "/usr/local/lib/python3.10/dist-packages/google/colab/_quickchart_lib.py:26: UserWarning: Glyph 3617 (\\N{THAI CHARACTER MO MA}) missing from current font.\n",
            "  plt.savefig(\n",
            "/usr/local/lib/python3.10/dist-packages/google/colab/_quickchart_lib.py:26: UserWarning: Glyph 3594 (\\N{THAI CHARACTER CHO CHANG}) missing from current font.\n",
            "  plt.savefig(\n",
            "/usr/local/lib/python3.10/dist-packages/google/colab/_quickchart_lib.py:26: UserWarning: Glyph 3634 (\\N{THAI CHARACTER SARA AA}) missing from current font.\n",
            "  plt.savefig(\n",
            "/usr/local/lib/python3.10/dist-packages/google/colab/_quickchart_lib.py:26: UserWarning: Glyph 3618 (\\N{THAI CHARACTER YO YAK}) missing from current font.\n",
            "  plt.savefig(\n",
            "/usr/local/lib/python3.10/dist-packages/google/colab/_quickchart_lib.py:26: UserWarning: Glyph 3610 (\\N{THAI CHARACTER BO BAIMAI}) missing from current font.\n",
            "  plt.savefig(\n",
            "/usr/local/lib/python3.10/dist-packages/google/colab/_quickchart_lib.py:26: UserWarning: Glyph 3633 (\\N{THAI CHARACTER MAI HAN-AKAT}) missing from current font.\n",
            "  plt.savefig(\n",
            "/usr/local/lib/python3.10/dist-packages/google/colab/_quickchart_lib.py:26: UserWarning: Glyph 3605 (\\N{THAI CHARACTER TO TAO}) missing from current font.\n",
            "  plt.savefig(\n",
            "/usr/local/lib/python3.10/dist-packages/google/colab/_quickchart_lib.py:26: UserWarning: Glyph 3636 (\\N{THAI CHARACTER SARA I}) missing from current font.\n",
            "  plt.savefig(\n",
            "/usr/local/lib/python3.10/dist-packages/google/colab/_quickchart_lib.py:26: UserWarning: Glyph 3641 (\\N{THAI CHARACTER SARA UU}) missing from current font.\n",
            "  plt.savefig(\n",
            "/usr/local/lib/python3.10/dist-packages/google/colab/_quickchart_lib.py:26: UserWarning: Glyph 3619 (\\N{THAI CHARACTER RO RUA}) missing from current font.\n",
            "  plt.savefig(\n",
            "/usr/local/lib/python3.10/dist-packages/google/colab/_quickchart_lib.py:26: UserWarning: Glyph 3603 (\\N{THAI CHARACTER NO NEN}) missing from current font.\n",
            "  plt.savefig(\n",
            "/usr/local/lib/python3.10/dist-packages/google/colab/_quickchart_lib.py:26: UserWarning: Glyph 3660 (\\N{THAI CHARACTER THANTHAKHAT}) missing from current font.\n",
            "  plt.savefig(\n",
            "/usr/local/lib/python3.10/dist-packages/google/colab/_quickchart_lib.py:26: UserWarning: Glyph 3627 (\\N{THAI CHARACTER HO HIP}) missing from current font.\n",
            "  plt.savefig(\n",
            "/usr/local/lib/python3.10/dist-packages/google/colab/_quickchart_lib.py:26: UserWarning: Glyph 3597 (\\N{THAI CHARACTER YO YING}) missing from current font.\n",
            "  plt.savefig(\n",
            "/usr/local/lib/python3.10/dist-packages/google/colab/_quickchart_lib.py:26: UserWarning: Glyph 3591 (\\N{THAI CHARACTER NGO NGU}) missing from current font.\n",
            "  plt.savefig(\n",
            "/usr/local/lib/python3.10/dist-packages/google/colab/_quickchart_lib.py:26: UserWarning: Glyph 3626 (\\N{THAI CHARACTER SO SUA}) missing from current font.\n",
            "  plt.savefig(\n",
            "/usr/local/lib/python3.10/dist-packages/google/colab/_quickchart_lib.py:26: UserWarning: Glyph 3617 (\\N{THAI CHARACTER MO MA}) missing from current font.\n",
            "  plt.savefig(\n",
            "/usr/local/lib/python3.10/dist-packages/google/colab/_quickchart_lib.py:26: UserWarning: Glyph 3594 (\\N{THAI CHARACTER CHO CHANG}) missing from current font.\n",
            "  plt.savefig(\n",
            "/usr/local/lib/python3.10/dist-packages/google/colab/_quickchart_lib.py:26: UserWarning: Glyph 3634 (\\N{THAI CHARACTER SARA AA}) missing from current font.\n",
            "  plt.savefig(\n",
            "/usr/local/lib/python3.10/dist-packages/google/colab/_quickchart_lib.py:26: UserWarning: Glyph 3618 (\\N{THAI CHARACTER YO YAK}) missing from current font.\n",
            "  plt.savefig(\n",
            "/usr/local/lib/python3.10/dist-packages/google/colab/_quickchart_lib.py:26: UserWarning: Glyph 3610 (\\N{THAI CHARACTER BO BAIMAI}) missing from current font.\n",
            "  plt.savefig(\n",
            "/usr/local/lib/python3.10/dist-packages/google/colab/_quickchart_lib.py:26: UserWarning: Glyph 3633 (\\N{THAI CHARACTER MAI HAN-AKAT}) missing from current font.\n",
            "  plt.savefig(\n",
            "/usr/local/lib/python3.10/dist-packages/google/colab/_quickchart_lib.py:26: UserWarning: Glyph 3605 (\\N{THAI CHARACTER TO TAO}) missing from current font.\n",
            "  plt.savefig(\n",
            "/usr/local/lib/python3.10/dist-packages/google/colab/_quickchart_lib.py:26: UserWarning: Glyph 3636 (\\N{THAI CHARACTER SARA I}) missing from current font.\n",
            "  plt.savefig(\n",
            "/usr/local/lib/python3.10/dist-packages/google/colab/_quickchart_lib.py:26: UserWarning: Glyph 3641 (\\N{THAI CHARACTER SARA UU}) missing from current font.\n",
            "  plt.savefig(\n",
            "/usr/local/lib/python3.10/dist-packages/google/colab/_quickchart_lib.py:26: UserWarning: Glyph 3619 (\\N{THAI CHARACTER RO RUA}) missing from current font.\n",
            "  plt.savefig(\n",
            "/usr/local/lib/python3.10/dist-packages/google/colab/_quickchart_lib.py:26: UserWarning: Glyph 3603 (\\N{THAI CHARACTER NO NEN}) missing from current font.\n",
            "  plt.savefig(\n",
            "/usr/local/lib/python3.10/dist-packages/google/colab/_quickchart_lib.py:26: UserWarning: Glyph 3660 (\\N{THAI CHARACTER THANTHAKHAT}) missing from current font.\n",
            "  plt.savefig(\n",
            "/usr/local/lib/python3.10/dist-packages/google/colab/_quickchart_lib.py:26: UserWarning: Glyph 3627 (\\N{THAI CHARACTER HO HIP}) missing from current font.\n",
            "  plt.savefig(\n",
            "/usr/local/lib/python3.10/dist-packages/google/colab/_quickchart_lib.py:26: UserWarning: Glyph 3597 (\\N{THAI CHARACTER YO YING}) missing from current font.\n",
            "  plt.savefig(\n",
            "/usr/local/lib/python3.10/dist-packages/google/colab/_quickchart_lib.py:26: UserWarning: Glyph 3591 (\\N{THAI CHARACTER NGO NGU}) missing from current font.\n",
            "  plt.savefig(\n"
          ]
        },
        {
          "output_type": "display_data",
          "data": {
            "text/plain": [
              "<google.colab._quickchart_helpers.SectionTitle at 0x7b628cf0f700>"
            ],
            "text/html": [
              "<h4 class=\"colab-quickchart-section-title\">Values</h4>\n",
              "<style>\n",
              "  .colab-quickchart-section-title {\n",
              "      clear: both;\n",
              "  }\n",
              "</style>"
            ]
          },
          "metadata": {}
        },
        {
          "output_type": "display_data",
          "data": {
            "text/plain": [
              "import numpy as np\n",
              "from google.colab import autoviz\n",
              "\n",
              "def value_plot(df, y, figscale=1):\n",
              "  from matplotlib import pyplot as plt\n",
              "  df[y].plot(kind='line', figsize=(8 * figscale, 4 * figscale), title=y)\n",
              "  plt.gca().spines[['top', 'right']].set_visible(False)\n",
              "  plt.tight_layout()\n",
              "  return autoviz.MplChart.from_current_mpl_state()\n",
              "\n",
              "chart = value_plot(_df_0, *['No'], **{})\n",
              "chart"
            ],
            "text/html": [
              "      <div class=\"colab-quickchart-chart-with-code\" id=\"chart-392efe92-58d7-4699-8cab-0908e05488b0\">\n",
              "        <img src=\"data:image/png;base64,iVBORw0KGgoAAAANSUhEUgAAAYwAAADECAYAAACMRRb/AAAAOXRFWHRTb2Z0d2FyZQBNYXRwbG90\n",
              "bGliIHZlcnNpb24zLjcuMSwgaHR0cHM6Ly9tYXRwbG90bGliLm9yZy/bCgiHAAAACXBIWXMAAA9h\n",
              "AAAPYQGoP6dpAAAefElEQVR4nO3deVCU9/0H8PdyLYccch/7AKKI8eDctcSkHjl/aoxGZWln0iST\n",
              "Wtu0naRTO8m0M0xiOhP7m5pMiZlm2k4mk+SPlEU84pX8GqPRpk3kQbyIGkWRZ7lR7mOB3e/vj8UF\n",
              "IuqC7D4LvF8zzoTvPrAfnzzw9nnePLsaIYQAERHRXXipPQAREU0ODAwiInIKA4OIiJzCwCAiIqcw\n",
              "MIiIyCkMDCIicgoDg4iInMLAICIipzAwiIjIKQwMIiJyCgOD6DaWL18OjUaDffv2jVh/+umn8dxz\n",
              "z6kzFJGKGBhEdxAZGYktW7agr69P7VGIVMfAILqD5557DjabDW+//faoj7e2tmLz5s3Q6XSIjIzE\n",
              "ypUrcfHiRTdPSeQeDAyiO9Bqtdi+fTv++Mc/orGx8ZbHf/KTn+DSpUuQZRnV1dVIS0vDI488gs7O\n",
              "ThWmJXItBgbRXaxbtw56vR5/+MMfRqzX1dVh//79+Mtf/oLY2FgEBgbiz3/+M3p6erB//36VpiVy\n",
              "HQYGkRMKCwvx0Ucfoby83LGmKAoAYPbs2Y41X19fJCUlobq62u0zErkaA4PICQsXLsSmTZvw0ksv\n",
              "OdYkSQIAVFZWOtYGBgZQXV2NxMREt89I5GoMDCInvf766zh37hw+++wzAEBcXBxWrVqFLVu2oKGh\n",
              "AT09PXjllVfg5+eH1atXqzwt0cRjYBA5KSIiAq+99hqam5sdax999BGSk5ORnZ0NnU6HiooKfP75\n",
              "5wgODlZxUiLX0PA9vYmIyBk8wyAiIqcwMIiIyCkMDCIicgoDg4iInMLAICIipzAwiIjIKQwMIiJy\n",
              "ilsDo7Cw0J1PR0REE8itgXHt2jV3Ph0REU0gXpIiIiKnjDkwkpOTkZaWhszMTGRmZqKoqMgVcxER\n",
              "kYfxGc8nFRUVITMzc4JHISIiT8ZLUkREk1RzpwX/OHYFh883uOX5xnWG8cwzz0AIgcWLF+NPf/oT\n",
              "oqKibtnGYrHAYrGMWLNareObkoiIAAADVhu+/K4JJlnB4fONGLAJ/GBWOB6+L8blzz3mM4xjx47h\n",
              "zJkzOHnyJCIjI/Hss8+Out22bdsQGho64s+JEyfueWAiounoSlMn/vfTC1jypy/w0w9kfFbRgAGb\n",
              "QIYUhrWZCXDHO1Xc0/th1NXVYe7cuejo6LjlsdHOMAoKCngvBhGRk7osAzh4tg7Fshknqm441sOD\n",
              "/PBUVgKMeglpse57s64xXZLq6upCf38/wsLCAAAff/wxsrKyRt1Wq9VCq9WOWPP29h7flERE04QQ\n",
              "AierW2EqVbD/TC26+uyX8r00wPK0aBj1Ojw0LwZ+Pu6voMcUGA0NDdiwYQOsViuEEEhJScGHH37o\n",
              "qtmIiKaNpg4Ldp00wyQrqGzqcqwnRwQiTy9hQ7YOsaH+Kk44xsBISUlBeXm5q2YhIppW+q02HL1o\n",
              "L7C/uNAIq83eEAT4emPVojgY9TosnhUOjUaj8qR24/otKSIiGr/LjZ0oLlOw62QNmjqGut6sxDAY\n",
              "9RKeSI9DsL+vihOOjoFBROQGnZYBHDxTB5OsQL7W4liPCPLD+mx7gZ0a474CezwYGERELiKEQNm1\n",
              "FhSVKjhwtg7dgwW2t5cGK9KikKeX8NC8aPh6T457qBkYREQTrLG9F7vKa2CSFVwZVmCnRAYhTy9h\n",
              "fXYCYkLULbDHg4FBRDQB+q02HLnQCJOs4MjFJkeBHejnjdWL4mA0SNAnzfSYAns8GBhERPfgcmMH\n",
              "TLIZu06a0dzZ51jPSZoJo16H1enxmKGdGj9qp8bfgojIjTotA9h/uhYmWcHJ6lbHeuQMLTZkJyBP\n",
              "r8OcaM8usMeDgUFE5AQhBEqrWmCSFRw4U4ee/uEFtv0O7BWTqMAeDwYGEdEdNLT3ouSkGcWyGVeb\n",
              "hxXYUUHI10t4KjsB0cGTr8AeDwYGEdH39A3Y8MVggX30YiMG+2sE+nnjifQ45BskZCdO7gJ7PBgY\n",
              "RESDvmvogKlUwe7yGlzvGiqwDckzkaeXsHpRHIKmSIE9HtP3b05EBKCjtx/7TtvvwD6ltDrWo4K1\n",
              "2JCtQ55eh9lRM9Qb0IMwMIho2hFC4JurN2CSFRw8W4fefhsAwMdLg4fmRcOol7A8LQo+U7jAHg8G\n",
              "BhFNG/Vt9gLbJCu4dr3bsT4negaMeh2eytIhKlh7h68wvTEwiGhK6xuw4fD5BphkBV9+1+QosIP8\n",
              "vLEmIx5Gg4QsKWzaFdjjwcAgoinpYn0HikoV7DlVgxvDCuzFs8Jh1EtYtSgWgX78ETgW3FtENGW0\n",
              "9/Zj3+lamEoVnDa3Odajg7XYmKNDnl7CrMggFSec3BgYRDSp2WwCX1+9jmLZjINn62AZGCqwH7kv\n",
              "BkaDDktTWWBPBAYGEU1Kta09KCkzo7jMjOobQwV2avQM5BskrMtKQOQMFtgTiYFBRJOGZcCKz7+1\n",
              "34F97FITxGCBPUPrgzUZ8cg3SMjQhbLAdhEGBhF5vPN17TDJCvaU16Clu9+x/oNZ4cg3SFi5MA4B\n",
              "ft4qTjg9MDCIyCO19fTjk8EC+2zNUIEdG+KPjTk6bMzRIZkFtluNOzDef/99PP/889i9ezfWrVs3\n",
              "gSMR0XRlswl8feU6imQFn56rdxTYvt4aPDo/Bnl6CUtTo+DtxUtOahhXYFRVVeEf//gHcnNzJ3oe\n",
              "IpqGalp7sFM2o7hMgbmlx7GeFhMMo0HCusx4RLDAVt2YA8Nms2HTpk3YsWMHtmzZ4oqZiGgasAxY\n",
              "8X8V9juw/3252VFgB2t98GRmPIx6CekssD3KmAPjrbfewgMPPICcnJw7bmexWGCxWEasWa3WsT4d\n",
              "EU0xFbVtKJbN2F1eg7aeoQL7/pQIGA06/M8CFtieakyBce7cOZSUlODYsWN33Xbbtm3YunXriDVe\n",
              "wiKantq6+7H3dA2KShVU1LY71uNC7QV2Xo6ExIhAFSckZ4wpMI4fP46qqiqkpqYCAOrr67F582bU\n",
              "1dXhhRdeGLHt73//e/z2t78dsVZQUHCP4xLRZGGzCfyn0l5gf1ZRj75hBfZj82NhNEh4cE4kC+xJ\n",
              "ZEyB8cILL4wIhuXLl+M3v/nNqL8lpdVqodWOLKm8vXmaSTTVmVu6USybsbPMjJrWoQJ7Xmww8g0S\n",
              "1mYmIDzIT8UJabx4HwYR3bPefis+q6hHsWzGV5XDCmx/H6zLTIBRL2FhQggL7EnungLj6NGjEzQG\n",
              "EU1G52raHHdgt/cOONYfmBMBo17C4wti4e/LKwtTBc8wiGhMWrr6sPdUDUyyGd/WDRXY8aH+2KiX\n",
              "kJejgxTOAnsqYmAQ0V1ZbQJfXW6GSVbwfxUN6LPaC2w/by88tiAG+QYJS2azwJ7qGBhEdFvKjW4U\n",
              "l5mxU1ZQ29brWJ8fFzJYYMcjLJAF9nTBwCCiEW4W2EWlCv5Ted2xHhrgi3WZ8cjTS1iYEKrihKQW\n",
              "BgYRQQiBczXtKJKrsfdULToGC2yNBnhwTiTy9BIemx/DAnuaY2AQTWM3uvqwp7wGJlnBhfoOx3pC\n",
              "WADy9PaXENfNZIFNdgwMomnGahM4fqkJxbIZ//p2WIHt44X/WRALo17CktkR8GKBTd/DwCCaJqqv\n",
              "d6O4TMHOMjPqhhXYCxNCYNRLWJuRgNBAXxUnJE/HwCCawnr6rPi0og5FpQq+vnLDsR4W6It1mQnI\n",
              "0+uwIJ4FNjmHgUE0xQghcMZsvwP7k1O16LCMLLDzDRIeuY8FNo0dA4NoirjeacHu8hoUy2ZcbBgq\n",
              "sHUzA2DUS9iQo0NCWICKE9Jkx8AgmsSsNoFj3zXBJCv4/HwD+q32V/3T+nhh5UJ7gZ2bwgKbJgYD\n",
              "g2gSqmruQnGZgpKyGtS3DxXY6bpQ5OklPJkRj9AAFtg0sRgYRJNEd98ADp2th0lW8M3VoQJ7ZqAv\n",
              "1mXZX0L8vrgQFSekqY6BQeTBhBA4pbTCJJux73QtOocV2EtTo5BvkPDwfdHQ+rDAJtdjYBB5oOZO\n",
              "i+MO7O8aOh3rieGBMOp1WJ+tQzwLbHIzBgaRhxiw2nDsUhOKShUcPt+IAZu9wPb39cKqhXHI00v4\n",
              "waxwFtikGgYGkcquNnfBJCsoKTOjscPiWM/QhcJokLAmIx4h/iywSX0MDCIVdPcN4MCZOhTLZpyo\n",
              "Giqww4P88FSW/Q7sebEssMmzMDCI3EQIgZPVrSiWFew7XYuuPisAwEsDLJsbBaNewsP3xcDPx0vl\n",
              "SYlGx8AgcrGmDgt2l5thks243DhUYCdFBNrvwM7WITbUX8UJiZzDwCBygQGrDUcv2u/A/uLC9wrs\n",
              "RXHI10tYPCscGg0LbJo8xhwYjz32GOrr6+Hl5YXg4GC8/fbbyMrKcsVsRJNOZVMnimUzSk6a0TSs\n",
              "wM6UwpBvkPBEehyCWWDTJDXmwDCZTAgLCwMA7N69G8899xxOnz490XMRTRpdlgEcOFsHU6kC+VqL\n",
              "Yz0iyA/rsxOQp5cwNyZYxQmJJsaYA+NmWABAW1sbT6lpWrIX2C0oKlWw/0wduocV2CvSopGnl/DQ\n",
              "vGgW2DSljKvDeOaZZ3DkyBEAwMGDB0fdxmKxwGKxjFizWq3jeToij9HY0YtdJ2tQLCuobOpyrM+K\n",
              "DEKeXocN2TrEhLDApqlJI4QQ4/3kDz74AEVFRaOGxmuvvYatW7eOWMvNzcV///vf8T4dkSr6rTYc\n",
              "udAIk2zGkYuNsA4W2AG+3lidHgejXoIheSbPtmnKu6fAAICAgACYzWZERESMWB/tDKOgoACFhYX3\n",
              "8nREbnO5sRPFsoKSkzVo7hw6lrMTw2DUS3giIx4ztPxFQ5o+xnS0t7a2oru7G/Hx8QCAPXv2ICIi\n",
              "AuHh4bdsq9VqodVqR6x5e/MVNcmzdVoGcOBMLYpKFZysbnWsR87ww/psHYx6HeZEs8Cm6WlMgdHW\n",
              "1oa8vDz09PTAy8sLUVFR2L9/P0/FaVITQkC+1gJTqYIDZ4cKbG8vDVak2e/AXjEvGr7eLLBpehtT\n",
              "YCQlJeHEiROumoXIrRrbe1EyWGBfaR4qsFMig2A0SFiflYBoFthEDrwAS9NKv9WGLy40wlSq4Oh3\n",
              "TY4CO9DPG08MFtg5SSywiUbDwKBp4VJDB0yygt3lNWju7HOs65NmwqiXsCo9jgU20V3wO4SmrI7e\n",
              "fuw/UweTrKB8RIGtxYacBOTlSJgTPUO9AYkmGQYGTSlCCJy4egMm2YyDZ+vQ0z9UYD80LxpGvYTl\n",
              "aVEssInGgYFBU0J9Wy9KTppRLCuout7tWJ8dFQSjXsJT2QmIDmaBTXQvGBg0afUN2PDFhQYUlSr4\n",
              "8rsmDPbXCPLzxpqMeOTpJWQnhrHAJpogDAyadL5r6ICp1F5gX+8aKrANyYMF9qI4BLHAJppw/K6i\n",
              "SaG9tx/7TtfCJJtxWml1rEcHa7EhR4e8HB1SolhgE7kSA4M8lhACX1+5gWJZwcFzdejttwEAfLw0\n",
              "ePg+e4G9bG4UfFhgE7kFA4M8Tl1bD0rKzCguM+PasAJ7TvQM5OslrMtKQFSw9g5fgYhcgYFBHsEy\n",
              "YMXh840wyQqODSuwZ2h9sCbDfgd2psQCm0hNDAxS1YX6dphKzdhdbkZLd79jffGscOTrJaxcFItA\n",
              "Px6mRJ6A34nkdm09NwtsBWfMbY71mBAtNubosDFHwqzIIBUnJKLRMDDILWw2ga+vXoepVMGhc/Ww\n",
              "DNgLbF9vDR65LwZGvYQfpkaywCbyYAwMcqna1h7sLDOjuEyBcqPHsT43Zob9DuysBETMYIFNNBkw\n",
              "MGjCWQas+Ne3DTDJZhy/1ISbbwIcrPXBmsx4GPUSMnShLLCJJhkGBk2Yb2vbYZIV7DlVg9ZhBXZu\n",
              "SjiMegkrF8YhwI9v00s0WTEw6J60dffjk9M1MMlmnK0ZKrBjQ/yxMUeHPL0OSREssImmAgYGjZnN\n",
              "JvDfK9dhkhV8+r0C+9H5NwvsKHh78ZIT0VTCwCCn1bT2YKdsL7DNLUMF9rzYYBgH78AOD/JTcUIi\n",
              "ciUGBt1Rb//NAlvBvy83DxXY/j5YO1hgL0pggU00HTAwaFQVtW0wlSrYc6oWbT1DBfaS2REw6iU8\n",
              "viCWBTbRNMPAIIfW7j7sPWW/A7uitt2xHhfqj7zBO7ATIwJVnJCI1DSmwOjt7cWPfvQjfPvttwgI\n",
              "CEB0dDTeffddzJkzx1XzkYvZbAJfVTbDJJvxWUU9+gYLbD9vLzy6wF5gPzgnkgU2EY39DGPz5s1Y\n",
              "uXIlNBoN3nnnHWzatAlHjx51wWjkSsqNbuwsM2NnmRk1rSML7HyDhHWZCZjJApuIhhlTYPj7+2PV\n",
              "qlWOj3Nzc7F9+/YJH4pco7ffis8q6lEsm/FV5VCBHeLvg7WZCcg3SFgQH8ICm4hGdU8dRmFhIdau\n",
              "XTvqYxaLBRaLZcSa1Wq9l6ejcRBCoOLmHdjlNWjvHXA89sCcoQLb35cFNhHd2bgD44033sDly5dx\n",
              "+PDhUR/ftm0btm7dOmItNzd3vE9HY9TS1Ye9p2pQJJtxvm6owE4IC3C8B7YUzgKbiJynEeLmhQnn\n",
              "bd++Hf/85z/x+eefIywsbNRtRjvDKCgoQGFh4bgGpbuz2gS+utyMIlnBvyoa0GcdKrAfXxgLo16H\n",
              "B2ZHwosFNhGNw5jPMN566y18/PHHdwwLANBqtdBqR75stbc3L3u4gnKjG8Wygp1lZtS29TrWF8SH\n",
              "wKiXsDYzHmGBLLCJ6N6MKTDMZjO2bNmClJQUrFixAoA9GL755huXDEe319tvxafn6mGSFfyn8rpj\n",
              "PTTAF+sy45Gnl7AwIVTFCYloqhlTYOh0OozjChZNECEEzta0wSQr2HuqFh2DBbZGAzw4JxJGvYRH\n",
              "58ewwCYil+Cd3pPAja4+7CmvgUlWcKG+w7GumxmAvBwJG3ISoJvJApuIXIuB4aGsNoHjl5pgkhX8\n",
              "69sG9FvtZ3Z+Pl5YuTAWRr2E+1MiWGATkdswMDzMtetdKJbNKDlpRt2wAntRQiiMeh2ezEhAaKCv\n",
              "ihMS0XTFwPAAPX1WHDpXB5Os4OsrNxzrYYG+WJeZAKNewvz4EBUnJCJiYKhGCIHTZnuBve9ULTos\n",
              "QwX2D1OjYNTr8Oj8GGh9WGATkWdgYLjZ9U4LdpfXoFg242LDUIEthdsL7I05OsSHBag4IRHR6BgY\n",
              "bjBgteH4pWaYZAWfnx8qsLU3C2yDhNxZLLCJyLMxMFyoqrkLxWX2O7Ab2odeJiVDF4o8vYQ1GfEI\n",
              "DWCBTUSTAwNjgnX3DeDQ2XoUyQpOXB0qsGcG+uKpLB2MBh3mxbLAJqLJh4ExAYQQOKW02gvs03Xo\n",
              "HCywvTTA0rlRMOolPHxfNAtsIprUGBj3oLnTgj3lNSgqVXCpsdOxnhgeCKNehw05OsSFssAmoqmB\n",
              "gTFGA1Ybjl1qQlGpgsPnGzFgsxfY/r5eWLUwDkaDhMXJ4SywiWjKYWA46WpzF0yygpIyMxo7hhXY\n",
              "Uhjy9RKeyIhDiD8LbCKauhgYd9BlGcDBs3Uols04UTVUYIcH+WF9VgLy9BLSYoNVnJCIyH0YGN8j\n",
              "hMDJ6lYUywr2na5FV5/9fci9NMDytGgY9To8NC8Gfj5eKk9KROReDIxBTR0W7C43wySbcXlYgZ0c\n",
              "EYg8vYQN2TrEhvqrOCERkbqmdWAMWG04erEJRbKCIxeGCuwAX2+sWhSHfIMEQ/JMaDQssImIpmVg\n",
              "VDZ1Ol5CvGlYgZ2VaC+wV6fHIZgFNhHRCNMmMLosAzhwxv4S4vK1Fsd65Aw/rM/WIS9Hh9QYFthE\n",
              "RLczpQNDCIGyay0wyQr2n6lD92CB7e2lwYq0KOTpJTw0Lxq+3iywiYjuZkoGRmNHL3adtL8H9pWm\n",
              "Lsd6SmQQ8vQS1mcnICaEBTYR0VhMmcDot9pw5EIjTLIZRy42wjpYYAf6eWP1Ivsd2PokFthEROM1\n",
              "psB48cUX8cknn+DatWsoLy9HZmami8Zy3uXGThTLCkpO1qC5c6jAzkmaCaNeh9Xp8ZihnTK5SESk\n",
              "mjH9JN24cSNefvllPPjgg66axymdlgEcOFOLolIFJ6tbHeuRM7TYkG2/A3tO9Az1BiQimoLGFBhL\n",
              "ly511Rx3JYSAfK0FRaUKDpypQ0//8AI7GvkGCcvTolhgExG5iMuu1VgsFlgslhFrVqt1XF+ryzKA\n",
              "Ne/8e2SBHRWEfL2Ep7ITEB3MApuIyNVcFhjbtm3D1q1bR6zl5uaO62sFaX0QOUOLhrZePJEeD6NB\n",
              "h+xEFthERO6kEUKIsX5ScnIy9uzZc8fSe7QzjIKCAhQWFo55SMD+/thRwVoEscAmIlKFy376arVa\n",
              "aLXaEWve3uN/i9LkyKB7HYmIiO7BmBrin//859DpdDCbzXj88ccxZ84cV81FREQeZkxnGH/7299c\n",
              "NQcREXk4/g4qERE5ZVyl93itX78eycnJ4/pcq9WKEydOYPHixffUhbgSZ5wYnj6jp88HcMaJMl1m\n",
              "TEpKwksvvXTX7dwaGPeivb0doaGhaGtrQ0hIiNrjjIozTgxPn9HT5wM440ThjCPxkhQRETmFgUFE\n",
              "RE5hYBARkVMmTWBotVq8+uqrt9wM6Ek448Tw9Bk9fT6AM04UzjjSpCm9iYhIXZPmDIOIiNTFwCAi\n",
              "IqcwMIiIyCkeFxiXLl3CkiVLMHfuXBgMBlRUVIy63XvvvYfU1FTMnj0bP/vZz9Df3+9RMx49ehQB\n",
              "AQHIzMx0/Onp6XHLfC+++CKSk5Oh0Whw6tSp226n5j50ZkY192Fvby/WrVuHuXPnIiMjA48++igu\n",
              "X7486rb79+/HvHnzkJqaivXr16O9vd2jZqyqqoK3t/eI/VhZWemWGQHgscceQ3p6OjIzM/HDH/4Q\n",
              "5eXlo26n5vHozIxqHo83vf/++9BoNNizZ8+oj7v8WBQeZsWKFeL9998XQghRXFws9Hr9LdtcuXJF\n",
              "xMXFibq6OmGz2cSaNWvEO++841EzHjlyRGRkZLhtpuG+/PJLoSiKSEpKEuXl5aNuo/Y+dGZGNfdh\n",
              "T0+POHDggLDZbEIIIXbs2CGWLVt2y3YdHR0iOjpanD9/XgghxK9+9Svxu9/9zqNmvHr1qggNDXXL\n",
              "TKNpaWlx/PeuXbtEenr6LduofTw6M6Oax6MQ9v+P999/v8jNzRW7d+++5XF3HIsedYbR2NgIWZbx\n",
              "9NNPAwA2bNgARVFu+VfTzp078eSTTyI2NhYajQa/+MUv8PHHH3vUjGpaunQpdDrdHbdRcx8Czs2o\n",
              "Jn9/f6xatcrxro65ubmoqqq6ZbtDhw4hKysL8+bNAwD88pe/dNt+dHZGtYWFhTn+u62tbdR3ylT7\n",
              "eHRmRjXZbDZs2rQJO3bsuO2vz7rjWPSowFAUBXFxcfDxsb/qukajQWJiIqqrq0dsV11djaSkJMfH\n",
              "ycnJt2yj9owAUFlZiezsbBgMBvz1r391y3zOUnMfjoWn7MPCwkKsXbv2lvXR9mNdXR0GBgbcOR6A\n",
              "288IAF1dXTAYDMjOzsbrr78Oq9Xq1tmeeeYZSJKEgoICfPTRR7c87gnH491mBNQ7Ht966y088MAD\n",
              "yMnJue027jgW+X6nLpKdnQ2z2YzQ0FCYzWasWrUKkZGRMBqNao82aXjKPnzjjTdw+fJlHD582K3P\n",
              "OxZ3mjEuLg41NTWIjo7GjRs3kJ+fjzfffBMvv/yy2+b78MMPAQAffPABXnnlFRw8eNBtz+2su82o\n",
              "1vF47tw5lJSU4NixYy59Hmd41BmGJEkjElEIgerqaiQmJo7YLjExEdeuXXN8XFVVdcs2as8YEhKC\n",
              "0NBQAIBOp8OPf/xjHD9+3C0zOkPNfegsT9iH27dvx65du3Do0CEEBgbe8vho+3H4GagnzKjVahEd\n",
              "HQ0ACA8Px/PPP6/asfjss8/iyJEjuH79+oh1TzoebzejWsfj8ePHUVVVhdTUVCQnJ+Prr7/G5s2b\n",
              "8e67747Yzi3H4oQ2IhNg2bJlIwrlnJycW7aprKy8pSDbsWOHR81YW1srrFarEEKI9vZ2sWTJEvHe\n",
              "e++5bUYhxB0LZbX34U13mlHtffjmm2+K7OxscePGjdtu097eLqKiokYUjVu2bHHXiE7N2NDQIPr6\n",
              "+oQQQvT29oqNGzeKgoICt8zX0tIiampqHB/v3r1bJCQkOIr6m9Q8Hp2dUe3j8aZly5aNWnq741j0\n",
              "uMC4cOGCyM3NFampqSInJ0ecOXNGCCHET3/6U7F3717Hdn//+99FSkqKSElJEc8//7zjG8JTZtyx\n",
              "Y4eYP3++SE9PF/PnzxevvvrqLQegq2zevFkkJCQIb29vER0dLWbPnn3LfEKouw+dmVHNfagoigAg\n",
              "UlJSREZGhsjIyBCLFy8WQghRUFAg3n33Xce2e/fuFWlpaWL27Nli7dq1orW11aNmLCkpEQsWLHDs\n",
              "x1//+teit7fXLTNWVVUJg8EgFi5cKNLT08XDDz/s+AeCpxyPzs6o5vE43PDAcPexyNeSIiIip3hU\n",
              "h0FERJ6LgUFERE5hYBARkVMYGERE5BQGBhEROYWBQURETmFgEBGRUxgYRETkFAYGERE5hYFBRERO\n",
              "YWAQEZFT/h9o9sVZVFJgewAAAABJRU5ErkJggg==\n",
              "\">\n",
              "        \n",
              "      </div>\n",
              "      <script></script>\n",
              "      <script type=\"text/javascript\">\n",
              "        (() => {\n",
              "          const chartElement = document.getElementById(\"chart-392efe92-58d7-4699-8cab-0908e05488b0\");\n",
              "          async function getCodeForChartHandler(event) {\n",
              "            const chartCodeResponse =  await google.colab.kernel.invokeFunction(\n",
              "                'getCodeForChart', [\"chart-392efe92-58d7-4699-8cab-0908e05488b0\"], {});\n",
              "            const responseJson = chartCodeResponse.data['application/json'];\n",
              "            await google.colab.notebook.addCell(responseJson.code, 'code');\n",
              "          }\n",
              "          chartElement.onclick = getCodeForChartHandler;\n",
              "        })();\n",
              "      </script>\n",
              "      <style>\n",
              "        .colab-quickchart-chart-with-code  {\n",
              "            display: block;\n",
              "            float: left;\n",
              "            border: 1px solid transparent;\n",
              "        }\n",
              "\n",
              "        .colab-quickchart-chart-with-code:hover {\n",
              "            cursor: pointer;\n",
              "            border: 1px solid #aaa;\n",
              "        }\n",
              "      </style>"
            ]
          },
          "metadata": {}
        },
        {
          "output_type": "display_data",
          "data": {
            "text/plain": [
              "import numpy as np\n",
              "from google.colab import autoviz\n",
              "\n",
              "def value_plot(df, y, figscale=1):\n",
              "  from matplotlib import pyplot as plt\n",
              "  df[y].plot(kind='line', figsize=(8 * figscale, 4 * figscale), title=y)\n",
              "  plt.gca().spines[['top', 'right']].set_visible(False)\n",
              "  plt.tight_layout()\n",
              "  return autoviz.MplChart.from_current_mpl_state()\n",
              "\n",
              "chart = value_plot(_df_1, *['Age'], **{})\n",
              "chart"
            ],
            "text/html": [
              "      <div class=\"colab-quickchart-chart-with-code\" id=\"chart-9be88137-3a7b-4615-a063-2afbfd9a1613\">\n",
              "        <img src=\"data:image/png;base64,iVBORw0KGgoAAAANSUhEUgAAAYwAAADECAYAAACMRRb/AAAAOXRFWHRTb2Z0d2FyZQBNYXRwbG90\n",
              "bGliIHZlcnNpb24zLjcuMSwgaHR0cHM6Ly9tYXRwbG90bGliLm9yZy/bCgiHAAAACXBIWXMAAA9h\n",
              "AAAPYQGoP6dpAAAkiUlEQVR4nO3deVhT994t8JUwBFABQREEkSJBxQlREHGqV2s9ttUqVVv1ahyK\n",
              "Q23Vzn1PbXt6evSettqiLVg9ilqtdcDpVG1tfZ21Ag6IM6LIIIrMypCE5Hf/sFIRrGEIOwnr8zx5\n",
              "ELJJVuImK8nOd2+ZEEKAiIjoCeRSByAiIvPAwiAiIoOwMIiIyCAsDCIiMggLg4iIDMLCICIig7Aw\n",
              "iIjIICwMIiIyCAuDiIgMwsIgIiKDsDCI/kJMTAxkMhnef/99qaMQSU7GfUkRPV5wcDCuX78OuVyO\n",
              "9PR0KBQKqSMRSYavMIgeIz4+HgkJCVi3bh0KCwuxefPmivPu3r0LlUoFV1dXeHl5ITIyEl5eXli9\n",
              "enXFMpcuXcLzzz+PVq1awdPTE7NmzUJxcbEEt4SofrAwiB4jKioKgYGBGDp0KEaOHImoqKiK8+bM\n",
              "mYMLFy4gKSkJV65cQVJSEm7fvl1xfk5ODvr164dBgwYhLS0NiYmJuHLlCubOnSvBLSGqJ4KIqsjL\n",
              "yxP29vYiKipKCCHEvn37BABx5swZUV5eLmxtbcWuXbsqli8sLBRyuVzExMQIIYRYtGiRCA0NrXSZ\n",
              "R44cEba2tqK8vLzBbgdRfeIrDKJqPNjYPX78eADAwIED4efnh6ioKOTk5ECj0aBt27YVyzs6OqJ5\n",
              "8+YV3ycnJ+PkyZNwdnauOA0bNgwymQy3bt1q8NtDVB9YGESPEEJg2bJl0Gg08Pf3h7u7Ozw8PJCR\n",
              "kYH169fDzs4Otra2uHHjRsXvFBUVIT8/v+J7d3d39O3bFwUFBRWnwsJClJWVwdPTU4qbRVRnLAyi\n",
              "R/z6669ITk7G3r17cebMmYrT2bNnAQBr167FuHHj8OmnnyIrKwslJSV45513IJf/+ec0efJknD59\n",
              "GlFRUSgpKYEQAunp6di+fbtEt4qo7lgYRI+Ijo7G4MGDMXDgQLi7u1eclEolpk2bhujoaERGRsLf\n",
              "3x+dOnWCUqlEQEAAXFxcYGdnBwDw9vbG8ePH8euvv6Jdu3ZwdnbGs88+i6SkJIlvHVHtcQ6DqB7k\n",
              "5+fD1dUVR48eRe/evaWOQ2QUfIVBVAtpaWk4ePAgdDodcnNzMWvWLCiVSgQHB0sdjchoWBhEtaDR\n",
              "aPD666/D2dkZSqUSBQUF2LlzJ6ytraWORmQ0fEuKiIgMwlcYRERkEBYGEREZhIVBREQGYWEQEZFB\n",
              "TKYwIiMjpY5ARER/wWQK4+H98hARkekxmcIgIiLTxsIgIiKDsDCIiMggLAyiOhBC4NCVOziXWSh1\n",
              "FCKj445viGrpzl01PtiahN8u3oattRyxM8LQxctJ6lhERsNXGES1sCcpC89+fQi/XbwNANCU6zFz\n",
              "/UkUlGgkTkZkPCwMohooLNFizo+nMXP9KeQVa9DBvRk2RoSirasDMvJLMXfjGej13J8nWaYaF4Za\n",
              "rcbs2bOhVCrRpUsXTJgwAcD9g96HhYXB398fwcHBOH/+fL2HJZLSwSt3MOTrg9hx5ibkMuC1ge2w\n",
              "c3Zf9PJ1RfT4HrCzkePA5TtY8r/JUkclMooab8N4//33IZPJcOXKFchkMty6dQsAMH36dERERECl\n",
              "UmHLli1QqVSIj4+v98BEDa1YXY5/7b6IH06kAQB8WzTBl2O6Ici7ecUyAa0d8a8Xu+CtzYmI3JeM\n",
              "wDbOeLq9m1SRiYyiRsfDKC4uhoeHBzIyMuDo6Fjx8+zsbPj5+SEvLw/W1tYQQsDDwwNHjhyBn5+f\n",
              "QZf95ptvYvHixTW/BURGFHc9D29vTkRaXgkAQBXmg/eGdoC9rVW1y/99WxLWn0iDk70Nfnq9L9q4\n",
              "ODRkXCKjqtFbUikpKXBxccGCBQvQs2dP9OvXD/v27UN6ejo8PDwqjjYmk8ng7e2NtLS0ai9HrVaj\n",
              "qKio0kmn09X91hDVkzKtDgt2X8TY5ceRllcCT2d7/DCtFz4Z3umxZQEAH70QgG5tnFFYqsWs9adQ\n",
              "puV6TZajRoVRXl6OGzduICAgAAkJCViyZAnGjh2L8vLyGl3pwoUL4eTkVOkUFxdXo8sgMpakjEK8\n",
              "sPQIlh+6BiGA0T28sGduP4T5tXji7yqsrRA1PgjNHWyQlFmIT3ZyWx5ZjhoVhre3N+RyOcaPHw8A\n",
              "6N69O5566incuHEDWVlZFcUhhEBaWhq8vb2rvZwPPvgAhYWFlU4hISF1vClEdaPV6fH1b1cwMuoo\n",
              "krPvoUVTBf4zsSe+GN0NjnY2Bl+Op7M9lrzSHTIZ8GN8OjbGV/9Km8jc1KgwWrRogUGDBuGXX34B\n",
              "AFy/fh3Xr19Hnz59EBQUhHXr1gEAYmNj4eXl9djtFwqFAo6OjpVOVlaPf5lPZGzJt+8iPPoYvv4t\n",
              "GeV6gWFd3LF3Xn8MDmhVq8vrp2yJt57xBwDM33EeSRmcBCfzV6ON3gBw7do1TJ06FTk5OZDL5fjo\n",
              "o48QHh6Oy5cvQ6VSITc3F46OjoiJiUGXLl0Mvlxu9CYp6PUCq45ex+e/XIamXA8next8OqIThndr\n",
              "DZlMVufLjvg+Ab9dzIZXc3v89HpfODvY1lNyooZX48IwFhYGNbS03BK8vSURcdfzAAAD/Fvi85e6\n",
              "opWjXb1dR2GpFsO/OYIbuSV4un1LrJoUDLm8bkVEJBVOelOjI4TADyfSMDTyEOKu58HB1goLRnbB\n",
              "6snB9VoWAOBkb8OhPrIYLAxqVG4XlWHy6nj8z7YklGh0CPFxwc9z+mNcL+86vwX1OA+G+gAgcl8y\n",
              "DlzONsr1EBkbC4MaBSEEdpzJxJCvDuHA5TuwtZbj78M6YkNEKLxdjT9cF97DC+N7eUMIYM6PZ5D+\n",
              "xyAgkTlhYZDFyyvWYPYPpzHnxzMoLNWii6cTdr3eF6/294VVA25P4FAfmTsWBlm03y7cxpCvDmFX\n",
              "Uhas5TLMHazE1llhULZq1uBZONRH5o6FQRbpbpkW72xOxLS1Cci5p4bSrSm2zeqDuYP9YWMl3WrP\n",
              "oT4yZywMsjjHruZg6NeHsflkBmQyIKK/L/77el+TORoeh/rIXLEwyGKUanT4ZOd5jPvPCWQWlKKN\n",
              "iz02RvTG/wzrCDsb09qTwKyn/TC4oxuP1EdmhYVBFuF0Wj6eW3IYq4+lAgDG9fLGz3P6I+QpF2mD\n",
              "PYZcLsOiMYE8Uh+ZFRYGmTVNuR5f/HIJ4dHHcC2nGK0cFVg9ORgLRnZBE0WNjw/WoDjUR+aGhUFm\n",
              "62JWEUZ8exTf7k+BXgAvBrbG3rkDzOpIdxzqI3PCwiCzU67TI+rAVQz/5gguZhWhuYMNosYH4euX\n",
              "u8PJwfDdkJsKDvWRuWBhkFm5nlOM0d8dx+c/X4ZWJzC4YyvsnTcAw7p4SB2tTh4e6pu5/iSH+sgk\n",
              "sTDILOj1AmuOpeJvkYdwOq0AzRTW+OKlrlgxsQdaNlNIHa/OHh7qO5dZhI93cKiPTA8Lg0zezYJS\n",
              "TFwVh493nkeZVo+wdq74eV5/jO7Zxmg7DJTCw0N9GxM41Eemh4VBJksIgS0nM/DsV4dw5GoO7Gzk\n",
              "+MfwTlg3tRc8ne2ljmcUHOojU8bCIJN0564aEd+fxNubE3FXXY7u3s7Y/UY/TArzsfgDEHGoj0wV\n",
              "C4NMzp6kLDz79SH8euE2bKxkeOfZ9tg8vTd8WzaVOlqD4FAfmSoWBpmMwhIt5v54GjPXn0JesQYd\n",
              "3Jthx2t98dpAP1hLuMNAKXCoj0xR4/orJJN18ModPPv1IWw/cxNyGTDr6XbYMbsPAlo7Sh1NMhzq\n",
              "I1PDwiBJFavL8fdtSZi0Kg63isrwVIsm2DIzDO8O7QCFtWntMFAKHOojU8LCIMnEp+bhb5GHsf7E\n",
              "/Y+PqsJ8sPuNfgjybi5xMtPCoT4yFSwManBlWh0W7L6IMd8dR1peCVo72WH9tF74ZHgn2NvyVcWj\n",
              "ONRHpqLGheHj44P27dsjMDAQgYGB2LhxIwAgOTkZYWFh8Pf3R3BwMM6f50pNVZ3LLMTwb45g+aFr\n",
              "EAJ4qYcXfp7XH338WkgdzaRxqI9MQa32/7xx40YEBgZW+tn06dMREREBlUqFLVu2QKVSIT4+vj4y\n",
              "kgXQ6vSI2p+Cpf+bjHK9QIumtlg4qiueCWgldTSz0U/ZEm8PaY8vfrmM+TvOI8DDyWSOIkiNQ728\n",
              "JZWdnY2EhARMmDABABAeHo709HRcvXq1Pi6ezNzV7LsIjz6Gr367gnK9wLAu7tg7bwDLohZmDmjH\n",
              "oT6STK0KY+LEiejSpQumTp2KO3fuID09HR4eHrC2vv+CRSaTwdvbG2lp1b9sVqvVKCoqqnTS6bgh\n",
              "z9Lo9QL/OXwNw5YcwdmMQjjaWSPy5UB8Oy4ILk1spY5nljjUR1KqcWEcOnQIZ8+exalTp9CiRQtM\n",
              "mjSpxle6cOFCODk5VTrFxcXV+HLIdKXnleDlFb/js10XoSnXY4B/S+ydNwAjAj0taoeBUuBQH0lF\n",
              "JoSo9dOTrKws+Pv7IyUlBX5+fsjLy4O1tTWEEPDw8MCRI0fg5+dX5ffUajXUanWln82fPx+RkZG1\n",
              "jUImQgiBH+PT8dlPF1Cs0cHB1gofPheAV0Isa8+ypiD2ZAbe2pwImQxYpQrGQDM60iCZpxq9wigu\n",
              "LkZBQUHF9xs2bED37t3h5uaGoKAgrFu3DgAQGxsLLy+vassCABQKBRwdHSudrKz4cUpzd7uoDJNX\n",
              "x+ODrUko1ugQ4uOCn+f0x7he3iwLI3h4qG8uh/qoAdToU1K3b99GeHg4dDodhBDw9fXF2rVrAQDf\n",
              "ffcdVCoVFixYAEdHR8TExBglMJmmnYk3MX/7ORSWamFrLcc7Q9pjSt+nYGXhe5aV2kcvBODczSIk\n",
              "phdg5vqT2DIjDHY2fPJFxlGnt6Tq05tvvonFixdLHYNqKK9Yg/k7zmHX2SwAQGdPRyweEwj/Vs0k\n",
              "TtZ4ZBaU4vklh5FfosXYnm3w75e6Sh2JLBQnvanW9l28jSFfHcKus1mwksswZ5AS22b1YVk0MA71\n",
              "UUNhYVCN3S3T4t0tiZi6JgE599RQujXF9ll9MO8Zf9g0st2Qm4oHQ30Aj9RHxsO/bqqRYyk5GPr1\n",
              "YWxKyIBMBrza7yn89/W+nDg2ARzqI2NjYZBBSjU6fLLzPMatOIHMglK0cbHHj6+G4u/PBXAjq4ng\n",
              "UB8ZGwuDnuh0Wj6eW3oYq4+lAgBeCfHGnjn90cvXVdpgVAWH+siYWBj0WJpyPb785TLCo4/h2p1i\n",
              "uDVTIGZyMBaO6oKmilrtt5IawKNH6tvPI/VRPWFhULUu3SrCi98exTf7r0IvgBGBrbF3Xn9OE5sJ\n",
              "DvWRMbAwqBKdXiDqwFW8sPQILmQVobmDDaLGByHy5e5wduAOA80Jj9RH9Y2FQRWu5xRj9LJj+Pzn\n",
              "y9DqBAZ3dMMv8/pjWBcPqaNRLfBIfVTfWBgEvV5g7fFUDIs8jFNpBWiqsMbnL3XFiok94dbMTup4\n",
              "VAeezvZY+koQ5Bzqo3rAwmjkCku0mBQTh492nEepVofevq74eW4/jOnJvctair7KFniLQ31UD1gY\n",
              "jVhmQSnClx3D4eQc2NnI8ckLAVg/rRe8mjtIHY3qGYf6qD6wMBqp8zcLMfLbo7iafQ/ujnbYNqsP\n",
              "VH2egpx7l7VIjw71zfmRQ31UcyyMRuhw8h2M/e53ZN9Vo32rZtj2Whg6ejhKHYuM7OGhvoNX7iBy\n",
              "H4f6qGZYGI1M7MkMTI6Jxz11OUJ9XbBpRm94ONlLHYsayMNDfUv+l0N9VDMsjEZCCIFv91/FW5sT\n",
              "Ua4XGN6tNdZMCYGTvY3U0aiBcaiPaouF0QiU6/T4+/Zz+OKXywCAGQPa4euxgVBYc6eBjRWH+qg2\n",
              "WBgWrkRTjunfn8QPJ9IgkwGfjuiE9//WgRu3G7kHQ30uTWw51EcGY2FYsJx7aryy4gT2XcqGwlqO\n",
              "6PE9MLG3j9SxyER4OttjycvdOdRHBmNhWKjUnGKERx9DYnoBmjvY4IdXQzG0s7vUscjEcKiPaoKF\n",
              "YYFOp+VjVPQx3MgtQRsXe8TODEOPts2ljkUmikN9ZCgWhoX59cJtvLLid+QVa9DF0wlbZ/aBb8um\n",
              "UsciE8ahPjIUC8OCfP/7DUz/PgFlWj0Gtm+JHyNC0bKZQupYZAY41EeGqHVhxMTEQCaTYfv27QCA\n",
              "7OxsDB06FEqlEp07d8ahQ4fqKyM9gRACn/98CfO3n4NeAC8Ht8GKiT3RhEfFoxrgUB89Sa0KIzU1\n",
              "FStWrEBoaGjFz95//32EhoYiOTkZMTExGDduHLRabb0FpeppyvV4c1Miog6kAADefMYfC0d1gbUV\n",
              "XzxSzXGoj/5KjR9V9Ho9pk2bhqVLl0Kh+PPtjk2bNmHGjBkAgODgYLRu3RoHDx6sv6RURVGZFpNX\n",
              "x2Hb6UxYy2X44qWueGOQkrslpzrhUB89To0LY/HixejTpw969OhR8bPc3FxotVq4u//5sU0fHx+k\n",
              "pVX/uW61Wo2ioqJKJ52OK2VN3Cosw5hlx3H0ai6a2FphpSoYo3u2kToWWQAO9dHj1Kgwzp07h9jY\n",
              "WHz44Yd1utKFCxfCycmp0ikuLq5Ol9mYXL51FyOjjuLSrbto2UyBjdN7Y4B/S6ljkQXhUB9Vp0aF\n",
              "cfjwYaSmpkKpVMLHxwe///47IiIisGnTJlhbW+PWrVsVy6ampsLb27vay/nggw9QWFhY6RQSElK3\n",
              "W9JIHE/JxUvLjiGrsAztWjbB1plh6OzpJHUsskAc6qNH1agwZs6ciaysLKSmpiI1NRWhoaFYvnw5\n",
              "Zs6cidGjR2PZsmUAgPj4eGRmZmLAgAHVXo5CoYCjo2Olk5UVd4T3JDsTb2LSqjjcLStHz7bNETsz\n",
              "DG1ceHQ8Mp5Hh/ryiznU15jV20dp/v3vf+PYsWNQKpVQqVRYt24dbGy46+z6IITA8kMpeGPDaWh0\n",
              "evytszvWTesFZwdbqaORhXt0qG/uxjPQcaiv0ZIJIUzif//NN9/E4sWLpY5hcnR6gX/+dAGrj6UC\n",
              "ACb38cH85wK4t1lqUBduFmFU9FGUafWYM0iJec/4Sx2JJMAP65uwMq0Or60/VVEWHz7XER+/0Ill\n",
              "QQ2OQ30EsDBMVn6xBuP/cwI/n78FWys5vhnXHdP6+UodixoxDvURC8MEpeeVIHzZMZy8kQ9HO2t8\n",
              "PzUEz3dtLXUsIg71NXIsDBOTlFGIkVHHcO1OMTyd7++avJevq9SxiADcH+qL5lBfo8XCMCH7L2dj\n",
              "7PLjyLmnRkcPR2ydFQZlq2ZSxyKqpDWH+hotFoaJ2BifhmlrElCi0aGfsgU2TQ9FK0c7qWMRVYtD\n",
              "fY0TC0NiQgh89esVvBebBJ1eYFSQJ1ZOCkYzO86wkGl7eKhvxjoO9TUGLAwJaXV6vBd7tuJgNa//\n",
              "Hz8sGt0Nttb8byHT9/BQX2YBh/oaAz4ySaRYXY5paxKwKSEDchnwr5Gd8daQ9tw1OZmVR4/Ut4RH\n",
              "6rNoLAwJZN8tw9jlx3Hwyh3Y21hhxcSeGN+rrdSxiGqFQ32NBwujgaXcuYdRUcdwLrMIrk1ssSEi\n",
              "FIM6tpI6FlGdcKivcWBhNKCE1DyERx9DRn4pfFwdsHVWGALbOEsdi6hecKjP8rEwGsiepCyM+88J\n",
              "FJRoEdjGGbEzw9DWtYnUsYjqDYf6LB8LowHEHL2OWT+cgqZcj8EdW2HDq6Fwbap48i8SmZlHh/p+\n",
              "jONQnyVhYRiRXi+wYPdF/OO/FyAEMCHUG8smBMHelgeLIsv18FDfRzs51GdJWBhGoi7XYc7GM1h+\n",
              "6BoA4N2h7fHPEZ1hbcW7nCwfh/osEx+9jKCwVIuJK+Pw38SbsLGS4aux3TDraT/OWFCjwaE+y8TC\n",
              "qGeZBaUYvewYTlzPQzOFNVZPDsHI7l5SxyJqcBzqszwsjHp04WYRRkUdxZXb9+DuaIdNM3qjj18L\n",
              "qWMRSYZDfZaFhVFPjl7NwZjvjuN2kRr+rZpi66wwdPRwlDoWkeTCe3hhQiiH+oxJq9M3yPVYN8i1\n",
              "WLitpzLw7pazKNcLhPq64Lv/2xNO9tzbLNED858PQFJmERLTCzBz/UlsmREGOxt+WrA6QgjcVZcj\n",
              "v1iD3GJNxde8h/5d8bVEg7x7GpRodUj+7G+Qy427nZSFUQdCCEQdSMEXv1wGALzQrTW+HN0VCmv+\n",
              "IRA97MFQ3/NLj1QM9f37pa5Sx2oQWp3+/gN78Z+n6sqg4rwSDbS6mn9AoKhMC2cHWyPcgj+xMGqp\n",
              "XKfHxzvPY/2J+4NJ0/v74r2hHYze8ETm6sFQ38RVJ7AxIR3dvZ3xcoi31LFqRAiBYo2u6jP9igd+\n",
              "NfKKtcgrViO/RIvce2oUlZXX6rrsbazg0sS24uTaxBbNH/r+0fMa4l2NGhfGkCFDcOvWLcjlcjRr\n",
              "1gxLlixB9+7dkZycjEmTJiEnJwdOTk5YvXo1OnXqZIzMkivRlOONDafx28VsyGTAx88HQNXnKalj\n",
              "EZm8B0N9X/xyGR/tPI9OrZ3QxctJsjw6vUB+yZOf8efe++NrsQaa8ppvL5DJAGd7mz8e3BVo3sQG\n",
              "Lk0UcHnka0UpONia5IBvjQtj06ZNcHZ2BgBs27YNKpUKiYmJmD59OiIiIqBSqbBlyxaoVCrEx8fX\n",
              "d17J5d5TY8qaBCSmF0BhLUfky90xtLO71LGIzMbMAe1wOi0fv13Mxox1J/HT633RvEn9vJVSqtEh\n",
              "t1hd6QH/cQ/8ecUaFJZqIWoxHqKwllf/jN/BFi5N/3g14GAL16b3vzo72MLKAt59qHFhPCgLACgs\n",
              "LIRMJkN2djYSEhKwd+9eAEB4eDhmz56Nq1evws/Pr97CSi01pxiqmDik5pbA2cEGKyf1RI+2LlLH\n",
              "IjIrD4b6hn9zBDdySzB34xmsUgVXeUDV6wUKSrWPfeDPK1Yjr+SPt3+KtcgtVqNMW7tPCznZ21Qu\n",
              "gEce+F2a/vGzP853sLVqlIO4tdqGMXHiROzfvx8AsHv3bqSnp8PDwwPW1vcvTiaTwdvbG2lpadUW\n",
              "hlqthlqtrvQznc60d4V8Oi0fU9ckIK9YA6/m9lgzJQTtWjaVOhaRWXow1Dcq+igOXrmDKavjYW9j\n",
              "hbySPzcK55doUJvhcBsr2R8P7A+95ePwx9dHHvhdmtjC2cEGNtxlj0FqVRhr164FAKxZswbvvfce\n",
              "/vnPf9bo9xcuXIh//OMflX4WGhpamygN4rcLtzF7wymUafXo4umElaqecGtmJ3UsIrP2YKjvrc2J\n",
              "OHjlzmOXa2ZnXfktnyZVn/E/fGqqsG6Uz/4bgkyI2ryD9yd7e3ukpqZCqVQiLy8P1tbWEELAw8MD\n",
              "R44cMfgVxvz58xEZGVmXKEax/sQNzN9+DnoBPN2+Jb4dF4QmCn64jKi+bD+diWs5xXCt5sG/uYMt\n",
              "bK357N9U1OiRr6CgACUlJWjdujUAYPv27XB1dYWbmxuCgoKwbt06qFQqxMbGwsvL67HbLxQKBRSK\n",
              "yseDsLIyrU8ECCHw5d7L+HZ/CgBgbM82+GxkZ750JapnL3b3lDoCGahGhVFYWIjRo0ejtLQUcrkc\n",
              "LVu2xE8//QSZTIbvvvsOKpUKCxYsgKOjI2JiYoyV2eg05Xq8v/Ustp7KBADMG+yPNwZxb7NE1LjV\n",
              "qDDatm2LuLi4as9r3749jh8/Xi+hpHS3TIuZ607hyNUcWMllWDiqC8b0bCN1LCIiyfHN+IfcLirD\n",
              "pFVxuHTrLhxsrRA1PghPt3eTOhYRkUlgYfzhyu27UK2Kw83CMrRoqsDqycHo7CndBCoRkalhYQD4\n",
              "/VouItYmoKisHL4tm2DN5BC0cXGQOhYRkUlp9IXx38SbeGtTIjQ6PXq2bY4VE3vW224KiIgsSaMt\n",
              "DCEEVh65js92XQQADO3kjq9fDuQ++omIHqNRFoZOL/DZrguIOZoKAFCF+WD+8wEWsXMwIiJjaXSF\n",
              "UabVYd7GM9hz7hYA4MPnOmJq36c4Y0FE9ASNqjDyizV4dW0CEm7kw9ZKjkVjuuGFbq2ljkVEZBYa\n",
              "TWGk55VgUkwcrt0phqOdNZZP7IlQX1epYxERmY1GURjnMgsxeXU87txVo7WTHVZPCYF/q2ZSxyIi\n",
              "MisWXxgHLmdj1vpTKNHo0MG9GdZMCUErR+6anIiopiy6MDYlpOODrUnQ6QX6+rVA9IQgNLMz/oHS\n",
              "iYgskUUWhhACS/ZdxVe/XQEAjOruif8X3pX71SciqgOLKwytTo8Pt53DxoR0AMBrA9vh7SHt+bFZ\n",
              "IqI6sqjCKFaX47UfTuHA5TuQy4BPR3TGhNC2UsciIrIIFlMYd+6qMWV1PJIyC2FnI8c3rwRhcEAr\n",
              "qWMREVkMiyiMlDv3oIqJQ3peKVya2GKVKhiBbZyljkVEZFHMvjBOpeVjyup4FJRo0dbVAWsmh8Cn\n",
              "RROpYxERWRyzL4ymCmvo9ALd2jhj1aSecG2qkDoSEZFFMvvC8G/VDBteDYVvyyZwsDX7m0NEZLIs\n",
              "4hGWh1IlIjI+TrIREZFBWBhERGQQFgYRERlEJoQQUocAgFGjRsHHx6dWv6vT6RAXF4eQkBBYWZne\n",
              "MbmZr26Yr26Yr24aQ762bdtizpw5T1zOZAqjLoqKiuDk5ITCwkI4OjpKHacK5qsb5qsb5qsb5vsT\n",
              "35IiIiKDsDCIiMggLAwiIjKIRRSGQqHAxx9/DIXCNHcLwnx1w3x1w3x1w3x/soiN3kREZHwW8QqD\n",
              "iIiMj4VBREQGYWEQEZFBzKowkpOTERYWBn9/fwQHB+P8+fPVLrdy5UoolUq0a9cOr776KrRarcnk\n",
              "O3DgAOzt7REYGFhxKi0tNXq2N954Az4+PpDJZDhz5sxjl5PqvjMkn1T3HQCUlZXhxRdfhL+/P7p1\n",
              "64ZnnnkGV69erXbZn376CR06dIBSqcSoUaNQVFRkMvlSU1NhZWVV6T5MSUkxej4AGDJkCLp27YrA\n",
              "wED069cPp0+frnY5qdZBQ/JJuQ4+EBMTA5lMhu3bt1d7vlHXP2FGBg4cKGJiYoQQQmzevFn07Nmz\n",
              "yjLXrl0THh4eIisrS+j1evHCCy+Ib775xmTy7d+/X3Tr1q1B8jzs4MGDIj09XbRt21acPn262mWk\n",
              "vO8MySfVfSeEEKWlpWLXrl1Cr9cLIYRYunSpGDBgQJXl7t69K9zc3MTFixeFEEK89tpr4u233zaZ\n",
              "fNevXxdOTk5Gz1Od/Pz8in9v3bpVdO3atcoyUq6DhuSTch0U4v7/X+/evUVoaKjYtm1blfONvf6Z\n",
              "zSuM7OxsJCQkYMKECQCA8PBwpKenV3kWtWXLFgwfPhzu7u6QyWSYMWMGNmzYYDL5pNK/f394eXn9\n",
              "5TJS3XeG5pOSnZ0dhg0bBplMBgAIDQ1FampqleX27NmD7t27o0OHDgCAWbNmNch9aGg+KTk7O1f8\n",
              "u7CwsCLrw6RcBw3JJyW9Xo9p06Zh6dKlj/0IrbHXP7MpjPT0dHh4eMDa+v4xn2QyGby9vZGWllZp\n",
              "ubS0NLRt27biex8fnyrLSJkPAFJSUhAUFITg4GBERUUZPZuhpLrvasJU7rvIyEiMGDGiys+ruw+z\n",
              "srJQXl7ekPEemw8AiouLERwcjKCgIHz66afQ6XQNlmvixIlo06YN5s+fj++//77K+VKvg0/KB0i3\n",
              "Di5evBh9+vRBjx49HruMsdc/izjinjkJCgpCRkYGnJyckJGRgWHDhqFFixYYM2aM1NFMnqncdwsW\n",
              "LMDVq1exb9++Br1eQ/1VPg8PD2RmZsLNzQ15eXkYO3YsFi1ahHfffbdBsq1duxYAsGbNGrz33nvY\n",
              "vXt3g1yvoZ6UT6p18Ny5c4iNjcWhQ4eMej1PYjavMNq0aVOpKYUQSEtLg7e3d6XlvL29cePGjYrv\n",
              "U1NTqywjZT5HR0c4Od0/pKyXlxdeeeUVHD582Oj5DCHVfWcoU7jvvvzyS2zduhV79uyBg4NDlfOr\n",
              "uw8ffuUpdT6FQgE3NzcAgIuLC6ZMmSLJ+jdp0iTs378fubm5lX5uKuvg4/JJtQ4ePnwYqampUCqV\n",
              "8PHxwe+//46IiAhER0dXWs7o61+9bQ1pAAMGDKi0UblHjx5VlklJSamy0Wzp0qUmk+/mzZtCp9MJ\n",
              "IYQoKioSYWFhYuXKlQ2STwjxlxuVpbzvDMkn9X23aNEiERQUJPLy8h67TFFRkWjZsmWljY5vvfWW\n",
              "yeS7ffu20Gg0QgghysrKxEsvvSTmz59v9Gz5+fkiMzOz4vtt27YJT0/Pio30D0i1DhqaT+p18IEB\n",
              "AwZUu9Hb2OufWRXGpUuXRGhoqFAqlaJHjx7i7NmzQgghpk6dKnbs2FGx3PLly4Wvr6/w9fUVU6ZM\n",
              "qfgDMYV8S5cuFQEBAaJr164iICBAfPzxx1VWSmOIiIgQnp6ewsrKSri5uYl27dpVySaEdPedIfmk\n",
              "uu+EECI9PV0AEL6+vqJbt26iW7duIiQkRAghxPz580V0dHTFsjt27BDt27cX7dq1EyNGjBAFBQUm\n",
              "ky82NlZ06tSp4j6cPXu2KCsrM3q+1NRUERwcLDp37iy6du0qBg0aVPHEwBTWQUPzSbkOPuzhwmjI\n",
              "9Y/7kiIiIoOYzTYMIiKSFguDiIgMwsIgIiKDsDCIiMggLAwiIjIIC4OIiAzCwiAiIoOwMIiIyCAs\n",
              "DCIiMggLg4iIDMLCICIig/x/xT/ClapiKdsAAAAASUVORK5CYII=\n",
              "\">\n",
              "        \n",
              "      </div>\n",
              "      <script></script>\n",
              "      <script type=\"text/javascript\">\n",
              "        (() => {\n",
              "          const chartElement = document.getElementById(\"chart-9be88137-3a7b-4615-a063-2afbfd9a1613\");\n",
              "          async function getCodeForChartHandler(event) {\n",
              "            const chartCodeResponse =  await google.colab.kernel.invokeFunction(\n",
              "                'getCodeForChart', [\"chart-9be88137-3a7b-4615-a063-2afbfd9a1613\"], {});\n",
              "            const responseJson = chartCodeResponse.data['application/json'];\n",
              "            await google.colab.notebook.addCell(responseJson.code, 'code');\n",
              "          }\n",
              "          chartElement.onclick = getCodeForChartHandler;\n",
              "        })();\n",
              "      </script>\n",
              "      <style>\n",
              "        .colab-quickchart-chart-with-code  {\n",
              "            display: block;\n",
              "            float: left;\n",
              "            border: 1px solid transparent;\n",
              "        }\n",
              "\n",
              "        .colab-quickchart-chart-with-code:hover {\n",
              "            cursor: pointer;\n",
              "            border: 1px solid #aaa;\n",
              "        }\n",
              "      </style>"
            ]
          },
          "metadata": {}
        },
        {
          "output_type": "display_data",
          "data": {
            "text/plain": [
              "<google.colab._quickchart_helpers.SectionTitle at 0x7b628ffc5390>"
            ],
            "text/html": [
              "<h4 class=\"colab-quickchart-section-title\">Distributions</h4>\n",
              "<style>\n",
              "  .colab-quickchart-section-title {\n",
              "      clear: both;\n",
              "  }\n",
              "</style>"
            ]
          },
          "metadata": {}
        },
        {
          "output_type": "display_data",
          "data": {
            "text/plain": [
              "import numpy as np\n",
              "from google.colab import autoviz\n",
              "\n",
              "def histogram(df, colname, num_bins=20, figscale=1):\n",
              "  from matplotlib import pyplot as plt\n",
              "  df[colname].plot(kind='hist', bins=num_bins, title=colname, figsize=(8*figscale, 4*figscale))\n",
              "  plt.gca().spines[['top', 'right',]].set_visible(False)\n",
              "  plt.tight_layout()\n",
              "  return autoviz.MplChart.from_current_mpl_state()\n",
              "\n",
              "chart = histogram(_df_2, *['No'], **{})\n",
              "chart"
            ],
            "text/html": [
              "      <div class=\"colab-quickchart-chart-with-code\" id=\"chart-18da1fb9-55cb-47d2-b077-efe996b65c6e\">\n",
              "        <img src=\"data:image/png;base64,iVBORw0KGgoAAAANSUhEUgAAAYwAAADECAYAAACMRRb/AAAAOXRFWHRTb2Z0d2FyZQBNYXRwbG90\n",
              "bGliIHZlcnNpb24zLjcuMSwgaHR0cHM6Ly9tYXRwbG90bGliLm9yZy/bCgiHAAAACXBIWXMAAA9h\n",
              "AAAPYQGoP6dpAAAYkElEQVR4nO3df1CT9+EH8HdEm+pmQAWOHCFw/IpaBQThKNqfrpu6CQ68rt3h\n",
              "SJUfTjfb002K1Guxm7hr3aTuWqF4bJZb251gZVTXzZZZbbWItU6hKz8EEy3KViroClHC5/sHM1/T\n",
              "gH2emCeJ8H7dPXfk4cOTN/FT3k2e5POohBACRERE32CcpwMQEdGdgYVBRESSsDCIiEgSFgYREUnC\n",
              "wiAiIklYGEREJAkLg4iIJGFhEBGRJCwMIiKShIVBRESSsDCIXODBBx+ESqXCX/7yF7v9mZmZMBqN\n",
              "nglF5GIsDCIX8ff3x/r163Ht2jVPRyFSBAuDyEWMRiMGBwfx0ksvDfv9y5cvIzc3FzqdDv7+/li0\n",
              "aBE+++wzN6ckch4Lg8hF1Go1XnzxRTz//PPo6upy+P7y5cvR0tKChoYGmEwmGAwGfOc738HVq1c9\n",
              "kJZIPhYGkQstXboUc+fOxcaNG+32d3Z2ora2Ftu3b0dQUBAmTZqEF154AX19faitrfVQWiJ5WBhE\n",
              "LlZSUoLXXnsNJ0+etO0zm80AgIiICNu+CRMmIDQ0FCaTye0ZiZzBwiBysVmzZiE7OxtPPvmkbV9I\n",
              "SAgAoK2tzbZvYGAAJpMJer3e7RmJnMHCIFLA5s2bcebMGbzzzjsAAK1Wi8WLF2P9+vW4dOkS+vr6\n",
              "kJ+fj7vuugvf//73PZyWSBoWBpECpk2bhueeew7/+c9/bPtee+01hIWFIT4+HjqdDo2NjTh48CAm\n",
              "T57swaRE0ql4TW8iIpKCzzCIiEgSFgYREUnCwiAiIklYGEREJAkLg4iIJGFhEBGRJCwMIiKSZFQU\n",
              "RklJiacjEBGNeqOiMM6dO+fpCEREo96oKAwiIlKeooWxdu1ahIWFQaVS4ZNPPhlx3K5duxAVFYWI\n",
              "iAjk5OTg+vXrSsYiIiInKFoYy5Ytw5EjRxAaGjrimPb2dmzatAmHDx9Ga2srLl26hLKyMiVjERGR\n",
              "ExQtjPvvvx86ne6WY/bs2YPU1FQEBQVBpVJh1apVeP3115WMRUREThjv6QAmk8nuGUhYWNgtr0Bm\n",
              "sVhgsVjs9lmtVsXyERHREI8XhlzFxcUoKiqy25ecnOz08cKefvu28nRsHXsXv7mdx4yPl3x8zOS5\n",
              "Ux+vO2GeePxdUnq93u5tsR0dHbe8ZGVBQQF6enrstqSkJHdEJSIa0zxeGBkZGaipqcHFixchhMDO\n",
              "nTvx2GOPjTherVZDo9HYbT4+Pm5MTEQ0NilaGHl5edDpdDh//jy+973vITIyEgCQnZ2NmpoaAEB4\n",
              "eDiKioowb948REZGIiAgAHl5eUrGIiIiJyh6DqO0tHTY/eXl5Xa3c3JykJOTo2QUIiK6TR5/SYqI\n",
              "iO4MLAwiIpKEhUFERJKwMIiISBIWBhERScLCICIiSVgYREQkCQuDiIgkYWEQEZEkLAwiIpKEhUFE\n",
              "RJKwMIiISBIWBhERScLCICIiSVgYREQkCQuDiIgkYWEQEZEkihZGS0sLUlJSEB0djcTERDQ2NjqM\n",
              "GRwcxLp16zBz5kzExMTgoYceQmtrq5KxiIjICYpf0zs3NxfNzc3Iz8+H0Wh0GFNTU4MPPvgAp06d\n",
              "wj//+U8sWLAAGzduVDIWERE5QbHC6OrqQkNDAzIzMwEAGRkZMJvNDs8eVCoVLBYL+vv7IYRAb28v\n",
              "dDqdUrGIiMhJ45U6sNlshlarxfjxQ3ehUqmg1+thMpkQGRlpG7dkyRLU1dUhKCgIkydPRnBwMA4d\n",
              "OjTicS0WCywWi90+q9WqzC9BREQ2Hj/p3dDQgDNnzuDChQv4/PPPsWDBAqxatWrE8cXFxfD19bXb\n",
              "6uvr3ZiYiGhsUqwwQkJC0NnZiYGBAQCAEAImkwl6vd5u3O7du/Hwww/Dz88P48aNQ1ZWFurq6kY8\n",
              "bkFBAXp6euy2pKQkpX4NIiL6H8UKIzAwEPHx8aisrAQAVFVVQafT2b0cBQDh4eF47733cO3aNQBA\n",
              "bW0tZs2aNeJx1Wo1NBqN3ebj46PUr0FERP+j2DkMACgtLYXRaMSWLVug0WhQUVEBAMjOzkZqaipS\n",
              "U1OxZs0afPrpp4iNjcWECRMQFBSEnTt3KhmLiIicoGhhGAwGHD161GF/eXm57Wu1Wo1XX31VyRhE\n",
              "ROQCHj/pTUREdwYWBhERScLCICIiSVgYREQkCQuDiIgkkV0Y77zzjhI5iIjIy8kujM2bN8NgMKCk\n",
              "pAS9vb1KZCIiIi8kuzA++OADvPHGGzhz5gyio6OxevVqNDU1KZGNiIi8iFPnMObMmYNXX30Vf/3r\n",
              "X1FbW4uYmBg88sgjOH36tKvzERGRl3CqMA4ePIi0tDSkp6djzZo1uHjxIvLy8vDDH/7Q1fmIiMhL\n",
              "yF4aZMaMGfD398fatWuRnp5uW/hv2bJl2LVrl8sDEhGRd5BdGJWVlUhISBj2ewcOHLjtQERE5J1k\n",
              "vyR14sQJdHd3225/8cUXXDyQiGgMkF0YL7/8MqZOnWq7PW3aNLz88ssuDUVERN5HdmEIIRz28Zra\n",
              "RESjn+zC0Gq1+POf/2y7/eabb0Kr1bo0FBEReR/ZJ723b9+OtLQ0bNiwAQAwadIk7Nu3z+XBiIjI\n",
              "u8h+hjF9+nQ0NTVh//792L9/P06fPo2oqKhhx7a0tCAlJQXR0dFITExEY2PjsONOnz6NBx98EDNm\n",
              "zMCMGTNQXV0tNxYRESnMqUu0qlQq+Pn5YWBgABcuXAAA6PV6h3F5eXnIzc2F0WjEnj17YDQacfz4\n",
              "cbsxX331FdLS0rB7927Mnz8fVqvV7l1YRETkHWQ/w/jDH/4APz8/zJ49GwkJCUhISMDcuXMdxnV1\n",
              "daGhoQGZmZkAgIyMDJjNZrS2ttqN+9Of/oTk5GTMnz8fAODj44OAgABnfhciIlKQ7GcYzz//PI4f\n",
              "Pw6DwXDLcWazGVqtFuPHD92FSqWCXq+HyWRCZGSkbVxTUxPUajV+8IMf4Pz584iJicG2bdtGLA2L\n",
              "xQKLxWK3j+/SIiJSnuxnGP7+/t9YFnIMDAzg4MGDKC0txcmTJxEcHIyf/vSnI44vLi6Gr6+v3VZf\n",
              "X++yPERENDzZhbF06VJs374dXV1d6O3ttW1fFxISgs7OTgwMDAAY+vyGyWRyONeh1+vx0EMPITg4\n",
              "GCqVCpmZmTh27NiI919QUICenh67LSkpSe6vQUREMskujMLCQqxbtw5BQUGYMmUK/Pz8MGXKFIdx\n",
              "gYGBiI+PR2VlJQCgqqoKOp3O7uUoAHj00Udx/PhxW+ns378fsbGxI96/Wq2GRqOx224sgEhERMqR\n",
              "fQ5jcHBQ8tjS0lIYjUZs2bIFGo0GFRUVAIDs7GykpqYiNTUVer0eGzduREpKCsaNG4fg4GCUlZXJ\n",
              "jUVERApz6m21J06cQFNTE5YvX47Lly+jr69v2E97GwwGHD161GF/eXm53e3ly5dj+fLlzkQhIiI3\n",
              "cWrxwRUrVuC5554DMLRa7Y9//GNX5yIiIi8juzDKyspw7NgxaDQaAEBERAT+/e9/uzwYERF5F9mF\n",
              "oVarMXHiRLt9Nz5rQUREo5fswggICEBzczNUKhWAoU9+D7csCBERjS5OrVb7+OOP41//+hdCQkKg\n",
              "0WhQW1urRDYiIvIisgsjMjISH330ET777DMIIWAwGPg5CCKiMUB2YZhMJgDAt771LQC45Wq1REQ0\n",
              "esgujISEBKhUKggh0N/fj6+++grTpk1DV1eXEvmIiMhLyC6Mr7+Ftrq6GqdOnXJZICIi8k6y3yX1\n",
              "denp6Xj77bddkYWIiLyY7GcYN69Ma7Va8dFHHw27Wi0REY0usgvDz8/Pdg7Dx8cHUVFReOmll5TI\n",
              "RkREXkTR1WqJiGj0uO1zGERENDbIfoYxbtw427IgNxNCQKVS8fraRESjlOzC2Lx5M/r6+mzX3d65\n",
              "cycmTpyIp556ytXZiIjIi8gujL179+LEiRO227/61a+QkJCAwsJClwYjIiLvIvscxpUrV+w+1d3V\n",
              "1YUrV664NBQREXkf2YWxfv16xMbGYuXKlVi5ciXmzJmDX/7yl8OObWlpQUpKCqKjo5GYmIjGxsYR\n",
              "jyuEwMMPPww/Pz+5kYiIyA1kF0ZeXh7+/ve/Iy4uDnFxcfjb3/6GnJycEcfm5uaiubkZ+fn5MBqN\n",
              "Ix73d7/7HSIiIuTGISIiN3HqbbXTpk3D7Nmz8fOf/xwGgwHXrl1zGNPV1YWGhgZkZmYCADIyMmA2\n",
              "m9Ha2uowtrGxEW+99RaefvppZ+IQEZEbyC6MPXv2IDk5GU888QSAoT/2S5cudRhnNpuh1Wptl29V\n",
              "qVTQ6/W25dFvuH79OnJyclBaWirpuhoWiwW9vb12G9/KS0SkPNmFUVxcjI8//th2riE2Nhbnzp1z\n",
              "OkBRURHS09MxY8YMyffv6+trt9XX1zt9/0REJI3swvDx8cG0adPs9t11110O40JCQtDZ2YmBgQEA\n",
              "Qye1TSaTw4WWDh06hB07diAsLAzz589Hb28vwsLCHJZRv6GgoAA9PT12W1JSktxfg4iIZJL9OYzJ\n",
              "kyfj0qVLtk97v/vuu5g6darDuMDAQMTHx6OyshJGoxFVVVXQ6XSIjIy0G3f48GHb1x0dHYiLi0NH\n",
              "R8eI969Wq6FWq+328RKxRETKk10Yv/nNb7Bo0SKcPXsW8+fPR3t7+4jXwygtLYXRaMSWLVug0WhQ\n",
              "UVEBAMjOzkZqaipSU1NvLz0REbmNrMIYHByE1WpFXV0dPvzwQwghkJKSMuJnJwwGA44ePeqwv7y8\n",
              "fNjxYWFhuHz5spxIRETkJrIKY9y4ccjNzcWpU6ewaNEipTIREZEXkn3SOyoqatjPUhAR0egm+xxG\n",
              "d3c34uLikJKSgm9/+9u2/dXV1S4NRkRE3kVyYeTm5qKsrAxZWVlITU3FlClTlMxFREReRnJhNDQ0\n",
              "AACysrIQHx+Pjz/+WLFQRETkfZxaS0oI4eocRETk5SQ/w+jr68Pp06chhEB/f7/t6xtiYmIUCUhE\n",
              "RN5BVmHc/EG7m79WqVQ4e/asa5MREZFXkVwYt1qug4iIRj+nzmEQEdHYw8IgIiJJWBhERCQJC4OI\n",
              "iCRhYRARkSQsDCIikoSFQUREkrAwiIhIEkULo6WlBSkpKYiOjkZiYiIaGxsdxrz33ntISkrCzJkz\n",
              "cc8992DDhg0YHBxUMhYRETlB0cLIy8tDbm4umpubkZ+fD6PR6DBmypQpeOONN9DU1IQTJ07gww8/\n",
              "xO7du5WMRURETlCsMLq6utDQ0IDMzEwAQEZGBsxms8PV+ubMmYPw8HAAwN133424uDguQ0JE5IVk\n",
              "X3FPKrPZDK1Wi/Hjh+5CpVJBr9fDZDIhMjJy2J+5ePEi9uzZg9ra2hGPa7FYYLFY7PZZrVbXBSci\n",
              "omF5zUnv3t5eLFmyBBs2bMDcuXNHHFdcXAxfX1+7rb6+3o1JiYjGJsUKIyQkBJ2dnRgYGAAwdNEl\n",
              "k8kEvV7vMPbKlStYuHAh0tLSsG7dulset6CgAD09PXZbUlKSIr8DERH9P8UKIzAwEPHx8aisrAQA\n",
              "VFVVQafTObwcdfXqVSxcuBALFy7EM888843HVavV0Gg0dpuPj48ivwMREf0/RV+SKi0tRWlpKaKj\n",
              "o7F161ZUVFQAALKzs1FTUwMAKCkpQX19PaqrqxEXF4e4uDj8+te/VjIWERE5QbGT3gBgMBhw9OhR\n",
              "h/3l5eW2rwsLC1FYWKhkDCIicgGvOelNRETejYVBRESSsDCIiEgSFgYREUnCwiAiIklYGEREJAkL\n",
              "g4iIJGFhEBGRJCwMIiKShIVBRESSsDCIiEgSFgYREUnCwiAiIklYGEREJAkLg4iIJGFhEBGRJCwM\n",
              "IiKSRNHCaGlpQUpKCqKjo5GYmIjGxsZhx+3atQtRUVGIiIhATk4Orl+/rmQsIiJygqKFkZeXh9zc\n",
              "XDQ3NyM/Px9Go9FhTHt7OzZt2oTDhw+jtbUVly5dQllZmZKxiIjICYoVRldXFxoaGpCZmQkAyMjI\n",
              "gNlsRmtrq924PXv2IDU1FUFBQVCpVFi1ahVef/11pWIREZGTxit1YLPZDK1Wi/Hjh+5CpVJBr9fD\n",
              "ZDIhMjLSNs5kMiE0NNR2OywsDCaTacTjWiwWWCwWu31Wq9XF6YmI6OsUKwylFBcXo6ioyG7f9OnT\n",
              "sW7dOtnHslqt0NbXIykpCT4+Pk7lWbfuXad+7lasVivqbzOXUm73MVPi8QK89zHz1jkGjN7H7E59\n",
              "vNJv42etVivuvfdXTmcLDQ3Fk08++Y3jVEII4UzAb9LV1YXIyEh0d3dj/PjxEEJAq9XiyJEjds8w\n",
              "XnjhBbS1tWHnzp0AgP3792PLli04cuTIsMcd7hmGWq2GWq2WnbG3txe+vr7o6emBRqOR/fNK8dZc\n",
              "gPdmYy75vDUbc8nnrmyKncMIDAxEfHw8KisrAQBVVVXQ6XR2ZQEMnduoqanBxYsXIYTAzp078dhj\n",
              "j414XLVaDY1GY7c5UxZERCSPou+SKi0tRWlpKaKjo7F161ZUVFQAALKzs1FTUwMACA8PR1FREebN\n",
              "m4fIyEgEBAQgLy9PyVhEROQERc9hGAwGHD161GF/eXm53e2cnBzk5OQoGYWIiG7TmP6kt1qtxrPP\n",
              "Put1L2l5ay7Ae7Mxl3zemo255HNXNsVOehMR0egypp9hEBGRdCwMIiKShIVBRESSjInCWLt2LcLC\n",
              "wqBSqfDJJ5+MOM7dq+ZKyfWPf/wDEydORFxcnG3r6+tTNFd/fz+WLl2K6OhoxMbG4pFHHnFYA+yG\n",
              "2tpaTJ8+HVFRUUhPT0dvb6/Hc3V0dMDHx8fuMWtra1MsFwB897vfRUxMDOLi4nDffffh5MmTw47z\n",
              "xMrMUrJ5Yp7dUFFRAZVKhbfeemvY77tzjknN5Yk5BgwtnWQwGGz3+eabbw47TrF5JsaAQ4cOCbPZ\n",
              "LEJDQ8XJkyeHHXP27Fmh1WpFZ2enGBwcFEuWLBG///3vPZ6rrq5OxMbGKprj6/r6+sTbb78tBgcH\n",
              "hRBC7NixQzzwwAMO465cuSICAwPFp59+KoQQYs2aNeIXv/iFx3O1t7cLX19fxXIM58svv7R9XV1d\n",
              "LWJiYhzGeGKOSc3miXkmxNC/1b333iuSk5PF3r17Hb7v7jkmNZcn5pgQ4pZ/K25Qcp6NiWcY999/\n",
              "P3Q63S3HeGLVXCm5POHuu+/G4sWLoVKpAADJycno6OhwGHfgwAHMmTMH06dPBwCsXr1a0cdMai5P\n",
              "8PPzs33d09Njy3gzT63MLCWbJwwODiI7Oxs7duwY8e2g7p5jUnN5MyXn2R23+KBS5K6a605tbW2I\n",
              "j4+Hj48PnnjiCaxevdqt919SUoK0tDSH/cM9Zp2dnRgYGLCtUuyJXADw3//+F4mJibBarVi6dCkK\n",
              "CwsVX2DvJz/5Cerq6gAMrYn2dZ6cY9+UDXD/PPvtb3+LefPmISEhYcQxnphjUnIBnpljwNC/pRAC\n",
              "SUlJ2Lp1KwICAuy+r+Q8Y2F4ufj4eJw/fx6+vr44f/48Fi9eDH9/fzz66KNuuf8tW7agtbUV776r\n",
              "zAqgzrpVLq1WiwsXLiAwMBDd3d340Y9+hG3btmHDhg2KZtq9ezcA4I9//CPy8/NH/MPsCd+Uzd3z\n",
              "7MyZM6iqqsL777+vyPGdJTWXp+bY+++/D71ej+vXr+OZZ55BVlaWW+fZmHhJSgq9Xo9z587Zbnd0\n",
              "dECv13sw0RCNRgNfX18AgE6nw+OPP47Dhw+75b5ffPFFVFdX48CBA5g0aZLD94d7zG6+BoqncqnV\n",
              "agQGBgIApk6dihUrVrjtMQOArKws1NXV4YsvvrDb7w1zbKRs7p5nhw8fRkdHB6KiohAWFoZjx44h\n",
              "NzcXr7zyit04d88xqbk8NcduzJcJEybgqaeeGvY+FZ1nLjkTcoe41QmjtrY2hxNFO3bs8Hiuzz//\n",
              "XFitViGEEL29vSIlJUXs2rVL8Uzbtm0T8fHxoru7e8Qxvb29IiAgwO6E5Pr16z2e69KlS+LatWtC\n",
              "CCH6+/vFsmXLxKZNmxTL9OWXX4oLFy7Ybu/du1cEBwfbTs7f4Ik5JjWbp+bZDQ888MCwJ5c9Mcek\n",
              "5HL3HBNCiKtXr9q9gWHbtm3ivvvucxin5DwbE4WRm5srgoODhY+PjwgMDBQRERFCCCFWrlwp9u3b\n",
              "ZxtXVlYmwsPDRXh4uFixYoVtQngy144dO8TMmTNFTEyMmDlzpnj22Wcd/mN3NbPZLACI8PBwERsb\n",
              "K2JjY0VSUpIQQohNmzaJV155xTZ23759wmAwiIiICJGWliYuX77s8VxVVVXinnvusT1mP/vZz0R/\n",
              "f79iuTo6OkRiYqKYNWuWiImJEQsWLLD9D4Cn55jUbJ6YZze7+Q+zJ+eY1FzunmNCDBVBXFycmD17\n",
              "tpg1a5ZITU0V7e3tQgj3zTOuJUVERJLwHAYREUnCwiAiIklYGEREJAkLg4iIJGFhEBGRJCwMIiKS\n",
              "hIVBRESSsDCIiEgSFgYREUnCwiAiIklYGEREJMn/AS69zt+IOTNIAAAAAElFTkSuQmCC\n",
              "\">\n",
              "        \n",
              "      </div>\n",
              "      <script></script>\n",
              "      <script type=\"text/javascript\">\n",
              "        (() => {\n",
              "          const chartElement = document.getElementById(\"chart-18da1fb9-55cb-47d2-b077-efe996b65c6e\");\n",
              "          async function getCodeForChartHandler(event) {\n",
              "            const chartCodeResponse =  await google.colab.kernel.invokeFunction(\n",
              "                'getCodeForChart', [\"chart-18da1fb9-55cb-47d2-b077-efe996b65c6e\"], {});\n",
              "            const responseJson = chartCodeResponse.data['application/json'];\n",
              "            await google.colab.notebook.addCell(responseJson.code, 'code');\n",
              "          }\n",
              "          chartElement.onclick = getCodeForChartHandler;\n",
              "        })();\n",
              "      </script>\n",
              "      <style>\n",
              "        .colab-quickchart-chart-with-code  {\n",
              "            display: block;\n",
              "            float: left;\n",
              "            border: 1px solid transparent;\n",
              "        }\n",
              "\n",
              "        .colab-quickchart-chart-with-code:hover {\n",
              "            cursor: pointer;\n",
              "            border: 1px solid #aaa;\n",
              "        }\n",
              "      </style>"
            ]
          },
          "metadata": {}
        },
        {
          "output_type": "display_data",
          "data": {
            "text/plain": [
              "import numpy as np\n",
              "from google.colab import autoviz\n",
              "\n",
              "def histogram(df, colname, num_bins=20, figscale=1):\n",
              "  from matplotlib import pyplot as plt\n",
              "  df[colname].plot(kind='hist', bins=num_bins, title=colname, figsize=(8*figscale, 4*figscale))\n",
              "  plt.gca().spines[['top', 'right',]].set_visible(False)\n",
              "  plt.tight_layout()\n",
              "  return autoviz.MplChart.from_current_mpl_state()\n",
              "\n",
              "chart = histogram(_df_3, *['Age'], **{})\n",
              "chart"
            ],
            "text/html": [
              "      <div class=\"colab-quickchart-chart-with-code\" id=\"chart-1e8275a1-cd26-41be-a57f-7b609b35bdc8\">\n",
              "        <img src=\"data:image/png;base64,iVBORw0KGgoAAAANSUhEUgAAAYwAAADECAYAAACMRRb/AAAAOXRFWHRTb2Z0d2FyZQBNYXRwbG90\n",
              "bGliIHZlcnNpb24zLjcuMSwgaHR0cHM6Ly9tYXRwbG90bGliLm9yZy/bCgiHAAAACXBIWXMAAA9h\n",
              "AAAPYQGoP6dpAAAZcklEQVR4nO3de1BTZ8IG8CfBGu3WiCIWCgQWCVRbMYIwFHUtdd3arkUr3W23\n",
              "i2tcubj25tipaK3T1W2hnY7bUmcosTh0KLutLajLqLtbq45VS4t4RVgXqJdEy8VrsFUDCe/3h59Z\n",
              "I0RPAoec6vObOTPk8HLynOToMycneaMSQggQERHdgtrXAYiI6KeBhUFERJKwMIiISBIWBhERScLC\n",
              "ICIiSVgYREQkCQuDiIgkYWEQEZEkLAwiIpKEhUFERJKwMIh6oLi4GCqVCosXL/Z1FCLZqTiXFJH3\n",
              "EhIScOzYMajValgsFmg0Gl9HIpINzzCIvLRnzx5UV1ejtLQUVqsVn3/+ufN3Fy9ehNFoREBAAEJD\n",
              "Q5Gfn4/Q0FB89NFHzjFHjhzBtGnTcO+99yIkJATz58/Hjz/+6IM9IZKGhUHkpYKCAhgMBkydOhVP\n",
              "PvkkCgoKnL976aWXUFdXh5qaGtTX16OmpgYtLS3O3585cwYTJ07E5MmTYTabcfDgQdTX12PBggU+\n",
              "2BMiiQQReezcuXNi4MCBoqCgQAghxNatWwUAceDAAWG320X//v3Fpk2bnOOtVqtQq9WiuLhYCCHE\n",
              "ypUrRVJSkss2d+3aJfr37y/sdnuf7QeRJ3iGQeSFaxe7f//73wMAUlJSEBUVhYKCApw5cwbt7e0I\n",
              "Dw93jtdqtRgyZIjzdkNDA/bu3Qt/f3/n8vjjj0OlUqG5ubnP94dIChYGkYeEECgsLER7ezuio6MR\n",
              "FBSE4OBgnDx5En/7298wYMAA9O/fHydOnHD+TVtbG86fP++8HRQUhAkTJuDChQvOxWq14sqVKwgJ\n",
              "CfHFbhHdEguDyENbtmxBQ0MDvvjiCxw4cMC5HDp0CABQUlKCZ599FitWrEBTUxMuXbqEV155BWr1\n",
              "//65zZkzB/v370dBQQEuXboEIQQsFgs2bNjgo70iujUWBpGHPvjgA/zyl79ESkoKgoKCnIter0dG\n",
              "RgY++OAD5OfnIzo6Gg888AD0ej1GjRqFoUOHYsCAAQAAnU6HyspKbNmyBSNGjIC/vz8effRR1NTU\n",
              "+HjviNzj5zCI+sD58+cREBCA3bt346GHHvJ1HCKv8AyDSAZmsxk7duyAw+HA2bNnMX/+fOj1eiQk\n",
              "JPg6GpHXWBhEMmhvb8cLL7wAf39/6PV6XLhwARUVFejXr5+voxF5jS9JERGRJDzDICIiSVgYREQk\n",
              "CQuDiIgkYWEQEZEkt0Vh5Ofn+zoCEdFt77YojOvn7CEiInncFoVBRETyk7UwXnzxRUREREClUuHA\n",
              "gQNux61ZswZ6vR4jRoxAZmYmOjo65IxFRERekLUwnnrqKezatcvlewFudOzYMSxbtgw7d+5EY2Mj\n",
              "WlpasHr1ajljERGRF2QtjF/84hcIDQ296ZiysjKkpqYiKCgIKpUK8+bNwyeffCJnLCIi8oLPJ7Yx\n",
              "m80uZyAREREwm81ux9tsNthsNpd1DodDtnxERHSVzwvDU3l5eVi+fLnLuqSkJK+3F7F4U4/yHH/r\n",
              "1z36e2/1NHdP+Gqf71Q9ea75XP10/BT+L/L5u6R0Op3L22KPHz8OnU7ndvySJUtgtVpdlsTExL6I\n",
              "SkR0R/N5YaSlpaGiogLNzc3O70p+5pln3I7XaDTQarUui5+fXx8mJiK6M8laGNnZ2QgNDcXJkyfx\n",
              "6KOPIioqCgCQkZGBiooKAEBkZCSWL1+O8ePHIyoqCoGBgcjOzpYzFhEReUHWaxgmk6nb9UVFRS63\n",
              "MzMzkZmZKWcUIiLqIZ+/JEVERD8NLAwiIpKEhUFERJKwMIiISBIWBhERScLCICIiSVgYREQkCQuD\n",
              "iIgkYWEQEZEkLAwiIpKEhUFERJKwMIiISBIWBhERScLCICIiSVgYREQkCQuDiIgkYWEQEZEkshZG\n",
              "Q0MDkpOTER0djYSEBNTW1nYZ09nZiYULF2LUqFGIjY1FSkoKGhsb5YxFRERekP07vbOyslBfX4+c\n",
              "nBwYjcYuYyoqKrB7924cPHgQhw4dwuTJk/Hqq6/KGYuIiLwgW2G0traiuroa6enpAIC0tDRYLJYu\n",
              "Zw8qlQo2mw1XrlyBEAJtbW0IDQ2VKxYREXmpn1wbtlgsCA4ORr9+V+9CpVJBp9PBbDYjKirKOe6J\n",
              "J57A9u3bERQUhEGDBiEkJAQ7duxwu12bzQabzeayzuFwyLMTRETk5POL3tXV1Th8+DBOnTqF77//\n",
              "HpMnT8a8efPcjs/Ly8PgwYNdlqqqqj5MTER0Z5KtMMLCwtDU1AS73Q4AEELAbDZDp9O5jCspKcEj\n",
              "jzwCf39/qNVqzJ49G9u3b3e73SVLlsBqtbosiYmJcu0GERH9P9kKY/jw4YiLi0NpaSkAoLy8HKGh\n",
              "oS4vRwFAZGQktm3bhvb2dgDAxo0b8eCDD7rdrkajgVardVn8/Pzk2g0iIvp/sl3DAACTyQSj0Yjc\n",
              "3FxotVoUFxcDADIyMpCamorU1FQ899xz+M9//oMxY8bgrrvuQlBQEAoLC+WMRUREXpC1MGJiYlBZ\n",
              "WdllfVFRkfNnjUaDDz/8UM4YRETUC3x+0ZuIiH4aWBhERCQJC4OIiCRhYRARkSQsDCIiksTjwvj3\n",
              "v/8tRw4iIlI4jwtjxYoViImJQX5+Ptra2uTIRERECuRxYezevRuffvopDh8+jOjoaMyfPx91dXVy\n",
              "ZCMiIgXx6hrG2LFj8eGHH+Jf//oXNm7ciNjYWEyZMgU1NTW9nY+IiBTCq8L48ssvMX36dMycORPP\n",
              "PfccmpubkZ2djSeffLK38xERkUJ4PDXIyJEjMWzYMLz44ouYOXOmc+K/p556CmvWrOn1gEREpAwe\n",
              "F0ZpaSni4+O7/d0///nPHgciIiJl8vglqb179+LcuXPO22fPnuXkgUREdwCPC6OgoABDhw513g4I\n",
              "CEBBQUGvhiIiIuXxuDCEEF3W8Tu1iYhufx4XRnBwMD777DPn7bVr1yI4OLhXQxERkfJ4fNH7vffe\n",
              "w/Tp07Fo0SIAwN13341//OMfvR6MiIiUxeMzjPvvvx91dXXYvHkzNm/ejJqaGuj1+m7HNjQ0IDk5\n",
              "GdHR0UhISEBtbW2342pqavDwww9j5MiRGDlyJNatW+dpLCIikplXX9GqUqng7+8Pu92OU6dOAQB0\n",
              "Ol2XcdnZ2cjKyoLRaERZWRmMRiP27NnjMubSpUuYPn06SkpKMGHCBDgcDpd3YRERkTJ4fIbx0Ucf\n",
              "wd/fH6NHj0Z8fDzi4+Mxbty4LuNaW1tRXV2N9PR0AEBaWhosFgsaGxtdxv39739HUlISJkyYAADw\n",
              "8/NDYGCgN/tCREQy8vgM4y9/+Qv27NmDmJiYm46zWCwIDg5Gv35X70KlUkGn08FsNiMqKso5rq6u\n",
              "DhqNBtOmTcPJkycRGxuLlStXui0Nm80Gm83mso7v0iIikp/HZxjDhg27ZVl4wm6348svv4TJZML+\n",
              "/fsREhKCP/3pT27H5+XlYfDgwS5LVVVVr+UhIqLueVwYM2bMwHvvvYfW1la0tbU5lxuFhYWhqakJ\n",
              "drsdwNXPb5jN5i7XOnQ6HVJSUhASEgKVSoX09HR88803bu9/yZIlsFqtLktiYqKnu0FERB7yuDCW\n",
              "Ll2KhQsXIigoCEOGDIG/vz+GDBnSZdzw4cMRFxeH0tJSAEB5eTlCQ0NdXo4CgN/+9rfYs2ePs3Q2\n",
              "b96MMWPGuL1/jUYDrVbrslybAJGIiOTj8TWMzs5OyWNNJhOMRiNyc3Oh1WpRXFwMAMjIyEBqaipS\n",
              "U1Oh0+nw6quvIjk5GWq1GiEhIVi9erWnsYiISGZeva127969qKurw6xZs3DhwgVcvny52097x8TE\n",
              "oLKyssv6oqIil9uzZs3CrFmzvIlCRER9xKvJB//4xz/iz3/+M4Crs9U+++yzvZ2LiIgUxuPCWL16\n",
              "Nb755htotVoAwIgRI3D69OleD0ZERMricWFoNBoMHDjQZd21z1oQEdHty+PCCAwMRH19PVQqFYCr\n",
              "n/zubloQIiK6vXg1W+3vfvc7HDlyBGFhYdBqtdi4caMc2YiISEE8LoyoqCh8++23+O9//wshBGJi\n",
              "Yvg5CCKiO4DHhWE2mwEAP/vZzwDgprPVEhHR7cPjwoiPj4dKpYIQAleuXMGlS5cQEBCA1tZWOfIR\n",
              "EZFCeFwYN76Fdt26dTh48GCvBSIiImXy+F1SN5o5cyY2bdrUG1mIiEjBPD7DuH5mWofDgW+//bbb\n",
              "2WqJiOj24nFh+Pv7O69h+Pn5Qa/X4/3335cjGxERKYiss9USEdHto8fXMIiI6M7g8RmGWq12Tgty\n",
              "PSEEVCoVv1+biOg25XFhrFixApcvX3Z+73ZhYSEGDhyIBQsW9HY2IiJSEI8LY/369di7d6/z9htv\n",
              "vIH4+HgsXbq0V4MREZGyeHwN4+LFiy6f6m5tbcXFixd7NRQRESmPx4Xx8ssvY8yYMZg7dy7mzp2L\n",
              "sWPH4pVXXul2bENDA5KTkxEdHY2EhATU1ta63a4QAo888gj8/f09jURERH3A48LIzs7Gli1bYDAY\n",
              "YDAY8MUXXyAzM9Pt2KysLNTX1yMnJwdGo9Htdt99912MGDHC0zhERNRHvHpbbUBAAEaPHo0XXngB\n",
              "MTExaG9v7zKmtbUV1dXVSE9PBwCkpaXBYrGgsbGxy9ja2lps2LABixcv9iYOERH1AY8Lo6ysDElJ\n",
              "SZgzZw6Aq//Zz5gxo8s4i8WC4OBg59e3qlQq6HQ65/To13R0dCAzMxMmk0nS92rYbDa0tbW5LHwr\n",
              "LxGR/DwujLy8POzbt895rWHMmDE4ceKE1wGWL1+OmTNnYuTIkZLvf/DgwS5LVVWV1/dPRETSeFwY\n",
              "fn5+CAgIcFnXv3//LuPCwsLQ1NQEu90O4OpFbbPZ3OWLlnbs2IFVq1YhIiICEyZMQFtbGyIiIrpM\n",
              "o37NkiVLYLVaXZbExERPd4OIiDzk8ecwBg0ahJaWFuenvbdu3YqhQ4d2GTd8+HDExcWhtLQURqMR\n",
              "5eXlCA0NRVRUlMu4nTt3On8+fvw4DAYDjh8/7vb+NRoNNBqNyzp+RSwRkfw8Loy3334bjz32GI4e\n",
              "PYoJEybg2LFjbr8Pw2QywWg0Ijc3F1qtFsXFxQCAjIwMpKamIjU1tWfpiYioz3hUGJ2dnXA4HNi+\n",
              "fTu+/vprCCGQnJzs9rMTMTExqKys7LK+qKio2/ERERG4cOGCJ5GIiKiPeFQYarUaWVlZOHjwIB57\n",
              "7DG5MhERkQJ5fNFbr9d3+1kKIiK6vXl8DePcuXMwGAxITk7GPffc41y/bt26Xg1GRETKIrkwsrKy\n",
              "sHr1asyePRupqakYMmSInLmIiEhhJBdGdXU1AGD27NmIi4vDvn37ZAtFRETK49VcUkKI3s5BREQK\n",
              "J/kM4/Lly6ipqYEQAleuXHH+fE1sbKwsAYmISBk8KozrP2h3/c8qlQpHjx7t3WRERKQokgvjZtN1\n",
              "EBHR7c+raxhERHTnYWEQEZEkLAwiIpKEhUFERJKwMIiISBIWBhERScLCICIiSVgYREQkiayF0dDQ\n",
              "gOTkZERHRyMhIQG1tbVdxmzbtg2JiYkYNWoUHnjgASxatAidnZ1yxiIiIi/IWhjZ2dnIyspCfX09\n",
              "cnJyYDQau4wZMmQIPv30U9TV1WHv3r34+uuvUVJSImcsIiLygmyF0draiurqaqSnpwMA0tLSYLFY\n",
              "unxb39ixYxEZGQkAGDBgAAwGA6chISJSII+/cU8qi8WC4OBg9Ot39S5UKhV0Oh3MZjOioqK6/Zvm\n",
              "5maUlZVh48aNbrdrs9lgs9lc1jkcjt4LTkRE3VLMRe+2tjY88cQTWLRoEcaNG+d2XF5eHgYPHuyy\n",
              "VFVV9WFSIqI7k2yFERYWhqamJtjtdgBXv3TJbDZDp9N1GXvx4kVMnToV06dPx8KFC2+63SVLlsBq\n",
              "tbosiYmJsuwDERH9j2yFMXz4cMTFxaG0tBQAUF5ejtDQ0C4vR/3www+YOnUqpk6ditdee+2W29Vo\n",
              "NNBqtS6Ln5+fLPtARET/I+tLUiaTCSaTCdHR0XjrrbdQXFwMAMjIyEBFRQUAID8/H1VVVVi3bh0M\n",
              "BgMMBgPefPNNOWMREZEXZLvoDQAxMTGorKzssr6oqMj589KlS7F06VI5YxARUS9QzEVvIiJSNhYG\n",
              "ERFJwsIgIiJJWBhERCQJC4OIiCRhYRARkSQsDCIikoSFQUREkrAwiIhIEhYGERFJwsIgIiJJWBhE\n",
              "RCQJC4OIiCRhYRARkSQsDCIikoSFQUREkrAwiIhIElkLo6GhAcnJyYiOjkZCQgJqa2u7HbdmzRro\n",
              "9XqMGDECmZmZ6OjokDMWERF5QdbCyM7ORlZWFurr65GTkwOj0dhlzLFjx7Bs2TLs3LkTjY2NaGlp\n",
              "werVq+WMRUREXpCtMFpbW1FdXY309HQAQFpaGiwWCxobG13GlZWVITU1FUFBQVCpVJg3bx4++eQT\n",
              "uWIREZGX+sm1YYvFguDgYPTrd/UuVCoVdDodzGYzoqKinOPMZjPCw8OdtyMiImA2m91u12azwWaz\n",
              "uaxzOBy9nJ6IiG4kW2HIJS8vD8uXL3dZd//992PhwoVebW9mD7I4HA489NAbSExMhJ+fXw+25Llb\n",
              "5XY4HKiqqpIl28KFW3v093Jm6w1Ky3f9c+1ptp4+V55Q2uN2IyXnczgcCO5htp481+Hh4XjppZdu\n",
              "OU4lhBBe38tNtLa2IioqCufOnUO/fv0ghEBwcDB27drlcobxzjvv4LvvvkNhYSEAYPPmzcjNzcWu\n",
              "Xbu63W53ZxgajQYajUaO3biptrY2DB48GFarFVqtts/v/2aYzXtKzsds3lNyPiVnu55s1zCGDx+O\n",
              "uLg4lJaWAgDKy8sRGhrqUhbA1WsbFRUVaG5uhhAChYWFeOaZZ9xuV6PRQKvVuiy+KAsiojuNrO+S\n",
              "MplMMJlMiI6OxltvvYXi4mIAQEZGBioqKgAAkZGRWL58OcaPH4+oqCgEBgYiOztbzlhEROQFWa9h\n",
              "xMTEoLKyssv6oqIil9uZmZnIzMyUMwoREfUQP+ndAxqNBq+//roiXxJjNu8pOR+zeU/J+ZSc7Xqy\n",
              "XfQmIqLbC88wiIhIEhYGERFJwsIgIiJJWBgSXblyBTNmzEB0dDTGjBmDKVOmOOfFevjhh/Hzn/8c\n",
              "BoMBBoMB7777bp/n+9WvfoXY2FgYDAZMnDgR+/fvByB9xmBfZIuIiEBMTIzzcVu7dm2fZ7umuLgY\n",
              "KpUKGzZsAHD1g6dTp06FXq/Hgw8+iK+++spn2brLp4Rjzt3zp4Rjzl02pRxzNpsNzz//PPR6PUaP\n",
              "Hu2cc08Jj91NCZLk8uXLYtOmTaKzs1MIIcSqVavEpEmThBBCTJo0Saxfv9534YQQ58+fd/68bt06\n",
              "ERsbK4QQIiUlRRQXFwshhPj888/FuHHjFJMtPDxc7N+/v8/z3OjYsWPioYceEklJSc7ncc6cOeL1\n",
              "118XQghRVVUlQkJCRHt7u2LyKeGYc/f8KeGYc5dNKcfcggULxPPPP+/8/6SpqUkIoYzH7mZ4hiHR\n",
              "gAED8Pjjj0OlUgEAkpKScPz4cd+Guo6/v7/zZ6vVCpVKJXnGYF9kU4rOzk5kZGRg1apVLm9p/Oyz\n",
              "zzBv3jwAQEJCAu677z7s2LFDMfmUSinHnJL9+OOPWLNmDd58803nv4WgoKCfxGPHwvBSfn4+pk+f\n",
              "7ry9ePFijB49Gk8//TSOHj3qk0x/+MMfEBYWhmXLluHjjz++6YzBvs52/frRo0dj7ty5OH36dJ/n\n",
              "+utf/4rx48cjPj7eue7s2bPo6OhAUFCQc92tZlHuy3zXKOWYu/75U9ox192x5etj7rvvvsPQoUOR\n",
              "m5uLcePGYeLEidi6dauiHjt3WBheyM3NRWNjI/Ly8gAAH3/8MY4cOYJDhw5h4sSJmDZtmk9ylZSU\n",
              "wGKx4I033kBOTo5PMrjTXbavvvoKhw4dwr59+zBs2DDMnj27TzMdPnwY5eXleO211/r0fqW6WT4l\n",
              "HHO+fv5uxl02JWS22+04ceIERo0aherqarz//vt4+umnYbfb+zyLx3z9mthPzTvvvCPi4+NdXpe/\n",
              "kUajEWfOnOm7UN0YMGCAaG5uFoMGDRIdHR1CCCE6OzvFvffeKxoaGnye7cbH5/vvvxf33HNPn+Yo\n",
              "KCgQQUFBIjw8XISHhwuNRiMCAwNFQUGBuPvuu52vKwshREJCgtiyZYti8t3I18fcteevpaVFccec\n",
              "u2PLF8ecEEKcPn1aqNVqYbfbnevGjRsn1q5dq7jH7kYsDA+sXLlSxMXFiXPnzjnXdXR0iObmZuft\n",
              "srIyodPp+jTX+fPnxalTp5y3169fL0JCQkRnZ6eYNGmSy0W0+Ph4RWT74YcfXEp35cqVYuLEiX2a\n",
              "7UbXX0iePXu2y0Xv++67z2cXva+5lk8Jx9zNnj9fH3PusinpmJsyZYrYtGmTEEKIo0ePioCAAHHy\n",
              "5EmfP3a38pP7AiVfOXnyJF5++WVERkYiJSUFwNX5X7Zt24Zf//rXsNlsUKvVGDZsmHMm3r5itVrx\n",
              "m9/8BpcvX4ZarUZgYCA2btwIlUoFk8kEo9GI3NxcaLVa54zBvs7W0tKCtLQ0OBwOCCEQGRmJkpKS\n",
              "Ps12M2+//TZmzZoFvV6P/v37o7S0FHfddZevYwG4+pZMXx9zN3v+fH3MucumpGOusLAQc+fORU5O\n",
              "DtRqNUwmE0JCQnz+2N0K55IiIiJJeNGbiIgkYWEQEZEkLAwiIpKEhUFERJKwMIiISBIWBhERScLC\n",
              "ICIiSVgYREQkCQuDiIgkYWEQEZEkLAwiIpLk/wAjQ8/iadKKswAAAABJRU5ErkJggg==\n",
              "\">\n",
              "        \n",
              "      </div>\n",
              "      <script></script>\n",
              "      <script type=\"text/javascript\">\n",
              "        (() => {\n",
              "          const chartElement = document.getElementById(\"chart-1e8275a1-cd26-41be-a57f-7b609b35bdc8\");\n",
              "          async function getCodeForChartHandler(event) {\n",
              "            const chartCodeResponse =  await google.colab.kernel.invokeFunction(\n",
              "                'getCodeForChart', [\"chart-1e8275a1-cd26-41be-a57f-7b609b35bdc8\"], {});\n",
              "            const responseJson = chartCodeResponse.data['application/json'];\n",
              "            await google.colab.notebook.addCell(responseJson.code, 'code');\n",
              "          }\n",
              "          chartElement.onclick = getCodeForChartHandler;\n",
              "        })();\n",
              "      </script>\n",
              "      <style>\n",
              "        .colab-quickchart-chart-with-code  {\n",
              "            display: block;\n",
              "            float: left;\n",
              "            border: 1px solid transparent;\n",
              "        }\n",
              "\n",
              "        .colab-quickchart-chart-with-code:hover {\n",
              "            cursor: pointer;\n",
              "            border: 1px solid #aaa;\n",
              "        }\n",
              "      </style>"
            ]
          },
          "metadata": {}
        },
        {
          "output_type": "display_data",
          "data": {
            "text/plain": [
              "<google.colab._quickchart_helpers.SectionTitle at 0x7b628cd3f010>"
            ],
            "text/html": [
              "<h4 class=\"colab-quickchart-section-title\">Categorical distributions</h4>\n",
              "<style>\n",
              "  .colab-quickchart-section-title {\n",
              "      clear: both;\n",
              "  }\n",
              "</style>"
            ]
          },
          "metadata": {}
        },
        {
          "output_type": "display_data",
          "data": {
            "text/plain": [
              "import numpy as np\n",
              "from google.colab import autoviz\n",
              "\n",
              "def categorical_histogram(df, colname, figscale=1, mpl_palette_name='Dark2'):\n",
              "  from matplotlib import pyplot as plt\n",
              "  import seaborn as sns\n",
              "  df.groupby(colname).size().plot(kind='barh', color=sns.palettes.mpl_palette(mpl_palette_name), figsize=(8*figscale, 4.8*figscale))\n",
              "  plt.gca().spines[['top', 'right',]].set_visible(False)\n",
              "  return autoviz.MplChart.from_current_mpl_state()\n",
              "\n",
              "chart = categorical_histogram(_df_4, *['Name'], **{})\n",
              "chart"
            ],
            "text/html": [
              "      <div class=\"colab-quickchart-chart-with-code\" id=\"chart-2404aac8-fc66-4f4c-9ed0-d042c03f1647\">\n",
              "        <img src=\"data:image/png;base64,iVBORw0KGgoAAAANSUhEUgAAAY0AAADgCAYAAAD/ujrhAAAAOXRFWHRTb2Z0d2FyZQBNYXRwbG90\n",
              "bGliIHZlcnNpb24zLjcuMSwgaHR0cHM6Ly9tYXRwbG90bGliLm9yZy/bCgiHAAAACXBIWXMAAA9h\n",
              "AAAPYQGoP6dpAAATOUlEQVR4nO3df3BcZb3H8c9usm6YxqYdboEa2l3SFGgLLdO0HSOBm4KOmTut\n",
              "3lFkWodrVtKCTmZggqGdOISm2jF3uLUrxVG7yrg38kdmDKJO1fyhIUBmUn5EsGAsv5Jte02qBWKy\n",
              "IXS7aZ77B+PicYt5Nt3N2aTv18z+kec8Z/f7bTvn0+eck7MeY4wRAAAWvG4XAACYOwgNAIA1QgMA\n",
              "YI3QAABYIzQAANYIDQCANUIDAGCN0AAAWCM0ZuDhhx92uwQAcAWhMQPHjx93uwQAcAWhAQCwRmgA\n",
              "AKwRGgAAa4QGAMAaoQEAsEZoAACsERoAAGuEBgDAmoeve83c2v9YqMr/Wux2GQCQ5tD23P7yMSsN\n",
              "AIA1QgMAYI3QAABYIzQAANYK3fjQSCSijo4Oeb0fZNbExIR8Pp98Pp9jbllZmerq6tTY2Ci/358a\n",
              "TyaTamhoUF9fn3p7ex37jI+Pq6enR1VVVSouLnZsq6ysVEVFhcLhsOOzEomE9u/fr4qKimy2CgDz\n",
              "iiuhMTQ0pEgkomAwmBpraWlRLBZTNBp1zA2FQorH46qtrVUoFEqNd3d3KxaLaXBwUJ2dnWn7SFJ5\n",
              "efl53y8QCKi5uVnV1dWp8Wg0qng8noXuAGD+4vQUAMCaKyuNuSSRSCiRSDjGpqb41RYAFydWGtNo\n",
              "bW1VSUmJ43X6zbNulwUAriA0ptHU1KTR0VHHa8mKj7hdFgC4gtNT0/D7/Y67tiTJ6/W4VA0AuIuV\n",
              "BgDAGqEBALDmyukpr9erUCikoqKi1NjAwICSyaRqamoccwsLC+XxeBQOh9Xe3p4aHxkZUX19vQoK\n",
              "CtL26e/vlyR1dXWlbSstLZXX69Xu3bu1ePEHT6odHh7WwYMHs9YjAMxHPBp9Bng0OoB8xaPRAQB5\n",
              "g9AAAFjjltsZ+OS1O3Rg+wG3ywCAWcdKAwBgjdAAAFgjNAAA1ggNAIA1QgMAYI3QAABYIzQAANYI\n",
              "DQCANUIDAGCN0AAAWCM0AADWCA0AgDVCAwBgjdAAAFgjNAAA1ggNAIA1QgMAYI3QAABY4+teZ+Dd\n",
              "/31Bpzr/x+0yACDNFf335/T9WWkAAKwRGgAAa4QGAMAaoQEAsObKhfBIJKKOjg55vR9k1sTEhHw+\n",
              "n3w+n2NuWVmZ6urq1NjYKL/fnxpPJpNqaGhQX1+fent7HfuMj4+rp6dHVVVVKi4udmyrrKxURUWF\n",
              "wuGw47MSiYT279+vioqKbLYKAPOKK6ExNDSkSCSiYDCYGmtpaVEsFlM0GnXMDYVCisfjqq2tVSgU\n",
              "So13d3crFotpcHBQnZ2daftIUnl5+XnfLxAIqLm5WdXV1anxaDSqeDyehe4AYP7i9BQAwBq/pzGN\n",
              "RCKhRCLhGDtnplyqBgDcxUpjGq2trSopKXG8XnrvpNtlAYArCI1pNDU1aXR01PG64ZJlbpcFAK7g\n",
              "9NQ0/H6/464tSSrwkLUALk4c/QAA1ggNAIA1V05Peb1ehUIhFRUVpcYGBgaUTCZVU1PjmFtYWCiP\n",
              "x6NwOKz29vbU+MjIiOrr61VQUJC2T39/vySpq6srbVtpaam8Xq92796txYsXp8aHh4d18ODBrPUI\n",
              "APORxxhj3C5irrn70pu19/KtbpcBAGl4NDoAIG8QGgAAa9xyOwMLajfoigO5XQICQD5ipQEAsEZo\n",
              "AACsERoAAGuEBgDAGqEBALBGaAAArBEaAABrhAYAwBqhAQCwRmgAAKwRGgAAa4QGAMAaoQEAsEZo\n",
              "AACszSg0+vr69JOf/ETS+1+7Ojw8nNWiAAD5KePQ+N73vqc777xTLS0tkqR33nlHX/ziF7NdFwAg\n",
              "D2UcGpFIREeOHNHChQslSStWrNDp06ezXhgAIP9kHBp+v1+XXHKJY6ywkC8ABICLQcZH+yVLlui1\n",
              "116Tx+ORJEWjUS1fvjzrheWzp7sHtKvhsNtlAECah8Jbcvr+GYfGd77zHW3fvl3Hjh3TsmXLtHDh\n",
              "Qh0+zAEUAC4GGYdGeXm5nn32Wb366qsyxuiaa65RQUFBLmoDAOSZGV2MGB8fVzKZ1OTkpP7whz9I\n",
              "ktavX5/VwgAA+Sfj0AiHw3rwwQe1ZMmS1ArD4/Hotddey3pxAID8knFoPPLII3r11Vf1sY997F/O\n",
              "i0Qi6ujokNf7wQ1aExMT8vl88vl8jrllZWWqq6tTY2Oj/H5/ajyZTKqhoUF9fX3q7e117DM+Pq6e\n",
              "nh5VVVWpuLjYsa2yslIVFRUKh8OOz0okEtq/f78effRRDQwMOPZZsGCBHn/8cbs/BAC4SGUcGqWl\n",
              "pdMGhiQNDQ0pEokoGAymxlpaWhSLxRSNRh1zQ6GQ4vG4amtrFQqFUuPd3d2KxWIaHBxUZ2dn2j7S\n",
              "+9dYzvd+gUBAzc3Nqq6uTo1Ho1HF43FNTEx86PsBAD5cxqHx9a9/Xffcc4+2bNmioqKi1PjNN9+c\n",
              "1cIAAPkn49Do7e1VW1ubenp6HNc0nnvuuawXlw8SiYQSiYRjzExNuVQNALgr49Boa2tTLBbTokWL\n",
              "clBO/mltbdXevXsdY0uvuMalagDAXRk/RiQQCFw0gSFJTU1NGh0ddbyWXn6122UBgCsyXmls3LhR\n",
              "t99+u2677TbHNY3PfOYzWS0sX/j9fscdXZLk8fI1JAAuThmHRl9fnyTp+9//fmrM4/HM29AAAHwg\n",
              "49B48sknc1EHAGAOmNFjRJLJpAYHB3XmzJnU2Nq1ax1zvF6vQqGQ4xTWwMCAksmkampqnEUUFsrj\n",
              "8SgcDqu9vT01PjIyovr6ehUUFKTt09/fL0nq6upK21ZaWiqv16vdu3dr8eLFqfHh4WEdPHhQb731\n",
              "Vto+b7/9diZ/BABwUfIYY0wmOxw+fFg7d+7UyMiIFixYoJGREQUCAQ0ODuaqxryzYf1/6pZ/3+F2\n",
              "GQCQJtePRs/4im5zc7OOHDmiVatW6e2331ZbW5tuu+22XNQGAMgzGYeG1+tVIBDQ5OSkJOmOO+5Q\n",
              "V1dX1gsDAOSfjK9p/P0BgFdeeaWeeOIJBYNBjYyMZL2wfHZzdZkeOpDbJSAA5KOMQ+Pee+/VyMiI\n",
              "9u3bp23btulvf/ubHn744VzUBgDIM9ah8fTTT0t6/86kl19+WZL0ox/9SJJS3xcOAJjfrEPja1/7\n",
              "WtqYx+PR0NCQhoeHde7cuawWBgDIP9ah8fzzzzt+fuedd7Rv3z499thjaQ/0AwDMTxnfPXXmzBm1\n",
              "trZq9erVkqQ//elPeuCBB7JeGAAg/1iHxtTUlCKRiFauXKljx47p2Wef1YEDB3TppZfmsj4AQB6x\n",
              "Pj113XXXKZFI6Fvf+pbWrVun0dFRHT16NLX9nx8jAgCYf6xDY2JiQh6PRw8++GDaNo/Ho4GBgawW\n",
              "BgDIP9ahEYvFclgGAGAu4NuEAADWCA0AgDVCAwBgjdAAAFgjNAAA1ggNAIA1QgMAYI3QAABYIzQA\n",
              "ANY8xhjjdhFzzZfXeNS0kbwFkH+ujub2u4048gEArBEaAABrhAYAwBqhAQCwZv1o9GyKRCLq6OiQ\n",
              "1/tBZk1MTMjn88nn8znmlpWVqa6uTo2NjfL7/anxZDKphoYG9fX1qbe317HP+Pi4enp6VFVVpeLi\n",
              "Yse2yspKVVRUKBwOOz4rkUho//79qqioyGarADCvuBIaQ0NDikQiCgaDqbGWlhbFYjFFo1HH3FAo\n",
              "pHg8rtraWoVCodR4d3e3YrGYBgcH1dnZmbaPJJWXl5/3/QKBgJqbm1VdXZ0aj0ajisfjWegOAOYv\n",
              "Tk8BAKy5stKYSxKJhBKJhGPs3JRLxQCAy1hpTKO1tVUlJSWO19G33K4KANxBaEyjqalJo6Ojjtfa\n",
              "f3O7KgBwB6enpuH3+x13bUlSAVEL4CLF4Q8AYI3QAABYc+X0lNfrVSgUUlFRUWpsYGBAyWRSNTU1\n",
              "jrmFhYXyeDwKh8Nqb29PjY+MjKi+vl4FBQVp+/T390uSurq60raVlpbK6/Vq9+7dWrx4cWp8eHhY\n",
              "Bw8ezFqPADAf8Wj0GeDR6ADyFY9GBwDkDUIDAGCNW25nYPGnG3T1gQNulwEAs46VBgDAGqEBALBG\n",
              "aAAArBEaAABrhAYAwBqhAQCwRmgAAKwRGgAAa4QGAMAaoQEAsEZoAACsERoAAGuEBgDAGqEBALBG\n",
              "aAAArBEaAABrhAYAwBqhAQCw5jHGGLeLmGuKP71Ri7bd6nYZAJDm/7783zl9f1YaAABrhAYAwBqh\n",
              "AQCwRmgAAKwVul3AP4pEIuro6JDX+0GWTUxMyOfzyefzOeaWlZWprq5OjY2N8vv9qfFkMqmGhgb1\n",
              "9fWpt7fXsc/4+Lh6enpUVVWl4uJix7bKykrt2bMnB10BwPyRV6ExNDSkSCSiYDCYGmtpaVEsFlM0\n",
              "GnXMDYVCisfjqq2tVSgUSo13d3crFotpcHBQnZ2daftIUnl5+XnfDwDwr3F6CgBgLa9WGvkokUgo\n",
              "kUg4B8/xqy0ALk6sNKbR2tqqkpISx+vs4LDbZQGAKwiNaTQ1NWl0dNTx+shVS90uCwBcwempafj9\n",
              "fsfdWZKkAo87xQCAy1hpAACsERoAAGt5dXrK6/UqFAqpqKgoNTYwMKBkMqmamhrH3MLCQnk8HoXD\n",
              "YbW3t6fGR0ZGVF9fr4KCgrR9+vv7JUldXV1p20pLS7PdDgDMOzwafQZ4NDqAfMWj0QEAeYPQAABY\n",
              "y6trGnPFXWtu0oEcLwEBIB+x0gAAWCM0AADWCA0AgDVCAwBgjdAAAFgjNAAA1ggNAIA1QgMAYI1f\n",
              "7stQIpHQb37zG507d04FBQVul5Nz586d03PPPadNmzbN+37pdX6iVzuBQED33nvvtPN4YGGGxsbG\n",
              "VFJSotHRUS1cuNDtcnLuYuqXXucnes0uTk8BAKwRGgAAa4QGAMAaoZEhv9+vPXv2yO/3u13KrLiY\n",
              "+qXX+Yles4sL4QAAa6w0AADWCA0AgDVCAwBgjdAAAFgjND7E66+/rk984hO6+uqrtXHjRv3xj388\n",
              "77xHH31UK1eu1IoVK7Rz504lk8lZrvTC2fTa1dWlTZs2afXq1VqzZo127dqlqakpF6q9MLZ/r5Jk\n",
              "jNEtt9yiRYsWzV6BWWbb78svv6zq6mqtWrVKq1at0s9+9rNZrvTC2fQ6NTWl++67T6tXr9batWu1\n",
              "efNmvfHGGy5UO3P33HOPgsGgPB6PXnrppQ+dl7Njk8F5bd682fz4xz82xhjz05/+1GzYsCFtzsDA\n",
              "gFm6dKkZHh42U1NTZuvWrea73/3uLFd64Wx6/f3vf2/efPNNY4wx7733nrnxxhtT+8wlNr3+3be/\n",
              "/W2zY8cOU1JSMjvF5YBNv++++6656qqrzDPPPGOMMWZyctL89a9/nc0ys8Km1yeeeMJs2rTJnD17\n",
              "1hhjzDe/+U3zhS98YTbLvGBPPfWUOXnypAkEAubFF18875xcHpsIjfP4y1/+Yj760Y+aZDJpjDFm\n",
              "amrKXH755eb11193zHvooYfM3Xffnfr5V7/6lbnxxhtntdYLZdvrP6uvrzd79uyZhQqzJ5NeX3nl\n",
              "FXPTTTeZN954Y86Ghm2/P/zhD8327dvdKDFrbHv9+c9/btatW2fGxsbM1NSUuf/++01DQ4MbJV+w\n",
              "fxUauTw2cXrqPE6ePKmlS5eqsPD9hwB7PB4tX75cJ06ccMw7ceKEAoFA6udgMJg2J9/Z9vqPTp06\n",
              "pY6ODm3ZsmW2yswK216TyaR27typQ4cOzemnotr229/fL7/fry1btuiGG27Ql770JZ0+fdqNkmfM\n",
              "ttetW7equrpaV1xxhZYuXarf/e53+sY3vuFGyTmVy2MToYGMjI2NaevWrdq1a5c2bNjgdjk5sXfv\n",
              "Xn3uc5/TqlWr3C5lVkxOTuq3v/2tDh06pBdffFGlpaX66le/6nZZOfHCCy/olVde0Z///GcNDQ3p\n",
              "1ltv1Ve+8hW3y5pTCI3zWLZsmYaHhzU5OSnp/QuiJ06c0PLlyx3zli9fruPHj6d+jsViaXPynW2v\n",
              "khSPx1VTU6PPfvazuu+++2a71Atm2+tTTz2lRx55RMFgUFVVVRobG1MwGJxz//vO5N/x5s2bVVpa\n",
              "Ko/HozvuuENHjhxxo+QZs+21ra0tdXOD1+tVbW2tnnzySTdKzqlcHpsIjfO47LLLtH79ej322GOS\n",
              "pMcff1xXXnmlysvLHfM+//nP65e//KVOnTolY4x+8IMfaNu2bW6UPGO2vY6Pj6umpkY1NTV64IEH\n",
              "3Cj1gtn2+swzz+j48eOKxWLq6enRwoULFYvFtGTJEjfKnjHbfm+//XY9//zzGhsbkyT9+te/1rp1\n",
              "62a93gth22tZWZm6urp09uxZSdLhw4d13XXXzXq9uZbTY1NWrozMQ8eOHTMf//jHzcqVK01FRYU5\n",
              "evSoMcaYuro684tf/CI1LxKJmLKyMlNWVmbuvPPO1F0Zc4lNr/v27TOFhYVm3bp1qde+ffvcLHtG\n",
              "bP9e/25wcHDOXgg3xr7ftrY2s2bNGnP99debmpoac+LECbdKnjGbXs+cOWN27Nhhrr32WnP99deb\n",
              "T33qU6m7AueKu+66y5SWlpqCggJz2WWXmRUrVhhjZu/YxAMLAQDWOD0FALBGaAAArBEaAABrhAYA\n",
              "wBqhAQCwRmgAAKwRGgAAa4QGAMAaoQEAsEZoAACs/T/V0gERCUfpRgAAAABJRU5ErkJggg==\n",
              "\">\n",
              "        \n",
              "      </div>\n",
              "      <script></script>\n",
              "      <script type=\"text/javascript\">\n",
              "        (() => {\n",
              "          const chartElement = document.getElementById(\"chart-2404aac8-fc66-4f4c-9ed0-d042c03f1647\");\n",
              "          async function getCodeForChartHandler(event) {\n",
              "            const chartCodeResponse =  await google.colab.kernel.invokeFunction(\n",
              "                'getCodeForChart', [\"chart-2404aac8-fc66-4f4c-9ed0-d042c03f1647\"], {});\n",
              "            const responseJson = chartCodeResponse.data['application/json'];\n",
              "            await google.colab.notebook.addCell(responseJson.code, 'code');\n",
              "          }\n",
              "          chartElement.onclick = getCodeForChartHandler;\n",
              "        })();\n",
              "      </script>\n",
              "      <style>\n",
              "        .colab-quickchart-chart-with-code  {\n",
              "            display: block;\n",
              "            float: left;\n",
              "            border: 1px solid transparent;\n",
              "        }\n",
              "\n",
              "        .colab-quickchart-chart-with-code:hover {\n",
              "            cursor: pointer;\n",
              "            border: 1px solid #aaa;\n",
              "        }\n",
              "      </style>"
            ]
          },
          "metadata": {}
        },
        {
          "output_type": "display_data",
          "data": {
            "text/plain": [
              "<google.colab._quickchart_helpers.SectionTitle at 0x7b6285463580>"
            ],
            "text/html": [
              "<h4 class=\"colab-quickchart-section-title\">2-d distributions</h4>\n",
              "<style>\n",
              "  .colab-quickchart-section-title {\n",
              "      clear: both;\n",
              "  }\n",
              "</style>"
            ]
          },
          "metadata": {}
        },
        {
          "output_type": "display_data",
          "data": {
            "text/plain": [
              "import numpy as np\n",
              "from google.colab import autoviz\n",
              "\n",
              "def scatter_plots(df, colname_pairs, figscale=1, alpha=.8):\n",
              "  from matplotlib import pyplot as plt\n",
              "  plt.figure(figsize=(len(colname_pairs) * 6 * figscale, 6 * figscale))\n",
              "  for plot_i, (x_colname, y_colname) in enumerate(colname_pairs, start=1):\n",
              "    ax = plt.subplot(1, len(colname_pairs), plot_i)\n",
              "    df.plot(kind='scatter', x=x_colname, y=y_colname, s=(32 * figscale), alpha=alpha, ax=ax)\n",
              "    ax.spines[['top', 'right',]].set_visible(False)\n",
              "  plt.tight_layout()\n",
              "  return autoviz.MplChart.from_current_mpl_state()\n",
              "\n",
              "chart = scatter_plots(_df_5, *[[['No', 'Age']]], **{})\n",
              "chart"
            ],
            "text/html": [
              "      <div class=\"colab-quickchart-chart-with-code\" id=\"chart-dcb586e7-9df5-4887-8d4e-3769e14b6f70\">\n",
              "        <img src=\"data:image/png;base64,iVBORw0KGgoAAAANSUhEUgAAASgAAAEoCAYAAADrB2wZAAAAOXRFWHRTb2Z0d2FyZQBNYXRwbG90\n",
              "bGliIHZlcnNpb24zLjcuMSwgaHR0cHM6Ly9tYXRwbG90bGliLm9yZy/bCgiHAAAACXBIWXMAAA9h\n",
              "AAAPYQGoP6dpAAAZDklEQVR4nO3df0yU9+EH8PfDndxp8KDlUHH0OK4ITSN6aAV6jlXXadfWpUZi\n",
              "TCrDS3QwMuuWmkzMMGumA5o1GHRxUtOQUAzFiDKjZj9MtWpUkOmKmjWTwnmooELlEJEDzuf7h/HS\n",
              "m/Ct2PvwfDjer+RJ5AP3PO/7w3c+z+ee5x5FVVUVREQSCtM6ABHRSFhQRCQtFhQRSYsFRUTSYkER\n",
              "kbRYUEQkLRYUEUmLBUVE0mJBEZG0xmVBlZWVaR2BiMbAuCyoa9euaR2BiMbAuCwoIpoYWFBEJC0W\n",
              "FBFJiwVFRNJiQRGRtFhQRCQtvdYBiL7tTHMnqurdaO3sRYI5AtnpFjgSzVrHIo2woEgaZ5o7UXDg\n",
              "EvoGhmCcpENDaxcu3/CgZEUKS2qC4ikeSaOq3o2+gSHMMBnx3JRwzDAZ0TcwhL31bq2jkUZYUCSN\n",
              "1s5eGCfpoCgKAEBRFBgn6dDS2atxMtIKC4qkkWCOQP+gD48fNKSqKvoHfbDFRGicjLTCgiJpZKdb\n",
              "MCVcj46eftztG0BHTz+mhOuxOt2idTTSCAuKpOFINKNkRQrSE6Ix1ahHekI0SrJS4HiRC+QTFT/F\n",
              "I6k4Es38xI78OIMiImmxoIhIWiwoIpKW0ILyer1Yv349Zs2ahZSUFGRnZwMArl69CofDgaSkJCxY\n",
              "sABXrlwRGYOIximhi+QFBQVQFAX//e9/oSgKOjo6AAB5eXnIzc2F0+nE/v374XQ6cf78eZFRiGgc\n",
              "UtTHV8UF2f379xEbG4vr16/DZDL5x2/fvo3ExER888030Ov1UFUVsbGxOH36NBITE59q3++//z5K\n",
              "S0tFxCYiiQibQX399dd4/vnnUVRUhGPHjmHy5Mn44IMPEBUVhdjYWOj1jw6tKAosFgvcbvewBeX1\n",
              "euH1egPGfD6fqNhEJBFha1BDQ0O4du0aXn75ZTQ2NmLHjh1YtWoVhoaGRrWf4uJiREZGBmwNDQ2C\n",
              "UhORTIQVlMViQVhYGFavXg0ASE1NRUJCAq5du4b29nZ/UamqCrfbDYtl+NsZNm/eDI/HE7ClpaWJ\n",
              "ik1EEhFWUGazGa+//jr+/ve/AwBaW1vR2tqKhQsXYt68eaiqqgIA1NbWIi4ubsT1J4PBAJPJFLDp\n",
              "dDpRsYlIIkI/xdu9ezfWrl2LTZs2ISwsDOXl5fjBD36A8vJyOJ1OFBUVwWQyoaKiQmQMIhqnhBaU\n",
              "zWbD8ePHnxhPTk7G2bNnRR6aiEIAryQnImmxoIhIWiwoIpIWC4qIpMWCIiJpsaCISFosKCKSFguK\n",
              "iKTFgiIiabGgiEhaLCgikhYLioikxYIiImmxoIhIWiwoIpIWC4qIpMWCIiJpsaCISFosKCKSltCC\n",
              "slqtSE5Oht1uh91uR01Nzf87TkT0bUIfmgAANTU1sNvtTz1ORPQYT/GISFrCCyonJwcpKSlYu3Yt\n",
              "7ty5853j/8vr9aKnpydg8/l8omMTkQSEFtTJkyfR1NSECxcuwGw2Y82aNf/v+HCKi4sRGRkZsDU0\n",
              "NIiMTUSSUFRVVcfiQO3t7UhKSsK9e/eeavwxr9cLr9cbMLZlyxaUlZUJy0pEchC2SH7//n0MDg4i\n",
              "KioKAFBdXY3U1NQRx0diMBhgMBgCxnQ6najYRCQRYQV169YtZGVlwefzQVVV2Gw2VFZWjjhORPS/\n",
              "hBWUzWbDxYsXh/3dSONERN/GywyISFosKCKSFguKiKTFgiIiabGgiEhaLCgikhYLioikxYIiImmx\n",
              "oIhIWiwoIpIWC4qIpMWCIiJpsaCISFosKCKSFguKiKTFgiIiabGgiEhaLCgikhYLioikxYIiImkJ\n",
              "LSir1Yrk5GTY7XbY7XbU1NQAAK5evQqHw4GkpCQsWLAAV65cERmDiMYpYU91eaympgZ2uz1gLC8v\n",
              "D7m5uXA6ndi/fz+cTifOnz8vOgoRjTNjfop3+/ZtNDY2Ijs7GwCQlZWFtrY2NDc3j3UUIpKc8BlU\n",
              "Tk4OVFVFWloaSkpK0NbWhtjYWOj1jw6tKAosFgvcbjcSExOfeP1wjz73+XyiYxORBITOoE6ePImm\n",
              "piZcuHABZrMZa9asGfU+iouLERkZGbA1NDQISEtEslFUVVXH4kDt7e1ISkrC119/jcTERHzzzTfQ\n",
              "6/VQVRWxsbE4ffr0U8+gtmzZgrKysrGITUQaEjaDun//Prq7u/0/V1dXIzU1FdOmTcO8efNQVVUF\n",
              "AKitrUVcXNyw5QQABoMBJpMpYNPpdKJiE5FEhK1B3bp1C1lZWfD5fFBVFTabDZWVlQCA8vJyOJ1O\n",
              "FBUVwWQyoaKiQlQMIhrHhBWUzWbDxYsXh/1dcnIyzp49K+rQRBQieCU5EUmLBUVE0mJBEZG0WFBE\n",
              "JC0WFBFJiwVFRNJiQRGRtFhQRCQtFhQRSYsFRUTSYkERkbRYUEQkLRYUEUmLBUVE0mJBEZG0WFBE\n",
              "JC0WFBFJiwVFRNJiQRGRtMakoCoqKqAoCurq6gAAixYtQkJCAux2O+x2O7Zv3z4WMYhonBH+ZGGX\n",
              "y4U9e/YgIyMjYHz79u1Yvny56MOHpDPNnaiqd6O1sxcJ5ghkp1vgSDRrHYso6ITOoB4+fIh169Zh\n",
              "586dMBgMIg81YZxp7kTBgUtoaO3Cvf4hNLR2oeDAJZxp7tQ6GlHQCS2o0tJSLFy4EPPnz3/idwUF\n",
              "BUhJScGqVavQ0tIy4j68Xi96enoCNp/PJzK21Krq3egbGMIMkxHPTQnHDJMRfQND2Fvv1joaUdAJ\n",
              "K6jLly+jtrYWhYWFT/zu008/xVdffYWmpiZkZmZi2bJlI+6nuLgYkZGRAVtDQ4Oo2NJr7eyFcZIO\n",
              "iqIAABRFgXGSDi2dvRonIwo+YQV16tQpuFwuzJo1C1arFefOnUNubi7+8pe/4IUXXgDw6D/X+vXr\n",
              "0dLSgq6urmH3s3nzZng8noAtLS1NVGzpJZgj0D/46GnNAKCqKvoHfbDFRGicjCj4hC2S5+fnIz8/\n",
              "3//zokWL8Jvf/AbLli3DrVu3MH36dABAbW0tpk+fjujo6GH3YzAYnli/0ul0omJLLzvdgss3POjo\n",
              "6Ydxkg79gz5MCddjdbpF62hEQSf8U7z/5fV68fbbb8Pr9SIsLAxmsxmHDh0a6xjjliPRjJIVKdhb\n",
              "70ZLZy/mxkVhdYYFjhf5KR6FnjErqBMnTvj/3djYOFaHDUmORDMvK6AJ4ZnWoLxeb7BzEBE9YVQF\n",
              "1dTUhNmzZ+PFF18EAPzrX//Cb3/7WyHBiIhGVVAbNmzA7t27ERMTAwCYN28ejhw5IiQYEdGoCqq3\n",
              "txc//OEP/T8rioLw8PCghyIiAkZZUHq9HoODg/6LBNva2ib0R/5EJNaoCmr9+vVYvnw57ty5g8LC\n",
              "QmRmZnINioiEGdVlBtnZ2bDZbPjrX/+KgYEBVFVVBZzyEREF06ivg3I4HHA4HCKyEBEFGFVBLV68\n",
              "2L/+9FhUVBReffVVbNiwgV+pQkRBNao1qPnz50Ov12Pt2rVYt24dwsPDMXPmTDQ2NuK9994TlZGI\n",
              "JqhRzaDOnDmDU6dO+T+5W7lyJTIzM3H69GmkpKQICUhEE9eoZlBdXV0Bp3iKouDu3bvQ6/UwGo1B\n",
              "D0dEE9uoZlCvv/463nzzTWRnZwMA9u7dix//+Mfo7e3l+hMRBd2oCmrHjh0oLy9HXV0dFEXBz372\n",
              "M0ybNg0RERE4d+6cqIxENEGN+kryX/3qV/jjH/+IhIQEbN26FR9++KGobEQ0wT31DKqvrw81NTX4\n",
              "5JNP0NLSggcPHuDs2bN46aWXROYjognsqWZQv/jFL/DCCy/g0KFD2LRpE9xuN6KiolhORCTUU82g\n",
              "PvvsM7zyyivIy8vDG2+8AUVRnrhgk4go2J5qBtXe3o7s7Gz84Q9/QHx8PAoLCzE4OCg6GxFNcE9V\n",
              "UBEREVi7di3OnDmDv/3tb+jv78fAwAAcDgd27dolOiMRTVCj/k7yl19+GR999BFu3LiBjRs3PtU3\n",
              "alZUVEBRFNTV1QEAbt++jZ/+9KeYNWsWZs+ejZMnT446OBGFvmd+cKder0dWVtZ3FpTL5cKePXuQ\n",
              "kZHhHysoKEBGRgauXr2KiooKvPvuuzxlJKInCHuyMAA8fPgQ69atw86dOwOuNN+3bx9++ctfAgAW\n",
              "LFiAmTNn4osvvhAZhYjGIaHPxSstLcXChQsxf/58/1hXVxcGBwcxY8YM/5jVaoXb7R52H16v94nH\n",
              "XPl8PjGBiUgqwmZQly9fRm1tLQoLC7/XfoqLixEZGRmwNTQ0BCklEclMWEGdOnUKLpcLs2bNgtVq\n",
              "xblz55Cbm4t9+/ZBr9ejo6PD/7culwsWi2XY/WzevBkejydgS0tLExWbiCQirKDy8/PR3t4Ol8sF\n",
              "l8uFjIwMfPzxx8jPz8fKlSuxe/duAMD58+dx48YNvPbaa8Pux2AwwGQyBWx8kgzRxCB0DWokH374\n",
              "IX7+859j1qxZCA8PR1VVFSZNmqRFFCKS2JgV1IkTJ/z/nj59Ov7xj3+M1aGJaJwSepkBEdH3wYIi\n",
              "ImmxoIhIWiwoIpIWC4qIpMWCIiJpsaCISFosKCKSFguKiKTFgiIiabGgiEhaLCgikhYLioikxYIi\n",
              "ImmxoIhIWiwoIpIWC4qIpMWCIiJpsaCISFpCv5N86dKl6OjoQFhYGKZOnYodO3YgNTUVVqsVBoMB\n",
              "kydPBvDo0VKrVq0SGYWIxiGhBbVv3z5ERUUBAA4ePAin04kvv/wSAFBTUwO73S7y8EQ0zgk9xXtc\n",
              "TgDg8XigKIrIwxFRiBH+2KmcnBwcP34cAHD06NGAcVVVkZaWhpKSEsTExAz7eq/XC6/XGzDm8/nE\n",
              "BSYiaQhfJK+srERbWxu2bduGTZs2AQBOnjyJpqYmXLhwAWazGWvWrBnx9cXFxYiMjAzYGhoaRMcm\n",
              "IgkoqqqqY3WwyZMn4/r164iOjvaPtbe3IykpCffu3Rv2NcPNoLZs2YKysjKhWYlIe8JO8bq7u9HX\n",
              "14eZM2cCAOrq6hAdHQ2j0Yju7m7/+lR1dTVSU1NH3I/BYIDBYAgY0+l0omITkUSEFZTH48HKlSvx\n",
              "4MEDhIWFISYmBocPH8atW7eQlZUFn88HVVVhs9lQWVkpKgYRjWPCCio+Pn7EtaKLFy+KOiwRhRBe\n",
              "SU5E0mJBEZG0WFBEJC0WFBFJiwVFRNJiQRGRtFhQRCQtFhQRSYsFRUTSEv51K0QU2s40d6Kq3o3W\n",
              "zl4kmCOQnW6BI9EclH2zoIjomZ1p7kTBgUvoGxiCcZIODa1duHzDg5IVKUEpKZ7iEdEzq6p3o29g\n",
              "CDNMRjw3JRwzTEb0DQxhb707KPtnQRHRM2vt7IVxks7/dd6KosA4SYeWzt6g7J8FRUTPLMEcgf7B\n",
              "R1+dBACqqqJ/0AdbTERQ9s+CIqJnlp1uwZRwPTp6+nG3bwAdPf2YEq7H6nRLUPbPgiKiZ+ZINKNk\n",
              "RQrSE6Ix1ahHekI0SrJS4HiRn+IRkQQcieagXVbwvziDIiJpsaCISFosKCKSltCCWrp0KebMmQO7\n",
              "3Y7MzEz/wxKuXr0Kh8OBpKQkLFiwAFeuXBEZg4jGKaGL5Pv27fM//+7gwYNwOp348ssvkZeXh9zc\n",
              "XDidTuzfvx9OpxPnz58XGYVIUyLvVwtlQmdQj8sJePScPEVRcPv2bTQ2NiI7OxsAkJWVhba2NjQ3\n",
              "N4uMQqSZx/erNbR24V7/EBpau1Bw4BLONHdqHU16wi8zyMnJwfHjxwEAR48eRVtbG2JjY6HXPzq0\n",
              "oiiwWCxwu91ITEx84vXDPfrc5/OJjk0UNN++X01RFKiqio6efuytd3MW9R2EL5JXVlaira0N27Zt\n",
              "w6ZNm0b9+uLiYkRGRgZsIz0QlEhGou9XC2Vj9inemjVrcPz4ccTFxaG9vR1DQ0MAHt2743a7YbEM\n",
              "f2n85s2b4fF4Ara0tLSxik30vYm+Xy2UCSuo7u5u3Lx50/9zXV0doqOjMW3aNMybNw9VVVUAgNra\n",
              "WsTFxQ17egcABoMBJpMpYNPpdKJiEwWd6PvVQpmwNSiPx4OVK1fiwYMHCAsLQ0xMDA4fPgxFUVBe\n",
              "Xg6n04mioiKYTCZUVFSIikGkucf3q+2td6Olsxdz46KwOsMStPvVQpmiPp53jiPvv/8+SktLtY5B\n",
              "RILxSnIikhYLioikxYIiImmxoIhIWiwoIpIWC4qIpMWCIiJpsaCISFosKCKSFguKiKTFgiIiabGg\n",
              "iEhaLCgikhYLioikxYIiImmxoIhIWiwoIpIWC4qIpMWCIiJpCSuo/v5+LF++HElJSZg7dy6WLFni\n",
              "f3rwokWLkJCQALvdDrvdju3bt4uKQUTjmNAnC+fm5uLNN9+Eoij485//jHXr1uHEiRMAgO3bt2P5\n",
              "8uUiD09E45ywGZTRaMRbb73lf5pqRkYGXC6XqMMRUQgaszWosrIyvPPOO/6fCwoKkJKSglWrVqGl\n",
              "pWXE13m9XvT09ARsPp9vLCITkcbGpKCKiorQ3NyM4uJiAMCnn36Kr776Ck1NTcjMzMSyZctGfG1x\n",
              "cTEiIyMDtoaGhrGITUQaE/7gzo8++gifffYZjh07hqioqGH/xmg04saNG4iOjn7id16vF16vN2Bs\n",
              "y5YtKCsrExGXiCQidJG8tLQU1dXVAeU0NDSErq4uTJ8+HQBQW1uL6dOnD1tOAGAwGGAwGALGdDqd\n",
              "yNhEJAlhBXX9+nVs3LgRNpsNixcvBvCobD7//HO8/fbb8Hq9CAsLg9lsxqFDh0TFIKJxTFhBxcXF\n",
              "YaSzx8bGRlGHJaIQwivJiUhaLCgikhYLioikxYIiImkJvcxAS2eaO1FV70ZrZy8SzBHITrfAkWjW\n",
              "OhYRjUJIFtSZ5k4UHLiEvoEhGCfp0NDahcs3PChZkcKSIhpHQvIUr6rejb6BIcwwGfHclHDMMBnR\n",
              "NzCEvfVuraMR0SiEZEG1dvbCOEnn/yYFRVFgnKRDS2evxsmIaDRCsqASzBHoH/T5LxRVVRX9gz7Y\n",
              "YiI0TkZEoxGSBZWdbsGUcD06evpxt28AHT39mBKux+p0i9bRiGgUQrKgHIlmlKxIQXpCNKYa9UhP\n",
              "iEZJVgocL3KBnGg8CclP8YBHJcVP7IjGt5CcQRFRaGBBEZG0WFBEJC0WFBFJiwVFRNJiQRGRtIQ/\n",
              "1UWEFStWwGq1fuff+Xw+NDQ0IC0tLeQetMD3Nv6E6vsCRv/e4uPj8etf//o7/25cFtTT6unpQWRk\n",
              "JDweD0wmk9ZxgorvbfwJ1fcFiHtvPMUjImmxoIhIWiwoIpJWSBeUwWDA73//+yeeTBwK+N7Gn1B9\n",
              "X4C49xbSi+RENL6F9AyKiMY3FhQRSYsFRUTSCtmC2rBhA6xWKxRFwb///W+t4wRNf38/li9fjqSk\n",
              "JMydOxdLlixBc3Oz1rGCZunSpZgzZw7sdjsyMzNx8eJFrSMFVUVFBRRFQV1dndZRgsZqtSI5ORl2\n",
              "ux12ux01NTXB27kaor744gu1ra1NjY+PVy9evKh1nKB58OCBeuTIEfXhw4eqqqrqzp071ddee03b\n",
              "UEF09+5d/78PHDigzpkzR7swQdba2qq++uqrakZGhnrw4EGt4wSNyP9jITuD+tGPfoS4uDitYwSd\n",
              "0WjEW2+95X+kVkZGBlwul7ahgigqKsr/b4/H43+f493Dhw+xbt067Ny5MyQvMxAlZL+TfKIoKyvD\n",
              "O++8o3WMoMrJycHx48cBAEePHtU4TXCUlpZi4cKFmD9/vtZRhMjJyYGqqkhLS0NJSQliYmKCst+Q\n",
              "nUFNBEVFRWhubkZxcbHWUYKqsrISbW1t2LZtGzZt2qR1nO/t8uXLqK2tRWFhodZRhDh58iSamppw\n",
              "4cIFmM1mrFmzJng7F3LiKJFQW4N67E9/+pM6f/78gDWbUGQ0GtXOzk6tY3wvu3btUmfMmKHGx8er\n",
              "8fHxqsFgUGNiYtRdu3ZpHS3obt68qUZERARtf5xBjUOlpaWorq7GP//5z4A1m/Guu7sbN2/e9P9c\n",
              "V1eH6OhoPP/88xqm+v7y8/PR3t4Ol8sFl8uFjIwMfPzxx8jPz9c62vd2//59dHd3+3+urq5Gampq\n",
              "0PYfsmtQeXl5OHLkCDo6OvDGG29g6tSpIfFx/PXr17Fx40bYbDYsXrwYwKP7oOrr6zVO9v15PB6s\n",
              "XLkSDx48QFhYGGJiYnD48OGQWSgPRbdu3UJWVhZ8Ph9UVYXNZkNlZWXQ9s978YhIWjzFIyJpsaCI\n",
              "SFosKNKM1WrFSy+9hKGhIf/YK6+8ghMnTmgXiqTCgiJNeb1efPLJJ1rHIEmxoEhTH3zwAbZu3Yq+\n",
              "vr6A8du3b2PFihVISUnB7NmzUV5erlFC0hILijQ1d+5cLF68GNu3bw8Yf++995CcnIxLly7h888/\n",
              "x7Zt23Du3DmNUpJWWFCkua1bt6KsrAxdXV3+sWPHjiEvLw8AMG3aNKxYsQLHjh3TKiJphAVFmrNa\n",
              "rXj33Xexbdu2Ef+GF2tOTCwokkJhYSGqqqr8t7r85Cc/wZ49ewAAd+7cwYEDB7BkyRItI5IGWFAk\n",
              "BbPZjA0bNqC9vR0AsGPHDvznP/9BSkoKFi9ejN/97ndIT0/XOCWNNd7qQkTS4gyKiKTFgiIiabGg\n",
              "iEhaLCgikhYLioikxYIiImmxoIhIWiwoIpIWC4qIpMWCIiJpsaCISFr/BxE8ihVLuoViAAAAAElF\n",
              "TkSuQmCC\n",
              "\">\n",
              "        \n",
              "      </div>\n",
              "      <script></script>\n",
              "      <script type=\"text/javascript\">\n",
              "        (() => {\n",
              "          const chartElement = document.getElementById(\"chart-dcb586e7-9df5-4887-8d4e-3769e14b6f70\");\n",
              "          async function getCodeForChartHandler(event) {\n",
              "            const chartCodeResponse =  await google.colab.kernel.invokeFunction(\n",
              "                'getCodeForChart', [\"chart-dcb586e7-9df5-4887-8d4e-3769e14b6f70\"], {});\n",
              "            const responseJson = chartCodeResponse.data['application/json'];\n",
              "            await google.colab.notebook.addCell(responseJson.code, 'code');\n",
              "          }\n",
              "          chartElement.onclick = getCodeForChartHandler;\n",
              "        })();\n",
              "      </script>\n",
              "      <style>\n",
              "        .colab-quickchart-chart-with-code  {\n",
              "            display: block;\n",
              "            float: left;\n",
              "            border: 1px solid transparent;\n",
              "        }\n",
              "\n",
              "        .colab-quickchart-chart-with-code:hover {\n",
              "            cursor: pointer;\n",
              "            border: 1px solid #aaa;\n",
              "        }\n",
              "      </style>"
            ]
          },
          "metadata": {}
        },
        {
          "output_type": "display_data",
          "data": {
            "text/plain": [
              "<google.colab._quickchart_helpers.SectionTitle at 0x7b6285379480>"
            ],
            "text/html": [
              "<h4 class=\"colab-quickchart-section-title\">Faceted distributions</h4>\n",
              "<style>\n",
              "  .colab-quickchart-section-title {\n",
              "      clear: both;\n",
              "  }\n",
              "</style>"
            ]
          },
          "metadata": {}
        },
        {
          "output_type": "display_data",
          "data": {
            "text/plain": [
              "import numpy as np\n",
              "from google.colab import autoviz\n",
              "\n",
              "def violin_plot(df, value_colname, facet_colname, figscale=1, mpl_palette_name='Dark2', **kwargs):\n",
              "  from matplotlib import pyplot as plt\n",
              "  import seaborn as sns\n",
              "  figsize = (12 * figscale, 1.2 * figscale * len(df[facet_colname].unique()))\n",
              "  plt.figure(figsize=figsize)\n",
              "  sns.violinplot(df, x=value_colname, y=facet_colname, palette=mpl_palette_name, **kwargs)\n",
              "  sns.despine(top=True, right=True, bottom=True, left=True)\n",
              "  return autoviz.MplChart.from_current_mpl_state()\n",
              "\n",
              "chart = violin_plot(_df_6, *['No', 'Name'], **{'inner': 'stick'})\n",
              "chart"
            ],
            "text/html": [
              "      <div class=\"colab-quickchart-chart-with-code\" id=\"chart-c7b8a6b8-c69b-4a22-8d41-61e4e1206e2a\">\n",
              "        <img src=\"data:image/png;base64,iVBORw0KGgoAAAANSUhEUgAAAigAAAEaCAYAAAA7V6y+AAAAOXRFWHRTb2Z0d2FyZQBNYXRwbG90\n",
              "bGliIHZlcnNpb24zLjcuMSwgaHR0cHM6Ly9tYXRwbG90bGliLm9yZy/bCgiHAAAACXBIWXMAAA9h\n",
              "AAAPYQGoP6dpAAAXeUlEQVR4nO3df2zUdx3H8df32stdHaFDBxGL9FJAEIEilbkq27joTLMoWwiZ\n",
              "bjH2pG6aVVFYI8HRUTOy8w/YCSwST4kVl4hJAZeg44/ZVtakTFKnzsC2jPbcjzY64Qat7Z0HfPxj\n",
              "4bavBXoH134/1z4fSZP18/1+797vHB947fP53p1jjDECAACwiM/rAgAAAP4fAQUAAFiHgAIAAKxD\n",
              "QAEAANYhoAAAAOsQUAAAgHUIKAAAwDoEFAAAYB0CCgAAsA4BBQAAWIeAAgAArENAAQAA1in1ugBI\n",
              "xhilUilJUjAYlOM4HlcEAIC3WEGxQCqVUjgcVjgczgYVAACmMgIKAACwDgEFAABYh4ACAACsQ0AB\n",
              "AADWIaAAAADrEFAAAIB1CCgAAMA6BBQAAGAdAgoAALAOAQUAAFiHgAIAAKxDQAEAANYhoAAAAOsQ\n",
              "UAAAgHVKx+uB4/G42tra5PO9l4GGh4fl9/vl9/td51ZVVamhoUFNTU0KBALZ8Uwmo40bN6qnp0fd\n",
              "3d2ua4aGhtTV1aVVq1Zp2rRprmO1tbWqqalRLBZzPVc6ndaOHTu0b98+9fb2uq656aabdPDgwRvu\n",
              "GwAA3LhxCyj9/f2Kx+MKhULZsZaWFiUSCbW2trrOjUQiGhwcVH19vSKRSHa8s7NTiURCfX19Onr0\n",
              "6KhrJGn+/PlXfLzKyko1Nzdr9erV2fHW1lYNDg5qeHj4qo8HAAC8xxYPAACwzritoEwW6XRa6XTa\n",
              "NRYIBFxbUQAAoLBYQRlDNBpVeXm56ycajXpdFgAAkxorKGPYsmWLNm3a5Bpj9QQAgPFFQBkD2zkA\n",
              "AEw8tngAAIB1CCgAAMA647bF4/P5FIlEFAwGs2O9vb3KZDKqq6tzF1FaKsdxFIvFdODAgex4MplU\n",
              "Y2OjSkpKRl1z8uRJSVJ7e/uoYxUVFfL5fNq8ebNmzJiRHR8YGNDu3bv173//e9Q1Z86cubGGAQBA\n",
              "wTjGGON1EVPdyMiIwuGwJKmjo0NlZWUeVwQAgLfY4gEAANYhoAAAAOsQUAAAgHUIKAAAwDoEFAAA\n",
              "YB0CCgAAsA4BBQAAWIeAAgAArENAAQAA1iGgAAAA6xBQAACAdQgoAADAOnxZoAWMMUqlUpKkYDAo\n",
              "x3E8rggAAG8RUAAAgHXY4gEAANYhoAAAAOsQUAAAgHUIKAAAwDoEFAAAYJ1SrwsAigFvBQeAicUK\n",
              "CpCDVCqlcDiscDicDSoAgPFDQAEAANYhoAAAAOsQUAAAgHUIKAAAwDoEFAAAYB0CCgAAsA4BBQAA\n",
              "WIeAAgAArENAAQAA1iGgAAAA6xBQAACAdQgoAADAOgQUAABgHQIKAACwTqnXBbxfPB5XW1ubfL73\n",
              "ctPw8LD8fr/8fr/r3KqqKjU0NKipqUmBQCA7nslktHHjRvX09Ki7u9t1zdDQkLq6urRq1SpNmzbN\n",
              "day2tlbbtm0bh64AAEC+rAoo/f39isfjCoVC2bGWlhYlEgm1tra6zo1EIhocHFR9fb0ikUh2vLOz\n",
              "U4lEQn19fTp69OioayRp/vz5V3w8AABgB7Z4AACAdaxaQbFROp1WOp12jQUCAde2EgAAKCxWUMYQ\n",
              "jUZVXl7u+olGo16XBQDApMYKyhi2bNmiTZs2ucZYPQEAYHwRUMbAdg4AABOPLR4AAGAdAgoAALCO\n",
              "VVs8Pp9PkUhEwWAwO9bb26tMJqO6ujrXuaWlpXIcR7FYTAcOHMiOJ5NJNTY2qqSkZNQ1J0+elCS1\n",
              "t7ePOlZRUVHodgAAwHVyjDHG6yIA242MjCgcDkuSOjo6VFZW5nFFADC5scUDAACsQ0ABAADWIaAA\n",
              "AADrEFAAAIB1CCgAAMA6BBQAAGAdAgoAALAOAQUAAFiHgAIAAKxDQAEAANYhoAAAAOsQUAAAgHUI\n",
              "KAAAwDp8mzGQA2OMUqmUJCkYDMpxHI8rAoDJjYACAACswxYPAACwDgEFAABYh4ACAACsQ0ABAADW\n",
              "KfW6AAAoFN5tBUwerKAAmDRSqZTC4bDC4XA2qAAoTgQUAABgHQIKAACwDgEFAABYh4ACAACsQ0AB\n",
              "AADWua6A0tPTo1/96leSpGQyqYGBgYIWBQAApra8A8pPfvITrV+/Xi0tLZKks2fP6oEHHih0XQAA\n",
              "YArLO6DE43EdP35c06dPlyTNmzdPb7/9dsELAwAAU1feASUQCKisrMw1VlrKB9ICAIDCyTugzJw5\n",
              "U6+++mr2I6RbW1s1d+7cghcGAACmrryXPn784x/r/vvv18svv6yPfvSjmj59uo4cOTIetQEAgCkq\n",
              "74Ayf/58vfDCC3rllVdkjNHChQtVUlIyHrUBAIAp6rpuHhkaGlImk9GFCxf017/+VZK0YsWKghYG\n",
              "AACmrrwDSiwW02OPPaaZM2dmV04cx9Grr75a8OIAAMDUlHdA2bNnj1555RV95CMfue4njcfjamtr\n",
              "k8/33j26w8PD8vv98vv9rnOrqqrU0NCgpqYmBQKB7Hgmk9HGjRvV09Oj7u5u1zVDQ0Pq6urSqlWr\n",
              "NG3aNNex2tpa1dTUKBaLuZ4rnU5rx44dqqmpue6+AABAYeQdUCoqKm4onEhSf3+/4vG4QqFQdqyl\n",
              "pUWJREKtra2ucyORiAYHB1VfX69IJJId7+zsVCKRUF9fn44ePTrqGund+2Wu9HiVlZVqbm7W6tWr\n",
              "s+Otra0aHBy8ob4AAEBh5B1QfvCDH2jDhg364he/qGAwmB2/4447CloYAACYuvIOKN3d3dq/f7+6\n",
              "urpc96D86U9/KnhxNkin00qn066xQCDg2m4CAACFlfcHte3fv1+JREJ//vOfdeLECZ04cWLShhNJ\n",
              "ikajKi8vd/1Eo1GvywIAYFLLewWlsrJSN9988ziUYqctW7Zo06ZNrjFWTwAAGF95B5SVK1fqvvvu\n",
              "07p161z3oKxZs6aghdmC7RwAACZe3gGlp6dHkrR3797smOM4kzagAACAiZd3QOno6BiPOgAAALKu\n",
              "66PuM5mM+vr6lEqlsmPLli3L+Xqfz6dIJOLaIurt7VUmk1FdXZ27wNJSOY6jWCymAwcOZMeTyaQa\n",
              "GxtVUlIy6pqTJ09Kktrb20cdq6iokM/n0+bNmzVjxozs+MDAgHbv3p1zDwAAYPw4xhiTzwVHjhzR\n",
              "gw8+qGQyqZtuuknJZFKVlZXq6+sbrxoBICcjIyMKh8OS3l3tLSsr87giANcr77cZNzc36/jx4/r4\n",
              "xz+uM2fOaP/+/Vq3bt141AYAAKaovAOKz+dTZWWlLly4IEn66le/qvb29oIXBgAApq6870G5/AV7\n",
              "c+bM0eHDhxUKhZRMJgteGAAAmLryDijf/e53lUwmtX37dn3lK1/RO++8o127do1HbQAAYIrKOaAc\n",
              "O3ZM0rvvgnnppZckST//+c8lvfs5KAAAAIWSc0B55JFHRo05jqP+/n4NDAzo4sWLBS0MAABMXTkH\n",
              "lBMnTrh+P3v2rLZv366nn35aP/zhDwteGAAAmLryfhdPKpVSNBrV4sWLJUmnTp3S1q1bC14YAACY\n",
              "unIOKJcuXVI8HteCBQv08ssv64UXXtCTTz6pD33oQ+NZHwAAmIJy3uJZsmSJ0um0nnjiCVVXV+vc\n",
              "uXP629/+lj2ez0fdAwAAXEvOAWV4eFiO4+ixxx4bdcxxHPX29ha0MAAAMHXlHFASicQ4lgEAAPCe\n",
              "vG+SBQAAGG95f5sxANjKGKNUKiVJCgaDfIgkUMQIKAAAwDps8QAAAOsQUAAAgHUIKAAAwDoEFAAA\n",
              "YJ2cPwcFAIBC4N1WyAUrKACACZVKpRQOhxUOh7NBBfh/BBQAAGAdAgoAALAOAQUAAFiHgAIAAKxD\n",
              "QAEAANYhoAAAAOsQUAAAgHUIKAAAwDoEFAAAYB0CCgAAsA4BBQAAWIeAAgAArENAAQAA1iGgAAAA\n",
              "6xBQAACAdUq9eNJ4PK62tjb5fO/lo+HhYfn9fvn9fte5VVVVamhoUFNTkwKBQHY8k8lo48aN6unp\n",
              "UXd3t+uaoaEhdXV1adWqVZo2bZrrWG1trWpqahSLxVzPlU6ntWPHDtXU1BSyVQAAcB08CSj9/f2K\n",
              "x+MKhULZsZaWFiUSCbW2trrOjUQiGhwcVH19vSKRSHa8s7NTiURCfX19Onr06KhrJGn+/PlXfLzK\n",
              "yko1Nzdr9erV2fHW1lYNDg4WoDsAAHCj2OIBAADW8WQFpZik02ml02nXWCAQcG03AQCAwmIFZQzR\n",
              "aFTl5eWun2g06nVZAABMaqygjGHLli3atGmTa4zVEwAAxhcBZQxs5wAAMPHY4gEAANYhoAAAAOt4\n",
              "ssXj8/kUiUQUDAazY729vcpkMqqrq3OdW1paKsdxFIvFdODAgex4MplUY2OjSkpKRl1z8uRJSVJ7\n",
              "e/uoYxUVFfL5fNq8ebNmzJiRHR8YGNDu3bsL1iMAALh+jjHGeF0EAGDqGBkZUTgcliR1dHSorKzM\n",
              "44pgI7Z4AACAdQgoAADAOgQUAABgHQIKAACwDgEFAABYh4ACAACsQ0ABAADWIaAAAADrEFAAAIB1\n",
              "CCgAAMA6BBQAAGAdAgoAALAOXxYIAJhQxhilUilJUjAYlOM4HlcEGxFQAACAddjiAQAA1iGgAAAA\n",
              "6xBQAACAdQgoAADAOqVeFwAAAOxiwzutWEEBAAAuqVRK4XBY4XA4G1QmGgEFAABYh4ACAACsQ0AB\n",
              "AADWIaAAAADrEFAAAIB1CCgAAMA6BBQAAGAdAgoAALAOAQUAAFiHgAIAAKxDQAEAANYhoAAAAOsQ\n",
              "UAAAgHUIKAAAwDoEFAAAYJ1SL540Ho+rra1NPt97+Wh4eFh+v19+v991blVVlRoaGtTU1KRAIJAd\n",
              "z2Qy2rhxo3p6etTd3e26ZmhoSF1dXVq1apWmTZvmOlZbW6uamhrFYjHXc6XTae3YsUM1NTWFbBUA\n",
              "AFwHTwJKf3+/4vG4QqFQdqylpUWJREKtra2ucyORiAYHB1VfX69IJJId7+zsVCKRUF9fn44ePTrq\n",
              "GkmaP3/+FR+vsrJSzc3NWr16dXa8tbVVg4ODBegOAADcKLZ4AACAdTxZQSkm6XRa6XTaNRYIBFzb\n",
              "TQAAoLBYQRlDNBpVeXm56ycajXpdFgAAkxorKGPYsmWLNm3a5Bpj9QQAgPFFQBkD2zkAAEw8tngA\n",
              "AIB1CCgAAMA6nmzx+Hw+RSIRBYPB7Fhvb68ymYzq6upc55aWlspxHMViMR04cCA7nkwm1djYqJKS\n",
              "klHXnDx5UpLU3t4+6lhFRYV8Pp82b96sGTNmZMcHBga0e/fugvUIAACun2OMMV4XAQAA7DEyMqJw\n",
              "OCxJ6ujoUFlZ2YTXwBYPAACwDgEFAABYh4ACAACsQ0ABAADWIaAAAADrEFAAAIB1CCgAAMA6BBQA\n",
              "AGAdAgoAALAOAQUAAFiHgAIAAKxDQAEAANbhywIBAICLMUapVEqSFAwG5TjOhNdAQAEAANZhiwcA\n",
              "AFiHgAIAAKxDQLFEOp1WS0uL0um016UUxGTrR6KnYkFPxYGe7Od1P9yDYonz58+rvLxc586d0/Tp\n",
              "070u54ZNtn4keioW9FQc6Ml+XvfDCgoAALAOAQUAAFiHgAIAAKxDQLFEIBDQtm3bFAgEvC6lICZb\n",
              "PxI9FQt6Kg70ZD+v++EmWQAAYB1WUAAAgHUIKAAAwDoEFAAAYB0CygTasGGDQqGQHMfRX/7yl6ue\n",
              "t2/fPi1YsEDz5s3Tgw8+qEwmM3FF5imXnjo7O1VWVqbly5dnf0ZGRia20BylUinde++9+tjHPqbq\n",
              "6mrdddddeu2116547pEjR7Ro0SItWLBAa9eu1fnz5ye42tzk2lMikVBJSYnrdTp9+rQHFefmC1/4\n",
              "gpYtW6bly5fr9ttv14svvnjF84ppPuXSUzHNp8t+8YtfyHEc/fa3v73i8WKZS+93rZ6KbS6FQiEt\n",
              "XLgwW+tvfvObK5434XPJYML88Y9/NG+88YaprKw0L7744hXP6e3tNbNnzzYDAwPm0qVL5ktf+pJ5\n",
              "6qmnJrbQPOTSU0dHh6murp7Quq7XyMiI+d3vfmcuXbpkjDFmz5495s477xx13uDgoJk1a5Y5deqU\n",
              "McaYxsZG09TUNJGl5izXnvr6+kx5efnEFncDkslk9r8PHTpkli1bNuqcYptPufRUTPPJmHf/XNXW\n",
              "1prbbrvNHD58eNTxYppLl43VU7HNpWv9/X2ZF3OJFZQJdMcdd2jOnDnXPKetrU1r1qzRhz/8YTmO\n",
              "o29961v69a9/PUEV5i+XnopJMBjU3XffLcdxJEm33XabEonEqPOeffZZffKTn9SiRYskSQ8//LC1\n",
              "r1OuPRWbm2++Ofvf586dy/b3fsU2n3LpqZhcunRJ3/jGN7Rnz56rvlW1mOaSlFtPk5EXc6l0XB8d\n",
              "eXv99ddVWVmZ/T0UCun111/3sKLCOH36tFasWKGSkhJ9/etf18MPP+x1STnZtWuX7rnnnlHjV3qd\n",
              "BgYGdOHCBZWW2j2trtaTJP3nP//RypUrdfHiRd1777169NFHVVJSMsEV5u5rX/uaOjo6JEm///3v\n",
              "Rx0vxvk0Vk9S8cynJ598Up/97GdVU1Nz1XOKbS7l0pNUnHPJGKNbb71VP/rRjzRz5kzXcS/mkn2v\n",
              "PiadFStW6M0331R5ebnefPNN3X333brlllt03333eV3aNT3xxBN67bXX9Ic//MHrUgrmWj3Nnj1b\n",
              "b731lmbNmqWzZ8/qy1/+snbu3Knvf//7HlSam/3790uSfvnLX2rz5s1X/Qe9mIzVU7HMp7///e86\n",
              "ePCgjh075nUpBZNrT8U2l44dO6a5c+cqk8lo69atqq+vt2IuscVjmblz5+of//hH9vdEIqG5c+d6\n",
              "WNGNmz59usrLyyVJc+bM0f3336/nn3/e46qubceOHTp06JCeffZZfeADHxh1/Eqv0+zZs638P77L\n",
              "xuopEAho1qxZkqQPfvCDWr9+vfWv02X19fXq6OjQmTNnXOPFPJ+u1lOxzKfnn39eiURCCxYsUCgU\n",
              "0vHjx/XQQw9p7969rvOKaS7l2lOxzaXLc8Lv9+t73/veFWv1ZC6N6x0uuKJr3ZB0+vTpUTci7dmz\n",
              "Z2ILvA7X6qm/v99cvHjRGGPM+fPnzWc+8xmzb9++CawuPzt37jQrVqwwZ8+eveo558+fNzNnznTd\n",
              "2PfII49MVIl5y6Wnf/7zn+a///2vMcaYVCpl1q1bZ5qbmyeqxLwkk0nz1ltvZX8/fPiwqaioyN4I\n",
              "fFkxzadceyq2+XTZnXfeecUbSottLr3f1Xoqprk0NDTkujl7586d5vbbbx91nhdziYAygR566CFT\n",
              "UVFhSkpKzKxZs8y8efOMMcY0NDSYZ555JntePB43VVVVpqqqyqxfvz77B91GufS0Z88es3jxYrNs\n",
              "2TKzePFis23btlF/6drijTfeMJJMVVWVqa6uNtXV1ebWW281xhjT3Nxs9u7dmz33mWeeMQsXLjTz\n",
              "5s0z99xzj3nnnXe8Kvuacu3p4MGD5hOf+ET2dfr2t79tUqmUl6VfVSKRMCtXrjRLliwxy5YtM5/7\n",
              "3OeyAblY51OuPRXTfHq/9/9jXqxz6f9dradimkunT582y5cvN0uXLjVLliwxa9asMX19fcYY7+cS\n",
              "38UDAACswz0oAADAOgQUAABgHQIKgKIVCoW0aNEiXbhwITv2qU99Sp2dnd4VBaAgCCgAilo6nda+\n",
              "ffu8LgNAgRFQABS1lpYWPf744xoeHnaN/+tf/9LatWu1dOlSLVmyRD/96U89qhDA9SCgAChq1dXV\n",
              "CofDisVirvHvfOc7WrhwoV566SW1t7dr+/btOn78uEdVAsgXAQVA0Xv88ce1a9cu16euPvfcc/rm\n",
              "N78pSZo1a5bWrl2r5557zqsSAeSJgAKg6IVCIT3wwAPavn37Vc8p9m8GBqYaAgqASWHr1q16+umn\n",
              "1d/fL0n6/Oc/r5/97GeSpLfffluHDh3SXXfd5WWJAPJAQAEwKdxyyy3asGGDBgYGJEm7d+/WqVOn\n",
              "tHTpUoXDYT366KP69Kc/7XGVAHLFR90DAADrsIICAACsQ0ABAADWIaAAAADrEFAAAIB1CCgAAMA6\n",
              "BBQAAGAdAgoAALAOAQUAAFiHgAIAAKxDQAEAANYhoAAAAOv8DyTr3B492CFtAAAAAElFTkSuQmCC\n",
              "\">\n",
              "        \n",
              "      </div>\n",
              "      <script></script>\n",
              "      <script type=\"text/javascript\">\n",
              "        (() => {\n",
              "          const chartElement = document.getElementById(\"chart-c7b8a6b8-c69b-4a22-8d41-61e4e1206e2a\");\n",
              "          async function getCodeForChartHandler(event) {\n",
              "            const chartCodeResponse =  await google.colab.kernel.invokeFunction(\n",
              "                'getCodeForChart', [\"chart-c7b8a6b8-c69b-4a22-8d41-61e4e1206e2a\"], {});\n",
              "            const responseJson = chartCodeResponse.data['application/json'];\n",
              "            await google.colab.notebook.addCell(responseJson.code, 'code');\n",
              "          }\n",
              "          chartElement.onclick = getCodeForChartHandler;\n",
              "        })();\n",
              "      </script>\n",
              "      <style>\n",
              "        .colab-quickchart-chart-with-code  {\n",
              "            display: block;\n",
              "            float: left;\n",
              "            border: 1px solid transparent;\n",
              "        }\n",
              "\n",
              "        .colab-quickchart-chart-with-code:hover {\n",
              "            cursor: pointer;\n",
              "            border: 1px solid #aaa;\n",
              "        }\n",
              "      </style>"
            ]
          },
          "metadata": {}
        },
        {
          "output_type": "display_data",
          "data": {
            "text/plain": [
              "import numpy as np\n",
              "from google.colab import autoviz\n",
              "\n",
              "def violin_plot(df, value_colname, facet_colname, figscale=1, mpl_palette_name='Dark2', **kwargs):\n",
              "  from matplotlib import pyplot as plt\n",
              "  import seaborn as sns\n",
              "  figsize = (12 * figscale, 1.2 * figscale * len(df[facet_colname].unique()))\n",
              "  plt.figure(figsize=figsize)\n",
              "  sns.violinplot(df, x=value_colname, y=facet_colname, palette=mpl_palette_name, **kwargs)\n",
              "  sns.despine(top=True, right=True, bottom=True, left=True)\n",
              "  return autoviz.MplChart.from_current_mpl_state()\n",
              "\n",
              "chart = violin_plot(_df_7, *['Age', 'Name'], **{'inner': 'stick'})\n",
              "chart"
            ],
            "text/html": [
              "      <div class=\"colab-quickchart-chart-with-code\" id=\"chart-9f2ab6e5-8775-43d8-9896-a6c8940183e5\">\n",
              "        <img src=\"data:image/png;base64,iVBORw0KGgoAAAANSUhEUgAAAigAAAEaCAYAAAA7V6y+AAAAOXRFWHRTb2Z0d2FyZQBNYXRwbG90\n",
              "bGliIHZlcnNpb24zLjcuMSwgaHR0cHM6Ly9tYXRwbG90bGliLm9yZy/bCgiHAAAACXBIWXMAAA9h\n",
              "AAAPYQGoP6dpAAAYOElEQVR4nO3df2xV9f3H8de97d29nZXKAGVWbdcVjESQcSHQWaA3y7YGjdui\n",
              "zk2ZvVtnMof7wY+kY7HSJYy77Uu4ExKmN2toKBHYQJ1hCYuxMNalKFQD2yqK670bsx0iXFhre6+3\n",
              "cr5/mB29lo5euOV87u3zkTSh73vOve9P7j3Ni8/n3HNclmVZAgAAMIjb6QYAAAA+ioACAACMQ0AB\n",
              "AADGIaAAAADjEFAAAIBxCCgAAMA4BBQAAGAcAgoAADAOAQUAABiHgAIAAIxDQAEAAMYhoAAAAOMU\n",
              "Ot0AJMuylEgkJEk+n08ul8vhjgAAcBYzKAZIJBIKBAIKBAJ2UAEAYDwjoAAAAOMQUAAAgHEIKAAA\n",
              "wDgEFAAAYBwCCgAAMA4BBQAAGIeAAgAAjENAAQAAxiGgAAAA4xBQAACAcQgoAADAOAQUAABgHAIK\n",
              "AAAwDgEFAAAYp3CsnjgSiWjXrl1yuz/IQAMDA/J4PPJ4PGnbVlRUqL6+XqtWrZLX67XrqVRKy5cv\n",
              "V2dnpzo6OtL26e/vV3t7u6qrq1VcXJz2WFVVlfx+v8LhcNprJZNJrV+/Xs3Nzeru7k7b56qrrtLu\n",
              "3bsve9wAAODyjVlA6enpUSQSUXl5uV1rampSLBZTS0tL2rbBYFB9fX2qq6tTMBi06/v371csFlM0\n",
              "GtXevXuH7SNJlZWVF3y+srIyNTY2qqamxq63tLSor69PAwMDIz4fAABwHks8AADAOGM2g5Ivksmk\n",
              "kslkWs3r9aYtRQEAgOxiBuUiQqGQSkpK0n5CoZDTbQEAkNeYQbmI1atXa8WKFWk1Zk8AABhbBJSL\n",
              "YDkHAIArjyUeAABgHAIKAAAwzpgt8bjdbgWDQfl8PrvW3d2tVCql2tra9CYKC+VyuRQOh7Vjxw67\n",
              "Ho/HtWzZMhUUFAzbp6urS5LU1tY27LHS0lK53W41NDRo4sSJdr23t1cbN27U22+/PWyf06dPX96A\n",
              "AQBA1rgsy7KcbmK8GxwcVCAQkCTt27dPRUVFDncEAICzWOIBAADGIaAAAADjEFAAAIBxCCgAAMA4\n",
              "BBQAAGAcAgoAADAOAQUAABiHgAIAAIxDQAEAAMYhoAAAAOMQUAAAgHEIKAAAwDjcLNAAlmUpkUhI\n",
              "knw+n1wul8MdAQDgLAIKAAAwDks8AADAOAQUAABgHAIKAAAwDgEFAAAYh4ACAACMU+h0AwCQi7g8\n",
              "ADC2mEEBgEuQSCQUCAQUCATsoAIgewgoAADAOAQUAABgHAIKAAAwDgEFAAAYh4ACAACMQ0ABAADG\n",
              "IaAAAADjEFAAAIBxCCgAAMA4BBQAAGAcAgoAADAOAQUAABiHgAIAAIxDQAEAAMYpdLqBD4tEItq1\n",
              "a5fc7g9y08DAgDwejzweT9q2FRUVqq+v16pVq+T1eu16KpXS8uXL1dnZqY6OjrR9+vv71d7erurq\n",
              "ahUXF6c9VlVVpTVr1ozBqAAAQKaMCig9PT2KRCIqLy+3a01NTYrFYmppaUnbNhgMqq+vT3V1dQoG\n",
              "g3Z9//79isViikaj2rt377B9JKmysvKCzwcAAMzAEg8AADCOUTMoJkomk0omk2k1r9ebtqwEAACy\n",
              "ixmUiwiFQiopKUn7CYVCTrcFAEBeYwblIlavXq0VK1ak1Zg9AQBgbBFQLoLlHAAArjyWeAAAgHEI\n",
              "KAAAwDhGLfG43W4Fg0H5fD671t3drVQqpdra2rRtCwsL5XK5FA6HtWPHDrsej8e1bNkyFRQUDNun\n",
              "q6tLktTW1jbssdLS0mwPBwAAXCKXZVmW000AQK4ZHBxUIBCQJO3bt09FRUUOdwTkF5Z4AACAcQgo\n",
              "AADAOAQUAABgHAIKAAAwDgEFAAAYh4ACAACMQ0ABAADGIaAAAADjEFAAAIBxCCgAAMA4BBQAAGAc\n",
              "AgoAADAOAQUAABiHuxkDwCWwLEuJREKS5PP55HK5HO4IyC8EFAAAYByWeAAAgHEIKAAAwDgEFAAA\n",
              "YBwCCgAAME6h0w0AAACzmPAtNWZQAABAmkQioUAgoEAgYAeVK42AAgAAjENAAQAAxiGgAAAA4xBQ\n",
              "AACAcQgoAADAOJcUUDo7O9Xa2ipJisfj6u3tzWpTAABgfMs4oGzevFnf+ta31NTUJEk6c+aM7r//\n",
              "/mz3BQAAxrGMA0okEtHBgwc1YcIESdKnP/1pnTp1KuuNAQCA8SvjgOL1elVUVJRWKyzkgrQAACB7\n",
              "Mg4oU6ZM0euvv25f9ralpUU33XRT1hsDAADjV8ZTH7/85S/19a9/XceOHdONN96oCRMmaM+ePWPR\n",
              "GwAAGKcyDiiVlZV68cUX9dprr8myLN18880qKCgYi94AAMA4dUknj/T39yuVSmloaEhHjhyRJM2Z\n",
              "MyerjQEAgPEr44ASDof12GOPacqUKfbMicvl0uuvv5715gAAwPiUcUDZtGmTXnvtNV1//fWX/KKR\n",
              "SES7du2S2/3BOboDAwPyeDzyeDxp21ZUVKi+vl6rVq2S1+u166lUSsuXL1dnZ6c6OjrS9unv71d7\n",
              "e7uqq6tVXFyc9lhVVZX8fr/C4XDaayWTSa1fv15+v/+SxwUAALIj44BSWlp6WeFEknp6ehSJRFRe\n",
              "Xm7XmpqaFIvF1NLSkrZtMBhUX1+f6urqFAwG7fr+/fsVi8UUjUa1d+/eYftI758vc6HnKysrU2Nj\n",
              "o2pqaux6S0uL+vr6LmtcAAAgOzIOKD/+8Y/1/e9/X3feead8Pp9dX7RoUVYbAwAA41fGAaWjo0Nb\n",
              "t25Ve3t72jkoL730UtabM0EymVQymUyreb3etOUmAACQXRlfqG3r1q2KxWJ6+eWXdejQIR06dChv\n",
              "w4kkhUIhlZSUpP2EQiGn2wIAIK9lPINSVlama665ZgxaMdPq1au1YsWKtBqzJwAAjK2MA8q8efP0\n",
              "1a9+Vffcc0/aOSh33XVXVhszBcs5AABceRkHlM7OTknSr371K7vmcrnyNqAAAIArL+OAsm/fvrHo\n",
              "AwAAwHZJl7pPpVKKRqNKJBJ2bdasWaPe3+12KxgMpi0RdXd3K5VKqba2Nr3BwkK5XC6Fw2Ht2LHD\n",
              "rsfjcS1btkwFBQXD9unq6pIktbW1DXustLRUbrdbDQ0Nmjhxol3v7e3Vxo0bRz0GAAAwdlyWZVmZ\n",
              "7LBnzx499NBDisfjuuqqqxSPx1VWVqZoNDpWPQIAgCtocHBQgUBA0vsrJ0VFRVe8h4y/ZtzY2KiD\n",
              "Bw/qlltu0enTp7V161bdc889Y9EbAAAYpzIOKG63W2VlZRoaGpIkLV26VG1tbVlvDAAAjF8Zn4Py\n",
              "3xvs3XDDDXrmmWdUXl6ueDye9cYAAMD4lXFA+cEPfqB4PK61a9fqa1/7ms6ePavHH398LHoDAADj\n",
              "1KgDyoEDByS9/y2Yv/zlL5KkX//615Levw4KAABAtow6oKxcuXJYzeVyqaenR729vXrvvfey2hgA\n",
              "ABi/Rh1QDh06lPb7mTNntHbtWm3btk0/+clPst4YAAAYvzL+Fk8ikVAoFNKMGTMkSa+++qoeffTR\n",
              "rDcGAADGr1EHlPPnzysSiWjatGk6duyYXnzxRW3YsEGTJk0ay/4AAMA4NOolnltvvVXJZFLr1q3T\n",
              "bbfdpnPnzuno0aP245lc6h4AAOB/GXVAGRgYkMvl0mOPPTbsMZfLpe7u7qw2BgAAxq9RB5RYLDaG\n",
              "bQAAAHwg45NkAQAAxlrGdzMGAAD5zbIsJRIJSZLP53PkgqwEFAAAYByWeAAAgHEIKAAAwDgEFAAA\n",
              "YBwCCgAAMM6or4MCmMCEM8sBAGOPGRTklEQioUAgoEAgYAcVAED+IaAAAADjEFAAAIBxCCgAAMA4\n",
              "BBQAAGAcAgoAADAOAQUAABiHgAIAAIxDQAEAAMYhoAAAAOMQUAAAgHEIKAAAwDgEFAAAYBwCCgAA\n",
              "MA4BBQAAGIeAAgAAjFPoxItGIhHt2rVLbvcH+WhgYEAej0cejydt24qKCtXX12vVqlXyer12PZVK\n",
              "afny5ers7FRHR0faPv39/Wpvb1d1dbWKi4vTHquqqpLf71c4HE57rWQyqfXr18vv92dzqAAA4BI4\n",
              "ElB6enoUiURUXl5u15qamhSLxdTS0pK2bTAYVF9fn+rq6hQMBu36/v37FYvFFI1GtXfv3mH7SFJl\n",
              "ZeUFn6+srEyNjY2qqamx6y0tLerr68vC6AAAwOViiQcAABjHkRmUXJJMJpVMJtNqXq83bbkJAABk\n",
              "FzMoFxEKhVRSUpL2EwqFnG4LAIC8xgzKRaxevVorVqxIqzF7AgDA2CKgXATLOQAAXHks8QAAAOMQ\n",
              "UAAAgHEcWeJxu90KBoPy+Xx2rbu7W6lUSrW1tWnbFhYWyuVyKRwOa8eOHXY9Ho9r2bJlKigoGLZP\n",
              "V1eXJKmtrW3YY6WlpXK73WpoaNDEiRPtem9vrzZu3Ji1MQIAgEvnsizLcroJYLQGBwcVCAQkSfv2\n",
              "7VNRUZHDHQEAxgJLPAAAwDgEFAAAYBwCCgAAMA4BBQAAGIeAAgAAjENAAQAAxiGgAAAA4xBQAACA\n",
              "cQgoAADAOAQUAABgHAIKAAAwDgEFAAAYh5sFIqdYlqVEIiFJ8vl8crlcDncEABgLBBQAAGAclngA\n",
              "AIBxCCgAAMA4BBQAAGAcAgoAADBOodMNACbg20EAYBZmUABJiURCgUBAgUDADioAAOcQUAAAgHEI\n",
              "KAAAwDgEFAAAYBwCCgAAMA4BBQAAGIeAAgAAjENAAQAAxiGgAAAA4xBQAACAcQgoAADAOAQUAABg\n",
              "HAIKAAAwDgEFAAAYh4ACAACMQ0ABAADGKXTiRSORiHbt2iW3+4N8NDAwII/HI4/Hk7ZtRUWF6uvr\n",
              "tWrVKnm9XrueSqW0fPlydXZ2qqOjI22f/v5+tbe3q7q6WsXFxWmPVVVVye/3KxwOp71WMpnU+vXr\n",
              "5ff7szlUAABwCRwJKD09PYpEIiovL7drTU1NisViamlpSds2GAyqr69PdXV1CgaDdn3//v2KxWKK\n",
              "RqPau3fvsH0kqbKy8oLPV1ZWpsbGRtXU1Nj1lpYW9fX1ZWF0AADgcrHEAwAAjOPIDEouSSaTSiaT\n",
              "aTWv15u23AQAALKLGZSLCIVCKikpSfsJhUJOtwUAQF5jBuUiVq9erRUrVqTVmD0BAGBsEVAuguUc\n",
              "AACuPJZ4AACAcQgoAADAOI4s8bjdbgWDQfl8PrvW3d2tVCql2tratG0LCwvlcrkUDoe1Y8cOux6P\n",
              "x7Vs2TIVFBQM26erq0uS1NbWNuyx0tJSud1uNTQ0aOLEiXa9t7dXGzduzNoYAQDApXNZlmU53QTg\n",
              "tMHBQQUCAUnSvn37VFRU5HBHADC+scQDAACMQ0ABAADGIaAAAADjEFAAAIBxCCgAAMA4BBQAAGAc\n",
              "AgoAADAOAQUAABiHgAIAAIxDQAEAAMYhoAAAAOMQUAAAgHG4WSAgybIsJRIJSZLP55PL5XK4IwAY\n",
              "3wgoAADAOCzxAAAA4xBQAACAcQgoeSyZTKqpqUnJZNLpVrIqX8cl5e/YGFduYVy5Jx/Hxjkoeew/\n",
              "//mPSkpKdO7cOU2YMMHpdrImX8cl5e/YGFduYVy5Jx/HxgwKAAAwDgEFAAAYh4ACAACMQ0DJY16v\n",
              "V2vWrJHX63W6lazK13FJ+Ts2xpVbGFfuycexcZIsAAAwDjMoAADAOAQUAABgHAIKAAAwDgElTyQS\n",
              "CX35y1/W9OnTddttt+nzn/+83njjDUlSTU2NPvWpT2n27NmaPXu2wuGww91m5gtf+IJmzZql2bNn\n",
              "a+HChXrllVckScePH9dnP/tZTZ8+XfPmzdPf/vY3hzvN3EhjKy8v180332y/Zzt37nS408xt2bJF\n",
              "LpdLzz77rCTprbfeUm1traZNm6Zbb71VBw4ccLbBy/DRseX6MTbS5y3Xj7GRxpXrx1cymdQjjzyi\n",
              "adOmaebMmVq6dKmk3H+/hrGQFwYHB63f//731vnz5y3LsqxNmzZZixcvtizLshYvXmw988wzzjV3\n",
              "meLxuP3vp59+2po1a5ZlWZYVCASsLVu2WJZlWb/97W+tuXPnOtDd5RlpbGVlZdYrr7ziTFNZEI1G\n",
              "raqqKmvBggX2Z++b3/ymtWbNGsuyLOull16ySktLrXfffde5Ji/RhcaW68fYSJ+3XD/GRhpXrh9f\n",
              "P/zhD61HHnnE/nvf29trWVbuv18fxQxKnvD5fFqyZIlcLpckacGCBYrFYs42lSXXXHON/e9z587J\n",
              "5XLprbfe0uHDh+3/Odx99906ceKEPWuUKy40tlx3/vx5ffvb39amTZvSvvL4m9/8Rt/5znckSfPm\n",
              "zdP111+vP/7xj061eUlGGls+ypdjLN+88847am5u1k9/+lP778XUqVPz8v0ioOSpxx9/XF/60pfs\n",
              "33/0ox9p5syZuu+++9Td3e1gZ5fmwQcf1I033qjGxka1trbqxIkT+uQnP6nCwkJJksvl0k033aR/\n",
              "/vOfDneauY+O7cP1mTNnqr6+XqdOnXKww8xs2LBBt99+u/x+v107ffq0UqmUpk6datfKy8tz7v26\n",
              "0Nj+Kx+OsQ9/3vLlGBvpOMrV4+vvf/+7PvGJT2jdunWaO3euFi5cqBdeeCFv3q8PI6DkoXXr1umN\n",
              "N95QKBSSJLW2turYsWM6evSoFi5cqDvvvNPhDjO3detWnThxQmvXrlVDQ4PT7WTVhcZ24MABHT16\n",
              "VC+//LImT56suro6h7scnb/+9a/avXu3Hn30Uadbybr/NbZcP8Zy9fN2MSONK5fHOzQ0pH/84x+a\n",
              "MWOGDh8+rI0bN+q+++7T0NCQ061ln9NrTMiu//u//7P8fn/auQ0f5fV6rbfffvvKNZVlPp/P+ve/\n",
              "/21dffXVViqVsizLss6fP29dd9111vHjxx3u7vL4fL5h701PT49VXFzsUEeZ2bx5szV16lSrrKzM\n",
              "Kisrs7xerzVlyhRr8+bN1sc//nF7rdyyLGvevHnW888/72C3mflfY/uoXD7G/vt5O3nyZF4dYyMd\n",
              "R7l0fFmWZZ06dcpyu93W0NCQXZs7d661c+fOvHq/LItzUPLKhg0btH37dj3//PP2uQ1DQ0M6efKk\n",
              "vc3u3bt13XXXadKkSQ51mZmzZ8+qp6fH/v3ZZ5/VpEmTdO2112rOnDnatm2bpPfHdcMNN6iystKp\n",
              "VjM20th8Pp/Onj1r17dv367PfOYzDnSYuYcffli9vb2KxWKKxWJasGCBIpGIHn74Yd1777164okn\n",
              "JEmHDh3Sm2++qcWLFzvc8eiNNLaHHnoop4+xd95554Kft1w/xkYa10j1XDF58mR97nOf0x/+8AdJ\n",
              "UjQaVTQa1e23357T79eFFDrdALLjX//6l1auXKmKigoFAgFJ79+boa2tTXfccYeSyaTcbrcmT56s\n",
              "5557zuFuR+/cuXO69957NTg4KLfbrSlTpmjPnj1yuVx68sknFQwGtW7dOk2YMEFbtmxxut2MjDS2\n",
              "kydP6u6779Z7770ny7JUUVGhrVu3Ot3uZfv5z3+ub3zjG5o2bZo+9rGPadu2bfJ4PE63ddmSyWRO\n",
              "H2P/6/OWy8fYSOPKh+PriSeeUH19vRoaGuR2u/Xkk0+qtLQ0p9+vC+FePAAAwDgs8QAAAOMQUAAA\n",
              "gHEIKABySl9fn4qLi1VfX+90KwDGEAEFQE7ZuXOn/H6/nn76afX39zvdDoAxQkABkFOam5vV0NCg\n",
              "RYsW2Td5S6VS+u53v6vp06drwYIFWrlypWpqaux9WltbNX/+fM2ZM0eLFi3SkSNHHOoewGjxNWMA\n",
              "OaOrq0snTpzQF7/4RQ0NDelnP/uZ6uvrFYlEdPz4cfvurUuWLLH3+fOf/6zt27frwIED8nq9+tOf\n",
              "/qT7778/9+/0CuQ5ZlAA5Izm5mY9+OCDKigo0JIlSxSNRvXqq6/qhRde0NKlS+XxeOTxeNIuXf67\n",
              "3/1OR44c0fz58zV79mx973vf05kzZzQ4OOjgSABcDDMoAHJCKpVSa2urPB6PnnrqKUnSwMCAmpub\n",
              "h2374btCW5aluro6rVu37or1CuDyMYMCICc899xzqqio0Jtvvmlfbv7gwYNqbW1VIBDQU089pVQq\n",
              "pVQqlXZl0Lvuukvbtm2z7+p6/vx5HT582KlhABglZlAA5ITm5mY98MADabVbbrlFpaWluvbaa1Ve\n",
              "Xq4ZM2Zo4sSJmjt3rn2fo4ULF+oXv/iFvvKVr2hoaEjvvvuu7rjjDs2dO9eJYQAYJS51DyAv9PX1\n",
              "6eqrr1YqldIDDzwgv9+vhoYGp9sCcIkIKADywvz585VMJpVIJFRdXa1NmzapqKjI6bYAXCICCgAA\n",
              "MA4nyQIAAOMQUAAAgHEIKAAAwDgEFAAAYBwCCgAAMA4BBQAAGIeAAgAAjENAAQAAxiGgAAAA4/w/\n",
              "gtbyc0VyupIAAAAASUVORK5CYII=\n",
              "\">\n",
              "        \n",
              "      </div>\n",
              "      <script></script>\n",
              "      <script type=\"text/javascript\">\n",
              "        (() => {\n",
              "          const chartElement = document.getElementById(\"chart-9f2ab6e5-8775-43d8-9896-a6c8940183e5\");\n",
              "          async function getCodeForChartHandler(event) {\n",
              "            const chartCodeResponse =  await google.colab.kernel.invokeFunction(\n",
              "                'getCodeForChart', [\"chart-9f2ab6e5-8775-43d8-9896-a6c8940183e5\"], {});\n",
              "            const responseJson = chartCodeResponse.data['application/json'];\n",
              "            await google.colab.notebook.addCell(responseJson.code, 'code');\n",
              "          }\n",
              "          chartElement.onclick = getCodeForChartHandler;\n",
              "        })();\n",
              "      </script>\n",
              "      <style>\n",
              "        .colab-quickchart-chart-with-code  {\n",
              "            display: block;\n",
              "            float: left;\n",
              "            border: 1px solid transparent;\n",
              "        }\n",
              "\n",
              "        .colab-quickchart-chart-with-code:hover {\n",
              "            cursor: pointer;\n",
              "            border: 1px solid #aaa;\n",
              "        }\n",
              "      </style>"
            ]
          },
          "metadata": {}
        },
        {
          "output_type": "display_data",
          "data": {
            "text/plain": [
              "<google.colab._quickchart_helpers.SectionTitle at 0x7b6285239e40>"
            ],
            "text/html": [
              "<h4 class=\"colab-quickchart-section-title\">Time series</h4>\n",
              "<style>\n",
              "  .colab-quickchart-section-title {\n",
              "      clear: both;\n",
              "  }\n",
              "</style>"
            ]
          },
          "metadata": {}
        },
        {
          "output_type": "display_data",
          "data": {
            "text/plain": [
              "import numpy as np\n",
              "from google.colab import autoviz\n",
              "\n",
              "def time_series_multiline(df, timelike_colname, value_colname, series_colname, figscale=1, mpl_palette_name='Dark2'):\n",
              "  from matplotlib import pyplot as plt\n",
              "  import seaborn as sns\n",
              "  figsize = (10 * figscale, 5.2 * figscale)\n",
              "  palette = list(sns.palettes.mpl_palette(mpl_palette_name))\n",
              "  def _plot_series(series, series_name, series_index=0):\n",
              "    if value_colname == 'count()':\n",
              "      counted = (series[timelike_colname]\n",
              "                 .value_counts()\n",
              "                 .reset_index(name='counts')\n",
              "                 .rename({'index': timelike_colname}, axis=1)\n",
              "                 .sort_values(timelike_colname, ascending=True))\n",
              "      xs = counted[timelike_colname]\n",
              "      ys = counted['counts']\n",
              "    else:\n",
              "      xs = series[timelike_colname]\n",
              "      ys = series[value_colname]\n",
              "    plt.plot(xs, ys, label=series_name, color=palette[series_index % len(palette)])\n",
              "\n",
              "  fig, ax = plt.subplots(figsize=figsize, layout='constrained')\n",
              "  df = df.sort_values(timelike_colname, ascending=True)\n",
              "  if series_colname:\n",
              "    for i, (series_name, series) in enumerate(df.groupby(series_colname)):\n",
              "      _plot_series(series, series_name, i)\n",
              "    fig.legend(title=series_colname, bbox_to_anchor=(1, 1), loc='upper left')\n",
              "  else:\n",
              "    _plot_series(df, '')\n",
              "  sns.despine(fig=fig, ax=ax)\n",
              "  plt.xlabel(timelike_colname)\n",
              "  plt.ylabel(value_colname)\n",
              "  return autoviz.MplChart.from_current_mpl_state()\n",
              "\n",
              "chart = time_series_multiline(_df_8, *['No', 'Age', 'Name'], **{})\n",
              "chart"
            ],
            "text/html": [
              "      <div class=\"colab-quickchart-chart-with-code\" id=\"chart-e342c669-d6dd-4182-824a-38bf6dcf1f3d\">\n",
              "        <img src=\"data:image/png;base64,iVBORw0KGgoAAAANSUhEUgAAAl8AAAEPCAYAAAB82aF3AAAAOXRFWHRTb2Z0d2FyZQBNYXRwbG90\n",
              "bGliIHZlcnNpb24zLjcuMSwgaHR0cHM6Ly9tYXRwbG90bGliLm9yZy/bCgiHAAAACXBIWXMAAA9h\n",
              "AAAPYQGoP6dpAAAkp0lEQVR4nO3df3AUdZ7/8VfPTDLBZQnILzExmYz8+iI/ApEYEFY4T5dVd6VE\n",
              "jtXlyJxhQReWlUhtpCQKwhK2CpMCvFNiUWTZ3AEeUfSU5SwPskAtFsLhuopXiskQIOHHYgjBkGES\n",
              "+vuH5eiYBBJJ92SS56MqVcmnP92f9yfh4762u6fbME3TFAAAAGzhiHQBAAAAXQnhCwAAwEaELwAA\n",
              "ABsRvgAAAGxE+AIAALAR4QsAAMBGhC8AAAAbEb4AAABsFJXha82aNZEuAQAA4HtxRbqA7+PYsWOR\n",
              "LgEAgKhmmqYaGhrU2NgY6VI6jZiYGDmdzmv2i8rwBQAAvr/Lly+rqqpKdXV1kS6lUzEMQ4mJiere\n",
              "vftV+xG+AADoQq5cuaLy8nI5nU7dfPPNio2NlWEYkS4r6pmmqbNnz+rEiRMaNGjQVc+AEb4AAOhC\n",
              "Ll++rCtXruiWW27RDTfcEOlyOpW+ffvK7/crGAxeNXxF5Q33AADg+jgcRID21toziPzmAQAAbET4\n",
              "AgAAlvJ4PBo6dKgaGhpCbbfffrtKS0sjV1QEEb4AAIDlAoGANmzYEOkyOgTCFwAAsNzSpUu1fPny\n",
              "Jo+3+I//+A/dcccdGj16tEaNGqX/+q//Cm2bNGmSnnrqKf3oRz9SUlKScnNztWPHDk2YMEEej0f5\n",
              "+fmhvp999pnuv/9+jR07ViNHjtSLL75o29zaik87AgAAy40aNUqTJ09WQUGBnnnmmVD7j3/8Yz3y\n",
              "yCMyDEN+v18ZGRk6duyY3G63pK8erL57925duHBBHo9H1dXV2rt3ryorKzVkyBA99thj+uEPf6hH\n",
              "HnlExcXFGjp0qOrq6pSRkaE77rhDY8eOjdSUW0T4AgAAtli+fLnS09P1+OOPh9rKy8v1i1/8QidO\n",
              "nJDL5dIXX3yh8vJyDR06VJL08MMPy+l0qlevXvJ6vXrggQdkGIYSEhJCj3aIjY3Vxx9/rJ///Oeh\n",
              "49bW1urIkSOELwAA0HV5PB49+uijWrFiRajt5z//uVatWqWHH35YknTjjTeqvr4+tD0uLi70vdPp\n",
              "bPJzQ0ODYmJidOONN+qDDz6wfhLtgHu+AACAbZYsWaLi4mJVVlZKkqqrq5WSkiJJKi4uVnV1dZuP\n",
              "OWTIEPXo0UMbN24MtR09elRffPFF+xTdzghfAADANn369NGCBQtUVVUlSVqzZo0efvhhjR49WocP\n",
              "H1ZSUlKbj+lyufTWW2/ptdde08iRI3XbbbcpKytLly5dau/y24VhmqYZ6SLaKjs7O+wTDgAAoHXq\n",
              "6+tVXl6ulJSUsEt4uH6t/d1y5gsAAMBGloavQCCg+fPna9CgQRoxYoRmzpwp6atncYwfP16DBw/W\n",
              "2LFj9fHHH1tZBgAAQIdh6acdn376aRmGoU8//VSGYejUqVOSpLlz52rOnDny+Xzatm2bfD6f3n//\n",
              "fStLAQAA6BAsC19ffvmlNmzYoBMnToTe8n3TTTfpzJkzOnjwoN555x1J0rRp0zR//nwdPXpUAwcO\n",
              "tKocAACADsGy8PX555/rxhtv1MqVK/Xuu++qW7duWrp0qXr27KkBAwbI5fpqaMMwlJSUpIqKimbD\n",
              "VyAQUCAQCGtrbGy0qmwAAABLWXbPV0NDg44dO6Zhw4bp4MGDWrt2rWbMmBH2RvPWyMvLU3x8fNjX\n",
              "gQMHLKoaAADAWpad+UpKSpLD4dAvfvELSdLo0aOVkpKiY8eOqaqqSg0NDXK5XDJNUxUVFS0+12Px\n",
              "4sXKzs4Oa8vNzbWqbAAAYLPCwkJt27ZNDsc354Tq6uoUExOjmJiYsL5er1dZWVlatGhR6P2PkhQM\n",
              "BrVw4UIdOnRI+/fvD9vn4sWL2rdvnyZMmKDu3buHbRs3bpyee+45C2bVMsvCV58+fXT33Xfrv//7\n",
              "v3XfffepvLxc5eXluvPOOzVmzBgVFxfL5/OppKREiYmJLd7v5Xa7w3650levEwAAAJ1DZWWlCgsL\n",
              "5fF4Qm1Lly6V3+9XUVFRWF+fz6fa2lplZmbK5/OF2ktLS+X3+1VeXq6dO3c22UeSBg4c2Ozx7Gbp\n",
              "px1ffvllZWVlKScnRw6HQ+vXr1dCQoLWr18vn8+nlStXNnkdAAAAsI9pmrrUELR0jG6umNCH72Bx\n",
              "+PJ6vdq9e3eT9iFDhjQ5JQgAAOx3qSGowcXPWjrGpzOf1w0xsZaOEU14wj0AAICNLD3zBQAAOrZu\n",
              "rhh9OvN5y8fANwhfAAB0YYZhcEnQZlx2BAAAsBHhCwAAwEZcdgQAABHlcDjk8/kUFxcXaisrK1Mw\n",
              "GNSUKVPC+rpcLhmGoYKCAm3ZsiXUXl1drXnz5snpdDbZ58iRI5KkXbt2NdmWkJDQ3tO5JsM0TdP2\n",
              "Ua9Tdna28vPzI10GAABRp76+XuXl5UpJSQkLO7h+rf3dctkRAADARoQvAAAAGxG+AAAAbET4AgAA\n",
              "sBHhCwAAwEY8agIAAERUYWGhtm3bJofjm3NCdXV1iomJUUxM+KuJvF6vsrKytGjRIrnd7lB7MBjU\n",
              "woULdejQIe3fvz9sn4sXL2rfvn2aMGGCunfvHrZt3LhxSktLU0FBQdhYgUBAq1evVlpaWntOVRLh\n",
              "CwCALs00TZmX6ywdw4i9QYZhtLi9srJShYWF8ng8obalS5fK7/erqKgorK/P51Ntba0yMzPl8/lC\n",
              "7aWlpfL7/SovL9fOnTub7CNJAwcObPZ4ycnJys3N1aRJk0LtRUVFqq2tbcs0W43wBQBAF2ZertPR\n",
              "uT0sHWPg+gsy3D+wdIxowj1fAAAANuLMFwAAXZgRe4MGrr9g+Rj4hqXhy+PxyO12q1u3bpKkxYsX\n",
              "a8aMGS22AwAAexmGwSVBm1l+5mvr1q1KTU1tdTsAAEBn1uEvOwYCAQUCgbC2xsbGCFUDAABwfSy/\n",
              "4X7WrFkaMWKEsrKydPbs2Wu2f1deXp7i4+PDvg4cOGB12QAAAJaw9MzXnj17lJSUpGAwqCVLligz\n",
              "M1M7duxosb05ixcvVnZ2dlhbbm6ulWUDAAAbORwO+Xw+xcXFhdrKysoUDAY1ZcqUsL4ul0uGYaig\n",
              "oEBbtmwJtVdXV2vevHlyOp1N9jly5IgkadeuXU22JSQkyOFwKCcnR7169Qq1V1VVae3ate02x28z\n",
              "TNM0LTnyd1RVVWnw4MFNHljWUvvVZGdnKz8/v71LBACg06uvr1d5eblSUlLCwg6uX2t/t5Zddvzy\n",
              "yy91/vz50M+bN2/W6NGjW2wHAADoCiy77Hj69GlNmzZNjY2NMk1TXq9XmzZtarEdAACgK7AsfHm9\n",
              "Xh0+fLjZbS21AwAAdHa8XggAAMBGHf45XwAAoHMrLCzUtm3b5HB8c06orq5OMTExiomJCevr9XqV\n",
              "lZWlRYsWye12h9qDwaAWLlyoQ4cOaf/+/WH7XLx4Ufv27dOECRPUvXv3sG3jxo1TWlqaCgoKwsYK\n",
              "BAJavXq1NmzYoLKysrB9fvCDH6ikpOR7z5fwBQAAIqqyslKFhYXyeDyhtqVLl8rv96uoqCisr8/n\n",
              "U21trTIzM+Xz+ULtpaWl8vv9Ki8v186dO5vsI0kDBw5s9njJycnKzc3VpEmTQu1FRUWqra1VXV1d\n",
              "i8f7vghfAAB0YaZpKnjZ2jfHxMQ6ZRiGpWNEE8IXAABdWPByo5Y8vfPaHa/DilVTFOsmcnyNG+4B\n",
              "AABsRAwFAKALi4l1asWqKdfueJ1j4BuELwAAujDDMLgkaDMuOwIAANiI8AUAAGAjzjMCAICIcjgc\n",
              "8vl8iouLC7WVlZUpGAxqypTw+9FcLpcMw1BBQYG2bNkSaq+urta8efPkdDqb7HPkyBFJ0q5du5ps\n",
              "S0hIkMPhUE5Ojnr16hVqr6qq0tq1a/X3v/+9yT7nzp27rvkapmma13WECMjOzlZ+fn6kywAAIOrU\n",
              "19ervLxcKSkpYWEH16+1v1suOwIAANiI8AUAAGAjwhcAAICNCF8AAAA2InwBAADYyNJHTXg8Hrnd\n",
              "bnXr1k2StHjxYs2YMUOfffaZMjMz9fe//13x8fEqKirSbbfdZmUpAACggyosLNS2bdvkcHxzTqiu\n",
              "rk4xMTGKiYkJ6+v1epWVlaVFixbJ7XaH2oPBoBYuXKhDhw5p//79YftcvHhR+/bt04QJE9S9e/ew\n",
              "bePGjVNaWpoKCgrCxgoEAlq9erXS0tLac6qSbHjO19atW5WamhrWNnfuXM2ZM0c+n0/btm2Tz+fT\n",
              "+++/b3UpAACgA6qsrFRhYaE8Hk+obenSpfL7/SoqKgrr6/P5VFtbq8zMTPl8vlB7aWmp/H6/ysvL\n",
              "tXPnzib7SNLAgQObPV5ycrJyc3M1adKkUHtRUZFqa2vbYXZN2f6Q1TNnzujgwYN65513JEnTpk3T\n",
              "/PnzdfToUQ0cOLBJ/0AgoEAgENbW2NhoS60AAHR2pmnKvBS0dAyjW4wMw7B0jGhiefiaNWuWTNNU\n",
              "enq6Vq1apePHj2vAgAFyub4a2jAMJSUlqaKiotnwlZeXp2XLloW1ZWRkWF02AABdgnkpqDO3r7F0\n",
              "jH4HfyPjhlhLx4gmlt5wv2fPHn344Yf63//9X/Xp00eZmZltPsbixYtVU1MT9pWenm5BtQAAANaz\n",
              "9MxXUlKSJCkmJkZPPvmkBg8erFtuuUVVVVVqaGiQy+WSaZqqqKgI9f0ut9sddkOdJDmdTivLBgCg\n",
              "yzC6xajfwd9YPga+YVn4+vLLLxUMBtWzZ09J0ubNmzV69Gj169dPY8aMUXFxsXw+n0pKSpSYmNjs\n",
              "JUcAAGAtwzC4JGgzy8LX6dOnNW3aNDU2Nso0TXm9Xm3atEmStH79evl8Pq1cuVI9evTQxo0brSoD\n",
              "AACgQ7EsfHm9Xh0+fLjZbUOGDGnyDA4AAICuwPZHTQAAAHybw+GQz+dTXFxcqK2srEzBYFBTpkwJ\n",
              "6+tyuWQYhgoKCrRly5ZQe3V1tebNmyen09lknyNHjkiSdu3a1WRbQkKCHA6HcnJy1KtXr1B7VVWV\n",
              "1q5d225z/DbDNE3TkiNbKDs7W/n5+ZEuAwCAqFNfX6/y8nKlpKSEhR1cv9b+bnm3IwAAgI0IXwAA\n",
              "ADYifAEAANiI8AUAAGAjwhcAAICNeNQEAACIqMLCQm3btk0OxzfnhOrq6hQTE6OYmPBXE3m9XmVl\n",
              "ZWnRokVhrx8MBoNauHChDh061ORZohcvXtS+ffs0YcIEde/ePWzbuHHjlJaWpoKCgrCxAoGAVq9e\n",
              "rbS0tPacqiTCFwAAXZppmrrceMnSMWKd3WQYRovbKysrVVhYKI/HE2pbunSp/H6/ioqKwvr6fD7V\n",
              "1tYqMzNTPp8v1F5aWiq/36/y8nLt3LmzyT6SNHDgwGaPl5ycrNzcXE2aNCnUXlRUpNra2rZMs9UI\n",
              "XwAAdGGXGy9pwX/+P0vHWDv9E7ldN1g6RjThni8AAAAbceYLAIAuLNbZTWunf2L5GPgG4QsAgC7M\n",
              "MAwuCdqMy44AAAA2InwBAADYiPAFAABgI1vu+dq4caMee+wxvf7665o6daomTZqkY8eOKT4+XpKU\n",
              "mZmphQsX2lEKAADoYBwOh3w+n+Li4kJtZWVlCgaDmjJlSlhfl8slwzBUUFCgLVu2hNqrq6s1b948\n",
              "OZ3OJvscOXJEkrRr164m2xISEuRwOJSTk6NevXqF2quqqrR27dp2m2PYHCw56rf4/X698sorysjI\n",
              "CGsvKCjQ1KlTrR4eAAB0cM8++6yeffbZNu3z17/+tdn2WbNmtbhPRUVFi9uutl97s/Sy45UrVzR7\n",
              "9mytW7cu7BUAAAAgsq5cuRLpEjod0zRb1c/SM1/5+fm68847m30v0tNPP63c3FwNGzZMeXl58nq9\n",
              "zR4jEAgoEAiEtTU2NlpSLwAAnV1sbKwcDocqKyvVt29fxcbGXvXVP2gd0zR19uxZGYbR5H2U32VZ\n",
              "+Proo49UUlKiPXv2NNn2xz/+UbfccotM09S//uu/6oEHHghdj/2uvLw8LVu2LKztu5cwAQBA6zgc\n",
              "DqWkpKiqqkqVlZWRLqdTMQxDiYmJcjqdV+9ntvYcWRu99NJLev7550OXG0+dOqUePXpo2bJleuKJ\n",
              "J8L6xsXF6eTJk+rdu3eT4zR35is3N1dr1qyxomwAALoE0zTV0NDA1aR2FBMTc83gJVl45uuJJ54I\n",
              "C1mTJk3Sk08+qQceeECnT59W//79JUklJSXq379/s8FLktxud5P7xVozMQAA0LKvL49d6xIZ2p/t\n",
              "rxcKBAK6//77FQgE5HA41KdPH7355pt2lwEAABAR3yt8BQKBNn96sbS0NPT9wYMHv8+wAAAAUa9N\n",
              "j5r48MMPNXz4cN16662SpEOHDum3v/2tJYUBAAB0Rm0KXwsWLNDLL7+svn37SpLGjBmjt99+25LC\n",
              "AAAAOqM2ha+LFy9qwoQJoZ8Nw1BsbGy7FwUAANBZtSl8uVwuBYPB0MPYjh8/zicPAQAA2qBN4Wv+\n",
              "/PmaOnWqzp49qyVLlmjixInc8wUAANAGbfq048yZM+X1evXGG2/o8uXLKi4uDrsMCQAAgKtr86Mm\n",
              "xo8fr/Hjx1tRCwAAQKfXpvA1efLkJi/f7Nmzp8aNG6cFCxa0+dlfAAAAXU2b7vlKS0uTy+VSVlaW\n",
              "Zs+erdjYWN188806ePCgfv3rX1tVIwAAQKfRpjNff/nLX7R3797QJxynT5+uiRMnat++fRoxYoQl\n",
              "BQIAAHQmbTrzde7cubDLjoZhqLq6Wi6XS3Fxce1eHAAAQGfTpjNfd999t37yk59o5syZkqR///d/\n",
              "1z/8wz/o4sWL3O8FAADQCm0KX2vXrtX69eu1fft2GYahn/70p+rXr5+6d++u9957z6oaAQAAOo02\n",
              "P+F+3rx5+t3vfqeUlBQtX75cv//9762qDQAAoNNp9Zmvuro6bd26VRs2bFBZWZkuXbqk/fv3a+jQ\n",
              "oVbWBwAA0Km06szXL3/5S91yyy168803lZOTo4qKCvXs2ZPgBQAA0EatOvO1ZcsW3X777Zo7d65+\n",
              "/OMfyzCMJg9bBQAAwLW16sxXVVWVZs6cqeeff17JyclasmSJgsFgqwfZuHGjDMPQ9u3bJUlnzpzR\n",
              "lClTNGjQIA0fPlx79uz5XsUDAABEm1aFr+7duysrK0t/+ctftHPnTtXX1+vy5csaP368/u3f/u2q\n",
              "+/r9fr3yyivKyMgItT399NPKyMjQZ599po0bN+rRRx9tU5gDAACIVm36tKMkDRs2TKtXr9bJkyf1\n",
              "1FNP6e23326x75UrVzR79mytW7cu7Dlgr776qh5//HFJ0tixY3XzzTfrz3/+c7PHCAQCunDhQthX\n",
              "Y2NjW8sGAADoENocvr7mcrk0bdq0q4av/Px83XnnnUpLSwu1nTt3TsFgUDfddFOozePxqKKiotlj\n",
              "5OXlKT4+PuzrwIED37dsAACAiPre4etaPvroI5WUlGjJkiXXdZzFixerpqYm7Cs9Pb2dqgQAALBX\n",
              "m55w3xZ79+6V3+/XoEGDJEmnTp3SnDlztGzZMrlcLp06dSp09svv9yspKanZ47jd7iavLvr6xd4A\n",
              "AADRxrIzX0888YSqqqrk9/vl9/uVkZGhwsJCPfHEE5o+fbpefvllSdL777+vkydP6q677rKqFAAA\n",
              "gA7DsjNfV/P73/9e//zP/6xBgwYpNjZWxcXFiomJiUQpAAAAtrItfJWWloa+79+/v9555x27hgYA\n",
              "AOgwLLvsCAAAgKYIXwAAADYifAEAANiI8AUAAGAjwhcAAICNCF8AAAA2InwBAADYiPAFAABgI8IX\n",
              "AACAjQhfAAAANiJ8AQAA2IjwBQAAYCPCFwAAgI0IXwAAADYifAEAANiI8AUAAGAjwhcAAICNXFYe\n",
              "/N5779WpU6fkcDj0wx/+UGvXrtXo0aPl8XjkdrvVrVs3SdLixYs1Y8YMK0sBAADoECwNX6+++qp6\n",
              "9uwpSXr99dfl8/n017/+VZK0detWpaamWjk8AABAh2Np+Po6eElSTU2NDMNo8zECgYACgUBYW2Nj\n",
              "4/WWBgAAEBGWhi9JmjVrlnbv3i1J2rFjR1i7aZpKT0/XqlWr1Ldv32b3z8vL07Jly8LaMjIyrCsY\n",
              "AADAQoZpmqYdA/3hD3/Q1q1btWPHDlVUVCgpKUnBYFBLlizR3/72t7Bg9m3NnfnKzc3VmjVr7Cgb\n",
              "AACgXdkWviSpW7duOnHihHr37h1qq6qq0uDBg1VbW9vq42RnZys/P9+KEgEAACxl2aMmzp8/r8rK\n",
              "ytDP27dvV+/evRUXF6fz58+H2jdv3qzRo0dbVQYAAECHYtk9XzU1NZo+fbouXbokh8Ohvn376q23\n",
              "3tLp06c1bdo0NTY2yjRNeb1ebdq0yaoyAAAAOhTLwldycrIOHDjQ7LbDhw9bNSwAAECHxhPuAQAA\n",
              "bET4AgAAsBHhCwAAwEaELwAAABsRvgAAAGxE+AIAALAR4QsAAMBGhC8AAAAbEb4AAABsRPgCAACw\n",
              "EeELAADARoQvAAAAGxG+AAAAbET4AgAAsBHhCwAAwEaELwAAABsRvgAAAGxkafi69957NXLkSKWm\n",
              "pmrixIk6fPiwJOmzzz7T+PHjNXjwYI0dO1Yff/yxlWUAAAB0GJaGr1dffVUffvihPvjgA2VnZ8vn\n",
              "80mS5s6dqzlz5ujTTz9VTk5OqB0AAKCzszR89ezZM/R9TU2NDMPQmTNndPDgQc2cOVOSNG3aNB0/\n",
              "flxHjx5t9hiBQEAXLlwI+2psbLSybAAAAMu4rB5g1qxZ2r17tyRpx44dOn78uAYMGCCX66uhDcNQ\n",
              "UlKSKioqNHDgwCb75+XladmyZWFtGRkZVpcNAABgCctvuN+0aZOOHz+uFStWKCcnp837L168WDU1\n",
              "NWFf6enpFlQKAABgPcvPfH0tMzNTjz/+uBITE1VVVaWGhga5XC6ZpqmKigolJSU1u5/b7Zbb7Q5r\n",
              "czqddpQMAADQ7iw783X+/HlVVlaGft6+fbt69+6tfv36acyYMSouLpYklZSUKDExsdlLjgAAAJ2N\n",
              "ZWe+ampqNH36dF26dEkOh0N9+/bVW2+9JcMwtH79evl8Pq1cuVI9evTQxo0brSoDAACgQ7EsfCUn\n",
              "J+vAgQPNbhsyZIj2799v1dAAAAAdFk+4BwAAsBHhCwAAwEaELwAAABsRvgAAAGxE+AIAALAR4QsA\n",
              "AMBGhC8AAAAbEb4AAABsRPgCAACwEeELAADARoQvAAAAGxG+AAAAbET4AgAAsBHhCwAAwEaELwAA\n",
              "ABsRvgAAAGxkWfiqr6/X1KlTNXjwYI0aNUr33HOPjh49KkmaNGmSUlJSlJqaqtTUVBUUFFhVBgAA\n",
              "QIfisvLgc+bM0U9+8hMZhqEXX3xRs2fPVmlpqSSpoKBAU6dOtXJ4AACADseyM19xcXG67777ZBiG\n",
              "JCkjI0N+v9+q4QAAAKKCbfd8rVmzRg8++GDo56efflojRozQjBkzVFZW1uJ+gUBAFy5cCPtqbGy0\n",
              "o2QAAIB2Z0v4WrlypY4ePaq8vDxJ0h//+Ef93//9nz788ENNnDhRDzzwQIv75uXlKT4+PuzrwIED\n",
              "dpQNAADQ7gzTNE0rB1i9erW2bNmid999Vz179my2T1xcnE6ePKnevXs32RYIBBQIBMLacnNztWbN\n",
              "GivKBQAAsJSlN9zn5+dr8+bNYcGroaFB586dU//+/SVJJSUl6t+/f7PBS5LcbrfcbndYm9PptLJs\n",
              "AAAAy1gWvk6cOKGnnnpKXq9XkydPlvRVkNq1a5fuv/9+BQIBORwO9enTR2+++aZVZQAAAHQoloWv\n",
              "xMREtXRF8+DBg1YNCwAA0KHxhHsAAAAbEb4AAABsRPgCAACwEeELAADARoQvAAAAGxG+AAAAbET4\n",
              "AgAAsBHhCwAAwEaELwAAABsRvgAAAGxE+AIAALAR4QsAAMBGhC8AAAAbEb4AAABsRPgCAACwkWGa\n",
              "phnpItrqoYceksfjabfjNTY26sCBA0pPT5fT6Wy340YK8+nYOtN8OtNcJObT0TGf1klOTtZvfvOb\n",
              "djse2l9Uhq/2duHCBcXHx6umpkY9evSIdDnXjfl0bJ1pPp1pLhLz6eiYDzoLLjsCAADYiPAFAABg\n",
              "I8IXAACAjQhfktxut5577jm53e5Il9IumE/H1pnm05nmIjGfjo75oLPghnsAAAAbceYLAADARoQv\n",
              "AAAAGxG+AAAAbNRlwteCBQvk8XhkGIY++OCDFvtt2LBBgwYN0q233qpf/vKXCgaD9hXZBq2ZT2lp\n",
              "qbp166bU1NTQ16VLl+wttJXq6+s1depUDR48WKNGjdI999yjo0ePNtv3rbfe0tChQzVo0CA99NBD\n",
              "unDhgs3VXltr5+P3++V0OsP+Rp9//nkEKr66e++9VyNHjlRqaqomTpyow4cPN9svWtZPa+YTTevn\n",
              "axs3bpRhGNq+fXuz26Nh7Xzb1eYTLWtHkjwej4YMGRKqc+vWrc32i5b1g3ZgdhF//vOfzePHj5vJ\n",
              "ycnm4cOHm+1TVlZmDhgwwKyqqjKvXLli/vSnPzVffPFFewttpdbMZ/fu3eaoUaNsrev7unTpkvn2\n",
              "22+bV65cMU3TNNetW2feddddTfrV1taa/fr1Mz/55BPTNE1z3rx55qJFi+wstVVaO5/y8nIzPj7e\n",
              "3uK+h+rq6tD3r732mjly5MgmfaJp/bRmPtG0fkzzq39L48aNMzMyMszXX3+9yfZoWTtfu9Z8omXt\n",
              "mKZ51f9Ofy2a1g+uX5c58/WjH/1IiYmJV+2zbds2/exnP9NNN90kwzD0+OOPa/PmzTZV2DatmU80\n",
              "iYuL03333SfDMCRJGRkZ8vv9Tfr96U9/0ujRozV06FBJ0q9+9asO+Tdq7XyiRc+ePUPf19TUhOb1\n",
              "bdG0flozn2hy5coVzZ49W+vWrWvxsQXRsnak1s2ns4mm9YPr54p0AR1JRUWFkpOTQz97PB5VVFRE\n",
              "sKLr9/nnn2vMmDFyOp36l3/5F/3qV7+KdEmtsmbNGj344INN2pv7G1VVVamhoUEuV8f959zSfCTp\n",
              "yy+/1NixY9XY2KipU6fqmWee6ZAvDZ41a5Z2794tSdqxY0eT7dG2fq41Hyl61k9+fr7uvPNOpaWl\n",
              "tdgnmtZOa+YjRc/akb7692aaptLT07Vq1Sr17ds3bHu0rR9cn4614tCuxowZoxMnTig+Pl4nTpzQ\n",
              "fffdpz59+uif/umfIl3aVa1cuVJHjx7V//zP/0S6lHZxtfkMGDBAJ0+eVL9+/fTFF19oxowZeuGF\n",
              "F/Tb3/42ApVe3aZNmyRJf/jDH5STk9NiYIkW15pPtKyfjz76SCUlJdqzZ0+kS2kXrZ1PNK2dPXv2\n",
              "KCkpScFgUEuWLFFmZmbUrx9cny5z2bE1kpKSdOzYsdDPfr9fSUlJEazo+vTo0UPx8fGSpMTERD3y\n",
              "yCPau3dvhKu6utWrV+u1117Tn/70J91www1Ntjf3NxowYECH+3/uX7vWfNxut/r16ydJuvHGG/XY\n",
              "Y491+L9RZmamdu/erXPnzoW1R+v6aWk+0bJ+9u7dK7/fr0GDBsnj8ei9997TnDlz9NJLL4X1i5a1\n",
              "09r5RNPa+XodxMTE6Mknn2y2zmhdP/ieIn3Tmd2uduPj559/3uSGx3Xr1tlbYBtdbT6VlZVmY2Oj\n",
              "aZqmeeHCBXP8+PHmhg0bbKyubV544QVzzJgx5hdffNFinwsXLph9+/YNu2n4qaeesqvENmnNfE6f\n",
              "Pm1evnzZNE3TrK+vNx9++GEzNzfXrhJbpbq62jx58mTo59dff91MSEgIfZjga9Gyflo7n2hbP1+7\n",
              "6667mr1BPZrWzre1NJ9oWDumaZoXL14M+4DHCy+8YE6cOLFJv2hZP2gfXSZ8zZkzx0xISDCdTqfZ\n",
              "r18/89ZbbzVN0zSzsrLMN954I9SvsLDQ9Hq9ptfrNR977LHQ4u5oWjOfdevWmcOGDTNHjhxpDhs2\n",
              "zHzuueea/A9MR3H8+HFTkun1es1Ro0aZo0aNMtPT003TNM3c3FzzpZdeCvV94403zCFDhpi33nqr\n",
              "+eCDD5rnz5+PVNktau18SkpKzNtuuy30N5o/f75ZX18fydKb8Pv95tixY83hw4ebI0eONO++++5Q\n",
              "4I/G9dPa+UTT+vm2b4eVaFw739XSfKJh7ZjmV6EqNTXVHDFihDl8+HDzZz/7mVleXm6aZnSuH7QP\n",
              "3u0IAABgI+75AgAAsBHhCwAAwEaELwAAABsRvgC0isfj0dChQ9XQ0BBqu/3221VaWhq5ogAgChG+\n",
              "ALRaIBDQhg0bIl0GAEQ1wheAVlu6dKmWL1+uurq6sPYzZ87ooYce0ogRIzR8+HCtX78+QhUCQMdH\n",
              "+ALQaqNGjdLkyZNVUFAQ1v7rX/9aQ4YM0d/+9jft2rVLK1as0HvvvRehKgGgYyN8AWiT5cuXa82a\n",
              "NWGv43n33Xc1d+5cSVK/fv300EMP6d13341UiQDQoRG+ALSJx+PRo48+qhUrVrTYxzAMGysCgOhC\n",
              "+ALQZkuWLFFxcbEqKyslSf/4j/+oV155RZJ09uxZvfbaa7rnnnsiWSIAdFiELwBt1qdPHy1YsEBV\n",
              "VVWSpLVr1+qTTz7RiBEjNHnyZD3zzDO64447IlwlAHRMvNsRAADARpz5AgAAsBHhCwAAwEaELwAA\n",
              "ABsRvgAAAGxE+AIAALAR4QsAAMBGhC8AAAAbEb4AAABsRPgCAACwEeELAADARv8fgP/pwyxHwfUA\n",
              "AAAASUVORK5CYII=\n",
              "\">\n",
              "        \n",
              "      </div>\n",
              "      <script></script>\n",
              "      <script type=\"text/javascript\">\n",
              "        (() => {\n",
              "          const chartElement = document.getElementById(\"chart-e342c669-d6dd-4182-824a-38bf6dcf1f3d\");\n",
              "          async function getCodeForChartHandler(event) {\n",
              "            const chartCodeResponse =  await google.colab.kernel.invokeFunction(\n",
              "                'getCodeForChart', [\"chart-e342c669-d6dd-4182-824a-38bf6dcf1f3d\"], {});\n",
              "            const responseJson = chartCodeResponse.data['application/json'];\n",
              "            await google.colab.notebook.addCell(responseJson.code, 'code');\n",
              "          }\n",
              "          chartElement.onclick = getCodeForChartHandler;\n",
              "        })();\n",
              "      </script>\n",
              "      <style>\n",
              "        .colab-quickchart-chart-with-code  {\n",
              "            display: block;\n",
              "            float: left;\n",
              "            border: 1px solid transparent;\n",
              "        }\n",
              "\n",
              "        .colab-quickchart-chart-with-code:hover {\n",
              "            cursor: pointer;\n",
              "            border: 1px solid #aaa;\n",
              "        }\n",
              "      </style>"
            ]
          },
          "metadata": {}
        },
        {
          "output_type": "display_data",
          "data": {
            "text/plain": [
              "import numpy as np\n",
              "from google.colab import autoviz\n",
              "\n",
              "def time_series_multiline(df, timelike_colname, value_colname, series_colname, figscale=1, mpl_palette_name='Dark2'):\n",
              "  from matplotlib import pyplot as plt\n",
              "  import seaborn as sns\n",
              "  figsize = (10 * figscale, 5.2 * figscale)\n",
              "  palette = list(sns.palettes.mpl_palette(mpl_palette_name))\n",
              "  def _plot_series(series, series_name, series_index=0):\n",
              "    if value_colname == 'count()':\n",
              "      counted = (series[timelike_colname]\n",
              "                 .value_counts()\n",
              "                 .reset_index(name='counts')\n",
              "                 .rename({'index': timelike_colname}, axis=1)\n",
              "                 .sort_values(timelike_colname, ascending=True))\n",
              "      xs = counted[timelike_colname]\n",
              "      ys = counted['counts']\n",
              "    else:\n",
              "      xs = series[timelike_colname]\n",
              "      ys = series[value_colname]\n",
              "    plt.plot(xs, ys, label=series_name, color=palette[series_index % len(palette)])\n",
              "\n",
              "  fig, ax = plt.subplots(figsize=figsize, layout='constrained')\n",
              "  df = df.sort_values(timelike_colname, ascending=True)\n",
              "  if series_colname:\n",
              "    for i, (series_name, series) in enumerate(df.groupby(series_colname)):\n",
              "      _plot_series(series, series_name, i)\n",
              "    fig.legend(title=series_colname, bbox_to_anchor=(1, 1), loc='upper left')\n",
              "  else:\n",
              "    _plot_series(df, '')\n",
              "  sns.despine(fig=fig, ax=ax)\n",
              "  plt.xlabel(timelike_colname)\n",
              "  plt.ylabel(value_colname)\n",
              "  return autoviz.MplChart.from_current_mpl_state()\n",
              "\n",
              "chart = time_series_multiline(_df_9, *['No', 'count()', 'Name'], **{})\n",
              "chart"
            ],
            "text/html": [
              "      <div class=\"colab-quickchart-chart-with-code\" id=\"chart-c7ab95f6-72d8-49dc-88ff-21cab506ddf6\">\n",
              "        <img src=\"data:image/png;base64,iVBORw0KGgoAAAANSUhEUgAAAl8AAAEPCAYAAAB82aF3AAAAOXRFWHRTb2Z0d2FyZQBNYXRwbG90\n",
              "bGliIHZlcnNpb24zLjcuMSwgaHR0cHM6Ly9tYXRwbG90bGliLm9yZy/bCgiHAAAACXBIWXMAAA9h\n",
              "AAAPYQGoP6dpAAAk0ElEQVR4nO3df3QU9b3/8dfs5ge/TIiHIJSYLCFA5DcEIr8KsdpLtCUqYEXr\n",
              "la0BwyleuKRcKBdSQ/EA9x5MCnhaSG+OqeVU2m/AlqrlD0WUCB6UH95eQ68Gdgkx4YcaSTAkbJL5\n",
              "/sFxdW8S2MDubH48H+fMkf3MZ2ben4SPvpyZnTFM0zQFAAAAS9hCXQAAAEB3QvgCAACwEOELAADA\n",
              "QoQvAAAACxG+AAAALET4AgAAsBDhCwAAwEKELwAAAAt1+fC1ZcuWUJcAAADgFRbqAoLtzJkzoS4B\n",
              "AIAOxzRNNTY2qqmpKdSldBnh4eGy2+037NflwxcAAPB19epVVVVVqa6uLtSldCmGYSguLk59+vS5\n",
              "bj/CFwAA3Uhzc7NcLpfsdru+853vKCIiQoZhhLqsTs80TV28eFEVFRUaOnTodc+AEb4AAOhGrl69\n",
              "qubmZt15553q1atXqMvpUmJjY+V2u+XxeK4bvrr8DfcAAKAlm40IEGj+nkHkJw8AAGAhwhcAAAgq\n",
              "h8Oh5ORkNTY2etsmTpyoAwcOhK6oECJ8AQCAoGtoaFBhYWGoy+gQCF8AACDocnNztX79+haPt/jD\n",
              "H/6gu+++W+PHj9fYsWP117/+1bsuLS1NP/vZzzRjxgzFx8crJydHr7/+uqZPny6Hw6G8vDxv308+\n",
              "+UQ/+MEPNGnSJI0ZM0YvvPCCZWNrL77tCAAAgm7s2LG65557lJ+frzVr1njbZ82apccee0yGYcjt\n",
              "dmvy5Mk6c+aMIiMjJV17WPpbb72lmpoaORwOVVdX6+DBg6qsrNTw4cP11FNP6bbbbtNjjz2mnTt3\n",
              "Kjk5WXV1dZo8ebLuvvtuTZo0KVRDbhPhCwAAWGL9+vVKTU3V4sWLvW0ul0s//vGPVVFRobCwMH3x\n",
              "xRdyuVxKTk6WJM2bN092u10xMTFKTEzUD3/4QxmGoUGDBnkf7RAREaGPPvpI8+fP9+63trZWpaWl\n",
              "hC8AANB9ORwOPf7443ruuee8bfPnz9emTZs0b948SdLtt9+u+vp67/oePXp4/2y321t8bmxsVHh4\n",
              "uG6//XadOHEi+IMIAO75AgAAllm7dq127typyspKSVJ1dbUGDx4sSdq5c6eqq6vbvc/hw4crKipK\n",
              "L774oretrKxMX3zxRWCKDjDCFwAAsEy/fv20dOlSVVVVSZK2bNmiefPmafz48Tp+/Lji4+Pbvc+w\n",
              "sDC9+uqr2rNnj8aMGaORI0cqMzNTV65cCXT5AWGYpmmGuohgys7O9vk2BAAA3Vl9fb1cLpcGDx7s\n",
              "cwkPt87fny1nvgAAACxE+AIAALAQ4QsAAMBChC8AAAALEb4AAAAsRPgCAACwEE+4BwAAIVVQUKDi\n",
              "4mLZbN+cE6qrq1N4eLjCw8N9+iYmJiozM1MrVqzwvv9Rkjwej5YvX66jR4/q8OHDPttcvnxZJSUl\n",
              "mj59uvr06eOzbsqUKXr22WeDMKq2Eb4AAEBIVVZWqqCgQA6Hw9uWm5srt9utoqIin75Op1O1tbVa\n",
              "sGCBnE6nt/3AgQNyu91yuVzat29fi20kKSkpqdX9WY3wBQBAN2aapq40eoJ6jJ5h4TIMI6jH6EwI\n",
              "XwAAdGNXGj0atvMXQT3Gx0/8Ur3CI4J6jM6EG+4BAAAsFNQzX0uXLtXevXt15swZHT9+XOPGjWu1\n",
              "X2FhoTZt2qTm5mZ973vf069//WufG+xM09S9996rY8eO6csvvwxmyQAAdCs9w8L18RO/DPox8I2g\n",
              "nvmaN2+eSkpKlJCQ0GYfl8ulnJwcHTx4UGVlZTp//rwKCgp8+uTn52vIkCHBLBUAgG7JMAz1Co8I\n",
              "6sL9Xr6CGr5mzJihuLi46/YpLi5WRkaGBgwYIMMwtHjxYr388sve9R999JH+/Oc/6+c///kNj9fQ\n",
              "0KCamhqfpamp6ZbHAQAAECghv+ervLzc58yYw+FQeXm5pGvP7Fi0aJF27Nghu91+w31t3LhR0dHR\n",
              "PsuRI0eCVjsAAEB7dehvO65bt05z5szRXXfdJbfbfcP+q1evVnZ2tk9bTk5OkKoDAACBYLPZ5HQ6\n",
              "1aNHD2/b6dOn5fF4lJ6e7tM3LCxMhmEoPz9fu3bt8rZXV1dryZIlstvtLbYpLS2VJO3fv7/FukGD\n",
              "BgV6ODcU8vAVHx+vU6dOeT+73W7Fx8dLkt5++22Vl5frhRdeUGNjo2pqauRwOPT+++8rNja2xb4i\n",
              "IyN9nnYrya8zZgAAIHR+8Ytf6Be/aN/jLj788MNW25988sk2t/n6ylqohfyy49y5c7V3716dO3dO\n",
              "pmlq+/btmj9/viTp4MGDOnPmjNxut0pKShQVFSW3291q8AIAAOgMghq+srKyFBcXp4qKCs2aNUtJ\n",
              "SUmSpIULF2rv3r2Srr2jad26dZo2bZqSkpIUGxurrKysYJYFAAAQMoZpmmaoiwim7Oxs5eXlhboM\n",
              "AAA6hPr6erlcLg0ePNjnHivcOn9/tiG/7AgAANCdEL4AAAAsFPJvOwIAgO6toKBAxcXFstm+OSdU\n",
              "V1en8PBwn9cNStfuFc/MzNSKFSt8nnDg8Xi0fPlyHT16VIcPH/bZ5vLlyyopKdH06dPVp08fn3VT\n",
              "pkxRSkqK8vPzfY7V0NCgzZs3KyUlJZBDlUT4AgCgWzNNU+bVuqAew4jodd1XDFVWVqqgoEAOh8Pb\n",
              "lpubK7fbraKiIp++TqdTtbW1WrBggZxOp7f9wIEDcrvdcrlc2rdvX4ttJCkpKanV/SUkJCgnJ0dp\n",
              "aWne9qKiItXW1rZnmH4jfAEA0I2ZV+tUlhUV1GMk7aiREdk7qMfoTLjnCwAAwEKc+QIAoBszInop\n",
              "aUdN0I+BbxC+AADoxgzD4JKgxbjsCAAAYCHCFwAAgIUIXwAAABbini8AABBSNptNTqfT532Ip0+f\n",
              "lsfjUXp6uk/fsLAwGYah/Px87dq1y9teXV2tJUuWyG63t9imtLRUkrR///4W6wYNGiSbzaZVq1Yp\n",
              "JibG215VVaWtW7cGbIzfxou1AQDoRnixdvDwYm0AAIAOiPAFAABgIcIXAACAhQhfAAAAFuLbjgAA\n",
              "IKQKCgpUXFwsm+2bc0J1dXUKDw9XeHi4T9/ExERlZmZqxYoVioyM9LZ7PB4tX75cR48e1eHDh322\n",
              "uXz5skpKSjR9+nT16dPHZ92UKVOUkpKi/Px8n2M1NDRo8+bNKiws1OnTp3226d27t3bv3n3T4yV8\n",
              "AQCAkKqsrFRBQYEcDoe3LTc3V263W0VFRT59nU6namtrtWDBAjmdTm/7gQMH5Ha75XK5tG/fvhbb\n",
              "SFJSUlKr+0tISFBOTo7S0tK87UVFRaqtrVVdXV2b+7tZhC8AALox0zTludoU1GOER9hlGEZQj9GZ\n",
              "EL4AAOjGPFebtPbn+27c8RY8tyldEZFEjq9xwz0AAICFiKEAAHRj4RF2Pbcp/cYdb/EY+AbhCwCA\n",
              "bswwDC4JWozLjgAAABYifAEAAFiI84wAACCkbDabnE6nevTo4W07ffq0PB6P0tN970cLCwuTYRjK\n",
              "z8/Xrl27vO3V1dVasmSJ7HZ7i21KS0slSfv372+xbtCgQbLZbFq1apViYmK87VVVVdq6das+++yz\n",
              "Ftt8/vnntzRewzRN85b20MFlZ2crLy8v1GUAANAh1NfXy+VyafDgwT5hB7fO358tlx0BAAAsRPgC\n",
              "AACwEOELAADAQkENX0uXLpXD4ZBhGDpx4kSb/QoLCzV06FANGTJEixYtksfjkXTtxrjU1FSNGDFC\n",
              "I0eO1MqVK9Xc3BzMkgEAAIIqqOFr3rx5KikpUUJCQpt9XC6XcnJydPDgQZWVlen8+fMqKCiQJMXE\n",
              "xGjXrl0qLS3V0aNHdejQIb300kvBLBkAACCogvqoiRkzZtywT3FxsTIyMjRgwABJ0uLFi7VhwwYt\n",
              "WbJE48eP9/br0aOHxo0bJ7fbHaxyAQBACBQUFKi4uFg22zfnhOrq6hQeHq7w8HCfvomJicrMzNSK\n",
              "FSsUGRnpbfd4PFq+fLmOHj2qw4cP+2xz+fJllZSUaPr06erTp4/PuilTpiglJUX5+fk+x2poaNDm\n",
              "zZuVkpISyKFK6gDP+SovL/c5M+ZwOFReXt6i37lz51RcXKxXX321zX01NDSooaHBp62pqSlwxQIA\n",
              "gICrrKxUQUGBHA6Hty03N1dut1tFRUU+fZ1Op2pra7VgwQI5nU5v+4EDB+R2u+VyubRv374W20hS\n",
              "UlJSq/tLSEhQTk6O0tLSvO1FRUWqra0NwOhaCnn48kdNTY1mz56tlStXauLEiW3227hxo9atW+fT\n",
              "Nnny5GCXBwBAp2WapswrnqAew+gZLsMwgnqMziTk4Ss+Pl6nTp3yfna73YqPj/d+rq2tVXp6uh58\n",
              "8EFlZ2dfd1+rV69u0ScnJyewBQMA0IWYVzy6MHFLUI/R/4NlMnpFBPUYnUnIHzUxd+5c7d27V+fO\n",
              "nZNpmtq+fbvmz58v6do12vT0dKWnp2vt2rU33FdkZKSioqJ8FrvdHuwhAAAA+C2oZ76ysrL02muv\n",
              "6dy5c5o1a5Zuu+02lZWVaeHChcrIyFBGRoYSExO1bt06TZs2TZKUlpamrKwsSdKWLVt05MgRffXV\n",
              "V9qzZ48k6ZFHHtGaNWuCWTYAAN2G0TNc/T9YFvRj4BtBDV87duxotf2//uu/fD4vWrRIixYtatFv\n",
              "zZo1BC0AAILIMAwuCVos5JcdAQAAuhPCFwAAgIVC/m1HAADQvdlsNjmdTvXo0cPbdvr0aXk8HqWn\n",
              "p/v0DQsLk2EYys/P165du7zt1dXVWrJkiex2e4ttSktLJV17beH/XTdo0CDZbDatWrVKMTEx3vaq\n",
              "qipt3bo1YGP8NsM0TTMoe+4gsrOzlZeXF+oyAADoEOrr6+VyuTR48GCfsINb5+/PlsuOAAAAFiJ8\n",
              "AQAAWIjwBQAAYCHCFwAAgIUIXwAAABbiURMAACCkCgoKVFxcLJvtm3NCdXV1Cg8PV3i476uJEhMT\n",
              "lZmZqRUrVigyMtLb7vF4tHz5ch09elSHDx/22eby5csqKSnR9OnT1adPH591U6ZMUUpKivLz832O\n",
              "1dDQoM2bNyslJSWQQ5VE+AIAoFszTVNXm64E9RgR9p4yDKPN9ZWVlSooKJDD4fC25ebmyu12q6io\n",
              "yKev0+lUbW2tFixYIKfT6W0/cOCA3G63XC6X9u3b12IbSUpKSmp1fwkJCcrJyVFaWpq3vaioSLW1\n",
              "te0Zpt8IXwAAdGNXm65o6f+7K6jH2PrISUWG9QrqMToT7vkCAACwEGe+AADoxiLsPbX1kZNBPwa+\n",
              "QfgCAKAbMwyDS4IW47IjAACAhQhfAAAAFrqpy46lpaWqqKhQz549NXr0aPXt2zfAZQEAAHRNfoev\n",
              "2tpabd68Wb/97W/Vq1cv3XHHHaqvr9epU6eUmpqqVatW6d577w1mrQAAoAuy2WxyOp3q0aOHt+30\n",
              "6dPyeDxKT0/36RsWFibDMJSfn69du3Z526urq7VkyRLZ7fYW25SWlkqS9u/f32LdoEGDZLPZtGrV\n",
              "KsXExHjbq6qqtHXr1oCN8dsM0zRNfzpOnDhRTz75pB599FHdcccd3vbm5mYdPHhQ27dvV1pamrKy\n",
              "soJS6M3Kzs5WXl5eqMsAAKBDqK+vl8vl0uDBg33CDm6dvz9bv898vfvuuz6P8f+azWbTzJkzNXPm\n",
              "TDU0NNxctQAAwFLNzc2hLqHL8fN8lv/hq7XgdTN9AABA6ERERMhms6myslKxsbGKiIi47qt/4B/T\n",
              "NHXx4kUZhtHifZT/l9/h64c//KH+/d//XVOnTm2x7ssvv1RhYaH69OnT4S47AgCAb9hsNg0ePFhV\n",
              "VVWqrKwMdTldimEYiouLk91uv24/v8PXhg0btHr1apWWlmrSpEneG+7/8Y9/6NNPP9WSJUv01FNP\n",
              "3XLhAAAguCIiIhQfH6/GxkY1NTWFupwuIzw8/IbBS2pH+BozZoxee+01nT17Vm+//bYqKirUq1cv\n",
              "/fjHP9b06dMVFsbD8gEA6Cy+vjx2o0tkCLx2J6bq6mo98cQTPm3//d//rTFjxgSsKAAAgK6q3U+4\n",
              "dzqdfrUBAACgJb/PfF24cEHnzp3TlStX9Pe//937dcpLly7pq6++ClqBAAAAXYnf4evll1/Wr371\n",
              "K1VWViojI8PbHh0drZUrVwalOAAAgK7G7/C1bNkyLVu2TOvXr1dOTk4wawIAAOiy2n3DfU5Ojpqb\n",
              "m3Xu3Dk1NjZ62+Pj4wNaGAAAQFfU7hvuf/e736lv374aPXq0UlJSlJKSookTJ7bad+nSpXI4HDIM\n",
              "QydOnGhzn4WFhRo6dKiGDBmiRYsWyePx+LUOAACgs2l3+PrlL3+p999/X59//rkuXryoixcv6sKF\n",
              "C632nTdvnkpKSpSQkNDm/lwul3JycnTw4EGVlZXp/PnzKigouOE6AACAzqjd4atfv34aPny4X31n\n",
              "zJihuLi46/YpLi5WRkaGBgwYIMMwtHjxYr388ss3XAcAANAZtfuer4ceeki/+tWv9Pjjj6tHjx7e\n",
              "9qioqJsqoLy83OfMmMPhUHl5+Q3XtaahoUENDQ0+bbw2AQAAdCTtPvO1Zs0aZWdna8CAAYqJiVHf\n",
              "vn0VExMTjNrabePGjYqOjvZZjhw5EuqyAAAAvNodvpqbm71LU1OT9583Kz4+XmfOnPF+drvd3m9O\n",
              "Xm9da1avXq1Lly75LKmpqTddGwAAQKC1O3wF2ty5c7V3716dO3dOpmlq+/btmj9//g3XtSYyMlJR\n",
              "UVE+iz9vFwcAALBKu8OXzWaT3W5vsbQmKytLcXFxqqio0KxZs5SUlCRJWrhwofbu3StJSkxM1Lp1\n",
              "6zRt2jQlJSUpNjZWWVlZN1wHAADQGRnm1y9p9NO33+N45coVvfTSS2pqatK//du/Bby4QMjOzlZe\n",
              "Xl6oywAAAJB0E2e+evfu7V369eun7OxsFRcXB6M2AACALueW7/n6xz/+oc8++ywQtQAAAHR57X7O\n",
              "V0xMjAzDkCTvux23bdsW2KoAAAC6qHaHr2+/ozEsLEwDBgzgG4UAAAB+anf4SkhIUF1dnTeExcTE\n",
              "qFevXoGuCwAAoEtqd/g6dOiQ5s6dqwEDBkiSzp8/r927d2vKlCkBLw4AAKCraXf4+vrbjdOmTZN0\n",
              "LYwtX75c7733XsCLAwAA6Gra/W3HK1eueIOXJE2dOlX19fUBLQoAAKCranf46tOnj9544w3v5zff\n",
              "fFO9e/cOaFEAAABdVbsvO27dulVz5szxfsOxublZe/bsCXhhAAAAXVG7w1dlZaU++OADnT9/XpJ0\n",
              "xx136MiRIwEvDAAAoCtq92XHnJwcxcbGatSoURo1apT69eunnJycYNQGAADQ5dzy64UMw1BTU1Mg\n",
              "agEAAOjy2h2+brvtNh06dMj7+d1339Vtt90W0KIAAAC6qnbf8/Wf//mfevjhh5WcnCxJ+uSTT/TK\n",
              "K68EvDAAAICuqN3ha8qUKTp58qQOHz4s6dpzvvr27RvougAAALqkdocv6dr7HB944IFA1wIAANDl\n",
              "3fIN9wAAAPAf4QsAAMBChC8AAAALEb4AAAAsRPgCAACwEOELAADAQoQvAAAACxG+AAAALET4AgAA\n",
              "sBDhCwAAwEKELwAAAAsRvgAAACxE+AIAALAQ4QsAAMBCQQ1fn3zyiaZOnaphw4Zp0qRJ+uijj1r0\n",
              "aW5u1ooVKzRq1CglJycrMzNTV69e9a7/j//4D40YMULjxo3T5MmTdeTIkWCWDAAAEFRBDV9ZWVl6\n",
              "+umn9fHHH2vVqlVyOp0t+hQWFurYsWM6duyYTp48KZvNpi1btkiSTpw4oV//+tc6cuSITpw4oWee\n",
              "eUbPPPNMMEsGAAAIqqCFrwsXLuiDDz7QE088IUmaO3euzp49q7KyMp9+H374oe677z5FRETIMAzd\n",
              "f//9+v3vfy9JMgxDHo9HX331lSTpyy+/VFxcXLBKBgAACLqwYO347NmzGjhwoMLCrh3CMAzFx8er\n",
              "vLxcSUlJ3n4pKSnasWOHnnnmGfXs2VN/+tOf5Ha7JUljx47V8uXLNXjwYN1+++2KjIzUO++80+Yx\n",
              "Gxoa1NDQ4NPW1NQU+MEBAADcpJDfcO90OpWenq6ZM2dq5syZGjZsmDewuVwu7dmzR2VlZaqoqNDy\n",
              "5cv16KOPtrmvjRs3Kjo62mfhHjEAANCRBC183XnnnaqqqlJjY6MkyTRNlZeXKz4+3qefYRjKzc3V\n",
              "8ePHdejQIY0YMUIjR46UJO3evVujR4/Wd77zHUnST37yE7377rs+N+R/2+rVq3Xp0iWfJTU1NVhD\n",
              "BAAAaLegha/+/ftrwoQJ2rlzp6RrQSouLs7nkqMk1dfXq7q6WpL02WefadOmTVq5cqUkKTExUe++\n",
              "+64uX74sSXr11Vc1bNgwRUREtHrMyMhIRUVF+Sx2uz1YQwQAAGi3oN3zJUk7duyQ0+nUhg0bFBUV\n",
              "pRdffFGStHDhQmVkZCgjI0OXLl1SWlqabDabmpubtWzZMs2ePVuS9PDDD+v999/XxIkTFRkZqd69\n",
              "e+sPf/hDMEsGAAAIKsM0TTPURQRTdna28vLyQl0GAACApA5wwz0AAEB3QvgCAACwEOELAADAQoQv\n",
              "AAAACxG+AAAALET4AgAAsBDhCwAAwEKELwAAAAsRvgAAACxE+AIAALAQ4QsAAMBChC8AAAALEb4A\n",
              "AAAsRPgCAACwEOELAADAQoQvAAAACxG+AAAALET4AgAAsBDhCwAAwEKELwAAAAsRvgAAACxE+AIA\n",
              "ALAQ4QsAAMBChC8AAAALEb4AAAAsRPgCAACwEOELAADAQoQvAAAACxG+AAAALET4AgAAsBDhCwAA\n",
              "wEJBDV+ffPKJpk6dqmHDhmnSpEn66KOPWvRpbm7WihUrNGrUKCUnJyszM1NXr171ri8vL9fs2bM1\n",
              "fPhwjRgxQtu2bQtmyQAAAEEV1PCVlZWlp59+Wh9//LFWrVolp9PZok9hYaGOHTumY8eO6eTJk7LZ\n",
              "bNqyZYskyTRNPfzww3ryySf1v//7vyotLdWPfvSjYJYMAAAQVEELXxcuXNAHH3ygJ554QpI0d+5c\n",
              "nT17VmVlZT79PvzwQ913332KiIiQYRi6//779fvf/16S9OabbyoyMlKPPPKIt/8dd9wRrJIBAACC\n",
              "Lmjh6+zZsxo4cKDCwsIkSYZhKD4+XuXl5T79UlJStHfvXtXU1Mjj8ehPf/qT3G63JKm0tFSxsbGa\n",
              "P3++xo8fr4cfflinT59u85gNDQ2qqanxWZqamoI1RAAAgHYL+Q33TqdT6enpmjlzpmbOnKlhw4Z5\n",
              "A1tjY6P279+vnJwcHT9+XLNmzbruZceNGzcqOjraZzly5IhVQwEAALihoIWvO++8U1VVVWpsbJR0\n",
              "7f6t8vJyxcfH+/QzDEO5ubk6fvy4Dh06pBEjRmjkyJGSpPj4eI0fP977+Z//+Z917NgxeTyeVo+5\n",
              "evVqXbp0yWdJTU0N1hABAADaLWjhq3///powYYJ27twpSdq9e7fi4uKUlJTk06++vl7V1dWSpM8+\n",
              "+0ybNm3SypUrJUn333+/Kioq9Omnn0qSXn/9dd11110KDw9v9ZiRkZGKioryWex2e7CGCAAA0G5h\n",
              "wdz5jh075HQ6tWHDBkVFRenFF1+UJC1cuFAZGRnKyMjQpUuXlJaWJpvNpubmZi1btkyzZ8+WJPXu\n",
              "3Vvbt2/XD37wA5mmqejoaO3atSuYJQMAAASVYZqmGeoigik7O1t5eXmhLgMAAEBSB7jhHgAAoDsh\n",
              "fAEAAFiI8AUAAGAhwhcAAICFCF8AAAAWInwBAABYiPAFAABgIcIXAACAhQhfAAAAFiJ8AQAAWIjw\n",
              "BQAAYCHCFwAAgIUIXwAAABYifAEAAFiI8AUAAGAhwhcAAICFCF8AAAAWInwBAABYiPAFAABgIcIX\n",
              "AACAhQhfAAAAFiJ8AQAAWIjwBQAAYCHCFwAAgIUIXwAAABYyTNM0Q11EMM2ZM0cOhyMg+2pqatKR\n",
              "I0eUmpoqu90ekH2GCmPpeLrKOKSuM5auMg6JsXREwRpHQkKCli1bFrD9IfC6fPgKpJqaGkVHR+vS\n",
              "pUuKiooKdTm3hLF0PF1lHFLXGUtXGYfEWDqirjIOtB+XHQEAACxE+AIAALAQ4QsAAMBChK92iIyM\n",
              "1LPPPqvIyMhQl3LLGEvH01XGIXWdsXSVcUiMpSPqKuNA+3HDPQAAgIU48wUAAGAhwhcAAICFCF8A\n",
              "AAAWIny1YunSpXI4HDIMQydOnGizX2FhoYYOHaohQ4Zo0aJF8ng81hXpB3/GceDAAfXs2VPjxo3z\n",
              "LleuXLG2UD/U19froYce0rBhwzR27Fh9//vfV1lZWat9X331VSUnJ2vo0KGaM2eOampqLK62bf6O\n",
              "w+12y263+/xeTp06FYKKr++f/umfNGbMGI0bN07f/e53dfz48Vb7dfS54s84Ostc+dqLL74owzD0\n",
              "5z//udX1HXmefNv1xtFZ5onD4dDw4cO9Nf7xj39stV9HnycIIBMtvP322+bZs2fNhIQE8/jx4632\n",
              "OX36tDlw4ECzqqrKbG5uNmfPnm2+8MIL1hZ6A/6M46233jLHjh1raV0348qVK+Zrr71mNjc3m6Zp\n",
              "mtu2bTNnzpzZol9tba3Zv39/8+TJk6ZpmuaSJUvMFStWWFnqdfk7DpfLZUZHR1tb3E2orq72/nnP\n",
              "nj3mmDFjWvTpDHPFn3F0lrlimtf+/kyZMsWcPHmy+corr7RY39HnydduNI7OMk+u9+/gr3WGeYLA\n",
              "4cxXK2bMmKG4uLjr9ikuLlZGRoYGDBggwzC0ePFivfzyyxZV6B9/xtFZ9OjRQw888IAMw5AkTZ48\n",
              "WW63u0W/v/3tbxo/frySk5MlST/96U871O/F33F0Fn379vX++dKlS95xfVtnmCv+jKOzaG5u1sKF\n",
              "C7Vt27Y2H2HQ0eeJ5N84upLOME8QOGGhLqCzKi8vV0JCgvezw+FQeXl5CCu6eadOndKECRNkt9v1\n",
              "k5/8RD/96U9DXdINbdmyRQ8++GCL9tZ+L1VVVWpsbFRYWMf7697WOCTpq6++0qRJk9TU1KSHHnpI\n",
              "a9as6ZAvEX7yySf11ltvSZJef/31Fus7y1y50TikzjFX8vLyNG3aNKWkpLTZpzPME3/GIXWueWKa\n",
              "plJTU7Vp0ybFxsb6rO8s8wSB0TFmGUJmwoQJqqioUHR0tCoqKvTAAw+oX79++tGPfhTq0tq0YcMG\n",
              "lZWV6c033wx1KbfkeuMYOHCgPv30U/Xv319ffPGFHn30UT3//PNauXJlCCq9vpdeekmS9Lvf/U6r\n",
              "Vq1qM7h0dDcaR2eYK//zP/+j3bt365133gl1KbfE33F0lnnyzjvvKD4+Xh6PR2vXrtWCBQs67TxB\n",
              "YHDZ8SbFx8frzJkz3s9ut1vx8fEhrOjmREVFKTo6WpIUFxenxx57TAcPHgxxVW3bvHmz9uzZo7/9\n",
              "7W/q1atXi/Wt/V4GDhzYYf5v/ms3GkdkZKT69+8vSbr99tv11FNPdejfiyQtWLBAb731lj7//HOf\n",
              "9s42V9oaR2eYKwcPHpTb7dbQoUPlcDj03nvv6emnn9ZvfvMbn34dfZ74O47OMk++/vseHh6uf/3X\n",
              "f221xs42T3CLQn3TWUd2vZskT5061eLmyG3btllboJ+uN47KykqzqanJNE3TrKmpMadOnWoWFhZa\n",
              "WJ3/nn/+eXPChAnmF1980WafmpoaMzY21udG4p/97GdWlegXf8Zx/vx58+rVq6ZpmmZ9fb05b948\n",
              "Mycnx6oS/VJdXW1++umn3s+vvPKKOWjQIO+XCb7W0eeKv+PoTHPlazNnzmz1RvXOME++ra1xdIZ5\n",
              "cvnyZZ8vdDz//PPmd7/73Rb9Ovo8QWARvlrx9NNPm4MGDTLtdrvZv39/c8iQIaZpmmZmZqb5l7/8\n",
              "xduvoKDATExMNBMTE82nnnrK+y+BjsKfcWzbts0cMWKEOWbMGHPEiBHms88+2+I/Oh3B2bNnTUlm\n",
              "YmKiOXbsWHPs2LFmamqqaZqmmZOTY/7mN7/x9v3LX/5iDh8+3BwyZIj54IMPml9++WWoym7B33Hs\n",
              "3r3bHDlypPf38swzz5j19fWhLL0Ft9ttTpo0yRw1apQ5ZswY89577/WG/M40V/wdR2eZK9/27dDS\n",
              "mebJ/9XWODrDPDl16pQ5btw4c/To0eaoUaPMjIwM0+VymabZueYJAot3OwIAAFiIe74AAAAsRPgC\n",
              "AACwEOELAADAQoQvADfN4XAoOTlZjY2N3raJEyfqwIEDoSsKADo4wheAW9LQ0KDCwsJQlwEAnQbh\n",
              "C8Atyc3N1fr161VXV+fTfuHCBc2ZM0ejR4/WqFGjtGPHjhBVCAAdC+ELwC0ZO3as7rnnHuXn5/u0\n",
              "/8u//IuGDx+uv//979q/f7+ee+45vffeeyGqEgA6DsIXgFu2fv16bdmyxeeVPG+88YaysrIkSf37\n",
              "99ecOXP0xhtvhKpEAOgwCF8AbpnD4dDjjz+u5557rs0+hmFYWBEAdFyELwABsXbtWu3cuVOVlZWS\n",
              "pPvuu0+//e1vJUkXL17Unj179P3vfz+UJQJAh0D4AhAQ/fr109KlS1VVVSVJ2rp1q06ePKnRo0fr\n",
              "nnvu0Zo1a3T33XeHuEoACD3e7QgAAGAhznwBAABYiPAFAABgIcIXAACAhQhfAAAAFiJ8AQAAWIjw\n",
              "BQAAYCHCFwAAgIUIXwAAABYifAEAAFiI8AUAAGCh/w/14xLTA9ge1AAAAABJRU5ErkJggg==\n",
              "\">\n",
              "        \n",
              "      </div>\n",
              "      <script></script>\n",
              "      <script type=\"text/javascript\">\n",
              "        (() => {\n",
              "          const chartElement = document.getElementById(\"chart-c7ab95f6-72d8-49dc-88ff-21cab506ddf6\");\n",
              "          async function getCodeForChartHandler(event) {\n",
              "            const chartCodeResponse =  await google.colab.kernel.invokeFunction(\n",
              "                'getCodeForChart', [\"chart-c7ab95f6-72d8-49dc-88ff-21cab506ddf6\"], {});\n",
              "            const responseJson = chartCodeResponse.data['application/json'];\n",
              "            await google.colab.notebook.addCell(responseJson.code, 'code');\n",
              "          }\n",
              "          chartElement.onclick = getCodeForChartHandler;\n",
              "        })();\n",
              "      </script>\n",
              "      <style>\n",
              "        .colab-quickchart-chart-with-code  {\n",
              "            display: block;\n",
              "            float: left;\n",
              "            border: 1px solid transparent;\n",
              "        }\n",
              "\n",
              "        .colab-quickchart-chart-with-code:hover {\n",
              "            cursor: pointer;\n",
              "            border: 1px solid #aaa;\n",
              "        }\n",
              "      </style>"
            ]
          },
          "metadata": {}
        }
      ]
    },
    {
      "cell_type": "code",
      "source": [
        "!pip install pandas-profiling"
      ],
      "metadata": {
        "id": "ft8g9SLMyaDf",
        "outputId": "a5e93e89-3045-40ac-8136-58e353442c5a",
        "colab": {
          "base_uri": "https://localhost:8080/"
        }
      },
      "id": "ft8g9SLMyaDf",
      "execution_count": 139,
      "outputs": [
        {
          "output_type": "stream",
          "name": "stdout",
          "text": [
            "Collecting pandas-profiling\n",
            "  Downloading pandas_profiling-3.6.6-py2.py3-none-any.whl (324 kB)\n",
            "\u001b[2K     \u001b[90m━━━━━━━━━━━━━━━━━━━━━━━━━━━━━━━━━━━━━━━\u001b[0m \u001b[32m324.4/324.4 kB\u001b[0m \u001b[31m5.0 MB/s\u001b[0m eta \u001b[36m0:00:00\u001b[0m\n",
            "\u001b[?25hCollecting ydata-profiling (from pandas-profiling)\n",
            "  Downloading ydata_profiling-4.5.1-py2.py3-none-any.whl (357 kB)\n",
            "\u001b[2K     \u001b[90m━━━━━━━━━━━━━━━━━━━━━━━━━━━━━━━━━━━━━━\u001b[0m \u001b[32m357.3/357.3 kB\u001b[0m \u001b[31m27.9 MB/s\u001b[0m eta \u001b[36m0:00:00\u001b[0m\n",
            "\u001b[?25hRequirement already satisfied: scipy<1.12,>=1.4.1 in /usr/local/lib/python3.10/dist-packages (from ydata-profiling->pandas-profiling) (1.10.1)\n",
            "Requirement already satisfied: pandas!=1.4.0,<2.1,>1.1 in /usr/local/lib/python3.10/dist-packages (from ydata-profiling->pandas-profiling) (1.5.3)\n",
            "Requirement already satisfied: matplotlib<4,>=3.2 in /usr/local/lib/python3.10/dist-packages (from ydata-profiling->pandas-profiling) (3.7.1)\n",
            "Collecting pydantic<2,>=1.8.1 (from ydata-profiling->pandas-profiling)\n",
            "  Downloading pydantic-1.10.12-cp310-cp310-manylinux_2_17_x86_64.manylinux2014_x86_64.whl (3.1 MB)\n",
            "\u001b[2K     \u001b[90m━━━━━━━━━━━━━━━━━━━━━━━━━━━━━━━━━━━━━━━━\u001b[0m \u001b[32m3.1/3.1 MB\u001b[0m \u001b[31m61.4 MB/s\u001b[0m eta \u001b[36m0:00:00\u001b[0m\n",
            "\u001b[?25hRequirement already satisfied: PyYAML<6.1,>=5.0.0 in /usr/local/lib/python3.10/dist-packages (from ydata-profiling->pandas-profiling) (6.0.1)\n",
            "Requirement already satisfied: jinja2<3.2,>=2.11.1 in /usr/local/lib/python3.10/dist-packages (from ydata-profiling->pandas-profiling) (3.1.2)\n",
            "Collecting visions[type_image_path]==0.7.5 (from ydata-profiling->pandas-profiling)\n",
            "  Downloading visions-0.7.5-py3-none-any.whl (102 kB)\n",
            "\u001b[2K     \u001b[90m━━━━━━━━━━━━━━━━━━━━━━━━━━━━━━━━━━━━━━\u001b[0m \u001b[32m102.7/102.7 kB\u001b[0m \u001b[31m12.3 MB/s\u001b[0m eta \u001b[36m0:00:00\u001b[0m\n",
            "\u001b[?25hRequirement already satisfied: numpy<1.24,>=1.16.0 in /usr/local/lib/python3.10/dist-packages (from ydata-profiling->pandas-profiling) (1.23.5)\n",
            "Collecting htmlmin==0.1.12 (from ydata-profiling->pandas-profiling)\n",
            "  Downloading htmlmin-0.1.12.tar.gz (19 kB)\n",
            "  Preparing metadata (setup.py) ... \u001b[?25l\u001b[?25hdone\n",
            "Collecting phik<0.13,>=0.11.1 (from ydata-profiling->pandas-profiling)\n",
            "  Downloading phik-0.12.3-cp310-cp310-manylinux_2_17_x86_64.manylinux2014_x86_64.whl (679 kB)\n",
            "\u001b[2K     \u001b[90m━━━━━━━━━━━━━━━━━━━━━━━━━━━━━━━━━━━━━━\u001b[0m \u001b[32m679.5/679.5 kB\u001b[0m \u001b[31m40.9 MB/s\u001b[0m eta \u001b[36m0:00:00\u001b[0m\n",
            "\u001b[?25hRequirement already satisfied: requests<3,>=2.24.0 in /usr/local/lib/python3.10/dist-packages (from ydata-profiling->pandas-profiling) (2.31.0)\n",
            "Requirement already satisfied: tqdm<5,>=4.48.2 in /usr/local/lib/python3.10/dist-packages (from ydata-profiling->pandas-profiling) (4.66.1)\n",
            "Requirement already satisfied: seaborn<0.13,>=0.10.1 in /usr/local/lib/python3.10/dist-packages (from ydata-profiling->pandas-profiling) (0.12.2)\n",
            "Collecting multimethod<2,>=1.4 (from ydata-profiling->pandas-profiling)\n",
            "  Downloading multimethod-1.9.1-py3-none-any.whl (10 kB)\n",
            "Requirement already satisfied: statsmodels<1,>=0.13.2 in /usr/local/lib/python3.10/dist-packages (from ydata-profiling->pandas-profiling) (0.14.0)\n",
            "Collecting typeguard<3,>=2.13.2 (from ydata-profiling->pandas-profiling)\n",
            "  Downloading typeguard-2.13.3-py3-none-any.whl (17 kB)\n",
            "Collecting imagehash==4.3.1 (from ydata-profiling->pandas-profiling)\n",
            "  Downloading ImageHash-4.3.1-py2.py3-none-any.whl (296 kB)\n",
            "\u001b[2K     \u001b[90m━━━━━━━━━━━━━━━━━━━━━━━━━━━━━━━━━━━━━━\u001b[0m \u001b[32m296.5/296.5 kB\u001b[0m \u001b[31m27.9 MB/s\u001b[0m eta \u001b[36m0:00:00\u001b[0m\n",
            "\u001b[?25hRequirement already satisfied: wordcloud>=1.9.1 in /usr/local/lib/python3.10/dist-packages (from ydata-profiling->pandas-profiling) (1.9.2)\n",
            "Collecting dacite>=1.8 (from ydata-profiling->pandas-profiling)\n",
            "  Downloading dacite-1.8.1-py3-none-any.whl (14 kB)\n",
            "Requirement already satisfied: PyWavelets in /usr/local/lib/python3.10/dist-packages (from imagehash==4.3.1->ydata-profiling->pandas-profiling) (1.4.1)\n",
            "Requirement already satisfied: pillow in /usr/local/lib/python3.10/dist-packages (from imagehash==4.3.1->ydata-profiling->pandas-profiling) (9.4.0)\n",
            "Requirement already satisfied: attrs>=19.3.0 in /usr/local/lib/python3.10/dist-packages (from visions[type_image_path]==0.7.5->ydata-profiling->pandas-profiling) (23.1.0)\n",
            "Requirement already satisfied: networkx>=2.4 in /usr/local/lib/python3.10/dist-packages (from visions[type_image_path]==0.7.5->ydata-profiling->pandas-profiling) (3.1)\n",
            "Collecting tangled-up-in-unicode>=0.0.4 (from visions[type_image_path]==0.7.5->ydata-profiling->pandas-profiling)\n",
            "  Downloading tangled_up_in_unicode-0.2.0-py3-none-any.whl (4.7 MB)\n",
            "\u001b[2K     \u001b[90m━━━━━━━━━━━━━━━━━━━━━━━━━━━━━━━━━━━━━━━━\u001b[0m \u001b[32m4.7/4.7 MB\u001b[0m \u001b[31m90.5 MB/s\u001b[0m eta \u001b[36m0:00:00\u001b[0m\n",
            "\u001b[?25hRequirement already satisfied: MarkupSafe>=2.0 in /usr/local/lib/python3.10/dist-packages (from jinja2<3.2,>=2.11.1->ydata-profiling->pandas-profiling) (2.1.3)\n",
            "Requirement already satisfied: contourpy>=1.0.1 in /usr/local/lib/python3.10/dist-packages (from matplotlib<4,>=3.2->ydata-profiling->pandas-profiling) (1.1.0)\n",
            "Requirement already satisfied: cycler>=0.10 in /usr/local/lib/python3.10/dist-packages (from matplotlib<4,>=3.2->ydata-profiling->pandas-profiling) (0.11.0)\n",
            "Requirement already satisfied: fonttools>=4.22.0 in /usr/local/lib/python3.10/dist-packages (from matplotlib<4,>=3.2->ydata-profiling->pandas-profiling) (4.42.1)\n",
            "Requirement already satisfied: kiwisolver>=1.0.1 in /usr/local/lib/python3.10/dist-packages (from matplotlib<4,>=3.2->ydata-profiling->pandas-profiling) (1.4.4)\n",
            "Requirement already satisfied: packaging>=20.0 in /usr/local/lib/python3.10/dist-packages (from matplotlib<4,>=3.2->ydata-profiling->pandas-profiling) (23.1)\n",
            "Requirement already satisfied: pyparsing>=2.3.1 in /usr/local/lib/python3.10/dist-packages (from matplotlib<4,>=3.2->ydata-profiling->pandas-profiling) (3.1.1)\n",
            "Requirement already satisfied: python-dateutil>=2.7 in /usr/local/lib/python3.10/dist-packages (from matplotlib<4,>=3.2->ydata-profiling->pandas-profiling) (2.8.2)\n",
            "Requirement already satisfied: pytz>=2020.1 in /usr/local/lib/python3.10/dist-packages (from pandas!=1.4.0,<2.1,>1.1->ydata-profiling->pandas-profiling) (2023.3)\n",
            "Requirement already satisfied: joblib>=0.14.1 in /usr/local/lib/python3.10/dist-packages (from phik<0.13,>=0.11.1->ydata-profiling->pandas-profiling) (1.3.2)\n",
            "Requirement already satisfied: typing-extensions>=4.2.0 in /usr/local/lib/python3.10/dist-packages (from pydantic<2,>=1.8.1->ydata-profiling->pandas-profiling) (4.7.1)\n",
            "Requirement already satisfied: charset-normalizer<4,>=2 in /usr/local/lib/python3.10/dist-packages (from requests<3,>=2.24.0->ydata-profiling->pandas-profiling) (3.2.0)\n",
            "Requirement already satisfied: idna<4,>=2.5 in /usr/local/lib/python3.10/dist-packages (from requests<3,>=2.24.0->ydata-profiling->pandas-profiling) (3.4)\n",
            "Requirement already satisfied: urllib3<3,>=1.21.1 in /usr/local/lib/python3.10/dist-packages (from requests<3,>=2.24.0->ydata-profiling->pandas-profiling) (2.0.4)\n",
            "Requirement already satisfied: certifi>=2017.4.17 in /usr/local/lib/python3.10/dist-packages (from requests<3,>=2.24.0->ydata-profiling->pandas-profiling) (2023.7.22)\n",
            "Requirement already satisfied: patsy>=0.5.2 in /usr/local/lib/python3.10/dist-packages (from statsmodels<1,>=0.13.2->ydata-profiling->pandas-profiling) (0.5.3)\n",
            "Requirement already satisfied: six in /usr/local/lib/python3.10/dist-packages (from patsy>=0.5.2->statsmodels<1,>=0.13.2->ydata-profiling->pandas-profiling) (1.16.0)\n",
            "Building wheels for collected packages: htmlmin\n",
            "  Building wheel for htmlmin (setup.py) ... \u001b[?25l\u001b[?25hdone\n",
            "  Created wheel for htmlmin: filename=htmlmin-0.1.12-py3-none-any.whl size=27081 sha256=023df5ae5bebc513318fa0d7084e159d2a7663734b00cf764ad73bdf8ae6baf6\n",
            "  Stored in directory: /root/.cache/pip/wheels/dd/91/29/a79cecb328d01739e64017b6fb9a1ab9d8cb1853098ec5966d\n",
            "Successfully built htmlmin\n",
            "Installing collected packages: htmlmin, typeguard, tangled-up-in-unicode, pydantic, multimethod, dacite, imagehash, visions, phik, ydata-profiling, pandas-profiling\n",
            "  Attempting uninstall: pydantic\n",
            "    Found existing installation: pydantic 2.2.1\n",
            "    Uninstalling pydantic-2.2.1:\n",
            "      Successfully uninstalled pydantic-2.2.1\n",
            "Successfully installed dacite-1.8.1 htmlmin-0.1.12 imagehash-4.3.1 multimethod-1.9.1 pandas-profiling-3.6.6 phik-0.12.3 pydantic-1.10.12 tangled-up-in-unicode-0.2.0 typeguard-2.13.3 visions-0.7.5 ydata-profiling-4.5.1\n"
          ]
        }
      ]
    },
    {
      "cell_type": "code",
      "source": [
        "pip install ydata-profiling"
      ],
      "metadata": {
        "id": "DG94o30q1hSy",
        "outputId": "dc11b2ce-89eb-42a0-b497-1454941279b2",
        "colab": {
          "base_uri": "https://localhost:8080/"
        }
      },
      "id": "DG94o30q1hSy",
      "execution_count": 155,
      "outputs": [
        {
          "output_type": "stream",
          "name": "stdout",
          "text": [
            "Requirement already satisfied: ydata-profiling in /usr/local/lib/python3.10/dist-packages (4.5.1)\n",
            "Requirement already satisfied: scipy<1.12,>=1.4.1 in /usr/local/lib/python3.10/dist-packages (from ydata-profiling) (1.10.1)\n",
            "Requirement already satisfied: pandas!=1.4.0,<2.1,>1.1 in /usr/local/lib/python3.10/dist-packages (from ydata-profiling) (1.5.3)\n",
            "Requirement already satisfied: matplotlib<4,>=3.2 in /usr/local/lib/python3.10/dist-packages (from ydata-profiling) (3.7.1)\n",
            "Requirement already satisfied: pydantic<2,>=1.8.1 in /usr/local/lib/python3.10/dist-packages (from ydata-profiling) (1.10.12)\n",
            "Requirement already satisfied: PyYAML<6.1,>=5.0.0 in /usr/local/lib/python3.10/dist-packages (from ydata-profiling) (6.0.1)\n",
            "Requirement already satisfied: jinja2<3.2,>=2.11.1 in /usr/local/lib/python3.10/dist-packages (from ydata-profiling) (3.1.2)\n",
            "Requirement already satisfied: visions[type_image_path]==0.7.5 in /usr/local/lib/python3.10/dist-packages (from ydata-profiling) (0.7.5)\n",
            "Requirement already satisfied: numpy<1.24,>=1.16.0 in /usr/local/lib/python3.10/dist-packages (from ydata-profiling) (1.23.5)\n",
            "Requirement already satisfied: htmlmin==0.1.12 in /usr/local/lib/python3.10/dist-packages (from ydata-profiling) (0.1.12)\n",
            "Requirement already satisfied: phik<0.13,>=0.11.1 in /usr/local/lib/python3.10/dist-packages (from ydata-profiling) (0.12.3)\n",
            "Requirement already satisfied: requests<3,>=2.24.0 in /usr/local/lib/python3.10/dist-packages (from ydata-profiling) (2.31.0)\n",
            "Requirement already satisfied: tqdm<5,>=4.48.2 in /usr/local/lib/python3.10/dist-packages (from ydata-profiling) (4.66.1)\n",
            "Requirement already satisfied: seaborn<0.13,>=0.10.1 in /usr/local/lib/python3.10/dist-packages (from ydata-profiling) (0.12.2)\n",
            "Requirement already satisfied: multimethod<2,>=1.4 in /usr/local/lib/python3.10/dist-packages (from ydata-profiling) (1.9.1)\n",
            "Requirement already satisfied: statsmodels<1,>=0.13.2 in /usr/local/lib/python3.10/dist-packages (from ydata-profiling) (0.14.0)\n",
            "Requirement already satisfied: typeguard<3,>=2.13.2 in /usr/local/lib/python3.10/dist-packages (from ydata-profiling) (2.13.3)\n",
            "Requirement already satisfied: imagehash==4.3.1 in /usr/local/lib/python3.10/dist-packages (from ydata-profiling) (4.3.1)\n",
            "Requirement already satisfied: wordcloud>=1.9.1 in /usr/local/lib/python3.10/dist-packages (from ydata-profiling) (1.9.2)\n",
            "Requirement already satisfied: dacite>=1.8 in /usr/local/lib/python3.10/dist-packages (from ydata-profiling) (1.8.1)\n",
            "Requirement already satisfied: PyWavelets in /usr/local/lib/python3.10/dist-packages (from imagehash==4.3.1->ydata-profiling) (1.4.1)\n",
            "Requirement already satisfied: pillow in /usr/local/lib/python3.10/dist-packages (from imagehash==4.3.1->ydata-profiling) (9.4.0)\n",
            "Requirement already satisfied: attrs>=19.3.0 in /usr/local/lib/python3.10/dist-packages (from visions[type_image_path]==0.7.5->ydata-profiling) (23.1.0)\n",
            "Requirement already satisfied: networkx>=2.4 in /usr/local/lib/python3.10/dist-packages (from visions[type_image_path]==0.7.5->ydata-profiling) (3.1)\n",
            "Requirement already satisfied: tangled-up-in-unicode>=0.0.4 in /usr/local/lib/python3.10/dist-packages (from visions[type_image_path]==0.7.5->ydata-profiling) (0.2.0)\n",
            "Requirement already satisfied: MarkupSafe>=2.0 in /usr/local/lib/python3.10/dist-packages (from jinja2<3.2,>=2.11.1->ydata-profiling) (2.1.3)\n",
            "Requirement already satisfied: contourpy>=1.0.1 in /usr/local/lib/python3.10/dist-packages (from matplotlib<4,>=3.2->ydata-profiling) (1.1.0)\n",
            "Requirement already satisfied: cycler>=0.10 in /usr/local/lib/python3.10/dist-packages (from matplotlib<4,>=3.2->ydata-profiling) (0.11.0)\n",
            "Requirement already satisfied: fonttools>=4.22.0 in /usr/local/lib/python3.10/dist-packages (from matplotlib<4,>=3.2->ydata-profiling) (4.42.1)\n",
            "Requirement already satisfied: kiwisolver>=1.0.1 in /usr/local/lib/python3.10/dist-packages (from matplotlib<4,>=3.2->ydata-profiling) (1.4.4)\n",
            "Requirement already satisfied: packaging>=20.0 in /usr/local/lib/python3.10/dist-packages (from matplotlib<4,>=3.2->ydata-profiling) (23.1)\n",
            "Requirement already satisfied: pyparsing>=2.3.1 in /usr/local/lib/python3.10/dist-packages (from matplotlib<4,>=3.2->ydata-profiling) (3.1.1)\n",
            "Requirement already satisfied: python-dateutil>=2.7 in /usr/local/lib/python3.10/dist-packages (from matplotlib<4,>=3.2->ydata-profiling) (2.8.2)\n",
            "Requirement already satisfied: pytz>=2020.1 in /usr/local/lib/python3.10/dist-packages (from pandas!=1.4.0,<2.1,>1.1->ydata-profiling) (2023.3)\n",
            "Requirement already satisfied: joblib>=0.14.1 in /usr/local/lib/python3.10/dist-packages (from phik<0.13,>=0.11.1->ydata-profiling) (1.3.2)\n",
            "Requirement already satisfied: typing-extensions>=4.2.0 in /usr/local/lib/python3.10/dist-packages (from pydantic<2,>=1.8.1->ydata-profiling) (4.7.1)\n",
            "Requirement already satisfied: charset-normalizer<4,>=2 in /usr/local/lib/python3.10/dist-packages (from requests<3,>=2.24.0->ydata-profiling) (3.2.0)\n",
            "Requirement already satisfied: idna<4,>=2.5 in /usr/local/lib/python3.10/dist-packages (from requests<3,>=2.24.0->ydata-profiling) (3.4)\n",
            "Requirement already satisfied: urllib3<3,>=1.21.1 in /usr/local/lib/python3.10/dist-packages (from requests<3,>=2.24.0->ydata-profiling) (2.0.4)\n",
            "Requirement already satisfied: certifi>=2017.4.17 in /usr/local/lib/python3.10/dist-packages (from requests<3,>=2.24.0->ydata-profiling) (2023.7.22)\n",
            "Requirement already satisfied: patsy>=0.5.2 in /usr/local/lib/python3.10/dist-packages (from statsmodels<1,>=0.13.2->ydata-profiling) (0.5.3)\n",
            "Requirement already satisfied: six in /usr/local/lib/python3.10/dist-packages (from patsy>=0.5.2->statsmodels<1,>=0.13.2->ydata-profiling) (1.16.0)\n"
          ]
        }
      ]
    },
    {
      "cell_type": "code",
      "source": [
        "from pandas_profiling import ProfileReport"
      ],
      "metadata": {
        "id": "Xfdlw0RGyr6a"
      },
      "id": "Xfdlw0RGyr6a",
      "execution_count": 141,
      "outputs": []
    },
    {
      "cell_type": "code",
      "source": [
        "from ydata_profiling import ProfileReport"
      ],
      "metadata": {
        "id": "oHhEcCMw1I_j"
      },
      "id": "oHhEcCMw1I_j",
      "execution_count": 153,
      "outputs": []
    },
    {
      "cell_type": "code",
      "source": [
        "# from pandas_profiling import ProfileReport\n",
        "# from ydata_profiling import ProfileReport\n"
      ],
      "metadata": {
        "id": "IrykJ3Qwy_n3"
      },
      "id": "IrykJ3Qwy_n3",
      "execution_count": 156,
      "outputs": []
    },
    {
      "cell_type": "code",
      "source": [
        "# forming ProfileReport and save\n",
        "# as output.html file\n",
        "profile = ProfileReport(data)\n",
        "profile"
      ],
      "metadata": {
        "id": "3JHqhtXazxRW",
        "outputId": "bbb7e1de-b627-4003-99e2-7872323e54ba",
        "colab": {
          "base_uri": "https://localhost:8080/",
          "height": 228
        }
      },
      "id": "3JHqhtXazxRW",
      "execution_count": 159,
      "outputs": [
        {
          "output_type": "error",
          "ename": "NameError",
          "evalue": "ignored",
          "traceback": [
            "\u001b[0;31m---------------------------------------------------------------------------\u001b[0m",
            "\u001b[0;31mNameError\u001b[0m                                 Traceback (most recent call last)",
            "\u001b[0;32m<ipython-input-159-0345320006f8>\u001b[0m in \u001b[0;36m<cell line: 3>\u001b[0;34m()\u001b[0m\n\u001b[1;32m      1\u001b[0m \u001b[0;31m# forming ProfileReport and save\u001b[0m\u001b[0;34m\u001b[0m\u001b[0;34m\u001b[0m\u001b[0m\n\u001b[1;32m      2\u001b[0m \u001b[0;31m# as output.html file\u001b[0m\u001b[0;34m\u001b[0m\u001b[0;34m\u001b[0m\u001b[0m\n\u001b[0;32m----> 3\u001b[0;31m \u001b[0mprofile\u001b[0m \u001b[0;34m=\u001b[0m \u001b[0mProfileReport\u001b[0m\u001b[0;34m(\u001b[0m\u001b[0mdata\u001b[0m\u001b[0;34m)\u001b[0m\u001b[0;34m\u001b[0m\u001b[0;34m\u001b[0m\u001b[0m\n\u001b[0m\u001b[1;32m      4\u001b[0m \u001b[0mprofile\u001b[0m\u001b[0;34m\u001b[0m\u001b[0;34m\u001b[0m\u001b[0m\n",
            "\u001b[0;31mNameError\u001b[0m: name 'data' is not defined"
          ]
        }
      ]
    },
    {
      "cell_type": "code",
      "source": [
        "df.describe()"
      ],
      "metadata": {
        "colab": {
          "base_uri": "https://localhost:8080/",
          "height": 300
        },
        "id": "bikkMgN7Zye8",
        "outputId": "32ffa433-a059-4312-a614-bf82d967871d"
      },
      "id": "bikkMgN7Zye8",
      "execution_count": 161,
      "outputs": [
        {
          "output_type": "execute_result",
          "data": {
            "text/plain": [
              "             No        Age\n",
              "count  5.000000   5.000000\n",
              "mean   3.000000  38.400000\n",
              "std    1.581139  15.404545\n",
              "min    1.000000  23.000000\n",
              "25%    2.000000  30.000000\n",
              "50%    3.000000  32.000000\n",
              "75%    4.000000  45.000000\n",
              "max    5.000000  62.000000"
            ],
            "text/html": [
              "\n",
              "  <div id=\"df-916f029e-d8b9-43ed-9951-cbd88abcff05\" class=\"colab-df-container\">\n",
              "    <div>\n",
              "<style scoped>\n",
              "    .dataframe tbody tr th:only-of-type {\n",
              "        vertical-align: middle;\n",
              "    }\n",
              "\n",
              "    .dataframe tbody tr th {\n",
              "        vertical-align: top;\n",
              "    }\n",
              "\n",
              "    .dataframe thead th {\n",
              "        text-align: right;\n",
              "    }\n",
              "</style>\n",
              "<table border=\"1\" class=\"dataframe\">\n",
              "  <thead>\n",
              "    <tr style=\"text-align: right;\">\n",
              "      <th></th>\n",
              "      <th>No</th>\n",
              "      <th>Age</th>\n",
              "    </tr>\n",
              "  </thead>\n",
              "  <tbody>\n",
              "    <tr>\n",
              "      <th>count</th>\n",
              "      <td>5.000000</td>\n",
              "      <td>5.000000</td>\n",
              "    </tr>\n",
              "    <tr>\n",
              "      <th>mean</th>\n",
              "      <td>3.000000</td>\n",
              "      <td>38.400000</td>\n",
              "    </tr>\n",
              "    <tr>\n",
              "      <th>std</th>\n",
              "      <td>1.581139</td>\n",
              "      <td>15.404545</td>\n",
              "    </tr>\n",
              "    <tr>\n",
              "      <th>min</th>\n",
              "      <td>1.000000</td>\n",
              "      <td>23.000000</td>\n",
              "    </tr>\n",
              "    <tr>\n",
              "      <th>25%</th>\n",
              "      <td>2.000000</td>\n",
              "      <td>30.000000</td>\n",
              "    </tr>\n",
              "    <tr>\n",
              "      <th>50%</th>\n",
              "      <td>3.000000</td>\n",
              "      <td>32.000000</td>\n",
              "    </tr>\n",
              "    <tr>\n",
              "      <th>75%</th>\n",
              "      <td>4.000000</td>\n",
              "      <td>45.000000</td>\n",
              "    </tr>\n",
              "    <tr>\n",
              "      <th>max</th>\n",
              "      <td>5.000000</td>\n",
              "      <td>62.000000</td>\n",
              "    </tr>\n",
              "  </tbody>\n",
              "</table>\n",
              "</div>\n",
              "    <div class=\"colab-df-buttons\">\n",
              "\n",
              "  <div class=\"colab-df-container\">\n",
              "    <button class=\"colab-df-convert\" onclick=\"convertToInteractive('df-916f029e-d8b9-43ed-9951-cbd88abcff05')\"\n",
              "            title=\"Convert this dataframe to an interactive table.\"\n",
              "            style=\"display:none;\">\n",
              "\n",
              "  <svg xmlns=\"http://www.w3.org/2000/svg\" height=\"24px\" viewBox=\"0 -960 960 960\">\n",
              "    <path d=\"M120-120v-720h720v720H120Zm60-500h600v-160H180v160Zm220 220h160v-160H400v160Zm0 220h160v-160H400v160ZM180-400h160v-160H180v160Zm440 0h160v-160H620v160ZM180-180h160v-160H180v160Zm440 0h160v-160H620v160Z\"/>\n",
              "  </svg>\n",
              "    </button>\n",
              "\n",
              "  <style>\n",
              "    .colab-df-container {\n",
              "      display:flex;\n",
              "      gap: 12px;\n",
              "    }\n",
              "\n",
              "    .colab-df-convert {\n",
              "      background-color: #E8F0FE;\n",
              "      border: none;\n",
              "      border-radius: 50%;\n",
              "      cursor: pointer;\n",
              "      display: none;\n",
              "      fill: #1967D2;\n",
              "      height: 32px;\n",
              "      padding: 0 0 0 0;\n",
              "      width: 32px;\n",
              "    }\n",
              "\n",
              "    .colab-df-convert:hover {\n",
              "      background-color: #E2EBFA;\n",
              "      box-shadow: 0px 1px 2px rgba(60, 64, 67, 0.3), 0px 1px 3px 1px rgba(60, 64, 67, 0.15);\n",
              "      fill: #174EA6;\n",
              "    }\n",
              "\n",
              "    .colab-df-buttons div {\n",
              "      margin-bottom: 4px;\n",
              "    }\n",
              "\n",
              "    [theme=dark] .colab-df-convert {\n",
              "      background-color: #3B4455;\n",
              "      fill: #D2E3FC;\n",
              "    }\n",
              "\n",
              "    [theme=dark] .colab-df-convert:hover {\n",
              "      background-color: #434B5C;\n",
              "      box-shadow: 0px 1px 3px 1px rgba(0, 0, 0, 0.15);\n",
              "      filter: drop-shadow(0px 1px 2px rgba(0, 0, 0, 0.3));\n",
              "      fill: #FFFFFF;\n",
              "    }\n",
              "  </style>\n",
              "\n",
              "    <script>\n",
              "      const buttonEl =\n",
              "        document.querySelector('#df-916f029e-d8b9-43ed-9951-cbd88abcff05 button.colab-df-convert');\n",
              "      buttonEl.style.display =\n",
              "        google.colab.kernel.accessAllowed ? 'block' : 'none';\n",
              "\n",
              "      async function convertToInteractive(key) {\n",
              "        const element = document.querySelector('#df-916f029e-d8b9-43ed-9951-cbd88abcff05');\n",
              "        const dataTable =\n",
              "          await google.colab.kernel.invokeFunction('convertToInteractive',\n",
              "                                                    [key], {});\n",
              "        if (!dataTable) return;\n",
              "\n",
              "        const docLinkHtml = 'Like what you see? Visit the ' +\n",
              "          '<a target=\"_blank\" href=https://colab.research.google.com/notebooks/data_table.ipynb>data table notebook</a>'\n",
              "          + ' to learn more about interactive tables.';\n",
              "        element.innerHTML = '';\n",
              "        dataTable['output_type'] = 'display_data';\n",
              "        await google.colab.output.renderOutput(dataTable, element);\n",
              "        const docLink = document.createElement('div');\n",
              "        docLink.innerHTML = docLinkHtml;\n",
              "        element.appendChild(docLink);\n",
              "      }\n",
              "    </script>\n",
              "  </div>\n",
              "\n",
              "\n",
              "<div id=\"df-c5a0c296-bd9a-473d-b039-9b940c9bc909\">\n",
              "  <button class=\"colab-df-quickchart\" onclick=\"quickchart('df-c5a0c296-bd9a-473d-b039-9b940c9bc909')\"\n",
              "            title=\"Suggest charts.\"\n",
              "            style=\"display:none;\">\n",
              "\n",
              "<svg xmlns=\"http://www.w3.org/2000/svg\" height=\"24px\"viewBox=\"0 0 24 24\"\n",
              "     width=\"24px\">\n",
              "    <g>\n",
              "        <path d=\"M19 3H5c-1.1 0-2 .9-2 2v14c0 1.1.9 2 2 2h14c1.1 0 2-.9 2-2V5c0-1.1-.9-2-2-2zM9 17H7v-7h2v7zm4 0h-2V7h2v10zm4 0h-2v-4h2v4z\"/>\n",
              "    </g>\n",
              "</svg>\n",
              "  </button>\n",
              "\n",
              "<style>\n",
              "  .colab-df-quickchart {\n",
              "      --bg-color: #E8F0FE;\n",
              "      --fill-color: #1967D2;\n",
              "      --hover-bg-color: #E2EBFA;\n",
              "      --hover-fill-color: #174EA6;\n",
              "      --disabled-fill-color: #AAA;\n",
              "      --disabled-bg-color: #DDD;\n",
              "  }\n",
              "\n",
              "  [theme=dark] .colab-df-quickchart {\n",
              "      --bg-color: #3B4455;\n",
              "      --fill-color: #D2E3FC;\n",
              "      --hover-bg-color: #434B5C;\n",
              "      --hover-fill-color: #FFFFFF;\n",
              "      --disabled-bg-color: #3B4455;\n",
              "      --disabled-fill-color: #666;\n",
              "  }\n",
              "\n",
              "  .colab-df-quickchart {\n",
              "    background-color: var(--bg-color);\n",
              "    border: none;\n",
              "    border-radius: 50%;\n",
              "    cursor: pointer;\n",
              "    display: none;\n",
              "    fill: var(--fill-color);\n",
              "    height: 32px;\n",
              "    padding: 0;\n",
              "    width: 32px;\n",
              "  }\n",
              "\n",
              "  .colab-df-quickchart:hover {\n",
              "    background-color: var(--hover-bg-color);\n",
              "    box-shadow: 0 1px 2px rgba(60, 64, 67, 0.3), 0 1px 3px 1px rgba(60, 64, 67, 0.15);\n",
              "    fill: var(--button-hover-fill-color);\n",
              "  }\n",
              "\n",
              "  .colab-df-quickchart-complete:disabled,\n",
              "  .colab-df-quickchart-complete:disabled:hover {\n",
              "    background-color: var(--disabled-bg-color);\n",
              "    fill: var(--disabled-fill-color);\n",
              "    box-shadow: none;\n",
              "  }\n",
              "\n",
              "  .colab-df-spinner {\n",
              "    border: 2px solid var(--fill-color);\n",
              "    border-color: transparent;\n",
              "    border-bottom-color: var(--fill-color);\n",
              "    animation:\n",
              "      spin 1s steps(1) infinite;\n",
              "  }\n",
              "\n",
              "  @keyframes spin {\n",
              "    0% {\n",
              "      border-color: transparent;\n",
              "      border-bottom-color: var(--fill-color);\n",
              "      border-left-color: var(--fill-color);\n",
              "    }\n",
              "    20% {\n",
              "      border-color: transparent;\n",
              "      border-left-color: var(--fill-color);\n",
              "      border-top-color: var(--fill-color);\n",
              "    }\n",
              "    30% {\n",
              "      border-color: transparent;\n",
              "      border-left-color: var(--fill-color);\n",
              "      border-top-color: var(--fill-color);\n",
              "      border-right-color: var(--fill-color);\n",
              "    }\n",
              "    40% {\n",
              "      border-color: transparent;\n",
              "      border-right-color: var(--fill-color);\n",
              "      border-top-color: var(--fill-color);\n",
              "    }\n",
              "    60% {\n",
              "      border-color: transparent;\n",
              "      border-right-color: var(--fill-color);\n",
              "    }\n",
              "    80% {\n",
              "      border-color: transparent;\n",
              "      border-right-color: var(--fill-color);\n",
              "      border-bottom-color: var(--fill-color);\n",
              "    }\n",
              "    90% {\n",
              "      border-color: transparent;\n",
              "      border-bottom-color: var(--fill-color);\n",
              "    }\n",
              "  }\n",
              "</style>\n",
              "\n",
              "  <script>\n",
              "    async function quickchart(key) {\n",
              "      const quickchartButtonEl =\n",
              "        document.querySelector('#' + key + ' button');\n",
              "      quickchartButtonEl.disabled = true;  // To prevent multiple clicks.\n",
              "      quickchartButtonEl.classList.add('colab-df-spinner');\n",
              "      try {\n",
              "        const charts = await google.colab.kernel.invokeFunction(\n",
              "            'suggestCharts', [key], {});\n",
              "      } catch (error) {\n",
              "        console.error('Error during call to suggestCharts:', error);\n",
              "      }\n",
              "      quickchartButtonEl.classList.remove('colab-df-spinner');\n",
              "      quickchartButtonEl.classList.add('colab-df-quickchart-complete');\n",
              "    }\n",
              "    (() => {\n",
              "      let quickchartButtonEl =\n",
              "        document.querySelector('#df-c5a0c296-bd9a-473d-b039-9b940c9bc909 button');\n",
              "      quickchartButtonEl.style.display =\n",
              "        google.colab.kernel.accessAllowed ? 'block' : 'none';\n",
              "    })();\n",
              "  </script>\n",
              "</div>\n",
              "    </div>\n",
              "  </div>\n"
            ]
          },
          "metadata": {},
          "execution_count": 161
        }
      ]
    },
    {
      "cell_type": "code",
      "source": [
        "df.describe(include='all')"
      ],
      "metadata": {
        "colab": {
          "base_uri": "https://localhost:8080/",
          "height": 394
        },
        "id": "02bfvDzPZ6ff",
        "outputId": "a7ca5dd5-0c76-4d60-b179-ce5071d7cd0b"
      },
      "id": "02bfvDzPZ6ff",
      "execution_count": 160,
      "outputs": [
        {
          "output_type": "execute_result",
          "data": {
            "text/plain": [
              "              No     Name        Age\n",
              "count   5.000000        5   5.000000\n",
              "unique       NaN        5        NaN\n",
              "top          NaN  สมบูรณ์        NaN\n",
              "freq         NaN        1        NaN\n",
              "mean    3.000000      NaN  38.400000\n",
              "std     1.581139      NaN  15.404545\n",
              "min     1.000000      NaN  23.000000\n",
              "25%     2.000000      NaN  30.000000\n",
              "50%     3.000000      NaN  32.000000\n",
              "75%     4.000000      NaN  45.000000\n",
              "max     5.000000      NaN  62.000000"
            ],
            "text/html": [
              "\n",
              "  <div id=\"df-5d4598f3-3e8d-4308-89fb-98f6d8ad90c0\" class=\"colab-df-container\">\n",
              "    <div>\n",
              "<style scoped>\n",
              "    .dataframe tbody tr th:only-of-type {\n",
              "        vertical-align: middle;\n",
              "    }\n",
              "\n",
              "    .dataframe tbody tr th {\n",
              "        vertical-align: top;\n",
              "    }\n",
              "\n",
              "    .dataframe thead th {\n",
              "        text-align: right;\n",
              "    }\n",
              "</style>\n",
              "<table border=\"1\" class=\"dataframe\">\n",
              "  <thead>\n",
              "    <tr style=\"text-align: right;\">\n",
              "      <th></th>\n",
              "      <th>No</th>\n",
              "      <th>Name</th>\n",
              "      <th>Age</th>\n",
              "    </tr>\n",
              "  </thead>\n",
              "  <tbody>\n",
              "    <tr>\n",
              "      <th>count</th>\n",
              "      <td>5.000000</td>\n",
              "      <td>5</td>\n",
              "      <td>5.000000</td>\n",
              "    </tr>\n",
              "    <tr>\n",
              "      <th>unique</th>\n",
              "      <td>NaN</td>\n",
              "      <td>5</td>\n",
              "      <td>NaN</td>\n",
              "    </tr>\n",
              "    <tr>\n",
              "      <th>top</th>\n",
              "      <td>NaN</td>\n",
              "      <td>สมบูรณ์</td>\n",
              "      <td>NaN</td>\n",
              "    </tr>\n",
              "    <tr>\n",
              "      <th>freq</th>\n",
              "      <td>NaN</td>\n",
              "      <td>1</td>\n",
              "      <td>NaN</td>\n",
              "    </tr>\n",
              "    <tr>\n",
              "      <th>mean</th>\n",
              "      <td>3.000000</td>\n",
              "      <td>NaN</td>\n",
              "      <td>38.400000</td>\n",
              "    </tr>\n",
              "    <tr>\n",
              "      <th>std</th>\n",
              "      <td>1.581139</td>\n",
              "      <td>NaN</td>\n",
              "      <td>15.404545</td>\n",
              "    </tr>\n",
              "    <tr>\n",
              "      <th>min</th>\n",
              "      <td>1.000000</td>\n",
              "      <td>NaN</td>\n",
              "      <td>23.000000</td>\n",
              "    </tr>\n",
              "    <tr>\n",
              "      <th>25%</th>\n",
              "      <td>2.000000</td>\n",
              "      <td>NaN</td>\n",
              "      <td>30.000000</td>\n",
              "    </tr>\n",
              "    <tr>\n",
              "      <th>50%</th>\n",
              "      <td>3.000000</td>\n",
              "      <td>NaN</td>\n",
              "      <td>32.000000</td>\n",
              "    </tr>\n",
              "    <tr>\n",
              "      <th>75%</th>\n",
              "      <td>4.000000</td>\n",
              "      <td>NaN</td>\n",
              "      <td>45.000000</td>\n",
              "    </tr>\n",
              "    <tr>\n",
              "      <th>max</th>\n",
              "      <td>5.000000</td>\n",
              "      <td>NaN</td>\n",
              "      <td>62.000000</td>\n",
              "    </tr>\n",
              "  </tbody>\n",
              "</table>\n",
              "</div>\n",
              "    <div class=\"colab-df-buttons\">\n",
              "\n",
              "  <div class=\"colab-df-container\">\n",
              "    <button class=\"colab-df-convert\" onclick=\"convertToInteractive('df-5d4598f3-3e8d-4308-89fb-98f6d8ad90c0')\"\n",
              "            title=\"Convert this dataframe to an interactive table.\"\n",
              "            style=\"display:none;\">\n",
              "\n",
              "  <svg xmlns=\"http://www.w3.org/2000/svg\" height=\"24px\" viewBox=\"0 -960 960 960\">\n",
              "    <path d=\"M120-120v-720h720v720H120Zm60-500h600v-160H180v160Zm220 220h160v-160H400v160Zm0 220h160v-160H400v160ZM180-400h160v-160H180v160Zm440 0h160v-160H620v160ZM180-180h160v-160H180v160Zm440 0h160v-160H620v160Z\"/>\n",
              "  </svg>\n",
              "    </button>\n",
              "\n",
              "  <style>\n",
              "    .colab-df-container {\n",
              "      display:flex;\n",
              "      gap: 12px;\n",
              "    }\n",
              "\n",
              "    .colab-df-convert {\n",
              "      background-color: #E8F0FE;\n",
              "      border: none;\n",
              "      border-radius: 50%;\n",
              "      cursor: pointer;\n",
              "      display: none;\n",
              "      fill: #1967D2;\n",
              "      height: 32px;\n",
              "      padding: 0 0 0 0;\n",
              "      width: 32px;\n",
              "    }\n",
              "\n",
              "    .colab-df-convert:hover {\n",
              "      background-color: #E2EBFA;\n",
              "      box-shadow: 0px 1px 2px rgba(60, 64, 67, 0.3), 0px 1px 3px 1px rgba(60, 64, 67, 0.15);\n",
              "      fill: #174EA6;\n",
              "    }\n",
              "\n",
              "    .colab-df-buttons div {\n",
              "      margin-bottom: 4px;\n",
              "    }\n",
              "\n",
              "    [theme=dark] .colab-df-convert {\n",
              "      background-color: #3B4455;\n",
              "      fill: #D2E3FC;\n",
              "    }\n",
              "\n",
              "    [theme=dark] .colab-df-convert:hover {\n",
              "      background-color: #434B5C;\n",
              "      box-shadow: 0px 1px 3px 1px rgba(0, 0, 0, 0.15);\n",
              "      filter: drop-shadow(0px 1px 2px rgba(0, 0, 0, 0.3));\n",
              "      fill: #FFFFFF;\n",
              "    }\n",
              "  </style>\n",
              "\n",
              "    <script>\n",
              "      const buttonEl =\n",
              "        document.querySelector('#df-5d4598f3-3e8d-4308-89fb-98f6d8ad90c0 button.colab-df-convert');\n",
              "      buttonEl.style.display =\n",
              "        google.colab.kernel.accessAllowed ? 'block' : 'none';\n",
              "\n",
              "      async function convertToInteractive(key) {\n",
              "        const element = document.querySelector('#df-5d4598f3-3e8d-4308-89fb-98f6d8ad90c0');\n",
              "        const dataTable =\n",
              "          await google.colab.kernel.invokeFunction('convertToInteractive',\n",
              "                                                    [key], {});\n",
              "        if (!dataTable) return;\n",
              "\n",
              "        const docLinkHtml = 'Like what you see? Visit the ' +\n",
              "          '<a target=\"_blank\" href=https://colab.research.google.com/notebooks/data_table.ipynb>data table notebook</a>'\n",
              "          + ' to learn more about interactive tables.';\n",
              "        element.innerHTML = '';\n",
              "        dataTable['output_type'] = 'display_data';\n",
              "        await google.colab.output.renderOutput(dataTable, element);\n",
              "        const docLink = document.createElement('div');\n",
              "        docLink.innerHTML = docLinkHtml;\n",
              "        element.appendChild(docLink);\n",
              "      }\n",
              "    </script>\n",
              "  </div>\n",
              "\n",
              "\n",
              "<div id=\"df-974b3896-ffe7-4c40-88fa-d5417480a38b\">\n",
              "  <button class=\"colab-df-quickchart\" onclick=\"quickchart('df-974b3896-ffe7-4c40-88fa-d5417480a38b')\"\n",
              "            title=\"Suggest charts.\"\n",
              "            style=\"display:none;\">\n",
              "\n",
              "<svg xmlns=\"http://www.w3.org/2000/svg\" height=\"24px\"viewBox=\"0 0 24 24\"\n",
              "     width=\"24px\">\n",
              "    <g>\n",
              "        <path d=\"M19 3H5c-1.1 0-2 .9-2 2v14c0 1.1.9 2 2 2h14c1.1 0 2-.9 2-2V5c0-1.1-.9-2-2-2zM9 17H7v-7h2v7zm4 0h-2V7h2v10zm4 0h-2v-4h2v4z\"/>\n",
              "    </g>\n",
              "</svg>\n",
              "  </button>\n",
              "\n",
              "<style>\n",
              "  .colab-df-quickchart {\n",
              "      --bg-color: #E8F0FE;\n",
              "      --fill-color: #1967D2;\n",
              "      --hover-bg-color: #E2EBFA;\n",
              "      --hover-fill-color: #174EA6;\n",
              "      --disabled-fill-color: #AAA;\n",
              "      --disabled-bg-color: #DDD;\n",
              "  }\n",
              "\n",
              "  [theme=dark] .colab-df-quickchart {\n",
              "      --bg-color: #3B4455;\n",
              "      --fill-color: #D2E3FC;\n",
              "      --hover-bg-color: #434B5C;\n",
              "      --hover-fill-color: #FFFFFF;\n",
              "      --disabled-bg-color: #3B4455;\n",
              "      --disabled-fill-color: #666;\n",
              "  }\n",
              "\n",
              "  .colab-df-quickchart {\n",
              "    background-color: var(--bg-color);\n",
              "    border: none;\n",
              "    border-radius: 50%;\n",
              "    cursor: pointer;\n",
              "    display: none;\n",
              "    fill: var(--fill-color);\n",
              "    height: 32px;\n",
              "    padding: 0;\n",
              "    width: 32px;\n",
              "  }\n",
              "\n",
              "  .colab-df-quickchart:hover {\n",
              "    background-color: var(--hover-bg-color);\n",
              "    box-shadow: 0 1px 2px rgba(60, 64, 67, 0.3), 0 1px 3px 1px rgba(60, 64, 67, 0.15);\n",
              "    fill: var(--button-hover-fill-color);\n",
              "  }\n",
              "\n",
              "  .colab-df-quickchart-complete:disabled,\n",
              "  .colab-df-quickchart-complete:disabled:hover {\n",
              "    background-color: var(--disabled-bg-color);\n",
              "    fill: var(--disabled-fill-color);\n",
              "    box-shadow: none;\n",
              "  }\n",
              "\n",
              "  .colab-df-spinner {\n",
              "    border: 2px solid var(--fill-color);\n",
              "    border-color: transparent;\n",
              "    border-bottom-color: var(--fill-color);\n",
              "    animation:\n",
              "      spin 1s steps(1) infinite;\n",
              "  }\n",
              "\n",
              "  @keyframes spin {\n",
              "    0% {\n",
              "      border-color: transparent;\n",
              "      border-bottom-color: var(--fill-color);\n",
              "      border-left-color: var(--fill-color);\n",
              "    }\n",
              "    20% {\n",
              "      border-color: transparent;\n",
              "      border-left-color: var(--fill-color);\n",
              "      border-top-color: var(--fill-color);\n",
              "    }\n",
              "    30% {\n",
              "      border-color: transparent;\n",
              "      border-left-color: var(--fill-color);\n",
              "      border-top-color: var(--fill-color);\n",
              "      border-right-color: var(--fill-color);\n",
              "    }\n",
              "    40% {\n",
              "      border-color: transparent;\n",
              "      border-right-color: var(--fill-color);\n",
              "      border-top-color: var(--fill-color);\n",
              "    }\n",
              "    60% {\n",
              "      border-color: transparent;\n",
              "      border-right-color: var(--fill-color);\n",
              "    }\n",
              "    80% {\n",
              "      border-color: transparent;\n",
              "      border-right-color: var(--fill-color);\n",
              "      border-bottom-color: var(--fill-color);\n",
              "    }\n",
              "    90% {\n",
              "      border-color: transparent;\n",
              "      border-bottom-color: var(--fill-color);\n",
              "    }\n",
              "  }\n",
              "</style>\n",
              "\n",
              "  <script>\n",
              "    async function quickchart(key) {\n",
              "      const quickchartButtonEl =\n",
              "        document.querySelector('#' + key + ' button');\n",
              "      quickchartButtonEl.disabled = true;  // To prevent multiple clicks.\n",
              "      quickchartButtonEl.classList.add('colab-df-spinner');\n",
              "      try {\n",
              "        const charts = await google.colab.kernel.invokeFunction(\n",
              "            'suggestCharts', [key], {});\n",
              "      } catch (error) {\n",
              "        console.error('Error during call to suggestCharts:', error);\n",
              "      }\n",
              "      quickchartButtonEl.classList.remove('colab-df-spinner');\n",
              "      quickchartButtonEl.classList.add('colab-df-quickchart-complete');\n",
              "    }\n",
              "    (() => {\n",
              "      let quickchartButtonEl =\n",
              "        document.querySelector('#df-974b3896-ffe7-4c40-88fa-d5417480a38b button');\n",
              "      quickchartButtonEl.style.display =\n",
              "        google.colab.kernel.accessAllowed ? 'block' : 'none';\n",
              "    })();\n",
              "  </script>\n",
              "</div>\n",
              "    </div>\n",
              "  </div>\n"
            ]
          },
          "metadata": {},
          "execution_count": 160
        }
      ]
    },
    {
      "cell_type": "markdown",
      "source": [
        "### Selecting data"
      ],
      "metadata": {
        "id": "2HCyw8OOgAhF"
      },
      "id": "2HCyw8OOgAhF"
    },
    {
      "cell_type": "code",
      "source": [
        "df"
      ],
      "metadata": {
        "colab": {
          "base_uri": "https://localhost:8080/",
          "height": 206
        },
        "id": "GVe0D47HadJ6",
        "outputId": "5525abd9-dde2-4658-fcbc-4d64d7909695"
      },
      "id": "GVe0D47HadJ6",
      "execution_count": 163,
      "outputs": [
        {
          "output_type": "execute_result",
          "data": {
            "text/plain": [
              "   No     Name  Age\n",
              "0   1  สมบูรณ์   23\n",
              "1   2    สมชาย   45\n",
              "2   3   สมหญิง   62\n",
              "3   4   สมหมาย   30\n",
              "4   5   สมบัติ   32"
            ],
            "text/html": [
              "\n",
              "  <div id=\"df-f8dc1353-e6da-440e-aa67-8ddd92c35e71\" class=\"colab-df-container\">\n",
              "    <div>\n",
              "<style scoped>\n",
              "    .dataframe tbody tr th:only-of-type {\n",
              "        vertical-align: middle;\n",
              "    }\n",
              "\n",
              "    .dataframe tbody tr th {\n",
              "        vertical-align: top;\n",
              "    }\n",
              "\n",
              "    .dataframe thead th {\n",
              "        text-align: right;\n",
              "    }\n",
              "</style>\n",
              "<table border=\"1\" class=\"dataframe\">\n",
              "  <thead>\n",
              "    <tr style=\"text-align: right;\">\n",
              "      <th></th>\n",
              "      <th>No</th>\n",
              "      <th>Name</th>\n",
              "      <th>Age</th>\n",
              "    </tr>\n",
              "  </thead>\n",
              "  <tbody>\n",
              "    <tr>\n",
              "      <th>0</th>\n",
              "      <td>1</td>\n",
              "      <td>สมบูรณ์</td>\n",
              "      <td>23</td>\n",
              "    </tr>\n",
              "    <tr>\n",
              "      <th>1</th>\n",
              "      <td>2</td>\n",
              "      <td>สมชาย</td>\n",
              "      <td>45</td>\n",
              "    </tr>\n",
              "    <tr>\n",
              "      <th>2</th>\n",
              "      <td>3</td>\n",
              "      <td>สมหญิง</td>\n",
              "      <td>62</td>\n",
              "    </tr>\n",
              "    <tr>\n",
              "      <th>3</th>\n",
              "      <td>4</td>\n",
              "      <td>สมหมาย</td>\n",
              "      <td>30</td>\n",
              "    </tr>\n",
              "    <tr>\n",
              "      <th>4</th>\n",
              "      <td>5</td>\n",
              "      <td>สมบัติ</td>\n",
              "      <td>32</td>\n",
              "    </tr>\n",
              "  </tbody>\n",
              "</table>\n",
              "</div>\n",
              "    <div class=\"colab-df-buttons\">\n",
              "\n",
              "  <div class=\"colab-df-container\">\n",
              "    <button class=\"colab-df-convert\" onclick=\"convertToInteractive('df-f8dc1353-e6da-440e-aa67-8ddd92c35e71')\"\n",
              "            title=\"Convert this dataframe to an interactive table.\"\n",
              "            style=\"display:none;\">\n",
              "\n",
              "  <svg xmlns=\"http://www.w3.org/2000/svg\" height=\"24px\" viewBox=\"0 -960 960 960\">\n",
              "    <path d=\"M120-120v-720h720v720H120Zm60-500h600v-160H180v160Zm220 220h160v-160H400v160Zm0 220h160v-160H400v160ZM180-400h160v-160H180v160Zm440 0h160v-160H620v160ZM180-180h160v-160H180v160Zm440 0h160v-160H620v160Z\"/>\n",
              "  </svg>\n",
              "    </button>\n",
              "\n",
              "  <style>\n",
              "    .colab-df-container {\n",
              "      display:flex;\n",
              "      gap: 12px;\n",
              "    }\n",
              "\n",
              "    .colab-df-convert {\n",
              "      background-color: #E8F0FE;\n",
              "      border: none;\n",
              "      border-radius: 50%;\n",
              "      cursor: pointer;\n",
              "      display: none;\n",
              "      fill: #1967D2;\n",
              "      height: 32px;\n",
              "      padding: 0 0 0 0;\n",
              "      width: 32px;\n",
              "    }\n",
              "\n",
              "    .colab-df-convert:hover {\n",
              "      background-color: #E2EBFA;\n",
              "      box-shadow: 0px 1px 2px rgba(60, 64, 67, 0.3), 0px 1px 3px 1px rgba(60, 64, 67, 0.15);\n",
              "      fill: #174EA6;\n",
              "    }\n",
              "\n",
              "    .colab-df-buttons div {\n",
              "      margin-bottom: 4px;\n",
              "    }\n",
              "\n",
              "    [theme=dark] .colab-df-convert {\n",
              "      background-color: #3B4455;\n",
              "      fill: #D2E3FC;\n",
              "    }\n",
              "\n",
              "    [theme=dark] .colab-df-convert:hover {\n",
              "      background-color: #434B5C;\n",
              "      box-shadow: 0px 1px 3px 1px rgba(0, 0, 0, 0.15);\n",
              "      filter: drop-shadow(0px 1px 2px rgba(0, 0, 0, 0.3));\n",
              "      fill: #FFFFFF;\n",
              "    }\n",
              "  </style>\n",
              "\n",
              "    <script>\n",
              "      const buttonEl =\n",
              "        document.querySelector('#df-f8dc1353-e6da-440e-aa67-8ddd92c35e71 button.colab-df-convert');\n",
              "      buttonEl.style.display =\n",
              "        google.colab.kernel.accessAllowed ? 'block' : 'none';\n",
              "\n",
              "      async function convertToInteractive(key) {\n",
              "        const element = document.querySelector('#df-f8dc1353-e6da-440e-aa67-8ddd92c35e71');\n",
              "        const dataTable =\n",
              "          await google.colab.kernel.invokeFunction('convertToInteractive',\n",
              "                                                    [key], {});\n",
              "        if (!dataTable) return;\n",
              "\n",
              "        const docLinkHtml = 'Like what you see? Visit the ' +\n",
              "          '<a target=\"_blank\" href=https://colab.research.google.com/notebooks/data_table.ipynb>data table notebook</a>'\n",
              "          + ' to learn more about interactive tables.';\n",
              "        element.innerHTML = '';\n",
              "        dataTable['output_type'] = 'display_data';\n",
              "        await google.colab.output.renderOutput(dataTable, element);\n",
              "        const docLink = document.createElement('div');\n",
              "        docLink.innerHTML = docLinkHtml;\n",
              "        element.appendChild(docLink);\n",
              "      }\n",
              "    </script>\n",
              "  </div>\n",
              "\n",
              "\n",
              "<div id=\"df-0bf4ce2f-070b-447d-aba9-800aa39c6e7e\">\n",
              "  <button class=\"colab-df-quickchart\" onclick=\"quickchart('df-0bf4ce2f-070b-447d-aba9-800aa39c6e7e')\"\n",
              "            title=\"Suggest charts.\"\n",
              "            style=\"display:none;\">\n",
              "\n",
              "<svg xmlns=\"http://www.w3.org/2000/svg\" height=\"24px\"viewBox=\"0 0 24 24\"\n",
              "     width=\"24px\">\n",
              "    <g>\n",
              "        <path d=\"M19 3H5c-1.1 0-2 .9-2 2v14c0 1.1.9 2 2 2h14c1.1 0 2-.9 2-2V5c0-1.1-.9-2-2-2zM9 17H7v-7h2v7zm4 0h-2V7h2v10zm4 0h-2v-4h2v4z\"/>\n",
              "    </g>\n",
              "</svg>\n",
              "  </button>\n",
              "\n",
              "<style>\n",
              "  .colab-df-quickchart {\n",
              "      --bg-color: #E8F0FE;\n",
              "      --fill-color: #1967D2;\n",
              "      --hover-bg-color: #E2EBFA;\n",
              "      --hover-fill-color: #174EA6;\n",
              "      --disabled-fill-color: #AAA;\n",
              "      --disabled-bg-color: #DDD;\n",
              "  }\n",
              "\n",
              "  [theme=dark] .colab-df-quickchart {\n",
              "      --bg-color: #3B4455;\n",
              "      --fill-color: #D2E3FC;\n",
              "      --hover-bg-color: #434B5C;\n",
              "      --hover-fill-color: #FFFFFF;\n",
              "      --disabled-bg-color: #3B4455;\n",
              "      --disabled-fill-color: #666;\n",
              "  }\n",
              "\n",
              "  .colab-df-quickchart {\n",
              "    background-color: var(--bg-color);\n",
              "    border: none;\n",
              "    border-radius: 50%;\n",
              "    cursor: pointer;\n",
              "    display: none;\n",
              "    fill: var(--fill-color);\n",
              "    height: 32px;\n",
              "    padding: 0;\n",
              "    width: 32px;\n",
              "  }\n",
              "\n",
              "  .colab-df-quickchart:hover {\n",
              "    background-color: var(--hover-bg-color);\n",
              "    box-shadow: 0 1px 2px rgba(60, 64, 67, 0.3), 0 1px 3px 1px rgba(60, 64, 67, 0.15);\n",
              "    fill: var(--button-hover-fill-color);\n",
              "  }\n",
              "\n",
              "  .colab-df-quickchart-complete:disabled,\n",
              "  .colab-df-quickchart-complete:disabled:hover {\n",
              "    background-color: var(--disabled-bg-color);\n",
              "    fill: var(--disabled-fill-color);\n",
              "    box-shadow: none;\n",
              "  }\n",
              "\n",
              "  .colab-df-spinner {\n",
              "    border: 2px solid var(--fill-color);\n",
              "    border-color: transparent;\n",
              "    border-bottom-color: var(--fill-color);\n",
              "    animation:\n",
              "      spin 1s steps(1) infinite;\n",
              "  }\n",
              "\n",
              "  @keyframes spin {\n",
              "    0% {\n",
              "      border-color: transparent;\n",
              "      border-bottom-color: var(--fill-color);\n",
              "      border-left-color: var(--fill-color);\n",
              "    }\n",
              "    20% {\n",
              "      border-color: transparent;\n",
              "      border-left-color: var(--fill-color);\n",
              "      border-top-color: var(--fill-color);\n",
              "    }\n",
              "    30% {\n",
              "      border-color: transparent;\n",
              "      border-left-color: var(--fill-color);\n",
              "      border-top-color: var(--fill-color);\n",
              "      border-right-color: var(--fill-color);\n",
              "    }\n",
              "    40% {\n",
              "      border-color: transparent;\n",
              "      border-right-color: var(--fill-color);\n",
              "      border-top-color: var(--fill-color);\n",
              "    }\n",
              "    60% {\n",
              "      border-color: transparent;\n",
              "      border-right-color: var(--fill-color);\n",
              "    }\n",
              "    80% {\n",
              "      border-color: transparent;\n",
              "      border-right-color: var(--fill-color);\n",
              "      border-bottom-color: var(--fill-color);\n",
              "    }\n",
              "    90% {\n",
              "      border-color: transparent;\n",
              "      border-bottom-color: var(--fill-color);\n",
              "    }\n",
              "  }\n",
              "</style>\n",
              "\n",
              "  <script>\n",
              "    async function quickchart(key) {\n",
              "      const quickchartButtonEl =\n",
              "        document.querySelector('#' + key + ' button');\n",
              "      quickchartButtonEl.disabled = true;  // To prevent multiple clicks.\n",
              "      quickchartButtonEl.classList.add('colab-df-spinner');\n",
              "      try {\n",
              "        const charts = await google.colab.kernel.invokeFunction(\n",
              "            'suggestCharts', [key], {});\n",
              "      } catch (error) {\n",
              "        console.error('Error during call to suggestCharts:', error);\n",
              "      }\n",
              "      quickchartButtonEl.classList.remove('colab-df-spinner');\n",
              "      quickchartButtonEl.classList.add('colab-df-quickchart-complete');\n",
              "    }\n",
              "    (() => {\n",
              "      let quickchartButtonEl =\n",
              "        document.querySelector('#df-0bf4ce2f-070b-447d-aba9-800aa39c6e7e button');\n",
              "      quickchartButtonEl.style.display =\n",
              "        google.colab.kernel.accessAllowed ? 'block' : 'none';\n",
              "    })();\n",
              "  </script>\n",
              "</div>\n",
              "    </div>\n",
              "  </div>\n"
            ]
          },
          "metadata": {},
          "execution_count": 163
        }
      ]
    },
    {
      "cell_type": "code",
      "source": [
        "df[\"Name\"]"
      ],
      "metadata": {
        "colab": {
          "base_uri": "https://localhost:8080/"
        },
        "id": "HkFLWBE6DC1y",
        "outputId": "65ca3fb6-340a-4420-fbeb-e1cac095c10c"
      },
      "id": "HkFLWBE6DC1y",
      "execution_count": 164,
      "outputs": [
        {
          "output_type": "execute_result",
          "data": {
            "text/plain": [
              "0    สมบูรณ์\n",
              "1      สมชาย\n",
              "2     สมหญิง\n",
              "3     สมหมาย\n",
              "4     สมบัติ\n",
              "Name: Name, dtype: object"
            ]
          },
          "metadata": {},
          "execution_count": 164
        }
      ]
    },
    {
      "cell_type": "code",
      "source": [
        "df[[\"Name\"]]"
      ],
      "metadata": {
        "colab": {
          "base_uri": "https://localhost:8080/",
          "height": 206
        },
        "id": "8jgnSHE7bZY0",
        "outputId": "94b1d552-0c5c-4823-ce3a-5e31a4de4a00"
      },
      "id": "8jgnSHE7bZY0",
      "execution_count": 165,
      "outputs": [
        {
          "output_type": "execute_result",
          "data": {
            "text/plain": [
              "      Name\n",
              "0  สมบูรณ์\n",
              "1    สมชาย\n",
              "2   สมหญิง\n",
              "3   สมหมาย\n",
              "4   สมบัติ"
            ],
            "text/html": [
              "\n",
              "  <div id=\"df-73eadda9-2c52-428e-aed9-1727827c8a6b\" class=\"colab-df-container\">\n",
              "    <div>\n",
              "<style scoped>\n",
              "    .dataframe tbody tr th:only-of-type {\n",
              "        vertical-align: middle;\n",
              "    }\n",
              "\n",
              "    .dataframe tbody tr th {\n",
              "        vertical-align: top;\n",
              "    }\n",
              "\n",
              "    .dataframe thead th {\n",
              "        text-align: right;\n",
              "    }\n",
              "</style>\n",
              "<table border=\"1\" class=\"dataframe\">\n",
              "  <thead>\n",
              "    <tr style=\"text-align: right;\">\n",
              "      <th></th>\n",
              "      <th>Name</th>\n",
              "    </tr>\n",
              "  </thead>\n",
              "  <tbody>\n",
              "    <tr>\n",
              "      <th>0</th>\n",
              "      <td>สมบูรณ์</td>\n",
              "    </tr>\n",
              "    <tr>\n",
              "      <th>1</th>\n",
              "      <td>สมชาย</td>\n",
              "    </tr>\n",
              "    <tr>\n",
              "      <th>2</th>\n",
              "      <td>สมหญิง</td>\n",
              "    </tr>\n",
              "    <tr>\n",
              "      <th>3</th>\n",
              "      <td>สมหมาย</td>\n",
              "    </tr>\n",
              "    <tr>\n",
              "      <th>4</th>\n",
              "      <td>สมบัติ</td>\n",
              "    </tr>\n",
              "  </tbody>\n",
              "</table>\n",
              "</div>\n",
              "    <div class=\"colab-df-buttons\">\n",
              "\n",
              "  <div class=\"colab-df-container\">\n",
              "    <button class=\"colab-df-convert\" onclick=\"convertToInteractive('df-73eadda9-2c52-428e-aed9-1727827c8a6b')\"\n",
              "            title=\"Convert this dataframe to an interactive table.\"\n",
              "            style=\"display:none;\">\n",
              "\n",
              "  <svg xmlns=\"http://www.w3.org/2000/svg\" height=\"24px\" viewBox=\"0 -960 960 960\">\n",
              "    <path d=\"M120-120v-720h720v720H120Zm60-500h600v-160H180v160Zm220 220h160v-160H400v160Zm0 220h160v-160H400v160ZM180-400h160v-160H180v160Zm440 0h160v-160H620v160ZM180-180h160v-160H180v160Zm440 0h160v-160H620v160Z\"/>\n",
              "  </svg>\n",
              "    </button>\n",
              "\n",
              "  <style>\n",
              "    .colab-df-container {\n",
              "      display:flex;\n",
              "      gap: 12px;\n",
              "    }\n",
              "\n",
              "    .colab-df-convert {\n",
              "      background-color: #E8F0FE;\n",
              "      border: none;\n",
              "      border-radius: 50%;\n",
              "      cursor: pointer;\n",
              "      display: none;\n",
              "      fill: #1967D2;\n",
              "      height: 32px;\n",
              "      padding: 0 0 0 0;\n",
              "      width: 32px;\n",
              "    }\n",
              "\n",
              "    .colab-df-convert:hover {\n",
              "      background-color: #E2EBFA;\n",
              "      box-shadow: 0px 1px 2px rgba(60, 64, 67, 0.3), 0px 1px 3px 1px rgba(60, 64, 67, 0.15);\n",
              "      fill: #174EA6;\n",
              "    }\n",
              "\n",
              "    .colab-df-buttons div {\n",
              "      margin-bottom: 4px;\n",
              "    }\n",
              "\n",
              "    [theme=dark] .colab-df-convert {\n",
              "      background-color: #3B4455;\n",
              "      fill: #D2E3FC;\n",
              "    }\n",
              "\n",
              "    [theme=dark] .colab-df-convert:hover {\n",
              "      background-color: #434B5C;\n",
              "      box-shadow: 0px 1px 3px 1px rgba(0, 0, 0, 0.15);\n",
              "      filter: drop-shadow(0px 1px 2px rgba(0, 0, 0, 0.3));\n",
              "      fill: #FFFFFF;\n",
              "    }\n",
              "  </style>\n",
              "\n",
              "    <script>\n",
              "      const buttonEl =\n",
              "        document.querySelector('#df-73eadda9-2c52-428e-aed9-1727827c8a6b button.colab-df-convert');\n",
              "      buttonEl.style.display =\n",
              "        google.colab.kernel.accessAllowed ? 'block' : 'none';\n",
              "\n",
              "      async function convertToInteractive(key) {\n",
              "        const element = document.querySelector('#df-73eadda9-2c52-428e-aed9-1727827c8a6b');\n",
              "        const dataTable =\n",
              "          await google.colab.kernel.invokeFunction('convertToInteractive',\n",
              "                                                    [key], {});\n",
              "        if (!dataTable) return;\n",
              "\n",
              "        const docLinkHtml = 'Like what you see? Visit the ' +\n",
              "          '<a target=\"_blank\" href=https://colab.research.google.com/notebooks/data_table.ipynb>data table notebook</a>'\n",
              "          + ' to learn more about interactive tables.';\n",
              "        element.innerHTML = '';\n",
              "        dataTable['output_type'] = 'display_data';\n",
              "        await google.colab.output.renderOutput(dataTable, element);\n",
              "        const docLink = document.createElement('div');\n",
              "        docLink.innerHTML = docLinkHtml;\n",
              "        element.appendChild(docLink);\n",
              "      }\n",
              "    </script>\n",
              "  </div>\n",
              "\n",
              "\n",
              "<div id=\"df-f229213e-f853-4cb3-b683-bbc510ff503b\">\n",
              "  <button class=\"colab-df-quickchart\" onclick=\"quickchart('df-f229213e-f853-4cb3-b683-bbc510ff503b')\"\n",
              "            title=\"Suggest charts.\"\n",
              "            style=\"display:none;\">\n",
              "\n",
              "<svg xmlns=\"http://www.w3.org/2000/svg\" height=\"24px\"viewBox=\"0 0 24 24\"\n",
              "     width=\"24px\">\n",
              "    <g>\n",
              "        <path d=\"M19 3H5c-1.1 0-2 .9-2 2v14c0 1.1.9 2 2 2h14c1.1 0 2-.9 2-2V5c0-1.1-.9-2-2-2zM9 17H7v-7h2v7zm4 0h-2V7h2v10zm4 0h-2v-4h2v4z\"/>\n",
              "    </g>\n",
              "</svg>\n",
              "  </button>\n",
              "\n",
              "<style>\n",
              "  .colab-df-quickchart {\n",
              "      --bg-color: #E8F0FE;\n",
              "      --fill-color: #1967D2;\n",
              "      --hover-bg-color: #E2EBFA;\n",
              "      --hover-fill-color: #174EA6;\n",
              "      --disabled-fill-color: #AAA;\n",
              "      --disabled-bg-color: #DDD;\n",
              "  }\n",
              "\n",
              "  [theme=dark] .colab-df-quickchart {\n",
              "      --bg-color: #3B4455;\n",
              "      --fill-color: #D2E3FC;\n",
              "      --hover-bg-color: #434B5C;\n",
              "      --hover-fill-color: #FFFFFF;\n",
              "      --disabled-bg-color: #3B4455;\n",
              "      --disabled-fill-color: #666;\n",
              "  }\n",
              "\n",
              "  .colab-df-quickchart {\n",
              "    background-color: var(--bg-color);\n",
              "    border: none;\n",
              "    border-radius: 50%;\n",
              "    cursor: pointer;\n",
              "    display: none;\n",
              "    fill: var(--fill-color);\n",
              "    height: 32px;\n",
              "    padding: 0;\n",
              "    width: 32px;\n",
              "  }\n",
              "\n",
              "  .colab-df-quickchart:hover {\n",
              "    background-color: var(--hover-bg-color);\n",
              "    box-shadow: 0 1px 2px rgba(60, 64, 67, 0.3), 0 1px 3px 1px rgba(60, 64, 67, 0.15);\n",
              "    fill: var(--button-hover-fill-color);\n",
              "  }\n",
              "\n",
              "  .colab-df-quickchart-complete:disabled,\n",
              "  .colab-df-quickchart-complete:disabled:hover {\n",
              "    background-color: var(--disabled-bg-color);\n",
              "    fill: var(--disabled-fill-color);\n",
              "    box-shadow: none;\n",
              "  }\n",
              "\n",
              "  .colab-df-spinner {\n",
              "    border: 2px solid var(--fill-color);\n",
              "    border-color: transparent;\n",
              "    border-bottom-color: var(--fill-color);\n",
              "    animation:\n",
              "      spin 1s steps(1) infinite;\n",
              "  }\n",
              "\n",
              "  @keyframes spin {\n",
              "    0% {\n",
              "      border-color: transparent;\n",
              "      border-bottom-color: var(--fill-color);\n",
              "      border-left-color: var(--fill-color);\n",
              "    }\n",
              "    20% {\n",
              "      border-color: transparent;\n",
              "      border-left-color: var(--fill-color);\n",
              "      border-top-color: var(--fill-color);\n",
              "    }\n",
              "    30% {\n",
              "      border-color: transparent;\n",
              "      border-left-color: var(--fill-color);\n",
              "      border-top-color: var(--fill-color);\n",
              "      border-right-color: var(--fill-color);\n",
              "    }\n",
              "    40% {\n",
              "      border-color: transparent;\n",
              "      border-right-color: var(--fill-color);\n",
              "      border-top-color: var(--fill-color);\n",
              "    }\n",
              "    60% {\n",
              "      border-color: transparent;\n",
              "      border-right-color: var(--fill-color);\n",
              "    }\n",
              "    80% {\n",
              "      border-color: transparent;\n",
              "      border-right-color: var(--fill-color);\n",
              "      border-bottom-color: var(--fill-color);\n",
              "    }\n",
              "    90% {\n",
              "      border-color: transparent;\n",
              "      border-bottom-color: var(--fill-color);\n",
              "    }\n",
              "  }\n",
              "</style>\n",
              "\n",
              "  <script>\n",
              "    async function quickchart(key) {\n",
              "      const quickchartButtonEl =\n",
              "        document.querySelector('#' + key + ' button');\n",
              "      quickchartButtonEl.disabled = true;  // To prevent multiple clicks.\n",
              "      quickchartButtonEl.classList.add('colab-df-spinner');\n",
              "      try {\n",
              "        const charts = await google.colab.kernel.invokeFunction(\n",
              "            'suggestCharts', [key], {});\n",
              "      } catch (error) {\n",
              "        console.error('Error during call to suggestCharts:', error);\n",
              "      }\n",
              "      quickchartButtonEl.classList.remove('colab-df-spinner');\n",
              "      quickchartButtonEl.classList.add('colab-df-quickchart-complete');\n",
              "    }\n",
              "    (() => {\n",
              "      let quickchartButtonEl =\n",
              "        document.querySelector('#df-f229213e-f853-4cb3-b683-bbc510ff503b button');\n",
              "      quickchartButtonEl.style.display =\n",
              "        google.colab.kernel.accessAllowed ? 'block' : 'none';\n",
              "    })();\n",
              "  </script>\n",
              "</div>\n",
              "    </div>\n",
              "  </div>\n"
            ]
          },
          "metadata": {},
          "execution_count": 165
        }
      ]
    },
    {
      "cell_type": "code",
      "source": [
        "df[[\"Name\", \"Age\"]]"
      ],
      "metadata": {
        "colab": {
          "base_uri": "https://localhost:8080/",
          "height": 206
        },
        "id": "NvroRtg6blE-",
        "outputId": "939d0a8b-ce7f-4945-eaa2-9ea339a49d08"
      },
      "id": "NvroRtg6blE-",
      "execution_count": 166,
      "outputs": [
        {
          "output_type": "execute_result",
          "data": {
            "text/plain": [
              "      Name  Age\n",
              "0  สมบูรณ์   23\n",
              "1    สมชาย   45\n",
              "2   สมหญิง   62\n",
              "3   สมหมาย   30\n",
              "4   สมบัติ   32"
            ],
            "text/html": [
              "\n",
              "  <div id=\"df-ce817d6f-f4f7-40e3-a09a-444d74a7572a\" class=\"colab-df-container\">\n",
              "    <div>\n",
              "<style scoped>\n",
              "    .dataframe tbody tr th:only-of-type {\n",
              "        vertical-align: middle;\n",
              "    }\n",
              "\n",
              "    .dataframe tbody tr th {\n",
              "        vertical-align: top;\n",
              "    }\n",
              "\n",
              "    .dataframe thead th {\n",
              "        text-align: right;\n",
              "    }\n",
              "</style>\n",
              "<table border=\"1\" class=\"dataframe\">\n",
              "  <thead>\n",
              "    <tr style=\"text-align: right;\">\n",
              "      <th></th>\n",
              "      <th>Name</th>\n",
              "      <th>Age</th>\n",
              "    </tr>\n",
              "  </thead>\n",
              "  <tbody>\n",
              "    <tr>\n",
              "      <th>0</th>\n",
              "      <td>สมบูรณ์</td>\n",
              "      <td>23</td>\n",
              "    </tr>\n",
              "    <tr>\n",
              "      <th>1</th>\n",
              "      <td>สมชาย</td>\n",
              "      <td>45</td>\n",
              "    </tr>\n",
              "    <tr>\n",
              "      <th>2</th>\n",
              "      <td>สมหญิง</td>\n",
              "      <td>62</td>\n",
              "    </tr>\n",
              "    <tr>\n",
              "      <th>3</th>\n",
              "      <td>สมหมาย</td>\n",
              "      <td>30</td>\n",
              "    </tr>\n",
              "    <tr>\n",
              "      <th>4</th>\n",
              "      <td>สมบัติ</td>\n",
              "      <td>32</td>\n",
              "    </tr>\n",
              "  </tbody>\n",
              "</table>\n",
              "</div>\n",
              "    <div class=\"colab-df-buttons\">\n",
              "\n",
              "  <div class=\"colab-df-container\">\n",
              "    <button class=\"colab-df-convert\" onclick=\"convertToInteractive('df-ce817d6f-f4f7-40e3-a09a-444d74a7572a')\"\n",
              "            title=\"Convert this dataframe to an interactive table.\"\n",
              "            style=\"display:none;\">\n",
              "\n",
              "  <svg xmlns=\"http://www.w3.org/2000/svg\" height=\"24px\" viewBox=\"0 -960 960 960\">\n",
              "    <path d=\"M120-120v-720h720v720H120Zm60-500h600v-160H180v160Zm220 220h160v-160H400v160Zm0 220h160v-160H400v160ZM180-400h160v-160H180v160Zm440 0h160v-160H620v160ZM180-180h160v-160H180v160Zm440 0h160v-160H620v160Z\"/>\n",
              "  </svg>\n",
              "    </button>\n",
              "\n",
              "  <style>\n",
              "    .colab-df-container {\n",
              "      display:flex;\n",
              "      gap: 12px;\n",
              "    }\n",
              "\n",
              "    .colab-df-convert {\n",
              "      background-color: #E8F0FE;\n",
              "      border: none;\n",
              "      border-radius: 50%;\n",
              "      cursor: pointer;\n",
              "      display: none;\n",
              "      fill: #1967D2;\n",
              "      height: 32px;\n",
              "      padding: 0 0 0 0;\n",
              "      width: 32px;\n",
              "    }\n",
              "\n",
              "    .colab-df-convert:hover {\n",
              "      background-color: #E2EBFA;\n",
              "      box-shadow: 0px 1px 2px rgba(60, 64, 67, 0.3), 0px 1px 3px 1px rgba(60, 64, 67, 0.15);\n",
              "      fill: #174EA6;\n",
              "    }\n",
              "\n",
              "    .colab-df-buttons div {\n",
              "      margin-bottom: 4px;\n",
              "    }\n",
              "\n",
              "    [theme=dark] .colab-df-convert {\n",
              "      background-color: #3B4455;\n",
              "      fill: #D2E3FC;\n",
              "    }\n",
              "\n",
              "    [theme=dark] .colab-df-convert:hover {\n",
              "      background-color: #434B5C;\n",
              "      box-shadow: 0px 1px 3px 1px rgba(0, 0, 0, 0.15);\n",
              "      filter: drop-shadow(0px 1px 2px rgba(0, 0, 0, 0.3));\n",
              "      fill: #FFFFFF;\n",
              "    }\n",
              "  </style>\n",
              "\n",
              "    <script>\n",
              "      const buttonEl =\n",
              "        document.querySelector('#df-ce817d6f-f4f7-40e3-a09a-444d74a7572a button.colab-df-convert');\n",
              "      buttonEl.style.display =\n",
              "        google.colab.kernel.accessAllowed ? 'block' : 'none';\n",
              "\n",
              "      async function convertToInteractive(key) {\n",
              "        const element = document.querySelector('#df-ce817d6f-f4f7-40e3-a09a-444d74a7572a');\n",
              "        const dataTable =\n",
              "          await google.colab.kernel.invokeFunction('convertToInteractive',\n",
              "                                                    [key], {});\n",
              "        if (!dataTable) return;\n",
              "\n",
              "        const docLinkHtml = 'Like what you see? Visit the ' +\n",
              "          '<a target=\"_blank\" href=https://colab.research.google.com/notebooks/data_table.ipynb>data table notebook</a>'\n",
              "          + ' to learn more about interactive tables.';\n",
              "        element.innerHTML = '';\n",
              "        dataTable['output_type'] = 'display_data';\n",
              "        await google.colab.output.renderOutput(dataTable, element);\n",
              "        const docLink = document.createElement('div');\n",
              "        docLink.innerHTML = docLinkHtml;\n",
              "        element.appendChild(docLink);\n",
              "      }\n",
              "    </script>\n",
              "  </div>\n",
              "\n",
              "\n",
              "<div id=\"df-4f13897e-d931-4a7d-87da-94eada07d4e4\">\n",
              "  <button class=\"colab-df-quickchart\" onclick=\"quickchart('df-4f13897e-d931-4a7d-87da-94eada07d4e4')\"\n",
              "            title=\"Suggest charts.\"\n",
              "            style=\"display:none;\">\n",
              "\n",
              "<svg xmlns=\"http://www.w3.org/2000/svg\" height=\"24px\"viewBox=\"0 0 24 24\"\n",
              "     width=\"24px\">\n",
              "    <g>\n",
              "        <path d=\"M19 3H5c-1.1 0-2 .9-2 2v14c0 1.1.9 2 2 2h14c1.1 0 2-.9 2-2V5c0-1.1-.9-2-2-2zM9 17H7v-7h2v7zm4 0h-2V7h2v10zm4 0h-2v-4h2v4z\"/>\n",
              "    </g>\n",
              "</svg>\n",
              "  </button>\n",
              "\n",
              "<style>\n",
              "  .colab-df-quickchart {\n",
              "      --bg-color: #E8F0FE;\n",
              "      --fill-color: #1967D2;\n",
              "      --hover-bg-color: #E2EBFA;\n",
              "      --hover-fill-color: #174EA6;\n",
              "      --disabled-fill-color: #AAA;\n",
              "      --disabled-bg-color: #DDD;\n",
              "  }\n",
              "\n",
              "  [theme=dark] .colab-df-quickchart {\n",
              "      --bg-color: #3B4455;\n",
              "      --fill-color: #D2E3FC;\n",
              "      --hover-bg-color: #434B5C;\n",
              "      --hover-fill-color: #FFFFFF;\n",
              "      --disabled-bg-color: #3B4455;\n",
              "      --disabled-fill-color: #666;\n",
              "  }\n",
              "\n",
              "  .colab-df-quickchart {\n",
              "    background-color: var(--bg-color);\n",
              "    border: none;\n",
              "    border-radius: 50%;\n",
              "    cursor: pointer;\n",
              "    display: none;\n",
              "    fill: var(--fill-color);\n",
              "    height: 32px;\n",
              "    padding: 0;\n",
              "    width: 32px;\n",
              "  }\n",
              "\n",
              "  .colab-df-quickchart:hover {\n",
              "    background-color: var(--hover-bg-color);\n",
              "    box-shadow: 0 1px 2px rgba(60, 64, 67, 0.3), 0 1px 3px 1px rgba(60, 64, 67, 0.15);\n",
              "    fill: var(--button-hover-fill-color);\n",
              "  }\n",
              "\n",
              "  .colab-df-quickchart-complete:disabled,\n",
              "  .colab-df-quickchart-complete:disabled:hover {\n",
              "    background-color: var(--disabled-bg-color);\n",
              "    fill: var(--disabled-fill-color);\n",
              "    box-shadow: none;\n",
              "  }\n",
              "\n",
              "  .colab-df-spinner {\n",
              "    border: 2px solid var(--fill-color);\n",
              "    border-color: transparent;\n",
              "    border-bottom-color: var(--fill-color);\n",
              "    animation:\n",
              "      spin 1s steps(1) infinite;\n",
              "  }\n",
              "\n",
              "  @keyframes spin {\n",
              "    0% {\n",
              "      border-color: transparent;\n",
              "      border-bottom-color: var(--fill-color);\n",
              "      border-left-color: var(--fill-color);\n",
              "    }\n",
              "    20% {\n",
              "      border-color: transparent;\n",
              "      border-left-color: var(--fill-color);\n",
              "      border-top-color: var(--fill-color);\n",
              "    }\n",
              "    30% {\n",
              "      border-color: transparent;\n",
              "      border-left-color: var(--fill-color);\n",
              "      border-top-color: var(--fill-color);\n",
              "      border-right-color: var(--fill-color);\n",
              "    }\n",
              "    40% {\n",
              "      border-color: transparent;\n",
              "      border-right-color: var(--fill-color);\n",
              "      border-top-color: var(--fill-color);\n",
              "    }\n",
              "    60% {\n",
              "      border-color: transparent;\n",
              "      border-right-color: var(--fill-color);\n",
              "    }\n",
              "    80% {\n",
              "      border-color: transparent;\n",
              "      border-right-color: var(--fill-color);\n",
              "      border-bottom-color: var(--fill-color);\n",
              "    }\n",
              "    90% {\n",
              "      border-color: transparent;\n",
              "      border-bottom-color: var(--fill-color);\n",
              "    }\n",
              "  }\n",
              "</style>\n",
              "\n",
              "  <script>\n",
              "    async function quickchart(key) {\n",
              "      const quickchartButtonEl =\n",
              "        document.querySelector('#' + key + ' button');\n",
              "      quickchartButtonEl.disabled = true;  // To prevent multiple clicks.\n",
              "      quickchartButtonEl.classList.add('colab-df-spinner');\n",
              "      try {\n",
              "        const charts = await google.colab.kernel.invokeFunction(\n",
              "            'suggestCharts', [key], {});\n",
              "      } catch (error) {\n",
              "        console.error('Error during call to suggestCharts:', error);\n",
              "      }\n",
              "      quickchartButtonEl.classList.remove('colab-df-spinner');\n",
              "      quickchartButtonEl.classList.add('colab-df-quickchart-complete');\n",
              "    }\n",
              "    (() => {\n",
              "      let quickchartButtonEl =\n",
              "        document.querySelector('#df-4f13897e-d931-4a7d-87da-94eada07d4e4 button');\n",
              "      quickchartButtonEl.style.display =\n",
              "        google.colab.kernel.accessAllowed ? 'block' : 'none';\n",
              "    })();\n",
              "  </script>\n",
              "</div>\n",
              "    </div>\n",
              "  </div>\n"
            ]
          },
          "metadata": {},
          "execution_count": 166
        }
      ]
    },
    {
      "cell_type": "code",
      "source": [
        "df[\"Name\"]\n",
        "#type(df[\"Name\"]) # pandas.core.series.Series"
      ],
      "metadata": {
        "colab": {
          "base_uri": "https://localhost:8080/"
        },
        "id": "6N1JedYnbW36",
        "outputId": "db7cf15d-c2c5-4986-af0a-e49490edaab2"
      },
      "id": "6N1JedYnbW36",
      "execution_count": 167,
      "outputs": [
        {
          "output_type": "execute_result",
          "data": {
            "text/plain": [
              "0    สมบูรณ์\n",
              "1      สมชาย\n",
              "2     สมหญิง\n",
              "3     สมหมาย\n",
              "4     สมบัติ\n",
              "Name: Name, dtype: object"
            ]
          },
          "metadata": {},
          "execution_count": 167
        }
      ]
    },
    {
      "cell_type": "markdown",
      "source": [
        "![ilocvsloc](https://sparkbyexamples.com/wp-content/uploads/2021/10/pandas-difference-loc-vs-iloc.png)"
      ],
      "metadata": {
        "id": "ZoumCqXl8hfD"
      },
      "id": "ZoumCqXl8hfD"
    },
    {
      "cell_type": "code",
      "source": [
        "df"
      ],
      "metadata": {
        "colab": {
          "base_uri": "https://localhost:8080/",
          "height": 206
        },
        "id": "M65gScKT9PlE",
        "outputId": "02de43bd-0769-4a48-9678-72e697489602"
      },
      "id": "M65gScKT9PlE",
      "execution_count": 168,
      "outputs": [
        {
          "output_type": "execute_result",
          "data": {
            "text/plain": [
              "   No     Name  Age\n",
              "0   1  สมบูรณ์   23\n",
              "1   2    สมชาย   45\n",
              "2   3   สมหญิง   62\n",
              "3   4   สมหมาย   30\n",
              "4   5   สมบัติ   32"
            ],
            "text/html": [
              "\n",
              "  <div id=\"df-f71a14b3-31b5-47fa-b5d9-a26f005a769c\" class=\"colab-df-container\">\n",
              "    <div>\n",
              "<style scoped>\n",
              "    .dataframe tbody tr th:only-of-type {\n",
              "        vertical-align: middle;\n",
              "    }\n",
              "\n",
              "    .dataframe tbody tr th {\n",
              "        vertical-align: top;\n",
              "    }\n",
              "\n",
              "    .dataframe thead th {\n",
              "        text-align: right;\n",
              "    }\n",
              "</style>\n",
              "<table border=\"1\" class=\"dataframe\">\n",
              "  <thead>\n",
              "    <tr style=\"text-align: right;\">\n",
              "      <th></th>\n",
              "      <th>No</th>\n",
              "      <th>Name</th>\n",
              "      <th>Age</th>\n",
              "    </tr>\n",
              "  </thead>\n",
              "  <tbody>\n",
              "    <tr>\n",
              "      <th>0</th>\n",
              "      <td>1</td>\n",
              "      <td>สมบูรณ์</td>\n",
              "      <td>23</td>\n",
              "    </tr>\n",
              "    <tr>\n",
              "      <th>1</th>\n",
              "      <td>2</td>\n",
              "      <td>สมชาย</td>\n",
              "      <td>45</td>\n",
              "    </tr>\n",
              "    <tr>\n",
              "      <th>2</th>\n",
              "      <td>3</td>\n",
              "      <td>สมหญิง</td>\n",
              "      <td>62</td>\n",
              "    </tr>\n",
              "    <tr>\n",
              "      <th>3</th>\n",
              "      <td>4</td>\n",
              "      <td>สมหมาย</td>\n",
              "      <td>30</td>\n",
              "    </tr>\n",
              "    <tr>\n",
              "      <th>4</th>\n",
              "      <td>5</td>\n",
              "      <td>สมบัติ</td>\n",
              "      <td>32</td>\n",
              "    </tr>\n",
              "  </tbody>\n",
              "</table>\n",
              "</div>\n",
              "    <div class=\"colab-df-buttons\">\n",
              "\n",
              "  <div class=\"colab-df-container\">\n",
              "    <button class=\"colab-df-convert\" onclick=\"convertToInteractive('df-f71a14b3-31b5-47fa-b5d9-a26f005a769c')\"\n",
              "            title=\"Convert this dataframe to an interactive table.\"\n",
              "            style=\"display:none;\">\n",
              "\n",
              "  <svg xmlns=\"http://www.w3.org/2000/svg\" height=\"24px\" viewBox=\"0 -960 960 960\">\n",
              "    <path d=\"M120-120v-720h720v720H120Zm60-500h600v-160H180v160Zm220 220h160v-160H400v160Zm0 220h160v-160H400v160ZM180-400h160v-160H180v160Zm440 0h160v-160H620v160ZM180-180h160v-160H180v160Zm440 0h160v-160H620v160Z\"/>\n",
              "  </svg>\n",
              "    </button>\n",
              "\n",
              "  <style>\n",
              "    .colab-df-container {\n",
              "      display:flex;\n",
              "      gap: 12px;\n",
              "    }\n",
              "\n",
              "    .colab-df-convert {\n",
              "      background-color: #E8F0FE;\n",
              "      border: none;\n",
              "      border-radius: 50%;\n",
              "      cursor: pointer;\n",
              "      display: none;\n",
              "      fill: #1967D2;\n",
              "      height: 32px;\n",
              "      padding: 0 0 0 0;\n",
              "      width: 32px;\n",
              "    }\n",
              "\n",
              "    .colab-df-convert:hover {\n",
              "      background-color: #E2EBFA;\n",
              "      box-shadow: 0px 1px 2px rgba(60, 64, 67, 0.3), 0px 1px 3px 1px rgba(60, 64, 67, 0.15);\n",
              "      fill: #174EA6;\n",
              "    }\n",
              "\n",
              "    .colab-df-buttons div {\n",
              "      margin-bottom: 4px;\n",
              "    }\n",
              "\n",
              "    [theme=dark] .colab-df-convert {\n",
              "      background-color: #3B4455;\n",
              "      fill: #D2E3FC;\n",
              "    }\n",
              "\n",
              "    [theme=dark] .colab-df-convert:hover {\n",
              "      background-color: #434B5C;\n",
              "      box-shadow: 0px 1px 3px 1px rgba(0, 0, 0, 0.15);\n",
              "      filter: drop-shadow(0px 1px 2px rgba(0, 0, 0, 0.3));\n",
              "      fill: #FFFFFF;\n",
              "    }\n",
              "  </style>\n",
              "\n",
              "    <script>\n",
              "      const buttonEl =\n",
              "        document.querySelector('#df-f71a14b3-31b5-47fa-b5d9-a26f005a769c button.colab-df-convert');\n",
              "      buttonEl.style.display =\n",
              "        google.colab.kernel.accessAllowed ? 'block' : 'none';\n",
              "\n",
              "      async function convertToInteractive(key) {\n",
              "        const element = document.querySelector('#df-f71a14b3-31b5-47fa-b5d9-a26f005a769c');\n",
              "        const dataTable =\n",
              "          await google.colab.kernel.invokeFunction('convertToInteractive',\n",
              "                                                    [key], {});\n",
              "        if (!dataTable) return;\n",
              "\n",
              "        const docLinkHtml = 'Like what you see? Visit the ' +\n",
              "          '<a target=\"_blank\" href=https://colab.research.google.com/notebooks/data_table.ipynb>data table notebook</a>'\n",
              "          + ' to learn more about interactive tables.';\n",
              "        element.innerHTML = '';\n",
              "        dataTable['output_type'] = 'display_data';\n",
              "        await google.colab.output.renderOutput(dataTable, element);\n",
              "        const docLink = document.createElement('div');\n",
              "        docLink.innerHTML = docLinkHtml;\n",
              "        element.appendChild(docLink);\n",
              "      }\n",
              "    </script>\n",
              "  </div>\n",
              "\n",
              "\n",
              "<div id=\"df-a856145c-160f-48cb-8e1c-eeb534aef4ee\">\n",
              "  <button class=\"colab-df-quickchart\" onclick=\"quickchart('df-a856145c-160f-48cb-8e1c-eeb534aef4ee')\"\n",
              "            title=\"Suggest charts.\"\n",
              "            style=\"display:none;\">\n",
              "\n",
              "<svg xmlns=\"http://www.w3.org/2000/svg\" height=\"24px\"viewBox=\"0 0 24 24\"\n",
              "     width=\"24px\">\n",
              "    <g>\n",
              "        <path d=\"M19 3H5c-1.1 0-2 .9-2 2v14c0 1.1.9 2 2 2h14c1.1 0 2-.9 2-2V5c0-1.1-.9-2-2-2zM9 17H7v-7h2v7zm4 0h-2V7h2v10zm4 0h-2v-4h2v4z\"/>\n",
              "    </g>\n",
              "</svg>\n",
              "  </button>\n",
              "\n",
              "<style>\n",
              "  .colab-df-quickchart {\n",
              "      --bg-color: #E8F0FE;\n",
              "      --fill-color: #1967D2;\n",
              "      --hover-bg-color: #E2EBFA;\n",
              "      --hover-fill-color: #174EA6;\n",
              "      --disabled-fill-color: #AAA;\n",
              "      --disabled-bg-color: #DDD;\n",
              "  }\n",
              "\n",
              "  [theme=dark] .colab-df-quickchart {\n",
              "      --bg-color: #3B4455;\n",
              "      --fill-color: #D2E3FC;\n",
              "      --hover-bg-color: #434B5C;\n",
              "      --hover-fill-color: #FFFFFF;\n",
              "      --disabled-bg-color: #3B4455;\n",
              "      --disabled-fill-color: #666;\n",
              "  }\n",
              "\n",
              "  .colab-df-quickchart {\n",
              "    background-color: var(--bg-color);\n",
              "    border: none;\n",
              "    border-radius: 50%;\n",
              "    cursor: pointer;\n",
              "    display: none;\n",
              "    fill: var(--fill-color);\n",
              "    height: 32px;\n",
              "    padding: 0;\n",
              "    width: 32px;\n",
              "  }\n",
              "\n",
              "  .colab-df-quickchart:hover {\n",
              "    background-color: var(--hover-bg-color);\n",
              "    box-shadow: 0 1px 2px rgba(60, 64, 67, 0.3), 0 1px 3px 1px rgba(60, 64, 67, 0.15);\n",
              "    fill: var(--button-hover-fill-color);\n",
              "  }\n",
              "\n",
              "  .colab-df-quickchart-complete:disabled,\n",
              "  .colab-df-quickchart-complete:disabled:hover {\n",
              "    background-color: var(--disabled-bg-color);\n",
              "    fill: var(--disabled-fill-color);\n",
              "    box-shadow: none;\n",
              "  }\n",
              "\n",
              "  .colab-df-spinner {\n",
              "    border: 2px solid var(--fill-color);\n",
              "    border-color: transparent;\n",
              "    border-bottom-color: var(--fill-color);\n",
              "    animation:\n",
              "      spin 1s steps(1) infinite;\n",
              "  }\n",
              "\n",
              "  @keyframes spin {\n",
              "    0% {\n",
              "      border-color: transparent;\n",
              "      border-bottom-color: var(--fill-color);\n",
              "      border-left-color: var(--fill-color);\n",
              "    }\n",
              "    20% {\n",
              "      border-color: transparent;\n",
              "      border-left-color: var(--fill-color);\n",
              "      border-top-color: var(--fill-color);\n",
              "    }\n",
              "    30% {\n",
              "      border-color: transparent;\n",
              "      border-left-color: var(--fill-color);\n",
              "      border-top-color: var(--fill-color);\n",
              "      border-right-color: var(--fill-color);\n",
              "    }\n",
              "    40% {\n",
              "      border-color: transparent;\n",
              "      border-right-color: var(--fill-color);\n",
              "      border-top-color: var(--fill-color);\n",
              "    }\n",
              "    60% {\n",
              "      border-color: transparent;\n",
              "      border-right-color: var(--fill-color);\n",
              "    }\n",
              "    80% {\n",
              "      border-color: transparent;\n",
              "      border-right-color: var(--fill-color);\n",
              "      border-bottom-color: var(--fill-color);\n",
              "    }\n",
              "    90% {\n",
              "      border-color: transparent;\n",
              "      border-bottom-color: var(--fill-color);\n",
              "    }\n",
              "  }\n",
              "</style>\n",
              "\n",
              "  <script>\n",
              "    async function quickchart(key) {\n",
              "      const quickchartButtonEl =\n",
              "        document.querySelector('#' + key + ' button');\n",
              "      quickchartButtonEl.disabled = true;  // To prevent multiple clicks.\n",
              "      quickchartButtonEl.classList.add('colab-df-spinner');\n",
              "      try {\n",
              "        const charts = await google.colab.kernel.invokeFunction(\n",
              "            'suggestCharts', [key], {});\n",
              "      } catch (error) {\n",
              "        console.error('Error during call to suggestCharts:', error);\n",
              "      }\n",
              "      quickchartButtonEl.classList.remove('colab-df-spinner');\n",
              "      quickchartButtonEl.classList.add('colab-df-quickchart-complete');\n",
              "    }\n",
              "    (() => {\n",
              "      let quickchartButtonEl =\n",
              "        document.querySelector('#df-a856145c-160f-48cb-8e1c-eeb534aef4ee button');\n",
              "      quickchartButtonEl.style.display =\n",
              "        google.colab.kernel.accessAllowed ? 'block' : 'none';\n",
              "    })();\n",
              "  </script>\n",
              "</div>\n",
              "    </div>\n",
              "  </div>\n"
            ]
          },
          "metadata": {},
          "execution_count": 168
        }
      ]
    },
    {
      "cell_type": "code",
      "source": [
        "df.loc[df['Age']>=40,:] #ต้องการอายุที่มากกว่า 40"
      ],
      "metadata": {
        "id": "uzzvK2rW2JY6",
        "outputId": "c925bab6-63d4-4c40-fbcd-fecafef48d79",
        "colab": {
          "base_uri": "https://localhost:8080/",
          "height": 112
        }
      },
      "id": "uzzvK2rW2JY6",
      "execution_count": 172,
      "outputs": [
        {
          "output_type": "execute_result",
          "data": {
            "text/plain": [
              "   No    Name  Age\n",
              "1   2   สมชาย   45\n",
              "2   3  สมหญิง   62"
            ],
            "text/html": [
              "\n",
              "  <div id=\"df-3f4fe157-2152-4317-8b11-2422ac1d73ec\" class=\"colab-df-container\">\n",
              "    <div>\n",
              "<style scoped>\n",
              "    .dataframe tbody tr th:only-of-type {\n",
              "        vertical-align: middle;\n",
              "    }\n",
              "\n",
              "    .dataframe tbody tr th {\n",
              "        vertical-align: top;\n",
              "    }\n",
              "\n",
              "    .dataframe thead th {\n",
              "        text-align: right;\n",
              "    }\n",
              "</style>\n",
              "<table border=\"1\" class=\"dataframe\">\n",
              "  <thead>\n",
              "    <tr style=\"text-align: right;\">\n",
              "      <th></th>\n",
              "      <th>No</th>\n",
              "      <th>Name</th>\n",
              "      <th>Age</th>\n",
              "    </tr>\n",
              "  </thead>\n",
              "  <tbody>\n",
              "    <tr>\n",
              "      <th>1</th>\n",
              "      <td>2</td>\n",
              "      <td>สมชาย</td>\n",
              "      <td>45</td>\n",
              "    </tr>\n",
              "    <tr>\n",
              "      <th>2</th>\n",
              "      <td>3</td>\n",
              "      <td>สมหญิง</td>\n",
              "      <td>62</td>\n",
              "    </tr>\n",
              "  </tbody>\n",
              "</table>\n",
              "</div>\n",
              "    <div class=\"colab-df-buttons\">\n",
              "\n",
              "  <div class=\"colab-df-container\">\n",
              "    <button class=\"colab-df-convert\" onclick=\"convertToInteractive('df-3f4fe157-2152-4317-8b11-2422ac1d73ec')\"\n",
              "            title=\"Convert this dataframe to an interactive table.\"\n",
              "            style=\"display:none;\">\n",
              "\n",
              "  <svg xmlns=\"http://www.w3.org/2000/svg\" height=\"24px\" viewBox=\"0 -960 960 960\">\n",
              "    <path d=\"M120-120v-720h720v720H120Zm60-500h600v-160H180v160Zm220 220h160v-160H400v160Zm0 220h160v-160H400v160ZM180-400h160v-160H180v160Zm440 0h160v-160H620v160ZM180-180h160v-160H180v160Zm440 0h160v-160H620v160Z\"/>\n",
              "  </svg>\n",
              "    </button>\n",
              "\n",
              "  <style>\n",
              "    .colab-df-container {\n",
              "      display:flex;\n",
              "      gap: 12px;\n",
              "    }\n",
              "\n",
              "    .colab-df-convert {\n",
              "      background-color: #E8F0FE;\n",
              "      border: none;\n",
              "      border-radius: 50%;\n",
              "      cursor: pointer;\n",
              "      display: none;\n",
              "      fill: #1967D2;\n",
              "      height: 32px;\n",
              "      padding: 0 0 0 0;\n",
              "      width: 32px;\n",
              "    }\n",
              "\n",
              "    .colab-df-convert:hover {\n",
              "      background-color: #E2EBFA;\n",
              "      box-shadow: 0px 1px 2px rgba(60, 64, 67, 0.3), 0px 1px 3px 1px rgba(60, 64, 67, 0.15);\n",
              "      fill: #174EA6;\n",
              "    }\n",
              "\n",
              "    .colab-df-buttons div {\n",
              "      margin-bottom: 4px;\n",
              "    }\n",
              "\n",
              "    [theme=dark] .colab-df-convert {\n",
              "      background-color: #3B4455;\n",
              "      fill: #D2E3FC;\n",
              "    }\n",
              "\n",
              "    [theme=dark] .colab-df-convert:hover {\n",
              "      background-color: #434B5C;\n",
              "      box-shadow: 0px 1px 3px 1px rgba(0, 0, 0, 0.15);\n",
              "      filter: drop-shadow(0px 1px 2px rgba(0, 0, 0, 0.3));\n",
              "      fill: #FFFFFF;\n",
              "    }\n",
              "  </style>\n",
              "\n",
              "    <script>\n",
              "      const buttonEl =\n",
              "        document.querySelector('#df-3f4fe157-2152-4317-8b11-2422ac1d73ec button.colab-df-convert');\n",
              "      buttonEl.style.display =\n",
              "        google.colab.kernel.accessAllowed ? 'block' : 'none';\n",
              "\n",
              "      async function convertToInteractive(key) {\n",
              "        const element = document.querySelector('#df-3f4fe157-2152-4317-8b11-2422ac1d73ec');\n",
              "        const dataTable =\n",
              "          await google.colab.kernel.invokeFunction('convertToInteractive',\n",
              "                                                    [key], {});\n",
              "        if (!dataTable) return;\n",
              "\n",
              "        const docLinkHtml = 'Like what you see? Visit the ' +\n",
              "          '<a target=\"_blank\" href=https://colab.research.google.com/notebooks/data_table.ipynb>data table notebook</a>'\n",
              "          + ' to learn more about interactive tables.';\n",
              "        element.innerHTML = '';\n",
              "        dataTable['output_type'] = 'display_data';\n",
              "        await google.colab.output.renderOutput(dataTable, element);\n",
              "        const docLink = document.createElement('div');\n",
              "        docLink.innerHTML = docLinkHtml;\n",
              "        element.appendChild(docLink);\n",
              "      }\n",
              "    </script>\n",
              "  </div>\n",
              "\n",
              "\n",
              "<div id=\"df-a0b38f1f-660f-4ff2-b49b-dfd241a1b6a8\">\n",
              "  <button class=\"colab-df-quickchart\" onclick=\"quickchart('df-a0b38f1f-660f-4ff2-b49b-dfd241a1b6a8')\"\n",
              "            title=\"Suggest charts.\"\n",
              "            style=\"display:none;\">\n",
              "\n",
              "<svg xmlns=\"http://www.w3.org/2000/svg\" height=\"24px\"viewBox=\"0 0 24 24\"\n",
              "     width=\"24px\">\n",
              "    <g>\n",
              "        <path d=\"M19 3H5c-1.1 0-2 .9-2 2v14c0 1.1.9 2 2 2h14c1.1 0 2-.9 2-2V5c0-1.1-.9-2-2-2zM9 17H7v-7h2v7zm4 0h-2V7h2v10zm4 0h-2v-4h2v4z\"/>\n",
              "    </g>\n",
              "</svg>\n",
              "  </button>\n",
              "\n",
              "<style>\n",
              "  .colab-df-quickchart {\n",
              "      --bg-color: #E8F0FE;\n",
              "      --fill-color: #1967D2;\n",
              "      --hover-bg-color: #E2EBFA;\n",
              "      --hover-fill-color: #174EA6;\n",
              "      --disabled-fill-color: #AAA;\n",
              "      --disabled-bg-color: #DDD;\n",
              "  }\n",
              "\n",
              "  [theme=dark] .colab-df-quickchart {\n",
              "      --bg-color: #3B4455;\n",
              "      --fill-color: #D2E3FC;\n",
              "      --hover-bg-color: #434B5C;\n",
              "      --hover-fill-color: #FFFFFF;\n",
              "      --disabled-bg-color: #3B4455;\n",
              "      --disabled-fill-color: #666;\n",
              "  }\n",
              "\n",
              "  .colab-df-quickchart {\n",
              "    background-color: var(--bg-color);\n",
              "    border: none;\n",
              "    border-radius: 50%;\n",
              "    cursor: pointer;\n",
              "    display: none;\n",
              "    fill: var(--fill-color);\n",
              "    height: 32px;\n",
              "    padding: 0;\n",
              "    width: 32px;\n",
              "  }\n",
              "\n",
              "  .colab-df-quickchart:hover {\n",
              "    background-color: var(--hover-bg-color);\n",
              "    box-shadow: 0 1px 2px rgba(60, 64, 67, 0.3), 0 1px 3px 1px rgba(60, 64, 67, 0.15);\n",
              "    fill: var(--button-hover-fill-color);\n",
              "  }\n",
              "\n",
              "  .colab-df-quickchart-complete:disabled,\n",
              "  .colab-df-quickchart-complete:disabled:hover {\n",
              "    background-color: var(--disabled-bg-color);\n",
              "    fill: var(--disabled-fill-color);\n",
              "    box-shadow: none;\n",
              "  }\n",
              "\n",
              "  .colab-df-spinner {\n",
              "    border: 2px solid var(--fill-color);\n",
              "    border-color: transparent;\n",
              "    border-bottom-color: var(--fill-color);\n",
              "    animation:\n",
              "      spin 1s steps(1) infinite;\n",
              "  }\n",
              "\n",
              "  @keyframes spin {\n",
              "    0% {\n",
              "      border-color: transparent;\n",
              "      border-bottom-color: var(--fill-color);\n",
              "      border-left-color: var(--fill-color);\n",
              "    }\n",
              "    20% {\n",
              "      border-color: transparent;\n",
              "      border-left-color: var(--fill-color);\n",
              "      border-top-color: var(--fill-color);\n",
              "    }\n",
              "    30% {\n",
              "      border-color: transparent;\n",
              "      border-left-color: var(--fill-color);\n",
              "      border-top-color: var(--fill-color);\n",
              "      border-right-color: var(--fill-color);\n",
              "    }\n",
              "    40% {\n",
              "      border-color: transparent;\n",
              "      border-right-color: var(--fill-color);\n",
              "      border-top-color: var(--fill-color);\n",
              "    }\n",
              "    60% {\n",
              "      border-color: transparent;\n",
              "      border-right-color: var(--fill-color);\n",
              "    }\n",
              "    80% {\n",
              "      border-color: transparent;\n",
              "      border-right-color: var(--fill-color);\n",
              "      border-bottom-color: var(--fill-color);\n",
              "    }\n",
              "    90% {\n",
              "      border-color: transparent;\n",
              "      border-bottom-color: var(--fill-color);\n",
              "    }\n",
              "  }\n",
              "</style>\n",
              "\n",
              "  <script>\n",
              "    async function quickchart(key) {\n",
              "      const quickchartButtonEl =\n",
              "        document.querySelector('#' + key + ' button');\n",
              "      quickchartButtonEl.disabled = true;  // To prevent multiple clicks.\n",
              "      quickchartButtonEl.classList.add('colab-df-spinner');\n",
              "      try {\n",
              "        const charts = await google.colab.kernel.invokeFunction(\n",
              "            'suggestCharts', [key], {});\n",
              "      } catch (error) {\n",
              "        console.error('Error during call to suggestCharts:', error);\n",
              "      }\n",
              "      quickchartButtonEl.classList.remove('colab-df-spinner');\n",
              "      quickchartButtonEl.classList.add('colab-df-quickchart-complete');\n",
              "    }\n",
              "    (() => {\n",
              "      let quickchartButtonEl =\n",
              "        document.querySelector('#df-a0b38f1f-660f-4ff2-b49b-dfd241a1b6a8 button');\n",
              "      quickchartButtonEl.style.display =\n",
              "        google.colab.kernel.accessAllowed ? 'block' : 'none';\n",
              "    })();\n",
              "  </script>\n",
              "</div>\n",
              "    </div>\n",
              "  </div>\n"
            ]
          },
          "metadata": {},
          "execution_count": 172
        }
      ]
    },
    {
      "cell_type": "code",
      "source": [
        "df[df['Age']>=40]"
      ],
      "metadata": {
        "id": "mHOSyIUG3Xrh",
        "outputId": "bc897267-4adc-415e-9bdb-6d04f1644af7",
        "colab": {
          "base_uri": "https://localhost:8080/",
          "height": 112
        }
      },
      "id": "mHOSyIUG3Xrh",
      "execution_count": 173,
      "outputs": [
        {
          "output_type": "execute_result",
          "data": {
            "text/plain": [
              "   No    Name  Age\n",
              "1   2   สมชาย   45\n",
              "2   3  สมหญิง   62"
            ],
            "text/html": [
              "\n",
              "  <div id=\"df-54bdd05d-8650-440d-911f-a3a3fbd30ea7\" class=\"colab-df-container\">\n",
              "    <div>\n",
              "<style scoped>\n",
              "    .dataframe tbody tr th:only-of-type {\n",
              "        vertical-align: middle;\n",
              "    }\n",
              "\n",
              "    .dataframe tbody tr th {\n",
              "        vertical-align: top;\n",
              "    }\n",
              "\n",
              "    .dataframe thead th {\n",
              "        text-align: right;\n",
              "    }\n",
              "</style>\n",
              "<table border=\"1\" class=\"dataframe\">\n",
              "  <thead>\n",
              "    <tr style=\"text-align: right;\">\n",
              "      <th></th>\n",
              "      <th>No</th>\n",
              "      <th>Name</th>\n",
              "      <th>Age</th>\n",
              "    </tr>\n",
              "  </thead>\n",
              "  <tbody>\n",
              "    <tr>\n",
              "      <th>1</th>\n",
              "      <td>2</td>\n",
              "      <td>สมชาย</td>\n",
              "      <td>45</td>\n",
              "    </tr>\n",
              "    <tr>\n",
              "      <th>2</th>\n",
              "      <td>3</td>\n",
              "      <td>สมหญิง</td>\n",
              "      <td>62</td>\n",
              "    </tr>\n",
              "  </tbody>\n",
              "</table>\n",
              "</div>\n",
              "    <div class=\"colab-df-buttons\">\n",
              "\n",
              "  <div class=\"colab-df-container\">\n",
              "    <button class=\"colab-df-convert\" onclick=\"convertToInteractive('df-54bdd05d-8650-440d-911f-a3a3fbd30ea7')\"\n",
              "            title=\"Convert this dataframe to an interactive table.\"\n",
              "            style=\"display:none;\">\n",
              "\n",
              "  <svg xmlns=\"http://www.w3.org/2000/svg\" height=\"24px\" viewBox=\"0 -960 960 960\">\n",
              "    <path d=\"M120-120v-720h720v720H120Zm60-500h600v-160H180v160Zm220 220h160v-160H400v160Zm0 220h160v-160H400v160ZM180-400h160v-160H180v160Zm440 0h160v-160H620v160ZM180-180h160v-160H180v160Zm440 0h160v-160H620v160Z\"/>\n",
              "  </svg>\n",
              "    </button>\n",
              "\n",
              "  <style>\n",
              "    .colab-df-container {\n",
              "      display:flex;\n",
              "      gap: 12px;\n",
              "    }\n",
              "\n",
              "    .colab-df-convert {\n",
              "      background-color: #E8F0FE;\n",
              "      border: none;\n",
              "      border-radius: 50%;\n",
              "      cursor: pointer;\n",
              "      display: none;\n",
              "      fill: #1967D2;\n",
              "      height: 32px;\n",
              "      padding: 0 0 0 0;\n",
              "      width: 32px;\n",
              "    }\n",
              "\n",
              "    .colab-df-convert:hover {\n",
              "      background-color: #E2EBFA;\n",
              "      box-shadow: 0px 1px 2px rgba(60, 64, 67, 0.3), 0px 1px 3px 1px rgba(60, 64, 67, 0.15);\n",
              "      fill: #174EA6;\n",
              "    }\n",
              "\n",
              "    .colab-df-buttons div {\n",
              "      margin-bottom: 4px;\n",
              "    }\n",
              "\n",
              "    [theme=dark] .colab-df-convert {\n",
              "      background-color: #3B4455;\n",
              "      fill: #D2E3FC;\n",
              "    }\n",
              "\n",
              "    [theme=dark] .colab-df-convert:hover {\n",
              "      background-color: #434B5C;\n",
              "      box-shadow: 0px 1px 3px 1px rgba(0, 0, 0, 0.15);\n",
              "      filter: drop-shadow(0px 1px 2px rgba(0, 0, 0, 0.3));\n",
              "      fill: #FFFFFF;\n",
              "    }\n",
              "  </style>\n",
              "\n",
              "    <script>\n",
              "      const buttonEl =\n",
              "        document.querySelector('#df-54bdd05d-8650-440d-911f-a3a3fbd30ea7 button.colab-df-convert');\n",
              "      buttonEl.style.display =\n",
              "        google.colab.kernel.accessAllowed ? 'block' : 'none';\n",
              "\n",
              "      async function convertToInteractive(key) {\n",
              "        const element = document.querySelector('#df-54bdd05d-8650-440d-911f-a3a3fbd30ea7');\n",
              "        const dataTable =\n",
              "          await google.colab.kernel.invokeFunction('convertToInteractive',\n",
              "                                                    [key], {});\n",
              "        if (!dataTable) return;\n",
              "\n",
              "        const docLinkHtml = 'Like what you see? Visit the ' +\n",
              "          '<a target=\"_blank\" href=https://colab.research.google.com/notebooks/data_table.ipynb>data table notebook</a>'\n",
              "          + ' to learn more about interactive tables.';\n",
              "        element.innerHTML = '';\n",
              "        dataTable['output_type'] = 'display_data';\n",
              "        await google.colab.output.renderOutput(dataTable, element);\n",
              "        const docLink = document.createElement('div');\n",
              "        docLink.innerHTML = docLinkHtml;\n",
              "        element.appendChild(docLink);\n",
              "      }\n",
              "    </script>\n",
              "  </div>\n",
              "\n",
              "\n",
              "<div id=\"df-fbfd5a1c-62a5-4785-9ecc-3f6b18841bae\">\n",
              "  <button class=\"colab-df-quickchart\" onclick=\"quickchart('df-fbfd5a1c-62a5-4785-9ecc-3f6b18841bae')\"\n",
              "            title=\"Suggest charts.\"\n",
              "            style=\"display:none;\">\n",
              "\n",
              "<svg xmlns=\"http://www.w3.org/2000/svg\" height=\"24px\"viewBox=\"0 0 24 24\"\n",
              "     width=\"24px\">\n",
              "    <g>\n",
              "        <path d=\"M19 3H5c-1.1 0-2 .9-2 2v14c0 1.1.9 2 2 2h14c1.1 0 2-.9 2-2V5c0-1.1-.9-2-2-2zM9 17H7v-7h2v7zm4 0h-2V7h2v10zm4 0h-2v-4h2v4z\"/>\n",
              "    </g>\n",
              "</svg>\n",
              "  </button>\n",
              "\n",
              "<style>\n",
              "  .colab-df-quickchart {\n",
              "      --bg-color: #E8F0FE;\n",
              "      --fill-color: #1967D2;\n",
              "      --hover-bg-color: #E2EBFA;\n",
              "      --hover-fill-color: #174EA6;\n",
              "      --disabled-fill-color: #AAA;\n",
              "      --disabled-bg-color: #DDD;\n",
              "  }\n",
              "\n",
              "  [theme=dark] .colab-df-quickchart {\n",
              "      --bg-color: #3B4455;\n",
              "      --fill-color: #D2E3FC;\n",
              "      --hover-bg-color: #434B5C;\n",
              "      --hover-fill-color: #FFFFFF;\n",
              "      --disabled-bg-color: #3B4455;\n",
              "      --disabled-fill-color: #666;\n",
              "  }\n",
              "\n",
              "  .colab-df-quickchart {\n",
              "    background-color: var(--bg-color);\n",
              "    border: none;\n",
              "    border-radius: 50%;\n",
              "    cursor: pointer;\n",
              "    display: none;\n",
              "    fill: var(--fill-color);\n",
              "    height: 32px;\n",
              "    padding: 0;\n",
              "    width: 32px;\n",
              "  }\n",
              "\n",
              "  .colab-df-quickchart:hover {\n",
              "    background-color: var(--hover-bg-color);\n",
              "    box-shadow: 0 1px 2px rgba(60, 64, 67, 0.3), 0 1px 3px 1px rgba(60, 64, 67, 0.15);\n",
              "    fill: var(--button-hover-fill-color);\n",
              "  }\n",
              "\n",
              "  .colab-df-quickchart-complete:disabled,\n",
              "  .colab-df-quickchart-complete:disabled:hover {\n",
              "    background-color: var(--disabled-bg-color);\n",
              "    fill: var(--disabled-fill-color);\n",
              "    box-shadow: none;\n",
              "  }\n",
              "\n",
              "  .colab-df-spinner {\n",
              "    border: 2px solid var(--fill-color);\n",
              "    border-color: transparent;\n",
              "    border-bottom-color: var(--fill-color);\n",
              "    animation:\n",
              "      spin 1s steps(1) infinite;\n",
              "  }\n",
              "\n",
              "  @keyframes spin {\n",
              "    0% {\n",
              "      border-color: transparent;\n",
              "      border-bottom-color: var(--fill-color);\n",
              "      border-left-color: var(--fill-color);\n",
              "    }\n",
              "    20% {\n",
              "      border-color: transparent;\n",
              "      border-left-color: var(--fill-color);\n",
              "      border-top-color: var(--fill-color);\n",
              "    }\n",
              "    30% {\n",
              "      border-color: transparent;\n",
              "      border-left-color: var(--fill-color);\n",
              "      border-top-color: var(--fill-color);\n",
              "      border-right-color: var(--fill-color);\n",
              "    }\n",
              "    40% {\n",
              "      border-color: transparent;\n",
              "      border-right-color: var(--fill-color);\n",
              "      border-top-color: var(--fill-color);\n",
              "    }\n",
              "    60% {\n",
              "      border-color: transparent;\n",
              "      border-right-color: var(--fill-color);\n",
              "    }\n",
              "    80% {\n",
              "      border-color: transparent;\n",
              "      border-right-color: var(--fill-color);\n",
              "      border-bottom-color: var(--fill-color);\n",
              "    }\n",
              "    90% {\n",
              "      border-color: transparent;\n",
              "      border-bottom-color: var(--fill-color);\n",
              "    }\n",
              "  }\n",
              "</style>\n",
              "\n",
              "  <script>\n",
              "    async function quickchart(key) {\n",
              "      const quickchartButtonEl =\n",
              "        document.querySelector('#' + key + ' button');\n",
              "      quickchartButtonEl.disabled = true;  // To prevent multiple clicks.\n",
              "      quickchartButtonEl.classList.add('colab-df-spinner');\n",
              "      try {\n",
              "        const charts = await google.colab.kernel.invokeFunction(\n",
              "            'suggestCharts', [key], {});\n",
              "      } catch (error) {\n",
              "        console.error('Error during call to suggestCharts:', error);\n",
              "      }\n",
              "      quickchartButtonEl.classList.remove('colab-df-spinner');\n",
              "      quickchartButtonEl.classList.add('colab-df-quickchart-complete');\n",
              "    }\n",
              "    (() => {\n",
              "      let quickchartButtonEl =\n",
              "        document.querySelector('#df-fbfd5a1c-62a5-4785-9ecc-3f6b18841bae button');\n",
              "      quickchartButtonEl.style.display =\n",
              "        google.colab.kernel.accessAllowed ? 'block' : 'none';\n",
              "    })();\n",
              "  </script>\n",
              "</div>\n",
              "    </div>\n",
              "  </div>\n"
            ]
          },
          "metadata": {},
          "execution_count": 173
        }
      ]
    },
    {
      "cell_type": "code",
      "source": [
        "df.iloc[1,2]"
      ],
      "metadata": {
        "colab": {
          "base_uri": "https://localhost:8080/"
        },
        "id": "Ka0TWIupai42",
        "outputId": "1b1757d1-9638-44fc-fe8e-f7f1f502847c"
      },
      "id": "Ka0TWIupai42",
      "execution_count": 171,
      "outputs": [
        {
          "output_type": "execute_result",
          "data": {
            "text/plain": [
              "45"
            ]
          },
          "metadata": {},
          "execution_count": 171
        }
      ]
    },
    {
      "cell_type": "code",
      "source": [
        "df[\"Name\"]==\"สมหมาย\""
      ],
      "metadata": {
        "colab": {
          "base_uri": "https://localhost:8080/"
        },
        "id": "Z3J3JZ0vDnvp",
        "outputId": "bc679be7-60c2-4f4f-8777-8baf1a8a6a9f"
      },
      "id": "Z3J3JZ0vDnvp",
      "execution_count": 174,
      "outputs": [
        {
          "output_type": "execute_result",
          "data": {
            "text/plain": [
              "0    False\n",
              "1    False\n",
              "2    False\n",
              "3     True\n",
              "4    False\n",
              "Name: Name, dtype: bool"
            ]
          },
          "metadata": {},
          "execution_count": 174
        }
      ]
    },
    {
      "cell_type": "code",
      "source": [
        "df.loc[df[\"Name\"]==\"สมหมาย\",:]\n",
        "#df.loc[df[\"Name\"]==\"สมหมาย\"]"
      ],
      "metadata": {
        "colab": {
          "base_uri": "https://localhost:8080/",
          "height": 80
        },
        "id": "ZJlTwGi-apF-",
        "outputId": "0c278ebe-647e-42e0-e3b9-1ce4b18c9bec"
      },
      "id": "ZJlTwGi-apF-",
      "execution_count": 175,
      "outputs": [
        {
          "output_type": "execute_result",
          "data": {
            "text/plain": [
              "   No    Name  Age\n",
              "3   4  สมหมาย   30"
            ],
            "text/html": [
              "\n",
              "  <div id=\"df-2d6a8754-d756-4457-b28b-f27a31824a67\" class=\"colab-df-container\">\n",
              "    <div>\n",
              "<style scoped>\n",
              "    .dataframe tbody tr th:only-of-type {\n",
              "        vertical-align: middle;\n",
              "    }\n",
              "\n",
              "    .dataframe tbody tr th {\n",
              "        vertical-align: top;\n",
              "    }\n",
              "\n",
              "    .dataframe thead th {\n",
              "        text-align: right;\n",
              "    }\n",
              "</style>\n",
              "<table border=\"1\" class=\"dataframe\">\n",
              "  <thead>\n",
              "    <tr style=\"text-align: right;\">\n",
              "      <th></th>\n",
              "      <th>No</th>\n",
              "      <th>Name</th>\n",
              "      <th>Age</th>\n",
              "    </tr>\n",
              "  </thead>\n",
              "  <tbody>\n",
              "    <tr>\n",
              "      <th>3</th>\n",
              "      <td>4</td>\n",
              "      <td>สมหมาย</td>\n",
              "      <td>30</td>\n",
              "    </tr>\n",
              "  </tbody>\n",
              "</table>\n",
              "</div>\n",
              "    <div class=\"colab-df-buttons\">\n",
              "\n",
              "  <div class=\"colab-df-container\">\n",
              "    <button class=\"colab-df-convert\" onclick=\"convertToInteractive('df-2d6a8754-d756-4457-b28b-f27a31824a67')\"\n",
              "            title=\"Convert this dataframe to an interactive table.\"\n",
              "            style=\"display:none;\">\n",
              "\n",
              "  <svg xmlns=\"http://www.w3.org/2000/svg\" height=\"24px\" viewBox=\"0 -960 960 960\">\n",
              "    <path d=\"M120-120v-720h720v720H120Zm60-500h600v-160H180v160Zm220 220h160v-160H400v160Zm0 220h160v-160H400v160ZM180-400h160v-160H180v160Zm440 0h160v-160H620v160ZM180-180h160v-160H180v160Zm440 0h160v-160H620v160Z\"/>\n",
              "  </svg>\n",
              "    </button>\n",
              "\n",
              "  <style>\n",
              "    .colab-df-container {\n",
              "      display:flex;\n",
              "      gap: 12px;\n",
              "    }\n",
              "\n",
              "    .colab-df-convert {\n",
              "      background-color: #E8F0FE;\n",
              "      border: none;\n",
              "      border-radius: 50%;\n",
              "      cursor: pointer;\n",
              "      display: none;\n",
              "      fill: #1967D2;\n",
              "      height: 32px;\n",
              "      padding: 0 0 0 0;\n",
              "      width: 32px;\n",
              "    }\n",
              "\n",
              "    .colab-df-convert:hover {\n",
              "      background-color: #E2EBFA;\n",
              "      box-shadow: 0px 1px 2px rgba(60, 64, 67, 0.3), 0px 1px 3px 1px rgba(60, 64, 67, 0.15);\n",
              "      fill: #174EA6;\n",
              "    }\n",
              "\n",
              "    .colab-df-buttons div {\n",
              "      margin-bottom: 4px;\n",
              "    }\n",
              "\n",
              "    [theme=dark] .colab-df-convert {\n",
              "      background-color: #3B4455;\n",
              "      fill: #D2E3FC;\n",
              "    }\n",
              "\n",
              "    [theme=dark] .colab-df-convert:hover {\n",
              "      background-color: #434B5C;\n",
              "      box-shadow: 0px 1px 3px 1px rgba(0, 0, 0, 0.15);\n",
              "      filter: drop-shadow(0px 1px 2px rgba(0, 0, 0, 0.3));\n",
              "      fill: #FFFFFF;\n",
              "    }\n",
              "  </style>\n",
              "\n",
              "    <script>\n",
              "      const buttonEl =\n",
              "        document.querySelector('#df-2d6a8754-d756-4457-b28b-f27a31824a67 button.colab-df-convert');\n",
              "      buttonEl.style.display =\n",
              "        google.colab.kernel.accessAllowed ? 'block' : 'none';\n",
              "\n",
              "      async function convertToInteractive(key) {\n",
              "        const element = document.querySelector('#df-2d6a8754-d756-4457-b28b-f27a31824a67');\n",
              "        const dataTable =\n",
              "          await google.colab.kernel.invokeFunction('convertToInteractive',\n",
              "                                                    [key], {});\n",
              "        if (!dataTable) return;\n",
              "\n",
              "        const docLinkHtml = 'Like what you see? Visit the ' +\n",
              "          '<a target=\"_blank\" href=https://colab.research.google.com/notebooks/data_table.ipynb>data table notebook</a>'\n",
              "          + ' to learn more about interactive tables.';\n",
              "        element.innerHTML = '';\n",
              "        dataTable['output_type'] = 'display_data';\n",
              "        await google.colab.output.renderOutput(dataTable, element);\n",
              "        const docLink = document.createElement('div');\n",
              "        docLink.innerHTML = docLinkHtml;\n",
              "        element.appendChild(docLink);\n",
              "      }\n",
              "    </script>\n",
              "  </div>\n",
              "\n",
              "    </div>\n",
              "  </div>\n"
            ]
          },
          "metadata": {},
          "execution_count": 175
        }
      ]
    },
    {
      "cell_type": "markdown",
      "source": [
        "<font color='red'><h4>📝 Your turn</h4></font>"
      ],
      "metadata": {
        "id": "qdckqLGM8HU3"
      },
      "id": "qdckqLGM8HU3"
    },
    {
      "cell_type": "code",
      "source": [
        "# Retrieve \"สมหญิง\" from df\n",
        "df.iloc[2,1]\n",
        "df.loc[df[\"Name\"]==\"สมหญิง\",\"Name\"]\n",
        "df.loc[df[\"Name\"]==\"สมหญิง\"][\"Name\"]"
      ],
      "metadata": {
        "id": "cxoKYTvK-Fyy",
        "colab": {
          "base_uri": "https://localhost:8080/"
        },
        "outputId": "207fe615-c422-4122-b6d2-e8773e158fab"
      },
      "id": "cxoKYTvK-Fyy",
      "execution_count": 176,
      "outputs": [
        {
          "output_type": "execute_result",
          "data": {
            "text/plain": [
              "2    สมหญิง\n",
              "Name: Name, dtype: object"
            ]
          },
          "metadata": {},
          "execution_count": 176
        }
      ]
    },
    {
      "cell_type": "code",
      "source": [
        "# Get \"Name\" of people in df whose \"Age\" are less than 40 year's old\n",
        "df.loc[df[\"Age\"]<40,\"Name\"]\n",
        "\n",
        "\n"
      ],
      "metadata": {
        "id": "meD_BkIH9nSo",
        "colab": {
          "base_uri": "https://localhost:8080/"
        },
        "outputId": "e5e02f37-671f-4fa3-d607-9d25d2f0019a"
      },
      "id": "meD_BkIH9nSo",
      "execution_count": 177,
      "outputs": [
        {
          "output_type": "execute_result",
          "data": {
            "text/plain": [
              "0    สมบูรณ์\n",
              "3     สมหมาย\n",
              "4     สมบัติ\n",
              "Name: Name, dtype: object"
            ]
          },
          "metadata": {},
          "execution_count": 177
        }
      ]
    },
    {
      "cell_type": "markdown",
      "id": "3a4ae0fe",
      "metadata": {
        "id": "3a4ae0fe"
      },
      "source": [
        "## Controlling program flow"
      ]
    },
    {
      "cell_type": "markdown",
      "id": "a82ba874",
      "metadata": {
        "id": "a82ba874"
      },
      "source": [
        "### Condition: if-elif-else"
      ]
    },
    {
      "cell_type": "code",
      "execution_count": 178,
      "id": "0553f1c5",
      "metadata": {
        "id": "0553f1c5",
        "outputId": "02cc09e2-9f5d-4c1b-facc-2ca7038a5014",
        "colab": {
          "base_uri": "https://localhost:8080/",
          "height": 35
        }
      },
      "outputs": [
        {
          "output_type": "execute_result",
          "data": {
            "text/plain": [
              "'a'"
            ],
            "application/vnd.google.colaboratory.intrinsic+json": {
              "type": "string"
            }
          },
          "metadata": {},
          "execution_count": 178
        }
      ],
      "source": [
        "'a' if 3 < 4 else 'b'"
      ]
    },
    {
      "cell_type": "code",
      "execution_count": 179,
      "id": "38963e24",
      "metadata": {
        "id": "38963e24",
        "outputId": "2a007f58-2756-43db-c924-0fbc453b5a9e",
        "colab": {
          "base_uri": "https://localhost:8080/",
          "height": 35
        }
      },
      "outputs": [
        {
          "output_type": "execute_result",
          "data": {
            "text/plain": [
              "'b'"
            ],
            "application/vnd.google.colaboratory.intrinsic+json": {
              "type": "string"
            }
          },
          "metadata": {},
          "execution_count": 179
        }
      ],
      "source": [
        "'a' if 4 < 3 else 'b'"
      ]
    },
    {
      "cell_type": "markdown",
      "id": "ce5143ca",
      "metadata": {
        "id": "ce5143ca"
      },
      "source": [
        "```python\n",
        "if เงื่อนที่เราจะตรวจสอบ (โดยอาศัยสัญลักษณ์เหล่านี้ ==, !=, <, >, <=, >=, in, is_null()) :\n",
        "    ถ้าเงื่อนไขเป็นจริง ทำ\n",
        "```"
      ]
    },
    {
      "cell_type": "code",
      "execution_count": 180,
      "id": "e1529cac",
      "metadata": {
        "id": "e1529cac",
        "outputId": "4a656e5a-2132-47c1-d272-984c5e124723",
        "colab": {
          "base_uri": "https://localhost:8080/"
        }
      },
      "outputs": [
        {
          "output_type": "stream",
          "name": "stdout",
          "text": [
            "yes\n"
          ]
        }
      ],
      "source": [
        "if 1 < 5:\n",
        "    print('yes')"
      ]
    },
    {
      "cell_type": "markdown",
      "id": "62690402",
      "metadata": {
        "id": "62690402"
      },
      "source": [
        "```python\n",
        "if เงื่อนไขที่จะตรวจสอบ (โดยใช้สัญลักษณ์ ==,!=,<,>,<=,>=):\n",
        "    ถ้าเงื่อนไขเป็นจริง ทำงานที่ 1\n",
        "    ถ้าเงื่อนไขเป็นจริง ทำงานที่ 2\n",
        "elif เงื่อนไขที่จะตรวจสอบต่อไปถ้าเงื่อนไขข้างบนไม่เป็นจริง:\n",
        "    ถ้าเงื่อนไขเป็นจริง ทำงานที่ a1\n",
        "    ถ้าเงื่อนไขเป็นจริง ทำงานที่ a2\n",
        "elif เงื่อนไขที่จะตรวจสอบต่อไปถ้าเงื่อนไขข้างบนไม่เป็นจริง:\n",
        "    ถ้าเงื่อนไขเป็นจริง ทำงานที่ b1\n",
        "    ถ้าเงื่อนไขเป็นจริง ทำงานที่ b2\n",
        "else: #ตรวจสอบเงื่อนไขข้างบนแล้วไม่เป็นจริง\n",
        "    ทำงานที่ X\n",
        "```\n",
        "Note: จะไม่ `elif` หรือไม่มีก็ได้"
      ]
    },
    {
      "cell_type": "code",
      "execution_count": 181,
      "id": "3711faa3",
      "metadata": {
        "id": "3711faa3",
        "outputId": "9cb2608d-a8dd-4727-dccf-56700d65daf0",
        "colab": {
          "base_uri": "https://localhost:8080/"
        }
      },
      "outputs": [
        {
          "output_type": "stream",
          "name": "stdout",
          "text": [
            "score = 83.83\n",
            "B\n"
          ]
        }
      ],
      "source": [
        "import numpy as np\n",
        "\n",
        "# random a real number between 60 to 100\n",
        "score = np.random.uniform(60, 100)\n",
        "print(\"score =\", np.round(score,2))\n",
        "\n",
        "if score > 90:\n",
        "    print('A')\n",
        "elif score > 80:\n",
        "    print('B')\n",
        "else:\n",
        "    print('C')"
      ]
    },
    {
      "cell_type": "markdown",
      "id": "0b5d63a9",
      "metadata": {
        "id": "0b5d63a9"
      },
      "source": [
        "### Loop: for ต้องฝึกเยอะๆ เดะจะทำโปรเจ็คไม่ได้ ไปฝึกที่วิทย์คอม\n",
        "``python\n",
        "for ตัวแปรที่เราจะรับค่าจากลิสต์ in ลิสต์ที่ต้องการจะวนลูป:\n",
        "    do something\n",
        "    do another thing\n",
        "this is outside the loop\n",
        "```\n",
        "Note: indent using 4 spaces"
      ]
    },
    {
      "cell_type": "code",
      "execution_count": 182,
      "id": "35ee6fec",
      "metadata": {
        "id": "35ee6fec"
      },
      "outputs": [],
      "source": [
        "food = ['chiken', 'shabu', 'vegetable']"
      ]
    },
    {
      "cell_type": "code",
      "execution_count": 183,
      "id": "a718b650",
      "metadata": {
        "id": "a718b650",
        "outputId": "acdfc10a-3dc4-4f33-98a1-60543f48715a",
        "colab": {
          "base_uri": "https://localhost:8080/"
        }
      },
      "outputs": [
        {
          "output_type": "stream",
          "name": "stdout",
          "text": [
            "I like to eat chiken\n",
            "I like to eat shabu\n",
            "I like to eat vegetable\n"
          ]
        }
      ],
      "source": [
        "for i in food:\n",
        "    print(\"I like to eat\", i)"
      ]
    },
    {
      "cell_type": "code",
      "execution_count": 184,
      "id": "3697c6d7",
      "metadata": {
        "id": "3697c6d7",
        "outputId": "e92193e3-c806-4fb9-838a-25d2613ab884",
        "colab": {
          "base_uri": "https://localhost:8080/"
        }
      },
      "outputs": [
        {
          "output_type": "stream",
          "name": "stdout",
          "text": [
            "10 100\n",
            "12 144\n",
            "14 196\n",
            "16 256\n",
            "18 324\n"
          ]
        }
      ],
      "source": [
        "for i in range(10, 20, 2):\n",
        "    print(i, i**2)"
      ]
    },
    {
      "cell_type": "code",
      "execution_count": 185,
      "id": "1d381c2c",
      "metadata": {
        "id": "1d381c2c",
        "outputId": "55489d6d-ca32-444d-a969-d8ea8c0785f8",
        "colab": {
          "base_uri": "https://localhost:8080/"
        }
      },
      "outputs": [
        {
          "output_type": "execute_result",
          "data": {
            "text/plain": [
              "[0, 2, 4]"
            ]
          },
          "metadata": {},
          "execution_count": 185
        }
      ],
      "source": [
        "xs = []\n",
        "for x in range(5):\n",
        "    if x % 2 == 0:\n",
        "        xs.append(x)\n",
        "xs"
      ]
    },
    {
      "cell_type": "markdown",
      "id": "49a89a93",
      "metadata": {
        "id": "49a89a93"
      },
      "source": [
        "Using `for` loop to create a list"
      ]
    },
    {
      "cell_type": "code",
      "execution_count": 186,
      "id": "52f348f1",
      "metadata": {
        "scrolled": true,
        "id": "52f348f1",
        "outputId": "84110a44-0d86-4b95-e55b-29bf5bce8244",
        "colab": {
          "base_uri": "https://localhost:8080/"
        }
      },
      "outputs": [
        {
          "output_type": "execute_result",
          "data": {
            "text/plain": [
              "[0, 1, 4, 9, 16]"
            ]
          },
          "metadata": {},
          "execution_count": 186
        }
      ],
      "source": [
        "[x**2 for x in range(5)]"
      ]
    },
    {
      "cell_type": "code",
      "execution_count": 187,
      "id": "9d5af4f1",
      "metadata": {
        "id": "9d5af4f1",
        "outputId": "a0ed3fcd-ef81-4950-940d-da078d1aae36",
        "colab": {
          "base_uri": "https://localhost:8080/"
        }
      },
      "outputs": [
        {
          "output_type": "execute_result",
          "data": {
            "text/plain": [
              "[0, 4, 16]"
            ]
          },
          "metadata": {},
          "execution_count": 187
        }
      ],
      "source": [
        "[x**2 for x in range(5) if x % 2 == 0]"
      ]
    },
    {
      "cell_type": "code",
      "execution_count": 188,
      "id": "333f6788",
      "metadata": {
        "id": "333f6788",
        "outputId": "ac435b70-394c-46a1-f2b8-75bc7c2bcd89",
        "colab": {
          "base_uri": "https://localhost:8080/"
        }
      },
      "outputs": [
        {
          "output_type": "execute_result",
          "data": {
            "text/plain": [
              "[0, -1, 4, -1, 16]"
            ]
          },
          "metadata": {},
          "execution_count": 188
        }
      ],
      "source": [
        "[x**2 if x % 2 == 0 else -1 for x in range(5)]"
      ]
    },
    {
      "cell_type": "markdown",
      "id": "9febe9f8",
      "metadata": {
        "id": "9febe9f8"
      },
      "source": [
        "### Loop: for, while\n",
        "```python\n",
        "while true_condition:\n",
        "    do something\n",
        "```\n",
        "Note: indent using 4 spaces"
      ]
    },
    {
      "cell_type": "code",
      "execution_count": 189,
      "id": "a486c62e",
      "metadata": {
        "id": "a486c62e",
        "outputId": "088d603d-6f9c-49b6-e1a3-72941249167e",
        "colab": {
          "base_uri": "https://localhost:8080/"
        }
      },
      "outputs": [
        {
          "output_type": "stream",
          "name": "stdout",
          "text": [
            "0\n",
            "1\n",
            "2\n",
            "3\n",
            "4\n"
          ]
        }
      ],
      "source": [
        "max_count = 5\n",
        "count = 0\n",
        "while (count < max_count):\n",
        "    print(count)\n",
        "    count += 1"
      ]
    },
    {
      "cell_type": "code",
      "execution_count": 190,
      "id": "8cc10928",
      "metadata": {
        "id": "8cc10928",
        "outputId": "72124c80-d79f-4c7a-981f-5e77b23dbc33",
        "colab": {
          "base_uri": "https://localhost:8080/"
        }
      },
      "outputs": [
        {
          "output_type": "stream",
          "name": "stdout",
          "text": [
            "0\n",
            "1\n",
            "2\n",
            "3\n"
          ]
        }
      ],
      "source": [
        "max_count = 5\n",
        "count = 0\n",
        "while (count < max_count):\n",
        "    print(count)\n",
        "    # break while loop if count = 3\n",
        "    if count == 3:\n",
        "        break\n",
        "    count += 1"
      ]
    },
    {
      "cell_type": "markdown",
      "id": "5040c89b",
      "metadata": {
        "id": "5040c89b"
      },
      "source": [
        "### Function\n",
        "```python\n",
        "def ชื่อฟังก์ชั่น(input1,input2,....):\n",
        "    do something\n",
        "    do another thing\n",
        "    return output\n",
        "```"
      ]
    },
    {
      "cell_type": "code",
      "source": [
        "# Hello\n",
        "# \"\"\"\n",
        "# Hello, my name is Meow!\n",
        "# Hi!\n",
        "# \"\"\""
      ],
      "metadata": {
        "id": "oKmKm3uIHgRo"
      },
      "id": "oKmKm3uIHgRo",
      "execution_count": 191,
      "outputs": []
    },
    {
      "cell_type": "code",
      "execution_count": 192,
      "id": "98723d2f",
      "metadata": {
        "id": "98723d2f"
      },
      "outputs": [],
      "source": [
        "def f(x):\n",
        "    \"\"\"Say something about the function here.\"\"\"\n",
        "    return x"
      ]
    },
    {
      "cell_type": "code",
      "source": [
        "f"
      ],
      "metadata": {
        "id": "nhYVQTzg6mgv",
        "outputId": "bef7829a-1921-47c9-af97-d0cb1b9a2281",
        "colab": {
          "base_uri": "https://localhost:8080/"
        }
      },
      "id": "nhYVQTzg6mgv",
      "execution_count": 197,
      "outputs": [
        {
          "output_type": "execute_result",
          "data": {
            "text/plain": [
              "<function __main__.f(x)>"
            ]
          },
          "metadata": {},
          "execution_count": 197
        }
      ]
    },
    {
      "cell_type": "code",
      "source": [
        "help(f)"
      ],
      "metadata": {
        "id": "J6-A-X7x7S3Y",
        "outputId": "0275f263-9c1e-4d14-b4c8-40230ba0dfe6",
        "colab": {
          "base_uri": "https://localhost:8080/"
        }
      },
      "id": "J6-A-X7x7S3Y",
      "execution_count": 213,
      "outputs": [
        {
          "output_type": "stream",
          "name": "stdout",
          "text": [
            "Help on function f in module __main__:\n",
            "\n",
            "f(x)\n",
            "    Say something about the function here.\n",
            "\n"
          ]
        }
      ]
    },
    {
      "cell_type": "code",
      "execution_count": 198,
      "id": "283b6211",
      "metadata": {
        "id": "283b6211",
        "outputId": "825bd1ef-908d-4bae-b507-5efe762f891d",
        "colab": {
          "base_uri": "https://localhost:8080/",
          "height": 35
        }
      },
      "outputs": [
        {
          "output_type": "execute_result",
          "data": {
            "text/plain": [
              "'Hello Pythonions!'"
            ],
            "application/vnd.google.colaboratory.intrinsic+json": {
              "type": "string"
            }
          },
          "metadata": {},
          "execution_count": 198
        }
      ],
      "source": [
        "f(\"Hello Pythonions!\")"
      ]
    },
    {
      "cell_type": "code",
      "execution_count": 195,
      "id": "59078170",
      "metadata": {
        "id": "59078170",
        "outputId": "c36c08bf-fb33-42ee-cd90-42cd3432b197",
        "colab": {
          "base_uri": "https://localhost:8080/"
        }
      },
      "outputs": [
        {
          "output_type": "execute_result",
          "data": {
            "text/plain": [
              "3.14"
            ]
          },
          "metadata": {},
          "execution_count": 195
        }
      ],
      "source": [
        "f(3.14)"
      ]
    },
    {
      "cell_type": "code",
      "execution_count": 199,
      "id": "45681032",
      "metadata": {
        "id": "45681032"
      },
      "outputs": [],
      "source": [
        "def compute_sum(a, b):\n",
        "    \"\"\"Calculate the sum of a and b.\"\"\"\n",
        "    return a + b"
      ]
    },
    {
      "cell_type": "code",
      "execution_count": 200,
      "id": "2db89ca9",
      "metadata": {
        "id": "2db89ca9",
        "outputId": "c5cc70aa-1267-4fc3-fc22-3e51de863888",
        "colab": {
          "base_uri": "https://localhost:8080/"
        }
      },
      "outputs": [
        {
          "output_type": "execute_result",
          "data": {
            "text/plain": [
              "7"
            ]
          },
          "metadata": {},
          "execution_count": 200
        }
      ],
      "source": [
        "compute_sum(3,4)"
      ]
    },
    {
      "cell_type": "code",
      "execution_count": 201,
      "id": "3a7330b8",
      "metadata": {
        "id": "3a7330b8"
      },
      "outputs": [],
      "source": [
        "def h(a= 0 , b = 1, c = 2):\n",
        "    \"\"\"Cacluates some complicated mathematical function.\"\"\"\n",
        "    return a + 2*b + 3*c"
      ]
    },
    {
      "cell_type": "code",
      "execution_count": 202,
      "id": "e4f7b011",
      "metadata": {
        "id": "e4f7b011",
        "outputId": "ea720782-e546-4949-afd4-a38d6ef81d33",
        "colab": {
          "base_uri": "https://localhost:8080/"
        }
      },
      "outputs": [
        {
          "output_type": "execute_result",
          "data": {
            "text/plain": [
              "8"
            ]
          },
          "metadata": {},
          "execution_count": 202
        }
      ],
      "source": [
        "h()"
      ]
    },
    {
      "cell_type": "code",
      "execution_count": 203,
      "id": "ee7d8d02",
      "metadata": {
        "id": "ee7d8d02",
        "outputId": "f6924239-7255-4bd4-cee3-5c70e362eb36",
        "colab": {
          "base_uri": "https://localhost:8080/"
        }
      },
      "outputs": [
        {
          "output_type": "execute_result",
          "data": {
            "text/plain": [
              "9"
            ]
          },
          "metadata": {},
          "execution_count": 203
        }
      ],
      "source": [
        "h(1,1,2)"
      ]
    },
    {
      "cell_type": "code",
      "execution_count": 204,
      "id": "37138a7c",
      "metadata": {
        "id": "37138a7c",
        "outputId": "81b58476-8cdc-4af6-8b83-6094793f1457",
        "colab": {
          "base_uri": "https://localhost:8080/"
        }
      },
      "outputs": [
        {
          "output_type": "execute_result",
          "data": {
            "text/plain": [
              "9"
            ]
          },
          "metadata": {},
          "execution_count": 204
        }
      ],
      "source": [
        "h(a=1)"
      ]
    },
    {
      "cell_type": "code",
      "execution_count": 205,
      "id": "4d99f85d",
      "metadata": {
        "scrolled": true,
        "id": "4d99f85d",
        "outputId": "7462829d-6f7e-4ad0-ff85-16d655add0a4",
        "colab": {
          "base_uri": "https://localhost:8080/"
        }
      },
      "outputs": [
        {
          "output_type": "execute_result",
          "data": {
            "text/plain": [
              "14"
            ]
          },
          "metadata": {},
          "execution_count": 205
        }
      ],
      "source": [
        "h(c=3,b=2,a=1)"
      ]
    },
    {
      "cell_type": "code",
      "execution_count": 206,
      "id": "96a1a0cf",
      "metadata": {
        "id": "96a1a0cf"
      },
      "outputs": [],
      "source": [
        "def func1(s):\n",
        "    \"\"\"\n",
        "    Print a string 's' and tell how many characters it has\n",
        "    s: a given string\n",
        "    \"\"\"\n",
        "    print(s + \" has \" + str(len(s)) + \" characters\")"
      ]
    },
    {
      "cell_type": "code",
      "execution_count": 207,
      "id": "1aad3289",
      "metadata": {
        "id": "1aad3289",
        "outputId": "be4c57c8-01ad-49bf-d96c-40d16929340a",
        "colab": {
          "base_uri": "https://localhost:8080/"
        }
      },
      "outputs": [
        {
          "output_type": "stream",
          "name": "stdout",
          "text": [
            "Hello! has 6 characters\n"
          ]
        }
      ],
      "source": [
        "func1(\"Hello!\")"
      ]
    },
    {
      "cell_type": "code",
      "execution_count": 208,
      "id": "d579f11d",
      "metadata": {
        "id": "d579f11d",
        "outputId": "e510a0c0-06fb-4ca8-c277-3ff1939c31a4",
        "colab": {
          "base_uri": "https://localhost:8080/"
        }
      },
      "outputs": [
        {
          "output_type": "stream",
          "name": "stdout",
          "text": [
            "Help on function func1 in module __main__:\n",
            "\n",
            "func1(s)\n",
            "    Print a string 's' and tell how many characters it has\n",
            "    s: a given string\n",
            "\n"
          ]
        }
      ],
      "source": [
        "help(func1)"
      ]
    },
    {
      "cell_type": "markdown",
      "id": "71b413a0",
      "metadata": {
        "id": "71b413a0"
      },
      "source": [
        "## Using libraries"
      ]
    },
    {
      "cell_type": "markdown",
      "id": "e68aa297",
      "metadata": {
        "id": "e68aa297"
      },
      "source": [
        "### math library"
      ]
    },
    {
      "cell_type": "code",
      "execution_count": 209,
      "id": "8d26d953",
      "metadata": {
        "id": "8d26d953",
        "outputId": "5dc6d899-99e5-4528-dc7c-500daf6b550a",
        "colab": {
          "base_uri": "https://localhost:8080/"
        }
      },
      "outputs": [
        {
          "output_type": "execute_result",
          "data": {
            "text/plain": [
              "3.141592653589793"
            ]
          },
          "metadata": {},
          "execution_count": 209
        }
      ],
      "source": [
        "import math\n",
        "math.pi"
      ]
    },
    {
      "cell_type": "code",
      "execution_count": 210,
      "id": "88fa0630",
      "metadata": {
        "id": "88fa0630",
        "outputId": "8afebec7-83f2-4caa-9054-cb19df957960",
        "colab": {
          "base_uri": "https://localhost:8080/"
        }
      },
      "outputs": [
        {
          "output_type": "stream",
          "name": "stdout",
          "text": [
            "['__doc__', '__loader__', '__name__', '__package__', '__spec__', 'acos', 'acosh', 'asin', 'asinh', 'atan', 'atan2', 'atanh', 'ceil', 'comb', 'copysign', 'cos', 'cosh', 'degrees', 'dist', 'e', 'erf', 'erfc', 'exp', 'expm1', 'fabs', 'factorial', 'floor', 'fmod', 'frexp', 'fsum', 'gamma', 'gcd', 'hypot', 'inf', 'isclose', 'isfinite', 'isinf', 'isnan', 'isqrt', 'lcm', 'ldexp', 'lgamma', 'log', 'log10', 'log1p', 'log2', 'modf', 'nan', 'nextafter', 'perm', 'pi', 'pow', 'prod', 'radians', 'remainder', 'sin', 'sinh', 'sqrt', 'tan', 'tanh', 'tau', 'trunc', 'ulp']\n"
          ]
        }
      ],
      "source": [
        "print(dir(math))"
      ]
    },
    {
      "cell_type": "code",
      "execution_count": 211,
      "id": "5853b110",
      "metadata": {
        "id": "5853b110",
        "outputId": "05b0e55a-bfb1-4b93-ae54-ee20583378db",
        "colab": {
          "base_uri": "https://localhost:8080/"
        }
      },
      "outputs": [
        {
          "output_type": "stream",
          "name": "stdout",
          "text": [
            "Help on built-in module math:\n",
            "\n",
            "NAME\n",
            "    math\n",
            "\n",
            "DESCRIPTION\n",
            "    This module provides access to the mathematical functions\n",
            "    defined by the C standard.\n",
            "\n",
            "FUNCTIONS\n",
            "    acos(x, /)\n",
            "        Return the arc cosine (measured in radians) of x.\n",
            "        \n",
            "        The result is between 0 and pi.\n",
            "    \n",
            "    acosh(x, /)\n",
            "        Return the inverse hyperbolic cosine of x.\n",
            "    \n",
            "    asin(x, /)\n",
            "        Return the arc sine (measured in radians) of x.\n",
            "        \n",
            "        The result is between -pi/2 and pi/2.\n",
            "    \n",
            "    asinh(x, /)\n",
            "        Return the inverse hyperbolic sine of x.\n",
            "    \n",
            "    atan(x, /)\n",
            "        Return the arc tangent (measured in radians) of x.\n",
            "        \n",
            "        The result is between -pi/2 and pi/2.\n",
            "    \n",
            "    atan2(y, x, /)\n",
            "        Return the arc tangent (measured in radians) of y/x.\n",
            "        \n",
            "        Unlike atan(y/x), the signs of both x and y are considered.\n",
            "    \n",
            "    atanh(x, /)\n",
            "        Return the inverse hyperbolic tangent of x.\n",
            "    \n",
            "    ceil(x, /)\n",
            "        Return the ceiling of x as an Integral.\n",
            "        \n",
            "        This is the smallest integer >= x.\n",
            "    \n",
            "    comb(n, k, /)\n",
            "        Number of ways to choose k items from n items without repetition and without order.\n",
            "        \n",
            "        Evaluates to n! / (k! * (n - k)!) when k <= n and evaluates\n",
            "        to zero when k > n.\n",
            "        \n",
            "        Also called the binomial coefficient because it is equivalent\n",
            "        to the coefficient of k-th term in polynomial expansion of the\n",
            "        expression (1 + x)**n.\n",
            "        \n",
            "        Raises TypeError if either of the arguments are not integers.\n",
            "        Raises ValueError if either of the arguments are negative.\n",
            "    \n",
            "    copysign(x, y, /)\n",
            "        Return a float with the magnitude (absolute value) of x but the sign of y.\n",
            "        \n",
            "        On platforms that support signed zeros, copysign(1.0, -0.0)\n",
            "        returns -1.0.\n",
            "    \n",
            "    cos(x, /)\n",
            "        Return the cosine of x (measured in radians).\n",
            "    \n",
            "    cosh(x, /)\n",
            "        Return the hyperbolic cosine of x.\n",
            "    \n",
            "    degrees(x, /)\n",
            "        Convert angle x from radians to degrees.\n",
            "    \n",
            "    dist(p, q, /)\n",
            "        Return the Euclidean distance between two points p and q.\n",
            "        \n",
            "        The points should be specified as sequences (or iterables) of\n",
            "        coordinates.  Both inputs must have the same dimension.\n",
            "        \n",
            "        Roughly equivalent to:\n",
            "            sqrt(sum((px - qx) ** 2.0 for px, qx in zip(p, q)))\n",
            "    \n",
            "    erf(x, /)\n",
            "        Error function at x.\n",
            "    \n",
            "    erfc(x, /)\n",
            "        Complementary error function at x.\n",
            "    \n",
            "    exp(x, /)\n",
            "        Return e raised to the power of x.\n",
            "    \n",
            "    expm1(x, /)\n",
            "        Return exp(x)-1.\n",
            "        \n",
            "        This function avoids the loss of precision involved in the direct evaluation of exp(x)-1 for small x.\n",
            "    \n",
            "    fabs(x, /)\n",
            "        Return the absolute value of the float x.\n",
            "    \n",
            "    factorial(x, /)\n",
            "        Find x!.\n",
            "        \n",
            "        Raise a ValueError if x is negative or non-integral.\n",
            "    \n",
            "    floor(x, /)\n",
            "        Return the floor of x as an Integral.\n",
            "        \n",
            "        This is the largest integer <= x.\n",
            "    \n",
            "    fmod(x, y, /)\n",
            "        Return fmod(x, y), according to platform C.\n",
            "        \n",
            "        x % y may differ.\n",
            "    \n",
            "    frexp(x, /)\n",
            "        Return the mantissa and exponent of x, as pair (m, e).\n",
            "        \n",
            "        m is a float and e is an int, such that x = m * 2.**e.\n",
            "        If x is 0, m and e are both 0.  Else 0.5 <= abs(m) < 1.0.\n",
            "    \n",
            "    fsum(seq, /)\n",
            "        Return an accurate floating point sum of values in the iterable seq.\n",
            "        \n",
            "        Assumes IEEE-754 floating point arithmetic.\n",
            "    \n",
            "    gamma(x, /)\n",
            "        Gamma function at x.\n",
            "    \n",
            "    gcd(*integers)\n",
            "        Greatest Common Divisor.\n",
            "    \n",
            "    hypot(...)\n",
            "        hypot(*coordinates) -> value\n",
            "        \n",
            "        Multidimensional Euclidean distance from the origin to a point.\n",
            "        \n",
            "        Roughly equivalent to:\n",
            "            sqrt(sum(x**2 for x in coordinates))\n",
            "        \n",
            "        For a two dimensional point (x, y), gives the hypotenuse\n",
            "        using the Pythagorean theorem:  sqrt(x*x + y*y).\n",
            "        \n",
            "        For example, the hypotenuse of a 3/4/5 right triangle is:\n",
            "        \n",
            "            >>> hypot(3.0, 4.0)\n",
            "            5.0\n",
            "    \n",
            "    isclose(a, b, *, rel_tol=1e-09, abs_tol=0.0)\n",
            "        Determine whether two floating point numbers are close in value.\n",
            "        \n",
            "          rel_tol\n",
            "            maximum difference for being considered \"close\", relative to the\n",
            "            magnitude of the input values\n",
            "          abs_tol\n",
            "            maximum difference for being considered \"close\", regardless of the\n",
            "            magnitude of the input values\n",
            "        \n",
            "        Return True if a is close in value to b, and False otherwise.\n",
            "        \n",
            "        For the values to be considered close, the difference between them\n",
            "        must be smaller than at least one of the tolerances.\n",
            "        \n",
            "        -inf, inf and NaN behave similarly to the IEEE 754 Standard.  That\n",
            "        is, NaN is not close to anything, even itself.  inf and -inf are\n",
            "        only close to themselves.\n",
            "    \n",
            "    isfinite(x, /)\n",
            "        Return True if x is neither an infinity nor a NaN, and False otherwise.\n",
            "    \n",
            "    isinf(x, /)\n",
            "        Return True if x is a positive or negative infinity, and False otherwise.\n",
            "    \n",
            "    isnan(x, /)\n",
            "        Return True if x is a NaN (not a number), and False otherwise.\n",
            "    \n",
            "    isqrt(n, /)\n",
            "        Return the integer part of the square root of the input.\n",
            "    \n",
            "    lcm(*integers)\n",
            "        Least Common Multiple.\n",
            "    \n",
            "    ldexp(x, i, /)\n",
            "        Return x * (2**i).\n",
            "        \n",
            "        This is essentially the inverse of frexp().\n",
            "    \n",
            "    lgamma(x, /)\n",
            "        Natural logarithm of absolute value of Gamma function at x.\n",
            "    \n",
            "    log(...)\n",
            "        log(x, [base=math.e])\n",
            "        Return the logarithm of x to the given base.\n",
            "        \n",
            "        If the base not specified, returns the natural logarithm (base e) of x.\n",
            "    \n",
            "    log10(x, /)\n",
            "        Return the base 10 logarithm of x.\n",
            "    \n",
            "    log1p(x, /)\n",
            "        Return the natural logarithm of 1+x (base e).\n",
            "        \n",
            "        The result is computed in a way which is accurate for x near zero.\n",
            "    \n",
            "    log2(x, /)\n",
            "        Return the base 2 logarithm of x.\n",
            "    \n",
            "    modf(x, /)\n",
            "        Return the fractional and integer parts of x.\n",
            "        \n",
            "        Both results carry the sign of x and are floats.\n",
            "    \n",
            "    nextafter(x, y, /)\n",
            "        Return the next floating-point value after x towards y.\n",
            "    \n",
            "    perm(n, k=None, /)\n",
            "        Number of ways to choose k items from n items without repetition and with order.\n",
            "        \n",
            "        Evaluates to n! / (n - k)! when k <= n and evaluates\n",
            "        to zero when k > n.\n",
            "        \n",
            "        If k is not specified or is None, then k defaults to n\n",
            "        and the function returns n!.\n",
            "        \n",
            "        Raises TypeError if either of the arguments are not integers.\n",
            "        Raises ValueError if either of the arguments are negative.\n",
            "    \n",
            "    pow(x, y, /)\n",
            "        Return x**y (x to the power of y).\n",
            "    \n",
            "    prod(iterable, /, *, start=1)\n",
            "        Calculate the product of all the elements in the input iterable.\n",
            "        \n",
            "        The default start value for the product is 1.\n",
            "        \n",
            "        When the iterable is empty, return the start value.  This function is\n",
            "        intended specifically for use with numeric values and may reject\n",
            "        non-numeric types.\n",
            "    \n",
            "    radians(x, /)\n",
            "        Convert angle x from degrees to radians.\n",
            "    \n",
            "    remainder(x, y, /)\n",
            "        Difference between x and the closest integer multiple of y.\n",
            "        \n",
            "        Return x - n*y where n*y is the closest integer multiple of y.\n",
            "        In the case where x is exactly halfway between two multiples of\n",
            "        y, the nearest even value of n is used. The result is always exact.\n",
            "    \n",
            "    sin(x, /)\n",
            "        Return the sine of x (measured in radians).\n",
            "    \n",
            "    sinh(x, /)\n",
            "        Return the hyperbolic sine of x.\n",
            "    \n",
            "    sqrt(x, /)\n",
            "        Return the square root of x.\n",
            "    \n",
            "    tan(x, /)\n",
            "        Return the tangent of x (measured in radians).\n",
            "    \n",
            "    tanh(x, /)\n",
            "        Return the hyperbolic tangent of x.\n",
            "    \n",
            "    trunc(x, /)\n",
            "        Truncates the Real x to the nearest Integral toward 0.\n",
            "        \n",
            "        Uses the __trunc__ magic method.\n",
            "    \n",
            "    ulp(x, /)\n",
            "        Return the value of the least significant bit of the float x.\n",
            "\n",
            "DATA\n",
            "    e = 2.718281828459045\n",
            "    inf = inf\n",
            "    nan = nan\n",
            "    pi = 3.141592653589793\n",
            "    tau = 6.283185307179586\n",
            "\n",
            "FILE\n",
            "    (built-in)\n",
            "\n",
            "\n"
          ]
        }
      ],
      "source": [
        "help(math)"
      ]
    },
    {
      "cell_type": "code",
      "execution_count": 214,
      "id": "fa16a70a",
      "metadata": {
        "id": "fa16a70a",
        "outputId": "56130b4f-65ee-4554-c966-803b712aab0f",
        "colab": {
          "base_uri": "https://localhost:8080/"
        }
      },
      "outputs": [
        {
          "output_type": "stream",
          "name": "stdout",
          "text": [
            "Help on built-in function log in module math:\n",
            "\n",
            "log(...)\n",
            "    log(x, [base=math.e])\n",
            "    Return the logarithm of x to the given base.\n",
            "    \n",
            "    If the base not specified, returns the natural logarithm (base e) of x.\n",
            "\n"
          ]
        }
      ],
      "source": [
        "help(math.log)"
      ]
    },
    {
      "cell_type": "code",
      "execution_count": 215,
      "id": "d025f9ad",
      "metadata": {
        "scrolled": true,
        "id": "d025f9ad",
        "outputId": "1949bcd8-0641-4359-d008-c9094a0145ac",
        "colab": {
          "base_uri": "https://localhost:8080/"
        }
      },
      "outputs": [
        {
          "output_type": "execute_result",
          "data": {
            "text/plain": [
              "1.0"
            ]
          },
          "metadata": {},
          "execution_count": 215
        }
      ],
      "source": [
        "math.log(math.e)"
      ]
    },
    {
      "cell_type": "code",
      "execution_count": 216,
      "id": "3294b2f8",
      "metadata": {
        "id": "3294b2f8",
        "outputId": "809f8e59-c240-4828-c06a-fae842d8b70f",
        "colab": {
          "base_uri": "https://localhost:8080/"
        }
      },
      "outputs": [
        {
          "output_type": "execute_result",
          "data": {
            "text/plain": [
              "1.3862943611198906"
            ]
          },
          "metadata": {},
          "execution_count": 216
        }
      ],
      "source": [
        "math.log(4)"
      ]
    },
    {
      "cell_type": "code",
      "execution_count": 217,
      "id": "e3fb9d96",
      "metadata": {
        "id": "e3fb9d96",
        "outputId": "478afe85-9227-4f56-c4a1-ad20234c1af7",
        "colab": {
          "base_uri": "https://localhost:8080/"
        }
      },
      "outputs": [
        {
          "output_type": "execute_result",
          "data": {
            "text/plain": [
              "2.0"
            ]
          },
          "metadata": {},
          "execution_count": 217
        }
      ],
      "source": [
        "math.log(4, 2)"
      ]
    },
    {
      "cell_type": "markdown",
      "id": "ce59de65",
      "metadata": {
        "id": "ce59de65"
      },
      "source": [
        "### numpy library"
      ]
    },
    {
      "cell_type": "code",
      "execution_count": 218,
      "id": "baee3b95",
      "metadata": {
        "id": "baee3b95",
        "outputId": "696f441e-7a06-4ee1-83e2-af605294cfe4",
        "colab": {
          "base_uri": "https://localhost:8080/"
        }
      },
      "outputs": [
        {
          "output_type": "execute_result",
          "data": {
            "text/plain": [
              "array([0. , 0.1, 0.2, 0.3, 0.4, 0.5, 0.6, 0.7, 0.8, 0.9, 1. ])"
            ]
          },
          "metadata": {},
          "execution_count": 218
        }
      ],
      "source": [
        "np.linspace(0, 1, 11)"
      ]
    },
    {
      "cell_type": "code",
      "execution_count": 219,
      "id": "8de38dca",
      "metadata": {
        "id": "8de38dca",
        "outputId": "a955260e-4903-4d9e-b8dc-aba7b8904c7b",
        "colab": {
          "base_uri": "https://localhost:8080/"
        }
      },
      "outputs": [
        {
          "output_type": "execute_result",
          "data": {
            "text/plain": [
              "array([0.08834628, 0.43062494, 0.5039635 , 0.81526261])"
            ]
          },
          "metadata": {},
          "execution_count": 219
        }
      ],
      "source": [
        "from numpy.random import rand\n",
        "rand(4)"
      ]
    },
    {
      "cell_type": "markdown",
      "id": "f21314e8",
      "metadata": {
        "id": "f21314e8"
      },
      "source": [
        "- Some other very useful modules form the Python standard library are `os`, `sys`, `shutil`, `re`, etc.\n",
        "- A complete lists of standard modules for Python 3 is available at http://docs.python.org/3/library/"
      ]
    }
  ],
  "metadata": {
    "kernelspec": {
      "display_name": "Python 3 (ipykernel)",
      "language": "python",
      "name": "python3"
    },
    "language_info": {
      "codemirror_mode": {
        "name": "ipython",
        "version": 3
      },
      "file_extension": ".py",
      "mimetype": "text/x-python",
      "name": "python",
      "nbconvert_exporter": "python",
      "pygments_lexer": "ipython3",
      "version": "3.8.8"
    },
    "colab": {
      "provenance": [],
      "include_colab_link": true
    }
  },
  "nbformat": 4,
  "nbformat_minor": 5
}