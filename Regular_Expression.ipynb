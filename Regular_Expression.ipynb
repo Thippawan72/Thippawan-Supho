{
  "cells": [
    {
      "cell_type": "markdown",
      "metadata": {
        "id": "view-in-github",
        "colab_type": "text"
      },
      "source": [
        "<a href=\"https://colab.research.google.com/github/Thippawan72/Thippawan-Supho/blob/main/Regular_Expression.ipynb\" target=\"_parent\"><img src=\"https://colab.research.google.com/assets/colab-badge.svg\" alt=\"Open In Colab\"/></a>"
      ]
    },
    {
      "cell_type": "markdown",
      "id": "f9d4c542",
      "metadata": {
        "id": "f9d4c542"
      },
      "source": [
        "# Regular Expression"
      ]
    },
    {
      "cell_type": "markdown",
      "id": "7e167883",
      "metadata": {
        "id": "7e167883"
      },
      "source": [
        "A RegEx, or Regular Expression, is a sequence of characters that forms a search pattern.\n",
        "\n",
        "RegEx can be used to check if a string contains the specified search pattern.\n",
        "\n",
        "Python has a built-in package called re, which can be used to work with Regular Expressions."
      ]
    },
    {
      "cell_type": "code",
      "execution_count": 1,
      "id": "0ff0a32e",
      "metadata": {
        "id": "0ff0a32e"
      },
      "outputs": [],
      "source": [
        "import re"
      ]
    },
    {
      "cell_type": "markdown",
      "id": "89a525f8",
      "metadata": {
        "id": "89a525f8"
      },
      "source": [
        "### Basic re functions\n",
        "`findall`\tReturns a list containing all matches<br>\n",
        "`search`\tReturns a Match object if there is a match anywhere in the string<br>\n",
        "`split`\t    Returns a list where the string has been split at each match<br>\n",
        "`sub`\t    Replaces one or many matches with a string<br>\n",
        "Link to more: https://www.w3schools.com/python/python_regex.asp"
      ]
    },
    {
      "cell_type": "code",
      "execution_count": 2,
      "id": "8d6fd56e",
      "metadata": {
        "id": "8d6fd56e",
        "outputId": "7a3a082b-25b5-4ef0-8c34-4ba7bfa55b83",
        "colab": {
          "base_uri": "https://localhost:8080/"
        }
      },
      "outputs": [
        {
          "output_type": "stream",
          "name": "stdout",
          "text": [
            "['ai', 'ai']\n"
          ]
        }
      ],
      "source": [
        "txt = \"The rain in Spain\"\n",
        "x = re.findall(\"ai\", txt)\n",
        "print(x)"
      ]
    },
    {
      "cell_type": "code",
      "execution_count": 3,
      "id": "87db6edb",
      "metadata": {
        "id": "87db6edb",
        "outputId": "cab90014-d011-40ae-e8ac-429efcb04c63",
        "colab": {
          "base_uri": "https://localhost:8080/"
        }
      },
      "outputs": [
        {
          "output_type": "stream",
          "name": "stdout",
          "text": [
            "<re.Match object; span=(5, 7), match='ai'>\n"
          ]
        }
      ],
      "source": [
        "txt = \"The rain in Spain\"\n",
        "x = re.search(\"ai\", txt)\n",
        "print(x) #this will print an object"
      ]
    },
    {
      "cell_type": "code",
      "execution_count": 4,
      "id": "d2c73a64",
      "metadata": {
        "id": "d2c73a64",
        "outputId": "050dbe1a-bea6-436b-e74b-76a1a39ee222",
        "colab": {
          "base_uri": "https://localhost:8080/"
        }
      },
      "outputs": [
        {
          "output_type": "stream",
          "name": "stdout",
          "text": [
            "<re.Match object; span=(3, 4), match=' '>\n",
            "The first white-space character is located in position: 3\n"
          ]
        }
      ],
      "source": [
        "txt = \"The rain in Spain\"\n",
        "x = re.search(\"\\s\", txt)\n",
        "print(x)\n",
        "print(\"The first white-space character is located in position:\", x.start())"
      ]
    },
    {
      "cell_type": "code",
      "execution_count": 5,
      "id": "3ce5868d",
      "metadata": {
        "id": "3ce5868d",
        "outputId": "aa452b7d-e00e-47a9-fdd2-9e3ca1c235d8",
        "colab": {
          "base_uri": "https://localhost:8080/"
        }
      },
      "outputs": [
        {
          "output_type": "execute_result",
          "data": {
            "text/plain": [
              "<re.Match object; span=(0, 17), match='The rain in Spain'>"
            ]
          },
          "metadata": {},
          "execution_count": 5
        }
      ],
      "source": [
        "# Search the string to see if it starts with \"The\" and ends with \"Spain\"\n",
        "txt = \"The rain in Spain\"\n",
        "x = re.search(\"^The.*Spain$\", txt)\n",
        "x"
      ]
    },
    {
      "cell_type": "code",
      "execution_count": 6,
      "id": "8690e344",
      "metadata": {
        "id": "8690e344",
        "outputId": "de883ad5-099e-4daa-80a1-0e94faa1eb39",
        "colab": {
          "base_uri": "https://localhost:8080/"
        }
      },
      "outputs": [
        {
          "output_type": "stream",
          "name": "stdout",
          "text": [
            "['The', 'rain', 'in', 'Spain']\n"
          ]
        }
      ],
      "source": [
        "txt = \"The rain in Spain\"\n",
        "x = re.split(\"\\s\", txt)\n",
        "print(x)"
      ]
    },
    {
      "cell_type": "code",
      "execution_count": 7,
      "id": "fb76c1be",
      "metadata": {
        "id": "fb76c1be",
        "outputId": "27c1bc38-f4d4-4519-f663-014c6a843765",
        "colab": {
          "base_uri": "https://localhost:8080/"
        }
      },
      "outputs": [
        {
          "output_type": "stream",
          "name": "stdout",
          "text": [
            "The9rain9in9Spain\n"
          ]
        }
      ],
      "source": [
        "txt = \"The rain in Spain\"\n",
        "x = re.sub(\"\\s\", \"9\", txt)\n",
        "print(x)"
      ]
    },
    {
      "cell_type": "markdown",
      "id": "495c4986",
      "metadata": {
        "id": "495c4986"
      },
      "source": [
        "### Python build-in functions"
      ]
    },
    {
      "cell_type": "code",
      "execution_count": 8,
      "id": "753ed96c",
      "metadata": {
        "scrolled": true,
        "id": "753ed96c",
        "outputId": "0484d0c4-de1b-4cf8-f7e8-32a061f66b10",
        "colab": {
          "base_uri": "https://localhost:8080/",
          "height": 36
        }
      },
      "outputs": [
        {
          "output_type": "execute_result",
          "data": {
            "text/plain": [
              "'Python is fun!'"
            ],
            "application/vnd.google.colaboratory.intrinsic+json": {
              "type": "string"
            }
          },
          "metadata": {},
          "execution_count": 8
        }
      ],
      "source": [
        "\"python is FUN!\".capitalize()"
      ]
    },
    {
      "cell_type": "code",
      "execution_count": 9,
      "id": "f41e23c1",
      "metadata": {
        "scrolled": true,
        "id": "f41e23c1",
        "outputId": "d2baec97-57bc-4d9f-9bbc-b752e4963cb9",
        "colab": {
          "base_uri": "https://localhost:8080/",
          "height": 36
        }
      },
      "outputs": [
        {
          "output_type": "execute_result",
          "data": {
            "text/plain": [
              "'36 is my age.'"
            ],
            "application/vnd.google.colaboratory.intrinsic+json": {
              "type": "string"
            }
          },
          "metadata": {},
          "execution_count": 9
        }
      ],
      "source": [
        "\"36 is my age.\".capitalize()"
      ]
    },
    {
      "cell_type": "code",
      "execution_count": 10,
      "id": "133cef6e",
      "metadata": {
        "scrolled": true,
        "id": "133cef6e",
        "outputId": "15af7594-c85b-4b86-8f8f-ac14926bbb1b",
        "colab": {
          "base_uri": "https://localhost:8080/",
          "height": 36
        }
      },
      "outputs": [
        {
          "output_type": "execute_result",
          "data": {
            "text/plain": [
              "'hello my friends'"
            ],
            "application/vnd.google.colaboratory.intrinsic+json": {
              "type": "string"
            }
          },
          "metadata": {},
          "execution_count": 10
        }
      ],
      "source": [
        "\"Hello my FRIENDS\".lower()"
      ]
    },
    {
      "cell_type": "markdown",
      "id": "a87f3318",
      "metadata": {
        "id": "a87f3318"
      },
      "source": [
        "The `replace()` method replaces a specified phrase with another specified phrase.<br>\n",
        "Note: All occurrences of the specified phrase will be replaced, if nothing else is specified.<br>\n",
        "`string.replace(oldvalue, newvalue, count)`<br>\n",
        "oldvalue: Required. The string to search for<br>\n",
        "newvalue: Required. The string to replace the old value with<br>\n",
        "count: Optional. A number specifying how many occurrences of the old value you want to replace. Default is all occurrences"
      ]
    },
    {
      "cell_type": "code",
      "execution_count": 11,
      "id": "20300275",
      "metadata": {
        "id": "20300275",
        "outputId": "57b49f2e-6360-48b7-c8b7-e41f3528a7fd",
        "colab": {
          "base_uri": "https://localhost:8080/"
        }
      },
      "outputs": [
        {
          "output_type": "stream",
          "name": "stdout",
          "text": [
            "I like apples\n"
          ]
        }
      ],
      "source": [
        "txt = \"I like bananas\"\n",
        "x = txt.replace(\"bananas\", \"apples\")\n",
        "print(x)"
      ]
    },
    {
      "cell_type": "code",
      "execution_count": 12,
      "id": "4563c24b",
      "metadata": {
        "id": "4563c24b",
        "outputId": "35fec640-8289-451b-a9da-07c5478a1d73",
        "colab": {
          "base_uri": "https://localhost:8080/"
        }
      },
      "outputs": [
        {
          "output_type": "stream",
          "name": "stdout",
          "text": [
            "three three was a race horse, two two was three too.\n"
          ]
        }
      ],
      "source": [
        "txt = \"one one was a race horse, two two was one too.\"\n",
        "x = txt.replace(\"one\", \"three\")\n",
        "print(x)"
      ]
    },
    {
      "cell_type": "code",
      "execution_count": 13,
      "id": "fa57d626",
      "metadata": {
        "id": "fa57d626",
        "outputId": "b3adefec-acee-44d0-f85f-15e052b5d8a3",
        "colab": {
          "base_uri": "https://localhost:8080/"
        }
      },
      "outputs": [
        {
          "output_type": "stream",
          "name": "stdout",
          "text": [
            "three three was a race horse, two two was one too.\n"
          ]
        }
      ],
      "source": [
        "txt = \"one one was a race horse, two two was one too.\"\n",
        "x = txt.replace(\"one\", \"three\", 2)\n",
        "print(x)"
      ]
    },
    {
      "cell_type": "markdown",
      "id": "2a729a7b",
      "metadata": {
        "id": "2a729a7b"
      },
      "source": [
        "`string.count(value, start, end)`<br>\n",
        "value: Required. A String. The string to value to search for<br>\n",
        "start: Optional. An Integer. The position to start the search. Default is 0<br>\n",
        "end: Optional. An Integer. The position to end the search. Default is the end of the string"
      ]
    },
    {
      "cell_type": "code",
      "execution_count": 14,
      "id": "68b58ad0",
      "metadata": {
        "id": "68b58ad0",
        "outputId": "3524c142-b669-49e3-e8e9-0f9af53c8f6f",
        "colab": {
          "base_uri": "https://localhost:8080/"
        }
      },
      "outputs": [
        {
          "output_type": "execute_result",
          "data": {
            "text/plain": [
              "2"
            ]
          },
          "metadata": {},
          "execution_count": 14
        }
      ],
      "source": [
        "txt = \"I love apples, apple are my favorite fruit\"\n",
        "x = txt.count(\"apple\")\n",
        "x"
      ]
    },
    {
      "cell_type": "code",
      "execution_count": 15,
      "id": "48d6f852",
      "metadata": {
        "scrolled": true,
        "id": "48d6f852",
        "outputId": "025d1ac5-d290-4d16-cd7c-9939209c3fc4",
        "colab": {
          "base_uri": "https://localhost:8080/"
        }
      },
      "outputs": [
        {
          "output_type": "execute_result",
          "data": {
            "text/plain": [
              "1"
            ]
          },
          "metadata": {},
          "execution_count": 15
        }
      ],
      "source": [
        "txt = \"I love apples, apple are my favorite fruit\"\n",
        "x = txt.count(\"apple\", 10, 24)\n",
        "x"
      ]
    },
    {
      "cell_type": "markdown",
      "id": "c8f22c84",
      "metadata": {
        "id": "c8f22c84"
      },
      "source": [
        "`string.endswith(value, start, end)`<br>\n",
        "value: Required. The value to check if the string ends with<br>\n",
        "start: Optional. The position to start the search. Default is 0<br>\n",
        "end: Optional. The position to end the search. Default is the end of the string"
      ]
    },
    {
      "cell_type": "code",
      "execution_count": 16,
      "id": "bae919a8",
      "metadata": {
        "id": "bae919a8",
        "outputId": "297fcf67-33b9-49ef-f87f-2242cf6f28b1",
        "colab": {
          "base_uri": "https://localhost:8080/"
        }
      },
      "outputs": [
        {
          "output_type": "execute_result",
          "data": {
            "text/plain": [
              "True"
            ]
          },
          "metadata": {},
          "execution_count": 16
        }
      ],
      "source": [
        "txt = \"Hello, welcome to my world.\"\n",
        "x = txt.endswith(\".\")\n",
        "x"
      ]
    },
    {
      "cell_type": "code",
      "execution_count": 17,
      "id": "cb5b861f",
      "metadata": {
        "id": "cb5b861f",
        "outputId": "8d0f7b11-e6a1-4227-84e6-dd3bf7a02518",
        "colab": {
          "base_uri": "https://localhost:8080/"
        }
      },
      "outputs": [
        {
          "output_type": "execute_result",
          "data": {
            "text/plain": [
              "True"
            ]
          },
          "metadata": {},
          "execution_count": 17
        }
      ],
      "source": [
        "txt = \"Hello, welcome to my world.\"\n",
        "x = txt.endswith(\"my world.\")\n",
        "x"
      ]
    },
    {
      "cell_type": "code",
      "execution_count": 18,
      "id": "839cf026",
      "metadata": {
        "id": "839cf026",
        "outputId": "11a5937f-f72e-4bfb-d056-e775eaf5431e",
        "colab": {
          "base_uri": "https://localhost:8080/"
        }
      },
      "outputs": [
        {
          "output_type": "stream",
          "name": "stdout",
          "text": [
            "o\n",
            "False\n"
          ]
        }
      ],
      "source": [
        "txt = \"Hello, welcome to my world.\"\n",
        "x = txt.endswith(\"my world.\", 5, 11)\n",
        "print(txt[11])\n",
        "print(x)"
      ]
    },
    {
      "cell_type": "markdown",
      "id": "b856bda3",
      "metadata": {
        "id": "b856bda3"
      },
      "source": [
        "The `find()` method finds the first occurrence of the specified value.<br>\n",
        "The `find()` method returns -1 if the value is not found.<br>\n",
        "`string.find(value, start, end)`<br>\n",
        "value: Required. The value to search for<br>\n",
        "start: Optional. Where to start the search. Default is 0<br>\n",
        "end: Optional. Where to end the search. Default is to the end of the string"
      ]
    },
    {
      "cell_type": "code",
      "execution_count": 19,
      "id": "499b878c",
      "metadata": {
        "id": "499b878c",
        "outputId": "9c487f62-b7f5-43ec-94e3-b31188414d95",
        "colab": {
          "base_uri": "https://localhost:8080/"
        }
      },
      "outputs": [
        {
          "output_type": "stream",
          "name": "stdout",
          "text": [
            "1\n"
          ]
        }
      ],
      "source": [
        "txt = \"Hello, welcome to my world.\"\n",
        "x = txt.find(\"e\")\n",
        "print(x)"
      ]
    },
    {
      "cell_type": "code",
      "execution_count": 20,
      "id": "74ec76de",
      "metadata": {
        "id": "74ec76de",
        "outputId": "bdab4fa5-37f9-4218-c4d6-c1a18d5e1b44",
        "colab": {
          "base_uri": "https://localhost:8080/"
        }
      },
      "outputs": [
        {
          "output_type": "stream",
          "name": "stdout",
          "text": [
            "8\n"
          ]
        }
      ],
      "source": [
        "txt = \"Hello, welcome to my world.\"\n",
        "x = txt.find(\"e\", 5, 10)\n",
        "print(x)"
      ]
    },
    {
      "cell_type": "code",
      "execution_count": 21,
      "id": "e22cb1b9",
      "metadata": {
        "id": "e22cb1b9",
        "outputId": "6700c4e3-22e8-4da1-ab0f-c93a6d9b6312",
        "colab": {
          "base_uri": "https://localhost:8080/"
        }
      },
      "outputs": [
        {
          "output_type": "stream",
          "name": "stdout",
          "text": [
            "13\n"
          ]
        }
      ],
      "source": [
        "txt = \"Hello, welcome to my world.\"\n",
        "print(txt.rfind(\"e\"))"
      ]
    },
    {
      "cell_type": "markdown",
      "id": "820626dc",
      "metadata": {
        "id": "820626dc"
      },
      "source": [
        "The `split()` method splits a string into a list. You can specify the separator, default separator is any whitespace.<br>\n",
        "Note: When maxsplit is specified, the list will contain the specified number of elements plus one.<br>\n",
        "`string.split(separator, maxsplit)`<br>\n",
        "separator: Optional. Specifies the separator to use when splitting the string. By default any whitespace is a separator<br>\n",
        "maxsplit: Optional. Specifies how many splits to do. Default value is -1, which is \"all occurrences\""
      ]
    },
    {
      "cell_type": "code",
      "execution_count": null,
      "id": "65d45a9a",
      "metadata": {
        "id": "65d45a9a",
        "outputId": "1fdbe163-b2ed-45f1-c8a2-73736d562c98"
      },
      "outputs": [
        {
          "name": "stdout",
          "output_type": "stream",
          "text": [
            "['hello', 'my name is Peter', 'I am 26 years old']\n"
          ]
        }
      ],
      "source": [
        "txt = \"hello, my name is Peter, I am 26 years old\"\n",
        "x = txt.split(\", \")\n",
        "print(x)"
      ]
    },
    {
      "cell_type": "code",
      "execution_count": null,
      "id": "7569a41c",
      "metadata": {
        "id": "7569a41c",
        "outputId": "0e628adc-fea4-4d26-d481-0257ee52dcd5"
      },
      "outputs": [
        {
          "name": "stdout",
          "output_type": "stream",
          "text": [
            "['apple', 'banana', 'cherry', 'orange']\n"
          ]
        }
      ],
      "source": [
        "txt = \"apple#banana#cherry#orange\"\n",
        "x = txt.split(\"#\")\n",
        "print(x)"
      ]
    },
    {
      "cell_type": "code",
      "execution_count": null,
      "id": "5ead6446",
      "metadata": {
        "id": "5ead6446",
        "outputId": "79dbff47-1a68-470d-cb0a-71eab5755052"
      },
      "outputs": [
        {
          "name": "stdout",
          "output_type": "stream",
          "text": [
            "['apple', 'banana#cherry#orange']\n"
          ]
        }
      ],
      "source": [
        "txt = \"apple#banana#cherry#orange\"\n",
        "# setting the maxsplit parameter to 1, will return a list with 2 elements!\n",
        "x = txt.split(\"#\", 1)\n",
        "print(x)"
      ]
    },
    {
      "cell_type": "markdown",
      "id": "9b8de4b1",
      "metadata": {
        "id": "9b8de4b1"
      },
      "source": [
        "The `strip()` method removes any leading (spaces at the beginning) and trailing (spaces at the end) characters (space is the default leading character to remove)<br>\n",
        "`string.strip(characters)`<br>\n",
        "characters: Optional. A set of characters to remove as leading/trailing characters"
      ]
    },
    {
      "cell_type": "code",
      "execution_count": null,
      "id": "7d9fda9b",
      "metadata": {
        "id": "7d9fda9b",
        "outputId": "891340d1-79ec-4ae3-973c-65fe775eca8c"
      },
      "outputs": [
        {
          "name": "stdout",
          "output_type": "stream",
          "text": [
            "of all fruits banana is my favorite\n"
          ]
        }
      ],
      "source": [
        "txt = \"     banana     \"\n",
        "x = txt.strip()\n",
        "print(\"of all fruits\", x, \"is my favorite\")"
      ]
    },
    {
      "cell_type": "code",
      "execution_count": null,
      "id": "d0203bab",
      "metadata": {
        "id": "d0203bab",
        "outputId": "4f26480f-5f64-48d6-ea5b-4841bca5ea21"
      },
      "outputs": [
        {
          "name": "stdout",
          "output_type": "stream",
          "text": [
            "banana\n"
          ]
        }
      ],
      "source": [
        "txt = \",,,,,rrttgg.....banana....rrr\"\n",
        "x = txt.strip(\",.grt\")\n",
        "print(x)"
      ]
    },
    {
      "cell_type": "markdown",
      "id": "1b50dd78",
      "metadata": {
        "id": "1b50dd78"
      },
      "source": [
        "The `lstrip()` method removes any leading characters (space is the default leading character to remove)<br>\n",
        "`string.lstrip(characters)`\n",
        "characters: Optional. A set of characters to remove as leading characters"
      ]
    },
    {
      "cell_type": "code",
      "execution_count": null,
      "id": "c9f56a6f",
      "metadata": {
        "id": "c9f56a6f",
        "outputId": "a7752cf3-72c9-4434-f407-1d81ecc9aa5a"
      },
      "outputs": [
        {
          "name": "stdout",
          "output_type": "stream",
          "text": [
            "banana      is yummy\n",
            "     banana is yummy\n"
          ]
        }
      ],
      "source": [
        "txt = \"     banana     \"\n",
        "print(txt.lstrip(), 'is yummy')\n",
        "print(txt.rstrip(), 'is yummy')"
      ]
    },
    {
      "cell_type": "code",
      "execution_count": null,
      "id": "34e06d6a",
      "metadata": {
        "scrolled": true,
        "id": "34e06d6a",
        "outputId": "b6e3c2a3-ec2a-49da-8b09-7c5ae1c3880e"
      },
      "outputs": [
        {
          "name": "stdout",
          "output_type": "stream",
          "text": [
            "banana\n"
          ]
        }
      ],
      "source": [
        "txt = \",,,,,ssaaww.....banana\"\n",
        "x = txt.lstrip(\",.asw\")\n",
        "print(x)"
      ]
    },
    {
      "cell_type": "code",
      "execution_count": null,
      "id": "c770b210",
      "metadata": {
        "id": "c770b210"
      },
      "outputs": [],
      "source": []
    },
    {
      "cell_type": "code",
      "execution_count": null,
      "id": "6f3c6633",
      "metadata": {
        "id": "6f3c6633"
      },
      "outputs": [],
      "source": []
    },
    {
      "cell_type": "code",
      "execution_count": null,
      "id": "5a335b33",
      "metadata": {
        "id": "5a335b33"
      },
      "outputs": [],
      "source": []
    }
  ],
  "metadata": {
    "kernelspec": {
      "display_name": "Python 3 (ipykernel)",
      "language": "python",
      "name": "python3"
    },
    "language_info": {
      "codemirror_mode": {
        "name": "ipython",
        "version": 3
      },
      "file_extension": ".py",
      "mimetype": "text/x-python",
      "name": "python",
      "nbconvert_exporter": "python",
      "pygments_lexer": "ipython3",
      "version": "3.8.8"
    },
    "colab": {
      "provenance": [],
      "include_colab_link": true
    }
  },
  "nbformat": 4,
  "nbformat_minor": 5
}